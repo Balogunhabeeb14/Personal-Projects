{
  "cells": [
    {
      "cell_type": "markdown",
      "metadata": {
        "id": "V8KSo5Bb3T5h"
      },
      "source": [
        "# Important - Instructions\n",
        "**Make a copy of this notebook and do your work there. Save your notebook frequently and finally upload it on coderbyte within the timelimit.**\n",
        "\n",
        "This notebook is divided into three sections, each dedicated to solving a specific task involving an autoencoder for the MNIST dataset. The tasks include fixing training issues, optimizing performance, and generating images.\n",
        "\n",
        "At the end of each secion, briefly summarise what ideas/methods/changes (even those that you think didn't work) you've done for the section very briefly. This shouldn't take you more than ~5 minutes of your whole time.\n",
        "\n",
        "# Overview of the tasks:\n",
        "- **Fix Errors in Autoencoder Training/Inference:** Resolve any bugs in the training or inference process of the autoencoder.\n",
        "- **Enhance Validation Loss:** Improve the autoencoder's performance by minimizing the validation loss.\n",
        "- **Generate Images with the Optimized Model:** Use the best-trained model to generate images.\n",
        "\n",
        "# Guidelines:\n",
        "- **Imports:** Use only the imports already provided in the notebook. Any new import statements will be removed during evaluation.\n",
        "- **Protected Code:** Certain cells are marked with # DO NOT MODIFY. Leave the code in these cells unchanged, but you may run the code.\n",
        "- **Efficiency:** Ensure your solutions are written with efficiency in mind wherever applicable."
      ]
    },
    {
      "cell_type": "markdown",
      "metadata": {
        "id": "mojjOgL6Yu7a"
      },
      "source": [
        "# Setup\n",
        "You just have to run the code in this section"
      ]
    },
    {
      "cell_type": "code",
      "execution_count": 1,
      "metadata": {
        "id": "drvXzCg-0Cqs",
        "colab": {
          "base_uri": "https://localhost:8080/"
        },
        "outputId": "39bc375d-0e25-4daa-f5ba-180accec4b44"
      },
      "outputs": [
        {
          "output_type": "stream",
          "name": "stdout",
          "text": [
            "Looking in indexes: https://download.pytorch.org/whl/cpu\n",
            "Requirement already satisfied: torch in /usr/local/lib/python3.11/dist-packages (2.5.1+cu121)\n",
            "Requirement already satisfied: torchvision in /usr/local/lib/python3.11/dist-packages (0.20.1+cu121)\n",
            "Requirement already satisfied: filelock in /usr/local/lib/python3.11/dist-packages (from torch) (3.16.1)\n",
            "Requirement already satisfied: typing-extensions>=4.8.0 in /usr/local/lib/python3.11/dist-packages (from torch) (4.12.2)\n",
            "Requirement already satisfied: networkx in /usr/local/lib/python3.11/dist-packages (from torch) (3.4.2)\n",
            "Requirement already satisfied: jinja2 in /usr/local/lib/python3.11/dist-packages (from torch) (3.1.5)\n",
            "Requirement already satisfied: fsspec in /usr/local/lib/python3.11/dist-packages (from torch) (2024.10.0)\n",
            "Requirement already satisfied: nvidia-cuda-nvrtc-cu12==12.1.105 in /usr/local/lib/python3.11/dist-packages (from torch) (12.1.105)\n",
            "Requirement already satisfied: nvidia-cuda-runtime-cu12==12.1.105 in /usr/local/lib/python3.11/dist-packages (from torch) (12.1.105)\n",
            "Requirement already satisfied: nvidia-cuda-cupti-cu12==12.1.105 in /usr/local/lib/python3.11/dist-packages (from torch) (12.1.105)\n",
            "Requirement already satisfied: nvidia-cudnn-cu12==9.1.0.70 in /usr/local/lib/python3.11/dist-packages (from torch) (9.1.0.70)\n",
            "Requirement already satisfied: nvidia-cublas-cu12==12.1.3.1 in /usr/local/lib/python3.11/dist-packages (from torch) (12.1.3.1)\n",
            "Requirement already satisfied: nvidia-cufft-cu12==11.0.2.54 in /usr/local/lib/python3.11/dist-packages (from torch) (11.0.2.54)\n",
            "Requirement already satisfied: nvidia-curand-cu12==10.3.2.106 in /usr/local/lib/python3.11/dist-packages (from torch) (10.3.2.106)\n",
            "Requirement already satisfied: nvidia-cusolver-cu12==11.4.5.107 in /usr/local/lib/python3.11/dist-packages (from torch) (11.4.5.107)\n",
            "Requirement already satisfied: nvidia-cusparse-cu12==12.1.0.106 in /usr/local/lib/python3.11/dist-packages (from torch) (12.1.0.106)\n",
            "Requirement already satisfied: nvidia-nccl-cu12==2.21.5 in /usr/local/lib/python3.11/dist-packages (from torch) (2.21.5)\n",
            "Requirement already satisfied: nvidia-nvtx-cu12==12.1.105 in /usr/local/lib/python3.11/dist-packages (from torch) (12.1.105)\n",
            "Requirement already satisfied: triton==3.1.0 in /usr/local/lib/python3.11/dist-packages (from torch) (3.1.0)\n",
            "Requirement already satisfied: sympy==1.13.1 in /usr/local/lib/python3.11/dist-packages (from torch) (1.13.1)\n",
            "Requirement already satisfied: nvidia-nvjitlink-cu12 in /usr/local/lib/python3.11/dist-packages (from nvidia-cusolver-cu12==11.4.5.107->torch) (12.6.85)\n",
            "Requirement already satisfied: mpmath<1.4,>=1.1.0 in /usr/local/lib/python3.11/dist-packages (from sympy==1.13.1->torch) (1.3.0)\n",
            "Requirement already satisfied: numpy in /usr/local/lib/python3.11/dist-packages (from torchvision) (1.26.4)\n",
            "Requirement already satisfied: pillow!=8.3.*,>=5.3.0 in /usr/local/lib/python3.11/dist-packages (from torchvision) (11.1.0)\n",
            "Requirement already satisfied: MarkupSafe>=2.0 in /usr/local/lib/python3.11/dist-packages (from jinja2->torch) (3.0.2)\n",
            "Requirement already satisfied: gdown in /usr/local/lib/python3.11/dist-packages (5.2.0)\n",
            "Requirement already satisfied: beautifulsoup4 in /usr/local/lib/python3.11/dist-packages (from gdown) (4.12.3)\n",
            "Requirement already satisfied: filelock in /usr/local/lib/python3.11/dist-packages (from gdown) (3.16.1)\n",
            "Requirement already satisfied: requests[socks] in /usr/local/lib/python3.11/dist-packages (from gdown) (2.32.3)\n",
            "Requirement already satisfied: tqdm in /usr/local/lib/python3.11/dist-packages (from gdown) (4.67.1)\n",
            "Requirement already satisfied: soupsieve>1.2 in /usr/local/lib/python3.11/dist-packages (from beautifulsoup4->gdown) (2.6)\n",
            "Requirement already satisfied: charset-normalizer<4,>=2 in /usr/local/lib/python3.11/dist-packages (from requests[socks]->gdown) (3.4.1)\n",
            "Requirement already satisfied: idna<4,>=2.5 in /usr/local/lib/python3.11/dist-packages (from requests[socks]->gdown) (3.10)\n",
            "Requirement already satisfied: urllib3<3,>=1.21.1 in /usr/local/lib/python3.11/dist-packages (from requests[socks]->gdown) (2.3.0)\n",
            "Requirement already satisfied: certifi>=2017.4.17 in /usr/local/lib/python3.11/dist-packages (from requests[socks]->gdown) (2024.12.14)\n",
            "Requirement already satisfied: PySocks!=1.5.7,>=1.5.6 in /usr/local/lib/python3.11/dist-packages (from requests[socks]->gdown) (1.7.1)\n"
          ]
        }
      ],
      "source": [
        "! pip install torch torchvision --index-url https://download.pytorch.org/whl/cpu\n",
        "! pip install gdown"
      ]
    },
    {
      "cell_type": "code",
      "execution_count": 1,
      "metadata": {
        "id": "uZho3T0-nlxQ"
      },
      "outputs": [],
      "source": [
        "# DO NOT MODIFY\n",
        "import os\n",
        "import matplotlib.pyplot as plt\n",
        "import numpy as np\n",
        "import random\n",
        "import torch\n",
        "import time\n",
        "from numpy.typing import NDArray\n",
        "from torch import nn, optim\n",
        "from torch.utils.data import DataLoader\n",
        "from tqdm import tqdm\n",
        "\n",
        "\n",
        "def seed_everything(seed=42):\n",
        "    random.seed(seed)\n",
        "    os.environ['PYTHONHASHSEED'] = str(seed)\n",
        "    np.random.seed(seed)\n",
        "    torch.manual_seed(seed)\n",
        "    torch.cuda.manual_seed(seed)\n",
        "    torch.backends.cudnn.deterministic = True\n",
        "\n",
        "seed_everything()"
      ]
    },
    {
      "cell_type": "code",
      "execution_count": 2,
      "metadata": {
        "id": "T4YfLCzd0Cqu",
        "colab": {
          "base_uri": "https://localhost:8080/",
          "height": 192
        },
        "outputId": "f210daf2-6d7d-4102-bbeb-e7228d400d28"
      },
      "outputs": [
        {
          "output_type": "stream",
          "name": "stderr",
          "text": [
            "Downloading...\n",
            "From (original): https://drive.google.com/uc?id=1JMd32keTqqUAofWRPBnIg9PpusJD8mYt\n",
            "From (redirected): https://drive.google.com/uc?id=1JMd32keTqqUAofWRPBnIg9PpusJD8mYt&confirm=t&uuid=e3f199fd-9497-4f04-9859-73184e02d6af\n",
            "To: /content/data/mnist_dataset_train.pt\n",
            "100%|██████████| 47.5M/47.5M [00:00<00:00, 77.8MB/s]\n",
            "Downloading...\n",
            "From: https://drive.google.com/uc?id=1OG8mBivCdXBwH8uCMvjWnVhHFtRagmSU\n",
            "To: /content/data/mnist_dataset_test.pt\n",
            "100%|██████████| 7.92M/7.92M [00:00<00:00, 132MB/s]\n"
          ]
        },
        {
          "output_type": "execute_result",
          "data": {
            "text/plain": [
              "'data/mnist_dataset_test.pt'"
            ],
            "application/vnd.google.colaboratory.intrinsic+json": {
              "type": "string"
            }
          },
          "metadata": {},
          "execution_count": 2
        }
      ],
      "source": [
        "# DO NOT MODIFY\n",
        "import gdown\n",
        "\n",
        "os.makedirs(\"data\", exist_ok=True)\n",
        "\n",
        "mnist_train_file_id = \"1JMd32keTqqUAofWRPBnIg9PpusJD8mYt\"\n",
        "mnist_train_output = \"data/mnist_dataset_train.pt\"  # Desired filename for the downloaded file\n",
        "\n",
        "mnist_test_file_id = \"1OG8mBivCdXBwH8uCMvjWnVhHFtRagmSU\"\n",
        "mnist_test_output = \"data/mnist_dataset_test.pt\"  # Desired filename for the downloaded file\n",
        "\n",
        "# Download the file\n",
        "gdown.download(f\"https://drive.google.com/uc?id={mnist_train_file_id}\", mnist_train_output, quiet=False)\n",
        "gdown.download(f\"https://drive.google.com/uc?id={mnist_test_file_id}\", mnist_test_output, quiet=False)"
      ]
    },
    {
      "cell_type": "code",
      "execution_count": null,
      "metadata": {
        "id": "Wyc7kBTgNY7g"
      },
      "outputs": [],
      "source": [
        "# DO NOT MODIFY\n",
        "import gdown\n",
        "file_id = \"1v_-Gq58ee7w2WM977O4qXCiLhhGRwHVb\"\n",
        "output = \"advanced_autoencoder_model.pth\"  # Desired filename for the downloaded file\n",
        "\n",
        "# Download the file\n",
        "gdown.download(f\"https://drive.google.com/uc?id={file_id}\", output, quiet=False)\n",
        "\n",
        "def load_pretrained_model():\n",
        "  model = torch.load(\"advanced_autoencoder_model.pth\")\n",
        "  model.eval()\n",
        "  return model"
      ]
    },
    {
      "cell_type": "markdown",
      "metadata": {
        "id": "2ZFkZMKwEAj0"
      },
      "source": [
        "# Section 1 - Fix autoencoder training\n",
        " This section doesn't require you to write a lot of code,  rather requires your attention to the details of standard ML training and inference.\n",
        "\n",
        "**Expected time on this section: 20 minutes**<br>\n",
        "**Maximum time on this section: 30 minutes**\n",
        "\n",
        "In this section, you are given an AutoEncoder implementation along with code to train this model on reconstruction of MNIST images.\n",
        "\n",
        "If you run the code as is, you will observe the visualisation doesn't work as expected. Your task is to figure out the bugs and fix them.\n",
        "\n",
        "You know you have resolved the bugs if loss decreases considerably within 2 epochs and you are able to visualise non-trivial images reconstructed by the autoencoder (code for visualisation is provided at the end of this section)."
      ]
    },
    {
      "cell_type": "code",
      "execution_count": 17,
      "metadata": {
        "id": "4BCOJiKzFDOT"
      },
      "outputs": [],
      "source": [
        "# DO NOT MODIFY\n",
        "class Autoencoder(nn.Module):\n",
        "    def __init__(self):\n",
        "        super(Autoencoder, self).__init__()\n",
        "        self.encoder = nn.Sequential(\n",
        "            nn.Flatten(),\n",
        "            nn.Linear(28 * 28, 128),\n",
        "            nn.ReLU(),\n",
        "            nn.Linear(128, 64),\n",
        "            nn.ReLU(),\n",
        "            nn.Linear(64, 32)\n",
        "        )\n",
        "        self.decoder = nn.Sequential(\n",
        "            nn.Linear(32, 64),\n",
        "            nn.ReLU(),\n",
        "            nn.Linear(64, 128),\n",
        "            nn.ReLU(),\n",
        "            nn.Linear(128, 28 * 28),\n",
        "            nn.Sigmoid()\n",
        "        )\n",
        "\n",
        "    def forward(self, x):\n",
        "        x = self.encoder(x)\n",
        "        x = self.decoder(x)\n",
        "        return x"
      ]
    },
    {
      "cell_type": "code",
      "execution_count": 34,
      "metadata": {
        "id": "CQib-F6UFHhJ"
      },
      "outputs": [],
      "source": [
        "model = Autoencoder()\n",
        "#criterion = nn.BCEWithLogitsLoss()\n",
        "#fix the loss function\n",
        "criterion = nn.BCELoss()\n",
        "optimizer = optim.Adam(model.parameters(), lr=0.0001)"
      ]
    },
    {
      "cell_type": "code",
      "execution_count": 35,
      "metadata": {
        "id": "jluvwqg20Cqx"
      },
      "outputs": [],
      "source": [
        "def toTensor(x):\n",
        "  #return torch.from_numpy(np.array(x)).float()\n",
        "  #normalize to [0,1]\n",
        "  return torch.from_numpy(np.array(x)).float()/255.0"
      ]
    },
    {
      "cell_type": "code",
      "execution_count": 36,
      "metadata": {
        "id": "dTLe4O2k0Cqx",
        "colab": {
          "base_uri": "https://localhost:8080/"
        },
        "outputId": "75ab8d0b-daaa-471e-e34e-7e6c84c01766"
      },
      "outputs": [
        {
          "output_type": "stream",
          "name": "stderr",
          "text": [
            "<ipython-input-36-2b50a8a45dff>:1: FutureWarning: You are using `torch.load` with `weights_only=False` (the current default value), which uses the default pickle module implicitly. It is possible to construct malicious pickle data which will execute arbitrary code during unpickling (See https://github.com/pytorch/pytorch/blob/main/SECURITY.md#untrusted-models for more details). In a future release, the default value for `weights_only` will be flipped to `True`. This limits the functions that could be executed during unpickling. Arbitrary objects will no longer be allowed to be loaded via this mode unless they are explicitly allowlisted by the user via `torch.serialization.add_safe_globals`. We recommend you start setting `weights_only=True` for any use case where you don't have full control of the loaded file. Please open an issue on GitHub for any issues related to this experimental feature.\n",
            "  train_dataset = torch.load('data/mnist_dataset_train.pt')\n",
            "<ipython-input-36-2b50a8a45dff>:4: FutureWarning: You are using `torch.load` with `weights_only=False` (the current default value), which uses the default pickle module implicitly. It is possible to construct malicious pickle data which will execute arbitrary code during unpickling (See https://github.com/pytorch/pytorch/blob/main/SECURITY.md#untrusted-models for more details). In a future release, the default value for `weights_only` will be flipped to `True`. This limits the functions that could be executed during unpickling. Arbitrary objects will no longer be allowed to be loaded via this mode unless they are explicitly allowlisted by the user via `torch.serialization.add_safe_globals`. We recommend you start setting `weights_only=True` for any use case where you don't have full control of the loaded file. Please open an issue on GitHub for any issues related to this experimental feature.\n",
            "  test_dataset = torch.load('data/mnist_dataset_test.pt')\n"
          ]
        }
      ],
      "source": [
        "train_dataset = torch.load('data/mnist_dataset_train.pt')\n",
        "train_dataset.transform = toTensor\n",
        "\n",
        "test_dataset = torch.load('data/mnist_dataset_test.pt')\n",
        "test_dataset.transform = toTensor"
      ]
    },
    {
      "cell_type": "code",
      "execution_count": 37,
      "metadata": {
        "id": "3b1tlMJM-ajs",
        "colab": {
          "base_uri": "https://localhost:8080/",
          "height": 1000
        },
        "outputId": "c9720438-354f-4e93-86e1-90d8c13611c6"
      },
      "outputs": [
        {
          "output_type": "stream",
          "name": "stderr",
          "text": [
            "Epoch 1:   1%|          | 7/938 [00:00<00:14, 62.71it/s]"
          ]
        },
        {
          "output_type": "stream",
          "name": "stdout",
          "text": [
            "outputs shape: torch.Size([64, 784]), inputs shape: torch.Size([64, 1, 28, 28])\n",
            "outputs shape: torch.Size([64, 1, 28, 28]), inputs shape: torch.Size([64, 1, 28, 28])\n",
            "outputs shape: torch.Size([64, 784]), inputs shape: torch.Size([64, 1, 28, 28])\n",
            "outputs shape: torch.Size([64, 1, 28, 28]), inputs shape: torch.Size([64, 1, 28, 28])\n",
            "outputs shape: torch.Size([64, 784]), inputs shape: torch.Size([64, 1, 28, 28])\n",
            "outputs shape: torch.Size([64, 1, 28, 28]), inputs shape: torch.Size([64, 1, 28, 28])\n",
            "outputs shape: torch.Size([64, 784]), inputs shape: torch.Size([64, 1, 28, 28])\n",
            "outputs shape: torch.Size([64, 1, 28, 28]), inputs shape: torch.Size([64, 1, 28, 28])\n",
            "outputs shape: torch.Size([64, 784]), inputs shape: torch.Size([64, 1, 28, 28])\n",
            "outputs shape: torch.Size([64, 1, 28, 28]), inputs shape: torch.Size([64, 1, 28, 28])\n",
            "outputs shape: torch.Size([64, 784]), inputs shape: torch.Size([64, 1, 28, 28])\n",
            "outputs shape: torch.Size([64, 1, 28, 28]), inputs shape: torch.Size([64, 1, 28, 28])\n",
            "outputs shape: torch.Size([64, 784]), inputs shape: torch.Size([64, 1, 28, 28])\n",
            "outputs shape: torch.Size([64, 1, 28, 28]), inputs shape: torch.Size([64, 1, 28, 28])\n",
            "outputs shape: torch.Size([64, 784]), inputs shape: torch.Size([64, 1, 28, 28])\n",
            "outputs shape: torch.Size([64, 1, 28, 28]), inputs shape: torch.Size([64, 1, 28, 28])\n",
            "outputs shape: torch.Size([64, 784]), inputs shape: torch.Size([64, 1, 28, 28])\n",
            "outputs shape: torch.Size([64, 1, 28, 28]), inputs shape: torch.Size([64, 1, 28, 28])\n",
            "outputs shape: torch.Size([64, 784]), inputs shape: torch.Size([64, 1, 28, 28])\n",
            "outputs shape: torch.Size([64, 1, 28, 28]), inputs shape: torch.Size([64, 1, 28, 28])\n",
            "outputs shape: torch.Size([64, 784]), inputs shape: torch.Size([64, 1, 28, 28])\n",
            "outputs shape: torch.Size([64, 1, 28, 28]), inputs shape: torch.Size([64, 1, 28, 28])\n",
            "outputs shape: torch.Size([64, 784]), inputs shape: torch.Size([64, 1, 28, 28])\n",
            "outputs shape: torch.Size([64, 1, 28, 28]), inputs shape: torch.Size([64, 1, 28, 28])\n",
            "outputs shape: torch.Size([64, 784]), inputs shape: torch.Size([64, 1, 28, 28])\n",
            "outputs shape: torch.Size([64, 1, 28, 28]), inputs shape: torch.Size([64, 1, 28, 28])\n",
            "outputs shape: torch.Size([64, 784]), inputs shape: torch.Size([64, 1, 28, 28])\n",
            "outputs shape: torch.Size([64, 1, 28, 28]), inputs shape: torch.Size([64, 1, 28, 28])\n"
          ]
        },
        {
          "output_type": "stream",
          "name": "stderr",
          "text": [
            "Epoch 1:   2%|▏         | 22/938 [00:00<00:13, 67.61it/s]"
          ]
        },
        {
          "output_type": "stream",
          "name": "stdout",
          "text": [
            "outputs shape: torch.Size([64, 784]), inputs shape: torch.Size([64, 1, 28, 28])\n",
            "outputs shape: torch.Size([64, 1, 28, 28]), inputs shape: torch.Size([64, 1, 28, 28])\n",
            "outputs shape: torch.Size([64, 784]), inputs shape: torch.Size([64, 1, 28, 28])\n",
            "outputs shape: torch.Size([64, 1, 28, 28]), inputs shape: torch.Size([64, 1, 28, 28])\n",
            "outputs shape: torch.Size([64, 784]), inputs shape: torch.Size([64, 1, 28, 28])\n",
            "outputs shape: torch.Size([64, 1, 28, 28]), inputs shape: torch.Size([64, 1, 28, 28])\n",
            "outputs shape: torch.Size([64, 784]), inputs shape: torch.Size([64, 1, 28, 28])\n",
            "outputs shape: torch.Size([64, 1, 28, 28]), inputs shape: torch.Size([64, 1, 28, 28])\n",
            "outputs shape: torch.Size([64, 784]), inputs shape: torch.Size([64, 1, 28, 28])\n",
            "outputs shape: torch.Size([64, 1, 28, 28]), inputs shape: torch.Size([64, 1, 28, 28])\n",
            "outputs shape: torch.Size([64, 784]), inputs shape: torch.Size([64, 1, 28, 28])\n",
            "outputs shape: torch.Size([64, 1, 28, 28]), inputs shape: torch.Size([64, 1, 28, 28])\n",
            "outputs shape: torch.Size([64, 784]), inputs shape: torch.Size([64, 1, 28, 28])\n",
            "outputs shape: torch.Size([64, 1, 28, 28]), inputs shape: torch.Size([64, 1, 28, 28])\n",
            "outputs shape: torch.Size([64, 784]), inputs shape: torch.Size([64, 1, 28, 28])\n",
            "outputs shape: torch.Size([64, 1, 28, 28]), inputs shape: torch.Size([64, 1, 28, 28])\n",
            "outputs shape: torch.Size([64, 784]), inputs shape: torch.Size([64, 1, 28, 28])\n",
            "outputs shape: torch.Size([64, 1, 28, 28]), inputs shape: torch.Size([64, 1, 28, 28])\n",
            "outputs shape: torch.Size([64, 784]), inputs shape: torch.Size([64, 1, 28, 28])\n",
            "outputs shape: torch.Size([64, 1, 28, 28]), inputs shape: torch.Size([64, 1, 28, 28])\n",
            "outputs shape: torch.Size([64, 784]), inputs shape: torch.Size([64, 1, 28, 28])\n",
            "outputs shape: torch.Size([64, 1, 28, 28]), inputs shape: torch.Size([64, 1, 28, 28])\n",
            "outputs shape: torch.Size([64, 784]), inputs shape: torch.Size([64, 1, 28, 28])\n",
            "outputs shape: torch.Size([64, 1, 28, 28]), inputs shape: torch.Size([64, 1, 28, 28])\n",
            "outputs shape: torch.Size([64, 784]), inputs shape: torch.Size([64, 1, 28, 28])\n",
            "outputs shape: torch.Size([64, 1, 28, 28]), inputs shape: torch.Size([64, 1, 28, 28])\n",
            "outputs shape: torch.Size([64, 784]), inputs shape: torch.Size([64, 1, 28, 28])\n",
            "outputs shape: torch.Size([64, 1, 28, 28]), inputs shape: torch.Size([64, 1, 28, 28])\n"
          ]
        },
        {
          "output_type": "stream",
          "name": "stderr",
          "text": [
            "Epoch 1:   4%|▍         | 36/938 [00:00<00:13, 65.50it/s]"
          ]
        },
        {
          "output_type": "stream",
          "name": "stdout",
          "text": [
            "outputs shape: torch.Size([64, 784]), inputs shape: torch.Size([64, 1, 28, 28])\n",
            "outputs shape: torch.Size([64, 1, 28, 28]), inputs shape: torch.Size([64, 1, 28, 28])\n",
            "outputs shape: torch.Size([64, 784]), inputs shape: torch.Size([64, 1, 28, 28])\n",
            "outputs shape: torch.Size([64, 1, 28, 28]), inputs shape: torch.Size([64, 1, 28, 28])\n",
            "outputs shape: torch.Size([64, 784]), inputs shape: torch.Size([64, 1, 28, 28])\n",
            "outputs shape: torch.Size([64, 1, 28, 28]), inputs shape: torch.Size([64, 1, 28, 28])\n",
            "outputs shape: torch.Size([64, 784]), inputs shape: torch.Size([64, 1, 28, 28])\n",
            "outputs shape: torch.Size([64, 1, 28, 28]), inputs shape: torch.Size([64, 1, 28, 28])\n",
            "outputs shape: torch.Size([64, 784]), inputs shape: torch.Size([64, 1, 28, 28])\n",
            "outputs shape: torch.Size([64, 1, 28, 28]), inputs shape: torch.Size([64, 1, 28, 28])\n",
            "outputs shape: torch.Size([64, 784]), inputs shape: torch.Size([64, 1, 28, 28])\n",
            "outputs shape: torch.Size([64, 1, 28, 28]), inputs shape: torch.Size([64, 1, 28, 28])\n",
            "outputs shape: torch.Size([64, 784]), inputs shape: torch.Size([64, 1, 28, 28])\n",
            "outputs shape: torch.Size([64, 1, 28, 28]), inputs shape: torch.Size([64, 1, 28, 28])\n",
            "outputs shape: torch.Size([64, 784]), inputs shape: torch.Size([64, 1, 28, 28])\n",
            "outputs shape: torch.Size([64, 1, 28, 28]), inputs shape: torch.Size([64, 1, 28, 28])\n",
            "outputs shape: torch.Size([64, 784]), inputs shape: torch.Size([64, 1, 28, 28])\n",
            "outputs shape: torch.Size([64, 1, 28, 28]), inputs shape: torch.Size([64, 1, 28, 28])\n",
            "outputs shape: torch.Size([64, 784]), inputs shape: torch.Size([64, 1, 28, 28])\n",
            "outputs shape: torch.Size([64, 1, 28, 28]), inputs shape: torch.Size([64, 1, 28, 28])\n",
            "outputs shape: torch.Size([64, 784]), inputs shape: torch.Size([64, 1, 28, 28])\n",
            "outputs shape: torch.Size([64, 1, 28, 28]), inputs shape: torch.Size([64, 1, 28, 28])\n",
            "outputs shape: torch.Size([64, 784]), inputs shape: torch.Size([64, 1, 28, 28])\n",
            "outputs shape: torch.Size([64, 1, 28, 28]), inputs shape: torch.Size([64, 1, 28, 28])\n",
            "outputs shape: torch.Size([64, 784]), inputs shape: torch.Size([64, 1, 28, 28])\n",
            "outputs shape: torch.Size([64, 1, 28, 28]), inputs shape: torch.Size([64, 1, 28, 28])\n",
            "outputs shape: torch.Size([64, 784]), inputs shape: torch.Size([64, 1, 28, 28])\n",
            "outputs shape: torch.Size([64, 1, 28, 28]), inputs shape: torch.Size([64, 1, 28, 28])\n"
          ]
        },
        {
          "output_type": "stream",
          "name": "stderr",
          "text": [
            "Epoch 1:   5%|▌         | 50/938 [00:00<00:13, 63.52it/s]"
          ]
        },
        {
          "output_type": "stream",
          "name": "stdout",
          "text": [
            "outputs shape: torch.Size([64, 784]), inputs shape: torch.Size([64, 1, 28, 28])\n",
            "outputs shape: torch.Size([64, 1, 28, 28]), inputs shape: torch.Size([64, 1, 28, 28])\n",
            "outputs shape: torch.Size([64, 784]), inputs shape: torch.Size([64, 1, 28, 28])\n",
            "outputs shape: torch.Size([64, 1, 28, 28]), inputs shape: torch.Size([64, 1, 28, 28])\n",
            "outputs shape: torch.Size([64, 784]), inputs shape: torch.Size([64, 1, 28, 28])\n",
            "outputs shape: torch.Size([64, 1, 28, 28]), inputs shape: torch.Size([64, 1, 28, 28])\n",
            "outputs shape: torch.Size([64, 784]), inputs shape: torch.Size([64, 1, 28, 28])\n",
            "outputs shape: torch.Size([64, 1, 28, 28]), inputs shape: torch.Size([64, 1, 28, 28])\n",
            "outputs shape: torch.Size([64, 784]), inputs shape: torch.Size([64, 1, 28, 28])\n",
            "outputs shape: torch.Size([64, 1, 28, 28]), inputs shape: torch.Size([64, 1, 28, 28])\n",
            "outputs shape: torch.Size([64, 784]), inputs shape: torch.Size([64, 1, 28, 28])\n",
            "outputs shape: torch.Size([64, 1, 28, 28]), inputs shape: torch.Size([64, 1, 28, 28])\n",
            "outputs shape: torch.Size([64, 784]), inputs shape: torch.Size([64, 1, 28, 28])\n",
            "outputs shape: torch.Size([64, 1, 28, 28]), inputs shape: torch.Size([64, 1, 28, 28])\n",
            "outputs shape: torch.Size([64, 784]), inputs shape: torch.Size([64, 1, 28, 28])\n",
            "outputs shape: torch.Size([64, 1, 28, 28]), inputs shape: torch.Size([64, 1, 28, 28])\n",
            "outputs shape: torch.Size([64, 784]), inputs shape: torch.Size([64, 1, 28, 28])\n",
            "outputs shape: torch.Size([64, 1, 28, 28]), inputs shape: torch.Size([64, 1, 28, 28])\n",
            "outputs shape: torch.Size([64, 784]), inputs shape: torch.Size([64, 1, 28, 28])\n",
            "outputs shape: torch.Size([64, 1, 28, 28]), inputs shape: torch.Size([64, 1, 28, 28])\n",
            "outputs shape: torch.Size([64, 784]), inputs shape: torch.Size([64, 1, 28, 28])\n",
            "outputs shape: torch.Size([64, 1, 28, 28]), inputs shape: torch.Size([64, 1, 28, 28])\n",
            "outputs shape: torch.Size([64, 784]), inputs shape: torch.Size([64, 1, 28, 28])\n",
            "outputs shape: torch.Size([64, 1, 28, 28]), inputs shape: torch.Size([64, 1, 28, 28])\n",
            "outputs shape: torch.Size([64, 784]), inputs shape: torch.Size([64, 1, 28, 28])\n",
            "outputs shape: torch.Size([64, 1, 28, 28]), inputs shape: torch.Size([64, 1, 28, 28])\n"
          ]
        },
        {
          "output_type": "stream",
          "name": "stderr",
          "text": [
            "Epoch 1:   7%|▋         | 64/938 [00:00<00:13, 65.31it/s]"
          ]
        },
        {
          "output_type": "stream",
          "name": "stdout",
          "text": [
            "outputs shape: torch.Size([64, 784]), inputs shape: torch.Size([64, 1, 28, 28])\n",
            "outputs shape: torch.Size([64, 1, 28, 28]), inputs shape: torch.Size([64, 1, 28, 28])\n",
            "outputs shape: torch.Size([64, 784]), inputs shape: torch.Size([64, 1, 28, 28])\n",
            "outputs shape: torch.Size([64, 1, 28, 28]), inputs shape: torch.Size([64, 1, 28, 28])\n",
            "outputs shape: torch.Size([64, 784]), inputs shape: torch.Size([64, 1, 28, 28])\n",
            "outputs shape: torch.Size([64, 1, 28, 28]), inputs shape: torch.Size([64, 1, 28, 28])\n",
            "outputs shape: torch.Size([64, 784]), inputs shape: torch.Size([64, 1, 28, 28])\n",
            "outputs shape: torch.Size([64, 1, 28, 28]), inputs shape: torch.Size([64, 1, 28, 28])\n",
            "outputs shape: torch.Size([64, 784]), inputs shape: torch.Size([64, 1, 28, 28])\n",
            "outputs shape: torch.Size([64, 1, 28, 28]), inputs shape: torch.Size([64, 1, 28, 28])\n",
            "outputs shape: torch.Size([64, 784]), inputs shape: torch.Size([64, 1, 28, 28])\n",
            "outputs shape: torch.Size([64, 1, 28, 28]), inputs shape: torch.Size([64, 1, 28, 28])\n",
            "outputs shape: torch.Size([64, 784]), inputs shape: torch.Size([64, 1, 28, 28])\n",
            "outputs shape: torch.Size([64, 1, 28, 28]), inputs shape: torch.Size([64, 1, 28, 28])\n",
            "outputs shape: torch.Size([64, 784]), inputs shape: torch.Size([64, 1, 28, 28])\n",
            "outputs shape: torch.Size([64, 1, 28, 28]), inputs shape: torch.Size([64, 1, 28, 28])\n",
            "outputs shape: torch.Size([64, 784]), inputs shape: torch.Size([64, 1, 28, 28])\n",
            "outputs shape: torch.Size([64, 1, 28, 28]), inputs shape: torch.Size([64, 1, 28, 28])\n",
            "outputs shape: torch.Size([64, 784]), inputs shape: torch.Size([64, 1, 28, 28])\n",
            "outputs shape: torch.Size([64, 1, 28, 28]), inputs shape: torch.Size([64, 1, 28, 28])\n",
            "outputs shape: torch.Size([64, 784]), inputs shape: torch.Size([64, 1, 28, 28])\n",
            "outputs shape: torch.Size([64, 1, 28, 28]), inputs shape: torch.Size([64, 1, 28, 28])\n",
            "outputs shape: torch.Size([64, 784]), inputs shape: torch.Size([64, 1, 28, 28])\n",
            "outputs shape: torch.Size([64, 1, 28, 28]), inputs shape: torch.Size([64, 1, 28, 28])\n",
            "outputs shape: torch.Size([64, 784]), inputs shape: torch.Size([64, 1, 28, 28])\n",
            "outputs shape: torch.Size([64, 1, 28, 28]), inputs shape: torch.Size([64, 1, 28, 28])\n",
            "outputs shape: torch.Size([64, 784]), inputs shape: torch.Size([64, 1, 28, 28])\n",
            "outputs shape: torch.Size([64, 1, 28, 28]), inputs shape: torch.Size([64, 1, 28, 28])\n"
          ]
        },
        {
          "output_type": "stream",
          "name": "stderr",
          "text": [
            "Epoch 1:   8%|▊         | 78/938 [00:01<00:13, 64.84it/s]"
          ]
        },
        {
          "output_type": "stream",
          "name": "stdout",
          "text": [
            "outputs shape: torch.Size([64, 784]), inputs shape: torch.Size([64, 1, 28, 28])\n",
            "outputs shape: torch.Size([64, 1, 28, 28]), inputs shape: torch.Size([64, 1, 28, 28])\n",
            "outputs shape: torch.Size([64, 784]), inputs shape: torch.Size([64, 1, 28, 28])\n",
            "outputs shape: torch.Size([64, 1, 28, 28]), inputs shape: torch.Size([64, 1, 28, 28])\n",
            "outputs shape: torch.Size([64, 784]), inputs shape: torch.Size([64, 1, 28, 28])\n",
            "outputs shape: torch.Size([64, 1, 28, 28]), inputs shape: torch.Size([64, 1, 28, 28])\n",
            "outputs shape: torch.Size([64, 784]), inputs shape: torch.Size([64, 1, 28, 28])\n",
            "outputs shape: torch.Size([64, 1, 28, 28]), inputs shape: torch.Size([64, 1, 28, 28])\n",
            "outputs shape: torch.Size([64, 784]), inputs shape: torch.Size([64, 1, 28, 28])\n",
            "outputs shape: torch.Size([64, 1, 28, 28]), inputs shape: torch.Size([64, 1, 28, 28])\n",
            "outputs shape: torch.Size([64, 784]), inputs shape: torch.Size([64, 1, 28, 28])\n",
            "outputs shape: torch.Size([64, 1, 28, 28]), inputs shape: torch.Size([64, 1, 28, 28])\n",
            "outputs shape: torch.Size([64, 784]), inputs shape: torch.Size([64, 1, 28, 28])\n",
            "outputs shape: torch.Size([64, 1, 28, 28]), inputs shape: torch.Size([64, 1, 28, 28])\n",
            "outputs shape: torch.Size([64, 784]), inputs shape: torch.Size([64, 1, 28, 28])\n",
            "outputs shape: torch.Size([64, 1, 28, 28]), inputs shape: torch.Size([64, 1, 28, 28])\n",
            "outputs shape: torch.Size([64, 784]), inputs shape: torch.Size([64, 1, 28, 28])\n",
            "outputs shape: torch.Size([64, 1, 28, 28]), inputs shape: torch.Size([64, 1, 28, 28])\n",
            "outputs shape: torch.Size([64, 784]), inputs shape: torch.Size([64, 1, 28, 28])\n",
            "outputs shape: torch.Size([64, 1, 28, 28]), inputs shape: torch.Size([64, 1, 28, 28])\n",
            "outputs shape: torch.Size([64, 784]), inputs shape: torch.Size([64, 1, 28, 28])\n",
            "outputs shape: torch.Size([64, 1, 28, 28]), inputs shape: torch.Size([64, 1, 28, 28])\n",
            "outputs shape: torch.Size([64, 784]), inputs shape: torch.Size([64, 1, 28, 28])\n",
            "outputs shape: torch.Size([64, 1, 28, 28]), inputs shape: torch.Size([64, 1, 28, 28])\n",
            "outputs shape: torch.Size([64, 784]), inputs shape: torch.Size([64, 1, 28, 28])\n",
            "outputs shape: torch.Size([64, 1, 28, 28]), inputs shape: torch.Size([64, 1, 28, 28])\n",
            "outputs shape: torch.Size([64, 784]), inputs shape: torch.Size([64, 1, 28, 28])\n",
            "outputs shape: torch.Size([64, 1, 28, 28]), inputs shape: torch.Size([64, 1, 28, 28])\n"
          ]
        },
        {
          "output_type": "stream",
          "name": "stderr",
          "text": [
            "Epoch 1:  10%|▉         | 92/938 [00:01<00:13, 64.17it/s]"
          ]
        },
        {
          "output_type": "stream",
          "name": "stdout",
          "text": [
            "outputs shape: torch.Size([64, 784]), inputs shape: torch.Size([64, 1, 28, 28])\n",
            "outputs shape: torch.Size([64, 1, 28, 28]), inputs shape: torch.Size([64, 1, 28, 28])\n",
            "outputs shape: torch.Size([64, 784]), inputs shape: torch.Size([64, 1, 28, 28])\n",
            "outputs shape: torch.Size([64, 1, 28, 28]), inputs shape: torch.Size([64, 1, 28, 28])\n",
            "outputs shape: torch.Size([64, 784]), inputs shape: torch.Size([64, 1, 28, 28])\n",
            "outputs shape: torch.Size([64, 1, 28, 28]), inputs shape: torch.Size([64, 1, 28, 28])\n",
            "outputs shape: torch.Size([64, 784]), inputs shape: torch.Size([64, 1, 28, 28])\n",
            "outputs shape: torch.Size([64, 1, 28, 28]), inputs shape: torch.Size([64, 1, 28, 28])\n",
            "outputs shape: torch.Size([64, 784]), inputs shape: torch.Size([64, 1, 28, 28])\n",
            "outputs shape: torch.Size([64, 1, 28, 28]), inputs shape: torch.Size([64, 1, 28, 28])\n",
            "outputs shape: torch.Size([64, 784]), inputs shape: torch.Size([64, 1, 28, 28])\n",
            "outputs shape: torch.Size([64, 1, 28, 28]), inputs shape: torch.Size([64, 1, 28, 28])\n",
            "outputs shape: torch.Size([64, 784]), inputs shape: torch.Size([64, 1, 28, 28])\n",
            "outputs shape: torch.Size([64, 1, 28, 28]), inputs shape: torch.Size([64, 1, 28, 28])\n",
            "outputs shape: torch.Size([64, 784]), inputs shape: torch.Size([64, 1, 28, 28])\n",
            "outputs shape: torch.Size([64, 1, 28, 28]), inputs shape: torch.Size([64, 1, 28, 28])\n",
            "outputs shape: torch.Size([64, 784]), inputs shape: torch.Size([64, 1, 28, 28])\n",
            "outputs shape: torch.Size([64, 1, 28, 28]), inputs shape: torch.Size([64, 1, 28, 28])\n",
            "outputs shape: torch.Size([64, 784]), inputs shape: torch.Size([64, 1, 28, 28])\n",
            "outputs shape: torch.Size([64, 1, 28, 28]), inputs shape: torch.Size([64, 1, 28, 28])\n",
            "outputs shape: torch.Size([64, 784]), inputs shape: torch.Size([64, 1, 28, 28])\n",
            "outputs shape: torch.Size([64, 1, 28, 28]), inputs shape: torch.Size([64, 1, 28, 28])\n",
            "outputs shape: torch.Size([64, 784]), inputs shape: torch.Size([64, 1, 28, 28])\n",
            "outputs shape: torch.Size([64, 1, 28, 28]), inputs shape: torch.Size([64, 1, 28, 28])\n",
            "outputs shape: torch.Size([64, 784]), inputs shape: torch.Size([64, 1, 28, 28])\n",
            "outputs shape: torch.Size([64, 1, 28, 28]), inputs shape: torch.Size([64, 1, 28, 28])\n"
          ]
        },
        {
          "output_type": "stream",
          "name": "stderr",
          "text": [
            "Epoch 1:  11%|█▏        | 106/938 [00:01<00:12, 65.21it/s]"
          ]
        },
        {
          "output_type": "stream",
          "name": "stdout",
          "text": [
            "outputs shape: torch.Size([64, 784]), inputs shape: torch.Size([64, 1, 28, 28])\n",
            "outputs shape: torch.Size([64, 1, 28, 28]), inputs shape: torch.Size([64, 1, 28, 28])\n",
            "outputs shape: torch.Size([64, 784]), inputs shape: torch.Size([64, 1, 28, 28])\n",
            "outputs shape: torch.Size([64, 1, 28, 28]), inputs shape: torch.Size([64, 1, 28, 28])\n",
            "outputs shape: torch.Size([64, 784]), inputs shape: torch.Size([64, 1, 28, 28])\n",
            "outputs shape: torch.Size([64, 1, 28, 28]), inputs shape: torch.Size([64, 1, 28, 28])\n",
            "outputs shape: torch.Size([64, 784]), inputs shape: torch.Size([64, 1, 28, 28])\n",
            "outputs shape: torch.Size([64, 1, 28, 28]), inputs shape: torch.Size([64, 1, 28, 28])\n",
            "loss: 0.3967507481575012\n",
            "outputs shape: torch.Size([64, 784]), inputs shape: torch.Size([64, 1, 28, 28])\n",
            "outputs shape: torch.Size([64, 1, 28, 28]), inputs shape: torch.Size([64, 1, 28, 28])\n",
            "outputs shape: torch.Size([64, 784]), inputs shape: torch.Size([64, 1, 28, 28])\n",
            "outputs shape: torch.Size([64, 1, 28, 28]), inputs shape: torch.Size([64, 1, 28, 28])\n",
            "outputs shape: torch.Size([64, 784]), inputs shape: torch.Size([64, 1, 28, 28])\n",
            "outputs shape: torch.Size([64, 1, 28, 28]), inputs shape: torch.Size([64, 1, 28, 28])\n",
            "outputs shape: torch.Size([64, 784]), inputs shape: torch.Size([64, 1, 28, 28])\n",
            "outputs shape: torch.Size([64, 1, 28, 28]), inputs shape: torch.Size([64, 1, 28, 28])\n",
            "outputs shape: torch.Size([64, 784]), inputs shape: torch.Size([64, 1, 28, 28])\n",
            "outputs shape: torch.Size([64, 1, 28, 28]), inputs shape: torch.Size([64, 1, 28, 28])\n",
            "outputs shape: torch.Size([64, 784]), inputs shape: torch.Size([64, 1, 28, 28])\n",
            "outputs shape: torch.Size([64, 1, 28, 28]), inputs shape: torch.Size([64, 1, 28, 28])\n",
            "outputs shape: torch.Size([64, 784]), inputs shape: torch.Size([64, 1, 28, 28])\n",
            "outputs shape: torch.Size([64, 1, 28, 28]), inputs shape: torch.Size([64, 1, 28, 28])\n",
            "outputs shape: torch.Size([64, 784]), inputs shape: torch.Size([64, 1, 28, 28])\n",
            "outputs shape: torch.Size([64, 1, 28, 28]), inputs shape: torch.Size([64, 1, 28, 28])\n",
            "outputs shape: torch.Size([64, 784]), inputs shape: torch.Size([64, 1, 28, 28])\n",
            "outputs shape: torch.Size([64, 1, 28, 28]), inputs shape: torch.Size([64, 1, 28, 28])\n",
            "outputs shape: torch.Size([64, 784]), inputs shape: torch.Size([64, 1, 28, 28])\n",
            "outputs shape: torch.Size([64, 1, 28, 28]), inputs shape: torch.Size([64, 1, 28, 28])\n"
          ]
        },
        {
          "output_type": "stream",
          "name": "stderr",
          "text": [
            "Epoch 1:  13%|█▎        | 120/938 [00:01<00:13, 61.87it/s]"
          ]
        },
        {
          "output_type": "stream",
          "name": "stdout",
          "text": [
            "outputs shape: torch.Size([64, 784]), inputs shape: torch.Size([64, 1, 28, 28])\n",
            "outputs shape: torch.Size([64, 1, 28, 28]), inputs shape: torch.Size([64, 1, 28, 28])\n",
            "outputs shape: torch.Size([64, 784]), inputs shape: torch.Size([64, 1, 28, 28])\n",
            "outputs shape: torch.Size([64, 1, 28, 28]), inputs shape: torch.Size([64, 1, 28, 28])\n",
            "outputs shape: torch.Size([64, 784]), inputs shape: torch.Size([64, 1, 28, 28])\n",
            "outputs shape: torch.Size([64, 1, 28, 28]), inputs shape: torch.Size([64, 1, 28, 28])\n",
            "outputs shape: torch.Size([64, 784]), inputs shape: torch.Size([64, 1, 28, 28])\n",
            "outputs shape: torch.Size([64, 1, 28, 28]), inputs shape: torch.Size([64, 1, 28, 28])\n",
            "outputs shape: torch.Size([64, 784]), inputs shape: torch.Size([64, 1, 28, 28])\n",
            "outputs shape: torch.Size([64, 1, 28, 28]), inputs shape: torch.Size([64, 1, 28, 28])\n",
            "outputs shape: torch.Size([64, 784]), inputs shape: torch.Size([64, 1, 28, 28])\n",
            "outputs shape: torch.Size([64, 1, 28, 28]), inputs shape: torch.Size([64, 1, 28, 28])\n",
            "outputs shape: torch.Size([64, 784]), inputs shape: torch.Size([64, 1, 28, 28])\n",
            "outputs shape: torch.Size([64, 1, 28, 28]), inputs shape: torch.Size([64, 1, 28, 28])\n",
            "outputs shape: torch.Size([64, 784]), inputs shape: torch.Size([64, 1, 28, 28])\n",
            "outputs shape: torch.Size([64, 1, 28, 28]), inputs shape: torch.Size([64, 1, 28, 28])\n",
            "outputs shape: torch.Size([64, 784]), inputs shape: torch.Size([64, 1, 28, 28])\n",
            "outputs shape: torch.Size([64, 1, 28, 28]), inputs shape: torch.Size([64, 1, 28, 28])\n",
            "outputs shape: torch.Size([64, 784]), inputs shape: torch.Size([64, 1, 28, 28])\n",
            "outputs shape: torch.Size([64, 1, 28, 28]), inputs shape: torch.Size([64, 1, 28, 28])\n",
            "outputs shape: torch.Size([64, 784]), inputs shape: torch.Size([64, 1, 28, 28])\n",
            "outputs shape: torch.Size([64, 1, 28, 28]), inputs shape: torch.Size([64, 1, 28, 28])\n",
            "outputs shape: torch.Size([64, 784]), inputs shape: torch.Size([64, 1, 28, 28])\n",
            "outputs shape: torch.Size([64, 1, 28, 28]), inputs shape: torch.Size([64, 1, 28, 28])\n"
          ]
        },
        {
          "output_type": "stream",
          "name": "stderr",
          "text": [
            "Epoch 1:  14%|█▍        | 135/938 [00:02<00:12, 65.89it/s]"
          ]
        },
        {
          "output_type": "stream",
          "name": "stdout",
          "text": [
            "outputs shape: torch.Size([64, 784]), inputs shape: torch.Size([64, 1, 28, 28])\n",
            "outputs shape: torch.Size([64, 1, 28, 28]), inputs shape: torch.Size([64, 1, 28, 28])\n",
            "outputs shape: torch.Size([64, 784]), inputs shape: torch.Size([64, 1, 28, 28])\n",
            "outputs shape: torch.Size([64, 1, 28, 28]), inputs shape: torch.Size([64, 1, 28, 28])\n",
            "outputs shape: torch.Size([64, 784]), inputs shape: torch.Size([64, 1, 28, 28])\n",
            "outputs shape: torch.Size([64, 1, 28, 28]), inputs shape: torch.Size([64, 1, 28, 28])\n",
            "outputs shape: torch.Size([64, 784]), inputs shape: torch.Size([64, 1, 28, 28])\n",
            "outputs shape: torch.Size([64, 1, 28, 28]), inputs shape: torch.Size([64, 1, 28, 28])\n",
            "outputs shape: torch.Size([64, 784]), inputs shape: torch.Size([64, 1, 28, 28])\n",
            "outputs shape: torch.Size([64, 1, 28, 28]), inputs shape: torch.Size([64, 1, 28, 28])\n",
            "outputs shape: torch.Size([64, 784]), inputs shape: torch.Size([64, 1, 28, 28])\n",
            "outputs shape: torch.Size([64, 1, 28, 28]), inputs shape: torch.Size([64, 1, 28, 28])\n",
            "outputs shape: torch.Size([64, 784]), inputs shape: torch.Size([64, 1, 28, 28])\n",
            "outputs shape: torch.Size([64, 1, 28, 28]), inputs shape: torch.Size([64, 1, 28, 28])\n",
            "outputs shape: torch.Size([64, 784]), inputs shape: torch.Size([64, 1, 28, 28])\n",
            "outputs shape: torch.Size([64, 1, 28, 28]), inputs shape: torch.Size([64, 1, 28, 28])\n",
            "outputs shape: torch.Size([64, 784]), inputs shape: torch.Size([64, 1, 28, 28])\n",
            "outputs shape: torch.Size([64, 1, 28, 28]), inputs shape: torch.Size([64, 1, 28, 28])\n",
            "outputs shape: torch.Size([64, 784]), inputs shape: torch.Size([64, 1, 28, 28])\n",
            "outputs shape: torch.Size([64, 1, 28, 28]), inputs shape: torch.Size([64, 1, 28, 28])\n",
            "outputs shape: torch.Size([64, 784]), inputs shape: torch.Size([64, 1, 28, 28])\n",
            "outputs shape: torch.Size([64, 1, 28, 28]), inputs shape: torch.Size([64, 1, 28, 28])\n",
            "outputs shape: torch.Size([64, 784]), inputs shape: torch.Size([64, 1, 28, 28])\n",
            "outputs shape: torch.Size([64, 1, 28, 28]), inputs shape: torch.Size([64, 1, 28, 28])\n",
            "outputs shape: torch.Size([64, 784]), inputs shape: torch.Size([64, 1, 28, 28])\n",
            "outputs shape: torch.Size([64, 1, 28, 28]), inputs shape: torch.Size([64, 1, 28, 28])\n",
            "outputs shape: torch.Size([64, 784]), inputs shape: torch.Size([64, 1, 28, 28])\n",
            "outputs shape: torch.Size([64, 1, 28, 28]), inputs shape: torch.Size([64, 1, 28, 28])\n"
          ]
        },
        {
          "output_type": "stream",
          "name": "stderr",
          "text": [
            "Epoch 1:  16%|█▌        | 150/938 [00:02<00:11, 67.01it/s]"
          ]
        },
        {
          "output_type": "stream",
          "name": "stdout",
          "text": [
            "outputs shape: torch.Size([64, 784]), inputs shape: torch.Size([64, 1, 28, 28])\n",
            "outputs shape: torch.Size([64, 1, 28, 28]), inputs shape: torch.Size([64, 1, 28, 28])\n",
            "outputs shape: torch.Size([64, 784]), inputs shape: torch.Size([64, 1, 28, 28])\n",
            "outputs shape: torch.Size([64, 1, 28, 28]), inputs shape: torch.Size([64, 1, 28, 28])\n",
            "outputs shape: torch.Size([64, 784]), inputs shape: torch.Size([64, 1, 28, 28])\n",
            "outputs shape: torch.Size([64, 1, 28, 28]), inputs shape: torch.Size([64, 1, 28, 28])\n",
            "outputs shape: torch.Size([64, 784]), inputs shape: torch.Size([64, 1, 28, 28])\n",
            "outputs shape: torch.Size([64, 1, 28, 28]), inputs shape: torch.Size([64, 1, 28, 28])\n",
            "outputs shape: torch.Size([64, 784]), inputs shape: torch.Size([64, 1, 28, 28])\n",
            "outputs shape: torch.Size([64, 1, 28, 28]), inputs shape: torch.Size([64, 1, 28, 28])\n",
            "outputs shape: torch.Size([64, 784]), inputs shape: torch.Size([64, 1, 28, 28])\n",
            "outputs shape: torch.Size([64, 1, 28, 28]), inputs shape: torch.Size([64, 1, 28, 28])\n",
            "outputs shape: torch.Size([64, 784]), inputs shape: torch.Size([64, 1, 28, 28])\n",
            "outputs shape: torch.Size([64, 1, 28, 28]), inputs shape: torch.Size([64, 1, 28, 28])\n",
            "outputs shape: torch.Size([64, 784]), inputs shape: torch.Size([64, 1, 28, 28])\n",
            "outputs shape: torch.Size([64, 1, 28, 28]), inputs shape: torch.Size([64, 1, 28, 28])\n",
            "outputs shape: torch.Size([64, 784]), inputs shape: torch.Size([64, 1, 28, 28])\n",
            "outputs shape: torch.Size([64, 1, 28, 28]), inputs shape: torch.Size([64, 1, 28, 28])\n",
            "outputs shape: torch.Size([64, 784]), inputs shape: torch.Size([64, 1, 28, 28])\n",
            "outputs shape: torch.Size([64, 1, 28, 28]), inputs shape: torch.Size([64, 1, 28, 28])\n",
            "outputs shape: torch.Size([64, 784]), inputs shape: torch.Size([64, 1, 28, 28])\n",
            "outputs shape: torch.Size([64, 1, 28, 28]), inputs shape: torch.Size([64, 1, 28, 28])\n",
            "outputs shape: torch.Size([64, 784]), inputs shape: torch.Size([64, 1, 28, 28])\n",
            "outputs shape: torch.Size([64, 1, 28, 28]), inputs shape: torch.Size([64, 1, 28, 28])\n",
            "outputs shape: torch.Size([64, 784]), inputs shape: torch.Size([64, 1, 28, 28])\n",
            "outputs shape: torch.Size([64, 1, 28, 28]), inputs shape: torch.Size([64, 1, 28, 28])\n",
            "outputs shape: torch.Size([64, 784]), inputs shape: torch.Size([64, 1, 28, 28])\n",
            "outputs shape: torch.Size([64, 1, 28, 28]), inputs shape: torch.Size([64, 1, 28, 28])\n",
            "outputs shape: torch.Size([64, 784]), inputs shape: torch.Size([64, 1, 28, 28])\n",
            "outputs shape: torch.Size([64, 1, 28, 28]), inputs shape: torch.Size([64, 1, 28, 28])\n"
          ]
        },
        {
          "output_type": "stream",
          "name": "stderr",
          "text": [
            "Epoch 1:  17%|█▋        | 164/938 [00:02<00:11, 66.78it/s]"
          ]
        },
        {
          "output_type": "stream",
          "name": "stdout",
          "text": [
            "outputs shape: torch.Size([64, 784]), inputs shape: torch.Size([64, 1, 28, 28])\n",
            "outputs shape: torch.Size([64, 1, 28, 28]), inputs shape: torch.Size([64, 1, 28, 28])\n",
            "outputs shape: torch.Size([64, 784]), inputs shape: torch.Size([64, 1, 28, 28])\n",
            "outputs shape: torch.Size([64, 1, 28, 28]), inputs shape: torch.Size([64, 1, 28, 28])\n",
            "outputs shape: torch.Size([64, 784]), inputs shape: torch.Size([64, 1, 28, 28])\n",
            "outputs shape: torch.Size([64, 1, 28, 28]), inputs shape: torch.Size([64, 1, 28, 28])\n",
            "outputs shape: torch.Size([64, 784]), inputs shape: torch.Size([64, 1, 28, 28])\n",
            "outputs shape: torch.Size([64, 1, 28, 28]), inputs shape: torch.Size([64, 1, 28, 28])\n",
            "outputs shape: torch.Size([64, 784]), inputs shape: torch.Size([64, 1, 28, 28])\n",
            "outputs shape: torch.Size([64, 1, 28, 28]), inputs shape: torch.Size([64, 1, 28, 28])\n",
            "outputs shape: torch.Size([64, 784]), inputs shape: torch.Size([64, 1, 28, 28])\n",
            "outputs shape: torch.Size([64, 1, 28, 28]), inputs shape: torch.Size([64, 1, 28, 28])\n",
            "outputs shape: torch.Size([64, 784]), inputs shape: torch.Size([64, 1, 28, 28])\n",
            "outputs shape: torch.Size([64, 1, 28, 28]), inputs shape: torch.Size([64, 1, 28, 28])\n",
            "outputs shape: torch.Size([64, 784]), inputs shape: torch.Size([64, 1, 28, 28])\n",
            "outputs shape: torch.Size([64, 1, 28, 28]), inputs shape: torch.Size([64, 1, 28, 28])\n",
            "outputs shape: torch.Size([64, 784]), inputs shape: torch.Size([64, 1, 28, 28])\n",
            "outputs shape: torch.Size([64, 1, 28, 28]), inputs shape: torch.Size([64, 1, 28, 28])\n",
            "outputs shape: torch.Size([64, 784]), inputs shape: torch.Size([64, 1, 28, 28])\n",
            "outputs shape: torch.Size([64, 1, 28, 28]), inputs shape: torch.Size([64, 1, 28, 28])\n",
            "outputs shape: torch.Size([64, 784]), inputs shape: torch.Size([64, 1, 28, 28])\n",
            "outputs shape: torch.Size([64, 1, 28, 28]), inputs shape: torch.Size([64, 1, 28, 28])\n",
            "outputs shape: torch.Size([64, 784]), inputs shape: torch.Size([64, 1, 28, 28])\n",
            "outputs shape: torch.Size([64, 1, 28, 28]), inputs shape: torch.Size([64, 1, 28, 28])\n",
            "outputs shape: torch.Size([64, 784]), inputs shape: torch.Size([64, 1, 28, 28])\n",
            "outputs shape: torch.Size([64, 1, 28, 28]), inputs shape: torch.Size([64, 1, 28, 28])\n",
            "outputs shape: torch.Size([64, 784]), inputs shape: torch.Size([64, 1, 28, 28])\n",
            "outputs shape: torch.Size([64, 1, 28, 28]), inputs shape: torch.Size([64, 1, 28, 28])\n"
          ]
        },
        {
          "output_type": "stream",
          "name": "stderr",
          "text": [
            "Epoch 1:  19%|█▉        | 178/938 [00:02<00:11, 67.03it/s]"
          ]
        },
        {
          "output_type": "stream",
          "name": "stdout",
          "text": [
            "outputs shape: torch.Size([64, 784]), inputs shape: torch.Size([64, 1, 28, 28])\n",
            "outputs shape: torch.Size([64, 1, 28, 28]), inputs shape: torch.Size([64, 1, 28, 28])\n",
            "outputs shape: torch.Size([64, 784]), inputs shape: torch.Size([64, 1, 28, 28])\n",
            "outputs shape: torch.Size([64, 1, 28, 28]), inputs shape: torch.Size([64, 1, 28, 28])\n",
            "outputs shape: torch.Size([64, 784]), inputs shape: torch.Size([64, 1, 28, 28])\n",
            "outputs shape: torch.Size([64, 1, 28, 28]), inputs shape: torch.Size([64, 1, 28, 28])\n",
            "outputs shape: torch.Size([64, 784]), inputs shape: torch.Size([64, 1, 28, 28])\n",
            "outputs shape: torch.Size([64, 1, 28, 28]), inputs shape: torch.Size([64, 1, 28, 28])\n",
            "outputs shape: torch.Size([64, 784]), inputs shape: torch.Size([64, 1, 28, 28])\n",
            "outputs shape: torch.Size([64, 1, 28, 28]), inputs shape: torch.Size([64, 1, 28, 28])\n",
            "outputs shape: torch.Size([64, 784]), inputs shape: torch.Size([64, 1, 28, 28])\n",
            "outputs shape: torch.Size([64, 1, 28, 28]), inputs shape: torch.Size([64, 1, 28, 28])\n",
            "outputs shape: torch.Size([64, 784]), inputs shape: torch.Size([64, 1, 28, 28])\n",
            "outputs shape: torch.Size([64, 1, 28, 28]), inputs shape: torch.Size([64, 1, 28, 28])\n",
            "outputs shape: torch.Size([64, 784]), inputs shape: torch.Size([64, 1, 28, 28])\n",
            "outputs shape: torch.Size([64, 1, 28, 28]), inputs shape: torch.Size([64, 1, 28, 28])\n",
            "outputs shape: torch.Size([64, 784]), inputs shape: torch.Size([64, 1, 28, 28])\n",
            "outputs shape: torch.Size([64, 1, 28, 28]), inputs shape: torch.Size([64, 1, 28, 28])\n",
            "outputs shape: torch.Size([64, 784]), inputs shape: torch.Size([64, 1, 28, 28])\n",
            "outputs shape: torch.Size([64, 1, 28, 28]), inputs shape: torch.Size([64, 1, 28, 28])\n",
            "outputs shape: torch.Size([64, 784]), inputs shape: torch.Size([64, 1, 28, 28])\n",
            "outputs shape: torch.Size([64, 1, 28, 28]), inputs shape: torch.Size([64, 1, 28, 28])\n",
            "outputs shape: torch.Size([64, 784]), inputs shape: torch.Size([64, 1, 28, 28])\n",
            "outputs shape: torch.Size([64, 1, 28, 28]), inputs shape: torch.Size([64, 1, 28, 28])\n",
            "outputs shape: torch.Size([64, 784]), inputs shape: torch.Size([64, 1, 28, 28])\n",
            "outputs shape: torch.Size([64, 1, 28, 28]), inputs shape: torch.Size([64, 1, 28, 28])\n",
            "outputs shape: torch.Size([64, 784]), inputs shape: torch.Size([64, 1, 28, 28])\n",
            "outputs shape: torch.Size([64, 1, 28, 28]), inputs shape: torch.Size([64, 1, 28, 28])\n"
          ]
        },
        {
          "output_type": "stream",
          "name": "stderr",
          "text": [
            "Epoch 1:  20%|██        | 192/938 [00:02<00:11, 64.97it/s]"
          ]
        },
        {
          "output_type": "stream",
          "name": "stdout",
          "text": [
            "outputs shape: torch.Size([64, 784]), inputs shape: torch.Size([64, 1, 28, 28])\n",
            "outputs shape: torch.Size([64, 1, 28, 28]), inputs shape: torch.Size([64, 1, 28, 28])\n",
            "outputs shape: torch.Size([64, 784]), inputs shape: torch.Size([64, 1, 28, 28])\n",
            "outputs shape: torch.Size([64, 1, 28, 28]), inputs shape: torch.Size([64, 1, 28, 28])\n",
            "outputs shape: torch.Size([64, 784]), inputs shape: torch.Size([64, 1, 28, 28])\n",
            "outputs shape: torch.Size([64, 1, 28, 28]), inputs shape: torch.Size([64, 1, 28, 28])\n",
            "outputs shape: torch.Size([64, 784]), inputs shape: torch.Size([64, 1, 28, 28])\n",
            "outputs shape: torch.Size([64, 1, 28, 28]), inputs shape: torch.Size([64, 1, 28, 28])\n",
            "outputs shape: torch.Size([64, 784]), inputs shape: torch.Size([64, 1, 28, 28])\n",
            "outputs shape: torch.Size([64, 1, 28, 28]), inputs shape: torch.Size([64, 1, 28, 28])\n",
            "outputs shape: torch.Size([64, 784]), inputs shape: torch.Size([64, 1, 28, 28])\n",
            "outputs shape: torch.Size([64, 1, 28, 28]), inputs shape: torch.Size([64, 1, 28, 28])\n",
            "outputs shape: torch.Size([64, 784]), inputs shape: torch.Size([64, 1, 28, 28])\n",
            "outputs shape: torch.Size([64, 1, 28, 28]), inputs shape: torch.Size([64, 1, 28, 28])\n",
            "outputs shape: torch.Size([64, 784]), inputs shape: torch.Size([64, 1, 28, 28])\n",
            "outputs shape: torch.Size([64, 1, 28, 28]), inputs shape: torch.Size([64, 1, 28, 28])\n",
            "outputs shape: torch.Size([64, 784]), inputs shape: torch.Size([64, 1, 28, 28])\n",
            "outputs shape: torch.Size([64, 1, 28, 28]), inputs shape: torch.Size([64, 1, 28, 28])\n",
            "outputs shape: torch.Size([64, 784]), inputs shape: torch.Size([64, 1, 28, 28])\n",
            "outputs shape: torch.Size([64, 1, 28, 28]), inputs shape: torch.Size([64, 1, 28, 28])\n",
            "outputs shape: torch.Size([64, 784]), inputs shape: torch.Size([64, 1, 28, 28])\n",
            "outputs shape: torch.Size([64, 1, 28, 28]), inputs shape: torch.Size([64, 1, 28, 28])\n",
            "outputs shape: torch.Size([64, 784]), inputs shape: torch.Size([64, 1, 28, 28])\n",
            "outputs shape: torch.Size([64, 1, 28, 28]), inputs shape: torch.Size([64, 1, 28, 28])\n",
            "outputs shape: torch.Size([64, 784]), inputs shape: torch.Size([64, 1, 28, 28])\n",
            "outputs shape: torch.Size([64, 1, 28, 28]), inputs shape: torch.Size([64, 1, 28, 28])\n",
            "outputs shape: torch.Size([64, 784]), inputs shape: torch.Size([64, 1, 28, 28])\n",
            "outputs shape: torch.Size([64, 1, 28, 28]), inputs shape: torch.Size([64, 1, 28, 28])\n"
          ]
        },
        {
          "output_type": "stream",
          "name": "stderr",
          "text": [
            "Epoch 1:  22%|██▏       | 206/938 [00:03<00:11, 64.01it/s]"
          ]
        },
        {
          "output_type": "stream",
          "name": "stdout",
          "text": [
            "outputs shape: torch.Size([64, 784]), inputs shape: torch.Size([64, 1, 28, 28])\n",
            "outputs shape: torch.Size([64, 1, 28, 28]), inputs shape: torch.Size([64, 1, 28, 28])\n",
            "outputs shape: torch.Size([64, 784]), inputs shape: torch.Size([64, 1, 28, 28])\n",
            "outputs shape: torch.Size([64, 1, 28, 28]), inputs shape: torch.Size([64, 1, 28, 28])\n",
            "outputs shape: torch.Size([64, 784]), inputs shape: torch.Size([64, 1, 28, 28])\n",
            "outputs shape: torch.Size([64, 1, 28, 28]), inputs shape: torch.Size([64, 1, 28, 28])\n",
            "outputs shape: torch.Size([64, 784]), inputs shape: torch.Size([64, 1, 28, 28])\n",
            "outputs shape: torch.Size([64, 1, 28, 28]), inputs shape: torch.Size([64, 1, 28, 28])\n",
            "outputs shape: torch.Size([64, 784]), inputs shape: torch.Size([64, 1, 28, 28])\n",
            "outputs shape: torch.Size([64, 1, 28, 28]), inputs shape: torch.Size([64, 1, 28, 28])\n",
            "outputs shape: torch.Size([64, 784]), inputs shape: torch.Size([64, 1, 28, 28])\n",
            "outputs shape: torch.Size([64, 1, 28, 28]), inputs shape: torch.Size([64, 1, 28, 28])\n",
            "outputs shape: torch.Size([64, 784]), inputs shape: torch.Size([64, 1, 28, 28])\n",
            "outputs shape: torch.Size([64, 1, 28, 28]), inputs shape: torch.Size([64, 1, 28, 28])\n",
            "loss: 0.284463495016098\n",
            "outputs shape: torch.Size([64, 784]), inputs shape: torch.Size([64, 1, 28, 28])\n",
            "outputs shape: torch.Size([64, 1, 28, 28]), inputs shape: torch.Size([64, 1, 28, 28])\n",
            "outputs shape: torch.Size([64, 784]), inputs shape: torch.Size([64, 1, 28, 28])\n",
            "outputs shape: torch.Size([64, 1, 28, 28]), inputs shape: torch.Size([64, 1, 28, 28])\n",
            "outputs shape: torch.Size([64, 784]), inputs shape: torch.Size([64, 1, 28, 28])\n",
            "outputs shape: torch.Size([64, 1, 28, 28]), inputs shape: torch.Size([64, 1, 28, 28])\n",
            "outputs shape: torch.Size([64, 784]), inputs shape: torch.Size([64, 1, 28, 28])\n",
            "outputs shape: torch.Size([64, 1, 28, 28]), inputs shape: torch.Size([64, 1, 28, 28])\n",
            "outputs shape: torch.Size([64, 784]), inputs shape: torch.Size([64, 1, 28, 28])\n",
            "outputs shape: torch.Size([64, 1, 28, 28]), inputs shape: torch.Size([64, 1, 28, 28])\n",
            "outputs shape: torch.Size([64, 784]), inputs shape: torch.Size([64, 1, 28, 28])\n",
            "outputs shape: torch.Size([64, 1, 28, 28]), inputs shape: torch.Size([64, 1, 28, 28])\n"
          ]
        },
        {
          "output_type": "stream",
          "name": "stderr",
          "text": [
            "\rEpoch 1:  23%|██▎       | 214/938 [00:03<00:10, 65.83it/s]"
          ]
        },
        {
          "output_type": "stream",
          "name": "stdout",
          "text": [
            "outputs shape: torch.Size([64, 784]), inputs shape: torch.Size([64, 1, 28, 28])\n",
            "outputs shape: torch.Size([64, 1, 28, 28]), inputs shape: torch.Size([64, 1, 28, 28])\n",
            "outputs shape: torch.Size([64, 784]), inputs shape: torch.Size([64, 1, 28, 28])\n",
            "outputs shape: torch.Size([64, 1, 28, 28]), inputs shape: torch.Size([64, 1, 28, 28])\n",
            "outputs shape: torch.Size([64, 784]), inputs shape: torch.Size([64, 1, 28, 28])\n",
            "outputs shape: torch.Size([64, 1, 28, 28]), inputs shape: torch.Size([64, 1, 28, 28])\n",
            "outputs shape: torch.Size([64, 784]), inputs shape: torch.Size([64, 1, 28, 28])\n",
            "outputs shape: torch.Size([64, 1, 28, 28]), inputs shape: torch.Size([64, 1, 28, 28])\n",
            "outputs shape: torch.Size([64, 784]), inputs shape: torch.Size([64, 1, 28, 28])\n",
            "outputs shape: torch.Size([64, 1, 28, 28]), inputs shape: torch.Size([64, 1, 28, 28])\n",
            "outputs shape: torch.Size([64, 784]), inputs shape: torch.Size([64, 1, 28, 28])\n",
            "outputs shape: torch.Size([64, 1, 28, 28]), inputs shape: torch.Size([64, 1, 28, 28])\n",
            "outputs shape: torch.Size([64, 784]), inputs shape: torch.Size([64, 1, 28, 28])\n",
            "outputs shape: torch.Size([64, 1, 28, 28]), inputs shape: torch.Size([64, 1, 28, 28])\n",
            "outputs shape: torch.Size([64, 784]), inputs shape: torch.Size([64, 1, 28, 28])\n",
            "outputs shape: torch.Size([64, 1, 28, 28]), inputs shape: torch.Size([64, 1, 28, 28])\n",
            "outputs shape: torch.Size([64, 784]), inputs shape: torch.Size([64, 1, 28, 28])\n",
            "outputs shape: torch.Size([64, 1, 28, 28]), inputs shape: torch.Size([64, 1, 28, 28])\n",
            "outputs shape: torch.Size([64, 784]), inputs shape: torch.Size([64, 1, 28, 28])\n",
            "outputs shape: torch.Size([64, 1, 28, 28]), inputs shape: torch.Size([64, 1, 28, 28])\n",
            "outputs shape: torch.Size([64, 784]), inputs shape: torch.Size([64, 1, 28, 28])\n",
            "outputs shape: torch.Size([64, 1, 28, 28]), inputs shape: torch.Size([64, 1, 28, 28])\n",
            "outputs shape: torch.Size([64, 784]), inputs shape: torch.Size([64, 1, 28, 28])\n",
            "outputs shape: torch.Size([64, 1, 28, 28]), inputs shape: torch.Size([64, 1, 28, 28])\n",
            "outputs shape: torch.Size([64, 784]), inputs shape: torch.Size([64, 1, 28, 28])\n",
            "outputs shape: torch.Size([64, 1, 28, 28]), inputs shape: torch.Size([64, 1, 28, 28])\n",
            "outputs shape: torch.Size([64, 784]), inputs shape: torch.Size([64, 1, 28, 28])\n",
            "outputs shape: torch.Size([64, 1, 28, 28]), inputs shape: torch.Size([64, 1, 28, 28])\n",
            "outputs shape: torch.Size([64, 784]), inputs shape: torch.Size([64, 1, 28, 28])\n",
            "outputs shape: torch.Size([64, 1, 28, 28]), inputs shape: torch.Size([64, 1, 28, 28])\n"
          ]
        },
        {
          "output_type": "stream",
          "name": "stderr",
          "text": [
            "Epoch 1:  24%|██▍       | 229/938 [00:03<00:10, 64.94it/s]"
          ]
        },
        {
          "output_type": "stream",
          "name": "stdout",
          "text": [
            "outputs shape: torch.Size([64, 784]), inputs shape: torch.Size([64, 1, 28, 28])\n",
            "outputs shape: torch.Size([64, 1, 28, 28]), inputs shape: torch.Size([64, 1, 28, 28])\n",
            "outputs shape: torch.Size([64, 784]), inputs shape: torch.Size([64, 1, 28, 28])\n",
            "outputs shape: torch.Size([64, 1, 28, 28]), inputs shape: torch.Size([64, 1, 28, 28])\n",
            "outputs shape: torch.Size([64, 784]), inputs shape: torch.Size([64, 1, 28, 28])\n",
            "outputs shape: torch.Size([64, 1, 28, 28]), inputs shape: torch.Size([64, 1, 28, 28])\n",
            "outputs shape: torch.Size([64, 784]), inputs shape: torch.Size([64, 1, 28, 28])\n",
            "outputs shape: torch.Size([64, 1, 28, 28]), inputs shape: torch.Size([64, 1, 28, 28])\n",
            "outputs shape: torch.Size([64, 784]), inputs shape: torch.Size([64, 1, 28, 28])\n",
            "outputs shape: torch.Size([64, 1, 28, 28]), inputs shape: torch.Size([64, 1, 28, 28])\n",
            "outputs shape: torch.Size([64, 784]), inputs shape: torch.Size([64, 1, 28, 28])\n",
            "outputs shape: torch.Size([64, 1, 28, 28]), inputs shape: torch.Size([64, 1, 28, 28])\n",
            "outputs shape: torch.Size([64, 784]), inputs shape: torch.Size([64, 1, 28, 28])\n",
            "outputs shape: torch.Size([64, 1, 28, 28]), inputs shape: torch.Size([64, 1, 28, 28])\n",
            "outputs shape: torch.Size([64, 784]), inputs shape: torch.Size([64, 1, 28, 28])\n",
            "outputs shape: torch.Size([64, 1, 28, 28]), inputs shape: torch.Size([64, 1, 28, 28])\n",
            "outputs shape: torch.Size([64, 784]), inputs shape: torch.Size([64, 1, 28, 28])\n",
            "outputs shape: torch.Size([64, 1, 28, 28]), inputs shape: torch.Size([64, 1, 28, 28])\n",
            "outputs shape: torch.Size([64, 784]), inputs shape: torch.Size([64, 1, 28, 28])\n",
            "outputs shape: torch.Size([64, 1, 28, 28]), inputs shape: torch.Size([64, 1, 28, 28])\n",
            "outputs shape: torch.Size([64, 784]), inputs shape: torch.Size([64, 1, 28, 28])\n",
            "outputs shape: torch.Size([64, 1, 28, 28]), inputs shape: torch.Size([64, 1, 28, 28])\n",
            "outputs shape: torch.Size([64, 784]), inputs shape: torch.Size([64, 1, 28, 28])\n",
            "outputs shape: torch.Size([64, 1, 28, 28]), inputs shape: torch.Size([64, 1, 28, 28])\n",
            "outputs shape: torch.Size([64, 784]), inputs shape: torch.Size([64, 1, 28, 28])\n",
            "outputs shape: torch.Size([64, 1, 28, 28]), inputs shape: torch.Size([64, 1, 28, 28])\n"
          ]
        },
        {
          "output_type": "stream",
          "name": "stderr",
          "text": [
            "Epoch 1:  26%|██▌       | 243/938 [00:03<00:10, 66.17it/s]"
          ]
        },
        {
          "output_type": "stream",
          "name": "stdout",
          "text": [
            "outputs shape: torch.Size([64, 784]), inputs shape: torch.Size([64, 1, 28, 28])\n",
            "outputs shape: torch.Size([64, 1, 28, 28]), inputs shape: torch.Size([64, 1, 28, 28])\n",
            "outputs shape: torch.Size([64, 784]), inputs shape: torch.Size([64, 1, 28, 28])\n",
            "outputs shape: torch.Size([64, 1, 28, 28]), inputs shape: torch.Size([64, 1, 28, 28])\n",
            "outputs shape: torch.Size([64, 784]), inputs shape: torch.Size([64, 1, 28, 28])\n",
            "outputs shape: torch.Size([64, 1, 28, 28]), inputs shape: torch.Size([64, 1, 28, 28])\n",
            "outputs shape: torch.Size([64, 784]), inputs shape: torch.Size([64, 1, 28, 28])\n",
            "outputs shape: torch.Size([64, 1, 28, 28]), inputs shape: torch.Size([64, 1, 28, 28])\n",
            "outputs shape: torch.Size([64, 784]), inputs shape: torch.Size([64, 1, 28, 28])\n",
            "outputs shape: torch.Size([64, 1, 28, 28]), inputs shape: torch.Size([64, 1, 28, 28])\n",
            "outputs shape: torch.Size([64, 784]), inputs shape: torch.Size([64, 1, 28, 28])\n",
            "outputs shape: torch.Size([64, 1, 28, 28]), inputs shape: torch.Size([64, 1, 28, 28])\n",
            "outputs shape: torch.Size([64, 784]), inputs shape: torch.Size([64, 1, 28, 28])\n",
            "outputs shape: torch.Size([64, 1, 28, 28]), inputs shape: torch.Size([64, 1, 28, 28])\n",
            "outputs shape: torch.Size([64, 784]), inputs shape: torch.Size([64, 1, 28, 28])\n",
            "outputs shape: torch.Size([64, 1, 28, 28]), inputs shape: torch.Size([64, 1, 28, 28])\n",
            "outputs shape: torch.Size([64, 784]), inputs shape: torch.Size([64, 1, 28, 28])\n",
            "outputs shape: torch.Size([64, 1, 28, 28]), inputs shape: torch.Size([64, 1, 28, 28])\n",
            "outputs shape: torch.Size([64, 784]), inputs shape: torch.Size([64, 1, 28, 28])\n",
            "outputs shape: torch.Size([64, 1, 28, 28]), inputs shape: torch.Size([64, 1, 28, 28])\n",
            "outputs shape: torch.Size([64, 784]), inputs shape: torch.Size([64, 1, 28, 28])\n",
            "outputs shape: torch.Size([64, 1, 28, 28]), inputs shape: torch.Size([64, 1, 28, 28])\n",
            "outputs shape: torch.Size([64, 784]), inputs shape: torch.Size([64, 1, 28, 28])\n",
            "outputs shape: torch.Size([64, 1, 28, 28]), inputs shape: torch.Size([64, 1, 28, 28])\n",
            "outputs shape: torch.Size([64, 784]), inputs shape: torch.Size([64, 1, 28, 28])\n",
            "outputs shape: torch.Size([64, 1, 28, 28]), inputs shape: torch.Size([64, 1, 28, 28])\n",
            "outputs shape: torch.Size([64, 784]), inputs shape: torch.Size([64, 1, 28, 28])\n",
            "outputs shape: torch.Size([64, 1, 28, 28]), inputs shape: torch.Size([64, 1, 28, 28])\n"
          ]
        },
        {
          "output_type": "stream",
          "name": "stderr",
          "text": [
            "Epoch 1:  27%|██▋       | 257/938 [00:03<00:10, 61.91it/s]"
          ]
        },
        {
          "output_type": "stream",
          "name": "stdout",
          "text": [
            "outputs shape: torch.Size([64, 784]), inputs shape: torch.Size([64, 1, 28, 28])\n",
            "outputs shape: torch.Size([64, 1, 28, 28]), inputs shape: torch.Size([64, 1, 28, 28])\n",
            "outputs shape: torch.Size([64, 784]), inputs shape: torch.Size([64, 1, 28, 28])\n",
            "outputs shape: torch.Size([64, 1, 28, 28]), inputs shape: torch.Size([64, 1, 28, 28])\n",
            "outputs shape: torch.Size([64, 784]), inputs shape: torch.Size([64, 1, 28, 28])\n",
            "outputs shape: torch.Size([64, 1, 28, 28]), inputs shape: torch.Size([64, 1, 28, 28])\n",
            "outputs shape: torch.Size([64, 784]), inputs shape: torch.Size([64, 1, 28, 28])\n",
            "outputs shape: torch.Size([64, 1, 28, 28]), inputs shape: torch.Size([64, 1, 28, 28])\n",
            "outputs shape: torch.Size([64, 784]), inputs shape: torch.Size([64, 1, 28, 28])\n",
            "outputs shape: torch.Size([64, 1, 28, 28]), inputs shape: torch.Size([64, 1, 28, 28])\n",
            "outputs shape: torch.Size([64, 784]), inputs shape: torch.Size([64, 1, 28, 28])\n",
            "outputs shape: torch.Size([64, 1, 28, 28]), inputs shape: torch.Size([64, 1, 28, 28])\n",
            "outputs shape: torch.Size([64, 784]), inputs shape: torch.Size([64, 1, 28, 28])\n",
            "outputs shape: torch.Size([64, 1, 28, 28]), inputs shape: torch.Size([64, 1, 28, 28])\n",
            "outputs shape: torch.Size([64, 784]), inputs shape: torch.Size([64, 1, 28, 28])\n",
            "outputs shape: torch.Size([64, 1, 28, 28]), inputs shape: torch.Size([64, 1, 28, 28])\n",
            "outputs shape: torch.Size([64, 784]), inputs shape: torch.Size([64, 1, 28, 28])\n",
            "outputs shape: torch.Size([64, 1, 28, 28]), inputs shape: torch.Size([64, 1, 28, 28])\n",
            "outputs shape: torch.Size([64, 784]), inputs shape: torch.Size([64, 1, 28, 28])\n",
            "outputs shape: torch.Size([64, 1, 28, 28]), inputs shape: torch.Size([64, 1, 28, 28])\n",
            "outputs shape: torch.Size([64, 784]), inputs shape: torch.Size([64, 1, 28, 28])\n",
            "outputs shape: torch.Size([64, 1, 28, 28]), inputs shape: torch.Size([64, 1, 28, 28])\n"
          ]
        },
        {
          "output_type": "stream",
          "name": "stderr",
          "text": [
            "\rEpoch 1:  28%|██▊       | 264/938 [00:04<00:14, 46.97it/s]"
          ]
        },
        {
          "output_type": "stream",
          "name": "stdout",
          "text": [
            "outputs shape: torch.Size([64, 784]), inputs shape: torch.Size([64, 1, 28, 28])\n",
            "outputs shape: torch.Size([64, 1, 28, 28]), inputs shape: torch.Size([64, 1, 28, 28])\n",
            "outputs shape: torch.Size([64, 784]), inputs shape: torch.Size([64, 1, 28, 28])\n",
            "outputs shape: torch.Size([64, 1, 28, 28]), inputs shape: torch.Size([64, 1, 28, 28])\n",
            "outputs shape: torch.Size([64, 784]), inputs shape: torch.Size([64, 1, 28, 28])\n",
            "outputs shape: torch.Size([64, 1, 28, 28]), inputs shape: torch.Size([64, 1, 28, 28])\n",
            "outputs shape: torch.Size([64, 784]), inputs shape: torch.Size([64, 1, 28, 28])\n",
            "outputs shape: torch.Size([64, 1, 28, 28]), inputs shape: torch.Size([64, 1, 28, 28])\n",
            "outputs shape: torch.Size([64, 784]), inputs shape: torch.Size([64, 1, 28, 28])\n",
            "outputs shape: torch.Size([64, 1, 28, 28]), inputs shape: torch.Size([64, 1, 28, 28])\n",
            "outputs shape: torch.Size([64, 784]), inputs shape: torch.Size([64, 1, 28, 28])\n",
            "outputs shape: torch.Size([64, 1, 28, 28]), inputs shape: torch.Size([64, 1, 28, 28])\n",
            "outputs shape: torch.Size([64, 784]), inputs shape: torch.Size([64, 1, 28, 28])\n",
            "outputs shape: torch.Size([64, 1, 28, 28]), inputs shape: torch.Size([64, 1, 28, 28])\n"
          ]
        },
        {
          "output_type": "stream",
          "name": "stderr",
          "text": [
            "\rEpoch 1:  29%|██▉       | 270/938 [00:04<00:16, 40.34it/s]"
          ]
        },
        {
          "output_type": "stream",
          "name": "stdout",
          "text": [
            "outputs shape: torch.Size([64, 784]), inputs shape: torch.Size([64, 1, 28, 28])\n",
            "outputs shape: torch.Size([64, 1, 28, 28]), inputs shape: torch.Size([64, 1, 28, 28])\n",
            "outputs shape: torch.Size([64, 784]), inputs shape: torch.Size([64, 1, 28, 28])\n",
            "outputs shape: torch.Size([64, 1, 28, 28]), inputs shape: torch.Size([64, 1, 28, 28])\n",
            "outputs shape: torch.Size([64, 784]), inputs shape: torch.Size([64, 1, 28, 28])\n",
            "outputs shape: torch.Size([64, 1, 28, 28]), inputs shape: torch.Size([64, 1, 28, 28])\n",
            "outputs shape: torch.Size([64, 784]), inputs shape: torch.Size([64, 1, 28, 28])\n",
            "outputs shape: torch.Size([64, 1, 28, 28]), inputs shape: torch.Size([64, 1, 28, 28])\n",
            "outputs shape: torch.Size([64, 784]), inputs shape: torch.Size([64, 1, 28, 28])\n",
            "outputs shape: torch.Size([64, 1, 28, 28]), inputs shape: torch.Size([64, 1, 28, 28])\n",
            "outputs shape: torch.Size([64, 784]), inputs shape: torch.Size([64, 1, 28, 28])\n",
            "outputs shape: torch.Size([64, 1, 28, 28]), inputs shape: torch.Size([64, 1, 28, 28])\n",
            "outputs shape: torch.Size([64, 784]), inputs shape: torch.Size([64, 1, 28, 28])"
          ]
        },
        {
          "output_type": "stream",
          "name": "stderr",
          "text": [
            "Epoch 1:  30%|██▉       | 280/938 [00:04<00:16, 39.68it/s]"
          ]
        },
        {
          "output_type": "stream",
          "name": "stdout",
          "text": [
            "\n",
            "outputs shape: torch.Size([64, 1, 28, 28]), inputs shape: torch.Size([64, 1, 28, 28])\n",
            "outputs shape: torch.Size([64, 784]), inputs shape: torch.Size([64, 1, 28, 28])\n",
            "outputs shape: torch.Size([64, 1, 28, 28]), inputs shape: torch.Size([64, 1, 28, 28])\n",
            "outputs shape: torch.Size([64, 784]), inputs shape: torch.Size([64, 1, 28, 28])\n",
            "outputs shape: torch.Size([64, 1, 28, 28]), inputs shape: torch.Size([64, 1, 28, 28])\n",
            "outputs shape: torch.Size([64, 784]), inputs shape: torch.Size([64, 1, 28, 28])\n",
            "outputs shape: torch.Size([64, 1, 28, 28]), inputs shape: torch.Size([64, 1, 28, 28])\n",
            "outputs shape: torch.Size([64, 784]), inputs shape: torch.Size([64, 1, 28, 28])\n",
            "outputs shape: torch.Size([64, 1, 28, 28]), inputs shape: torch.Size([64, 1, 28, 28])\n",
            "outputs shape: torch.Size([64, 784]), inputs shape: torch.Size([64, 1, 28, 28])\n",
            "outputs shape: torch.Size([64, 1, 28, 28]), inputs shape: torch.Size([64, 1, 28, 28])\n",
            "outputs shape: torch.Size([64, 784]), inputs shape: torch.Size([64, 1, 28, 28])\n",
            "outputs shape: torch.Size([64, 1, 28, 28]), inputs shape: torch.Size([64, 1, 28, 28])\n",
            "outputs shape: torch.Size([64, 784]), inputs shape: torch.Size([64, 1, 28, 28])\n",
            "outputs shape: torch.Size([64, 1, 28, 28]), inputs shape: torch.Size([64, 1, 28, 28])\n",
            "outputs shape: torch.Size([64, 784]), inputs shape: torch.Size([64, 1, 28, 28])\n"
          ]
        },
        {
          "output_type": "stream",
          "name": "stderr",
          "text": [
            "\rEpoch 1:  30%|███       | 286/938 [00:04<00:14, 43.51it/s]"
          ]
        },
        {
          "output_type": "stream",
          "name": "stdout",
          "text": [
            "outputs shape: torch.Size([64, 1, 28, 28]), inputs shape: torch.Size([64, 1, 28, 28])\n",
            "outputs shape: torch.Size([64, 784]), inputs shape: torch.Size([64, 1, 28, 28])\n",
            "outputs shape: torch.Size([64, 1, 28, 28]), inputs shape: torch.Size([64, 1, 28, 28])\n",
            "outputs shape: torch.Size([64, 784]), inputs shape: torch.Size([64, 1, 28, 28])\n",
            "outputs shape: torch.Size([64, 1, 28, 28]), inputs shape: torch.Size([64, 1, 28, 28])\n",
            "outputs shape: torch.Size([64, 784]), inputs shape: torch.Size([64, 1, 28, 28])\n",
            "outputs shape: torch.Size([64, 1, 28, 28]), inputs shape: torch.Size([64, 1, 28, 28])\n",
            "outputs shape: torch.Size([64, 784]), inputs shape: torch.Size([64, 1, 28, 28])\n",
            "outputs shape: torch.Size([64, 1, 28, 28]), inputs shape: torch.Size([64, 1, 28, 28])\n",
            "outputs shape: torch.Size([64, 784]), inputs shape: torch.Size([64, 1, 28, 28])\n",
            "outputs shape: torch.Size([64, 1, 28, 28]), inputs shape: torch.Size([64, 1, 28, 28])\n",
            "outputs shape: torch.Size([64, 784]), inputs shape: torch.Size([64, 1, 28, 28])\n",
            "outputs shape: torch.Size([64, 1, 28, 28]), inputs shape: torch.Size([64, 1, 28, 28])\n",
            "outputs shape: torch.Size([64, 784]), inputs shape: torch.Size([64, 1, 28, 28])\n",
            "outputs shape: torch.Size([64, 1, 28, 28]), inputs shape: torch.Size([64, 1, 28, 28])\n",
            "outputs shape: torch.Size([64, 784]), inputs shape: torch.Size([64, 1, 28, 28])\n",
            "outputs shape: torch.Size([64, 1, 28, 28]), inputs shape: torch.Size([64, 1, 28, 28])\n",
            "outputs shape: torch.Size([64, 784]), inputs shape: torch.Size([64, 1, 28, 28])\n",
            "outputs shape: torch.Size([64, 1, 28, 28]), inputs shape: torch.Size([64, 1, 28, 28])\n",
            "outputs shape: torch.Size([64, 784]), inputs shape: torch.Size([64, 1, 28, 28])\n"
          ]
        },
        {
          "output_type": "stream",
          "name": "stderr",
          "text": [
            "Epoch 1:  32%|███▏      | 296/938 [00:05<00:14, 43.51it/s]"
          ]
        },
        {
          "output_type": "stream",
          "name": "stdout",
          "text": [
            "outputs shape: torch.Size([64, 1, 28, 28]), inputs shape: torch.Size([64, 1, 28, 28])\n",
            "outputs shape: torch.Size([64, 784]), inputs shape: torch.Size([64, 1, 28, 28])\n",
            "outputs shape: torch.Size([64, 1, 28, 28]), inputs shape: torch.Size([64, 1, 28, 28])\n",
            "outputs shape: torch.Size([64, 784]), inputs shape: torch.Size([64, 1, 28, 28])\n",
            "outputs shape: torch.Size([64, 1, 28, 28]), inputs shape: torch.Size([64, 1, 28, 28])\n",
            "outputs shape: torch.Size([64, 784]), inputs shape: torch.Size([64, 1, 28, 28])\n",
            "outputs shape: torch.Size([64, 1, 28, 28]), inputs shape: torch.Size([64, 1, 28, 28])\n",
            "outputs shape: torch.Size([64, 784]), inputs shape: torch.Size([64, 1, 28, 28])\n",
            "outputs shape: torch.Size([64, 1, 28, 28]), inputs shape: torch.Size([64, 1, 28, 28])\n",
            "outputs shape: torch.Size([64, 784]), inputs shape: torch.Size([64, 1, 28, 28])\n",
            "outputs shape: torch.Size([64, 1, 28, 28]), inputs shape: torch.Size([64, 1, 28, 28])\n",
            "outputs shape: torch.Size([64, 784]), inputs shape: torch.Size([64, 1, 28, 28])\n",
            "outputs shape: torch.Size([64, 1, 28, 28]), inputs shape: torch.Size([64, 1, 28, 28])\n",
            "outputs shape: torch.Size([64, 784]), inputs shape: torch.Size([64, 1, 28, 28])\n",
            "outputs shape: torch.Size([64, 1, 28, 28]), inputs shape: torch.Size([64, 1, 28, 28])\n",
            "outputs shape: torch.Size([64, 784]), inputs shape: torch.Size([64, 1, 28, 28])\n",
            "outputs shape: torch.Size([64, 1, 28, 28]), inputs shape: torch.Size([64, 1, 28, 28])\n",
            "outputs shape: torch.Size([64, 784]), inputs shape: torch.Size([64, 1, 28, 28])\n",
            "outputs shape: torch.Size([64, 1, 28, 28]), inputs shape: torch.Size([64, 1, 28, 28])\n"
          ]
        },
        {
          "output_type": "stream",
          "name": "stderr",
          "text": [
            "Epoch 1:  33%|███▎      | 306/938 [00:05<00:14, 44.54it/s]"
          ]
        },
        {
          "output_type": "stream",
          "name": "stdout",
          "text": [
            "loss: 0.26225945353507996\n",
            "outputs shape: torch.Size([64, 784]), inputs shape: torch.Size([64, 1, 28, 28])\n",
            "outputs shape: torch.Size([64, 1, 28, 28]), inputs shape: torch.Size([64, 1, 28, 28])\n",
            "outputs shape: torch.Size([64, 784]), inputs shape: torch.Size([64, 1, 28, 28])\n",
            "outputs shape: torch.Size([64, 1, 28, 28]), inputs shape: torch.Size([64, 1, 28, 28])\n",
            "outputs shape: torch.Size([64, 784]), inputs shape: torch.Size([64, 1, 28, 28])\n",
            "outputs shape: torch.Size([64, 1, 28, 28]), inputs shape: torch.Size([64, 1, 28, 28])\n",
            "outputs shape: torch.Size([64, 784]), inputs shape: torch.Size([64, 1, 28, 28])\n",
            "outputs shape: torch.Size([64, 1, 28, 28]), inputs shape: torch.Size([64, 1, 28, 28])\n",
            "outputs shape: torch.Size([64, 784]), inputs shape: torch.Size([64, 1, 28, 28])\n",
            "outputs shape: torch.Size([64, 1, 28, 28]), inputs shape: torch.Size([64, 1, 28, 28])\n",
            "outputs shape: torch.Size([64, 784]), inputs shape: torch.Size([64, 1, 28, 28])\n",
            "outputs shape: torch.Size([64, 1, 28, 28]), inputs shape: torch.Size([64, 1, 28, 28])\n",
            "outputs shape: torch.Size([64, 784]), inputs shape: torch.Size([64, 1, 28, 28])\n",
            "outputs shape: torch.Size([64, 1, 28, 28]), inputs shape: torch.Size([64, 1, 28, 28])\n",
            "outputs shape: torch.Size([64, 784]), inputs shape: torch.Size([64, 1, 28, 28])\n",
            "outputs shape: torch.Size([64, 1, 28, 28]), inputs shape: torch.Size([64, 1, 28, 28])\n",
            "outputs shape: torch.Size([64, 784]), inputs shape: torch.Size([64, 1, 28, 28])\n",
            "outputs shape: torch.Size([64, 1, 28, 28]), inputs shape: torch.Size([64, 1, 28, 28])\n"
          ]
        },
        {
          "output_type": "stream",
          "name": "stderr",
          "text": [
            "Epoch 1:  34%|███▍      | 317/938 [00:05<00:13, 46.40it/s]"
          ]
        },
        {
          "output_type": "stream",
          "name": "stdout",
          "text": [
            "outputs shape: torch.Size([64, 784]), inputs shape: torch.Size([64, 1, 28, 28])\n",
            "outputs shape: torch.Size([64, 1, 28, 28]), inputs shape: torch.Size([64, 1, 28, 28])\n",
            "outputs shape: torch.Size([64, 784]), inputs shape: torch.Size([64, 1, 28, 28])\n",
            "outputs shape: torch.Size([64, 1, 28, 28]), inputs shape: torch.Size([64, 1, 28, 28])\n",
            "outputs shape: torch.Size([64, 784]), inputs shape: torch.Size([64, 1, 28, 28])\n",
            "outputs shape: torch.Size([64, 1, 28, 28]), inputs shape: torch.Size([64, 1, 28, 28])\n",
            "outputs shape: torch.Size([64, 784]), inputs shape: torch.Size([64, 1, 28, 28])\n",
            "outputs shape: torch.Size([64, 1, 28, 28]), inputs shape: torch.Size([64, 1, 28, 28])\n",
            "outputs shape: torch.Size([64, 784]), inputs shape: torch.Size([64, 1, 28, 28])\n",
            "outputs shape: torch.Size([64, 1, 28, 28]), inputs shape: torch.Size([64, 1, 28, 28])\n",
            "outputs shape: torch.Size([64, 784]), inputs shape: torch.Size([64, 1, 28, 28])\n",
            "outputs shape: torch.Size([64, 1, 28, 28]), inputs shape: torch.Size([64, 1, 28, 28])\n",
            "outputs shape: torch.Size([64, 784]), inputs shape: torch.Size([64, 1, 28, 28])\n",
            "outputs shape: torch.Size([64, 1, 28, 28]), inputs shape: torch.Size([64, 1, 28, 28])\n",
            "outputs shape: torch.Size([64, 784]), inputs shape: torch.Size([64, 1, 28, 28])\n",
            "outputs shape: torch.Size([64, 1, 28, 28]), inputs shape: torch.Size([64, 1, 28, 28])\n",
            "outputs shape: torch.Size([64, 784]), inputs shape: torch.Size([64, 1, 28, 28])\n",
            "outputs shape: torch.Size([64, 1, 28, 28]), inputs shape: torch.Size([64, 1, 28, 28])\n",
            "outputs shape: torch.Size([64, 784]), inputs shape: torch.Size([64, 1, 28, 28])\n",
            "outputs shape: torch.Size([64, 1, 28, 28]), inputs shape: torch.Size([64, 1, 28, 28])\n"
          ]
        },
        {
          "output_type": "stream",
          "name": "stderr",
          "text": [
            "Epoch 1:  35%|███▍      | 327/938 [00:05<00:12, 47.09it/s]"
          ]
        },
        {
          "output_type": "stream",
          "name": "stdout",
          "text": [
            "outputs shape: torch.Size([64, 784]), inputs shape: torch.Size([64, 1, 28, 28])\n",
            "outputs shape: torch.Size([64, 1, 28, 28]), inputs shape: torch.Size([64, 1, 28, 28])\n",
            "outputs shape: torch.Size([64, 784]), inputs shape: torch.Size([64, 1, 28, 28])\n",
            "outputs shape: torch.Size([64, 1, 28, 28]), inputs shape: torch.Size([64, 1, 28, 28])\n",
            "outputs shape: torch.Size([64, 784]), inputs shape: torch.Size([64, 1, 28, 28])\n",
            "outputs shape: torch.Size([64, 1, 28, 28]), inputs shape: torch.Size([64, 1, 28, 28])\n",
            "outputs shape: torch.Size([64, 784]), inputs shape: torch.Size([64, 1, 28, 28])\n",
            "outputs shape: torch.Size([64, 1, 28, 28]), inputs shape: torch.Size([64, 1, 28, 28])\n",
            "outputs shape: torch.Size([64, 784]), inputs shape: torch.Size([64, 1, 28, 28])\n",
            "outputs shape: torch.Size([64, 1, 28, 28]), inputs shape: torch.Size([64, 1, 28, 28])\n",
            "outputs shape: torch.Size([64, 784]), inputs shape: torch.Size([64, 1, 28, 28])\n",
            "outputs shape: torch.Size([64, 1, 28, 28]), inputs shape: torch.Size([64, 1, 28, 28])\n",
            "outputs shape: torch.Size([64, 784]), inputs shape: torch.Size([64, 1, 28, 28])\n",
            "outputs shape: torch.Size([64, 1, 28, 28]), inputs shape: torch.Size([64, 1, 28, 28])\n",
            "outputs shape: torch.Size([64, 784]), inputs shape: torch.Size([64, 1, 28, 28])\n",
            "outputs shape: torch.Size([64, 1, 28, 28]), inputs shape: torch.Size([64, 1, 28, 28])\n",
            "outputs shape: torch.Size([64, 784]), inputs shape: torch.Size([64, 1, 28, 28])\n",
            "outputs shape: torch.Size([64, 1, 28, 28]), inputs shape: torch.Size([64, 1, 28, 28])\n",
            "outputs shape: torch.Size([64, 784]), inputs shape: torch.Size([64, 1, 28, 28])\n",
            "outputs shape: torch.Size([64, 1, 28, 28]), inputs shape: torch.Size([64, 1, 28, 28])\n"
          ]
        },
        {
          "output_type": "stream",
          "name": "stderr",
          "text": [
            "Epoch 1:  36%|███▌      | 337/938 [00:05<00:13, 43.48it/s]"
          ]
        },
        {
          "output_type": "stream",
          "name": "stdout",
          "text": [
            "outputs shape: torch.Size([64, 784]), inputs shape: torch.Size([64, 1, 28, 28])\n",
            "outputs shape: torch.Size([64, 1, 28, 28]), inputs shape: torch.Size([64, 1, 28, 28])\n",
            "outputs shape: torch.Size([64, 784]), inputs shape: torch.Size([64, 1, 28, 28])\n",
            "outputs shape: torch.Size([64, 1, 28, 28]), inputs shape: torch.Size([64, 1, 28, 28])\n",
            "outputs shape: torch.Size([64, 784]), inputs shape: torch.Size([64, 1, 28, 28])\n",
            "outputs shape: torch.Size([64, 1, 28, 28]), inputs shape: torch.Size([64, 1, 28, 28])\n",
            "outputs shape: torch.Size([64, 784]), inputs shape: torch.Size([64, 1, 28, 28])\n",
            "outputs shape: torch.Size([64, 1, 28, 28]), inputs shape: torch.Size([64, 1, 28, 28])\n",
            "outputs shape: torch.Size([64, 784]), inputs shape: torch.Size([64, 1, 28, 28])\n",
            "outputs shape: torch.Size([64, 1, 28, 28]), inputs shape: torch.Size([64, 1, 28, 28])\n",
            "outputs shape: torch.Size([64, 784]), inputs shape: torch.Size([64, 1, 28, 28])\n",
            "outputs shape: torch.Size([64, 1, 28, 28]), inputs shape: torch.Size([64, 1, 28, 28])\n",
            "outputs shape: torch.Size([64, 784]), inputs shape: torch.Size([64, 1, 28, 28])\n",
            "outputs shape: torch.Size([64, 1, 28, 28]), inputs shape: torch.Size([64, 1, 28, 28])\n",
            "outputs shape: torch.Size([64, 784]), inputs shape: torch.Size([64, 1, 28, 28])\n",
            "outputs shape: torch.Size([64, 1, 28, 28]), inputs shape: torch.Size([64, 1, 28, 28])\n"
          ]
        },
        {
          "output_type": "stream",
          "name": "stderr",
          "text": [
            "Epoch 1:  37%|███▋      | 347/938 [00:06<00:13, 44.78it/s]"
          ]
        },
        {
          "output_type": "stream",
          "name": "stdout",
          "text": [
            "outputs shape: torch.Size([64, 784]), inputs shape: torch.Size([64, 1, 28, 28])\n",
            "outputs shape: torch.Size([64, 1, 28, 28]), inputs shape: torch.Size([64, 1, 28, 28])\n",
            "outputs shape: torch.Size([64, 784]), inputs shape: torch.Size([64, 1, 28, 28])\n",
            "outputs shape: torch.Size([64, 1, 28, 28]), inputs shape: torch.Size([64, 1, 28, 28])\n",
            "outputs shape: torch.Size([64, 784]), inputs shape: torch.Size([64, 1, 28, 28])\n",
            "outputs shape: torch.Size([64, 1, 28, 28]), inputs shape: torch.Size([64, 1, 28, 28])\n",
            "outputs shape: torch.Size([64, 784]), inputs shape: torch.Size([64, 1, 28, 28])\n",
            "outputs shape: torch.Size([64, 1, 28, 28]), inputs shape: torch.Size([64, 1, 28, 28])\n",
            "outputs shape: torch.Size([64, 784]), inputs shape: torch.Size([64, 1, 28, 28])\n",
            "outputs shape: torch.Size([64, 1, 28, 28]), inputs shape: torch.Size([64, 1, 28, 28])\n",
            "outputs shape: torch.Size([64, 784]), inputs shape: torch.Size([64, 1, 28, 28])\n",
            "outputs shape: torch.Size([64, 1, 28, 28]), inputs shape: torch.Size([64, 1, 28, 28])\n",
            "outputs shape: torch.Size([64, 784]), inputs shape: torch.Size([64, 1, 28, 28])\n",
            "outputs shape: torch.Size([64, 1, 28, 28]), inputs shape: torch.Size([64, 1, 28, 28])\n",
            "outputs shape: torch.Size([64, 784]), inputs shape: torch.Size([64, 1, 28, 28])\n",
            "outputs shape: torch.Size([64, 1, 28, 28]), inputs shape: torch.Size([64, 1, 28, 28])\n",
            "outputs shape: torch.Size([64, 784]), inputs shape: torch.Size([64, 1, 28, 28])\n",
            "outputs shape: torch.Size([64, 1, 28, 28]), inputs shape: torch.Size([64, 1, 28, 28])\n",
            "outputs shape: torch.Size([64, 784]), inputs shape: torch.Size([64, 1, 28, 28])\n",
            "outputs shape: torch.Size([64, 1, 28, 28]), inputs shape: torch.Size([64, 1, 28, 28])\n"
          ]
        },
        {
          "output_type": "stream",
          "name": "stderr",
          "text": [
            "Epoch 1:  38%|███▊      | 357/938 [00:06<00:12, 45.68it/s]"
          ]
        },
        {
          "output_type": "stream",
          "name": "stdout",
          "text": [
            "outputs shape: torch.Size([64, 784]), inputs shape: torch.Size([64, 1, 28, 28])\n",
            "outputs shape: torch.Size([64, 1, 28, 28]), inputs shape: torch.Size([64, 1, 28, 28])\n",
            "outputs shape: torch.Size([64, 784]), inputs shape: torch.Size([64, 1, 28, 28])\n",
            "outputs shape: torch.Size([64, 1, 28, 28]), inputs shape: torch.Size([64, 1, 28, 28])\n",
            "outputs shape: torch.Size([64, 784]), inputs shape: torch.Size([64, 1, 28, 28])\n",
            "outputs shape: torch.Size([64, 1, 28, 28]), inputs shape: torch.Size([64, 1, 28, 28])\n",
            "outputs shape: torch.Size([64, 784]), inputs shape: torch.Size([64, 1, 28, 28])\n",
            "outputs shape: torch.Size([64, 1, 28, 28]), inputs shape: torch.Size([64, 1, 28, 28])\n",
            "outputs shape: torch.Size([64, 784]), inputs shape: torch.Size([64, 1, 28, 28])\n",
            "outputs shape: torch.Size([64, 1, 28, 28]), inputs shape: torch.Size([64, 1, 28, 28])\n",
            "outputs shape: torch.Size([64, 784]), inputs shape: torch.Size([64, 1, 28, 28])\n",
            "outputs shape: torch.Size([64, 1, 28, 28]), inputs shape: torch.Size([64, 1, 28, 28])\n",
            "outputs shape: torch.Size([64, 784]), inputs shape: torch.Size([64, 1, 28, 28])\n",
            "outputs shape: torch.Size([64, 1, 28, 28]), inputs shape: torch.Size([64, 1, 28, 28])\n",
            "outputs shape: torch.Size([64, 784]), inputs shape: torch.Size([64, 1, 28, 28])\n",
            "outputs shape: torch.Size([64, 1, 28, 28]), inputs shape: torch.Size([64, 1, 28, 28])\n",
            "outputs shape: torch.Size([64, 784]), inputs shape: torch.Size([64, 1, 28, 28])\n",
            "outputs shape: torch.Size([64, 1, 28, 28]), inputs shape: torch.Size([64, 1, 28, 28])\n",
            "outputs shape: torch.Size([64, 784]), inputs shape: torch.Size([64, 1, 28, 28])\n",
            "outputs shape: torch.Size([64, 1, 28, 28]), inputs shape: torch.Size([64, 1, 28, 28])\n"
          ]
        },
        {
          "output_type": "stream",
          "name": "stderr",
          "text": [
            "Epoch 1:  39%|███▉      | 367/938 [00:06<00:12, 46.00it/s]"
          ]
        },
        {
          "output_type": "stream",
          "name": "stdout",
          "text": [
            "outputs shape: torch.Size([64, 784]), inputs shape: torch.Size([64, 1, 28, 28])\n",
            "outputs shape: torch.Size([64, 1, 28, 28]), inputs shape: torch.Size([64, 1, 28, 28])\n",
            "outputs shape: torch.Size([64, 784]), inputs shape: torch.Size([64, 1, 28, 28])\n",
            "outputs shape: torch.Size([64, 1, 28, 28]), inputs shape: torch.Size([64, 1, 28, 28])\n",
            "outputs shape: torch.Size([64, 784]), inputs shape: torch.Size([64, 1, 28, 28])\n",
            "outputs shape: torch.Size([64, 1, 28, 28]), inputs shape: torch.Size([64, 1, 28, 28])\n",
            "outputs shape: torch.Size([64, 784]), inputs shape: torch.Size([64, 1, 28, 28])\n",
            "outputs shape: torch.Size([64, 1, 28, 28]), inputs shape: torch.Size([64, 1, 28, 28])\n",
            "outputs shape: torch.Size([64, 784]), inputs shape: torch.Size([64, 1, 28, 28])\n",
            "outputs shape: torch.Size([64, 1, 28, 28]), inputs shape: torch.Size([64, 1, 28, 28])\n",
            "outputs shape: torch.Size([64, 784]), inputs shape: torch.Size([64, 1, 28, 28])\n",
            "outputs shape: torch.Size([64, 1, 28, 28]), inputs shape: torch.Size([64, 1, 28, 28])\n",
            "outputs shape: torch.Size([64, 784]), inputs shape: torch.Size([64, 1, 28, 28])\n",
            "outputs shape: torch.Size([64, 1, 28, 28]), inputs shape: torch.Size([64, 1, 28, 28])\n",
            "outputs shape: torch.Size([64, 784]), inputs shape: torch.Size([64, 1, 28, 28])\n",
            "outputs shape: torch.Size([64, 1, 28, 28]), inputs shape: torch.Size([64, 1, 28, 28])\n",
            "outputs shape: torch.Size([64, 784]), inputs shape: torch.Size([64, 1, 28, 28])\n",
            "outputs shape: torch.Size([64, 1, 28, 28]), inputs shape: torch.Size([64, 1, 28, 28])\n",
            "outputs shape: torch.Size([64, 784]), inputs shape: torch.Size([64, 1, 28, 28])\n",
            "outputs shape: torch.Size([64, 1, 28, 28]), inputs shape: torch.Size([64, 1, 28, 28])\n"
          ]
        },
        {
          "output_type": "stream",
          "name": "stderr",
          "text": [
            "\rEpoch 1:  40%|███▉      | 372/938 [00:06<00:12, 43.91it/s]"
          ]
        },
        {
          "output_type": "stream",
          "name": "stdout",
          "text": [
            "outputs shape: torch.Size([64, 784]), inputs shape: torch.Size([64, 1, 28, 28])\n",
            "outputs shape: torch.Size([64, 1, 28, 28]), inputs shape: torch.Size([64, 1, 28, 28])\n",
            "outputs shape: torch.Size([64, 784]), inputs shape: torch.Size([64, 1, 28, 28])\n",
            "outputs shape: torch.Size([64, 1, 28, 28]), inputs shape: torch.Size([64, 1, 28, 28])\n",
            "outputs shape: torch.Size([64, 784]), inputs shape: torch.Size([64, 1, 28, 28])\n",
            "outputs shape: torch.Size([64, 1, 28, 28]), inputs shape: torch.Size([64, 1, 28, 28])\n",
            "outputs shape: torch.Size([64, 784]), inputs shape: torch.Size([64, 1, 28, 28])\n",
            "outputs shape: torch.Size([64, 1, 28, 28]), inputs shape: torch.Size([64, 1, 28, 28])\n",
            "outputs shape: torch.Size([64, 784]), inputs shape: torch.Size([64, 1, 28, 28])\n",
            "outputs shape: torch.Size([64, 1, 28, 28]), inputs shape: torch.Size([64, 1, 28, 28])\n",
            "outputs shape: torch.Size([64, 784]), inputs shape: torch.Size([64, 1, 28, 28])\n",
            "outputs shape: torch.Size([64, 1, 28, 28]), inputs shape: torch.Size([64, 1, 28, 28])\n",
            "outputs shape: torch.Size([64, 784]), inputs shape: torch.Size([64, 1, 28, 28])\n",
            "outputs shape: torch.Size([64, 1, 28, 28]), inputs shape: torch.Size([64, 1, 28, 28])\n",
            "outputs shape: torch.Size([64, 784]), inputs shape: torch.Size([64, 1, 28, 28])\n",
            "outputs shape: torch.Size([64, 1, 28, 28]), inputs shape: torch.Size([64, 1, 28, 28])\n"
          ]
        },
        {
          "output_type": "stream",
          "name": "stderr",
          "text": [
            "Epoch 1:  41%|████      | 382/938 [00:06<00:13, 42.35it/s]"
          ]
        },
        {
          "output_type": "stream",
          "name": "stdout",
          "text": [
            "outputs shape: torch.Size([64, 784]), inputs shape: torch.Size([64, 1, 28, 28])\n",
            "outputs shape: torch.Size([64, 1, 28, 28]), inputs shape: torch.Size([64, 1, 28, 28])\n",
            "outputs shape: torch.Size([64, 784]), inputs shape: torch.Size([64, 1, 28, 28])\n",
            "outputs shape: torch.Size([64, 1, 28, 28]), inputs shape: torch.Size([64, 1, 28, 28])\n",
            "outputs shape: torch.Size([64, 784]), inputs shape: torch.Size([64, 1, 28, 28])\n",
            "outputs shape: torch.Size([64, 1, 28, 28]), inputs shape: torch.Size([64, 1, 28, 28])\n",
            "outputs shape: torch.Size([64, 784]), inputs shape: torch.Size([64, 1, 28, 28])\n",
            "outputs shape: torch.Size([64, 1, 28, 28]), inputs shape: torch.Size([64, 1, 28, 28])\n",
            "outputs shape: torch.Size([64, 784]), inputs shape: torch.Size([64, 1, 28, 28])\n",
            "outputs shape: torch.Size([64, 1, 28, 28]), inputs shape: torch.Size([64, 1, 28, 28])\n",
            "outputs shape: torch.Size([64, 784]), inputs shape: torch.Size([64, 1, 28, 28])\n",
            "outputs shape: torch.Size([64, 1, 28, 28]), inputs shape: torch.Size([64, 1, 28, 28])\n",
            "outputs shape: torch.Size([64, 784]), inputs shape: torch.Size([64, 1, 28, 28])\n",
            "outputs shape: torch.Size([64, 1, 28, 28]), inputs shape: torch.Size([64, 1, 28, 28])\n",
            "outputs shape: torch.Size([64, 784]), inputs shape: torch.Size([64, 1, 28, 28])\n",
            "outputs shape: torch.Size([64, 1, 28, 28]), inputs shape: torch.Size([64, 1, 28, 28])\n",
            "outputs shape: torch.Size([64, 784]), inputs shape: torch.Size([64, 1, 28, 28])\n",
            "outputs shape: torch.Size([64, 1, 28, 28]), inputs shape: torch.Size([64, 1, 28, 28])\n"
          ]
        },
        {
          "output_type": "stream",
          "name": "stderr",
          "text": [
            "Epoch 1:  42%|████▏     | 392/938 [00:07<00:13, 41.89it/s]"
          ]
        },
        {
          "output_type": "stream",
          "name": "stdout",
          "text": [
            "outputs shape: torch.Size([64, 784]), inputs shape: torch.Size([64, 1, 28, 28])\n",
            "outputs shape: torch.Size([64, 1, 28, 28]), inputs shape: torch.Size([64, 1, 28, 28])\n",
            "outputs shape: torch.Size([64, 784]), inputs shape: torch.Size([64, 1, 28, 28])\n",
            "outputs shape: torch.Size([64, 1, 28, 28]), inputs shape: torch.Size([64, 1, 28, 28])\n",
            "outputs shape: torch.Size([64, 784]), inputs shape: torch.Size([64, 1, 28, 28])\n",
            "outputs shape: torch.Size([64, 1, 28, 28]), inputs shape: torch.Size([64, 1, 28, 28])\n",
            "outputs shape: torch.Size([64, 784]), inputs shape: torch.Size([64, 1, 28, 28])\n",
            "outputs shape: torch.Size([64, 1, 28, 28]), inputs shape: torch.Size([64, 1, 28, 28])\n",
            "outputs shape: torch.Size([64, 784]), inputs shape: torch.Size([64, 1, 28, 28])\n",
            "outputs shape: torch.Size([64, 1, 28, 28]), inputs shape: torch.Size([64, 1, 28, 28])\n",
            "outputs shape: torch.Size([64, 784]), inputs shape: torch.Size([64, 1, 28, 28])\n",
            "outputs shape: torch.Size([64, 1, 28, 28]), inputs shape: torch.Size([64, 1, 28, 28])\n",
            "outputs shape: torch.Size([64, 784]), inputs shape: torch.Size([64, 1, 28, 28])\n",
            "outputs shape: torch.Size([64, 1, 28, 28]), inputs shape: torch.Size([64, 1, 28, 28])\n",
            "outputs shape: torch.Size([64, 784]), inputs shape: torch.Size([64, 1, 28, 28])\n",
            "outputs shape: torch.Size([64, 1, 28, 28]), inputs shape: torch.Size([64, 1, 28, 28])\n",
            "outputs shape: torch.Size([64, 784]), inputs shape: torch.Size([64, 1, 28, 28])\n",
            "outputs shape: torch.Size([64, 1, 28, 28]), inputs shape: torch.Size([64, 1, 28, 28])\n"
          ]
        },
        {
          "output_type": "stream",
          "name": "stderr",
          "text": [
            "Epoch 1:  43%|████▎     | 402/938 [00:07<00:12, 42.13it/s]"
          ]
        },
        {
          "output_type": "stream",
          "name": "stdout",
          "text": [
            "outputs shape: torch.Size([64, 784]), inputs shape: torch.Size([64, 1, 28, 28])\n",
            "outputs shape: torch.Size([64, 1, 28, 28]), inputs shape: torch.Size([64, 1, 28, 28])\n",
            "outputs shape: torch.Size([64, 784]), inputs shape: torch.Size([64, 1, 28, 28])\n",
            "outputs shape: torch.Size([64, 1, 28, 28]), inputs shape: torch.Size([64, 1, 28, 28])\n",
            "outputs shape: torch.Size([64, 784]), inputs shape: torch.Size([64, 1, 28, 28])\n",
            "outputs shape: torch.Size([64, 1, 28, 28]), inputs shape: torch.Size([64, 1, 28, 28])\n",
            "outputs shape: torch.Size([64, 784]), inputs shape: torch.Size([64, 1, 28, 28])\n",
            "outputs shape: torch.Size([64, 1, 28, 28]), inputs shape: torch.Size([64, 1, 28, 28])\n",
            "outputs shape: torch.Size([64, 784]), inputs shape: torch.Size([64, 1, 28, 28])\n",
            "outputs shape: torch.Size([64, 1, 28, 28]), inputs shape: torch.Size([64, 1, 28, 28])\n",
            "outputs shape: torch.Size([64, 784]), inputs shape: torch.Size([64, 1, 28, 28])\n",
            "outputs shape: torch.Size([64, 1, 28, 28]), inputs shape: torch.Size([64, 1, 28, 28])\n",
            "outputs shape: torch.Size([64, 784]), inputs shape: torch.Size([64, 1, 28, 28])\n",
            "outputs shape: torch.Size([64, 1, 28, 28]), inputs shape: torch.Size([64, 1, 28, 28])\n",
            "loss: 0.256407767534256\n",
            "outputs shape: torch.Size([64, 784]), inputs shape: torch.Size([64, 1, 28, 28])\n",
            "outputs shape: torch.Size([64, 1, 28, 28]), inputs shape: torch.Size([64, 1, 28, 28])\n",
            "outputs shape: torch.Size([64, 784]), inputs shape: torch.Size([64, 1, 28, 28])\n",
            "outputs shape: torch.Size([64, 1, 28, 28]), inputs shape: torch.Size([64, 1, 28, 28])\n"
          ]
        },
        {
          "output_type": "stream",
          "name": "stderr",
          "text": [
            "\rEpoch 1:  43%|████▎     | 407/938 [00:07<00:12, 42.60it/s]"
          ]
        },
        {
          "output_type": "stream",
          "name": "stdout",
          "text": [
            "outputs shape: torch.Size([64, 784]), inputs shape: torch.Size([64, 1, 28, 28])\n",
            "outputs shape: torch.Size([64, 1, 28, 28]), inputs shape: torch.Size([64, 1, 28, 28])\n",
            "outputs shape: torch.Size([64, 784]), inputs shape: torch.Size([64, 1, 28, 28])\n",
            "outputs shape: torch.Size([64, 1, 28, 28]), inputs shape: torch.Size([64, 1, 28, 28])\n",
            "outputs shape: torch.Size([64, 784]), inputs shape: torch.Size([64, 1, 28, 28])\n",
            "outputs shape: torch.Size([64, 1, 28, 28]), inputs shape: torch.Size([64, 1, 28, 28])\n",
            "outputs shape: torch.Size([64, 784]), inputs shape: torch.Size([64, 1, 28, 28])\n",
            "outputs shape: torch.Size([64, 1, 28, 28]), inputs shape: torch.Size([64, 1, 28, 28])\n",
            "outputs shape: torch.Size([64, 784]), inputs shape: torch.Size([64, 1, 28, 28])\n",
            "outputs shape: torch.Size([64, 1, 28, 28]), inputs shape: torch.Size([64, 1, 28, 28])\n",
            "outputs shape: torch.Size([64, 784]), inputs shape: torch.Size([64, 1, 28, 28])\n",
            "outputs shape: torch.Size([64, 1, 28, 28]), inputs shape: torch.Size([64, 1, 28, 28])\n",
            "outputs shape: torch.Size([64, 784]), inputs shape: torch.Size([64, 1, 28, 28])\n",
            "outputs shape: torch.Size([64, 1, 28, 28]), inputs shape: torch.Size([64, 1, 28, 28])\n",
            "outputs shape: torch.Size([64, 784]), inputs shape: torch.Size([64, 1, 28, 28])\n",
            "outputs shape: torch.Size([64, 1, 28, 28]), inputs shape: torch.Size([64, 1, 28, 28])\n",
            "outputs shape: torch.Size([64, 784]), inputs shape: torch.Size([64, 1, 28, 28])\n",
            "outputs shape: torch.Size([64, 1, 28, 28]), inputs shape: torch.Size([64, 1, 28, 28])\n",
            "outputs shape: torch.Size([64, 784]), inputs shape: torch.Size([64, 1, 28, 28])"
          ]
        },
        {
          "output_type": "stream",
          "name": "stderr",
          "text": [
            "Epoch 1:  44%|████▍     | 417/938 [00:07<00:12, 42.51it/s]"
          ]
        },
        {
          "output_type": "stream",
          "name": "stdout",
          "text": [
            "\n",
            "outputs shape: torch.Size([64, 1, 28, 28]), inputs shape: torch.Size([64, 1, 28, 28])\n",
            "outputs shape: torch.Size([64, 784]), inputs shape: torch.Size([64, 1, 28, 28])\n",
            "outputs shape: torch.Size([64, 1, 28, 28]), inputs shape: torch.Size([64, 1, 28, 28])\n",
            "outputs shape: torch.Size([64, 784]), inputs shape: torch.Size([64, 1, 28, 28])\n",
            "outputs shape: torch.Size([64, 1, 28, 28]), inputs shape: torch.Size([64, 1, 28, 28])\n",
            "outputs shape: torch.Size([64, 784]), inputs shape: torch.Size([64, 1, 28, 28])\n",
            "outputs shape: torch.Size([64, 1, 28, 28]), inputs shape: torch.Size([64, 1, 28, 28])\n",
            "outputs shape: torch.Size([64, 784]), inputs shape: torch.Size([64, 1, 28, 28])\n",
            "outputs shape: torch.Size([64, 1, 28, 28]), inputs shape: torch.Size([64, 1, 28, 28])\n",
            "outputs shape: torch.Size([64, 784]), inputs shape: torch.Size([64, 1, 28, 28])\n",
            "outputs shape: torch.Size([64, 1, 28, 28]), inputs shape: torch.Size([64, 1, 28, 28])\n",
            "outputs shape: torch.Size([64, 784]), inputs shape: torch.Size([64, 1, 28, 28])\n",
            "outputs shape: torch.Size([64, 1, 28, 28]), inputs shape: torch.Size([64, 1, 28, 28])\n",
            "outputs shape: torch.Size([64, 784]), inputs shape: torch.Size([64, 1, 28, 28])\n",
            "outputs shape: torch.Size([64, 1, 28, 28]), inputs shape: torch.Size([64, 1, 28, 28])\n",
            "outputs shape: torch.Size([64, 784]), inputs shape: torch.Size([64, 1, 28, 28])\n",
            "outputs shape: torch.Size([64, 1, 28, 28]), inputs shape: torch.Size([64, 1, 28, 28])\n"
          ]
        },
        {
          "output_type": "stream",
          "name": "stderr",
          "text": [
            "Epoch 1:  46%|████▌     | 429/938 [00:07<00:10, 48.64it/s]"
          ]
        },
        {
          "output_type": "stream",
          "name": "stdout",
          "text": [
            "outputs shape: torch.Size([64, 784]), inputs shape: torch.Size([64, 1, 28, 28])\n",
            "outputs shape: torch.Size([64, 1, 28, 28]), inputs shape: torch.Size([64, 1, 28, 28])\n",
            "outputs shape: torch.Size([64, 784]), inputs shape: torch.Size([64, 1, 28, 28])\n",
            "outputs shape: torch.Size([64, 1, 28, 28]), inputs shape: torch.Size([64, 1, 28, 28])\n",
            "outputs shape: torch.Size([64, 784]), inputs shape: torch.Size([64, 1, 28, 28])\n",
            "outputs shape: torch.Size([64, 1, 28, 28]), inputs shape: torch.Size([64, 1, 28, 28])\n",
            "outputs shape: torch.Size([64, 784]), inputs shape: torch.Size([64, 1, 28, 28])\n",
            "outputs shape: torch.Size([64, 1, 28, 28]), inputs shape: torch.Size([64, 1, 28, 28])\n",
            "outputs shape: torch.Size([64, 784]), inputs shape: torch.Size([64, 1, 28, 28])\n",
            "outputs shape: torch.Size([64, 1, 28, 28]), inputs shape: torch.Size([64, 1, 28, 28])\n",
            "outputs shape: torch.Size([64, 784]), inputs shape: torch.Size([64, 1, 28, 28])\n",
            "outputs shape: torch.Size([64, 1, 28, 28]), inputs shape: torch.Size([64, 1, 28, 28])\n",
            "outputs shape: torch.Size([64, 784]), inputs shape: torch.Size([64, 1, 28, 28])\n",
            "outputs shape: torch.Size([64, 1, 28, 28]), inputs shape: torch.Size([64, 1, 28, 28])\n",
            "outputs shape: torch.Size([64, 784]), inputs shape: torch.Size([64, 1, 28, 28])\n",
            "outputs shape: torch.Size([64, 1, 28, 28]), inputs shape: torch.Size([64, 1, 28, 28])\n",
            "outputs shape: torch.Size([64, 784]), inputs shape: torch.Size([64, 1, 28, 28])\n",
            "outputs shape: torch.Size([64, 1, 28, 28]), inputs shape: torch.Size([64, 1, 28, 28])\n",
            "outputs shape: torch.Size([64, 784]), inputs shape: torch.Size([64, 1, 28, 28])\n",
            "outputs shape: torch.Size([64, 1, 28, 28]), inputs shape: torch.Size([64, 1, 28, 28])\n",
            "outputs shape: torch.Size([64, 784]), inputs shape: torch.Size([64, 1, 28, 28])\n",
            "outputs shape: torch.Size([64, 1, 28, 28]), inputs shape: torch.Size([64, 1, 28, 28])\n",
            "outputs shape: torch.Size([64, 784]), inputs shape: torch.Size([64, 1, 28, 28])\n",
            "outputs shape: torch.Size([64, 1, 28, 28]), inputs shape: torch.Size([64, 1, 28, 28])\n",
            "outputs shape: torch.Size([64, 784]), inputs shape: torch.Size([64, 1, 28, 28])\n",
            "outputs shape: torch.Size([64, 1, 28, 28]), inputs shape: torch.Size([64, 1, 28, 28])\n",
            "outputs shape: torch.Size([64, 784]), inputs shape: torch.Size([64, 1, 28, 28])\n",
            "outputs shape: torch.Size([64, 1, 28, 28]), inputs shape: torch.Size([64, 1, 28, 28])\n"
          ]
        },
        {
          "output_type": "stream",
          "name": "stderr",
          "text": [
            "Epoch 1:  47%|████▋     | 443/938 [00:08<00:08, 58.15it/s]"
          ]
        },
        {
          "output_type": "stream",
          "name": "stdout",
          "text": [
            "outputs shape: torch.Size([64, 784]), inputs shape: torch.Size([64, 1, 28, 28])\n",
            "outputs shape: torch.Size([64, 1, 28, 28]), inputs shape: torch.Size([64, 1, 28, 28])\n",
            "outputs shape: torch.Size([64, 784]), inputs shape: torch.Size([64, 1, 28, 28])\n",
            "outputs shape: torch.Size([64, 1, 28, 28]), inputs shape: torch.Size([64, 1, 28, 28])\n",
            "outputs shape: torch.Size([64, 784]), inputs shape: torch.Size([64, 1, 28, 28])\n",
            "outputs shape: torch.Size([64, 1, 28, 28]), inputs shape: torch.Size([64, 1, 28, 28])\n",
            "outputs shape: torch.Size([64, 784]), inputs shape: torch.Size([64, 1, 28, 28])\n",
            "outputs shape: torch.Size([64, 1, 28, 28]), inputs shape: torch.Size([64, 1, 28, 28])\n",
            "outputs shape: torch.Size([64, 784]), inputs shape: torch.Size([64, 1, 28, 28])\n",
            "outputs shape: torch.Size([64, 1, 28, 28]), inputs shape: torch.Size([64, 1, 28, 28])\n",
            "outputs shape: torch.Size([64, 784]), inputs shape: torch.Size([64, 1, 28, 28])\n",
            "outputs shape: torch.Size([64, 1, 28, 28]), inputs shape: torch.Size([64, 1, 28, 28])\n",
            "outputs shape: torch.Size([64, 784]), inputs shape: torch.Size([64, 1, 28, 28])\n",
            "outputs shape: torch.Size([64, 1, 28, 28]), inputs shape: torch.Size([64, 1, 28, 28])\n",
            "outputs shape: torch.Size([64, 784]), inputs shape: torch.Size([64, 1, 28, 28])\n",
            "outputs shape: torch.Size([64, 1, 28, 28]), inputs shape: torch.Size([64, 1, 28, 28])\n",
            "outputs shape: torch.Size([64, 784]), inputs shape: torch.Size([64, 1, 28, 28])\n",
            "outputs shape: torch.Size([64, 1, 28, 28]), inputs shape: torch.Size([64, 1, 28, 28])\n",
            "outputs shape: torch.Size([64, 784]), inputs shape: torch.Size([64, 1, 28, 28])\n",
            "outputs shape: torch.Size([64, 1, 28, 28]), inputs shape: torch.Size([64, 1, 28, 28])\n",
            "outputs shape: torch.Size([64, 784]), inputs shape: torch.Size([64, 1, 28, 28])\n",
            "outputs shape: torch.Size([64, 1, 28, 28]), inputs shape: torch.Size([64, 1, 28, 28])\n",
            "outputs shape: torch.Size([64, 784]), inputs shape: torch.Size([64, 1, 28, 28])\n",
            "outputs shape: torch.Size([64, 1, 28, 28]), inputs shape: torch.Size([64, 1, 28, 28])\n",
            "outputs shape: torch.Size([64, 784]), inputs shape: torch.Size([64, 1, 28, 28])\n",
            "outputs shape: torch.Size([64, 1, 28, 28]), inputs shape: torch.Size([64, 1, 28, 28])\n",
            "outputs shape: torch.Size([64, 784]), inputs shape: torch.Size([64, 1, 28, 28])\n",
            "outputs shape: torch.Size([64, 1, 28, 28]), inputs shape: torch.Size([64, 1, 28, 28])\n"
          ]
        },
        {
          "output_type": "stream",
          "name": "stderr",
          "text": [
            "Epoch 1:  49%|████▊     | 457/938 [00:08<00:07, 61.21it/s]"
          ]
        },
        {
          "output_type": "stream",
          "name": "stdout",
          "text": [
            "outputs shape: torch.Size([64, 784]), inputs shape: torch.Size([64, 1, 28, 28])\n",
            "outputs shape: torch.Size([64, 1, 28, 28]), inputs shape: torch.Size([64, 1, 28, 28])\n",
            "outputs shape: torch.Size([64, 784]), inputs shape: torch.Size([64, 1, 28, 28])\n",
            "outputs shape: torch.Size([64, 1, 28, 28]), inputs shape: torch.Size([64, 1, 28, 28])\n",
            "outputs shape: torch.Size([64, 784]), inputs shape: torch.Size([64, 1, 28, 28])\n",
            "outputs shape: torch.Size([64, 1, 28, 28]), inputs shape: torch.Size([64, 1, 28, 28])\n",
            "outputs shape: torch.Size([64, 784]), inputs shape: torch.Size([64, 1, 28, 28])\n",
            "outputs shape: torch.Size([64, 1, 28, 28]), inputs shape: torch.Size([64, 1, 28, 28])\n",
            "outputs shape: torch.Size([64, 784]), inputs shape: torch.Size([64, 1, 28, 28])\n",
            "outputs shape: torch.Size([64, 1, 28, 28]), inputs shape: torch.Size([64, 1, 28, 28])\n",
            "outputs shape: torch.Size([64, 784]), inputs shape: torch.Size([64, 1, 28, 28])\n",
            "outputs shape: torch.Size([64, 1, 28, 28]), inputs shape: torch.Size([64, 1, 28, 28])\n",
            "outputs shape: torch.Size([64, 784]), inputs shape: torch.Size([64, 1, 28, 28])\n",
            "outputs shape: torch.Size([64, 1, 28, 28]), inputs shape: torch.Size([64, 1, 28, 28])\n",
            "outputs shape: torch.Size([64, 784]), inputs shape: torch.Size([64, 1, 28, 28])\n",
            "outputs shape: torch.Size([64, 1, 28, 28]), inputs shape: torch.Size([64, 1, 28, 28])\n",
            "outputs shape: torch.Size([64, 784]), inputs shape: torch.Size([64, 1, 28, 28])\n",
            "outputs shape: torch.Size([64, 1, 28, 28]), inputs shape: torch.Size([64, 1, 28, 28])\n",
            "outputs shape: torch.Size([64, 784]), inputs shape: torch.Size([64, 1, 28, 28])\n",
            "outputs shape: torch.Size([64, 1, 28, 28]), inputs shape: torch.Size([64, 1, 28, 28])\n",
            "outputs shape: torch.Size([64, 784]), inputs shape: torch.Size([64, 1, 28, 28])\n",
            "outputs shape: torch.Size([64, 1, 28, 28]), inputs shape: torch.Size([64, 1, 28, 28])\n",
            "outputs shape: torch.Size([64, 784]), inputs shape: torch.Size([64, 1, 28, 28])\n",
            "outputs shape: torch.Size([64, 1, 28, 28]), inputs shape: torch.Size([64, 1, 28, 28])\n",
            "outputs shape: torch.Size([64, 784]), inputs shape: torch.Size([64, 1, 28, 28])\n",
            "outputs shape: torch.Size([64, 1, 28, 28]), inputs shape: torch.Size([64, 1, 28, 28])\n"
          ]
        },
        {
          "output_type": "stream",
          "name": "stderr",
          "text": [
            "Epoch 1:  50%|█████     | 471/938 [00:08<00:07, 63.51it/s]"
          ]
        },
        {
          "output_type": "stream",
          "name": "stdout",
          "text": [
            "outputs shape: torch.Size([64, 784]), inputs shape: torch.Size([64, 1, 28, 28])\n",
            "outputs shape: torch.Size([64, 1, 28, 28]), inputs shape: torch.Size([64, 1, 28, 28])\n",
            "outputs shape: torch.Size([64, 784]), inputs shape: torch.Size([64, 1, 28, 28])\n",
            "outputs shape: torch.Size([64, 1, 28, 28]), inputs shape: torch.Size([64, 1, 28, 28])\n",
            "outputs shape: torch.Size([64, 784]), inputs shape: torch.Size([64, 1, 28, 28])\n",
            "outputs shape: torch.Size([64, 1, 28, 28]), inputs shape: torch.Size([64, 1, 28, 28])\n",
            "outputs shape: torch.Size([64, 784]), inputs shape: torch.Size([64, 1, 28, 28])\n",
            "outputs shape: torch.Size([64, 1, 28, 28]), inputs shape: torch.Size([64, 1, 28, 28])\n",
            "outputs shape: torch.Size([64, 784]), inputs shape: torch.Size([64, 1, 28, 28])\n",
            "outputs shape: torch.Size([64, 1, 28, 28]), inputs shape: torch.Size([64, 1, 28, 28])\n",
            "outputs shape: torch.Size([64, 784]), inputs shape: torch.Size([64, 1, 28, 28])\n",
            "outputs shape: torch.Size([64, 1, 28, 28]), inputs shape: torch.Size([64, 1, 28, 28])\n",
            "outputs shape: torch.Size([64, 784]), inputs shape: torch.Size([64, 1, 28, 28])\n",
            "outputs shape: torch.Size([64, 1, 28, 28]), inputs shape: torch.Size([64, 1, 28, 28])\n",
            "outputs shape: torch.Size([64, 784]), inputs shape: torch.Size([64, 1, 28, 28])\n",
            "outputs shape: torch.Size([64, 1, 28, 28]), inputs shape: torch.Size([64, 1, 28, 28])\n",
            "outputs shape: torch.Size([64, 784]), inputs shape: torch.Size([64, 1, 28, 28])\n",
            "outputs shape: torch.Size([64, 1, 28, 28]), inputs shape: torch.Size([64, 1, 28, 28])\n",
            "outputs shape: torch.Size([64, 784]), inputs shape: torch.Size([64, 1, 28, 28])\n",
            "outputs shape: torch.Size([64, 1, 28, 28]), inputs shape: torch.Size([64, 1, 28, 28])\n",
            "outputs shape: torch.Size([64, 784]), inputs shape: torch.Size([64, 1, 28, 28])\n",
            "outputs shape: torch.Size([64, 1, 28, 28]), inputs shape: torch.Size([64, 1, 28, 28])\n",
            "outputs shape: torch.Size([64, 784]), inputs shape: torch.Size([64, 1, 28, 28])\n",
            "outputs shape: torch.Size([64, 1, 28, 28]), inputs shape: torch.Size([64, 1, 28, 28])\n",
            "outputs shape: torch.Size([64, 784]), inputs shape: torch.Size([64, 1, 28, 28])\n",
            "outputs shape: torch.Size([64, 1, 28, 28]), inputs shape: torch.Size([64, 1, 28, 28])\n",
            "outputs shape: torch.Size([64, 784]), inputs shape: torch.Size([64, 1, 28, 28])\n",
            "outputs shape: torch.Size([64, 1, 28, 28]), inputs shape: torch.Size([64, 1, 28, 28])\n"
          ]
        },
        {
          "output_type": "stream",
          "name": "stderr",
          "text": [
            "Epoch 1:  52%|█████▏    | 485/938 [00:08<00:07, 62.72it/s]"
          ]
        },
        {
          "output_type": "stream",
          "name": "stdout",
          "text": [
            "outputs shape: torch.Size([64, 784]), inputs shape: torch.Size([64, 1, 28, 28])\n",
            "outputs shape: torch.Size([64, 1, 28, 28]), inputs shape: torch.Size([64, 1, 28, 28])\n",
            "outputs shape: torch.Size([64, 784]), inputs shape: torch.Size([64, 1, 28, 28])\n",
            "outputs shape: torch.Size([64, 1, 28, 28]), inputs shape: torch.Size([64, 1, 28, 28])\n",
            "outputs shape: torch.Size([64, 784]), inputs shape: torch.Size([64, 1, 28, 28])\n",
            "outputs shape: torch.Size([64, 1, 28, 28]), inputs shape: torch.Size([64, 1, 28, 28])\n",
            "outputs shape: torch.Size([64, 784]), inputs shape: torch.Size([64, 1, 28, 28])\n",
            "outputs shape: torch.Size([64, 1, 28, 28]), inputs shape: torch.Size([64, 1, 28, 28])\n",
            "outputs shape: torch.Size([64, 784]), inputs shape: torch.Size([64, 1, 28, 28])\n",
            "outputs shape: torch.Size([64, 1, 28, 28]), inputs shape: torch.Size([64, 1, 28, 28])\n",
            "outputs shape: torch.Size([64, 784]), inputs shape: torch.Size([64, 1, 28, 28])\n",
            "outputs shape: torch.Size([64, 1, 28, 28]), inputs shape: torch.Size([64, 1, 28, 28])\n",
            "outputs shape: torch.Size([64, 784]), inputs shape: torch.Size([64, 1, 28, 28])\n",
            "outputs shape: torch.Size([64, 1, 28, 28]), inputs shape: torch.Size([64, 1, 28, 28])\n",
            "outputs shape: torch.Size([64, 784]), inputs shape: torch.Size([64, 1, 28, 28])\n",
            "outputs shape: torch.Size([64, 1, 28, 28]), inputs shape: torch.Size([64, 1, 28, 28])\n",
            "outputs shape: torch.Size([64, 784]), inputs shape: torch.Size([64, 1, 28, 28])\n",
            "outputs shape: torch.Size([64, 1, 28, 28]), inputs shape: torch.Size([64, 1, 28, 28])\n",
            "outputs shape: torch.Size([64, 784]), inputs shape: torch.Size([64, 1, 28, 28])\n",
            "outputs shape: torch.Size([64, 1, 28, 28]), inputs shape: torch.Size([64, 1, 28, 28])\n",
            "outputs shape: torch.Size([64, 784]), inputs shape: torch.Size([64, 1, 28, 28])\n",
            "outputs shape: torch.Size([64, 1, 28, 28]), inputs shape: torch.Size([64, 1, 28, 28])\n",
            "outputs shape: torch.Size([64, 784]), inputs shape: torch.Size([64, 1, 28, 28])\n",
            "outputs shape: torch.Size([64, 1, 28, 28]), inputs shape: torch.Size([64, 1, 28, 28])\n",
            "outputs shape: torch.Size([64, 784]), inputs shape: torch.Size([64, 1, 28, 28])\n",
            "outputs shape: torch.Size([64, 1, 28, 28]), inputs shape: torch.Size([64, 1, 28, 28])\n"
          ]
        },
        {
          "output_type": "stream",
          "name": "stderr",
          "text": [
            "Epoch 1:  53%|█████▎    | 500/938 [00:09<00:06, 66.23it/s]"
          ]
        },
        {
          "output_type": "stream",
          "name": "stdout",
          "text": [
            "outputs shape: torch.Size([64, 784]), inputs shape: torch.Size([64, 1, 28, 28])\n",
            "outputs shape: torch.Size([64, 1, 28, 28]), inputs shape: torch.Size([64, 1, 28, 28])\n",
            "outputs shape: torch.Size([64, 784]), inputs shape: torch.Size([64, 1, 28, 28])\n",
            "outputs shape: torch.Size([64, 1, 28, 28]), inputs shape: torch.Size([64, 1, 28, 28])\n",
            "outputs shape: torch.Size([64, 784]), inputs shape: torch.Size([64, 1, 28, 28])\n",
            "outputs shape: torch.Size([64, 1, 28, 28]), inputs shape: torch.Size([64, 1, 28, 28])\n",
            "outputs shape: torch.Size([64, 784]), inputs shape: torch.Size([64, 1, 28, 28])\n",
            "outputs shape: torch.Size([64, 1, 28, 28]), inputs shape: torch.Size([64, 1, 28, 28])\n",
            "outputs shape: torch.Size([64, 784]), inputs shape: torch.Size([64, 1, 28, 28])\n",
            "outputs shape: torch.Size([64, 1, 28, 28]), inputs shape: torch.Size([64, 1, 28, 28])\n",
            "outputs shape: torch.Size([64, 784]), inputs shape: torch.Size([64, 1, 28, 28])\n",
            "outputs shape: torch.Size([64, 1, 28, 28]), inputs shape: torch.Size([64, 1, 28, 28])\n",
            "outputs shape: torch.Size([64, 784]), inputs shape: torch.Size([64, 1, 28, 28])\n",
            "outputs shape: torch.Size([64, 1, 28, 28]), inputs shape: torch.Size([64, 1, 28, 28])\n",
            "outputs shape: torch.Size([64, 784]), inputs shape: torch.Size([64, 1, 28, 28])\n",
            "outputs shape: torch.Size([64, 1, 28, 28]), inputs shape: torch.Size([64, 1, 28, 28])\n",
            "outputs shape: torch.Size([64, 784]), inputs shape: torch.Size([64, 1, 28, 28])\n",
            "outputs shape: torch.Size([64, 1, 28, 28]), inputs shape: torch.Size([64, 1, 28, 28])\n",
            "outputs shape: torch.Size([64, 784]), inputs shape: torch.Size([64, 1, 28, 28])\n",
            "outputs shape: torch.Size([64, 1, 28, 28]), inputs shape: torch.Size([64, 1, 28, 28])\n",
            "outputs shape: torch.Size([64, 784]), inputs shape: torch.Size([64, 1, 28, 28])\n",
            "outputs shape: torch.Size([64, 1, 28, 28]), inputs shape: torch.Size([64, 1, 28, 28])\n",
            "outputs shape: torch.Size([64, 784]), inputs shape: torch.Size([64, 1, 28, 28])\n",
            "outputs shape: torch.Size([64, 1, 28, 28]), inputs shape: torch.Size([64, 1, 28, 28])\n",
            "loss: 0.26541024446487427\n",
            "outputs shape: torch.Size([64, 784]), inputs shape: torch.Size([64, 1, 28, 28])\n",
            "outputs shape: torch.Size([64, 1, 28, 28]), inputs shape: torch.Size([64, 1, 28, 28])\n",
            "outputs shape: torch.Size([64, 784]), inputs shape: torch.Size([64, 1, 28, 28])\n",
            "outputs shape: torch.Size([64, 1, 28, 28]), inputs shape: torch.Size([64, 1, 28, 28])\n",
            "outputs shape: torch.Size([64, 784]), inputs shape: torch.Size([64, 1, 28, 28])\n",
            "outputs shape: torch.Size([64, 1, 28, 28]), inputs shape: torch.Size([64, 1, 28, 28])\n"
          ]
        },
        {
          "output_type": "stream",
          "name": "stderr",
          "text": [
            "Epoch 1:  55%|█████▍    | 514/938 [00:09<00:06, 67.38it/s]"
          ]
        },
        {
          "output_type": "stream",
          "name": "stdout",
          "text": [
            "outputs shape: torch.Size([64, 784]), inputs shape: torch.Size([64, 1, 28, 28])\n",
            "outputs shape: torch.Size([64, 1, 28, 28]), inputs shape: torch.Size([64, 1, 28, 28])\n",
            "outputs shape: torch.Size([64, 784]), inputs shape: torch.Size([64, 1, 28, 28])\n",
            "outputs shape: torch.Size([64, 1, 28, 28]), inputs shape: torch.Size([64, 1, 28, 28])\n",
            "outputs shape: torch.Size([64, 784]), inputs shape: torch.Size([64, 1, 28, 28])\n",
            "outputs shape: torch.Size([64, 1, 28, 28]), inputs shape: torch.Size([64, 1, 28, 28])\n",
            "outputs shape: torch.Size([64, 784]), inputs shape: torch.Size([64, 1, 28, 28])\n",
            "outputs shape: torch.Size([64, 1, 28, 28]), inputs shape: torch.Size([64, 1, 28, 28])\n",
            "outputs shape: torch.Size([64, 784]), inputs shape: torch.Size([64, 1, 28, 28])\n",
            "outputs shape: torch.Size([64, 1, 28, 28]), inputs shape: torch.Size([64, 1, 28, 28])\n",
            "outputs shape: torch.Size([64, 784]), inputs shape: torch.Size([64, 1, 28, 28])\n",
            "outputs shape: torch.Size([64, 1, 28, 28]), inputs shape: torch.Size([64, 1, 28, 28])\n",
            "outputs shape: torch.Size([64, 784]), inputs shape: torch.Size([64, 1, 28, 28])\n",
            "outputs shape: torch.Size([64, 1, 28, 28]), inputs shape: torch.Size([64, 1, 28, 28])\n",
            "outputs shape: torch.Size([64, 784]), inputs shape: torch.Size([64, 1, 28, 28])\n",
            "outputs shape: torch.Size([64, 1, 28, 28]), inputs shape: torch.Size([64, 1, 28, 28])\n",
            "outputs shape: torch.Size([64, 784]), inputs shape: torch.Size([64, 1, 28, 28])\n",
            "outputs shape: torch.Size([64, 1, 28, 28]), inputs shape: torch.Size([64, 1, 28, 28])\n",
            "outputs shape: torch.Size([64, 784]), inputs shape: torch.Size([64, 1, 28, 28])\n",
            "outputs shape: torch.Size([64, 1, 28, 28]), inputs shape: torch.Size([64, 1, 28, 28])\n",
            "outputs shape: torch.Size([64, 784]), inputs shape: torch.Size([64, 1, 28, 28])\n",
            "outputs shape: torch.Size([64, 1, 28, 28]), inputs shape: torch.Size([64, 1, 28, 28])\n",
            "outputs shape: torch.Size([64, 784]), inputs shape: torch.Size([64, 1, 28, 28])\n",
            "outputs shape: torch.Size([64, 1, 28, 28]), inputs shape: torch.Size([64, 1, 28, 28])\n",
            "outputs shape: torch.Size([64, 784]), inputs shape: torch.Size([64, 1, 28, 28])\n",
            "outputs shape: torch.Size([64, 1, 28, 28]), inputs shape: torch.Size([64, 1, 28, 28])\n",
            "outputs shape: torch.Size([64, 784]), inputs shape: torch.Size([64, 1, 28, 28])\n",
            "outputs shape: torch.Size([64, 1, 28, 28]), inputs shape: torch.Size([64, 1, 28, 28])\n",
            "outputs shape: torch.Size([64, 784]), inputs shape: torch.Size([64, 1, 28, 28])\n"
          ]
        },
        {
          "output_type": "stream",
          "name": "stderr",
          "text": [
            "Epoch 1:  56%|█████▋    | 528/938 [00:09<00:06, 65.99it/s]"
          ]
        },
        {
          "output_type": "stream",
          "name": "stdout",
          "text": [
            "outputs shape: torch.Size([64, 1, 28, 28]), inputs shape: torch.Size([64, 1, 28, 28])\n",
            "outputs shape: torch.Size([64, 784]), inputs shape: torch.Size([64, 1, 28, 28])\n",
            "outputs shape: torch.Size([64, 1, 28, 28]), inputs shape: torch.Size([64, 1, 28, 28])\n",
            "outputs shape: torch.Size([64, 784]), inputs shape: torch.Size([64, 1, 28, 28])\n",
            "outputs shape: torch.Size([64, 1, 28, 28]), inputs shape: torch.Size([64, 1, 28, 28])\n",
            "outputs shape: torch.Size([64, 784]), inputs shape: torch.Size([64, 1, 28, 28])\n",
            "outputs shape: torch.Size([64, 1, 28, 28]), inputs shape: torch.Size([64, 1, 28, 28])\n",
            "outputs shape: torch.Size([64, 784]), inputs shape: torch.Size([64, 1, 28, 28])\n",
            "outputs shape: torch.Size([64, 1, 28, 28]), inputs shape: torch.Size([64, 1, 28, 28])\n",
            "outputs shape: torch.Size([64, 784]), inputs shape: torch.Size([64, 1, 28, 28])\n",
            "outputs shape: torch.Size([64, 1, 28, 28]), inputs shape: torch.Size([64, 1, 28, 28])\n",
            "outputs shape: torch.Size([64, 784]), inputs shape: torch.Size([64, 1, 28, 28])\n",
            "outputs shape: torch.Size([64, 1, 28, 28]), inputs shape: torch.Size([64, 1, 28, 28])\n",
            "outputs shape: torch.Size([64, 784]), inputs shape: torch.Size([64, 1, 28, 28])\n",
            "outputs shape: torch.Size([64, 1, 28, 28]), inputs shape: torch.Size([64, 1, 28, 28])\n",
            "outputs shape: torch.Size([64, 784]), inputs shape: torch.Size([64, 1, 28, 28])\n",
            "outputs shape: torch.Size([64, 1, 28, 28]), inputs shape: torch.Size([64, 1, 28, 28])\n",
            "outputs shape: torch.Size([64, 784]), inputs shape: torch.Size([64, 1, 28, 28])\n",
            "outputs shape: torch.Size([64, 1, 28, 28]), inputs shape: torch.Size([64, 1, 28, 28])\n",
            "outputs shape: torch.Size([64, 784]), inputs shape: torch.Size([64, 1, 28, 28])\n",
            "outputs shape: torch.Size([64, 1, 28, 28]), inputs shape: torch.Size([64, 1, 28, 28])\n",
            "outputs shape: torch.Size([64, 784]), inputs shape: torch.Size([64, 1, 28, 28])\n",
            "outputs shape: torch.Size([64, 1, 28, 28]), inputs shape: torch.Size([64, 1, 28, 28])\n",
            "outputs shape: torch.Size([64, 784]), inputs shape: torch.Size([64, 1, 28, 28])\n",
            "outputs shape: torch.Size([64, 1, 28, 28]), inputs shape: torch.Size([64, 1, 28, 28])\n",
            "outputs shape: torch.Size([64, 784]), inputs shape: torch.Size([64, 1, 28, 28])\n",
            "outputs shape: torch.Size([64, 1, 28, 28]), inputs shape: torch.Size([64, 1, 28, 28])\n"
          ]
        },
        {
          "output_type": "stream",
          "name": "stderr",
          "text": [
            "Epoch 1:  58%|█████▊    | 542/938 [00:09<00:05, 67.08it/s]"
          ]
        },
        {
          "output_type": "stream",
          "name": "stdout",
          "text": [
            "outputs shape: torch.Size([64, 784]), inputs shape: torch.Size([64, 1, 28, 28])\n",
            "outputs shape: torch.Size([64, 1, 28, 28]), inputs shape: torch.Size([64, 1, 28, 28])\n",
            "outputs shape: torch.Size([64, 784]), inputs shape: torch.Size([64, 1, 28, 28])\n",
            "outputs shape: torch.Size([64, 1, 28, 28]), inputs shape: torch.Size([64, 1, 28, 28])\n",
            "outputs shape: torch.Size([64, 784]), inputs shape: torch.Size([64, 1, 28, 28])\n",
            "outputs shape: torch.Size([64, 1, 28, 28]), inputs shape: torch.Size([64, 1, 28, 28])\n",
            "outputs shape: torch.Size([64, 784]), inputs shape: torch.Size([64, 1, 28, 28])\n",
            "outputs shape: torch.Size([64, 1, 28, 28]), inputs shape: torch.Size([64, 1, 28, 28])\n",
            "outputs shape: torch.Size([64, 784]), inputs shape: torch.Size([64, 1, 28, 28])\n",
            "outputs shape: torch.Size([64, 1, 28, 28]), inputs shape: torch.Size([64, 1, 28, 28])\n",
            "outputs shape: torch.Size([64, 784]), inputs shape: torch.Size([64, 1, 28, 28])\n",
            "outputs shape: torch.Size([64, 1, 28, 28]), inputs shape: torch.Size([64, 1, 28, 28])\n",
            "outputs shape: torch.Size([64, 784]), inputs shape: torch.Size([64, 1, 28, 28])\n",
            "outputs shape: torch.Size([64, 1, 28, 28]), inputs shape: torch.Size([64, 1, 28, 28])\n",
            "outputs shape: torch.Size([64, 784]), inputs shape: torch.Size([64, 1, 28, 28])\n",
            "outputs shape: torch.Size([64, 1, 28, 28]), inputs shape: torch.Size([64, 1, 28, 28])\n",
            "outputs shape: torch.Size([64, 784]), inputs shape: torch.Size([64, 1, 28, 28])\n",
            "outputs shape: torch.Size([64, 1, 28, 28]), inputs shape: torch.Size([64, 1, 28, 28])\n",
            "outputs shape: torch.Size([64, 784]), inputs shape: torch.Size([64, 1, 28, 28])\n",
            "outputs shape: torch.Size([64, 1, 28, 28]), inputs shape: torch.Size([64, 1, 28, 28])\n",
            "outputs shape: torch.Size([64, 784]), inputs shape: torch.Size([64, 1, 28, 28])\n",
            "outputs shape: torch.Size([64, 1, 28, 28]), inputs shape: torch.Size([64, 1, 28, 28])\n",
            "outputs shape: torch.Size([64, 784]), inputs shape: torch.Size([64, 1, 28, 28])\n",
            "outputs shape: torch.Size([64, 1, 28, 28]), inputs shape: torch.Size([64, 1, 28, 28])\n",
            "outputs shape: torch.Size([64, 784]), inputs shape: torch.Size([64, 1, 28, 28])\n",
            "outputs shape: torch.Size([64, 1, 28, 28]), inputs shape: torch.Size([64, 1, 28, 28])\n",
            "outputs shape: torch.Size([64, 784]), inputs shape: torch.Size([64, 1, 28, 28])\n",
            "outputs shape: torch.Size([64, 1, 28, 28]), inputs shape: torch.Size([64, 1, 28, 28])\n"
          ]
        },
        {
          "output_type": "stream",
          "name": "stderr",
          "text": [
            "Epoch 1:  59%|█████▉    | 556/938 [00:09<00:05, 64.20it/s]"
          ]
        },
        {
          "output_type": "stream",
          "name": "stdout",
          "text": [
            "outputs shape: torch.Size([64, 784]), inputs shape: torch.Size([64, 1, 28, 28])\n",
            "outputs shape: torch.Size([64, 1, 28, 28]), inputs shape: torch.Size([64, 1, 28, 28])\n",
            "outputs shape: torch.Size([64, 784]), inputs shape: torch.Size([64, 1, 28, 28])\n",
            "outputs shape: torch.Size([64, 1, 28, 28]), inputs shape: torch.Size([64, 1, 28, 28])\n",
            "outputs shape: torch.Size([64, 784]), inputs shape: torch.Size([64, 1, 28, 28])\n",
            "outputs shape: torch.Size([64, 1, 28, 28]), inputs shape: torch.Size([64, 1, 28, 28])\n",
            "outputs shape: torch.Size([64, 784]), inputs shape: torch.Size([64, 1, 28, 28])\n",
            "outputs shape: torch.Size([64, 1, 28, 28]), inputs shape: torch.Size([64, 1, 28, 28])\n",
            "outputs shape: torch.Size([64, 784]), inputs shape: torch.Size([64, 1, 28, 28])\n",
            "outputs shape: torch.Size([64, 1, 28, 28]), inputs shape: torch.Size([64, 1, 28, 28])\n",
            "outputs shape: torch.Size([64, 784]), inputs shape: torch.Size([64, 1, 28, 28])\n",
            "outputs shape: torch.Size([64, 1, 28, 28]), inputs shape: torch.Size([64, 1, 28, 28])\n",
            "outputs shape: torch.Size([64, 784]), inputs shape: torch.Size([64, 1, 28, 28])\n",
            "outputs shape: torch.Size([64, 1, 28, 28]), inputs shape: torch.Size([64, 1, 28, 28])\n",
            "outputs shape: torch.Size([64, 784]), inputs shape: torch.Size([64, 1, 28, 28])\n",
            "outputs shape: torch.Size([64, 1, 28, 28]), inputs shape: torch.Size([64, 1, 28, 28])\n",
            "outputs shape: torch.Size([64, 784]), inputs shape: torch.Size([64, 1, 28, 28])\n",
            "outputs shape: torch.Size([64, 1, 28, 28]), inputs shape: torch.Size([64, 1, 28, 28])\n",
            "outputs shape: torch.Size([64, 784]), inputs shape: torch.Size([64, 1, 28, 28])\n",
            "outputs shape: torch.Size([64, 1, 28, 28]), inputs shape: torch.Size([64, 1, 28, 28])\n",
            "outputs shape: torch.Size([64, 784]), inputs shape: torch.Size([64, 1, 28, 28])\n",
            "outputs shape: torch.Size([64, 1, 28, 28]), inputs shape: torch.Size([64, 1, 28, 28])\n",
            "outputs shape: torch.Size([64, 784]), inputs shape: torch.Size([64, 1, 28, 28])\n",
            "outputs shape: torch.Size([64, 1, 28, 28]), inputs shape: torch.Size([64, 1, 28, 28])\n",
            "outputs shape: torch.Size([64, 784]), inputs shape: torch.Size([64, 1, 28, 28])\n",
            "outputs shape: torch.Size([64, 1, 28, 28]), inputs shape: torch.Size([64, 1, 28, 28])\n",
            "outputs shape: torch.Size([64, 784]), inputs shape: torch.Size([64, 1, 28, 28])\n",
            "outputs shape: torch.Size([64, 1, 28, 28]), inputs shape: torch.Size([64, 1, 28, 28])\n"
          ]
        },
        {
          "output_type": "stream",
          "name": "stderr",
          "text": [
            "Epoch 1:  61%|██████    | 570/938 [00:10<00:05, 64.13it/s]"
          ]
        },
        {
          "output_type": "stream",
          "name": "stdout",
          "text": [
            "outputs shape: torch.Size([64, 784]), inputs shape: torch.Size([64, 1, 28, 28])\n",
            "outputs shape: torch.Size([64, 1, 28, 28]), inputs shape: torch.Size([64, 1, 28, 28])\n",
            "outputs shape: torch.Size([64, 784]), inputs shape: torch.Size([64, 1, 28, 28])\n",
            "outputs shape: torch.Size([64, 1, 28, 28]), inputs shape: torch.Size([64, 1, 28, 28])\n",
            "outputs shape: torch.Size([64, 784]), inputs shape: torch.Size([64, 1, 28, 28])\n",
            "outputs shape: torch.Size([64, 1, 28, 28]), inputs shape: torch.Size([64, 1, 28, 28])\n",
            "outputs shape: torch.Size([64, 784]), inputs shape: torch.Size([64, 1, 28, 28])\n",
            "outputs shape: torch.Size([64, 1, 28, 28]), inputs shape: torch.Size([64, 1, 28, 28])\n",
            "outputs shape: torch.Size([64, 784]), inputs shape: torch.Size([64, 1, 28, 28])\n",
            "outputs shape: torch.Size([64, 1, 28, 28]), inputs shape: torch.Size([64, 1, 28, 28])\n",
            "outputs shape: torch.Size([64, 784]), inputs shape: torch.Size([64, 1, 28, 28])\n",
            "outputs shape: torch.Size([64, 1, 28, 28]), inputs shape: torch.Size([64, 1, 28, 28])\n",
            "outputs shape: torch.Size([64, 784]), inputs shape: torch.Size([64, 1, 28, 28])\n",
            "outputs shape: torch.Size([64, 1, 28, 28]), inputs shape: torch.Size([64, 1, 28, 28])\n",
            "outputs shape: torch.Size([64, 784]), inputs shape: torch.Size([64, 1, 28, 28])\n",
            "outputs shape: torch.Size([64, 1, 28, 28]), inputs shape: torch.Size([64, 1, 28, 28])\n",
            "outputs shape: torch.Size([64, 784]), inputs shape: torch.Size([64, 1, 28, 28])\n",
            "outputs shape: torch.Size([64, 1, 28, 28]), inputs shape: torch.Size([64, 1, 28, 28])\n",
            "outputs shape: torch.Size([64, 784]), inputs shape: torch.Size([64, 1, 28, 28])\n",
            "outputs shape: torch.Size([64, 1, 28, 28]), inputs shape: torch.Size([64, 1, 28, 28])\n",
            "outputs shape: torch.Size([64, 784]), inputs shape: torch.Size([64, 1, 28, 28])\n",
            "outputs shape: torch.Size([64, 1, 28, 28]), inputs shape: torch.Size([64, 1, 28, 28])\n",
            "outputs shape: torch.Size([64, 784]), inputs shape: torch.Size([64, 1, 28, 28])\n",
            "outputs shape: torch.Size([64, 1, 28, 28]), inputs shape: torch.Size([64, 1, 28, 28])\n",
            "outputs shape: torch.Size([64, 784]), inputs shape: torch.Size([64, 1, 28, 28])\n",
            "outputs shape: torch.Size([64, 1, 28, 28]), inputs shape: torch.Size([64, 1, 28, 28])\n",
            "outputs shape: torch.Size([64, 784]), inputs shape: torch.Size([64, 1, 28, 28])\n",
            "outputs shape: torch.Size([64, 1, 28, 28]), inputs shape: torch.Size([64, 1, 28, 28])\n"
          ]
        },
        {
          "output_type": "stream",
          "name": "stderr",
          "text": [
            "Epoch 1:  62%|██████▏   | 585/938 [00:10<00:05, 68.01it/s]"
          ]
        },
        {
          "output_type": "stream",
          "name": "stdout",
          "text": [
            "outputs shape: torch.Size([64, 784]), inputs shape: torch.Size([64, 1, 28, 28])\n",
            "outputs shape: torch.Size([64, 1, 28, 28]), inputs shape: torch.Size([64, 1, 28, 28])\n",
            "outputs shape: torch.Size([64, 784]), inputs shape: torch.Size([64, 1, 28, 28])\n",
            "outputs shape: torch.Size([64, 1, 28, 28]), inputs shape: torch.Size([64, 1, 28, 28])\n",
            "outputs shape: torch.Size([64, 784]), inputs shape: torch.Size([64, 1, 28, 28])\n",
            "outputs shape: torch.Size([64, 1, 28, 28]), inputs shape: torch.Size([64, 1, 28, 28])\n",
            "outputs shape: torch.Size([64, 784]), inputs shape: torch.Size([64, 1, 28, 28])\n",
            "outputs shape: torch.Size([64, 1, 28, 28]), inputs shape: torch.Size([64, 1, 28, 28])\n",
            "outputs shape: torch.Size([64, 784]), inputs shape: torch.Size([64, 1, 28, 28])\n",
            "outputs shape: torch.Size([64, 1, 28, 28]), inputs shape: torch.Size([64, 1, 28, 28])\n",
            "outputs shape: torch.Size([64, 784]), inputs shape: torch.Size([64, 1, 28, 28])\n",
            "outputs shape: torch.Size([64, 1, 28, 28]), inputs shape: torch.Size([64, 1, 28, 28])\n",
            "outputs shape: torch.Size([64, 784]), inputs shape: torch.Size([64, 1, 28, 28])\n",
            "outputs shape: torch.Size([64, 1, 28, 28]), inputs shape: torch.Size([64, 1, 28, 28])\n",
            "outputs shape: torch.Size([64, 784]), inputs shape: torch.Size([64, 1, 28, 28])\n",
            "outputs shape: torch.Size([64, 1, 28, 28]), inputs shape: torch.Size([64, 1, 28, 28])\n",
            "outputs shape: torch.Size([64, 784]), inputs shape: torch.Size([64, 1, 28, 28])\n",
            "outputs shape: torch.Size([64, 1, 28, 28]), inputs shape: torch.Size([64, 1, 28, 28])\n",
            "outputs shape: torch.Size([64, 784]), inputs shape: torch.Size([64, 1, 28, 28])\n",
            "outputs shape: torch.Size([64, 1, 28, 28]), inputs shape: torch.Size([64, 1, 28, 28])\n",
            "outputs shape: torch.Size([64, 784]), inputs shape: torch.Size([64, 1, 28, 28])\n",
            "outputs shape: torch.Size([64, 1, 28, 28]), inputs shape: torch.Size([64, 1, 28, 28])\n",
            "outputs shape: torch.Size([64, 784]), inputs shape: torch.Size([64, 1, 28, 28])\n",
            "outputs shape: torch.Size([64, 1, 28, 28]), inputs shape: torch.Size([64, 1, 28, 28])\n",
            "outputs shape: torch.Size([64, 784]), inputs shape: torch.Size([64, 1, 28, 28])\n",
            "outputs shape: torch.Size([64, 1, 28, 28]), inputs shape: torch.Size([64, 1, 28, 28])\n",
            "outputs shape: torch.Size([64, 784]), inputs shape: torch.Size([64, 1, 28, 28])\n",
            "outputs shape: torch.Size([64, 1, 28, 28]), inputs shape: torch.Size([64, 1, 28, 28])\n",
            "outputs shape: torch.Size([64, 784]), inputs shape: torch.Size([64, 1, 28, 28])\n",
            "outputs shape: torch.Size([64, 1, 28, 28]), inputs shape: torch.Size([64, 1, 28, 28])\n"
          ]
        },
        {
          "output_type": "stream",
          "name": "stderr",
          "text": [
            "Epoch 1:  64%|██████▍   | 599/938 [00:10<00:05, 66.02it/s]"
          ]
        },
        {
          "output_type": "stream",
          "name": "stdout",
          "text": [
            "outputs shape: torch.Size([64, 784]), inputs shape: torch.Size([64, 1, 28, 28])\n",
            "outputs shape: torch.Size([64, 1, 28, 28]), inputs shape: torch.Size([64, 1, 28, 28])\n",
            "outputs shape: torch.Size([64, 784]), inputs shape: torch.Size([64, 1, 28, 28])\n",
            "outputs shape: torch.Size([64, 1, 28, 28]), inputs shape: torch.Size([64, 1, 28, 28])\n",
            "outputs shape: torch.Size([64, 784]), inputs shape: torch.Size([64, 1, 28, 28])\n",
            "outputs shape: torch.Size([64, 1, 28, 28]), inputs shape: torch.Size([64, 1, 28, 28])\n",
            "outputs shape: torch.Size([64, 784]), inputs shape: torch.Size([64, 1, 28, 28])\n",
            "outputs shape: torch.Size([64, 1, 28, 28]), inputs shape: torch.Size([64, 1, 28, 28])\n",
            "outputs shape: torch.Size([64, 784]), inputs shape: torch.Size([64, 1, 28, 28])\n",
            "outputs shape: torch.Size([64, 1, 28, 28]), inputs shape: torch.Size([64, 1, 28, 28])\n",
            "outputs shape: torch.Size([64, 784]), inputs shape: torch.Size([64, 1, 28, 28])\n",
            "outputs shape: torch.Size([64, 1, 28, 28]), inputs shape: torch.Size([64, 1, 28, 28])\n",
            "outputs shape: torch.Size([64, 784]), inputs shape: torch.Size([64, 1, 28, 28])\n",
            "outputs shape: torch.Size([64, 1, 28, 28]), inputs shape: torch.Size([64, 1, 28, 28])\n",
            "outputs shape: torch.Size([64, 784]), inputs shape: torch.Size([64, 1, 28, 28])\n",
            "outputs shape: torch.Size([64, 1, 28, 28]), inputs shape: torch.Size([64, 1, 28, 28])\n",
            "outputs shape: torch.Size([64, 784]), inputs shape: torch.Size([64, 1, 28, 28])\n",
            "outputs shape: torch.Size([64, 1, 28, 28]), inputs shape: torch.Size([64, 1, 28, 28])\n",
            "outputs shape: torch.Size([64, 784]), inputs shape: torch.Size([64, 1, 28, 28])\n",
            "outputs shape: torch.Size([64, 1, 28, 28]), inputs shape: torch.Size([64, 1, 28, 28])\n",
            "outputs shape: torch.Size([64, 784]), inputs shape: torch.Size([64, 1, 28, 28])\n",
            "outputs shape: torch.Size([64, 1, 28, 28]), inputs shape: torch.Size([64, 1, 28, 28])\n",
            "outputs shape: torch.Size([64, 784]), inputs shape: torch.Size([64, 1, 28, 28])\n",
            "outputs shape: torch.Size([64, 1, 28, 28]), inputs shape: torch.Size([64, 1, 28, 28])\n",
            "loss: 0.25051334500312805\n",
            "outputs shape: torch.Size([64, 784]), inputs shape: torch.Size([64, 1, 28, 28])\n",
            "outputs shape: torch.Size([64, 1, 28, 28]), inputs shape: torch.Size([64, 1, 28, 28])\n"
          ]
        },
        {
          "output_type": "stream",
          "name": "stderr",
          "text": [
            "Epoch 1:  65%|██████▌   | 613/938 [00:10<00:05, 62.60it/s]"
          ]
        },
        {
          "output_type": "stream",
          "name": "stdout",
          "text": [
            "outputs shape: torch.Size([64, 784]), inputs shape: torch.Size([64, 1, 28, 28])\n",
            "outputs shape: torch.Size([64, 1, 28, 28]), inputs shape: torch.Size([64, 1, 28, 28])\n",
            "outputs shape: torch.Size([64, 784]), inputs shape: torch.Size([64, 1, 28, 28])\n",
            "outputs shape: torch.Size([64, 1, 28, 28]), inputs shape: torch.Size([64, 1, 28, 28])\n",
            "outputs shape: torch.Size([64, 784]), inputs shape: torch.Size([64, 1, 28, 28])\n",
            "outputs shape: torch.Size([64, 1, 28, 28]), inputs shape: torch.Size([64, 1, 28, 28])\n",
            "outputs shape: torch.Size([64, 784]), inputs shape: torch.Size([64, 1, 28, 28])\n",
            "outputs shape: torch.Size([64, 1, 28, 28]), inputs shape: torch.Size([64, 1, 28, 28])\n",
            "outputs shape: torch.Size([64, 784]), inputs shape: torch.Size([64, 1, 28, 28])\n",
            "outputs shape: torch.Size([64, 1, 28, 28]), inputs shape: torch.Size([64, 1, 28, 28])\n",
            "outputs shape: torch.Size([64, 784]), inputs shape: torch.Size([64, 1, 28, 28])\n",
            "outputs shape: torch.Size([64, 1, 28, 28]), inputs shape: torch.Size([64, 1, 28, 28])\n",
            "outputs shape: torch.Size([64, 784]), inputs shape: torch.Size([64, 1, 28, 28])\n",
            "outputs shape: torch.Size([64, 1, 28, 28]), inputs shape: torch.Size([64, 1, 28, 28])\n",
            "outputs shape: torch.Size([64, 784]), inputs shape: torch.Size([64, 1, 28, 28])\n",
            "outputs shape: torch.Size([64, 1, 28, 28]), inputs shape: torch.Size([64, 1, 28, 28])\n",
            "outputs shape: torch.Size([64, 784]), inputs shape: torch.Size([64, 1, 28, 28])\n",
            "outputs shape: torch.Size([64, 1, 28, 28]), inputs shape: torch.Size([64, 1, 28, 28])\n",
            "outputs shape: torch.Size([64, 784]), inputs shape: torch.Size([64, 1, 28, 28])\n",
            "outputs shape: torch.Size([64, 1, 28, 28]), inputs shape: torch.Size([64, 1, 28, 28])\n",
            "outputs shape: torch.Size([64, 784]), inputs shape: torch.Size([64, 1, 28, 28])\n",
            "outputs shape: torch.Size([64, 1, 28, 28]), inputs shape: torch.Size([64, 1, 28, 28])\n",
            "outputs shape: torch.Size([64, 784]), inputs shape: torch.Size([64, 1, 28, 28])\n",
            "outputs shape: torch.Size([64, 1, 28, 28]), inputs shape: torch.Size([64, 1, 28, 28])\n",
            "outputs shape: torch.Size([64, 784]), inputs shape: torch.Size([64, 1, 28, 28])\n",
            "outputs shape: torch.Size([64, 1, 28, 28]), inputs shape: torch.Size([64, 1, 28, 28])\n"
          ]
        },
        {
          "output_type": "stream",
          "name": "stderr",
          "text": [
            "Epoch 1:  67%|██████▋   | 627/938 [00:11<00:04, 64.60it/s]"
          ]
        },
        {
          "output_type": "stream",
          "name": "stdout",
          "text": [
            "outputs shape: torch.Size([64, 784]), inputs shape: torch.Size([64, 1, 28, 28])\n",
            "outputs shape: torch.Size([64, 1, 28, 28]), inputs shape: torch.Size([64, 1, 28, 28])\n",
            "outputs shape: torch.Size([64, 784]), inputs shape: torch.Size([64, 1, 28, 28])\n",
            "outputs shape: torch.Size([64, 1, 28, 28]), inputs shape: torch.Size([64, 1, 28, 28])\n",
            "outputs shape: torch.Size([64, 784]), inputs shape: torch.Size([64, 1, 28, 28])\n",
            "outputs shape: torch.Size([64, 1, 28, 28]), inputs shape: torch.Size([64, 1, 28, 28])\n",
            "outputs shape: torch.Size([64, 784]), inputs shape: torch.Size([64, 1, 28, 28])\n",
            "outputs shape: torch.Size([64, 1, 28, 28]), inputs shape: torch.Size([64, 1, 28, 28])\n",
            "outputs shape: torch.Size([64, 784]), inputs shape: torch.Size([64, 1, 28, 28])\n",
            "outputs shape: torch.Size([64, 1, 28, 28]), inputs shape: torch.Size([64, 1, 28, 28])\n",
            "outputs shape: torch.Size([64, 784]), inputs shape: torch.Size([64, 1, 28, 28])\n",
            "outputs shape: torch.Size([64, 1, 28, 28]), inputs shape: torch.Size([64, 1, 28, 28])\n",
            "outputs shape: torch.Size([64, 784]), inputs shape: torch.Size([64, 1, 28, 28])\n",
            "outputs shape: torch.Size([64, 1, 28, 28]), inputs shape: torch.Size([64, 1, 28, 28])\n",
            "outputs shape: torch.Size([64, 784]), inputs shape: torch.Size([64, 1, 28, 28])\n",
            "outputs shape: torch.Size([64, 1, 28, 28]), inputs shape: torch.Size([64, 1, 28, 28])\n",
            "outputs shape: torch.Size([64, 784]), inputs shape: torch.Size([64, 1, 28, 28])\n",
            "outputs shape: torch.Size([64, 1, 28, 28]), inputs shape: torch.Size([64, 1, 28, 28])\n",
            "outputs shape: torch.Size([64, 784]), inputs shape: torch.Size([64, 1, 28, 28])\n",
            "outputs shape: torch.Size([64, 1, 28, 28]), inputs shape: torch.Size([64, 1, 28, 28])\n",
            "outputs shape: torch.Size([64, 784]), inputs shape: torch.Size([64, 1, 28, 28])\n",
            "outputs shape: torch.Size([64, 1, 28, 28]), inputs shape: torch.Size([64, 1, 28, 28])\n",
            "outputs shape: torch.Size([64, 784]), inputs shape: torch.Size([64, 1, 28, 28])\n",
            "outputs shape: torch.Size([64, 1, 28, 28]), inputs shape: torch.Size([64, 1, 28, 28])\n",
            "outputs shape: torch.Size([64, 784]), inputs shape: torch.Size([64, 1, 28, 28])\n",
            "outputs shape: torch.Size([64, 1, 28, 28]), inputs shape: torch.Size([64, 1, 28, 28])\n",
            "outputs shape: torch.Size([64, 784]), inputs shape: torch.Size([64, 1, 28, 28])\n",
            "outputs shape: torch.Size([64, 1, 28, 28]), inputs shape: torch.Size([64, 1, 28, 28])\n"
          ]
        },
        {
          "output_type": "stream",
          "name": "stderr",
          "text": [
            "Epoch 1:  68%|██████▊   | 641/938 [00:11<00:04, 66.10it/s]"
          ]
        },
        {
          "output_type": "stream",
          "name": "stdout",
          "text": [
            "outputs shape: torch.Size([64, 784]), inputs shape: torch.Size([64, 1, 28, 28])\n",
            "outputs shape: torch.Size([64, 1, 28, 28]), inputs shape: torch.Size([64, 1, 28, 28])\n",
            "outputs shape: torch.Size([64, 784]), inputs shape: torch.Size([64, 1, 28, 28])\n",
            "outputs shape: torch.Size([64, 1, 28, 28]), inputs shape: torch.Size([64, 1, 28, 28])\n",
            "outputs shape: torch.Size([64, 784]), inputs shape: torch.Size([64, 1, 28, 28])\n",
            "outputs shape: torch.Size([64, 1, 28, 28]), inputs shape: torch.Size([64, 1, 28, 28])\n",
            "outputs shape: torch.Size([64, 784]), inputs shape: torch.Size([64, 1, 28, 28])\n",
            "outputs shape: torch.Size([64, 1, 28, 28]), inputs shape: torch.Size([64, 1, 28, 28])\n",
            "outputs shape: torch.Size([64, 784]), inputs shape: torch.Size([64, 1, 28, 28])\n",
            "outputs shape: torch.Size([64, 1, 28, 28]), inputs shape: torch.Size([64, 1, 28, 28])\n",
            "outputs shape: torch.Size([64, 784]), inputs shape: torch.Size([64, 1, 28, 28])\n",
            "outputs shape: torch.Size([64, 1, 28, 28]), inputs shape: torch.Size([64, 1, 28, 28])\n",
            "outputs shape: torch.Size([64, 784]), inputs shape: torch.Size([64, 1, 28, 28])\n",
            "outputs shape: torch.Size([64, 1, 28, 28]), inputs shape: torch.Size([64, 1, 28, 28])\n",
            "outputs shape: torch.Size([64, 784]), inputs shape: torch.Size([64, 1, 28, 28])\n",
            "outputs shape: torch.Size([64, 1, 28, 28]), inputs shape: torch.Size([64, 1, 28, 28])\n",
            "outputs shape: torch.Size([64, 784]), inputs shape: torch.Size([64, 1, 28, 28])\n",
            "outputs shape: torch.Size([64, 1, 28, 28]), inputs shape: torch.Size([64, 1, 28, 28])\n",
            "outputs shape: torch.Size([64, 784]), inputs shape: torch.Size([64, 1, 28, 28])\n",
            "outputs shape: torch.Size([64, 1, 28, 28]), inputs shape: torch.Size([64, 1, 28, 28])\n",
            "outputs shape: torch.Size([64, 784]), inputs shape: torch.Size([64, 1, 28, 28])\n",
            "outputs shape: torch.Size([64, 1, 28, 28]), inputs shape: torch.Size([64, 1, 28, 28])\n",
            "outputs shape: torch.Size([64, 784]), inputs shape: torch.Size([64, 1, 28, 28])\n",
            "outputs shape: torch.Size([64, 1, 28, 28]), inputs shape: torch.Size([64, 1, 28, 28])\n",
            "outputs shape: torch.Size([64, 784]), inputs shape: torch.Size([64, 1, 28, 28])\n",
            "outputs shape: torch.Size([64, 1, 28, 28]), inputs shape: torch.Size([64, 1, 28, 28])\n",
            "outputs shape: torch.Size([64, 784]), inputs shape: torch.Size([64, 1, 28, 28])\n",
            "outputs shape: torch.Size([64, 1, 28, 28]), inputs shape: torch.Size([64, 1, 28, 28])\n"
          ]
        },
        {
          "output_type": "stream",
          "name": "stderr",
          "text": [
            "Epoch 1:  70%|██████▉   | 655/938 [00:11<00:04, 66.23it/s]"
          ]
        },
        {
          "output_type": "stream",
          "name": "stdout",
          "text": [
            "outputs shape: torch.Size([64, 784]), inputs shape: torch.Size([64, 1, 28, 28])\n",
            "outputs shape: torch.Size([64, 1, 28, 28]), inputs shape: torch.Size([64, 1, 28, 28])\n",
            "outputs shape: torch.Size([64, 784]), inputs shape: torch.Size([64, 1, 28, 28])\n",
            "outputs shape: torch.Size([64, 1, 28, 28]), inputs shape: torch.Size([64, 1, 28, 28])\n",
            "outputs shape: torch.Size([64, 784]), inputs shape: torch.Size([64, 1, 28, 28])\n",
            "outputs shape: torch.Size([64, 1, 28, 28]), inputs shape: torch.Size([64, 1, 28, 28])\n",
            "outputs shape: torch.Size([64, 784]), inputs shape: torch.Size([64, 1, 28, 28])\n",
            "outputs shape: torch.Size([64, 1, 28, 28]), inputs shape: torch.Size([64, 1, 28, 28])\n",
            "outputs shape: torch.Size([64, 784]), inputs shape: torch.Size([64, 1, 28, 28])\n",
            "outputs shape: torch.Size([64, 1, 28, 28]), inputs shape: torch.Size([64, 1, 28, 28])\n",
            "outputs shape: torch.Size([64, 784]), inputs shape: torch.Size([64, 1, 28, 28])\n",
            "outputs shape: torch.Size([64, 1, 28, 28]), inputs shape: torch.Size([64, 1, 28, 28])\n",
            "outputs shape: torch.Size([64, 784]), inputs shape: torch.Size([64, 1, 28, 28])\n",
            "outputs shape: torch.Size([64, 1, 28, 28]), inputs shape: torch.Size([64, 1, 28, 28])\n",
            "outputs shape: torch.Size([64, 784]), inputs shape: torch.Size([64, 1, 28, 28])\n",
            "outputs shape: torch.Size([64, 1, 28, 28]), inputs shape: torch.Size([64, 1, 28, 28])\n",
            "outputs shape: torch.Size([64, 784]), inputs shape: torch.Size([64, 1, 28, 28])\n",
            "outputs shape: torch.Size([64, 1, 28, 28]), inputs shape: torch.Size([64, 1, 28, 28])\n",
            "outputs shape: torch.Size([64, 784]), inputs shape: torch.Size([64, 1, 28, 28])\n",
            "outputs shape: torch.Size([64, 1, 28, 28]), inputs shape: torch.Size([64, 1, 28, 28])\n",
            "outputs shape: torch.Size([64, 784]), inputs shape: torch.Size([64, 1, 28, 28])\n",
            "outputs shape: torch.Size([64, 1, 28, 28]), inputs shape: torch.Size([64, 1, 28, 28])\n",
            "outputs shape: torch.Size([64, 784]), inputs shape: torch.Size([64, 1, 28, 28])\n",
            "outputs shape: torch.Size([64, 1, 28, 28]), inputs shape: torch.Size([64, 1, 28, 28])\n",
            "outputs shape: torch.Size([64, 784]), inputs shape: torch.Size([64, 1, 28, 28])\n",
            "outputs shape: torch.Size([64, 1, 28, 28]), inputs shape: torch.Size([64, 1, 28, 28])\n",
            "outputs shape: torch.Size([64, 784]), inputs shape: torch.Size([64, 1, 28, 28])\n",
            "outputs shape: torch.Size([64, 1, 28, 28]), inputs shape: torch.Size([64, 1, 28, 28])\n"
          ]
        },
        {
          "output_type": "stream",
          "name": "stderr",
          "text": [
            "\rEpoch 1:  71%|███████   | 662/938 [00:11<00:04, 62.22it/s]"
          ]
        },
        {
          "output_type": "stream",
          "name": "stdout",
          "text": [
            "outputs shape: torch.Size([64, 784]), inputs shape: torch.Size([64, 1, 28, 28])\n",
            "outputs shape: torch.Size([64, 1, 28, 28]), inputs shape: torch.Size([64, 1, 28, 28])\n",
            "outputs shape: torch.Size([64, 784]), inputs shape: torch.Size([64, 1, 28, 28])\n",
            "outputs shape: torch.Size([64, 1, 28, 28]), inputs shape: torch.Size([64, 1, 28, 28])\n",
            "outputs shape: torch.Size([64, 784]), inputs shape: torch.Size([64, 1, 28, 28])\n",
            "outputs shape: torch.Size([64, 1, 28, 28]), inputs shape: torch.Size([64, 1, 28, 28])\n",
            "outputs shape: torch.Size([64, 784]), inputs shape: torch.Size([64, 1, 28, 28])\n",
            "outputs shape: torch.Size([64, 1, 28, 28]), inputs shape: torch.Size([64, 1, 28, 28])\n",
            "outputs shape: torch.Size([64, 784]), inputs shape: torch.Size([64, 1, 28, 28])\n",
            "outputs shape: torch.Size([64, 1, 28, 28]), inputs shape: torch.Size([64, 1, 28, 28])\n",
            "outputs shape: torch.Size([64, 784]), inputs shape: torch.Size([64, 1, 28, 28])\n",
            "outputs shape: torch.Size([64, 1, 28, 28]), inputs shape: torch.Size([64, 1, 28, 28])\n",
            "outputs shape: torch.Size([64, 784]), inputs shape: torch.Size([64, 1, 28, 28])\n",
            "outputs shape: torch.Size([64, 1, 28, 28]), inputs shape: torch.Size([64, 1, 28, 28])\n",
            "outputs shape: torch.Size([64, 784]), inputs shape: torch.Size([64, 1, 28, 28])\n",
            "outputs shape: torch.Size([64, 1, 28, 28]), inputs shape: torch.Size([64, 1, 28, 28])\n",
            "outputs shape: torch.Size([64, 784]), inputs shape: torch.Size([64, 1, 28, 28])\n",
            "outputs shape: torch.Size([64, 1, 28, 28]), inputs shape: torch.Size([64, 1, 28, 28])\n",
            "outputs shape: torch.Size([64, 784]), inputs shape: torch.Size([64, 1, 28, 28])\n",
            "outputs shape: torch.Size([64, 1, 28, 28]), inputs shape: torch.Size([64, 1, 28, 28])\n",
            "outputs shape: torch.Size([64, 784]), inputs shape: torch.Size([64, 1, 28, 28])\n",
            "outputs shape: torch.Size([64, 1, 28, 28]), inputs shape: torch.Size([64, 1, 28, 28])\n",
            "outputs shape: torch.Size([64, 784]), inputs shape: torch.Size([64, 1, 28, 28])\n",
            "outputs shape: torch.Size([64, 1, 28, 28]), inputs shape: torch.Size([64, 1, 28, 28])\n"
          ]
        },
        {
          "output_type": "stream",
          "name": "stderr",
          "text": [
            "Epoch 1:  72%|███████▏  | 676/938 [00:11<00:04, 57.48it/s]"
          ]
        },
        {
          "output_type": "stream",
          "name": "stdout",
          "text": [
            "outputs shape: torch.Size([64, 784]), inputs shape: torch.Size([64, 1, 28, 28])\n",
            "outputs shape: torch.Size([64, 1, 28, 28]), inputs shape: torch.Size([64, 1, 28, 28])\n",
            "outputs shape: torch.Size([64, 784]), inputs shape: torch.Size([64, 1, 28, 28])\n",
            "outputs shape: torch.Size([64, 1, 28, 28]), inputs shape: torch.Size([64, 1, 28, 28])\n",
            "outputs shape: torch.Size([64, 784]), inputs shape: torch.Size([64, 1, 28, 28])\n",
            "outputs shape: torch.Size([64, 1, 28, 28]), inputs shape: torch.Size([64, 1, 28, 28])\n",
            "outputs shape: torch.Size([64, 784]), inputs shape: torch.Size([64, 1, 28, 28])\n",
            "outputs shape: torch.Size([64, 1, 28, 28]), inputs shape: torch.Size([64, 1, 28, 28])\n",
            "outputs shape: torch.Size([64, 784]), inputs shape: torch.Size([64, 1, 28, 28])\n",
            "outputs shape: torch.Size([64, 1, 28, 28]), inputs shape: torch.Size([64, 1, 28, 28])\n",
            "outputs shape: torch.Size([64, 784]), inputs shape: torch.Size([64, 1, 28, 28])\n",
            "outputs shape: torch.Size([64, 1, 28, 28]), inputs shape: torch.Size([64, 1, 28, 28])\n",
            "outputs shape: torch.Size([64, 784]), inputs shape: torch.Size([64, 1, 28, 28])\n",
            "outputs shape: torch.Size([64, 1, 28, 28]), inputs shape: torch.Size([64, 1, 28, 28])\n",
            "outputs shape: torch.Size([64, 784]), inputs shape: torch.Size([64, 1, 28, 28])\n",
            "outputs shape: torch.Size([64, 1, 28, 28]), inputs shape: torch.Size([64, 1, 28, 28])\n",
            "outputs shape: torch.Size([64, 784]), inputs shape: torch.Size([64, 1, 28, 28])\n",
            "outputs shape: torch.Size([64, 1, 28, 28]), inputs shape: torch.Size([64, 1, 28, 28])\n",
            "outputs shape: torch.Size([64, 784]), inputs shape: torch.Size([64, 1, 28, 28])\n",
            "outputs shape: torch.Size([64, 1, 28, 28]), inputs shape: torch.Size([64, 1, 28, 28])\n",
            "outputs shape: torch.Size([64, 784]), inputs shape: torch.Size([64, 1, 28, 28])\n",
            "outputs shape: torch.Size([64, 1, 28, 28]), inputs shape: torch.Size([64, 1, 28, 28])\n"
          ]
        },
        {
          "output_type": "stream",
          "name": "stderr",
          "text": [
            "Epoch 1:  73%|███████▎  | 689/938 [00:12<00:04, 57.92it/s]"
          ]
        },
        {
          "output_type": "stream",
          "name": "stdout",
          "text": [
            "outputs shape: torch.Size([64, 784]), inputs shape: torch.Size([64, 1, 28, 28])\n",
            "outputs shape: torch.Size([64, 1, 28, 28]), inputs shape: torch.Size([64, 1, 28, 28])\n",
            "outputs shape: torch.Size([64, 784]), inputs shape: torch.Size([64, 1, 28, 28])\n",
            "outputs shape: torch.Size([64, 1, 28, 28]), inputs shape: torch.Size([64, 1, 28, 28])\n",
            "outputs shape: torch.Size([64, 784]), inputs shape: torch.Size([64, 1, 28, 28])\n",
            "outputs shape: torch.Size([64, 1, 28, 28]), inputs shape: torch.Size([64, 1, 28, 28])\n",
            "outputs shape: torch.Size([64, 784]), inputs shape: torch.Size([64, 1, 28, 28])\n",
            "outputs shape: torch.Size([64, 1, 28, 28]), inputs shape: torch.Size([64, 1, 28, 28])\n",
            "outputs shape: torch.Size([64, 784]), inputs shape: torch.Size([64, 1, 28, 28])\n",
            "outputs shape: torch.Size([64, 1, 28, 28]), inputs shape: torch.Size([64, 1, 28, 28])\n",
            "outputs shape: torch.Size([64, 784]), inputs shape: torch.Size([64, 1, 28, 28])\n",
            "outputs shape: torch.Size([64, 1, 28, 28]), inputs shape: torch.Size([64, 1, 28, 28])\n",
            "outputs shape: torch.Size([64, 784]), inputs shape: torch.Size([64, 1, 28, 28])\n",
            "outputs shape: torch.Size([64, 1, 28, 28]), inputs shape: torch.Size([64, 1, 28, 28])\n",
            "outputs shape: torch.Size([64, 784]), inputs shape: torch.Size([64, 1, 28, 28])\n",
            "outputs shape: torch.Size([64, 1, 28, 28]), inputs shape: torch.Size([64, 1, 28, 28])\n",
            "outputs shape: torch.Size([64, 784]), inputs shape: torch.Size([64, 1, 28, 28])\n",
            "outputs shape: torch.Size([64, 1, 28, 28]), inputs shape: torch.Size([64, 1, 28, 28])\n",
            "outputs shape: torch.Size([64, 784]), inputs shape: torch.Size([64, 1, 28, 28])\n",
            "outputs shape: torch.Size([64, 1, 28, 28]), inputs shape: torch.Size([64, 1, 28, 28])\n",
            "outputs shape: torch.Size([64, 784]), inputs shape: torch.Size([64, 1, 28, 28])\n",
            "outputs shape: torch.Size([64, 1, 28, 28]), inputs shape: torch.Size([64, 1, 28, 28])\n",
            "outputs shape: torch.Size([64, 784]), inputs shape: torch.Size([64, 1, 28, 28])\n",
            "outputs shape: torch.Size([64, 1, 28, 28]), inputs shape: torch.Size([64, 1, 28, 28])\n",
            "outputs shape: torch.Size([64, 784]), inputs shape: torch.Size([64, 1, 28, 28])\n",
            "outputs shape: torch.Size([64, 1, 28, 28]), inputs shape: torch.Size([64, 1, 28, 28])\n"
          ]
        },
        {
          "output_type": "stream",
          "name": "stderr",
          "text": [
            "Epoch 1:  75%|███████▍  | 702/938 [00:12<00:03, 59.14it/s]"
          ]
        },
        {
          "output_type": "stream",
          "name": "stdout",
          "text": [
            "outputs shape: torch.Size([64, 784]), inputs shape: torch.Size([64, 1, 28, 28])\n",
            "outputs shape: torch.Size([64, 1, 28, 28]), inputs shape: torch.Size([64, 1, 28, 28])\n",
            "outputs shape: torch.Size([64, 784]), inputs shape: torch.Size([64, 1, 28, 28])\n",
            "outputs shape: torch.Size([64, 1, 28, 28]), inputs shape: torch.Size([64, 1, 28, 28])\n",
            "outputs shape: torch.Size([64, 784]), inputs shape: torch.Size([64, 1, 28, 28])\n",
            "outputs shape: torch.Size([64, 1, 28, 28]), inputs shape: torch.Size([64, 1, 28, 28])\n",
            "outputs shape: torch.Size([64, 784]), inputs shape: torch.Size([64, 1, 28, 28])\n",
            "outputs shape: torch.Size([64, 1, 28, 28]), inputs shape: torch.Size([64, 1, 28, 28])\n",
            "outputs shape: torch.Size([64, 784]), inputs shape: torch.Size([64, 1, 28, 28])\n",
            "outputs shape: torch.Size([64, 1, 28, 28]), inputs shape: torch.Size([64, 1, 28, 28])\n",
            "outputs shape: torch.Size([64, 784]), inputs shape: torch.Size([64, 1, 28, 28])\n",
            "outputs shape: torch.Size([64, 1, 28, 28]), inputs shape: torch.Size([64, 1, 28, 28])\n",
            "outputs shape: torch.Size([64, 784]), inputs shape: torch.Size([64, 1, 28, 28])\n",
            "outputs shape: torch.Size([64, 1, 28, 28]), inputs shape: torch.Size([64, 1, 28, 28])\n",
            "outputs shape: torch.Size([64, 784]), inputs shape: torch.Size([64, 1, 28, 28])\n",
            "outputs shape: torch.Size([64, 1, 28, 28]), inputs shape: torch.Size([64, 1, 28, 28])\n",
            "loss: 0.26147791743278503\n",
            "outputs shape: torch.Size([64, 784]), inputs shape: torch.Size([64, 1, 28, 28])\n",
            "outputs shape: torch.Size([64, 1, 28, 28]), inputs shape: torch.Size([64, 1, 28, 28])\n",
            "outputs shape: torch.Size([64, 784]), inputs shape: torch.Size([64, 1, 28, 28])\n",
            "outputs shape: torch.Size([64, 1, 28, 28]), inputs shape: torch.Size([64, 1, 28, 28])\n",
            "outputs shape: torch.Size([64, 784]), inputs shape: torch.Size([64, 1, 28, 28])\n",
            "outputs shape: torch.Size([64, 1, 28, 28]), inputs shape: torch.Size([64, 1, 28, 28])\n",
            "outputs shape: torch.Size([64, 784]), inputs shape: torch.Size([64, 1, 28, 28])\n",
            "outputs shape: torch.Size([64, 1, 28, 28]), inputs shape: torch.Size([64, 1, 28, 28])\n",
            "outputs shape: torch.Size([64, 784]), inputs shape: torch.Size([64, 1, 28, 28])\n",
            "outputs shape: torch.Size([64, 1, 28, 28]), inputs shape: torch.Size([64, 1, 28, 28])\n"
          ]
        },
        {
          "output_type": "stream",
          "name": "stderr",
          "text": [
            "Epoch 1:  76%|███████▌  | 714/938 [00:12<00:03, 58.82it/s]"
          ]
        },
        {
          "output_type": "stream",
          "name": "stdout",
          "text": [
            "outputs shape: torch.Size([64, 784]), inputs shape: torch.Size([64, 1, 28, 28])\n",
            "outputs shape: torch.Size([64, 1, 28, 28]), inputs shape: torch.Size([64, 1, 28, 28])\n",
            "outputs shape: torch.Size([64, 784]), inputs shape: torch.Size([64, 1, 28, 28])\n",
            "outputs shape: torch.Size([64, 1, 28, 28]), inputs shape: torch.Size([64, 1, 28, 28])\n",
            "outputs shape: torch.Size([64, 784]), inputs shape: torch.Size([64, 1, 28, 28])\n",
            "outputs shape: torch.Size([64, 1, 28, 28]), inputs shape: torch.Size([64, 1, 28, 28])\n",
            "outputs shape: torch.Size([64, 784]), inputs shape: torch.Size([64, 1, 28, 28])\n",
            "outputs shape: torch.Size([64, 1, 28, 28]), inputs shape: torch.Size([64, 1, 28, 28])\n",
            "outputs shape: torch.Size([64, 784]), inputs shape: torch.Size([64, 1, 28, 28])\n",
            "outputs shape: torch.Size([64, 1, 28, 28]), inputs shape: torch.Size([64, 1, 28, 28])\n",
            "outputs shape: torch.Size([64, 784]), inputs shape: torch.Size([64, 1, 28, 28])\n",
            "outputs shape: torch.Size([64, 1, 28, 28]), inputs shape: torch.Size([64, 1, 28, 28])\n",
            "outputs shape: torch.Size([64, 784]), inputs shape: torch.Size([64, 1, 28, 28])\n",
            "outputs shape: torch.Size([64, 1, 28, 28]), inputs shape: torch.Size([64, 1, 28, 28])\n",
            "outputs shape: torch.Size([64, 784]), inputs shape: torch.Size([64, 1, 28, 28])\n",
            "outputs shape: torch.Size([64, 1, 28, 28]), inputs shape: torch.Size([64, 1, 28, 28])\n",
            "outputs shape: torch.Size([64, 784]), inputs shape: torch.Size([64, 1, 28, 28])\n",
            "outputs shape: torch.Size([64, 1, 28, 28]), inputs shape: torch.Size([64, 1, 28, 28])\n",
            "outputs shape: torch.Size([64, 784]), inputs shape: torch.Size([64, 1, 28, 28])\n",
            "outputs shape: torch.Size([64, 1, 28, 28]), inputs shape: torch.Size([64, 1, 28, 28])\n",
            "outputs shape: torch.Size([64, 784]), inputs shape: torch.Size([64, 1, 28, 28])\n",
            "outputs shape: torch.Size([64, 1, 28, 28]), inputs shape: torch.Size([64, 1, 28, 28])\n",
            "outputs shape: torch.Size([64, 784]), inputs shape: torch.Size([64, 1, 28, 28])\n",
            "outputs shape: torch.Size([64, 1, 28, 28]), inputs shape: torch.Size([64, 1, 28, 28])\n"
          ]
        },
        {
          "output_type": "stream",
          "name": "stderr",
          "text": [
            "Epoch 1:  77%|███████▋  | 726/938 [00:12<00:03, 57.69it/s]"
          ]
        },
        {
          "output_type": "stream",
          "name": "stdout",
          "text": [
            "outputs shape: torch.Size([64, 784]), inputs shape: torch.Size([64, 1, 28, 28])\n",
            "outputs shape: torch.Size([64, 1, 28, 28]), inputs shape: torch.Size([64, 1, 28, 28])\n",
            "outputs shape: torch.Size([64, 784]), inputs shape: torch.Size([64, 1, 28, 28])\n",
            "outputs shape: torch.Size([64, 1, 28, 28]), inputs shape: torch.Size([64, 1, 28, 28])\n",
            "outputs shape: torch.Size([64, 784]), inputs shape: torch.Size([64, 1, 28, 28])\n",
            "outputs shape: torch.Size([64, 1, 28, 28]), inputs shape: torch.Size([64, 1, 28, 28])\n",
            "outputs shape: torch.Size([64, 784]), inputs shape: torch.Size([64, 1, 28, 28])\n",
            "outputs shape: torch.Size([64, 1, 28, 28]), inputs shape: torch.Size([64, 1, 28, 28])\n",
            "outputs shape: torch.Size([64, 784]), inputs shape: torch.Size([64, 1, 28, 28])\n",
            "outputs shape: torch.Size([64, 1, 28, 28]), inputs shape: torch.Size([64, 1, 28, 28])\n",
            "outputs shape: torch.Size([64, 784]), inputs shape: torch.Size([64, 1, 28, 28])\n",
            "outputs shape: torch.Size([64, 1, 28, 28]), inputs shape: torch.Size([64, 1, 28, 28])\n",
            "outputs shape: torch.Size([64, 784]), inputs shape: torch.Size([64, 1, 28, 28])\n",
            "outputs shape: torch.Size([64, 1, 28, 28]), inputs shape: torch.Size([64, 1, 28, 28])\n",
            "outputs shape: torch.Size([64, 784]), inputs shape: torch.Size([64, 1, 28, 28])\n",
            "outputs shape: torch.Size([64, 1, 28, 28]), inputs shape: torch.Size([64, 1, 28, 28])\n",
            "outputs shape: torch.Size([64, 784]), inputs shape: torch.Size([64, 1, 28, 28])\n",
            "outputs shape: torch.Size([64, 1, 28, 28]), inputs shape: torch.Size([64, 1, 28, 28])\n",
            "outputs shape: torch.Size([64, 784]), inputs shape: torch.Size([64, 1, 28, 28])\n",
            "outputs shape: torch.Size([64, 1, 28, 28]), inputs shape: torch.Size([64, 1, 28, 28])\n",
            "outputs shape: torch.Size([64, 784]), inputs shape: torch.Size([64, 1, 28, 28])\n",
            "outputs shape: torch.Size([64, 1, 28, 28]), inputs shape: torch.Size([64, 1, 28, 28])\n"
          ]
        },
        {
          "output_type": "stream",
          "name": "stderr",
          "text": [
            "Epoch 1:  79%|███████▉  | 739/938 [00:12<00:03, 57.11it/s]"
          ]
        },
        {
          "output_type": "stream",
          "name": "stdout",
          "text": [
            "outputs shape: torch.Size([64, 784]), inputs shape: torch.Size([64, 1, 28, 28])\n",
            "outputs shape: torch.Size([64, 1, 28, 28]), inputs shape: torch.Size([64, 1, 28, 28])\n",
            "outputs shape: torch.Size([64, 784]), inputs shape: torch.Size([64, 1, 28, 28])\n",
            "outputs shape: torch.Size([64, 1, 28, 28]), inputs shape: torch.Size([64, 1, 28, 28])\n",
            "outputs shape: torch.Size([64, 784]), inputs shape: torch.Size([64, 1, 28, 28])\n",
            "outputs shape: torch.Size([64, 1, 28, 28]), inputs shape: torch.Size([64, 1, 28, 28])\n",
            "outputs shape: torch.Size([64, 784]), inputs shape: torch.Size([64, 1, 28, 28])\n",
            "outputs shape: torch.Size([64, 1, 28, 28]), inputs shape: torch.Size([64, 1, 28, 28])\n",
            "outputs shape: torch.Size([64, 784]), inputs shape: torch.Size([64, 1, 28, 28])\n",
            "outputs shape: torch.Size([64, 1, 28, 28]), inputs shape: torch.Size([64, 1, 28, 28])\n",
            "outputs shape: torch.Size([64, 784]), inputs shape: torch.Size([64, 1, 28, 28])\n",
            "outputs shape: torch.Size([64, 1, 28, 28]), inputs shape: torch.Size([64, 1, 28, 28])\n",
            "outputs shape: torch.Size([64, 784]), inputs shape: torch.Size([64, 1, 28, 28])\n",
            "outputs shape: torch.Size([64, 1, 28, 28]), inputs shape: torch.Size([64, 1, 28, 28])\n",
            "outputs shape: torch.Size([64, 784]), inputs shape: torch.Size([64, 1, 28, 28])\n",
            "outputs shape: torch.Size([64, 1, 28, 28]), inputs shape: torch.Size([64, 1, 28, 28])\n",
            "outputs shape: torch.Size([64, 784]), inputs shape: torch.Size([64, 1, 28, 28])\n",
            "outputs shape: torch.Size([64, 1, 28, 28]), inputs shape: torch.Size([64, 1, 28, 28])\n",
            "outputs shape: torch.Size([64, 784]), inputs shape: torch.Size([64, 1, 28, 28])\n",
            "outputs shape: torch.Size([64, 1, 28, 28]), inputs shape: torch.Size([64, 1, 28, 28])\n",
            "outputs shape: torch.Size([64, 784]), inputs shape: torch.Size([64, 1, 28, 28])\n",
            "outputs shape: torch.Size([64, 1, 28, 28]), inputs shape: torch.Size([64, 1, 28, 28])\n",
            "outputs shape: torch.Size([64, 784]), inputs shape: torch.Size([64, 1, 28, 28])\n",
            "outputs shape: torch.Size([64, 1, 28, 28]), inputs shape: torch.Size([64, 1, 28, 28])\n"
          ]
        },
        {
          "output_type": "stream",
          "name": "stderr",
          "text": [
            "Epoch 1:  80%|████████  | 752/938 [00:13<00:03, 59.21it/s]"
          ]
        },
        {
          "output_type": "stream",
          "name": "stdout",
          "text": [
            "outputs shape: torch.Size([64, 784]), inputs shape: torch.Size([64, 1, 28, 28])\n",
            "outputs shape: torch.Size([64, 1, 28, 28]), inputs shape: torch.Size([64, 1, 28, 28])\n",
            "outputs shape: torch.Size([64, 784]), inputs shape: torch.Size([64, 1, 28, 28])\n",
            "outputs shape: torch.Size([64, 1, 28, 28]), inputs shape: torch.Size([64, 1, 28, 28])\n",
            "outputs shape: torch.Size([64, 784]), inputs shape: torch.Size([64, 1, 28, 28])\n",
            "outputs shape: torch.Size([64, 1, 28, 28]), inputs shape: torch.Size([64, 1, 28, 28])\n",
            "outputs shape: torch.Size([64, 784]), inputs shape: torch.Size([64, 1, 28, 28])\n",
            "outputs shape: torch.Size([64, 1, 28, 28]), inputs shape: torch.Size([64, 1, 28, 28])\n",
            "outputs shape: torch.Size([64, 784]), inputs shape: torch.Size([64, 1, 28, 28])\n",
            "outputs shape: torch.Size([64, 1, 28, 28]), inputs shape: torch.Size([64, 1, 28, 28])\n",
            "outputs shape: torch.Size([64, 784]), inputs shape: torch.Size([64, 1, 28, 28])\n",
            "outputs shape: torch.Size([64, 1, 28, 28]), inputs shape: torch.Size([64, 1, 28, 28])\n",
            "outputs shape: torch.Size([64, 784]), inputs shape: torch.Size([64, 1, 28, 28])\n",
            "outputs shape: torch.Size([64, 1, 28, 28]), inputs shape: torch.Size([64, 1, 28, 28])\n",
            "outputs shape: torch.Size([64, 784]), inputs shape: torch.Size([64, 1, 28, 28])\n",
            "outputs shape: torch.Size([64, 1, 28, 28]), inputs shape: torch.Size([64, 1, 28, 28])\n",
            "outputs shape: torch.Size([64, 784]), inputs shape: torch.Size([64, 1, 28, 28])\n",
            "outputs shape: torch.Size([64, 1, 28, 28]), inputs shape: torch.Size([64, 1, 28, 28])\n",
            "outputs shape: torch.Size([64, 784]), inputs shape: torch.Size([64, 1, 28, 28])\n",
            "outputs shape: torch.Size([64, 1, 28, 28]), inputs shape: torch.Size([64, 1, 28, 28])\n",
            "outputs shape: torch.Size([64, 784]), inputs shape: torch.Size([64, 1, 28, 28])\n",
            "outputs shape: torch.Size([64, 1, 28, 28]), inputs shape: torch.Size([64, 1, 28, 28])\n",
            "outputs shape: torch.Size([64, 784]), inputs shape: torch.Size([64, 1, 28, 28])\n",
            "outputs shape: torch.Size([64, 1, 28, 28]), inputs shape: torch.Size([64, 1, 28, 28])\n",
            "outputs shape: torch.Size([64, 784]), inputs shape: torch.Size([64, 1, 28, 28])\n",
            "outputs shape: torch.Size([64, 1, 28, 28]), inputs shape: torch.Size([64, 1, 28, 28])\n"
          ]
        },
        {
          "output_type": "stream",
          "name": "stderr",
          "text": [
            "Epoch 1:  82%|████████▏ | 765/938 [00:13<00:02, 61.16it/s]"
          ]
        },
        {
          "output_type": "stream",
          "name": "stdout",
          "text": [
            "outputs shape: torch.Size([64, 784]), inputs shape: torch.Size([64, 1, 28, 28])\n",
            "outputs shape: torch.Size([64, 1, 28, 28]), inputs shape: torch.Size([64, 1, 28, 28])\n",
            "outputs shape: torch.Size([64, 784]), inputs shape: torch.Size([64, 1, 28, 28])\n",
            "outputs shape: torch.Size([64, 1, 28, 28]), inputs shape: torch.Size([64, 1, 28, 28])\n",
            "outputs shape: torch.Size([64, 784]), inputs shape: torch.Size([64, 1, 28, 28])\n",
            "outputs shape: torch.Size([64, 1, 28, 28]), inputs shape: torch.Size([64, 1, 28, 28])\n",
            "outputs shape: torch.Size([64, 784]), inputs shape: torch.Size([64, 1, 28, 28])\n",
            "outputs shape: torch.Size([64, 1, 28, 28]), inputs shape: torch.Size([64, 1, 28, 28])\n",
            "outputs shape: torch.Size([64, 784]), inputs shape: torch.Size([64, 1, 28, 28])\n",
            "outputs shape: torch.Size([64, 1, 28, 28]), inputs shape: torch.Size([64, 1, 28, 28])\n",
            "outputs shape: torch.Size([64, 784]), inputs shape: torch.Size([64, 1, 28, 28])\n",
            "outputs shape: torch.Size([64, 1, 28, 28]), inputs shape: torch.Size([64, 1, 28, 28])\n",
            "outputs shape: torch.Size([64, 784]), inputs shape: torch.Size([64, 1, 28, 28])\n",
            "outputs shape: torch.Size([64, 1, 28, 28]), inputs shape: torch.Size([64, 1, 28, 28])\n",
            "outputs shape: torch.Size([64, 784]), inputs shape: torch.Size([64, 1, 28, 28])\n",
            "outputs shape: torch.Size([64, 1, 28, 28]), inputs shape: torch.Size([64, 1, 28, 28])\n",
            "outputs shape: torch.Size([64, 784]), inputs shape: torch.Size([64, 1, 28, 28])\n",
            "outputs shape: torch.Size([64, 1, 28, 28]), inputs shape: torch.Size([64, 1, 28, 28])\n",
            "outputs shape: torch.Size([64, 784]), inputs shape: torch.Size([64, 1, 28, 28])\n",
            "outputs shape: torch.Size([64, 1, 28, 28]), inputs shape: torch.Size([64, 1, 28, 28])\n",
            "outputs shape: torch.Size([64, 784]), inputs shape: torch.Size([64, 1, 28, 28])\n",
            "outputs shape: torch.Size([64, 1, 28, 28]), inputs shape: torch.Size([64, 1, 28, 28])\n",
            "outputs shape: torch.Size([64, 784]), inputs shape: torch.Size([64, 1, 28, 28])\n",
            "outputs shape: torch.Size([64, 1, 28, 28]), inputs shape: torch.Size([64, 1, 28, 28])\n",
            "outputs shape: torch.Size([64, 784]), inputs shape: torch.Size([64, 1, 28, 28])\n",
            "outputs shape: torch.Size([64, 1, 28, 28]), inputs shape: torch.Size([64, 1, 28, 28])\n"
          ]
        },
        {
          "output_type": "stream",
          "name": "stderr",
          "text": [
            "\rEpoch 1:  82%|████████▏ | 772/938 [00:13<00:02, 60.83it/s]"
          ]
        },
        {
          "output_type": "stream",
          "name": "stdout",
          "text": [
            "outputs shape: torch.Size([64, 784]), inputs shape: torch.Size([64, 1, 28, 28])\n",
            "outputs shape: torch.Size([64, 1, 28, 28]), inputs shape: torch.Size([64, 1, 28, 28])\n",
            "outputs shape: torch.Size([64, 784]), inputs shape: torch.Size([64, 1, 28, 28])\n",
            "outputs shape: torch.Size([64, 1, 28, 28]), inputs shape: torch.Size([64, 1, 28, 28])\n",
            "outputs shape: torch.Size([64, 784]), inputs shape: torch.Size([64, 1, 28, 28])\n",
            "outputs shape: torch.Size([64, 1, 28, 28]), inputs shape: torch.Size([64, 1, 28, 28])\n",
            "outputs shape: torch.Size([64, 784]), inputs shape: torch.Size([64, 1, 28, 28])\n",
            "outputs shape: torch.Size([64, 1, 28, 28]), inputs shape: torch.Size([64, 1, 28, 28])\n",
            "outputs shape: torch.Size([64, 784]), inputs shape: torch.Size([64, 1, 28, 28])\n",
            "outputs shape: torch.Size([64, 1, 28, 28]), inputs shape: torch.Size([64, 1, 28, 28])\n",
            "outputs shape: torch.Size([64, 784]), inputs shape: torch.Size([64, 1, 28, 28])\n",
            "outputs shape: torch.Size([64, 1, 28, 28]), inputs shape: torch.Size([64, 1, 28, 28])\n",
            "outputs shape: torch.Size([64, 784]), inputs shape: torch.Size([64, 1, 28, 28])\n",
            "outputs shape: torch.Size([64, 1, 28, 28]), inputs shape: torch.Size([64, 1, 28, 28])\n",
            "outputs shape: torch.Size([64, 784]), inputs shape: torch.Size([64, 1, 28, 28])\n",
            "outputs shape: torch.Size([64, 1, 28, 28]), inputs shape: torch.Size([64, 1, 28, 28])\n",
            "outputs shape: torch.Size([64, 784]), inputs shape: torch.Size([64, 1, 28, 28])\n",
            "outputs shape: torch.Size([64, 1, 28, 28]), inputs shape: torch.Size([64, 1, 28, 28])\n",
            "outputs shape: torch.Size([64, 784]), inputs shape: torch.Size([64, 1, 28, 28])\n",
            "outputs shape: torch.Size([64, 1, 28, 28]), inputs shape: torch.Size([64, 1, 28, 28])\n",
            "outputs shape: torch.Size([64, 784]), inputs shape: torch.Size([64, 1, 28, 28])\n",
            "outputs shape: torch.Size([64, 1, 28, 28]), inputs shape: torch.Size([64, 1, 28, 28])\n",
            "outputs shape: torch.Size([64, 784]), inputs shape: torch.Size([64, 1, 28, 28])\n",
            "outputs shape: torch.Size([64, 1, 28, 28]), inputs shape: torch.Size([64, 1, 28, 28])\n",
            "outputs shape: torch.Size([64, 784]), inputs shape: torch.Size([64, 1, 28, 28])\n",
            "outputs shape: torch.Size([64, 1, 28, 28]), inputs shape: torch.Size([64, 1, 28, 28])\n"
          ]
        },
        {
          "output_type": "stream",
          "name": "stderr",
          "text": [
            "Epoch 1:  84%|████████▍ | 786/938 [00:13<00:02, 59.23it/s]"
          ]
        },
        {
          "output_type": "stream",
          "name": "stdout",
          "text": [
            "outputs shape: torch.Size([64, 784]), inputs shape: torch.Size([64, 1, 28, 28])\n",
            "outputs shape: torch.Size([64, 1, 28, 28]), inputs shape: torch.Size([64, 1, 28, 28])\n",
            "outputs shape: torch.Size([64, 784]), inputs shape: torch.Size([64, 1, 28, 28])\n",
            "outputs shape: torch.Size([64, 1, 28, 28]), inputs shape: torch.Size([64, 1, 28, 28])\n",
            "outputs shape: torch.Size([64, 784]), inputs shape: torch.Size([64, 1, 28, 28])\n",
            "outputs shape: torch.Size([64, 1, 28, 28]), inputs shape: torch.Size([64, 1, 28, 28])\n",
            "outputs shape: torch.Size([64, 784]), inputs shape: torch.Size([64, 1, 28, 28])\n",
            "outputs shape: torch.Size([64, 1, 28, 28]), inputs shape: torch.Size([64, 1, 28, 28])\n",
            "outputs shape: torch.Size([64, 784]), inputs shape: torch.Size([64, 1, 28, 28])\n",
            "outputs shape: torch.Size([64, 1, 28, 28]), inputs shape: torch.Size([64, 1, 28, 28])\n",
            "outputs shape: torch.Size([64, 784]), inputs shape: torch.Size([64, 1, 28, 28])\n",
            "outputs shape: torch.Size([64, 1, 28, 28]), inputs shape: torch.Size([64, 1, 28, 28])\n",
            "outputs shape: torch.Size([64, 784]), inputs shape: torch.Size([64, 1, 28, 28])\n",
            "outputs shape: torch.Size([64, 1, 28, 28]), inputs shape: torch.Size([64, 1, 28, 28])\n",
            "outputs shape: torch.Size([64, 784]), inputs shape: torch.Size([64, 1, 28, 28])\n",
            "outputs shape: torch.Size([64, 1, 28, 28]), inputs shape: torch.Size([64, 1, 28, 28])\n",
            "outputs shape: torch.Size([64, 784]), inputs shape: torch.Size([64, 1, 28, 28])\n",
            "outputs shape: torch.Size([64, 1, 28, 28]), inputs shape: torch.Size([64, 1, 28, 28])\n",
            "outputs shape: torch.Size([64, 784]), inputs shape: torch.Size([64, 1, 28, 28])\n",
            "outputs shape: torch.Size([64, 1, 28, 28]), inputs shape: torch.Size([64, 1, 28, 28])\n",
            "outputs shape: torch.Size([64, 784]), inputs shape: torch.Size([64, 1, 28, 28])\n",
            "outputs shape: torch.Size([64, 1, 28, 28]), inputs shape: torch.Size([64, 1, 28, 28])\n",
            "outputs shape: torch.Size([64, 784]), inputs shape: torch.Size([64, 1, 28, 28])\n",
            "outputs shape: torch.Size([64, 1, 28, 28]), inputs shape: torch.Size([64, 1, 28, 28])\n"
          ]
        },
        {
          "output_type": "stream",
          "name": "stderr",
          "text": [
            "Epoch 1:  85%|████████▌ | 799/938 [00:13<00:02, 58.36it/s]"
          ]
        },
        {
          "output_type": "stream",
          "name": "stdout",
          "text": [
            "outputs shape: torch.Size([64, 784]), inputs shape: torch.Size([64, 1, 28, 28])\n",
            "outputs shape: torch.Size([64, 1, 28, 28]), inputs shape: torch.Size([64, 1, 28, 28])\n",
            "outputs shape: torch.Size([64, 784]), inputs shape: torch.Size([64, 1, 28, 28])\n",
            "outputs shape: torch.Size([64, 1, 28, 28]), inputs shape: torch.Size([64, 1, 28, 28])\n",
            "outputs shape: torch.Size([64, 784]), inputs shape: torch.Size([64, 1, 28, 28])\n",
            "outputs shape: torch.Size([64, 1, 28, 28]), inputs shape: torch.Size([64, 1, 28, 28])\n",
            "outputs shape: torch.Size([64, 784]), inputs shape: torch.Size([64, 1, 28, 28])\n",
            "outputs shape: torch.Size([64, 1, 28, 28]), inputs shape: torch.Size([64, 1, 28, 28])\n",
            "outputs shape: torch.Size([64, 784]), inputs shape: torch.Size([64, 1, 28, 28])\n",
            "outputs shape: torch.Size([64, 1, 28, 28]), inputs shape: torch.Size([64, 1, 28, 28])\n",
            "outputs shape: torch.Size([64, 784]), inputs shape: torch.Size([64, 1, 28, 28])\n",
            "outputs shape: torch.Size([64, 1, 28, 28]), inputs shape: torch.Size([64, 1, 28, 28])\n",
            "outputs shape: torch.Size([64, 784]), inputs shape: torch.Size([64, 1, 28, 28])\n",
            "outputs shape: torch.Size([64, 1, 28, 28]), inputs shape: torch.Size([64, 1, 28, 28])\n",
            "outputs shape: torch.Size([64, 784]), inputs shape: torch.Size([64, 1, 28, 28])\n",
            "outputs shape: torch.Size([64, 1, 28, 28]), inputs shape: torch.Size([64, 1, 28, 28])\n",
            "outputs shape: torch.Size([64, 784]), inputs shape: torch.Size([64, 1, 28, 28])\n",
            "outputs shape: torch.Size([64, 1, 28, 28]), inputs shape: torch.Size([64, 1, 28, 28])\n",
            "loss: 0.28209298849105835\n",
            "outputs shape: torch.Size([64, 784]), inputs shape: torch.Size([64, 1, 28, 28])\n",
            "outputs shape: torch.Size([64, 1, 28, 28]), inputs shape: torch.Size([64, 1, 28, 28])\n",
            "outputs shape: torch.Size([64, 784]), inputs shape: torch.Size([64, 1, 28, 28])\n",
            "outputs shape: torch.Size([64, 1, 28, 28]), inputs shape: torch.Size([64, 1, 28, 28])\n",
            "outputs shape: torch.Size([64, 784]), inputs shape: torch.Size([64, 1, 28, 28])\n",
            "outputs shape: torch.Size([64, 1, 28, 28]), inputs shape: torch.Size([64, 1, 28, 28])\n",
            "outputs shape: torch.Size([64, 784]), inputs shape: torch.Size([64, 1, 28, 28])\n",
            "outputs shape: torch.Size([64, 1, 28, 28]), inputs shape: torch.Size([64, 1, 28, 28])\n"
          ]
        },
        {
          "output_type": "stream",
          "name": "stderr",
          "text": [
            "Epoch 1:  87%|████████▋ | 813/938 [00:14<00:02, 60.39it/s]"
          ]
        },
        {
          "output_type": "stream",
          "name": "stdout",
          "text": [
            "outputs shape: torch.Size([64, 784]), inputs shape: torch.Size([64, 1, 28, 28])\n",
            "outputs shape: torch.Size([64, 1, 28, 28]), inputs shape: torch.Size([64, 1, 28, 28])\n",
            "outputs shape: torch.Size([64, 784]), inputs shape: torch.Size([64, 1, 28, 28])\n",
            "outputs shape: torch.Size([64, 1, 28, 28]), inputs shape: torch.Size([64, 1, 28, 28])\n",
            "outputs shape: torch.Size([64, 784]), inputs shape: torch.Size([64, 1, 28, 28])\n",
            "outputs shape: torch.Size([64, 1, 28, 28]), inputs shape: torch.Size([64, 1, 28, 28])\n",
            "outputs shape: torch.Size([64, 784]), inputs shape: torch.Size([64, 1, 28, 28])\n",
            "outputs shape: torch.Size([64, 1, 28, 28]), inputs shape: torch.Size([64, 1, 28, 28])\n",
            "outputs shape: torch.Size([64, 784]), inputs shape: torch.Size([64, 1, 28, 28])\n",
            "outputs shape: torch.Size([64, 1, 28, 28]), inputs shape: torch.Size([64, 1, 28, 28])\n",
            "outputs shape: torch.Size([64, 784]), inputs shape: torch.Size([64, 1, 28, 28])\n",
            "outputs shape: torch.Size([64, 1, 28, 28]), inputs shape: torch.Size([64, 1, 28, 28])\n",
            "outputs shape: torch.Size([64, 784]), inputs shape: torch.Size([64, 1, 28, 28])\n",
            "outputs shape: torch.Size([64, 1, 28, 28]), inputs shape: torch.Size([64, 1, 28, 28])\n",
            "outputs shape: torch.Size([64, 784]), inputs shape: torch.Size([64, 1, 28, 28])\n",
            "outputs shape: torch.Size([64, 1, 28, 28]), inputs shape: torch.Size([64, 1, 28, 28])\n",
            "outputs shape: torch.Size([64, 784]), inputs shape: torch.Size([64, 1, 28, 28])\n",
            "outputs shape: torch.Size([64, 1, 28, 28]), inputs shape: torch.Size([64, 1, 28, 28])\n",
            "outputs shape: torch.Size([64, 784]), inputs shape: torch.Size([64, 1, 28, 28])\n",
            "outputs shape: torch.Size([64, 1, 28, 28]), inputs shape: torch.Size([64, 1, 28, 28])\n",
            "outputs shape: torch.Size([64, 784]), inputs shape: torch.Size([64, 1, 28, 28])\n",
            "outputs shape: torch.Size([64, 1, 28, 28]), inputs shape: torch.Size([64, 1, 28, 28])\n",
            "outputs shape: torch.Size([64, 784]), inputs shape: torch.Size([64, 1, 28, 28])\n",
            "outputs shape: torch.Size([64, 1, 28, 28]), inputs shape: torch.Size([64, 1, 28, 28])\n",
            "outputs shape: torch.Size([64, 784]), inputs shape: torch.Size([64, 1, 28, 28])\n",
            "outputs shape: torch.Size([64, 1, 28, 28]), inputs shape: torch.Size([64, 1, 28, 28])\n"
          ]
        },
        {
          "output_type": "stream",
          "name": "stderr",
          "text": [
            "Epoch 1:  88%|████████▊ | 827/938 [00:14<00:01, 62.08it/s]"
          ]
        },
        {
          "output_type": "stream",
          "name": "stdout",
          "text": [
            "outputs shape: torch.Size([64, 784]), inputs shape: torch.Size([64, 1, 28, 28])\n",
            "outputs shape: torch.Size([64, 1, 28, 28]), inputs shape: torch.Size([64, 1, 28, 28])\n",
            "outputs shape: torch.Size([64, 784]), inputs shape: torch.Size([64, 1, 28, 28])\n",
            "outputs shape: torch.Size([64, 1, 28, 28]), inputs shape: torch.Size([64, 1, 28, 28])\n",
            "outputs shape: torch.Size([64, 784]), inputs shape: torch.Size([64, 1, 28, 28])\n",
            "outputs shape: torch.Size([64, 1, 28, 28]), inputs shape: torch.Size([64, 1, 28, 28])\n",
            "outputs shape: torch.Size([64, 784]), inputs shape: torch.Size([64, 1, 28, 28])\n",
            "outputs shape: torch.Size([64, 1, 28, 28]), inputs shape: torch.Size([64, 1, 28, 28])\n",
            "outputs shape: torch.Size([64, 784]), inputs shape: torch.Size([64, 1, 28, 28])\n",
            "outputs shape: torch.Size([64, 1, 28, 28]), inputs shape: torch.Size([64, 1, 28, 28])\n",
            "outputs shape: torch.Size([64, 784]), inputs shape: torch.Size([64, 1, 28, 28])\n",
            "outputs shape: torch.Size([64, 1, 28, 28]), inputs shape: torch.Size([64, 1, 28, 28])\n",
            "outputs shape: torch.Size([64, 784]), inputs shape: torch.Size([64, 1, 28, 28])\n",
            "outputs shape: torch.Size([64, 1, 28, 28]), inputs shape: torch.Size([64, 1, 28, 28])\n",
            "outputs shape: torch.Size([64, 784]), inputs shape: torch.Size([64, 1, 28, 28])\n",
            "outputs shape: torch.Size([64, 1, 28, 28]), inputs shape: torch.Size([64, 1, 28, 28])\n",
            "outputs shape: torch.Size([64, 784]), inputs shape: torch.Size([64, 1, 28, 28])\n",
            "outputs shape: torch.Size([64, 1, 28, 28]), inputs shape: torch.Size([64, 1, 28, 28])\n",
            "outputs shape: torch.Size([64, 784]), inputs shape: torch.Size([64, 1, 28, 28])\n",
            "outputs shape: torch.Size([64, 1, 28, 28]), inputs shape: torch.Size([64, 1, 28, 28])\n",
            "outputs shape: torch.Size([64, 784]), inputs shape: torch.Size([64, 1, 28, 28])\n",
            "outputs shape: torch.Size([64, 1, 28, 28]), inputs shape: torch.Size([64, 1, 28, 28])\n",
            "outputs shape: torch.Size([64, 784]), inputs shape: torch.Size([64, 1, 28, 28])\n",
            "outputs shape: torch.Size([64, 1, 28, 28]), inputs shape: torch.Size([64, 1, 28, 28])\n",
            "outputs shape: torch.Size([64, 784]), inputs shape: torch.Size([64, 1, 28, 28])\n",
            "outputs shape: torch.Size([64, 1, 28, 28]), inputs shape: torch.Size([64, 1, 28, 28])\n"
          ]
        },
        {
          "output_type": "stream",
          "name": "stderr",
          "text": [
            "Epoch 1:  90%|████████▉ | 841/938 [00:14<00:01, 59.97it/s]"
          ]
        },
        {
          "output_type": "stream",
          "name": "stdout",
          "text": [
            "outputs shape: torch.Size([64, 784]), inputs shape: torch.Size([64, 1, 28, 28])\n",
            "outputs shape: torch.Size([64, 1, 28, 28]), inputs shape: torch.Size([64, 1, 28, 28])\n",
            "outputs shape: torch.Size([64, 784]), inputs shape: torch.Size([64, 1, 28, 28])\n",
            "outputs shape: torch.Size([64, 1, 28, 28]), inputs shape: torch.Size([64, 1, 28, 28])\n",
            "outputs shape: torch.Size([64, 784]), inputs shape: torch.Size([64, 1, 28, 28])\n",
            "outputs shape: torch.Size([64, 1, 28, 28]), inputs shape: torch.Size([64, 1, 28, 28])\n",
            "outputs shape: torch.Size([64, 784]), inputs shape: torch.Size([64, 1, 28, 28])\n",
            "outputs shape: torch.Size([64, 1, 28, 28]), inputs shape: torch.Size([64, 1, 28, 28])\n",
            "outputs shape: torch.Size([64, 784]), inputs shape: torch.Size([64, 1, 28, 28])\n",
            "outputs shape: torch.Size([64, 1, 28, 28]), inputs shape: torch.Size([64, 1, 28, 28])\n",
            "outputs shape: torch.Size([64, 784]), inputs shape: torch.Size([64, 1, 28, 28])\n",
            "outputs shape: torch.Size([64, 1, 28, 28]), inputs shape: torch.Size([64, 1, 28, 28])\n",
            "outputs shape: torch.Size([64, 784]), inputs shape: torch.Size([64, 1, 28, 28])\n",
            "outputs shape: torch.Size([64, 1, 28, 28]), inputs shape: torch.Size([64, 1, 28, 28])\n",
            "outputs shape: torch.Size([64, 784]), inputs shape: torch.Size([64, 1, 28, 28])\n",
            "outputs shape: torch.Size([64, 1, 28, 28]), inputs shape: torch.Size([64, 1, 28, 28])\n",
            "outputs shape: torch.Size([64, 784]), inputs shape: torch.Size([64, 1, 28, 28])\n",
            "outputs shape: torch.Size([64, 1, 28, 28]), inputs shape: torch.Size([64, 1, 28, 28])\n",
            "outputs shape: torch.Size([64, 784]), inputs shape: torch.Size([64, 1, 28, 28])\n",
            "outputs shape: torch.Size([64, 1, 28, 28]), inputs shape: torch.Size([64, 1, 28, 28])\n",
            "outputs shape: torch.Size([64, 784]), inputs shape: torch.Size([64, 1, 28, 28])\n",
            "outputs shape: torch.Size([64, 1, 28, 28]), inputs shape: torch.Size([64, 1, 28, 28])\n",
            "outputs shape: torch.Size([64, 784]), inputs shape: torch.Size([64, 1, 28, 28])\n",
            "outputs shape: torch.Size([64, 1, 28, 28]), inputs shape: torch.Size([64, 1, 28, 28])\n"
          ]
        },
        {
          "output_type": "stream",
          "name": "stderr",
          "text": [
            "Epoch 1:  91%|█████████ | 854/938 [00:14<00:01, 58.63it/s]"
          ]
        },
        {
          "output_type": "stream",
          "name": "stdout",
          "text": [
            "outputs shape: torch.Size([64, 784]), inputs shape: torch.Size([64, 1, 28, 28])\n",
            "outputs shape: torch.Size([64, 1, 28, 28]), inputs shape: torch.Size([64, 1, 28, 28])\n",
            "outputs shape: torch.Size([64, 784]), inputs shape: torch.Size([64, 1, 28, 28])\n",
            "outputs shape: torch.Size([64, 1, 28, 28]), inputs shape: torch.Size([64, 1, 28, 28])\n",
            "outputs shape: torch.Size([64, 784]), inputs shape: torch.Size([64, 1, 28, 28])\n",
            "outputs shape: torch.Size([64, 1, 28, 28]), inputs shape: torch.Size([64, 1, 28, 28])\n",
            "outputs shape: torch.Size([64, 784]), inputs shape: torch.Size([64, 1, 28, 28])\n",
            "outputs shape: torch.Size([64, 1, 28, 28]), inputs shape: torch.Size([64, 1, 28, 28])\n",
            "outputs shape: torch.Size([64, 784]), inputs shape: torch.Size([64, 1, 28, 28])\n",
            "outputs shape: torch.Size([64, 1, 28, 28]), inputs shape: torch.Size([64, 1, 28, 28])\n",
            "outputs shape: torch.Size([64, 784]), inputs shape: torch.Size([64, 1, 28, 28])\n",
            "outputs shape: torch.Size([64, 1, 28, 28]), inputs shape: torch.Size([64, 1, 28, 28])\n",
            "outputs shape: torch.Size([64, 784]), inputs shape: torch.Size([64, 1, 28, 28])\n",
            "outputs shape: torch.Size([64, 1, 28, 28]), inputs shape: torch.Size([64, 1, 28, 28])\n",
            "outputs shape: torch.Size([64, 784]), inputs shape: torch.Size([64, 1, 28, 28])\n",
            "outputs shape: torch.Size([64, 1, 28, 28]), inputs shape: torch.Size([64, 1, 28, 28])\n",
            "outputs shape: torch.Size([64, 784]), inputs shape: torch.Size([64, 1, 28, 28])\n",
            "outputs shape: torch.Size([64, 1, 28, 28]), inputs shape: torch.Size([64, 1, 28, 28])\n",
            "outputs shape: torch.Size([64, 784]), inputs shape: torch.Size([64, 1, 28, 28])\n",
            "outputs shape: torch.Size([64, 1, 28, 28]), inputs shape: torch.Size([64, 1, 28, 28])\n",
            "outputs shape: torch.Size([64, 784]), inputs shape: torch.Size([64, 1, 28, 28])\n",
            "outputs shape: torch.Size([64, 1, 28, 28]), inputs shape: torch.Size([64, 1, 28, 28])\n",
            "outputs shape: torch.Size([64, 784]), inputs shape: torch.Size([64, 1, 28, 28])\n",
            "outputs shape: torch.Size([64, 1, 28, 28]), inputs shape: torch.Size([64, 1, 28, 28])\n"
          ]
        },
        {
          "output_type": "stream",
          "name": "stderr",
          "text": [
            "\rEpoch 1:  92%|█████████▏| 861/938 [00:14<00:01, 59.96it/s]"
          ]
        },
        {
          "output_type": "stream",
          "name": "stdout",
          "text": [
            "outputs shape: torch.Size([64, 784]), inputs shape: torch.Size([64, 1, 28, 28])\n",
            "outputs shape: torch.Size([64, 1, 28, 28]), inputs shape: torch.Size([64, 1, 28, 28])\n",
            "outputs shape: torch.Size([64, 784]), inputs shape: torch.Size([64, 1, 28, 28])\n",
            "outputs shape: torch.Size([64, 1, 28, 28]), inputs shape: torch.Size([64, 1, 28, 28])\n",
            "outputs shape: torch.Size([64, 784]), inputs shape: torch.Size([64, 1, 28, 28])\n",
            "outputs shape: torch.Size([64, 1, 28, 28]), inputs shape: torch.Size([64, 1, 28, 28])\n",
            "outputs shape: torch.Size([64, 784]), inputs shape: torch.Size([64, 1, 28, 28])\n",
            "outputs shape: torch.Size([64, 1, 28, 28]), inputs shape: torch.Size([64, 1, 28, 28])\n",
            "outputs shape: torch.Size([64, 784]), inputs shape: torch.Size([64, 1, 28, 28])\n",
            "outputs shape: torch.Size([64, 1, 28, 28]), inputs shape: torch.Size([64, 1, 28, 28])\n",
            "outputs shape: torch.Size([64, 784]), inputs shape: torch.Size([64, 1, 28, 28])\n",
            "outputs shape: torch.Size([64, 1, 28, 28]), inputs shape: torch.Size([64, 1, 28, 28])\n",
            "outputs shape: torch.Size([64, 784]), inputs shape: torch.Size([64, 1, 28, 28])\n",
            "outputs shape: torch.Size([64, 1, 28, 28]), inputs shape: torch.Size([64, 1, 28, 28])\n",
            "outputs shape: torch.Size([64, 784]), inputs shape: torch.Size([64, 1, 28, 28])\n",
            "outputs shape: torch.Size([64, 1, 28, 28]), inputs shape: torch.Size([64, 1, 28, 28])\n",
            "outputs shape: torch.Size([64, 784]), inputs shape: torch.Size([64, 1, 28, 28])\n",
            "outputs shape: torch.Size([64, 1, 28, 28]), inputs shape: torch.Size([64, 1, 28, 28])\n",
            "outputs shape: torch.Size([64, 784]), inputs shape: torch.Size([64, 1, 28, 28])\n",
            "outputs shape: torch.Size([64, 1, 28, 28]), inputs shape: torch.Size([64, 1, 28, 28])\n",
            "outputs shape: torch.Size([64, 784]), inputs shape: torch.Size([64, 1, 28, 28])\n",
            "outputs shape: torch.Size([64, 1, 28, 28]), inputs shape: torch.Size([64, 1, 28, 28])\n",
            "outputs shape: torch.Size([64, 784]), inputs shape: torch.Size([64, 1, 28, 28])\n",
            "outputs shape: torch.Size([64, 1, 28, 28]), inputs shape: torch.Size([64, 1, 28, 28])\n",
            "outputs shape: torch.Size([64, 784]), inputs shape: torch.Size([64, 1, 28, 28])\n",
            "outputs shape: torch.Size([64, 1, 28, 28]), inputs shape: torch.Size([64, 1, 28, 28])\n"
          ]
        },
        {
          "output_type": "stream",
          "name": "stderr",
          "text": [
            "Epoch 1:  93%|█████████▎| 875/938 [00:15<00:01, 61.22it/s]"
          ]
        },
        {
          "output_type": "stream",
          "name": "stdout",
          "text": [
            "outputs shape: torch.Size([64, 784]), inputs shape: torch.Size([64, 1, 28, 28])\n",
            "outputs shape: torch.Size([64, 1, 28, 28]), inputs shape: torch.Size([64, 1, 28, 28])\n",
            "outputs shape: torch.Size([64, 784]), inputs shape: torch.Size([64, 1, 28, 28])\n",
            "outputs shape: torch.Size([64, 1, 28, 28]), inputs shape: torch.Size([64, 1, 28, 28])\n",
            "outputs shape: torch.Size([64, 784]), inputs shape: torch.Size([64, 1, 28, 28])\n",
            "outputs shape: torch.Size([64, 1, 28, 28]), inputs shape: torch.Size([64, 1, 28, 28])\n",
            "outputs shape: torch.Size([64, 784]), inputs shape: torch.Size([64, 1, 28, 28])\n",
            "outputs shape: torch.Size([64, 1, 28, 28]), inputs shape: torch.Size([64, 1, 28, 28])\n",
            "outputs shape: torch.Size([64, 784]), inputs shape: torch.Size([64, 1, 28, 28])\n",
            "outputs shape: torch.Size([64, 1, 28, 28]), inputs shape: torch.Size([64, 1, 28, 28])\n",
            "outputs shape: torch.Size([64, 784]), inputs shape: torch.Size([64, 1, 28, 28])\n",
            "outputs shape: torch.Size([64, 1, 28, 28]), inputs shape: torch.Size([64, 1, 28, 28])\n",
            "outputs shape: torch.Size([64, 784]), inputs shape: torch.Size([64, 1, 28, 28])\n",
            "outputs shape: torch.Size([64, 1, 28, 28]), inputs shape: torch.Size([64, 1, 28, 28])\n",
            "outputs shape: torch.Size([64, 784]), inputs shape: torch.Size([64, 1, 28, 28])\n",
            "outputs shape: torch.Size([64, 1, 28, 28]), inputs shape: torch.Size([64, 1, 28, 28])\n",
            "outputs shape: torch.Size([64, 784]), inputs shape: torch.Size([64, 1, 28, 28])\n",
            "outputs shape: torch.Size([64, 1, 28, 28]), inputs shape: torch.Size([64, 1, 28, 28])\n",
            "outputs shape: torch.Size([64, 784]), inputs shape: torch.Size([64, 1, 28, 28])\n",
            "outputs shape: torch.Size([64, 1, 28, 28]), inputs shape: torch.Size([64, 1, 28, 28])\n",
            "outputs shape: torch.Size([64, 784]), inputs shape: torch.Size([64, 1, 28, 28])\n",
            "outputs shape: torch.Size([64, 1, 28, 28]), inputs shape: torch.Size([64, 1, 28, 28])\n",
            "outputs shape: torch.Size([64, 784]), inputs shape: torch.Size([64, 1, 28, 28])\n",
            "outputs shape: torch.Size([64, 1, 28, 28]), inputs shape: torch.Size([64, 1, 28, 28])\n",
            "outputs shape: torch.Size([64, 784]), inputs shape: torch.Size([64, 1, 28, 28])\n",
            "outputs shape: torch.Size([64, 1, 28, 28]), inputs shape: torch.Size([64, 1, 28, 28])\n"
          ]
        },
        {
          "output_type": "stream",
          "name": "stderr",
          "text": [
            "Epoch 1:  95%|█████████▍| 889/938 [00:15<00:00, 63.09it/s]"
          ]
        },
        {
          "output_type": "stream",
          "name": "stdout",
          "text": [
            "outputs shape: torch.Size([64, 784]), inputs shape: torch.Size([64, 1, 28, 28])\n",
            "outputs shape: torch.Size([64, 1, 28, 28]), inputs shape: torch.Size([64, 1, 28, 28])\n",
            "outputs shape: torch.Size([64, 784]), inputs shape: torch.Size([64, 1, 28, 28])\n",
            "outputs shape: torch.Size([64, 1, 28, 28]), inputs shape: torch.Size([64, 1, 28, 28])\n",
            "outputs shape: torch.Size([64, 784]), inputs shape: torch.Size([64, 1, 28, 28])\n",
            "outputs shape: torch.Size([64, 1, 28, 28]), inputs shape: torch.Size([64, 1, 28, 28])\n",
            "outputs shape: torch.Size([64, 784]), inputs shape: torch.Size([64, 1, 28, 28])\n",
            "outputs shape: torch.Size([64, 1, 28, 28]), inputs shape: torch.Size([64, 1, 28, 28])\n",
            "outputs shape: torch.Size([64, 784]), inputs shape: torch.Size([64, 1, 28, 28])\n",
            "outputs shape: torch.Size([64, 1, 28, 28]), inputs shape: torch.Size([64, 1, 28, 28])\n",
            "outputs shape: torch.Size([64, 784]), inputs shape: torch.Size([64, 1, 28, 28])\n",
            "outputs shape: torch.Size([64, 1, 28, 28]), inputs shape: torch.Size([64, 1, 28, 28])\n",
            "outputs shape: torch.Size([64, 784]), inputs shape: torch.Size([64, 1, 28, 28])\n",
            "outputs shape: torch.Size([64, 1, 28, 28]), inputs shape: torch.Size([64, 1, 28, 28])\n",
            "outputs shape: torch.Size([64, 784]), inputs shape: torch.Size([64, 1, 28, 28])\n",
            "outputs shape: torch.Size([64, 1, 28, 28]), inputs shape: torch.Size([64, 1, 28, 28])\n",
            "outputs shape: torch.Size([64, 784]), inputs shape: torch.Size([64, 1, 28, 28])\n",
            "outputs shape: torch.Size([64, 1, 28, 28]), inputs shape: torch.Size([64, 1, 28, 28])\n",
            "outputs shape: torch.Size([64, 784]), inputs shape: torch.Size([64, 1, 28, 28])\n",
            "outputs shape: torch.Size([64, 1, 28, 28]), inputs shape: torch.Size([64, 1, 28, 28])\n",
            "outputs shape: torch.Size([64, 784]), inputs shape: torch.Size([64, 1, 28, 28])\n",
            "outputs shape: torch.Size([64, 1, 28, 28]), inputs shape: torch.Size([64, 1, 28, 28])\n",
            "outputs shape: torch.Size([64, 784]), inputs shape: torch.Size([64, 1, 28, 28])\n",
            "outputs shape: torch.Size([64, 1, 28, 28]), inputs shape: torch.Size([64, 1, 28, 28])\n",
            "outputs shape: torch.Size([64, 784]), inputs shape: torch.Size([64, 1, 28, 28])\n",
            "outputs shape: torch.Size([64, 1, 28, 28]), inputs shape: torch.Size([64, 1, 28, 28])\n",
            "outputs shape: torch.Size([64, 784]), inputs shape: torch.Size([64, 1, 28, 28])\n",
            "outputs shape: torch.Size([64, 1, 28, 28]), inputs shape: torch.Size([64, 1, 28, 28])\n"
          ]
        },
        {
          "output_type": "stream",
          "name": "stderr",
          "text": [
            "Epoch 1:  96%|█████████▋| 903/938 [00:15<00:00, 60.52it/s]"
          ]
        },
        {
          "output_type": "stream",
          "name": "stdout",
          "text": [
            "outputs shape: torch.Size([64, 784]), inputs shape: torch.Size([64, 1, 28, 28])\n",
            "outputs shape: torch.Size([64, 1, 28, 28]), inputs shape: torch.Size([64, 1, 28, 28])\n",
            "outputs shape: torch.Size([64, 784]), inputs shape: torch.Size([64, 1, 28, 28])\n",
            "outputs shape: torch.Size([64, 1, 28, 28]), inputs shape: torch.Size([64, 1, 28, 28])\n",
            "outputs shape: torch.Size([64, 784]), inputs shape: torch.Size([64, 1, 28, 28])\n",
            "outputs shape: torch.Size([64, 1, 28, 28]), inputs shape: torch.Size([64, 1, 28, 28])\n",
            "outputs shape: torch.Size([64, 784]), inputs shape: torch.Size([64, 1, 28, 28])\n",
            "outputs shape: torch.Size([64, 1, 28, 28]), inputs shape: torch.Size([64, 1, 28, 28])\n",
            "outputs shape: torch.Size([64, 784]), inputs shape: torch.Size([64, 1, 28, 28])\n",
            "outputs shape: torch.Size([64, 1, 28, 28]), inputs shape: torch.Size([64, 1, 28, 28])\n",
            "outputs shape: torch.Size([64, 784]), inputs shape: torch.Size([64, 1, 28, 28])\n",
            "outputs shape: torch.Size([64, 1, 28, 28]), inputs shape: torch.Size([64, 1, 28, 28])\n",
            "loss: 0.2659794092178345\n",
            "outputs shape: torch.Size([64, 784]), inputs shape: torch.Size([64, 1, 28, 28])\n",
            "outputs shape: torch.Size([64, 1, 28, 28]), inputs shape: torch.Size([64, 1, 28, 28])\n",
            "outputs shape: torch.Size([64, 784]), inputs shape: torch.Size([64, 1, 28, 28])\n",
            "outputs shape: torch.Size([64, 1, 28, 28]), inputs shape: torch.Size([64, 1, 28, 28])\n",
            "outputs shape: torch.Size([64, 784]), inputs shape: torch.Size([64, 1, 28, 28])\n",
            "outputs shape: torch.Size([64, 1, 28, 28]), inputs shape: torch.Size([64, 1, 28, 28])\n",
            "outputs shape: torch.Size([64, 784]), inputs shape: torch.Size([64, 1, 28, 28])\n",
            "outputs shape: torch.Size([64, 1, 28, 28]), inputs shape: torch.Size([64, 1, 28, 28])\n",
            "outputs shape: torch.Size([64, 784]), inputs shape: torch.Size([64, 1, 28, 28])\n",
            "outputs shape: torch.Size([64, 1, 28, 28]), inputs shape: torch.Size([64, 1, 28, 28])\n"
          ]
        },
        {
          "output_type": "stream",
          "name": "stderr",
          "text": [
            "Epoch 1:  98%|█████████▊| 917/938 [00:15<00:00, 58.95it/s]"
          ]
        },
        {
          "output_type": "stream",
          "name": "stdout",
          "text": [
            "outputs shape: torch.Size([64, 784]), inputs shape: torch.Size([64, 1, 28, 28])\n",
            "outputs shape: torch.Size([64, 1, 28, 28]), inputs shape: torch.Size([64, 1, 28, 28])\n",
            "outputs shape: torch.Size([64, 784]), inputs shape: torch.Size([64, 1, 28, 28])\n",
            "outputs shape: torch.Size([64, 1, 28, 28]), inputs shape: torch.Size([64, 1, 28, 28])\n",
            "outputs shape: torch.Size([64, 784]), inputs shape: torch.Size([64, 1, 28, 28])\n",
            "outputs shape: torch.Size([64, 1, 28, 28]), inputs shape: torch.Size([64, 1, 28, 28])\n",
            "outputs shape: torch.Size([64, 784]), inputs shape: torch.Size([64, 1, 28, 28])\n",
            "outputs shape: torch.Size([64, 1, 28, 28]), inputs shape: torch.Size([64, 1, 28, 28])\n",
            "outputs shape: torch.Size([64, 784]), inputs shape: torch.Size([64, 1, 28, 28])\n",
            "outputs shape: torch.Size([64, 1, 28, 28]), inputs shape: torch.Size([64, 1, 28, 28])\n",
            "outputs shape: torch.Size([64, 784]), inputs shape: torch.Size([64, 1, 28, 28])\n",
            "outputs shape: torch.Size([64, 1, 28, 28]), inputs shape: torch.Size([64, 1, 28, 28])\n",
            "outputs shape: torch.Size([64, 784]), inputs shape: torch.Size([64, 1, 28, 28])\n",
            "outputs shape: torch.Size([64, 1, 28, 28]), inputs shape: torch.Size([64, 1, 28, 28])\n",
            "outputs shape: torch.Size([64, 784]), inputs shape: torch.Size([64, 1, 28, 28])\n",
            "outputs shape: torch.Size([64, 1, 28, 28]), inputs shape: torch.Size([64, 1, 28, 28])\n",
            "outputs shape: torch.Size([64, 784]), inputs shape: torch.Size([64, 1, 28, 28])\n",
            "outputs shape: torch.Size([64, 1, 28, 28]), inputs shape: torch.Size([64, 1, 28, 28])\n",
            "outputs shape: torch.Size([64, 784]), inputs shape: torch.Size([64, 1, 28, 28])\n",
            "outputs shape: torch.Size([64, 1, 28, 28]), inputs shape: torch.Size([64, 1, 28, 28])\n",
            "outputs shape: torch.Size([64, 784]), inputs shape: torch.Size([64, 1, 28, 28])\n",
            "outputs shape: torch.Size([64, 1, 28, 28]), inputs shape: torch.Size([64, 1, 28, 28])\n",
            "outputs shape: torch.Size([64, 784]), inputs shape: torch.Size([64, 1, 28, 28])\n",
            "outputs shape: torch.Size([64, 1, 28, 28]), inputs shape: torch.Size([64, 1, 28, 28])\n"
          ]
        },
        {
          "output_type": "stream",
          "name": "stderr",
          "text": [
            "Epoch 1:  99%|█████████▉| 930/938 [00:16<00:00, 60.59it/s]"
          ]
        },
        {
          "output_type": "stream",
          "name": "stdout",
          "text": [
            "outputs shape: torch.Size([64, 784]), inputs shape: torch.Size([64, 1, 28, 28])\n",
            "outputs shape: torch.Size([64, 1, 28, 28]), inputs shape: torch.Size([64, 1, 28, 28])\n",
            "outputs shape: torch.Size([64, 784]), inputs shape: torch.Size([64, 1, 28, 28])\n",
            "outputs shape: torch.Size([64, 1, 28, 28]), inputs shape: torch.Size([64, 1, 28, 28])\n",
            "outputs shape: torch.Size([64, 784]), inputs shape: torch.Size([64, 1, 28, 28])\n",
            "outputs shape: torch.Size([64, 1, 28, 28]), inputs shape: torch.Size([64, 1, 28, 28])\n",
            "outputs shape: torch.Size([64, 784]), inputs shape: torch.Size([64, 1, 28, 28])\n",
            "outputs shape: torch.Size([64, 1, 28, 28]), inputs shape: torch.Size([64, 1, 28, 28])\n",
            "outputs shape: torch.Size([64, 784]), inputs shape: torch.Size([64, 1, 28, 28])\n",
            "outputs shape: torch.Size([64, 1, 28, 28]), inputs shape: torch.Size([64, 1, 28, 28])\n",
            "outputs shape: torch.Size([64, 784]), inputs shape: torch.Size([64, 1, 28, 28])\n",
            "outputs shape: torch.Size([64, 1, 28, 28]), inputs shape: torch.Size([64, 1, 28, 28])\n",
            "outputs shape: torch.Size([64, 784]), inputs shape: torch.Size([64, 1, 28, 28])\n",
            "outputs shape: torch.Size([64, 1, 28, 28]), inputs shape: torch.Size([64, 1, 28, 28])\n",
            "outputs shape: torch.Size([64, 784]), inputs shape: torch.Size([64, 1, 28, 28])\n",
            "outputs shape: torch.Size([64, 1, 28, 28]), inputs shape: torch.Size([64, 1, 28, 28])\n",
            "outputs shape: torch.Size([64, 784]), inputs shape: torch.Size([64, 1, 28, 28])\n",
            "outputs shape: torch.Size([64, 1, 28, 28]), inputs shape: torch.Size([64, 1, 28, 28])\n",
            "outputs shape: torch.Size([64, 784]), inputs shape: torch.Size([64, 1, 28, 28])\n",
            "outputs shape: torch.Size([64, 1, 28, 28]), inputs shape: torch.Size([64, 1, 28, 28])\n",
            "outputs shape: torch.Size([64, 784]), inputs shape: torch.Size([64, 1, 28, 28])\n",
            "outputs shape: torch.Size([64, 1, 28, 28]), inputs shape: torch.Size([64, 1, 28, 28])\n",
            "outputs shape: torch.Size([64, 784]), inputs shape: torch.Size([64, 1, 28, 28])\n",
            "outputs shape: torch.Size([64, 1, 28, 28]), inputs shape: torch.Size([64, 1, 28, 28])\n",
            "outputs shape: torch.Size([64, 784]), inputs shape: torch.Size([64, 1, 28, 28])\n",
            "outputs shape: torch.Size([64, 1, 28, 28]), inputs shape: torch.Size([64, 1, 28, 28])\n"
          ]
        },
        {
          "output_type": "stream",
          "name": "stderr",
          "text": [
            "Epoch 1: 100%|██████████| 938/938 [00:16<00:00, 57.73it/s]\n"
          ]
        },
        {
          "output_type": "stream",
          "name": "stdout",
          "text": [
            "outputs shape: torch.Size([64, 784]), inputs shape: torch.Size([64, 1, 28, 28])\n",
            "outputs shape: torch.Size([64, 1, 28, 28]), inputs shape: torch.Size([64, 1, 28, 28])\n",
            "outputs shape: torch.Size([64, 784]), inputs shape: torch.Size([64, 1, 28, 28])\n",
            "outputs shape: torch.Size([64, 1, 28, 28]), inputs shape: torch.Size([64, 1, 28, 28])\n",
            "outputs shape: torch.Size([64, 784]), inputs shape: torch.Size([64, 1, 28, 28])\n",
            "outputs shape: torch.Size([64, 1, 28, 28]), inputs shape: torch.Size([64, 1, 28, 28])\n",
            "outputs shape: torch.Size([64, 784]), inputs shape: torch.Size([64, 1, 28, 28])\n",
            "outputs shape: torch.Size([64, 1, 28, 28]), inputs shape: torch.Size([64, 1, 28, 28])\n",
            "outputs shape: torch.Size([64, 784]), inputs shape: torch.Size([64, 1, 28, 28])\n",
            "outputs shape: torch.Size([64, 1, 28, 28]), inputs shape: torch.Size([64, 1, 28, 28])\n",
            "outputs shape: torch.Size([64, 784]), inputs shape: torch.Size([64, 1, 28, 28])\n",
            "outputs shape: torch.Size([64, 1, 28, 28]), inputs shape: torch.Size([64, 1, 28, 28])\n",
            "outputs shape: torch.Size([64, 784]), inputs shape: torch.Size([64, 1, 28, 28])\n",
            "outputs shape: torch.Size([64, 1, 28, 28]), inputs shape: torch.Size([64, 1, 28, 28])\n",
            "outputs shape: torch.Size([32, 784]), inputs shape: torch.Size([32, 1, 28, 28])\n",
            "outputs shape: torch.Size([32, 1, 28, 28]), inputs shape: torch.Size([32, 1, 28, 28])\n"
          ]
        },
        {
          "output_type": "stream",
          "name": "stderr",
          "text": [
            "\rEpoch 2:   0%|          | 0/938 [00:00<?, ?it/s]"
          ]
        },
        {
          "output_type": "stream",
          "name": "stdout",
          "text": [
            "outputs shape: torch.Size([64, 784]), inputs shape: torch.Size([64, 1, 28, 28])\n",
            "outputs shape: torch.Size([64, 1, 28, 28]), inputs shape: torch.Size([64, 1, 28, 28])\n",
            "outputs shape: torch.Size([64, 784]), inputs shape: torch.Size([64, 1, 28, 28])\n",
            "outputs shape: torch.Size([64, 1, 28, 28]), inputs shape: torch.Size([64, 1, 28, 28])\n",
            "outputs shape: torch.Size([64, 784]), inputs shape: torch.Size([64, 1, 28, 28])\n",
            "outputs shape: torch.Size([64, 1, 28, 28]), inputs shape: torch.Size([64, 1, 28, 28])\n",
            "outputs shape: torch.Size([64, 784]), inputs shape: torch.Size([64, 1, 28, 28])\n",
            "outputs shape: torch.Size([64, 1, 28, 28]), inputs shape: torch.Size([64, 1, 28, 28])\n"
          ]
        },
        {
          "output_type": "stream",
          "name": "stderr",
          "text": [
            "\rEpoch 2:   1%|          | 6/938 [00:00<00:16, 57.01it/s]"
          ]
        },
        {
          "output_type": "stream",
          "name": "stdout",
          "text": [
            "outputs shape: torch.Size([64, 784]), inputs shape: torch.Size([64, 1, 28, 28])\n",
            "outputs shape: torch.Size([64, 1, 28, 28]), inputs shape: torch.Size([64, 1, 28, 28])\n",
            "outputs shape: torch.Size([64, 784]), inputs shape: torch.Size([64, 1, 28, 28])\n",
            "outputs shape: torch.Size([64, 1, 28, 28]), inputs shape: torch.Size([64, 1, 28, 28])\n",
            "outputs shape: torch.Size([64, 784]), inputs shape: torch.Size([64, 1, 28, 28])\n",
            "outputs shape: torch.Size([64, 1, 28, 28]), inputs shape: torch.Size([64, 1, 28, 28])\n",
            "outputs shape: torch.Size([64, 784]), inputs shape: torch.Size([64, 1, 28, 28])\n",
            "outputs shape: torch.Size([64, 1, 28, 28]), inputs shape: torch.Size([64, 1, 28, 28])\n",
            "outputs shape: torch.Size([64, 784]), inputs shape: torch.Size([64, 1, 28, 28])\n",
            "outputs shape: torch.Size([64, 1, 28, 28]), inputs shape: torch.Size([64, 1, 28, 28])\n",
            "outputs shape: torch.Size([64, 784]), inputs shape: torch.Size([64, 1, 28, 28])\n",
            "outputs shape: torch.Size([64, 1, 28, 28]), inputs shape: torch.Size([64, 1, 28, 28])\n",
            "outputs shape: torch.Size([64, 784]), inputs shape: torch.Size([64, 1, 28, 28])\n",
            "outputs shape: torch.Size([64, 1, 28, 28]), inputs shape: torch.Size([64, 1, 28, 28])\n",
            "outputs shape: torch.Size([64, 784]), inputs shape: torch.Size([64, 1, 28, 28])\n",
            "outputs shape: torch.Size([64, 1, 28, 28]), inputs shape: torch.Size([64, 1, 28, 28])\n"
          ]
        },
        {
          "output_type": "stream",
          "name": "stderr",
          "text": [
            "\rEpoch 2:   1%|▏         | 12/938 [00:00<00:16, 56.49it/s]"
          ]
        },
        {
          "output_type": "stream",
          "name": "stdout",
          "text": [
            "outputs shape: torch.Size([64, 784]), inputs shape: torch.Size([64, 1, 28, 28])\n",
            "outputs shape: torch.Size([64, 1, 28, 28]), inputs shape: torch.Size([64, 1, 28, 28])\n",
            "outputs shape: torch.Size([64, 784]), inputs shape: torch.Size([64, 1, 28, 28])\n",
            "outputs shape: torch.Size([64, 1, 28, 28]), inputs shape: torch.Size([64, 1, 28, 28])\n",
            "outputs shape: torch.Size([64, 784]), inputs shape: torch.Size([64, 1, 28, 28])\n",
            "outputs shape: torch.Size([64, 1, 28, 28]), inputs shape: torch.Size([64, 1, 28, 28])\n"
          ]
        },
        {
          "output_type": "stream",
          "name": "stderr",
          "text": [
            "\rEpoch 2:   2%|▏         | 18/938 [00:00<00:16, 54.81it/s]"
          ]
        },
        {
          "output_type": "stream",
          "name": "stdout",
          "text": [
            "outputs shape: torch.Size([64, 784]), inputs shape: torch.Size([64, 1, 28, 28])\n",
            "outputs shape: torch.Size([64, 1, 28, 28]), inputs shape: torch.Size([64, 1, 28, 28])\n",
            "outputs shape: torch.Size([64, 784]), inputs shape: torch.Size([64, 1, 28, 28])\n",
            "outputs shape: torch.Size([64, 1, 28, 28]), inputs shape: torch.Size([64, 1, 28, 28])\n",
            "outputs shape: torch.Size([64, 784]), inputs shape: torch.Size([64, 1, 28, 28])\n",
            "outputs shape: torch.Size([64, 1, 28, 28]), inputs shape: torch.Size([64, 1, 28, 28])\n",
            "outputs shape: torch.Size([64, 784]), inputs shape: torch.Size([64, 1, 28, 28])\n",
            "outputs shape: torch.Size([64, 1, 28, 28]), inputs shape: torch.Size([64, 1, 28, 28])\n",
            "outputs shape: torch.Size([64, 784]), inputs shape: torch.Size([64, 1, 28, 28])\n",
            "outputs shape: torch.Size([64, 1, 28, 28]), inputs shape: torch.Size([64, 1, 28, 28])\n",
            "outputs shape: torch.Size([64, 784]), inputs shape: torch.Size([64, 1, 28, 28])\n",
            "outputs shape: torch.Size([64, 1, 28, 28]), inputs shape: torch.Size([64, 1, 28, 28])\n",
            "outputs shape: torch.Size([64, 784]), inputs shape: torch.Size([64, 1, 28, 28])\n",
            "outputs shape: torch.Size([64, 1, 28, 28]), inputs shape: torch.Size([64, 1, 28, 28])\n",
            "outputs shape: torch.Size([64, 784]), inputs shape: torch.Size([64, 1, 28, 28])\n",
            "outputs shape: torch.Size([64, 1, 28, 28]), inputs shape: torch.Size([64, 1, 28, 28])\n",
            "outputs shape: torch.Size([64, 784]), inputs shape: torch.Size([64, 1, 28, 28])\n",
            "outputs shape: torch.Size([64, 1, 28, 28]), inputs shape: torch.Size([64, 1, 28, 28])\n"
          ]
        },
        {
          "output_type": "stream",
          "name": "stderr",
          "text": [
            "\rEpoch 2:   3%|▎         | 25/938 [00:00<00:16, 54.90it/s]"
          ]
        },
        {
          "output_type": "stream",
          "name": "stdout",
          "text": [
            "outputs shape: torch.Size([64, 784]), inputs shape: torch.Size([64, 1, 28, 28])\n",
            "outputs shape: torch.Size([64, 1, 28, 28]), inputs shape: torch.Size([64, 1, 28, 28])\n",
            "outputs shape: torch.Size([64, 784]), inputs shape: torch.Size([64, 1, 28, 28])\n",
            "outputs shape: torch.Size([64, 1, 28, 28]), inputs shape: torch.Size([64, 1, 28, 28])\n"
          ]
        },
        {
          "output_type": "stream",
          "name": "stderr",
          "text": [
            "\rEpoch 2:   3%|▎         | 31/938 [00:00<00:17, 51.46it/s]"
          ]
        },
        {
          "output_type": "stream",
          "name": "stdout",
          "text": [
            "outputs shape: torch.Size([64, 784]), inputs shape: torch.Size([64, 1, 28, 28])\n",
            "outputs shape: torch.Size([64, 1, 28, 28]), inputs shape: torch.Size([64, 1, 28, 28])\n",
            "outputs shape: torch.Size([64, 784]), inputs shape: torch.Size([64, 1, 28, 28])\n",
            "outputs shape: torch.Size([64, 1, 28, 28]), inputs shape: torch.Size([64, 1, 28, 28])\n",
            "outputs shape: torch.Size([64, 784]), inputs shape: torch.Size([64, 1, 28, 28])\n",
            "outputs shape: torch.Size([64, 1, 28, 28]), inputs shape: torch.Size([64, 1, 28, 28])\n",
            "outputs shape: torch.Size([64, 784]), inputs shape: torch.Size([64, 1, 28, 28])\n",
            "outputs shape: torch.Size([64, 1, 28, 28]), inputs shape: torch.Size([64, 1, 28, 28])\n",
            "outputs shape: torch.Size([64, 784]), inputs shape: torch.Size([64, 1, 28, 28])\n",
            "outputs shape: torch.Size([64, 1, 28, 28]), inputs shape: torch.Size([64, 1, 28, 28])\n",
            "outputs shape: torch.Size([64, 784]), inputs shape: torch.Size([64, 1, 28, 28])\n",
            "outputs shape: torch.Size([64, 1, 28, 28]), inputs shape: torch.Size([64, 1, 28, 28])\n",
            "outputs shape: torch.Size([64, 784]), inputs shape: torch.Size([64, 1, 28, 28])\n",
            "outputs shape: torch.Size([64, 1, 28, 28]), inputs shape: torch.Size([64, 1, 28, 28])\n",
            "outputs shape: torch.Size([64, 784]), inputs shape: torch.Size([64, 1, 28, 28])\n",
            "outputs shape: torch.Size([64, 1, 28, 28]), inputs shape: torch.Size([64, 1, 28, 28])\n"
          ]
        },
        {
          "output_type": "stream",
          "name": "stderr",
          "text": [
            "\rEpoch 2:   4%|▍         | 37/938 [00:00<00:16, 53.40it/s]"
          ]
        },
        {
          "output_type": "stream",
          "name": "stdout",
          "text": [
            "outputs shape: torch.Size([64, 784]), inputs shape: torch.Size([64, 1, 28, 28])\n",
            "outputs shape: torch.Size([64, 1, 28, 28]), inputs shape: torch.Size([64, 1, 28, 28])\n",
            "outputs shape: torch.Size([64, 784]), inputs shape: torch.Size([64, 1, 28, 28])\n",
            "outputs shape: torch.Size([64, 1, 28, 28]), inputs shape: torch.Size([64, 1, 28, 28])\n",
            "outputs shape: torch.Size([64, 784]), inputs shape: torch.Size([64, 1, 28, 28])\n",
            "outputs shape: torch.Size([64, 1, 28, 28]), inputs shape: torch.Size([64, 1, 28, 28])\n"
          ]
        },
        {
          "output_type": "stream",
          "name": "stderr",
          "text": [
            "\rEpoch 2:   5%|▍         | 44/938 [00:00<00:15, 56.51it/s]"
          ]
        },
        {
          "output_type": "stream",
          "name": "stdout",
          "text": [
            "outputs shape: torch.Size([64, 784]), inputs shape: torch.Size([64, 1, 28, 28])\n",
            "outputs shape: torch.Size([64, 1, 28, 28]), inputs shape: torch.Size([64, 1, 28, 28])\n",
            "outputs shape: torch.Size([64, 784]), inputs shape: torch.Size([64, 1, 28, 28])\n",
            "outputs shape: torch.Size([64, 1, 28, 28]), inputs shape: torch.Size([64, 1, 28, 28])\n",
            "outputs shape: torch.Size([64, 784]), inputs shape: torch.Size([64, 1, 28, 28])\n",
            "outputs shape: torch.Size([64, 1, 28, 28]), inputs shape: torch.Size([64, 1, 28, 28])\n",
            "outputs shape: torch.Size([64, 784]), inputs shape: torch.Size([64, 1, 28, 28])\n",
            "outputs shape: torch.Size([64, 1, 28, 28]), inputs shape: torch.Size([64, 1, 28, 28])\n",
            "outputs shape: torch.Size([64, 784]), inputs shape: torch.Size([64, 1, 28, 28])\n",
            "outputs shape: torch.Size([64, 1, 28, 28]), inputs shape: torch.Size([64, 1, 28, 28])\n",
            "outputs shape: torch.Size([64, 784]), inputs shape: torch.Size([64, 1, 28, 28])\n",
            "outputs shape: torch.Size([64, 1, 28, 28]), inputs shape: torch.Size([64, 1, 28, 28])\n",
            "outputs shape: torch.Size([64, 784]), inputs shape: torch.Size([64, 1, 28, 28])\n",
            "outputs shape: torch.Size([64, 1, 28, 28]), inputs shape: torch.Size([64, 1, 28, 28])\n",
            "outputs shape: torch.Size([64, 784]), inputs shape: torch.Size([64, 1, 28, 28])\n",
            "outputs shape: torch.Size([64, 1, 28, 28]), inputs shape: torch.Size([64, 1, 28, 28])\n",
            "outputs shape: torch.Size([64, 784]), inputs shape: torch.Size([64, 1, 28, 28])\n",
            "outputs shape: torch.Size([64, 1, 28, 28]), inputs shape: torch.Size([64, 1, 28, 28])\n",
            "outputs shape: torch.Size([64, 784]), inputs shape: torch.Size([64, 1, 28, 28])\n",
            "outputs shape: torch.Size([64, 1, 28, 28]), inputs shape: torch.Size([64, 1, 28, 28])\n",
            "outputs shape: torch.Size([64, 784]), inputs shape: torch.Size([64, 1, 28, 28])\n",
            "outputs shape: torch.Size([64, 1, 28, 28]), inputs shape: torch.Size([64, 1, 28, 28])\n",
            "outputs shape: torch.Size([64, 784]), inputs shape: torch.Size([64, 1, 28, 28])\n",
            "outputs shape: torch.Size([64, 1, 28, 28]), inputs shape: torch.Size([64, 1, 28, 28])\n",
            "outputs shape: torch.Size([64, 784]), inputs shape: torch.Size([64, 1, 28, 28])\n",
            "outputs shape: torch.Size([64, 1, 28, 28]), inputs shape: torch.Size([64, 1, 28, 28])\n",
            "outputs shape: torch.Size([64, 784]), inputs shape: torch.Size([64, 1, 28, 28])\n",
            "outputs shape: torch.Size([64, 1, 28, 28]), inputs shape: torch.Size([64, 1, 28, 28])\n"
          ]
        },
        {
          "output_type": "stream",
          "name": "stderr",
          "text": [
            "Epoch 2:   6%|▌         | 58/938 [00:01<00:14, 59.44it/s]"
          ]
        },
        {
          "output_type": "stream",
          "name": "stdout",
          "text": [
            "outputs shape: torch.Size([64, 784]), inputs shape: torch.Size([64, 1, 28, 28])\n",
            "outputs shape: torch.Size([64, 1, 28, 28]), inputs shape: torch.Size([64, 1, 28, 28])\n",
            "outputs shape: torch.Size([64, 784]), inputs shape: torch.Size([64, 1, 28, 28])\n",
            "outputs shape: torch.Size([64, 1, 28, 28]), inputs shape: torch.Size([64, 1, 28, 28])\n",
            "outputs shape: torch.Size([64, 784]), inputs shape: torch.Size([64, 1, 28, 28])\n",
            "outputs shape: torch.Size([64, 1, 28, 28]), inputs shape: torch.Size([64, 1, 28, 28])\n",
            "outputs shape: torch.Size([64, 784]), inputs shape: torch.Size([64, 1, 28, 28])\n",
            "outputs shape: torch.Size([64, 1, 28, 28]), inputs shape: torch.Size([64, 1, 28, 28])\n",
            "outputs shape: torch.Size([64, 784]), inputs shape: torch.Size([64, 1, 28, 28])\n",
            "outputs shape: torch.Size([64, 1, 28, 28]), inputs shape: torch.Size([64, 1, 28, 28])\n",
            "outputs shape: torch.Size([64, 784]), inputs shape: torch.Size([64, 1, 28, 28])\n",
            "outputs shape: torch.Size([64, 1, 28, 28]), inputs shape: torch.Size([64, 1, 28, 28])\n",
            "outputs shape: torch.Size([64, 784]), inputs shape: torch.Size([64, 1, 28, 28])\n",
            "outputs shape: torch.Size([64, 1, 28, 28]), inputs shape: torch.Size([64, 1, 28, 28])\n",
            "outputs shape: torch.Size([64, 784]), inputs shape: torch.Size([64, 1, 28, 28])\n",
            "outputs shape: torch.Size([64, 1, 28, 28]), inputs shape: torch.Size([64, 1, 28, 28])\n",
            "outputs shape: torch.Size([64, 784]), inputs shape: torch.Size([64, 1, 28, 28])\n",
            "outputs shape: torch.Size([64, 1, 28, 28]), inputs shape: torch.Size([64, 1, 28, 28])\n",
            "outputs shape: torch.Size([64, 784]), inputs shape: torch.Size([64, 1, 28, 28])\n",
            "outputs shape: torch.Size([64, 1, 28, 28]), inputs shape: torch.Size([64, 1, 28, 28])\n",
            "outputs shape: torch.Size([64, 784]), inputs shape: torch.Size([64, 1, 28, 28])\n",
            "outputs shape: torch.Size([64, 1, 28, 28]), inputs shape: torch.Size([64, 1, 28, 28])\n",
            "outputs shape: torch.Size([64, 784]), inputs shape: torch.Size([64, 1, 28, 28])\n",
            "outputs shape: torch.Size([64, 1, 28, 28]), inputs shape: torch.Size([64, 1, 28, 28])\n"
          ]
        },
        {
          "output_type": "stream",
          "name": "stderr",
          "text": [
            "Epoch 2:   7%|▋         | 70/938 [00:01<00:15, 56.00it/s]"
          ]
        },
        {
          "output_type": "stream",
          "name": "stdout",
          "text": [
            "outputs shape: torch.Size([64, 784]), inputs shape: torch.Size([64, 1, 28, 28])\n",
            "outputs shape: torch.Size([64, 1, 28, 28]), inputs shape: torch.Size([64, 1, 28, 28])\n",
            "outputs shape: torch.Size([64, 784]), inputs shape: torch.Size([64, 1, 28, 28])\n",
            "outputs shape: torch.Size([64, 1, 28, 28]), inputs shape: torch.Size([64, 1, 28, 28])\n",
            "outputs shape: torch.Size([64, 784]), inputs shape: torch.Size([64, 1, 28, 28])\n",
            "outputs shape: torch.Size([64, 1, 28, 28]), inputs shape: torch.Size([64, 1, 28, 28])\n",
            "outputs shape: torch.Size([64, 784]), inputs shape: torch.Size([64, 1, 28, 28])\n",
            "outputs shape: torch.Size([64, 1, 28, 28]), inputs shape: torch.Size([64, 1, 28, 28])\n",
            "outputs shape: torch.Size([64, 784]), inputs shape: torch.Size([64, 1, 28, 28])\n",
            "outputs shape: torch.Size([64, 1, 28, 28]), inputs shape: torch.Size([64, 1, 28, 28])\n",
            "outputs shape: torch.Size([64, 784]), inputs shape: torch.Size([64, 1, 28, 28])\n",
            "outputs shape: torch.Size([64, 1, 28, 28]), inputs shape: torch.Size([64, 1, 28, 28])\n",
            "outputs shape: torch.Size([64, 784]), inputs shape: torch.Size([64, 1, 28, 28])\n",
            "outputs shape: torch.Size([64, 1, 28, 28]), inputs shape: torch.Size([64, 1, 28, 28])\n",
            "outputs shape: torch.Size([64, 784]), inputs shape: torch.Size([64, 1, 28, 28])\n",
            "outputs shape: torch.Size([64, 1, 28, 28]), inputs shape: torch.Size([64, 1, 28, 28])\n",
            "outputs shape: torch.Size([64, 784]), inputs shape: torch.Size([64, 1, 28, 28])\n",
            "outputs shape: torch.Size([64, 1, 28, 28]), inputs shape: torch.Size([64, 1, 28, 28])\n",
            "outputs shape: torch.Size([64, 784]), inputs shape: torch.Size([64, 1, 28, 28])\n",
            "outputs shape: torch.Size([64, 1, 28, 28]), inputs shape: torch.Size([64, 1, 28, 28])\n",
            "outputs shape: torch.Size([64, 784]), inputs shape: torch.Size([64, 1, 28, 28])\n",
            "outputs shape: torch.Size([64, 1, 28, 28]), inputs shape: torch.Size([64, 1, 28, 28])\n",
            "outputs shape: torch.Size([64, 784]), inputs shape: torch.Size([64, 1, 28, 28])\n",
            "outputs shape: torch.Size([64, 1, 28, 28]), inputs shape: torch.Size([64, 1, 28, 28])\n"
          ]
        },
        {
          "output_type": "stream",
          "name": "stderr",
          "text": [
            "Epoch 2:   9%|▊         | 82/938 [00:01<00:15, 56.78it/s]"
          ]
        },
        {
          "output_type": "stream",
          "name": "stdout",
          "text": [
            "outputs shape: torch.Size([64, 784]), inputs shape: torch.Size([64, 1, 28, 28])\n",
            "outputs shape: torch.Size([64, 1, 28, 28]), inputs shape: torch.Size([64, 1, 28, 28])\n",
            "outputs shape: torch.Size([64, 784]), inputs shape: torch.Size([64, 1, 28, 28])\n",
            "outputs shape: torch.Size([64, 1, 28, 28]), inputs shape: torch.Size([64, 1, 28, 28])\n",
            "outputs shape: torch.Size([64, 784]), inputs shape: torch.Size([64, 1, 28, 28])\n",
            "outputs shape: torch.Size([64, 1, 28, 28]), inputs shape: torch.Size([64, 1, 28, 28])\n",
            "outputs shape: torch.Size([64, 784]), inputs shape: torch.Size([64, 1, 28, 28])\n",
            "outputs shape: torch.Size([64, 1, 28, 28]), inputs shape: torch.Size([64, 1, 28, 28])\n",
            "outputs shape: torch.Size([64, 784]), inputs shape: torch.Size([64, 1, 28, 28])\n",
            "outputs shape: torch.Size([64, 1, 28, 28]), inputs shape: torch.Size([64, 1, 28, 28])\n",
            "outputs shape: torch.Size([64, 784]), inputs shape: torch.Size([64, 1, 28, 28])\n",
            "outputs shape: torch.Size([64, 1, 28, 28]), inputs shape: torch.Size([64, 1, 28, 28])\n",
            "outputs shape: torch.Size([64, 784]), inputs shape: torch.Size([64, 1, 28, 28])\n",
            "outputs shape: torch.Size([64, 1, 28, 28]), inputs shape: torch.Size([64, 1, 28, 28])\n",
            "outputs shape: torch.Size([64, 784]), inputs shape: torch.Size([64, 1, 28, 28])\n",
            "outputs shape: torch.Size([64, 1, 28, 28]), inputs shape: torch.Size([64, 1, 28, 28])\n",
            "outputs shape: torch.Size([64, 784]), inputs shape: torch.Size([64, 1, 28, 28])\n",
            "outputs shape: torch.Size([64, 1, 28, 28]), inputs shape: torch.Size([64, 1, 28, 28])\n",
            "outputs shape: torch.Size([64, 784]), inputs shape: torch.Size([64, 1, 28, 28])\n",
            "outputs shape: torch.Size([64, 1, 28, 28]), inputs shape: torch.Size([64, 1, 28, 28])\n",
            "outputs shape: torch.Size([64, 784]), inputs shape: torch.Size([64, 1, 28, 28])\n",
            "outputs shape: torch.Size([64, 1, 28, 28]), inputs shape: torch.Size([64, 1, 28, 28])\n"
          ]
        },
        {
          "output_type": "stream",
          "name": "stderr",
          "text": [
            "\rEpoch 2:   9%|▉         | 88/938 [00:01<00:16, 52.39it/s]"
          ]
        },
        {
          "output_type": "stream",
          "name": "stdout",
          "text": [
            "outputs shape: torch.Size([64, 784]), inputs shape: torch.Size([64, 1, 28, 28])\n",
            "outputs shape: torch.Size([64, 1, 28, 28]), inputs shape: torch.Size([64, 1, 28, 28])\n",
            "outputs shape: torch.Size([64, 784]), inputs shape: torch.Size([64, 1, 28, 28])\n",
            "outputs shape: torch.Size([64, 1, 28, 28]), inputs shape: torch.Size([64, 1, 28, 28])\n",
            "outputs shape: torch.Size([64, 784]), inputs shape: torch.Size([64, 1, 28, 28])\n",
            "outputs shape: torch.Size([64, 1, 28, 28]), inputs shape: torch.Size([64, 1, 28, 28])\n",
            "outputs shape: torch.Size([64, 784]), inputs shape: torch.Size([64, 1, 28, 28])\n",
            "outputs shape: torch.Size([64, 1, 28, 28]), inputs shape: torch.Size([64, 1, 28, 28])\n",
            "outputs shape: torch.Size([64, 784]), inputs shape: torch.Size([64, 1, 28, 28])\n",
            "outputs shape: torch.Size([64, 1, 28, 28]), inputs shape: torch.Size([64, 1, 28, 28])\n",
            "outputs shape: torch.Size([64, 784]), inputs shape: torch.Size([64, 1, 28, 28])\n",
            "outputs shape: torch.Size([64, 1, 28, 28]), inputs shape: torch.Size([64, 1, 28, 28])\n",
            "outputs shape: torch.Size([64, 784]), inputs shape: torch.Size([64, 1, 28, 28])\n",
            "outputs shape: torch.Size([64, 1, 28, 28]), inputs shape: torch.Size([64, 1, 28, 28])\n"
          ]
        },
        {
          "output_type": "stream",
          "name": "stderr",
          "text": [
            "\rEpoch 2:  10%|█         | 94/938 [00:01<00:17, 49.29it/s]"
          ]
        },
        {
          "output_type": "stream",
          "name": "stdout",
          "text": [
            "outputs shape: torch.Size([64, 784]), inputs shape: torch.Size([64, 1, 28, 28])\n",
            "outputs shape: torch.Size([64, 1, 28, 28]), inputs shape: torch.Size([64, 1, 28, 28])\n",
            "outputs shape: torch.Size([64, 784]), inputs shape: torch.Size([64, 1, 28, 28])\n",
            "outputs shape: torch.Size([64, 1, 28, 28]), inputs shape: torch.Size([64, 1, 28, 28])\n"
          ]
        },
        {
          "output_type": "stream",
          "name": "stderr",
          "text": [
            "\rEpoch 2:  11%|█         | 100/938 [00:01<00:17, 46.94it/s]"
          ]
        },
        {
          "output_type": "stream",
          "name": "stdout",
          "text": [
            "outputs shape: torch.Size([64, 784]), inputs shape: torch.Size([64, 1, 28, 28])\n",
            "outputs shape: torch.Size([64, 1, 28, 28]), inputs shape: torch.Size([64, 1, 28, 28])\n",
            "outputs shape: torch.Size([64, 784]), inputs shape: torch.Size([64, 1, 28, 28])\n",
            "outputs shape: torch.Size([64, 1, 28, 28]), inputs shape: torch.Size([64, 1, 28, 28])\n",
            "outputs shape: torch.Size([64, 784]), inputs shape: torch.Size([64, 1, 28, 28])\n",
            "outputs shape: torch.Size([64, 1, 28, 28]), inputs shape: torch.Size([64, 1, 28, 28])\n",
            "outputs shape: torch.Size([64, 784]), inputs shape: torch.Size([64, 1, 28, 28])\n",
            "outputs shape: torch.Size([64, 1, 28, 28]), inputs shape: torch.Size([64, 1, 28, 28])\n",
            "outputs shape: torch.Size([64, 784]), inputs shape: torch.Size([64, 1, 28, 28])\n",
            "outputs shape: torch.Size([64, 1, 28, 28]), inputs shape: torch.Size([64, 1, 28, 28])\n",
            "loss: 0.24852260947227478\n",
            "outputs shape: torch.Size([64, 784]), inputs shape: torch.Size([64, 1, 28, 28])\n",
            "outputs shape: torch.Size([64, 1, 28, 28]), inputs shape: torch.Size([64, 1, 28, 28])\n",
            "outputs shape: torch.Size([64, 784]), inputs shape: torch.Size([64, 1, 28, 28])\n",
            "outputs shape: torch.Size([64, 1, 28, 28]), inputs shape: torch.Size([64, 1, 28, 28])\n",
            "outputs shape: torch.Size([64, 784]), inputs shape: torch.Size([64, 1, 28, 28])\n",
            "outputs shape: torch.Size([64, 1, 28, 28]), inputs shape: torch.Size([64, 1, 28, 28])\n"
          ]
        },
        {
          "output_type": "stream",
          "name": "stderr",
          "text": [
            "\rEpoch 2:  11%|█         | 105/938 [00:02<00:19, 42.90it/s]"
          ]
        },
        {
          "output_type": "stream",
          "name": "stdout",
          "text": [
            "outputs shape: torch.Size([64, 784]), inputs shape: torch.Size([64, 1, 28, 28])\n",
            "outputs shape: torch.Size([64, 1, 28, 28]), inputs shape: torch.Size([64, 1, 28, 28])\n",
            "outputs shape: torch.Size([64, 784]), inputs shape: torch.Size([64, 1, 28, 28])\n",
            "outputs shape: torch.Size([64, 1, 28, 28]), inputs shape: torch.Size([64, 1, 28, 28])\n",
            "outputs shape: torch.Size([64, 784]), inputs shape: torch.Size([64, 1, 28, 28])\n",
            "outputs shape: torch.Size([64, 1, 28, 28]), inputs shape: torch.Size([64, 1, 28, 28])\n",
            "outputs shape: torch.Size([64, 784]), inputs shape: torch.Size([64, 1, 28, 28])\n",
            "outputs shape: torch.Size([64, 1, 28, 28]), inputs shape: torch.Size([64, 1, 28, 28])\n",
            "outputs shape: torch.Size([64, 784]), inputs shape: torch.Size([64, 1, 28, 28])\n",
            "outputs shape: torch.Size([64, 1, 28, 28]), inputs shape: torch.Size([64, 1, 28, 28])\n",
            "outputs shape: torch.Size([64, 784]), inputs shape: torch.Size([64, 1, 28, 28])\n",
            "outputs shape: torch.Size([64, 1, 28, 28]), inputs shape: torch.Size([64, 1, 28, 28])\n",
            "outputs shape: torch.Size([64, 784]), inputs shape: torch.Size([64, 1, 28, 28])"
          ]
        },
        {
          "output_type": "stream",
          "name": "stderr",
          "text": [
            "\rEpoch 2:  12%|█▏        | 110/938 [00:02<00:19, 42.87it/s]"
          ]
        },
        {
          "output_type": "stream",
          "name": "stdout",
          "text": [
            "\n",
            "outputs shape: torch.Size([64, 1, 28, 28]), inputs shape: torch.Size([64, 1, 28, 28])\n",
            "outputs shape: torch.Size([64, 784]), inputs shape: torch.Size([64, 1, 28, 28])\n",
            "outputs shape: torch.Size([64, 1, 28, 28]), inputs shape: torch.Size([64, 1, 28, 28])\n",
            "outputs shape: torch.Size([64, 784]), inputs shape: torch.Size([64, 1, 28, 28])\n",
            "outputs shape: torch.Size([64, 1, 28, 28]), inputs shape: torch.Size([64, 1, 28, 28])\n"
          ]
        },
        {
          "output_type": "stream",
          "name": "stderr",
          "text": [
            "\rEpoch 2:  12%|█▏        | 115/938 [00:02<00:18, 43.36it/s]"
          ]
        },
        {
          "output_type": "stream",
          "name": "stdout",
          "text": [
            "outputs shape: torch.Size([64, 784]), inputs shape: torch.Size([64, 1, 28, 28])\n",
            "outputs shape: torch.Size([64, 1, 28, 28]), inputs shape: torch.Size([64, 1, 28, 28])\n",
            "outputs shape: torch.Size([64, 784]), inputs shape: torch.Size([64, 1, 28, 28])\n",
            "outputs shape: torch.Size([64, 1, 28, 28]), inputs shape: torch.Size([64, 1, 28, 28])\n",
            "outputs shape: torch.Size([64, 784]), inputs shape: torch.Size([64, 1, 28, 28])\n",
            "outputs shape: torch.Size([64, 1, 28, 28]), inputs shape: torch.Size([64, 1, 28, 28])\n",
            "outputs shape: torch.Size([64, 784]), inputs shape: torch.Size([64, 1, 28, 28])\n",
            "outputs shape: torch.Size([64, 1, 28, 28]), inputs shape: torch.Size([64, 1, 28, 28])\n",
            "outputs shape: torch.Size([64, 784]), inputs shape: torch.Size([64, 1, 28, 28])\n",
            "outputs shape: torch.Size([64, 1, 28, 28]), inputs shape: torch.Size([64, 1, 28, 28])\n",
            "outputs shape: torch.Size([64, 784]), inputs shape: torch.Size([64, 1, 28, 28])\n",
            "outputs shape: torch.Size([64, 1, 28, 28]), inputs shape: torch.Size([64, 1, 28, 28])\n"
          ]
        },
        {
          "output_type": "stream",
          "name": "stderr",
          "text": [
            "\rEpoch 2:  13%|█▎        | 120/938 [00:02<00:18, 43.11it/s]"
          ]
        },
        {
          "output_type": "stream",
          "name": "stdout",
          "text": [
            "outputs shape: torch.Size([64, 784]), inputs shape: torch.Size([64, 1, 28, 28])\n",
            "outputs shape: torch.Size([64, 1, 28, 28]), inputs shape: torch.Size([64, 1, 28, 28])\n",
            "outputs shape: torch.Size([64, 784]), inputs shape: torch.Size([64, 1, 28, 28])\n",
            "outputs shape: torch.Size([64, 1, 28, 28]), inputs shape: torch.Size([64, 1, 28, 28])\n",
            "outputs shape: torch.Size([64, 784]), inputs shape: torch.Size([64, 1, 28, 28])\n",
            "outputs shape: torch.Size([64, 1, 28, 28]), inputs shape: torch.Size([64, 1, 28, 28])\n"
          ]
        },
        {
          "output_type": "stream",
          "name": "stderr",
          "text": [
            "\rEpoch 2:  13%|█▎        | 125/938 [00:02<00:18, 43.18it/s]"
          ]
        },
        {
          "output_type": "stream",
          "name": "stdout",
          "text": [
            "outputs shape: torch.Size([64, 784]), inputs shape: torch.Size([64, 1, 28, 28])\n",
            "outputs shape: torch.Size([64, 1, 28, 28]), inputs shape: torch.Size([64, 1, 28, 28])\n",
            "outputs shape: torch.Size([64, 784]), inputs shape: torch.Size([64, 1, 28, 28])\n",
            "outputs shape: torch.Size([64, 1, 28, 28]), inputs shape: torch.Size([64, 1, 28, 28])\n",
            "outputs shape: torch.Size([64, 784]), inputs shape: torch.Size([64, 1, 28, 28])\n",
            "outputs shape: torch.Size([64, 1, 28, 28]), inputs shape: torch.Size([64, 1, 28, 28])\n",
            "outputs shape: torch.Size([64, 784]), inputs shape: torch.Size([64, 1, 28, 28])\n",
            "outputs shape: torch.Size([64, 1, 28, 28]), inputs shape: torch.Size([64, 1, 28, 28])\n",
            "outputs shape: torch.Size([64, 784]), inputs shape: torch.Size([64, 1, 28, 28])\n",
            "outputs shape: torch.Size([64, 1, 28, 28]), inputs shape: torch.Size([64, 1, 28, 28])\n",
            "outputs shape: torch.Size([64, 784]), inputs shape: torch.Size([64, 1, 28, 28])\n",
            "outputs shape: torch.Size([64, 1, 28, 28]), inputs shape: torch.Size([64, 1, 28, 28])\n",
            "outputs shape: torch.Size([64, 784]), inputs shape: torch.Size([64, 1, 28, 28])\n",
            "outputs shape: torch.Size([64, 1, 28, 28]), inputs shape: torch.Size([64, 1, 28, 28])\n",
            "outputs shape: torch.Size([64, 784]), inputs shape: torch.Size([64, 1, 28, 28])\n",
            "outputs shape: torch.Size([64, 1, 28, 28]), inputs shape: torch.Size([64, 1, 28, 28])\n"
          ]
        },
        {
          "output_type": "stream",
          "name": "stderr",
          "text": [
            "\rEpoch 2:  14%|█▍        | 130/938 [00:02<00:20, 39.55it/s]"
          ]
        },
        {
          "output_type": "stream",
          "name": "stdout",
          "text": [
            "outputs shape: torch.Size([64, 784]), inputs shape: torch.Size([64, 1, 28, 28])\n",
            "outputs shape: torch.Size([64, 1, 28, 28]), inputs shape: torch.Size([64, 1, 28, 28])\n",
            "outputs shape: torch.Size([64, 784]), inputs shape: torch.Size([64, 1, 28, 28])\n",
            "outputs shape: torch.Size([64, 1, 28, 28]), inputs shape: torch.Size([64, 1, 28, 28])\n",
            "outputs shape: torch.Size([64, 784]), inputs shape: torch.Size([64, 1, 28, 28])\n",
            "outputs shape: torch.Size([64, 1, 28, 28]), inputs shape: torch.Size([64, 1, 28, 28])\n",
            "outputs shape: torch.Size([64, 784]), inputs shape: torch.Size([64, 1, 28, 28])\n",
            "outputs shape: torch.Size([64, 1, 28, 28]), inputs shape: torch.Size([64, 1, 28, 28])\n",
            "outputs shape: torch.Size([64, 784]), inputs shape: torch.Size([64, 1, 28, 28])\n",
            "outputs shape: torch.Size([64, 1, 28, 28]), inputs shape: torch.Size([64, 1, 28, 28])\n",
            "outputs shape: torch.Size([64, 784]), inputs shape: torch.Size([64, 1, 28, 28])"
          ]
        },
        {
          "output_type": "stream",
          "name": "stderr",
          "text": [
            "\rEpoch 2:  14%|█▍        | 135/938 [00:02<00:20, 39.79it/s]"
          ]
        },
        {
          "output_type": "stream",
          "name": "stdout",
          "text": [
            "\n",
            "outputs shape: torch.Size([64, 1, 28, 28]), inputs shape: torch.Size([64, 1, 28, 28])\n",
            "outputs shape: torch.Size([64, 784]), inputs shape: torch.Size([64, 1, 28, 28])\n",
            "outputs shape: torch.Size([64, 1, 28, 28]), inputs shape: torch.Size([64, 1, 28, 28])\n",
            "outputs shape: torch.Size([64, 784]), inputs shape: torch.Size([64, 1, 28, 28])\n",
            "outputs shape: torch.Size([64, 1, 28, 28]), inputs shape: torch.Size([64, 1, 28, 28])\n",
            "outputs shape: torch.Size([64, 784]), inputs shape: torch.Size([64, 1, 28, 28])\n",
            "outputs shape: torch.Size([64, 1, 28, 28]), inputs shape: torch.Size([64, 1, 28, 28])\n"
          ]
        },
        {
          "output_type": "stream",
          "name": "stderr",
          "text": [
            "\rEpoch 2:  15%|█▍        | 140/938 [00:02<00:20, 39.84it/s]"
          ]
        },
        {
          "output_type": "stream",
          "name": "stdout",
          "text": [
            "outputs shape: torch.Size([64, 784]), inputs shape: torch.Size([64, 1, 28, 28])\n",
            "outputs shape: torch.Size([64, 1, 28, 28]), inputs shape: torch.Size([64, 1, 28, 28])\n",
            "outputs shape: torch.Size([64, 784]), inputs shape: torch.Size([64, 1, 28, 28])\n",
            "outputs shape: torch.Size([64, 1, 28, 28]), inputs shape: torch.Size([64, 1, 28, 28])\n",
            "outputs shape: torch.Size([64, 784]), inputs shape: torch.Size([64, 1, 28, 28])\n",
            "outputs shape: torch.Size([64, 1, 28, 28]), inputs shape: torch.Size([64, 1, 28, 28])\n",
            "outputs shape: torch.Size([64, 784]), inputs shape: torch.Size([64, 1, 28, 28])\n",
            "outputs shape: torch.Size([64, 1, 28, 28]), inputs shape: torch.Size([64, 1, 28, 28])\n",
            "outputs shape: torch.Size([64, 784]), inputs shape: torch.Size([64, 1, 28, 28])\n",
            "outputs shape: torch.Size([64, 1, 28, 28]), inputs shape: torch.Size([64, 1, 28, 28])\n"
          ]
        },
        {
          "output_type": "stream",
          "name": "stderr",
          "text": [
            "\rEpoch 2:  15%|█▌        | 145/938 [00:03<00:19, 40.03it/s]"
          ]
        },
        {
          "output_type": "stream",
          "name": "stdout",
          "text": [
            "outputs shape: torch.Size([64, 784]), inputs shape: torch.Size([64, 1, 28, 28])\n",
            "outputs shape: torch.Size([64, 1, 28, 28]), inputs shape: torch.Size([64, 1, 28, 28])\n",
            "outputs shape: torch.Size([64, 784]), inputs shape: torch.Size([64, 1, 28, 28])\n",
            "outputs shape: torch.Size([64, 1, 28, 28]), inputs shape: torch.Size([64, 1, 28, 28])\n",
            "outputs shape: torch.Size([64, 784]), inputs shape: torch.Size([64, 1, 28, 28])\n",
            "outputs shape: torch.Size([64, 1, 28, 28]), inputs shape: torch.Size([64, 1, 28, 28])\n",
            "outputs shape: torch.Size([64, 784]), inputs shape: torch.Size([64, 1, 28, 28])\n",
            "outputs shape: torch.Size([64, 1, 28, 28]), inputs shape: torch.Size([64, 1, 28, 28])\n"
          ]
        },
        {
          "output_type": "stream",
          "name": "stderr",
          "text": [
            "\rEpoch 2:  16%|█▌        | 150/938 [00:03<00:19, 40.68it/s]"
          ]
        },
        {
          "output_type": "stream",
          "name": "stdout",
          "text": [
            "outputs shape: torch.Size([64, 784]), inputs shape: torch.Size([64, 1, 28, 28])\n",
            "outputs shape: torch.Size([64, 1, 28, 28]), inputs shape: torch.Size([64, 1, 28, 28])\n",
            "outputs shape: torch.Size([64, 784]), inputs shape: torch.Size([64, 1, 28, 28])\n",
            "outputs shape: torch.Size([64, 1, 28, 28]), inputs shape: torch.Size([64, 1, 28, 28])\n",
            "outputs shape: torch.Size([64, 784]), inputs shape: torch.Size([64, 1, 28, 28])\n",
            "outputs shape: torch.Size([64, 1, 28, 28]), inputs shape: torch.Size([64, 1, 28, 28])\n",
            "outputs shape: torch.Size([64, 784]), inputs shape: torch.Size([64, 1, 28, 28])\n",
            "outputs shape: torch.Size([64, 1, 28, 28]), inputs shape: torch.Size([64, 1, 28, 28])\n",
            "outputs shape: torch.Size([64, 784]), inputs shape: torch.Size([64, 1, 28, 28])\n",
            "outputs shape: torch.Size([64, 1, 28, 28]), inputs shape: torch.Size([64, 1, 28, 28])\n"
          ]
        },
        {
          "output_type": "stream",
          "name": "stderr",
          "text": [
            "\rEpoch 2:  17%|█▋        | 155/938 [00:03<00:18, 41.23it/s]"
          ]
        },
        {
          "output_type": "stream",
          "name": "stdout",
          "text": [
            "outputs shape: torch.Size([64, 784]), inputs shape: torch.Size([64, 1, 28, 28])\n",
            "outputs shape: torch.Size([64, 1, 28, 28]), inputs shape: torch.Size([64, 1, 28, 28])\n",
            "outputs shape: torch.Size([64, 784]), inputs shape: torch.Size([64, 1, 28, 28])\n",
            "outputs shape: torch.Size([64, 1, 28, 28]), inputs shape: torch.Size([64, 1, 28, 28])\n",
            "outputs shape: torch.Size([64, 784]), inputs shape: torch.Size([64, 1, 28, 28])\n",
            "outputs shape: torch.Size([64, 1, 28, 28]), inputs shape: torch.Size([64, 1, 28, 28])\n",
            "outputs shape: torch.Size([64, 784]), inputs shape: torch.Size([64, 1, 28, 28])\n",
            "outputs shape: torch.Size([64, 1, 28, 28]), inputs shape: torch.Size([64, 1, 28, 28])\n"
          ]
        },
        {
          "output_type": "stream",
          "name": "stderr",
          "text": [
            "\rEpoch 2:  17%|█▋        | 160/938 [00:03<00:19, 40.58it/s]"
          ]
        },
        {
          "output_type": "stream",
          "name": "stdout",
          "text": [
            "outputs shape: torch.Size([64, 784]), inputs shape: torch.Size([64, 1, 28, 28])\n",
            "outputs shape: torch.Size([64, 1, 28, 28]), inputs shape: torch.Size([64, 1, 28, 28])\n",
            "outputs shape: torch.Size([64, 784]), inputs shape: torch.Size([64, 1, 28, 28])\n",
            "outputs shape: torch.Size([64, 1, 28, 28]), inputs shape: torch.Size([64, 1, 28, 28])\n",
            "outputs shape: torch.Size([64, 784]), inputs shape: torch.Size([64, 1, 28, 28])\n",
            "outputs shape: torch.Size([64, 1, 28, 28]), inputs shape: torch.Size([64, 1, 28, 28])\n",
            "outputs shape: torch.Size([64, 784]), inputs shape: torch.Size([64, 1, 28, 28])\n",
            "outputs shape: torch.Size([64, 1, 28, 28]), inputs shape: torch.Size([64, 1, 28, 28])\n",
            "outputs shape: torch.Size([64, 784]), inputs shape: torch.Size([64, 1, 28, 28])\n",
            "outputs shape: torch.Size([64, 1, 28, 28]), inputs shape: torch.Size([64, 1, 28, 28])\n",
            "outputs shape: torch.Size([64, 784]), inputs shape: torch.Size([64, 1, 28, 28])\n",
            "outputs shape: torch.Size([64, 1, 28, 28]), inputs shape: torch.Size([64, 1, 28, 28])\n",
            "outputs shape: torch.Size([64, 784]), inputs shape: torch.Size([64, 1, 28, 28])\n",
            "outputs shape: torch.Size([64, 1, 28, 28]), inputs shape: torch.Size([64, 1, 28, 28])\n",
            "outputs shape: torch.Size([64, 784]), inputs shape: torch.Size([64, 1, 28, 28])\n",
            "outputs shape: torch.Size([64, 1, 28, 28]), inputs shape: torch.Size([64, 1, 28, 28])\n"
          ]
        },
        {
          "output_type": "stream",
          "name": "stderr",
          "text": [
            "\rEpoch 2:  18%|█▊        | 165/938 [00:03<00:19, 39.00it/s]"
          ]
        },
        {
          "output_type": "stream",
          "name": "stdout",
          "text": [
            "outputs shape: torch.Size([64, 784]), inputs shape: torch.Size([64, 1, 28, 28])\n",
            "outputs shape: torch.Size([64, 1, 28, 28]), inputs shape: torch.Size([64, 1, 28, 28])\n",
            "outputs shape: torch.Size([64, 784]), inputs shape: torch.Size([64, 1, 28, 28])\n",
            "outputs shape: torch.Size([64, 1, 28, 28]), inputs shape: torch.Size([64, 1, 28, 28])\n",
            "outputs shape: torch.Size([64, 784]), inputs shape: torch.Size([64, 1, 28, 28])\n",
            "outputs shape: torch.Size([64, 1, 28, 28]), inputs shape: torch.Size([64, 1, 28, 28])\n",
            "outputs shape: torch.Size([64, 784]), inputs shape: torch.Size([64, 1, 28, 28])\n",
            "outputs shape: torch.Size([64, 1, 28, 28]), inputs shape: torch.Size([64, 1, 28, 28])\n",
            "outputs shape: torch.Size([64, 784]), inputs shape: torch.Size([64, 1, 28, 28])\n",
            "outputs shape: torch.Size([64, 1, 28, 28]), inputs shape: torch.Size([64, 1, 28, 28])\n"
          ]
        },
        {
          "output_type": "stream",
          "name": "stderr",
          "text": [
            "\rEpoch 2:  18%|█▊        | 169/938 [00:03<00:20, 38.10it/s]"
          ]
        },
        {
          "output_type": "stream",
          "name": "stdout",
          "text": [
            "outputs shape: torch.Size([64, 784]), inputs shape: torch.Size([64, 1, 28, 28])\n",
            "outputs shape: torch.Size([64, 1, 28, 28]), inputs shape: torch.Size([64, 1, 28, 28])\n",
            "outputs shape: torch.Size([64, 784]), inputs shape: torch.Size([64, 1, 28, 28])\n",
            "outputs shape: torch.Size([64, 1, 28, 28]), inputs shape: torch.Size([64, 1, 28, 28])\n"
          ]
        },
        {
          "output_type": "stream",
          "name": "stderr",
          "text": [
            "\rEpoch 2:  18%|█▊        | 173/938 [00:03<00:20, 36.79it/s]"
          ]
        },
        {
          "output_type": "stream",
          "name": "stdout",
          "text": [
            "outputs shape: torch.Size([64, 784]), inputs shape: torch.Size([64, 1, 28, 28])\n",
            "outputs shape: torch.Size([64, 1, 28, 28]), inputs shape: torch.Size([64, 1, 28, 28])\n",
            "outputs shape: torch.Size([64, 784]), inputs shape: torch.Size([64, 1, 28, 28])\n",
            "outputs shape: torch.Size([64, 1, 28, 28]), inputs shape: torch.Size([64, 1, 28, 28])\n",
            "outputs shape: torch.Size([64, 784]), inputs shape: torch.Size([64, 1, 28, 28])\n",
            "outputs shape: torch.Size([64, 1, 28, 28]), inputs shape: torch.Size([64, 1, 28, 28])\n",
            "outputs shape: torch.Size([64, 784]), inputs shape: torch.Size([64, 1, 28, 28])\n",
            "outputs shape: torch.Size([64, 1, 28, 28]), inputs shape: torch.Size([64, 1, 28, 28])\n",
            "outputs shape: torch.Size([64, 784]), inputs shape: torch.Size([64, 1, 28, 28])\n",
            "outputs shape: torch.Size([64, 1, 28, 28]), inputs shape: torch.Size([64, 1, 28, 28])\n",
            "outputs shape: torch.Size([64, 784]), inputs shape: torch.Size([64, 1, 28, 28])\n",
            "outputs shape: torch.Size([64, 1, 28, 28]), inputs shape: torch.Size([64, 1, 28, 28])\n"
          ]
        },
        {
          "output_type": "stream",
          "name": "stderr",
          "text": [
            "\rEpoch 2:  19%|█▉        | 178/938 [00:03<00:20, 38.00it/s]"
          ]
        },
        {
          "output_type": "stream",
          "name": "stdout",
          "text": [
            "outputs shape: torch.Size([64, 784]), inputs shape: torch.Size([64, 1, 28, 28])\n",
            "outputs shape: torch.Size([64, 1, 28, 28]), inputs shape: torch.Size([64, 1, 28, 28])\n",
            "outputs shape: torch.Size([64, 784]), inputs shape: torch.Size([64, 1, 28, 28])\n",
            "outputs shape: torch.Size([64, 1, 28, 28]), inputs shape: torch.Size([64, 1, 28, 28])\n"
          ]
        },
        {
          "output_type": "stream",
          "name": "stderr",
          "text": [
            "\rEpoch 2:  20%|█▉        | 183/938 [00:03<00:19, 39.40it/s]"
          ]
        },
        {
          "output_type": "stream",
          "name": "stdout",
          "text": [
            "outputs shape: torch.Size([64, 784]), inputs shape: torch.Size([64, 1, 28, 28])\n",
            "outputs shape: torch.Size([64, 1, 28, 28]), inputs shape: torch.Size([64, 1, 28, 28])\n",
            "outputs shape: torch.Size([64, 784]), inputs shape: torch.Size([64, 1, 28, 28])\n",
            "outputs shape: torch.Size([64, 1, 28, 28]), inputs shape: torch.Size([64, 1, 28, 28])\n",
            "outputs shape: torch.Size([64, 784]), inputs shape: torch.Size([64, 1, 28, 28])\n",
            "outputs shape: torch.Size([64, 1, 28, 28]), inputs shape: torch.Size([64, 1, 28, 28])\n",
            "outputs shape: torch.Size([64, 784]), inputs shape: torch.Size([64, 1, 28, 28])\n",
            "outputs shape: torch.Size([64, 1, 28, 28]), inputs shape: torch.Size([64, 1, 28, 28])\n",
            "outputs shape: torch.Size([64, 784]), inputs shape: torch.Size([64, 1, 28, 28])\n",
            "outputs shape: torch.Size([64, 1, 28, 28]), inputs shape: torch.Size([64, 1, 28, 28])\n",
            "outputs shape: torch.Size([64, 784]), inputs shape: torch.Size([64, 1, 28, 28])\n",
            "outputs shape: torch.Size([64, 1, 28, 28]), inputs shape: torch.Size([64, 1, 28, 28])\n",
            "outputs shape: torch.Size([64, 784]), inputs shape: torch.Size([64, 1, 28, 28])\n",
            "outputs shape: torch.Size([64, 1, 28, 28]), inputs shape: torch.Size([64, 1, 28, 28])\n"
          ]
        },
        {
          "output_type": "stream",
          "name": "stderr",
          "text": [
            "\rEpoch 2:  20%|██        | 188/938 [00:04<00:18, 40.24it/s]"
          ]
        },
        {
          "output_type": "stream",
          "name": "stdout",
          "text": [
            "outputs shape: torch.Size([64, 784]), inputs shape: torch.Size([64, 1, 28, 28])\n",
            "outputs shape: torch.Size([64, 1, 28, 28]), inputs shape: torch.Size([64, 1, 28, 28])\n",
            "outputs shape: torch.Size([64, 784]), inputs shape: torch.Size([64, 1, 28, 28])\n",
            "outputs shape: torch.Size([64, 1, 28, 28]), inputs shape: torch.Size([64, 1, 28, 28])\n"
          ]
        },
        {
          "output_type": "stream",
          "name": "stderr",
          "text": [
            "\rEpoch 2:  21%|██        | 193/938 [00:04<00:19, 39.17it/s]"
          ]
        },
        {
          "output_type": "stream",
          "name": "stdout",
          "text": [
            "outputs shape: torch.Size([64, 784]), inputs shape: torch.Size([64, 1, 28, 28])\n",
            "outputs shape: torch.Size([64, 1, 28, 28]), inputs shape: torch.Size([64, 1, 28, 28])\n",
            "outputs shape: torch.Size([64, 784]), inputs shape: torch.Size([64, 1, 28, 28])\n",
            "outputs shape: torch.Size([64, 1, 28, 28]), inputs shape: torch.Size([64, 1, 28, 28])\n",
            "outputs shape: torch.Size([64, 784]), inputs shape: torch.Size([64, 1, 28, 28])\n",
            "outputs shape: torch.Size([64, 1, 28, 28]), inputs shape: torch.Size([64, 1, 28, 28])\n",
            "outputs shape: torch.Size([64, 784]), inputs shape: torch.Size([64, 1, 28, 28])\n",
            "outputs shape: torch.Size([64, 1, 28, 28]), inputs shape: torch.Size([64, 1, 28, 28])\n",
            "outputs shape: torch.Size([64, 784]), inputs shape: torch.Size([64, 1, 28, 28])\n",
            "outputs shape: torch.Size([64, 1, 28, 28]), inputs shape: torch.Size([64, 1, 28, 28])\n",
            "outputs shape: torch.Size([64, 784]), inputs shape: torch.Size([64, 1, 28, 28])\n",
            "outputs shape: torch.Size([64, 1, 28, 28]), inputs shape: torch.Size([64, 1, 28, 28])\n",
            "outputs shape: torch.Size([64, 784]), inputs shape: torch.Size([64, 1, 28, 28])\n",
            "outputs shape: torch.Size([64, 1, 28, 28]), inputs shape: torch.Size([64, 1, 28, 28])\n",
            "outputs shape: torch.Size([64, 784]), inputs shape: torch.Size([64, 1, 28, 28])\n",
            "outputs shape: torch.Size([64, 1, 28, 28]), inputs shape: torch.Size([64, 1, 28, 28])\n"
          ]
        },
        {
          "output_type": "stream",
          "name": "stderr",
          "text": [
            "Epoch 2:  21%|██▏       | 201/938 [00:04<00:19, 36.93it/s]"
          ]
        },
        {
          "output_type": "stream",
          "name": "stdout",
          "text": [
            "outputs shape: torch.Size([64, 784]), inputs shape: torch.Size([64, 1, 28, 28])\n",
            "outputs shape: torch.Size([64, 1, 28, 28]), inputs shape: torch.Size([64, 1, 28, 28])\n",
            "outputs shape: torch.Size([64, 784]), inputs shape: torch.Size([64, 1, 28, 28])\n",
            "outputs shape: torch.Size([64, 1, 28, 28]), inputs shape: torch.Size([64, 1, 28, 28])\n",
            "outputs shape: torch.Size([64, 784]), inputs shape: torch.Size([64, 1, 28, 28])\n",
            "outputs shape: torch.Size([64, 1, 28, 28]), inputs shape: torch.Size([64, 1, 28, 28])\n",
            "outputs shape: torch.Size([64, 784]), inputs shape: torch.Size([64, 1, 28, 28])\n",
            "outputs shape: torch.Size([64, 1, 28, 28]), inputs shape: torch.Size([64, 1, 28, 28])\n",
            "loss: 0.25660619139671326\n",
            "outputs shape: torch.Size([64, 784]), inputs shape: torch.Size([64, 1, 28, 28])\n",
            "outputs shape: torch.Size([64, 1, 28, 28]), inputs shape: torch.Size([64, 1, 28, 28])\n",
            "outputs shape: torch.Size([64, 784]), inputs shape: torch.Size([64, 1, 28, 28])\n",
            "outputs shape: torch.Size([64, 1, 28, 28]), inputs shape: torch.Size([64, 1, 28, 28])\n",
            "outputs shape: torch.Size([64, 784]), inputs shape: torch.Size([64, 1, 28, 28])\n",
            "outputs shape: torch.Size([64, 1, 28, 28]), inputs shape: torch.Size([64, 1, 28, 28])\n",
            "outputs shape: torch.Size([64, 784]), inputs shape: torch.Size([64, 1, 28, 28])\n",
            "outputs shape: torch.Size([64, 1, 28, 28]), inputs shape: torch.Size([64, 1, 28, 28])\n"
          ]
        },
        {
          "output_type": "stream",
          "name": "stderr",
          "text": [
            "Epoch 2:  22%|██▏       | 209/938 [00:04<00:19, 36.89it/s]"
          ]
        },
        {
          "output_type": "stream",
          "name": "stdout",
          "text": [
            "outputs shape: torch.Size([64, 784]), inputs shape: torch.Size([64, 1, 28, 28])\n",
            "outputs shape: torch.Size([64, 1, 28, 28]), inputs shape: torch.Size([64, 1, 28, 28])\n",
            "outputs shape: torch.Size([64, 784]), inputs shape: torch.Size([64, 1, 28, 28])\n",
            "outputs shape: torch.Size([64, 1, 28, 28]), inputs shape: torch.Size([64, 1, 28, 28])\n",
            "outputs shape: torch.Size([64, 784]), inputs shape: torch.Size([64, 1, 28, 28])\n",
            "outputs shape: torch.Size([64, 1, 28, 28]), inputs shape: torch.Size([64, 1, 28, 28])\n",
            "outputs shape: torch.Size([64, 784]), inputs shape: torch.Size([64, 1, 28, 28])\n",
            "outputs shape: torch.Size([64, 1, 28, 28]), inputs shape: torch.Size([64, 1, 28, 28])\n",
            "outputs shape: torch.Size([64, 784]), inputs shape: torch.Size([64, 1, 28, 28])\n",
            "outputs shape: torch.Size([64, 1, 28, 28]), inputs shape: torch.Size([64, 1, 28, 28])\n",
            "outputs shape: torch.Size([64, 784]), inputs shape: torch.Size([64, 1, 28, 28])\n",
            "outputs shape: torch.Size([64, 1, 28, 28]), inputs shape: torch.Size([64, 1, 28, 28])\n",
            "outputs shape: torch.Size([64, 784]), inputs shape: torch.Size([64, 1, 28, 28])\n",
            "outputs shape: torch.Size([64, 1, 28, 28]), inputs shape: torch.Size([64, 1, 28, 28])\n",
            "outputs shape: torch.Size([64, 784]), inputs shape: torch.Size([64, 1, 28, 28])\n",
            "outputs shape: torch.Size([64, 1, 28, 28]), inputs shape: torch.Size([64, 1, 28, 28])\n"
          ]
        },
        {
          "output_type": "stream",
          "name": "stderr",
          "text": [
            "Epoch 2:  23%|██▎       | 218/938 [00:04<00:19, 37.14it/s]"
          ]
        },
        {
          "output_type": "stream",
          "name": "stdout",
          "text": [
            "outputs shape: torch.Size([64, 784]), inputs shape: torch.Size([64, 1, 28, 28])\n",
            "outputs shape: torch.Size([64, 1, 28, 28]), inputs shape: torch.Size([64, 1, 28, 28])\n",
            "outputs shape: torch.Size([64, 784]), inputs shape: torch.Size([64, 1, 28, 28])\n",
            "outputs shape: torch.Size([64, 1, 28, 28]), inputs shape: torch.Size([64, 1, 28, 28])\n",
            "outputs shape: torch.Size([64, 784]), inputs shape: torch.Size([64, 1, 28, 28])\n",
            "outputs shape: torch.Size([64, 1, 28, 28]), inputs shape: torch.Size([64, 1, 28, 28])\n",
            "outputs shape: torch.Size([64, 784]), inputs shape: torch.Size([64, 1, 28, 28])\n",
            "outputs shape: torch.Size([64, 1, 28, 28]), inputs shape: torch.Size([64, 1, 28, 28])\n",
            "outputs shape: torch.Size([64, 784]), inputs shape: torch.Size([64, 1, 28, 28])\n",
            "outputs shape: torch.Size([64, 1, 28, 28]), inputs shape: torch.Size([64, 1, 28, 28])\n",
            "outputs shape: torch.Size([64, 784]), inputs shape: torch.Size([64, 1, 28, 28])\n",
            "outputs shape: torch.Size([64, 1, 28, 28]), inputs shape: torch.Size([64, 1, 28, 28])\n",
            "outputs shape: torch.Size([64, 784]), inputs shape: torch.Size([64, 1, 28, 28])\n",
            "outputs shape: torch.Size([64, 1, 28, 28]), inputs shape: torch.Size([64, 1, 28, 28])\n"
          ]
        },
        {
          "output_type": "stream",
          "name": "stderr",
          "text": [
            "Epoch 2:  24%|██▍       | 229/938 [00:05<00:15, 45.25it/s]"
          ]
        },
        {
          "output_type": "stream",
          "name": "stdout",
          "text": [
            "outputs shape: torch.Size([64, 784]), inputs shape: torch.Size([64, 1, 28, 28])\n",
            "outputs shape: torch.Size([64, 1, 28, 28]), inputs shape: torch.Size([64, 1, 28, 28])\n",
            "outputs shape: torch.Size([64, 784]), inputs shape: torch.Size([64, 1, 28, 28])\n",
            "outputs shape: torch.Size([64, 1, 28, 28]), inputs shape: torch.Size([64, 1, 28, 28])\n",
            "outputs shape: torch.Size([64, 784]), inputs shape: torch.Size([64, 1, 28, 28])\n",
            "outputs shape: torch.Size([64, 1, 28, 28]), inputs shape: torch.Size([64, 1, 28, 28])\n",
            "outputs shape: torch.Size([64, 784]), inputs shape: torch.Size([64, 1, 28, 28])\n",
            "outputs shape: torch.Size([64, 1, 28, 28]), inputs shape: torch.Size([64, 1, 28, 28])\n",
            "outputs shape: torch.Size([64, 784]), inputs shape: torch.Size([64, 1, 28, 28])\n",
            "outputs shape: torch.Size([64, 1, 28, 28]), inputs shape: torch.Size([64, 1, 28, 28])\n",
            "outputs shape: torch.Size([64, 784]), inputs shape: torch.Size([64, 1, 28, 28])\n",
            "outputs shape: torch.Size([64, 1, 28, 28]), inputs shape: torch.Size([64, 1, 28, 28])\n",
            "outputs shape: torch.Size([64, 784]), inputs shape: torch.Size([64, 1, 28, 28])\n",
            "outputs shape: torch.Size([64, 1, 28, 28]), inputs shape: torch.Size([64, 1, 28, 28])\n",
            "outputs shape: torch.Size([64, 784]), inputs shape: torch.Size([64, 1, 28, 28])\n",
            "outputs shape: torch.Size([64, 1, 28, 28]), inputs shape: torch.Size([64, 1, 28, 28])\n",
            "outputs shape: torch.Size([64, 784]), inputs shape: torch.Size([64, 1, 28, 28])\n",
            "outputs shape: torch.Size([64, 1, 28, 28]), inputs shape: torch.Size([64, 1, 28, 28])\n",
            "outputs shape: torch.Size([64, 784]), inputs shape: torch.Size([64, 1, 28, 28])\n",
            "outputs shape: torch.Size([64, 1, 28, 28]), inputs shape: torch.Size([64, 1, 28, 28])\n",
            "outputs shape: torch.Size([64, 784]), inputs shape: torch.Size([64, 1, 28, 28])\n",
            "outputs shape: torch.Size([64, 1, 28, 28]), inputs shape: torch.Size([64, 1, 28, 28])\n",
            "outputs shape: torch.Size([64, 784]), inputs shape: torch.Size([64, 1, 28, 28])\n",
            "outputs shape: torch.Size([64, 1, 28, 28]), inputs shape: torch.Size([64, 1, 28, 28])\n"
          ]
        },
        {
          "output_type": "stream",
          "name": "stderr",
          "text": [
            "\rEpoch 2:  25%|██▌       | 235/938 [00:05<00:14, 49.23it/s]"
          ]
        },
        {
          "output_type": "stream",
          "name": "stdout",
          "text": [
            "outputs shape: torch.Size([64, 784]), inputs shape: torch.Size([64, 1, 28, 28])\n",
            "outputs shape: torch.Size([64, 1, 28, 28]), inputs shape: torch.Size([64, 1, 28, 28])\n",
            "outputs shape: torch.Size([64, 784]), inputs shape: torch.Size([64, 1, 28, 28])\n",
            "outputs shape: torch.Size([64, 1, 28, 28]), inputs shape: torch.Size([64, 1, 28, 28])\n",
            "outputs shape: torch.Size([64, 784]), inputs shape: torch.Size([64, 1, 28, 28])\n",
            "outputs shape: torch.Size([64, 1, 28, 28]), inputs shape: torch.Size([64, 1, 28, 28])\n",
            "outputs shape: torch.Size([64, 784]), inputs shape: torch.Size([64, 1, 28, 28])\n",
            "outputs shape: torch.Size([64, 1, 28, 28]), inputs shape: torch.Size([64, 1, 28, 28])\n",
            "outputs shape: torch.Size([64, 784]), inputs shape: torch.Size([64, 1, 28, 28])\n",
            "outputs shape: torch.Size([64, 1, 28, 28]), inputs shape: torch.Size([64, 1, 28, 28])\n",
            "outputs shape: torch.Size([64, 784]), inputs shape: torch.Size([64, 1, 28, 28])\n",
            "outputs shape: torch.Size([64, 1, 28, 28]), inputs shape: torch.Size([64, 1, 28, 28])\n",
            "outputs shape: torch.Size([64, 784]), inputs shape: torch.Size([64, 1, 28, 28])\n",
            "outputs shape: torch.Size([64, 1, 28, 28]), inputs shape: torch.Size([64, 1, 28, 28])\n",
            "outputs shape: torch.Size([64, 784]), inputs shape: torch.Size([64, 1, 28, 28])\n",
            "outputs shape: torch.Size([64, 1, 28, 28]), inputs shape: torch.Size([64, 1, 28, 28])\n",
            "outputs shape: torch.Size([64, 784]), inputs shape: torch.Size([64, 1, 28, 28])\n",
            "outputs shape: torch.Size([64, 1, 28, 28]), inputs shape: torch.Size([64, 1, 28, 28])\n",
            "outputs shape: torch.Size([64, 784]), inputs shape: torch.Size([64, 1, 28, 28])\n",
            "outputs shape: torch.Size([64, 1, 28, 28]), inputs shape: torch.Size([64, 1, 28, 28])\n",
            "outputs shape: torch.Size([64, 784]), inputs shape: torch.Size([64, 1, 28, 28])\n",
            "outputs shape: torch.Size([64, 1, 28, 28]), inputs shape: torch.Size([64, 1, 28, 28])\n"
          ]
        },
        {
          "output_type": "stream",
          "name": "stderr",
          "text": [
            "\rEpoch 2:  26%|██▌       | 242/938 [00:05<00:13, 52.74it/s]"
          ]
        },
        {
          "output_type": "stream",
          "name": "stdout",
          "text": [
            "outputs shape: torch.Size([64, 784]), inputs shape: torch.Size([64, 1, 28, 28])\n",
            "outputs shape: torch.Size([64, 1, 28, 28]), inputs shape: torch.Size([64, 1, 28, 28])\n"
          ]
        },
        {
          "output_type": "stream",
          "name": "stderr",
          "text": [
            "\rEpoch 2:  26%|██▋       | 248/938 [00:05<00:13, 52.87it/s]"
          ]
        },
        {
          "output_type": "stream",
          "name": "stdout",
          "text": [
            "outputs shape: torch.Size([64, 784]), inputs shape: torch.Size([64, 1, 28, 28])\n",
            "outputs shape: torch.Size([64, 1, 28, 28]), inputs shape: torch.Size([64, 1, 28, 28])\n",
            "outputs shape: torch.Size([64, 784]), inputs shape: torch.Size([64, 1, 28, 28])\n",
            "outputs shape: torch.Size([64, 1, 28, 28]), inputs shape: torch.Size([64, 1, 28, 28])\n",
            "outputs shape: torch.Size([64, 784]), inputs shape: torch.Size([64, 1, 28, 28])\n",
            "outputs shape: torch.Size([64, 1, 28, 28]), inputs shape: torch.Size([64, 1, 28, 28])\n",
            "outputs shape: torch.Size([64, 784]), inputs shape: torch.Size([64, 1, 28, 28])\n",
            "outputs shape: torch.Size([64, 1, 28, 28]), inputs shape: torch.Size([64, 1, 28, 28])\n",
            "outputs shape: torch.Size([64, 784]), inputs shape: torch.Size([64, 1, 28, 28])\n",
            "outputs shape: torch.Size([64, 1, 28, 28]), inputs shape: torch.Size([64, 1, 28, 28])\n",
            "outputs shape: torch.Size([64, 784]), inputs shape: torch.Size([64, 1, 28, 28])\n",
            "outputs shape: torch.Size([64, 1, 28, 28]), inputs shape: torch.Size([64, 1, 28, 28])\n",
            "outputs shape: torch.Size([64, 784]), inputs shape: torch.Size([64, 1, 28, 28])\n",
            "outputs shape: torch.Size([64, 1, 28, 28]), inputs shape: torch.Size([64, 1, 28, 28])\n",
            "outputs shape: torch.Size([64, 784]), inputs shape: torch.Size([64, 1, 28, 28])\n",
            "outputs shape: torch.Size([64, 1, 28, 28]), inputs shape: torch.Size([64, 1, 28, 28])\n",
            "outputs shape: torch.Size([64, 784]), inputs shape: torch.Size([64, 1, 28, 28])\n",
            "outputs shape: torch.Size([64, 1, 28, 28]), inputs shape: torch.Size([64, 1, 28, 28])\n",
            "outputs shape: torch.Size([64, 784]), inputs shape: torch.Size([64, 1, 28, 28])\n",
            "outputs shape: torch.Size([64, 1, 28, 28]), inputs shape: torch.Size([64, 1, 28, 28])\n"
          ]
        },
        {
          "output_type": "stream",
          "name": "stderr",
          "text": [
            "\rEpoch 2:  27%|██▋       | 254/938 [00:05<00:13, 52.11it/s]"
          ]
        },
        {
          "output_type": "stream",
          "name": "stdout",
          "text": [
            "outputs shape: torch.Size([64, 784]), inputs shape: torch.Size([64, 1, 28, 28])\n",
            "outputs shape: torch.Size([64, 1, 28, 28]), inputs shape: torch.Size([64, 1, 28, 28])\n"
          ]
        },
        {
          "output_type": "stream",
          "name": "stderr",
          "text": [
            "\rEpoch 2:  28%|██▊       | 260/938 [00:05<00:12, 53.73it/s]"
          ]
        },
        {
          "output_type": "stream",
          "name": "stdout",
          "text": [
            "outputs shape: torch.Size([64, 784]), inputs shape: torch.Size([64, 1, 28, 28])\n",
            "outputs shape: torch.Size([64, 1, 28, 28]), inputs shape: torch.Size([64, 1, 28, 28])\n",
            "outputs shape: torch.Size([64, 784]), inputs shape: torch.Size([64, 1, 28, 28])\n",
            "outputs shape: torch.Size([64, 1, 28, 28]), inputs shape: torch.Size([64, 1, 28, 28])\n",
            "outputs shape: torch.Size([64, 784]), inputs shape: torch.Size([64, 1, 28, 28])\n",
            "outputs shape: torch.Size([64, 1, 28, 28]), inputs shape: torch.Size([64, 1, 28, 28])\n",
            "outputs shape: torch.Size([64, 784]), inputs shape: torch.Size([64, 1, 28, 28])\n",
            "outputs shape: torch.Size([64, 1, 28, 28]), inputs shape: torch.Size([64, 1, 28, 28])\n",
            "outputs shape: torch.Size([64, 784]), inputs shape: torch.Size([64, 1, 28, 28])\n",
            "outputs shape: torch.Size([64, 1, 28, 28]), inputs shape: torch.Size([64, 1, 28, 28])\n",
            "outputs shape: torch.Size([64, 784]), inputs shape: torch.Size([64, 1, 28, 28])\n",
            "outputs shape: torch.Size([64, 1, 28, 28]), inputs shape: torch.Size([64, 1, 28, 28])\n",
            "outputs shape: torch.Size([64, 784]), inputs shape: torch.Size([64, 1, 28, 28])\n",
            "outputs shape: torch.Size([64, 1, 28, 28]), inputs shape: torch.Size([64, 1, 28, 28])\n",
            "outputs shape: torch.Size([64, 784]), inputs shape: torch.Size([64, 1, 28, 28])\n",
            "outputs shape: torch.Size([64, 1, 28, 28]), inputs shape: torch.Size([64, 1, 28, 28])\n",
            "outputs shape: torch.Size([64, 784]), inputs shape: torch.Size([64, 1, 28, 28])\n",
            "outputs shape: torch.Size([64, 1, 28, 28]), inputs shape: torch.Size([64, 1, 28, 28])\n",
            "outputs shape: torch.Size([64, 784]), inputs shape: torch.Size([64, 1, 28, 28])\n",
            "outputs shape: torch.Size([64, 1, 28, 28]), inputs shape: torch.Size([64, 1, 28, 28])\n",
            "outputs shape: torch.Size([64, 784]), inputs shape: torch.Size([64, 1, 28, 28])\n",
            "outputs shape: torch.Size([64, 1, 28, 28]), inputs shape: torch.Size([64, 1, 28, 28])\n"
          ]
        },
        {
          "output_type": "stream",
          "name": "stderr",
          "text": [
            "\rEpoch 2:  28%|██▊       | 266/938 [00:05<00:12, 53.96it/s]"
          ]
        },
        {
          "output_type": "stream",
          "name": "stdout",
          "text": [
            "outputs shape: torch.Size([64, 784]), inputs shape: torch.Size([64, 1, 28, 28])\n",
            "outputs shape: torch.Size([64, 1, 28, 28]), inputs shape: torch.Size([64, 1, 28, 28])\n"
          ]
        },
        {
          "output_type": "stream",
          "name": "stderr",
          "text": [
            "\rEpoch 2:  29%|██▉       | 273/938 [00:05<00:11, 56.82it/s]"
          ]
        },
        {
          "output_type": "stream",
          "name": "stdout",
          "text": [
            "outputs shape: torch.Size([64, 784]), inputs shape: torch.Size([64, 1, 28, 28])\n",
            "outputs shape: torch.Size([64, 1, 28, 28]), inputs shape: torch.Size([64, 1, 28, 28])\n",
            "outputs shape: torch.Size([64, 784]), inputs shape: torch.Size([64, 1, 28, 28])\n",
            "outputs shape: torch.Size([64, 1, 28, 28]), inputs shape: torch.Size([64, 1, 28, 28])\n",
            "outputs shape: torch.Size([64, 784]), inputs shape: torch.Size([64, 1, 28, 28])\n",
            "outputs shape: torch.Size([64, 1, 28, 28]), inputs shape: torch.Size([64, 1, 28, 28])\n",
            "outputs shape: torch.Size([64, 784]), inputs shape: torch.Size([64, 1, 28, 28])\n",
            "outputs shape: torch.Size([64, 1, 28, 28]), inputs shape: torch.Size([64, 1, 28, 28])\n",
            "outputs shape: torch.Size([64, 784]), inputs shape: torch.Size([64, 1, 28, 28])\n",
            "outputs shape: torch.Size([64, 1, 28, 28]), inputs shape: torch.Size([64, 1, 28, 28])\n",
            "outputs shape: torch.Size([64, 784]), inputs shape: torch.Size([64, 1, 28, 28])\n",
            "outputs shape: torch.Size([64, 1, 28, 28]), inputs shape: torch.Size([64, 1, 28, 28])\n",
            "outputs shape: torch.Size([64, 784]), inputs shape: torch.Size([64, 1, 28, 28])\n",
            "outputs shape: torch.Size([64, 1, 28, 28]), inputs shape: torch.Size([64, 1, 28, 28])\n",
            "outputs shape: torch.Size([64, 784]), inputs shape: torch.Size([64, 1, 28, 28])\n",
            "outputs shape: torch.Size([64, 1, 28, 28]), inputs shape: torch.Size([64, 1, 28, 28])\n",
            "outputs shape: torch.Size([64, 784]), inputs shape: torch.Size([64, 1, 28, 28])\n",
            "outputs shape: torch.Size([64, 1, 28, 28]), inputs shape: torch.Size([64, 1, 28, 28])\n",
            "outputs shape: torch.Size([64, 784]), inputs shape: torch.Size([64, 1, 28, 28])\n",
            "outputs shape: torch.Size([64, 1, 28, 28]), inputs shape: torch.Size([64, 1, 28, 28])\n",
            "outputs shape: torch.Size([64, 784]), inputs shape: torch.Size([64, 1, 28, 28])\n",
            "outputs shape: torch.Size([64, 1, 28, 28]), inputs shape: torch.Size([64, 1, 28, 28])\n",
            "outputs shape: torch.Size([64, 784]), inputs shape: torch.Size([64, 1, 28, 28])\n",
            "outputs shape: torch.Size([64, 1, 28, 28]), inputs shape: torch.Size([64, 1, 28, 28])\n"
          ]
        },
        {
          "output_type": "stream",
          "name": "stderr",
          "text": [
            "\rEpoch 2:  30%|██▉       | 279/938 [00:06<00:11, 57.34it/s]"
          ]
        },
        {
          "output_type": "stream",
          "name": "stdout",
          "text": [
            "outputs shape: torch.Size([64, 784]), inputs shape: torch.Size([64, 1, 28, 28])\n",
            "outputs shape: torch.Size([64, 1, 28, 28]), inputs shape: torch.Size([64, 1, 28, 28])\n"
          ]
        },
        {
          "output_type": "stream",
          "name": "stderr",
          "text": [
            "\rEpoch 2:  30%|███       | 286/938 [00:06<00:10, 59.63it/s]"
          ]
        },
        {
          "output_type": "stream",
          "name": "stdout",
          "text": [
            "outputs shape: torch.Size([64, 784]), inputs shape: torch.Size([64, 1, 28, 28])\n",
            "outputs shape: torch.Size([64, 1, 28, 28]), inputs shape: torch.Size([64, 1, 28, 28])\n",
            "outputs shape: torch.Size([64, 784]), inputs shape: torch.Size([64, 1, 28, 28])\n",
            "outputs shape: torch.Size([64, 1, 28, 28]), inputs shape: torch.Size([64, 1, 28, 28])\n",
            "outputs shape: torch.Size([64, 784]), inputs shape: torch.Size([64, 1, 28, 28])\n",
            "outputs shape: torch.Size([64, 1, 28, 28]), inputs shape: torch.Size([64, 1, 28, 28])\n",
            "outputs shape: torch.Size([64, 784]), inputs shape: torch.Size([64, 1, 28, 28])\n",
            "outputs shape: torch.Size([64, 1, 28, 28]), inputs shape: torch.Size([64, 1, 28, 28])\n",
            "outputs shape: torch.Size([64, 784]), inputs shape: torch.Size([64, 1, 28, 28])\n",
            "outputs shape: torch.Size([64, 1, 28, 28]), inputs shape: torch.Size([64, 1, 28, 28])\n",
            "outputs shape: torch.Size([64, 784]), inputs shape: torch.Size([64, 1, 28, 28])\n",
            "outputs shape: torch.Size([64, 1, 28, 28]), inputs shape: torch.Size([64, 1, 28, 28])\n",
            "outputs shape: torch.Size([64, 784]), inputs shape: torch.Size([64, 1, 28, 28])\n",
            "outputs shape: torch.Size([64, 1, 28, 28]), inputs shape: torch.Size([64, 1, 28, 28])\n",
            "outputs shape: torch.Size([64, 784]), inputs shape: torch.Size([64, 1, 28, 28])\n",
            "outputs shape: torch.Size([64, 1, 28, 28]), inputs shape: torch.Size([64, 1, 28, 28])\n",
            "outputs shape: torch.Size([64, 784]), inputs shape: torch.Size([64, 1, 28, 28])\n",
            "outputs shape: torch.Size([64, 1, 28, 28]), inputs shape: torch.Size([64, 1, 28, 28])\n",
            "outputs shape: torch.Size([64, 784]), inputs shape: torch.Size([64, 1, 28, 28])\n",
            "outputs shape: torch.Size([64, 1, 28, 28]), inputs shape: torch.Size([64, 1, 28, 28])\n",
            "outputs shape: torch.Size([64, 784]), inputs shape: torch.Size([64, 1, 28, 28])\n",
            "outputs shape: torch.Size([64, 1, 28, 28]), inputs shape: torch.Size([64, 1, 28, 28])\n",
            "outputs shape: torch.Size([64, 784]), inputs shape: torch.Size([64, 1, 28, 28])\n",
            "outputs shape: torch.Size([64, 1, 28, 28]), inputs shape: torch.Size([64, 1, 28, 28])\n",
            "outputs shape: torch.Size([64, 784]), inputs shape: torch.Size([64, 1, 28, 28])\n",
            "outputs shape: torch.Size([64, 1, 28, 28]), inputs shape: torch.Size([64, 1, 28, 28])\n"
          ]
        },
        {
          "output_type": "stream",
          "name": "stderr",
          "text": [
            "Epoch 2:  32%|███▏      | 300/938 [00:06<00:10, 60.25it/s]"
          ]
        },
        {
          "output_type": "stream",
          "name": "stdout",
          "text": [
            "outputs shape: torch.Size([64, 784]), inputs shape: torch.Size([64, 1, 28, 28])\n",
            "outputs shape: torch.Size([64, 1, 28, 28]), inputs shape: torch.Size([64, 1, 28, 28])\n",
            "outputs shape: torch.Size([64, 784]), inputs shape: torch.Size([64, 1, 28, 28])\n",
            "outputs shape: torch.Size([64, 1, 28, 28]), inputs shape: torch.Size([64, 1, 28, 28])\n",
            "outputs shape: torch.Size([64, 784]), inputs shape: torch.Size([64, 1, 28, 28])\n",
            "outputs shape: torch.Size([64, 1, 28, 28]), inputs shape: torch.Size([64, 1, 28, 28])\n",
            "outputs shape: torch.Size([64, 784]), inputs shape: torch.Size([64, 1, 28, 28])\n",
            "outputs shape: torch.Size([64, 1, 28, 28]), inputs shape: torch.Size([64, 1, 28, 28])\n",
            "outputs shape: torch.Size([64, 784]), inputs shape: torch.Size([64, 1, 28, 28])\n",
            "outputs shape: torch.Size([64, 1, 28, 28]), inputs shape: torch.Size([64, 1, 28, 28])\n",
            "outputs shape: torch.Size([64, 784]), inputs shape: torch.Size([64, 1, 28, 28])\n",
            "outputs shape: torch.Size([64, 1, 28, 28]), inputs shape: torch.Size([64, 1, 28, 28])\n",
            "outputs shape: torch.Size([64, 784]), inputs shape: torch.Size([64, 1, 28, 28])\n",
            "outputs shape: torch.Size([64, 1, 28, 28]), inputs shape: torch.Size([64, 1, 28, 28])\n",
            "outputs shape: torch.Size([64, 784]), inputs shape: torch.Size([64, 1, 28, 28])\n",
            "outputs shape: torch.Size([64, 1, 28, 28]), inputs shape: torch.Size([64, 1, 28, 28])\n",
            "loss: 0.24578960239887238\n",
            "outputs shape: torch.Size([64, 784]), inputs shape: torch.Size([64, 1, 28, 28])\n",
            "outputs shape: torch.Size([64, 1, 28, 28]), inputs shape: torch.Size([64, 1, 28, 28])\n",
            "outputs shape: torch.Size([64, 784]), inputs shape: torch.Size([64, 1, 28, 28])\n",
            "outputs shape: torch.Size([64, 1, 28, 28]), inputs shape: torch.Size([64, 1, 28, 28])\n",
            "outputs shape: torch.Size([64, 784]), inputs shape: torch.Size([64, 1, 28, 28])\n",
            "outputs shape: torch.Size([64, 1, 28, 28]), inputs shape: torch.Size([64, 1, 28, 28])\n",
            "outputs shape: torch.Size([64, 784]), inputs shape: torch.Size([64, 1, 28, 28])\n",
            "outputs shape: torch.Size([64, 1, 28, 28]), inputs shape: torch.Size([64, 1, 28, 28])\n",
            "outputs shape: torch.Size([64, 784]), inputs shape: torch.Size([64, 1, 28, 28])\n",
            "outputs shape: torch.Size([64, 1, 28, 28]), inputs shape: torch.Size([64, 1, 28, 28])\n"
          ]
        },
        {
          "output_type": "stream",
          "name": "stderr",
          "text": [
            "Epoch 2:  33%|███▎      | 313/938 [00:06<00:10, 57.89it/s]"
          ]
        },
        {
          "output_type": "stream",
          "name": "stdout",
          "text": [
            "outputs shape: torch.Size([64, 784]), inputs shape: torch.Size([64, 1, 28, 28])\n",
            "outputs shape: torch.Size([64, 1, 28, 28]), inputs shape: torch.Size([64, 1, 28, 28])\n",
            "outputs shape: torch.Size([64, 784]), inputs shape: torch.Size([64, 1, 28, 28])\n",
            "outputs shape: torch.Size([64, 1, 28, 28]), inputs shape: torch.Size([64, 1, 28, 28])\n",
            "outputs shape: torch.Size([64, 784]), inputs shape: torch.Size([64, 1, 28, 28])\n",
            "outputs shape: torch.Size([64, 1, 28, 28]), inputs shape: torch.Size([64, 1, 28, 28])\n",
            "outputs shape: torch.Size([64, 784]), inputs shape: torch.Size([64, 1, 28, 28])\n",
            "outputs shape: torch.Size([64, 1, 28, 28]), inputs shape: torch.Size([64, 1, 28, 28])\n",
            "outputs shape: torch.Size([64, 784]), inputs shape: torch.Size([64, 1, 28, 28])\n",
            "outputs shape: torch.Size([64, 1, 28, 28]), inputs shape: torch.Size([64, 1, 28, 28])\n",
            "outputs shape: torch.Size([64, 784]), inputs shape: torch.Size([64, 1, 28, 28])\n",
            "outputs shape: torch.Size([64, 1, 28, 28]), inputs shape: torch.Size([64, 1, 28, 28])\n",
            "outputs shape: torch.Size([64, 784]), inputs shape: torch.Size([64, 1, 28, 28])\n",
            "outputs shape: torch.Size([64, 1, 28, 28]), inputs shape: torch.Size([64, 1, 28, 28])\n",
            "outputs shape: torch.Size([64, 784]), inputs shape: torch.Size([64, 1, 28, 28])\n",
            "outputs shape: torch.Size([64, 1, 28, 28]), inputs shape: torch.Size([64, 1, 28, 28])\n",
            "outputs shape: torch.Size([64, 784]), inputs shape: torch.Size([64, 1, 28, 28])\n",
            "outputs shape: torch.Size([64, 1, 28, 28]), inputs shape: torch.Size([64, 1, 28, 28])\n",
            "outputs shape: torch.Size([64, 784]), inputs shape: torch.Size([64, 1, 28, 28])\n",
            "outputs shape: torch.Size([64, 1, 28, 28]), inputs shape: torch.Size([64, 1, 28, 28])\n",
            "outputs shape: torch.Size([64, 784]), inputs shape: torch.Size([64, 1, 28, 28])\n",
            "outputs shape: torch.Size([64, 1, 28, 28]), inputs shape: torch.Size([64, 1, 28, 28])\n",
            "outputs shape: torch.Size([64, 784]), inputs shape: torch.Size([64, 1, 28, 28])\n"
          ]
        },
        {
          "output_type": "stream",
          "name": "stderr",
          "text": [
            "Epoch 2:  35%|███▍      | 326/938 [00:06<00:10, 59.25it/s]"
          ]
        },
        {
          "output_type": "stream",
          "name": "stdout",
          "text": [
            "outputs shape: torch.Size([64, 1, 28, 28]), inputs shape: torch.Size([64, 1, 28, 28])\n",
            "outputs shape: torch.Size([64, 784]), inputs shape: torch.Size([64, 1, 28, 28])\n",
            "outputs shape: torch.Size([64, 1, 28, 28]), inputs shape: torch.Size([64, 1, 28, 28])\n",
            "outputs shape: torch.Size([64, 784]), inputs shape: torch.Size([64, 1, 28, 28])\n",
            "outputs shape: torch.Size([64, 1, 28, 28]), inputs shape: torch.Size([64, 1, 28, 28])\n",
            "outputs shape: torch.Size([64, 784]), inputs shape: torch.Size([64, 1, 28, 28])\n",
            "outputs shape: torch.Size([64, 1, 28, 28]), inputs shape: torch.Size([64, 1, 28, 28])\n",
            "outputs shape: torch.Size([64, 784]), inputs shape: torch.Size([64, 1, 28, 28])\n",
            "outputs shape: torch.Size([64, 1, 28, 28]), inputs shape: torch.Size([64, 1, 28, 28])\n",
            "outputs shape: torch.Size([64, 784]), inputs shape: torch.Size([64, 1, 28, 28])\n",
            "outputs shape: torch.Size([64, 1, 28, 28]), inputs shape: torch.Size([64, 1, 28, 28])\n",
            "outputs shape: torch.Size([64, 784]), inputs shape: torch.Size([64, 1, 28, 28])\n",
            "outputs shape: torch.Size([64, 1, 28, 28]), inputs shape: torch.Size([64, 1, 28, 28])\n",
            "outputs shape: torch.Size([64, 784]), inputs shape: torch.Size([64, 1, 28, 28])\n",
            "outputs shape: torch.Size([64, 1, 28, 28]), inputs shape: torch.Size([64, 1, 28, 28])\n",
            "outputs shape: torch.Size([64, 784]), inputs shape: torch.Size([64, 1, 28, 28])\n",
            "outputs shape: torch.Size([64, 1, 28, 28]), inputs shape: torch.Size([64, 1, 28, 28])\n",
            "outputs shape: torch.Size([64, 784]), inputs shape: torch.Size([64, 1, 28, 28])\n",
            "outputs shape: torch.Size([64, 1, 28, 28]), inputs shape: torch.Size([64, 1, 28, 28])\n",
            "outputs shape: torch.Size([64, 784]), inputs shape: torch.Size([64, 1, 28, 28])\n",
            "outputs shape: torch.Size([64, 1, 28, 28]), inputs shape: torch.Size([64, 1, 28, 28])\n",
            "outputs shape: torch.Size([64, 784]), inputs shape: torch.Size([64, 1, 28, 28])\n",
            "outputs shape: torch.Size([64, 1, 28, 28]), inputs shape: torch.Size([64, 1, 28, 28])\n"
          ]
        },
        {
          "output_type": "stream",
          "name": "stderr",
          "text": [
            "Epoch 2:  36%|███▌      | 338/938 [00:07<00:10, 58.62it/s]"
          ]
        },
        {
          "output_type": "stream",
          "name": "stdout",
          "text": [
            "outputs shape: torch.Size([64, 784]), inputs shape: torch.Size([64, 1, 28, 28])\n",
            "outputs shape: torch.Size([64, 1, 28, 28]), inputs shape: torch.Size([64, 1, 28, 28])\n",
            "outputs shape: torch.Size([64, 784]), inputs shape: torch.Size([64, 1, 28, 28])\n",
            "outputs shape: torch.Size([64, 1, 28, 28]), inputs shape: torch.Size([64, 1, 28, 28])\n",
            "outputs shape: torch.Size([64, 784]), inputs shape: torch.Size([64, 1, 28, 28])\n",
            "outputs shape: torch.Size([64, 1, 28, 28]), inputs shape: torch.Size([64, 1, 28, 28])\n",
            "outputs shape: torch.Size([64, 784]), inputs shape: torch.Size([64, 1, 28, 28])\n",
            "outputs shape: torch.Size([64, 1, 28, 28]), inputs shape: torch.Size([64, 1, 28, 28])\n",
            "outputs shape: torch.Size([64, 784]), inputs shape: torch.Size([64, 1, 28, 28])\n",
            "outputs shape: torch.Size([64, 1, 28, 28]), inputs shape: torch.Size([64, 1, 28, 28])\n",
            "outputs shape: torch.Size([64, 784]), inputs shape: torch.Size([64, 1, 28, 28])\n",
            "outputs shape: torch.Size([64, 1, 28, 28]), inputs shape: torch.Size([64, 1, 28, 28])\n",
            "outputs shape: torch.Size([64, 784]), inputs shape: torch.Size([64, 1, 28, 28])\n",
            "outputs shape: torch.Size([64, 1, 28, 28]), inputs shape: torch.Size([64, 1, 28, 28])\n",
            "outputs shape: torch.Size([64, 784]), inputs shape: torch.Size([64, 1, 28, 28])\n",
            "outputs shape: torch.Size([64, 1, 28, 28]), inputs shape: torch.Size([64, 1, 28, 28])\n",
            "outputs shape: torch.Size([64, 784]), inputs shape: torch.Size([64, 1, 28, 28])\n",
            "outputs shape: torch.Size([64, 1, 28, 28]), inputs shape: torch.Size([64, 1, 28, 28])\n",
            "outputs shape: torch.Size([64, 784]), inputs shape: torch.Size([64, 1, 28, 28])\n",
            "outputs shape: torch.Size([64, 1, 28, 28]), inputs shape: torch.Size([64, 1, 28, 28])\n",
            "outputs shape: torch.Size([64, 784]), inputs shape: torch.Size([64, 1, 28, 28])\n",
            "outputs shape: torch.Size([64, 1, 28, 28]), inputs shape: torch.Size([64, 1, 28, 28])\n",
            "outputs shape: torch.Size([64, 784]), inputs shape: torch.Size([64, 1, 28, 28])\n",
            "outputs shape: torch.Size([64, 1, 28, 28]), inputs shape: torch.Size([64, 1, 28, 28])\n",
            "outputs shape: torch.Size([64, 784]), inputs shape: torch.Size([64, 1, 28, 28])\n",
            "outputs shape: torch.Size([64, 1, 28, 28]), inputs shape: torch.Size([64, 1, 28, 28])\n"
          ]
        },
        {
          "output_type": "stream",
          "name": "stderr",
          "text": [
            "Epoch 2:  38%|███▊      | 352/938 [00:07<00:09, 60.65it/s]"
          ]
        },
        {
          "output_type": "stream",
          "name": "stdout",
          "text": [
            "outputs shape: torch.Size([64, 784]), inputs shape: torch.Size([64, 1, 28, 28])\n",
            "outputs shape: torch.Size([64, 1, 28, 28]), inputs shape: torch.Size([64, 1, 28, 28])\n",
            "outputs shape: torch.Size([64, 784]), inputs shape: torch.Size([64, 1, 28, 28])\n",
            "outputs shape: torch.Size([64, 1, 28, 28]), inputs shape: torch.Size([64, 1, 28, 28])\n",
            "outputs shape: torch.Size([64, 784]), inputs shape: torch.Size([64, 1, 28, 28])\n",
            "outputs shape: torch.Size([64, 1, 28, 28]), inputs shape: torch.Size([64, 1, 28, 28])\n",
            "outputs shape: torch.Size([64, 784]), inputs shape: torch.Size([64, 1, 28, 28])\n",
            "outputs shape: torch.Size([64, 1, 28, 28]), inputs shape: torch.Size([64, 1, 28, 28])\n",
            "outputs shape: torch.Size([64, 784]), inputs shape: torch.Size([64, 1, 28, 28])\n",
            "outputs shape: torch.Size([64, 1, 28, 28]), inputs shape: torch.Size([64, 1, 28, 28])\n",
            "outputs shape: torch.Size([64, 784]), inputs shape: torch.Size([64, 1, 28, 28])\n",
            "outputs shape: torch.Size([64, 1, 28, 28]), inputs shape: torch.Size([64, 1, 28, 28])\n",
            "outputs shape: torch.Size([64, 784]), inputs shape: torch.Size([64, 1, 28, 28])\n",
            "outputs shape: torch.Size([64, 1, 28, 28]), inputs shape: torch.Size([64, 1, 28, 28])\n",
            "outputs shape: torch.Size([64, 784]), inputs shape: torch.Size([64, 1, 28, 28])\n",
            "outputs shape: torch.Size([64, 1, 28, 28]), inputs shape: torch.Size([64, 1, 28, 28])\n",
            "outputs shape: torch.Size([64, 784]), inputs shape: torch.Size([64, 1, 28, 28])\n",
            "outputs shape: torch.Size([64, 1, 28, 28]), inputs shape: torch.Size([64, 1, 28, 28])\n",
            "outputs shape: torch.Size([64, 784]), inputs shape: torch.Size([64, 1, 28, 28])\n",
            "outputs shape: torch.Size([64, 1, 28, 28]), inputs shape: torch.Size([64, 1, 28, 28])\n",
            "outputs shape: torch.Size([64, 784]), inputs shape: torch.Size([64, 1, 28, 28])\n",
            "outputs shape: torch.Size([64, 1, 28, 28]), inputs shape: torch.Size([64, 1, 28, 28])\n",
            "outputs shape: torch.Size([64, 784]), inputs shape: torch.Size([64, 1, 28, 28])\n",
            "outputs shape: torch.Size([64, 1, 28, 28]), inputs shape: torch.Size([64, 1, 28, 28])\n",
            "outputs shape: torch.Size([64, 784]), inputs shape: torch.Size([64, 1, 28, 28])\n",
            "outputs shape: torch.Size([64, 1, 28, 28]), inputs shape: torch.Size([64, 1, 28, 28])\n"
          ]
        },
        {
          "output_type": "stream",
          "name": "stderr",
          "text": [
            "Epoch 2:  39%|███▉      | 366/938 [00:07<00:09, 59.49it/s]"
          ]
        },
        {
          "output_type": "stream",
          "name": "stdout",
          "text": [
            "outputs shape: torch.Size([64, 784]), inputs shape: torch.Size([64, 1, 28, 28])\n",
            "outputs shape: torch.Size([64, 1, 28, 28]), inputs shape: torch.Size([64, 1, 28, 28])\n",
            "outputs shape: torch.Size([64, 784]), inputs shape: torch.Size([64, 1, 28, 28])\n",
            "outputs shape: torch.Size([64, 1, 28, 28]), inputs shape: torch.Size([64, 1, 28, 28])\n",
            "outputs shape: torch.Size([64, 784]), inputs shape: torch.Size([64, 1, 28, 28])\n",
            "outputs shape: torch.Size([64, 1, 28, 28]), inputs shape: torch.Size([64, 1, 28, 28])\n",
            "outputs shape: torch.Size([64, 784]), inputs shape: torch.Size([64, 1, 28, 28])\n",
            "outputs shape: torch.Size([64, 1, 28, 28]), inputs shape: torch.Size([64, 1, 28, 28])\n",
            "outputs shape: torch.Size([64, 784]), inputs shape: torch.Size([64, 1, 28, 28])\n",
            "outputs shape: torch.Size([64, 1, 28, 28]), inputs shape: torch.Size([64, 1, 28, 28])\n",
            "outputs shape: torch.Size([64, 784]), inputs shape: torch.Size([64, 1, 28, 28])\n",
            "outputs shape: torch.Size([64, 1, 28, 28]), inputs shape: torch.Size([64, 1, 28, 28])\n",
            "outputs shape: torch.Size([64, 784]), inputs shape: torch.Size([64, 1, 28, 28])\n",
            "outputs shape: torch.Size([64, 1, 28, 28]), inputs shape: torch.Size([64, 1, 28, 28])\n",
            "outputs shape: torch.Size([64, 784]), inputs shape: torch.Size([64, 1, 28, 28])\n",
            "outputs shape: torch.Size([64, 1, 28, 28]), inputs shape: torch.Size([64, 1, 28, 28])\n",
            "outputs shape: torch.Size([64, 784]), inputs shape: torch.Size([64, 1, 28, 28])\n",
            "outputs shape: torch.Size([64, 1, 28, 28]), inputs shape: torch.Size([64, 1, 28, 28])\n",
            "outputs shape: torch.Size([64, 784]), inputs shape: torch.Size([64, 1, 28, 28])\n",
            "outputs shape: torch.Size([64, 1, 28, 28]), inputs shape: torch.Size([64, 1, 28, 28])\n",
            "outputs shape: torch.Size([64, 784]), inputs shape: torch.Size([64, 1, 28, 28])\n",
            "outputs shape: torch.Size([64, 1, 28, 28]), inputs shape: torch.Size([64, 1, 28, 28])\n",
            "outputs shape: torch.Size([64, 784]), inputs shape: torch.Size([64, 1, 28, 28])\n",
            "outputs shape: torch.Size([64, 1, 28, 28]), inputs shape: torch.Size([64, 1, 28, 28])\n"
          ]
        },
        {
          "output_type": "stream",
          "name": "stderr",
          "text": [
            "\rEpoch 2:  40%|███▉      | 372/938 [00:07<00:09, 58.10it/s]"
          ]
        },
        {
          "output_type": "stream",
          "name": "stdout",
          "text": [
            "outputs shape: torch.Size([64, 784]), inputs shape: torch.Size([64, 1, 28, 28])\n",
            "outputs shape: torch.Size([64, 1, 28, 28]), inputs shape: torch.Size([64, 1, 28, 28])\n",
            "outputs shape: torch.Size([64, 784]), inputs shape: torch.Size([64, 1, 28, 28])\n",
            "outputs shape: torch.Size([64, 1, 28, 28]), inputs shape: torch.Size([64, 1, 28, 28])\n",
            "outputs shape: torch.Size([64, 784]), inputs shape: torch.Size([64, 1, 28, 28])\n",
            "outputs shape: torch.Size([64, 1, 28, 28]), inputs shape: torch.Size([64, 1, 28, 28])\n",
            "outputs shape: torch.Size([64, 784]), inputs shape: torch.Size([64, 1, 28, 28])\n",
            "outputs shape: torch.Size([64, 1, 28, 28]), inputs shape: torch.Size([64, 1, 28, 28])\n",
            "outputs shape: torch.Size([64, 784]), inputs shape: torch.Size([64, 1, 28, 28])\n",
            "outputs shape: torch.Size([64, 1, 28, 28]), inputs shape: torch.Size([64, 1, 28, 28])\n",
            "outputs shape: torch.Size([64, 784]), inputs shape: torch.Size([64, 1, 28, 28])\n",
            "outputs shape: torch.Size([64, 1, 28, 28]), inputs shape: torch.Size([64, 1, 28, 28])\n",
            "outputs shape: torch.Size([64, 784]), inputs shape: torch.Size([64, 1, 28, 28])\n",
            "outputs shape: torch.Size([64, 1, 28, 28]), inputs shape: torch.Size([64, 1, 28, 28])\n",
            "outputs shape: torch.Size([64, 784]), inputs shape: torch.Size([64, 1, 28, 28])\n",
            "outputs shape: torch.Size([64, 1, 28, 28]), inputs shape: torch.Size([64, 1, 28, 28])\n",
            "outputs shape: torch.Size([64, 784]), inputs shape: torch.Size([64, 1, 28, 28])\n",
            "outputs shape: torch.Size([64, 1, 28, 28]), inputs shape: torch.Size([64, 1, 28, 28])\n",
            "outputs shape: torch.Size([64, 784]), inputs shape: torch.Size([64, 1, 28, 28])\n",
            "outputs shape: torch.Size([64, 1, 28, 28]), inputs shape: torch.Size([64, 1, 28, 28])\n",
            "outputs shape: torch.Size([64, 784]), inputs shape: torch.Size([64, 1, 28, 28])\n",
            "outputs shape: torch.Size([64, 1, 28, 28]), inputs shape: torch.Size([64, 1, 28, 28])\n",
            "outputs shape: torch.Size([64, 784]), inputs shape: torch.Size([64, 1, 28, 28])\n",
            "outputs shape: torch.Size([64, 1, 28, 28]), inputs shape: torch.Size([64, 1, 28, 28])\n"
          ]
        },
        {
          "output_type": "stream",
          "name": "stderr",
          "text": [
            "Epoch 2:  41%|████      | 386/938 [00:07<00:09, 58.64it/s]"
          ]
        },
        {
          "output_type": "stream",
          "name": "stdout",
          "text": [
            "outputs shape: torch.Size([64, 784]), inputs shape: torch.Size([64, 1, 28, 28])\n",
            "outputs shape: torch.Size([64, 1, 28, 28]), inputs shape: torch.Size([64, 1, 28, 28])\n",
            "outputs shape: torch.Size([64, 784]), inputs shape: torch.Size([64, 1, 28, 28])\n",
            "outputs shape: torch.Size([64, 1, 28, 28]), inputs shape: torch.Size([64, 1, 28, 28])\n",
            "outputs shape: torch.Size([64, 784]), inputs shape: torch.Size([64, 1, 28, 28])\n",
            "outputs shape: torch.Size([64, 1, 28, 28]), inputs shape: torch.Size([64, 1, 28, 28])\n",
            "outputs shape: torch.Size([64, 784]), inputs shape: torch.Size([64, 1, 28, 28])\n",
            "outputs shape: torch.Size([64, 1, 28, 28]), inputs shape: torch.Size([64, 1, 28, 28])\n",
            "outputs shape: torch.Size([64, 784]), inputs shape: torch.Size([64, 1, 28, 28])\n",
            "outputs shape: torch.Size([64, 1, 28, 28]), inputs shape: torch.Size([64, 1, 28, 28])\n",
            "outputs shape: torch.Size([64, 784]), inputs shape: torch.Size([64, 1, 28, 28])\n",
            "outputs shape: torch.Size([64, 1, 28, 28]), inputs shape: torch.Size([64, 1, 28, 28])\n",
            "outputs shape: torch.Size([64, 784]), inputs shape: torch.Size([64, 1, 28, 28])\n",
            "outputs shape: torch.Size([64, 1, 28, 28]), inputs shape: torch.Size([64, 1, 28, 28])\n",
            "outputs shape: torch.Size([64, 784]), inputs shape: torch.Size([64, 1, 28, 28])\n",
            "outputs shape: torch.Size([64, 1, 28, 28]), inputs shape: torch.Size([64, 1, 28, 28])\n",
            "outputs shape: torch.Size([64, 784]), inputs shape: torch.Size([64, 1, 28, 28])\n",
            "outputs shape: torch.Size([64, 1, 28, 28]), inputs shape: torch.Size([64, 1, 28, 28])\n",
            "outputs shape: torch.Size([64, 784]), inputs shape: torch.Size([64, 1, 28, 28])\n",
            "outputs shape: torch.Size([64, 1, 28, 28]), inputs shape: torch.Size([64, 1, 28, 28])\n",
            "outputs shape: torch.Size([64, 784]), inputs shape: torch.Size([64, 1, 28, 28])\n",
            "outputs shape: torch.Size([64, 1, 28, 28]), inputs shape: torch.Size([64, 1, 28, 28])\n",
            "outputs shape: torch.Size([64, 784]), inputs shape: torch.Size([64, 1, 28, 28])\n",
            "outputs shape: torch.Size([64, 1, 28, 28]), inputs shape: torch.Size([64, 1, 28, 28])\n"
          ]
        },
        {
          "output_type": "stream",
          "name": "stderr",
          "text": [
            "Epoch 2:  43%|████▎     | 399/938 [00:08<00:09, 59.86it/s]"
          ]
        },
        {
          "output_type": "stream",
          "name": "stdout",
          "text": [
            "outputs shape: torch.Size([64, 784]), inputs shape: torch.Size([64, 1, 28, 28])\n",
            "outputs shape: torch.Size([64, 1, 28, 28]), inputs shape: torch.Size([64, 1, 28, 28])\n",
            "outputs shape: torch.Size([64, 784]), inputs shape: torch.Size([64, 1, 28, 28])\n",
            "outputs shape: torch.Size([64, 1, 28, 28]), inputs shape: torch.Size([64, 1, 28, 28])\n",
            "outputs shape: torch.Size([64, 784]), inputs shape: torch.Size([64, 1, 28, 28])\n",
            "outputs shape: torch.Size([64, 1, 28, 28]), inputs shape: torch.Size([64, 1, 28, 28])\n",
            "outputs shape: torch.Size([64, 784]), inputs shape: torch.Size([64, 1, 28, 28])\n",
            "outputs shape: torch.Size([64, 1, 28, 28]), inputs shape: torch.Size([64, 1, 28, 28])\n",
            "outputs shape: torch.Size([64, 784]), inputs shape: torch.Size([64, 1, 28, 28])\n",
            "outputs shape: torch.Size([64, 1, 28, 28]), inputs shape: torch.Size([64, 1, 28, 28])\n",
            "outputs shape: torch.Size([64, 784]), inputs shape: torch.Size([64, 1, 28, 28])\n",
            "outputs shape: torch.Size([64, 1, 28, 28]), inputs shape: torch.Size([64, 1, 28, 28])\n",
            "outputs shape: torch.Size([64, 784]), inputs shape: torch.Size([64, 1, 28, 28])\n",
            "outputs shape: torch.Size([64, 1, 28, 28]), inputs shape: torch.Size([64, 1, 28, 28])\n",
            "outputs shape: torch.Size([64, 784]), inputs shape: torch.Size([64, 1, 28, 28])\n",
            "outputs shape: torch.Size([64, 1, 28, 28]), inputs shape: torch.Size([64, 1, 28, 28])\n",
            "outputs shape: torch.Size([64, 784]), inputs shape: torch.Size([64, 1, 28, 28])\n",
            "outputs shape: torch.Size([64, 1, 28, 28]), inputs shape: torch.Size([64, 1, 28, 28])\n",
            "outputs shape: torch.Size([64, 784]), inputs shape: torch.Size([64, 1, 28, 28])\n",
            "outputs shape: torch.Size([64, 1, 28, 28]), inputs shape: torch.Size([64, 1, 28, 28])\n",
            "loss: 0.23837780952453613\n",
            "outputs shape: torch.Size([64, 784]), inputs shape: torch.Size([64, 1, 28, 28])\n",
            "outputs shape: torch.Size([64, 1, 28, 28]), inputs shape: torch.Size([64, 1, 28, 28])\n",
            "outputs shape: torch.Size([64, 784]), inputs shape: torch.Size([64, 1, 28, 28])\n",
            "outputs shape: torch.Size([64, 1, 28, 28]), inputs shape: torch.Size([64, 1, 28, 28])\n",
            "outputs shape: torch.Size([64, 784]), inputs shape: torch.Size([64, 1, 28, 28])\n",
            "outputs shape: torch.Size([64, 1, 28, 28]), inputs shape: torch.Size([64, 1, 28, 28])\n"
          ]
        },
        {
          "output_type": "stream",
          "name": "stderr",
          "text": [
            "Epoch 2:  44%|████▍     | 413/938 [00:08<00:08, 62.19it/s]"
          ]
        },
        {
          "output_type": "stream",
          "name": "stdout",
          "text": [
            "outputs shape: torch.Size([64, 784]), inputs shape: torch.Size([64, 1, 28, 28])\n",
            "outputs shape: torch.Size([64, 1, 28, 28]), inputs shape: torch.Size([64, 1, 28, 28])\n",
            "outputs shape: torch.Size([64, 784]), inputs shape: torch.Size([64, 1, 28, 28])\n",
            "outputs shape: torch.Size([64, 1, 28, 28]), inputs shape: torch.Size([64, 1, 28, 28])\n",
            "outputs shape: torch.Size([64, 784]), inputs shape: torch.Size([64, 1, 28, 28])\n",
            "outputs shape: torch.Size([64, 1, 28, 28]), inputs shape: torch.Size([64, 1, 28, 28])\n",
            "outputs shape: torch.Size([64, 784]), inputs shape: torch.Size([64, 1, 28, 28])\n",
            "outputs shape: torch.Size([64, 1, 28, 28]), inputs shape: torch.Size([64, 1, 28, 28])\n",
            "outputs shape: torch.Size([64, 784]), inputs shape: torch.Size([64, 1, 28, 28])\n",
            "outputs shape: torch.Size([64, 1, 28, 28]), inputs shape: torch.Size([64, 1, 28, 28])\n",
            "outputs shape: torch.Size([64, 784]), inputs shape: torch.Size([64, 1, 28, 28])\n",
            "outputs shape: torch.Size([64, 1, 28, 28]), inputs shape: torch.Size([64, 1, 28, 28])\n",
            "outputs shape: torch.Size([64, 784]), inputs shape: torch.Size([64, 1, 28, 28])\n",
            "outputs shape: torch.Size([64, 1, 28, 28]), inputs shape: torch.Size([64, 1, 28, 28])\n",
            "outputs shape: torch.Size([64, 784]), inputs shape: torch.Size([64, 1, 28, 28])\n",
            "outputs shape: torch.Size([64, 1, 28, 28]), inputs shape: torch.Size([64, 1, 28, 28])\n",
            "outputs shape: torch.Size([64, 784]), inputs shape: torch.Size([64, 1, 28, 28])\n",
            "outputs shape: torch.Size([64, 1, 28, 28]), inputs shape: torch.Size([64, 1, 28, 28])\n",
            "outputs shape: torch.Size([64, 784]), inputs shape: torch.Size([64, 1, 28, 28])\n",
            "outputs shape: torch.Size([64, 1, 28, 28]), inputs shape: torch.Size([64, 1, 28, 28])\n",
            "outputs shape: torch.Size([64, 784]), inputs shape: torch.Size([64, 1, 28, 28])\n",
            "outputs shape: torch.Size([64, 1, 28, 28]), inputs shape: torch.Size([64, 1, 28, 28])\n",
            "outputs shape: torch.Size([64, 784]), inputs shape: torch.Size([64, 1, 28, 28])\n",
            "outputs shape: torch.Size([64, 1, 28, 28]), inputs shape: torch.Size([64, 1, 28, 28])\n",
            "outputs shape: torch.Size([64, 784]), inputs shape: torch.Size([64, 1, 28, 28])\n",
            "outputs shape: torch.Size([64, 1, 28, 28]), inputs shape: torch.Size([64, 1, 28, 28])\n"
          ]
        },
        {
          "output_type": "stream",
          "name": "stderr",
          "text": [
            "Epoch 2:  46%|████▌     | 427/938 [00:08<00:08, 57.93it/s]"
          ]
        },
        {
          "output_type": "stream",
          "name": "stdout",
          "text": [
            "outputs shape: torch.Size([64, 784]), inputs shape: torch.Size([64, 1, 28, 28])\n",
            "outputs shape: torch.Size([64, 1, 28, 28]), inputs shape: torch.Size([64, 1, 28, 28])\n",
            "outputs shape: torch.Size([64, 784]), inputs shape: torch.Size([64, 1, 28, 28])\n",
            "outputs shape: torch.Size([64, 1, 28, 28]), inputs shape: torch.Size([64, 1, 28, 28])\n",
            "outputs shape: torch.Size([64, 784]), inputs shape: torch.Size([64, 1, 28, 28])\n",
            "outputs shape: torch.Size([64, 1, 28, 28]), inputs shape: torch.Size([64, 1, 28, 28])\n",
            "outputs shape: torch.Size([64, 784]), inputs shape: torch.Size([64, 1, 28, 28])\n",
            "outputs shape: torch.Size([64, 1, 28, 28]), inputs shape: torch.Size([64, 1, 28, 28])\n",
            "outputs shape: torch.Size([64, 784]), inputs shape: torch.Size([64, 1, 28, 28])\n",
            "outputs shape: torch.Size([64, 1, 28, 28]), inputs shape: torch.Size([64, 1, 28, 28])\n",
            "outputs shape: torch.Size([64, 784]), inputs shape: torch.Size([64, 1, 28, 28])\n",
            "outputs shape: torch.Size([64, 1, 28, 28]), inputs shape: torch.Size([64, 1, 28, 28])\n",
            "outputs shape: torch.Size([64, 784]), inputs shape: torch.Size([64, 1, 28, 28])\n",
            "outputs shape: torch.Size([64, 1, 28, 28]), inputs shape: torch.Size([64, 1, 28, 28])\n",
            "outputs shape: torch.Size([64, 784]), inputs shape: torch.Size([64, 1, 28, 28])\n",
            "outputs shape: torch.Size([64, 1, 28, 28]), inputs shape: torch.Size([64, 1, 28, 28])\n",
            "outputs shape: torch.Size([64, 784]), inputs shape: torch.Size([64, 1, 28, 28])\n",
            "outputs shape: torch.Size([64, 1, 28, 28]), inputs shape: torch.Size([64, 1, 28, 28])\n",
            "outputs shape: torch.Size([64, 784]), inputs shape: torch.Size([64, 1, 28, 28])\n",
            "outputs shape: torch.Size([64, 1, 28, 28]), inputs shape: torch.Size([64, 1, 28, 28])\n",
            "outputs shape: torch.Size([64, 784]), inputs shape: torch.Size([64, 1, 28, 28])\n",
            "outputs shape: torch.Size([64, 1, 28, 28]), inputs shape: torch.Size([64, 1, 28, 28])\n"
          ]
        },
        {
          "output_type": "stream",
          "name": "stderr",
          "text": [
            "\rEpoch 2:  46%|████▋     | 434/938 [00:08<00:08, 59.38it/s]"
          ]
        },
        {
          "output_type": "stream",
          "name": "stdout",
          "text": [
            "outputs shape: torch.Size([64, 784]), inputs shape: torch.Size([64, 1, 28, 28])\n",
            "outputs shape: torch.Size([64, 1, 28, 28]), inputs shape: torch.Size([64, 1, 28, 28])\n",
            "outputs shape: torch.Size([64, 784]), inputs shape: torch.Size([64, 1, 28, 28])\n",
            "outputs shape: torch.Size([64, 1, 28, 28]), inputs shape: torch.Size([64, 1, 28, 28])\n",
            "outputs shape: torch.Size([64, 784]), inputs shape: torch.Size([64, 1, 28, 28])\n",
            "outputs shape: torch.Size([64, 1, 28, 28]), inputs shape: torch.Size([64, 1, 28, 28])\n",
            "outputs shape: torch.Size([64, 784]), inputs shape: torch.Size([64, 1, 28, 28])\n",
            "outputs shape: torch.Size([64, 1, 28, 28]), inputs shape: torch.Size([64, 1, 28, 28])\n",
            "outputs shape: torch.Size([64, 784]), inputs shape: torch.Size([64, 1, 28, 28])\n",
            "outputs shape: torch.Size([64, 1, 28, 28]), inputs shape: torch.Size([64, 1, 28, 28])\n",
            "outputs shape: torch.Size([64, 784]), inputs shape: torch.Size([64, 1, 28, 28])\n",
            "outputs shape: torch.Size([64, 1, 28, 28]), inputs shape: torch.Size([64, 1, 28, 28])\n",
            "outputs shape: torch.Size([64, 784]), inputs shape: torch.Size([64, 1, 28, 28])\n",
            "outputs shape: torch.Size([64, 1, 28, 28]), inputs shape: torch.Size([64, 1, 28, 28])\n",
            "outputs shape: torch.Size([64, 784]), inputs shape: torch.Size([64, 1, 28, 28])\n",
            "outputs shape: torch.Size([64, 1, 28, 28]), inputs shape: torch.Size([64, 1, 28, 28])\n",
            "outputs shape: torch.Size([64, 784]), inputs shape: torch.Size([64, 1, 28, 28])\n",
            "outputs shape: torch.Size([64, 1, 28, 28]), inputs shape: torch.Size([64, 1, 28, 28])\n",
            "outputs shape: torch.Size([64, 784]), inputs shape: torch.Size([64, 1, 28, 28])\n",
            "outputs shape: torch.Size([64, 1, 28, 28]), inputs shape: torch.Size([64, 1, 28, 28])\n",
            "outputs shape: torch.Size([64, 784]), inputs shape: torch.Size([64, 1, 28, 28])\n",
            "outputs shape: torch.Size([64, 1, 28, 28]), inputs shape: torch.Size([64, 1, 28, 28])\n",
            "outputs shape: torch.Size([64, 784]), inputs shape: torch.Size([64, 1, 28, 28])\n",
            "outputs shape: torch.Size([64, 1, 28, 28]), inputs shape: torch.Size([64, 1, 28, 28])\n",
            "outputs shape: torch.Size([64, 784]), inputs shape: torch.Size([64, 1, 28, 28])\n",
            "outputs shape: torch.Size([64, 1, 28, 28]), inputs shape: torch.Size([64, 1, 28, 28])\n"
          ]
        },
        {
          "output_type": "stream",
          "name": "stderr",
          "text": [
            "Epoch 2:  48%|████▊     | 448/938 [00:08<00:08, 60.08it/s]"
          ]
        },
        {
          "output_type": "stream",
          "name": "stdout",
          "text": [
            "outputs shape: torch.Size([64, 784]), inputs shape: torch.Size([64, 1, 28, 28])\n",
            "outputs shape: torch.Size([64, 1, 28, 28]), inputs shape: torch.Size([64, 1, 28, 28])\n",
            "outputs shape: torch.Size([64, 784]), inputs shape: torch.Size([64, 1, 28, 28])\n",
            "outputs shape: torch.Size([64, 1, 28, 28]), inputs shape: torch.Size([64, 1, 28, 28])\n",
            "outputs shape: torch.Size([64, 784]), inputs shape: torch.Size([64, 1, 28, 28])\n",
            "outputs shape: torch.Size([64, 1, 28, 28]), inputs shape: torch.Size([64, 1, 28, 28])\n",
            "outputs shape: torch.Size([64, 784]), inputs shape: torch.Size([64, 1, 28, 28])\n",
            "outputs shape: torch.Size([64, 1, 28, 28]), inputs shape: torch.Size([64, 1, 28, 28])\n",
            "outputs shape: torch.Size([64, 784]), inputs shape: torch.Size([64, 1, 28, 28])\n",
            "outputs shape: torch.Size([64, 1, 28, 28]), inputs shape: torch.Size([64, 1, 28, 28])\n",
            "outputs shape: torch.Size([64, 784]), inputs shape: torch.Size([64, 1, 28, 28])\n",
            "outputs shape: torch.Size([64, 1, 28, 28]), inputs shape: torch.Size([64, 1, 28, 28])\n",
            "outputs shape: torch.Size([64, 784]), inputs shape: torch.Size([64, 1, 28, 28])\n",
            "outputs shape: torch.Size([64, 1, 28, 28]), inputs shape: torch.Size([64, 1, 28, 28])\n",
            "outputs shape: torch.Size([64, 784]), inputs shape: torch.Size([64, 1, 28, 28])\n",
            "outputs shape: torch.Size([64, 1, 28, 28]), inputs shape: torch.Size([64, 1, 28, 28])\n",
            "outputs shape: torch.Size([64, 784]), inputs shape: torch.Size([64, 1, 28, 28])\n",
            "outputs shape: torch.Size([64, 1, 28, 28]), inputs shape: torch.Size([64, 1, 28, 28])\n",
            "outputs shape: torch.Size([64, 784]), inputs shape: torch.Size([64, 1, 28, 28])\n",
            "outputs shape: torch.Size([64, 1, 28, 28]), inputs shape: torch.Size([64, 1, 28, 28])\n",
            "outputs shape: torch.Size([64, 784]), inputs shape: torch.Size([64, 1, 28, 28])\n",
            "outputs shape: torch.Size([64, 1, 28, 28]), inputs shape: torch.Size([64, 1, 28, 28])\n",
            "outputs shape: torch.Size([64, 784]), inputs shape: torch.Size([64, 1, 28, 28])\n",
            "outputs shape: torch.Size([64, 1, 28, 28]), inputs shape: torch.Size([64, 1, 28, 28])\n"
          ]
        },
        {
          "output_type": "stream",
          "name": "stderr",
          "text": [
            "Epoch 2:  49%|████▉     | 462/938 [00:09<00:07, 60.48it/s]"
          ]
        },
        {
          "output_type": "stream",
          "name": "stdout",
          "text": [
            "outputs shape: torch.Size([64, 784]), inputs shape: torch.Size([64, 1, 28, 28])\n",
            "outputs shape: torch.Size([64, 1, 28, 28]), inputs shape: torch.Size([64, 1, 28, 28])\n",
            "outputs shape: torch.Size([64, 784]), inputs shape: torch.Size([64, 1, 28, 28])\n",
            "outputs shape: torch.Size([64, 1, 28, 28]), inputs shape: torch.Size([64, 1, 28, 28])\n",
            "outputs shape: torch.Size([64, 784]), inputs shape: torch.Size([64, 1, 28, 28])\n",
            "outputs shape: torch.Size([64, 1, 28, 28]), inputs shape: torch.Size([64, 1, 28, 28])\n",
            "outputs shape: torch.Size([64, 784]), inputs shape: torch.Size([64, 1, 28, 28])\n",
            "outputs shape: torch.Size([64, 1, 28, 28]), inputs shape: torch.Size([64, 1, 28, 28])\n",
            "outputs shape: torch.Size([64, 784]), inputs shape: torch.Size([64, 1, 28, 28])\n",
            "outputs shape: torch.Size([64, 1, 28, 28]), inputs shape: torch.Size([64, 1, 28, 28])\n",
            "outputs shape: torch.Size([64, 784]), inputs shape: torch.Size([64, 1, 28, 28])\n",
            "outputs shape: torch.Size([64, 1, 28, 28]), inputs shape: torch.Size([64, 1, 28, 28])\n",
            "outputs shape: torch.Size([64, 784]), inputs shape: torch.Size([64, 1, 28, 28])\n",
            "outputs shape: torch.Size([64, 1, 28, 28]), inputs shape: torch.Size([64, 1, 28, 28])\n",
            "outputs shape: torch.Size([64, 784]), inputs shape: torch.Size([64, 1, 28, 28])\n",
            "outputs shape: torch.Size([64, 1, 28, 28]), inputs shape: torch.Size([64, 1, 28, 28])\n",
            "outputs shape: torch.Size([64, 784]), inputs shape: torch.Size([64, 1, 28, 28])\n",
            "outputs shape: torch.Size([64, 1, 28, 28]), inputs shape: torch.Size([64, 1, 28, 28])\n",
            "outputs shape: torch.Size([64, 784]), inputs shape: torch.Size([64, 1, 28, 28])\n",
            "outputs shape: torch.Size([64, 1, 28, 28]), inputs shape: torch.Size([64, 1, 28, 28])\n",
            "outputs shape: torch.Size([64, 784]), inputs shape: torch.Size([64, 1, 28, 28])\n",
            "outputs shape: torch.Size([64, 1, 28, 28]), inputs shape: torch.Size([64, 1, 28, 28])\n",
            "outputs shape: torch.Size([64, 784]), inputs shape: torch.Size([64, 1, 28, 28])\n",
            "outputs shape: torch.Size([64, 1, 28, 28]), inputs shape: torch.Size([64, 1, 28, 28])\n",
            "outputs shape: torch.Size([64, 784]), inputs shape: torch.Size([64, 1, 28, 28])\n",
            "outputs shape: torch.Size([64, 1, 28, 28]), inputs shape: torch.Size([64, 1, 28, 28])\n"
          ]
        },
        {
          "output_type": "stream",
          "name": "stderr",
          "text": [
            "Epoch 2:  51%|█████     | 476/938 [00:09<00:07, 60.93it/s]"
          ]
        },
        {
          "output_type": "stream",
          "name": "stdout",
          "text": [
            "outputs shape: torch.Size([64, 784]), inputs shape: torch.Size([64, 1, 28, 28])\n",
            "outputs shape: torch.Size([64, 1, 28, 28]), inputs shape: torch.Size([64, 1, 28, 28])\n",
            "outputs shape: torch.Size([64, 784]), inputs shape: torch.Size([64, 1, 28, 28])\n",
            "outputs shape: torch.Size([64, 1, 28, 28]), inputs shape: torch.Size([64, 1, 28, 28])\n",
            "outputs shape: torch.Size([64, 784]), inputs shape: torch.Size([64, 1, 28, 28])\n",
            "outputs shape: torch.Size([64, 1, 28, 28]), inputs shape: torch.Size([64, 1, 28, 28])\n",
            "outputs shape: torch.Size([64, 784]), inputs shape: torch.Size([64, 1, 28, 28])\n",
            "outputs shape: torch.Size([64, 1, 28, 28]), inputs shape: torch.Size([64, 1, 28, 28])\n",
            "outputs shape: torch.Size([64, 784]), inputs shape: torch.Size([64, 1, 28, 28])\n",
            "outputs shape: torch.Size([64, 1, 28, 28]), inputs shape: torch.Size([64, 1, 28, 28])\n",
            "outputs shape: torch.Size([64, 784]), inputs shape: torch.Size([64, 1, 28, 28])\n",
            "outputs shape: torch.Size([64, 1, 28, 28]), inputs shape: torch.Size([64, 1, 28, 28])\n",
            "outputs shape: torch.Size([64, 784]), inputs shape: torch.Size([64, 1, 28, 28])\n",
            "outputs shape: torch.Size([64, 1, 28, 28]), inputs shape: torch.Size([64, 1, 28, 28])\n",
            "outputs shape: torch.Size([64, 784]), inputs shape: torch.Size([64, 1, 28, 28])\n",
            "outputs shape: torch.Size([64, 1, 28, 28]), inputs shape: torch.Size([64, 1, 28, 28])\n",
            "outputs shape: torch.Size([64, 784]), inputs shape: torch.Size([64, 1, 28, 28])\n",
            "outputs shape: torch.Size([64, 1, 28, 28]), inputs shape: torch.Size([64, 1, 28, 28])\n",
            "outputs shape: torch.Size([64, 784]), inputs shape: torch.Size([64, 1, 28, 28])\n",
            "outputs shape: torch.Size([64, 1, 28, 28]), inputs shape: torch.Size([64, 1, 28, 28])\n",
            "outputs shape: torch.Size([64, 784]), inputs shape: torch.Size([64, 1, 28, 28])\n",
            "outputs shape: torch.Size([64, 1, 28, 28]), inputs shape: torch.Size([64, 1, 28, 28])\n",
            "outputs shape: torch.Size([64, 784]), inputs shape: torch.Size([64, 1, 28, 28])\n",
            "outputs shape: torch.Size([64, 1, 28, 28]), inputs shape: torch.Size([64, 1, 28, 28])\n",
            "outputs shape: torch.Size([64, 784]), inputs shape: torch.Size([64, 1, 28, 28])\n",
            "outputs shape: torch.Size([64, 1, 28, 28]), inputs shape: torch.Size([64, 1, 28, 28])\n"
          ]
        },
        {
          "output_type": "stream",
          "name": "stderr",
          "text": [
            "Epoch 2:  52%|█████▏    | 490/938 [00:09<00:07, 58.91it/s]"
          ]
        },
        {
          "output_type": "stream",
          "name": "stdout",
          "text": [
            "outputs shape: torch.Size([64, 784]), inputs shape: torch.Size([64, 1, 28, 28])\n",
            "outputs shape: torch.Size([64, 1, 28, 28]), inputs shape: torch.Size([64, 1, 28, 28])\n",
            "outputs shape: torch.Size([64, 784]), inputs shape: torch.Size([64, 1, 28, 28])\n",
            "outputs shape: torch.Size([64, 1, 28, 28]), inputs shape: torch.Size([64, 1, 28, 28])\n",
            "outputs shape: torch.Size([64, 784]), inputs shape: torch.Size([64, 1, 28, 28])\n",
            "outputs shape: torch.Size([64, 1, 28, 28]), inputs shape: torch.Size([64, 1, 28, 28])\n",
            "outputs shape: torch.Size([64, 784]), inputs shape: torch.Size([64, 1, 28, 28])\n",
            "outputs shape: torch.Size([64, 1, 28, 28]), inputs shape: torch.Size([64, 1, 28, 28])\n",
            "outputs shape: torch.Size([64, 784]), inputs shape: torch.Size([64, 1, 28, 28])\n",
            "outputs shape: torch.Size([64, 1, 28, 28]), inputs shape: torch.Size([64, 1, 28, 28])\n",
            "outputs shape: torch.Size([64, 784]), inputs shape: torch.Size([64, 1, 28, 28])\n",
            "outputs shape: torch.Size([64, 1, 28, 28]), inputs shape: torch.Size([64, 1, 28, 28])\n",
            "outputs shape: torch.Size([64, 784]), inputs shape: torch.Size([64, 1, 28, 28])\n",
            "outputs shape: torch.Size([64, 1, 28, 28]), inputs shape: torch.Size([64, 1, 28, 28])\n",
            "outputs shape: torch.Size([64, 784]), inputs shape: torch.Size([64, 1, 28, 28])\n",
            "outputs shape: torch.Size([64, 1, 28, 28]), inputs shape: torch.Size([64, 1, 28, 28])\n",
            "outputs shape: torch.Size([64, 784]), inputs shape: torch.Size([64, 1, 28, 28])\n",
            "outputs shape: torch.Size([64, 1, 28, 28]), inputs shape: torch.Size([64, 1, 28, 28])\n",
            "outputs shape: torch.Size([64, 784]), inputs shape: torch.Size([64, 1, 28, 28])\n",
            "outputs shape: torch.Size([64, 1, 28, 28]), inputs shape: torch.Size([64, 1, 28, 28])\n",
            "outputs shape: torch.Size([64, 784]), inputs shape: torch.Size([64, 1, 28, 28])\n",
            "outputs shape: torch.Size([64, 1, 28, 28]), inputs shape: torch.Size([64, 1, 28, 28])\n",
            "outputs shape: torch.Size([64, 784]), inputs shape: torch.Size([64, 1, 28, 28])\n",
            "outputs shape: torch.Size([64, 1, 28, 28]), inputs shape: torch.Size([64, 1, 28, 28])\n"
          ]
        },
        {
          "output_type": "stream",
          "name": "stderr",
          "text": [
            "\rEpoch 2:  53%|█████▎    | 497/938 [00:09<00:07, 60.02it/s]"
          ]
        },
        {
          "output_type": "stream",
          "name": "stdout",
          "text": [
            "outputs shape: torch.Size([64, 784]), inputs shape: torch.Size([64, 1, 28, 28])\n",
            "outputs shape: torch.Size([64, 1, 28, 28]), inputs shape: torch.Size([64, 1, 28, 28])\n",
            "outputs shape: torch.Size([64, 784]), inputs shape: torch.Size([64, 1, 28, 28])\n",
            "outputs shape: torch.Size([64, 1, 28, 28]), inputs shape: torch.Size([64, 1, 28, 28])\n",
            "outputs shape: torch.Size([64, 784]), inputs shape: torch.Size([64, 1, 28, 28])\n",
            "outputs shape: torch.Size([64, 1, 28, 28]), inputs shape: torch.Size([64, 1, 28, 28])\n",
            "outputs shape: torch.Size([64, 784]), inputs shape: torch.Size([64, 1, 28, 28])\n",
            "outputs shape: torch.Size([64, 1, 28, 28]), inputs shape: torch.Size([64, 1, 28, 28])\n",
            "outputs shape: torch.Size([64, 784]), inputs shape: torch.Size([64, 1, 28, 28])\n",
            "outputs shape: torch.Size([64, 1, 28, 28]), inputs shape: torch.Size([64, 1, 28, 28])\n",
            "outputs shape: torch.Size([64, 784]), inputs shape: torch.Size([64, 1, 28, 28])\n",
            "outputs shape: torch.Size([64, 1, 28, 28]), inputs shape: torch.Size([64, 1, 28, 28])\n",
            "outputs shape: torch.Size([64, 784]), inputs shape: torch.Size([64, 1, 28, 28])\n",
            "outputs shape: torch.Size([64, 1, 28, 28]), inputs shape: torch.Size([64, 1, 28, 28])\n",
            "outputs shape: torch.Size([64, 784]), inputs shape: torch.Size([64, 1, 28, 28])\n",
            "outputs shape: torch.Size([64, 1, 28, 28]), inputs shape: torch.Size([64, 1, 28, 28])\n",
            "outputs shape: torch.Size([64, 784]), inputs shape: torch.Size([64, 1, 28, 28])\n",
            "outputs shape: torch.Size([64, 1, 28, 28]), inputs shape: torch.Size([64, 1, 28, 28])\n",
            "outputs shape: torch.Size([64, 784]), inputs shape: torch.Size([64, 1, 28, 28])\n",
            "outputs shape: torch.Size([64, 1, 28, 28]), inputs shape: torch.Size([64, 1, 28, 28])\n",
            "loss: 0.24238285422325134\n",
            "outputs shape: torch.Size([64, 784]), inputs shape: torch.Size([64, 1, 28, 28])\n",
            "outputs shape: torch.Size([64, 1, 28, 28]), inputs shape: torch.Size([64, 1, 28, 28])\n",
            "outputs shape: torch.Size([64, 784]), inputs shape: torch.Size([64, 1, 28, 28])\n",
            "outputs shape: torch.Size([64, 1, 28, 28]), inputs shape: torch.Size([64, 1, 28, 28])\n",
            "outputs shape: torch.Size([64, 784]), inputs shape: torch.Size([64, 1, 28, 28])\n",
            "outputs shape: torch.Size([64, 1, 28, 28]), inputs shape: torch.Size([64, 1, 28, 28])\n",
            "outputs shape: torch.Size([64, 784]), inputs shape: torch.Size([64, 1, 28, 28])\n",
            "outputs shape: torch.Size([64, 1, 28, 28]), inputs shape: torch.Size([64, 1, 28, 28])\n"
          ]
        },
        {
          "output_type": "stream",
          "name": "stderr",
          "text": [
            "Epoch 2:  54%|█████▍    | 511/938 [00:09<00:06, 62.24it/s]"
          ]
        },
        {
          "output_type": "stream",
          "name": "stdout",
          "text": [
            "outputs shape: torch.Size([64, 784]), inputs shape: torch.Size([64, 1, 28, 28])\n",
            "outputs shape: torch.Size([64, 1, 28, 28]), inputs shape: torch.Size([64, 1, 28, 28])\n",
            "outputs shape: torch.Size([64, 784]), inputs shape: torch.Size([64, 1, 28, 28])\n",
            "outputs shape: torch.Size([64, 1, 28, 28]), inputs shape: torch.Size([64, 1, 28, 28])\n",
            "outputs shape: torch.Size([64, 784]), inputs shape: torch.Size([64, 1, 28, 28])\n",
            "outputs shape: torch.Size([64, 1, 28, 28]), inputs shape: torch.Size([64, 1, 28, 28])\n",
            "outputs shape: torch.Size([64, 784]), inputs shape: torch.Size([64, 1, 28, 28])\n",
            "outputs shape: torch.Size([64, 1, 28, 28]), inputs shape: torch.Size([64, 1, 28, 28])\n",
            "outputs shape: torch.Size([64, 784]), inputs shape: torch.Size([64, 1, 28, 28])\n",
            "outputs shape: torch.Size([64, 1, 28, 28]), inputs shape: torch.Size([64, 1, 28, 28])\n",
            "outputs shape: torch.Size([64, 784]), inputs shape: torch.Size([64, 1, 28, 28])\n",
            "outputs shape: torch.Size([64, 1, 28, 28]), inputs shape: torch.Size([64, 1, 28, 28])\n",
            "outputs shape: torch.Size([64, 784]), inputs shape: torch.Size([64, 1, 28, 28])\n",
            "outputs shape: torch.Size([64, 1, 28, 28]), inputs shape: torch.Size([64, 1, 28, 28])\n",
            "outputs shape: torch.Size([64, 784]), inputs shape: torch.Size([64, 1, 28, 28])\n",
            "outputs shape: torch.Size([64, 1, 28, 28]), inputs shape: torch.Size([64, 1, 28, 28])\n",
            "outputs shape: torch.Size([64, 784]), inputs shape: torch.Size([64, 1, 28, 28])\n",
            "outputs shape: torch.Size([64, 1, 28, 28]), inputs shape: torch.Size([64, 1, 28, 28])\n",
            "outputs shape: torch.Size([64, 784]), inputs shape: torch.Size([64, 1, 28, 28])\n",
            "outputs shape: torch.Size([64, 1, 28, 28]), inputs shape: torch.Size([64, 1, 28, 28])\n",
            "outputs shape: torch.Size([64, 784]), inputs shape: torch.Size([64, 1, 28, 28])\n",
            "outputs shape: torch.Size([64, 1, 28, 28]), inputs shape: torch.Size([64, 1, 28, 28])\n",
            "outputs shape: torch.Size([64, 784]), inputs shape: torch.Size([64, 1, 28, 28])\n",
            "outputs shape: torch.Size([64, 1, 28, 28]), inputs shape: torch.Size([64, 1, 28, 28])\n",
            "outputs shape: torch.Size([64, 784]), inputs shape: torch.Size([64, 1, 28, 28])\n",
            "outputs shape: torch.Size([64, 1, 28, 28]), inputs shape: torch.Size([64, 1, 28, 28])\n"
          ]
        },
        {
          "output_type": "stream",
          "name": "stderr",
          "text": [
            "Epoch 2:  56%|█████▌    | 525/938 [00:10<00:06, 61.99it/s]"
          ]
        },
        {
          "output_type": "stream",
          "name": "stdout",
          "text": [
            "outputs shape: torch.Size([64, 784]), inputs shape: torch.Size([64, 1, 28, 28])\n",
            "outputs shape: torch.Size([64, 1, 28, 28]), inputs shape: torch.Size([64, 1, 28, 28])\n",
            "outputs shape: torch.Size([64, 784]), inputs shape: torch.Size([64, 1, 28, 28])\n",
            "outputs shape: torch.Size([64, 1, 28, 28]), inputs shape: torch.Size([64, 1, 28, 28])\n",
            "outputs shape: torch.Size([64, 784]), inputs shape: torch.Size([64, 1, 28, 28])\n",
            "outputs shape: torch.Size([64, 1, 28, 28]), inputs shape: torch.Size([64, 1, 28, 28])\n",
            "outputs shape: torch.Size([64, 784]), inputs shape: torch.Size([64, 1, 28, 28])\n",
            "outputs shape: torch.Size([64, 1, 28, 28]), inputs shape: torch.Size([64, 1, 28, 28])\n",
            "outputs shape: torch.Size([64, 784]), inputs shape: torch.Size([64, 1, 28, 28])\n",
            "outputs shape: torch.Size([64, 1, 28, 28]), inputs shape: torch.Size([64, 1, 28, 28])\n",
            "outputs shape: torch.Size([64, 784]), inputs shape: torch.Size([64, 1, 28, 28])\n",
            "outputs shape: torch.Size([64, 1, 28, 28]), inputs shape: torch.Size([64, 1, 28, 28])\n",
            "outputs shape: torch.Size([64, 784]), inputs shape: torch.Size([64, 1, 28, 28])\n",
            "outputs shape: torch.Size([64, 1, 28, 28]), inputs shape: torch.Size([64, 1, 28, 28])\n",
            "outputs shape: torch.Size([64, 784]), inputs shape: torch.Size([64, 1, 28, 28])\n",
            "outputs shape: torch.Size([64, 1, 28, 28]), inputs shape: torch.Size([64, 1, 28, 28])\n",
            "outputs shape: torch.Size([64, 784]), inputs shape: torch.Size([64, 1, 28, 28])\n",
            "outputs shape: torch.Size([64, 1, 28, 28]), inputs shape: torch.Size([64, 1, 28, 28])\n",
            "outputs shape: torch.Size([64, 784]), inputs shape: torch.Size([64, 1, 28, 28])\n",
            "outputs shape: torch.Size([64, 1, 28, 28]), inputs shape: torch.Size([64, 1, 28, 28])\n",
            "outputs shape: torch.Size([64, 784]), inputs shape: torch.Size([64, 1, 28, 28])\n",
            "outputs shape: torch.Size([64, 1, 28, 28]), inputs shape: torch.Size([64, 1, 28, 28])\n",
            "outputs shape: torch.Size([64, 784]), inputs shape: torch.Size([64, 1, 28, 28])\n",
            "outputs shape: torch.Size([64, 1, 28, 28]), inputs shape: torch.Size([64, 1, 28, 28])\n",
            "outputs shape: torch.Size([64, 784]), inputs shape: torch.Size([64, 1, 28, 28])\n",
            "outputs shape: torch.Size([64, 1, 28, 28]), inputs shape: torch.Size([64, 1, 28, 28])\n",
            "outputs shape: torch.Size([64, 784]), inputs shape: torch.Size([64, 1, 28, 28])\n",
            "outputs shape: torch.Size([64, 1, 28, 28]), inputs shape: torch.Size([64, 1, 28, 28])\n"
          ]
        },
        {
          "output_type": "stream",
          "name": "stderr",
          "text": [
            "Epoch 2:  57%|█████▋    | 539/938 [00:10<00:06, 62.48it/s]"
          ]
        },
        {
          "output_type": "stream",
          "name": "stdout",
          "text": [
            "outputs shape: torch.Size([64, 784]), inputs shape: torch.Size([64, 1, 28, 28])\n",
            "outputs shape: torch.Size([64, 1, 28, 28]), inputs shape: torch.Size([64, 1, 28, 28])\n",
            "outputs shape: torch.Size([64, 784]), inputs shape: torch.Size([64, 1, 28, 28])\n",
            "outputs shape: torch.Size([64, 1, 28, 28]), inputs shape: torch.Size([64, 1, 28, 28])\n",
            "outputs shape: torch.Size([64, 784]), inputs shape: torch.Size([64, 1, 28, 28])\n",
            "outputs shape: torch.Size([64, 1, 28, 28]), inputs shape: torch.Size([64, 1, 28, 28])\n",
            "outputs shape: torch.Size([64, 784]), inputs shape: torch.Size([64, 1, 28, 28])\n",
            "outputs shape: torch.Size([64, 1, 28, 28]), inputs shape: torch.Size([64, 1, 28, 28])\n",
            "outputs shape: torch.Size([64, 784]), inputs shape: torch.Size([64, 1, 28, 28])\n",
            "outputs shape: torch.Size([64, 1, 28, 28]), inputs shape: torch.Size([64, 1, 28, 28])\n",
            "outputs shape: torch.Size([64, 784]), inputs shape: torch.Size([64, 1, 28, 28])\n",
            "outputs shape: torch.Size([64, 1, 28, 28]), inputs shape: torch.Size([64, 1, 28, 28])\n",
            "outputs shape: torch.Size([64, 784]), inputs shape: torch.Size([64, 1, 28, 28])\n",
            "outputs shape: torch.Size([64, 1, 28, 28]), inputs shape: torch.Size([64, 1, 28, 28])\n",
            "outputs shape: torch.Size([64, 784]), inputs shape: torch.Size([64, 1, 28, 28])\n",
            "outputs shape: torch.Size([64, 1, 28, 28]), inputs shape: torch.Size([64, 1, 28, 28])\n",
            "outputs shape: torch.Size([64, 784]), inputs shape: torch.Size([64, 1, 28, 28])\n",
            "outputs shape: torch.Size([64, 1, 28, 28]), inputs shape: torch.Size([64, 1, 28, 28])\n",
            "outputs shape: torch.Size([64, 784]), inputs shape: torch.Size([64, 1, 28, 28])\n",
            "outputs shape: torch.Size([64, 1, 28, 28]), inputs shape: torch.Size([64, 1, 28, 28])\n",
            "outputs shape: torch.Size([64, 784]), inputs shape: torch.Size([64, 1, 28, 28])\n",
            "outputs shape: torch.Size([64, 1, 28, 28]), inputs shape: torch.Size([64, 1, 28, 28])\n",
            "outputs shape: torch.Size([64, 784]), inputs shape: torch.Size([64, 1, 28, 28])\n",
            "outputs shape: torch.Size([64, 1, 28, 28]), inputs shape: torch.Size([64, 1, 28, 28])\n"
          ]
        },
        {
          "output_type": "stream",
          "name": "stderr",
          "text": [
            "Epoch 2:  59%|█████▉    | 553/938 [00:10<00:06, 60.68it/s]"
          ]
        },
        {
          "output_type": "stream",
          "name": "stdout",
          "text": [
            "outputs shape: torch.Size([64, 784]), inputs shape: torch.Size([64, 1, 28, 28])\n",
            "outputs shape: torch.Size([64, 1, 28, 28]), inputs shape: torch.Size([64, 1, 28, 28])\n",
            "outputs shape: torch.Size([64, 784]), inputs shape: torch.Size([64, 1, 28, 28])\n",
            "outputs shape: torch.Size([64, 1, 28, 28]), inputs shape: torch.Size([64, 1, 28, 28])\n",
            "outputs shape: torch.Size([64, 784]), inputs shape: torch.Size([64, 1, 28, 28])\n",
            "outputs shape: torch.Size([64, 1, 28, 28]), inputs shape: torch.Size([64, 1, 28, 28])\n",
            "outputs shape: torch.Size([64, 784]), inputs shape: torch.Size([64, 1, 28, 28])\n",
            "outputs shape: torch.Size([64, 1, 28, 28]), inputs shape: torch.Size([64, 1, 28, 28])\n",
            "outputs shape: torch.Size([64, 784]), inputs shape: torch.Size([64, 1, 28, 28])\n",
            "outputs shape: torch.Size([64, 1, 28, 28]), inputs shape: torch.Size([64, 1, 28, 28])\n",
            "outputs shape: torch.Size([64, 784]), inputs shape: torch.Size([64, 1, 28, 28])\n",
            "outputs shape: torch.Size([64, 1, 28, 28]), inputs shape: torch.Size([64, 1, 28, 28])\n",
            "outputs shape: torch.Size([64, 784]), inputs shape: torch.Size([64, 1, 28, 28])\n",
            "outputs shape: torch.Size([64, 1, 28, 28]), inputs shape: torch.Size([64, 1, 28, 28])\n",
            "outputs shape: torch.Size([64, 784]), inputs shape: torch.Size([64, 1, 28, 28])\n",
            "outputs shape: torch.Size([64, 1, 28, 28]), inputs shape: torch.Size([64, 1, 28, 28])\n",
            "outputs shape: torch.Size([64, 784]), inputs shape: torch.Size([64, 1, 28, 28])\n",
            "outputs shape: torch.Size([64, 1, 28, 28]), inputs shape: torch.Size([64, 1, 28, 28])\n",
            "outputs shape: torch.Size([64, 784]), inputs shape: torch.Size([64, 1, 28, 28])\n",
            "outputs shape: torch.Size([64, 1, 28, 28]), inputs shape: torch.Size([64, 1, 28, 28])\n",
            "outputs shape: torch.Size([64, 784]), inputs shape: torch.Size([64, 1, 28, 28])\n",
            "outputs shape: torch.Size([64, 1, 28, 28]), inputs shape: torch.Size([64, 1, 28, 28])\n",
            "outputs shape: torch.Size([64, 784]), inputs shape: torch.Size([64, 1, 28, 28])\n",
            "outputs shape: torch.Size([64, 1, 28, 28]), inputs shape: torch.Size([64, 1, 28, 28])\n"
          ]
        },
        {
          "output_type": "stream",
          "name": "stderr",
          "text": [
            "Epoch 2:  60%|██████    | 567/938 [00:10<00:06, 61.35it/s]"
          ]
        },
        {
          "output_type": "stream",
          "name": "stdout",
          "text": [
            "outputs shape: torch.Size([64, 784]), inputs shape: torch.Size([64, 1, 28, 28])\n",
            "outputs shape: torch.Size([64, 1, 28, 28]), inputs shape: torch.Size([64, 1, 28, 28])\n",
            "outputs shape: torch.Size([64, 784]), inputs shape: torch.Size([64, 1, 28, 28])\n",
            "outputs shape: torch.Size([64, 1, 28, 28]), inputs shape: torch.Size([64, 1, 28, 28])\n",
            "outputs shape: torch.Size([64, 784]), inputs shape: torch.Size([64, 1, 28, 28])\n",
            "outputs shape: torch.Size([64, 1, 28, 28]), inputs shape: torch.Size([64, 1, 28, 28])\n",
            "outputs shape: torch.Size([64, 784]), inputs shape: torch.Size([64, 1, 28, 28])\n",
            "outputs shape: torch.Size([64, 1, 28, 28]), inputs shape: torch.Size([64, 1, 28, 28])\n",
            "outputs shape: torch.Size([64, 784]), inputs shape: torch.Size([64, 1, 28, 28])\n",
            "outputs shape: torch.Size([64, 1, 28, 28]), inputs shape: torch.Size([64, 1, 28, 28])\n",
            "outputs shape: torch.Size([64, 784]), inputs shape: torch.Size([64, 1, 28, 28])\n",
            "outputs shape: torch.Size([64, 1, 28, 28]), inputs shape: torch.Size([64, 1, 28, 28])\n",
            "outputs shape: torch.Size([64, 784]), inputs shape: torch.Size([64, 1, 28, 28])\n",
            "outputs shape: torch.Size([64, 1, 28, 28]), inputs shape: torch.Size([64, 1, 28, 28])\n",
            "outputs shape: torch.Size([64, 784]), inputs shape: torch.Size([64, 1, 28, 28])\n",
            "outputs shape: torch.Size([64, 1, 28, 28]), inputs shape: torch.Size([64, 1, 28, 28])\n",
            "outputs shape: torch.Size([64, 784]), inputs shape: torch.Size([64, 1, 28, 28])\n",
            "outputs shape: torch.Size([64, 1, 28, 28]), inputs shape: torch.Size([64, 1, 28, 28])\n",
            "outputs shape: torch.Size([64, 784]), inputs shape: torch.Size([64, 1, 28, 28])\n",
            "outputs shape: torch.Size([64, 1, 28, 28]), inputs shape: torch.Size([64, 1, 28, 28])\n",
            "outputs shape: torch.Size([64, 784]), inputs shape: torch.Size([64, 1, 28, 28])\n",
            "outputs shape: torch.Size([64, 1, 28, 28]), inputs shape: torch.Size([64, 1, 28, 28])\n",
            "outputs shape: torch.Size([64, 784]), inputs shape: torch.Size([64, 1, 28, 28])\n",
            "outputs shape: torch.Size([64, 1, 28, 28]), inputs shape: torch.Size([64, 1, 28, 28])\n",
            "outputs shape: torch.Size([64, 784]), inputs shape: torch.Size([64, 1, 28, 28])\n",
            "outputs shape: torch.Size([64, 1, 28, 28]), inputs shape: torch.Size([64, 1, 28, 28])\n"
          ]
        },
        {
          "output_type": "stream",
          "name": "stderr",
          "text": [
            "\rEpoch 2:  61%|██████    | 574/938 [00:10<00:05, 61.56it/s]"
          ]
        },
        {
          "output_type": "stream",
          "name": "stdout",
          "text": [
            "outputs shape: torch.Size([64, 784]), inputs shape: torch.Size([64, 1, 28, 28])\n",
            "outputs shape: torch.Size([64, 1, 28, 28]), inputs shape: torch.Size([64, 1, 28, 28])\n",
            "outputs shape: torch.Size([64, 784]), inputs shape: torch.Size([64, 1, 28, 28])\n",
            "outputs shape: torch.Size([64, 1, 28, 28]), inputs shape: torch.Size([64, 1, 28, 28])\n",
            "outputs shape: torch.Size([64, 784]), inputs shape: torch.Size([64, 1, 28, 28])\n",
            "outputs shape: torch.Size([64, 1, 28, 28]), inputs shape: torch.Size([64, 1, 28, 28])\n",
            "outputs shape: torch.Size([64, 784]), inputs shape: torch.Size([64, 1, 28, 28])\n",
            "outputs shape: torch.Size([64, 1, 28, 28]), inputs shape: torch.Size([64, 1, 28, 28])\n",
            "outputs shape: torch.Size([64, 784]), inputs shape: torch.Size([64, 1, 28, 28])\n",
            "outputs shape: torch.Size([64, 1, 28, 28]), inputs shape: torch.Size([64, 1, 28, 28])\n",
            "outputs shape: torch.Size([64, 784]), inputs shape: torch.Size([64, 1, 28, 28])\n",
            "outputs shape: torch.Size([64, 1, 28, 28]), inputs shape: torch.Size([64, 1, 28, 28])\n",
            "outputs shape: torch.Size([64, 784]), inputs shape: torch.Size([64, 1, 28, 28])\n",
            "outputs shape: torch.Size([64, 1, 28, 28]), inputs shape: torch.Size([64, 1, 28, 28])\n",
            "outputs shape: torch.Size([64, 784]), inputs shape: torch.Size([64, 1, 28, 28])\n",
            "outputs shape: torch.Size([64, 1, 28, 28]), inputs shape: torch.Size([64, 1, 28, 28])\n",
            "outputs shape: torch.Size([64, 784]), inputs shape: torch.Size([64, 1, 28, 28])\n",
            "outputs shape: torch.Size([64, 1, 28, 28]), inputs shape: torch.Size([64, 1, 28, 28])\n",
            "outputs shape: torch.Size([64, 784]), inputs shape: torch.Size([64, 1, 28, 28])\n",
            "outputs shape: torch.Size([64, 1, 28, 28]), inputs shape: torch.Size([64, 1, 28, 28])\n",
            "outputs shape: torch.Size([64, 784]), inputs shape: torch.Size([64, 1, 28, 28])\n",
            "outputs shape: torch.Size([64, 1, 28, 28]), inputs shape: torch.Size([64, 1, 28, 28])\n",
            "outputs shape: torch.Size([64, 784]), inputs shape: torch.Size([64, 1, 28, 28])\n",
            "outputs shape: torch.Size([64, 1, 28, 28]), inputs shape: torch.Size([64, 1, 28, 28])\n",
            "outputs shape: torch.Size([64, 784]), inputs shape: torch.Size([64, 1, 28, 28])\n",
            "outputs shape: torch.Size([64, 1, 28, 28]), inputs shape: torch.Size([64, 1, 28, 28])\n"
          ]
        },
        {
          "output_type": "stream",
          "name": "stderr",
          "text": [
            "Epoch 2:  63%|██████▎   | 588/938 [00:11<00:05, 61.84it/s]"
          ]
        },
        {
          "output_type": "stream",
          "name": "stdout",
          "text": [
            "outputs shape: torch.Size([64, 784]), inputs shape: torch.Size([64, 1, 28, 28])\n",
            "outputs shape: torch.Size([64, 1, 28, 28]), inputs shape: torch.Size([64, 1, 28, 28])\n",
            "outputs shape: torch.Size([64, 784]), inputs shape: torch.Size([64, 1, 28, 28])\n",
            "outputs shape: torch.Size([64, 1, 28, 28]), inputs shape: torch.Size([64, 1, 28, 28])\n",
            "outputs shape: torch.Size([64, 784]), inputs shape: torch.Size([64, 1, 28, 28])\n",
            "outputs shape: torch.Size([64, 1, 28, 28]), inputs shape: torch.Size([64, 1, 28, 28])\n",
            "outputs shape: torch.Size([64, 784]), inputs shape: torch.Size([64, 1, 28, 28])\n",
            "outputs shape: torch.Size([64, 1, 28, 28]), inputs shape: torch.Size([64, 1, 28, 28])\n",
            "outputs shape: torch.Size([64, 784]), inputs shape: torch.Size([64, 1, 28, 28])\n",
            "outputs shape: torch.Size([64, 1, 28, 28]), inputs shape: torch.Size([64, 1, 28, 28])\n",
            "outputs shape: torch.Size([64, 784]), inputs shape: torch.Size([64, 1, 28, 28])\n",
            "outputs shape: torch.Size([64, 1, 28, 28]), inputs shape: torch.Size([64, 1, 28, 28])\n",
            "outputs shape: torch.Size([64, 784]), inputs shape: torch.Size([64, 1, 28, 28])\n",
            "outputs shape: torch.Size([64, 1, 28, 28]), inputs shape: torch.Size([64, 1, 28, 28])\n",
            "outputs shape: torch.Size([64, 784]), inputs shape: torch.Size([64, 1, 28, 28])\n",
            "outputs shape: torch.Size([64, 1, 28, 28]), inputs shape: torch.Size([64, 1, 28, 28])\n",
            "outputs shape: torch.Size([64, 784]), inputs shape: torch.Size([64, 1, 28, 28])\n",
            "outputs shape: torch.Size([64, 1, 28, 28]), inputs shape: torch.Size([64, 1, 28, 28])\n",
            "outputs shape: torch.Size([64, 784]), inputs shape: torch.Size([64, 1, 28, 28])\n",
            "outputs shape: torch.Size([64, 1, 28, 28]), inputs shape: torch.Size([64, 1, 28, 28])\n",
            "outputs shape: torch.Size([64, 784]), inputs shape: torch.Size([64, 1, 28, 28])\n",
            "outputs shape: torch.Size([64, 1, 28, 28]), inputs shape: torch.Size([64, 1, 28, 28])\n",
            "outputs shape: torch.Size([64, 784]), inputs shape: torch.Size([64, 1, 28, 28])\n",
            "outputs shape: torch.Size([64, 1, 28, 28]), inputs shape: torch.Size([64, 1, 28, 28])\n",
            "outputs shape: torch.Size([64, 784]), inputs shape: torch.Size([64, 1, 28, 28])\n",
            "outputs shape: torch.Size([64, 1, 28, 28]), inputs shape: torch.Size([64, 1, 28, 28])\n",
            "outputs shape: torch.Size([64, 784]), inputs shape: torch.Size([64, 1, 28, 28])\n",
            "outputs shape: torch.Size([64, 1, 28, 28]), inputs shape: torch.Size([64, 1, 28, 28])\n"
          ]
        },
        {
          "output_type": "stream",
          "name": "stderr",
          "text": [
            "Epoch 2:  64%|██████▍   | 602/938 [00:11<00:05, 61.44it/s]"
          ]
        },
        {
          "output_type": "stream",
          "name": "stdout",
          "text": [
            "outputs shape: torch.Size([64, 784]), inputs shape: torch.Size([64, 1, 28, 28])\n",
            "outputs shape: torch.Size([64, 1, 28, 28]), inputs shape: torch.Size([64, 1, 28, 28])\n",
            "outputs shape: torch.Size([64, 784]), inputs shape: torch.Size([64, 1, 28, 28])\n",
            "outputs shape: torch.Size([64, 1, 28, 28]), inputs shape: torch.Size([64, 1, 28, 28])\n",
            "outputs shape: torch.Size([64, 784]), inputs shape: torch.Size([64, 1, 28, 28])\n",
            "outputs shape: torch.Size([64, 1, 28, 28]), inputs shape: torch.Size([64, 1, 28, 28])\n",
            "outputs shape: torch.Size([64, 784]), inputs shape: torch.Size([64, 1, 28, 28])\n",
            "outputs shape: torch.Size([64, 1, 28, 28]), inputs shape: torch.Size([64, 1, 28, 28])\n",
            "outputs shape: torch.Size([64, 784]), inputs shape: torch.Size([64, 1, 28, 28])\n",
            "outputs shape: torch.Size([64, 1, 28, 28]), inputs shape: torch.Size([64, 1, 28, 28])\n",
            "loss: 0.2328600138425827\n",
            "outputs shape: torch.Size([64, 784]), inputs shape: torch.Size([64, 1, 28, 28])\n",
            "outputs shape: torch.Size([64, 1, 28, 28]), inputs shape: torch.Size([64, 1, 28, 28])\n",
            "outputs shape: torch.Size([64, 784]), inputs shape: torch.Size([64, 1, 28, 28])\n",
            "outputs shape: torch.Size([64, 1, 28, 28]), inputs shape: torch.Size([64, 1, 28, 28])\n",
            "outputs shape: torch.Size([64, 784]), inputs shape: torch.Size([64, 1, 28, 28])\n",
            "outputs shape: torch.Size([64, 1, 28, 28]), inputs shape: torch.Size([64, 1, 28, 28])\n",
            "outputs shape: torch.Size([64, 784]), inputs shape: torch.Size([64, 1, 28, 28])\n",
            "outputs shape: torch.Size([64, 1, 28, 28]), inputs shape: torch.Size([64, 1, 28, 28])\n",
            "outputs shape: torch.Size([64, 784]), inputs shape: torch.Size([64, 1, 28, 28])\n",
            "outputs shape: torch.Size([64, 1, 28, 28]), inputs shape: torch.Size([64, 1, 28, 28])\n",
            "outputs shape: torch.Size([64, 784]), inputs shape: torch.Size([64, 1, 28, 28])\n",
            "outputs shape: torch.Size([64, 1, 28, 28]), inputs shape: torch.Size([64, 1, 28, 28])\n",
            "outputs shape: torch.Size([64, 784]), inputs shape: torch.Size([64, 1, 28, 28])\n",
            "outputs shape: torch.Size([64, 1, 28, 28]), inputs shape: torch.Size([64, 1, 28, 28])\n"
          ]
        },
        {
          "output_type": "stream",
          "name": "stderr",
          "text": [
            "Epoch 2:  66%|██████▌   | 615/938 [00:11<00:05, 58.12it/s]"
          ]
        },
        {
          "output_type": "stream",
          "name": "stdout",
          "text": [
            "outputs shape: torch.Size([64, 784]), inputs shape: torch.Size([64, 1, 28, 28])\n",
            "outputs shape: torch.Size([64, 1, 28, 28]), inputs shape: torch.Size([64, 1, 28, 28])\n",
            "outputs shape: torch.Size([64, 784]), inputs shape: torch.Size([64, 1, 28, 28])\n",
            "outputs shape: torch.Size([64, 1, 28, 28]), inputs shape: torch.Size([64, 1, 28, 28])\n",
            "outputs shape: torch.Size([64, 784]), inputs shape: torch.Size([64, 1, 28, 28])\n",
            "outputs shape: torch.Size([64, 1, 28, 28]), inputs shape: torch.Size([64, 1, 28, 28])\n",
            "outputs shape: torch.Size([64, 784]), inputs shape: torch.Size([64, 1, 28, 28])\n",
            "outputs shape: torch.Size([64, 1, 28, 28]), inputs shape: torch.Size([64, 1, 28, 28])\n",
            "outputs shape: torch.Size([64, 784]), inputs shape: torch.Size([64, 1, 28, 28])\n",
            "outputs shape: torch.Size([64, 1, 28, 28]), inputs shape: torch.Size([64, 1, 28, 28])\n",
            "outputs shape: torch.Size([64, 784]), inputs shape: torch.Size([64, 1, 28, 28])\n",
            "outputs shape: torch.Size([64, 1, 28, 28]), inputs shape: torch.Size([64, 1, 28, 28])\n",
            "outputs shape: torch.Size([64, 784]), inputs shape: torch.Size([64, 1, 28, 28])\n",
            "outputs shape: torch.Size([64, 1, 28, 28]), inputs shape: torch.Size([64, 1, 28, 28])\n",
            "outputs shape: torch.Size([64, 784]), inputs shape: torch.Size([64, 1, 28, 28])\n",
            "outputs shape: torch.Size([64, 1, 28, 28]), inputs shape: torch.Size([64, 1, 28, 28])\n",
            "outputs shape: torch.Size([64, 784]), inputs shape: torch.Size([64, 1, 28, 28])\n",
            "outputs shape: torch.Size([64, 1, 28, 28]), inputs shape: torch.Size([64, 1, 28, 28])\n",
            "outputs shape: torch.Size([64, 784]), inputs shape: torch.Size([64, 1, 28, 28])\n",
            "outputs shape: torch.Size([64, 1, 28, 28]), inputs shape: torch.Size([64, 1, 28, 28])\n",
            "outputs shape: torch.Size([64, 784]), inputs shape: torch.Size([64, 1, 28, 28])\n",
            "outputs shape: torch.Size([64, 1, 28, 28]), inputs shape: torch.Size([64, 1, 28, 28])\n",
            "outputs shape: torch.Size([64, 784]), inputs shape: torch.Size([64, 1, 28, 28])\n",
            "outputs shape: torch.Size([64, 1, 28, 28]), inputs shape: torch.Size([64, 1, 28, 28])\n"
          ]
        },
        {
          "output_type": "stream",
          "name": "stderr",
          "text": [
            "Epoch 2:  67%|██████▋   | 629/938 [00:11<00:05, 61.12it/s]"
          ]
        },
        {
          "output_type": "stream",
          "name": "stdout",
          "text": [
            "outputs shape: torch.Size([64, 784]), inputs shape: torch.Size([64, 1, 28, 28])\n",
            "outputs shape: torch.Size([64, 1, 28, 28]), inputs shape: torch.Size([64, 1, 28, 28])\n",
            "outputs shape: torch.Size([64, 784]), inputs shape: torch.Size([64, 1, 28, 28])\n",
            "outputs shape: torch.Size([64, 1, 28, 28]), inputs shape: torch.Size([64, 1, 28, 28])\n",
            "outputs shape: torch.Size([64, 784]), inputs shape: torch.Size([64, 1, 28, 28])\n",
            "outputs shape: torch.Size([64, 1, 28, 28]), inputs shape: torch.Size([64, 1, 28, 28])\n",
            "outputs shape: torch.Size([64, 784]), inputs shape: torch.Size([64, 1, 28, 28])\n",
            "outputs shape: torch.Size([64, 1, 28, 28]), inputs shape: torch.Size([64, 1, 28, 28])\n",
            "outputs shape: torch.Size([64, 784]), inputs shape: torch.Size([64, 1, 28, 28])\n",
            "outputs shape: torch.Size([64, 1, 28, 28]), inputs shape: torch.Size([64, 1, 28, 28])\n",
            "outputs shape: torch.Size([64, 784]), inputs shape: torch.Size([64, 1, 28, 28])\n",
            "outputs shape: torch.Size([64, 1, 28, 28]), inputs shape: torch.Size([64, 1, 28, 28])\n",
            "outputs shape: torch.Size([64, 784]), inputs shape: torch.Size([64, 1, 28, 28])\n",
            "outputs shape: torch.Size([64, 1, 28, 28]), inputs shape: torch.Size([64, 1, 28, 28])\n",
            "outputs shape: torch.Size([64, 784]), inputs shape: torch.Size([64, 1, 28, 28])\n",
            "outputs shape: torch.Size([64, 1, 28, 28]), inputs shape: torch.Size([64, 1, 28, 28])\n",
            "outputs shape: torch.Size([64, 784]), inputs shape: torch.Size([64, 1, 28, 28])\n",
            "outputs shape: torch.Size([64, 1, 28, 28]), inputs shape: torch.Size([64, 1, 28, 28])\n",
            "outputs shape: torch.Size([64, 784]), inputs shape: torch.Size([64, 1, 28, 28])\n",
            "outputs shape: torch.Size([64, 1, 28, 28]), inputs shape: torch.Size([64, 1, 28, 28])\n",
            "outputs shape: torch.Size([64, 784]), inputs shape: torch.Size([64, 1, 28, 28])\n",
            "outputs shape: torch.Size([64, 1, 28, 28]), inputs shape: torch.Size([64, 1, 28, 28])\n",
            "outputs shape: torch.Size([64, 784]), inputs shape: torch.Size([64, 1, 28, 28])\n",
            "outputs shape: torch.Size([64, 1, 28, 28]), inputs shape: torch.Size([64, 1, 28, 28])\n",
            "outputs shape: torch.Size([64, 784]), inputs shape: torch.Size([64, 1, 28, 28])\n",
            "outputs shape: torch.Size([64, 1, 28, 28]), inputs shape: torch.Size([64, 1, 28, 28])\n",
            "outputs shape: torch.Size([64, 784]), inputs shape: torch.Size([64, 1, 28, 28])\n",
            "outputs shape: torch.Size([64, 1, 28, 28]), inputs shape: torch.Size([64, 1, 28, 28])\n"
          ]
        },
        {
          "output_type": "stream",
          "name": "stderr",
          "text": [
            "Epoch 2:  69%|██████▊   | 643/938 [00:12<00:04, 60.39it/s]"
          ]
        },
        {
          "output_type": "stream",
          "name": "stdout",
          "text": [
            "outputs shape: torch.Size([64, 784]), inputs shape: torch.Size([64, 1, 28, 28])\n",
            "outputs shape: torch.Size([64, 1, 28, 28]), inputs shape: torch.Size([64, 1, 28, 28])\n",
            "outputs shape: torch.Size([64, 784]), inputs shape: torch.Size([64, 1, 28, 28])\n",
            "outputs shape: torch.Size([64, 1, 28, 28]), inputs shape: torch.Size([64, 1, 28, 28])\n",
            "outputs shape: torch.Size([64, 784]), inputs shape: torch.Size([64, 1, 28, 28])\n",
            "outputs shape: torch.Size([64, 1, 28, 28]), inputs shape: torch.Size([64, 1, 28, 28])\n",
            "outputs shape: torch.Size([64, 784]), inputs shape: torch.Size([64, 1, 28, 28])\n",
            "outputs shape: torch.Size([64, 1, 28, 28]), inputs shape: torch.Size([64, 1, 28, 28])\n",
            "outputs shape: torch.Size([64, 784]), inputs shape: torch.Size([64, 1, 28, 28])\n",
            "outputs shape: torch.Size([64, 1, 28, 28]), inputs shape: torch.Size([64, 1, 28, 28])\n",
            "outputs shape: torch.Size([64, 784]), inputs shape: torch.Size([64, 1, 28, 28])\n",
            "outputs shape: torch.Size([64, 1, 28, 28]), inputs shape: torch.Size([64, 1, 28, 28])\n",
            "outputs shape: torch.Size([64, 784]), inputs shape: torch.Size([64, 1, 28, 28])\n",
            "outputs shape: torch.Size([64, 1, 28, 28]), inputs shape: torch.Size([64, 1, 28, 28])\n",
            "outputs shape: torch.Size([64, 784]), inputs shape: torch.Size([64, 1, 28, 28])\n",
            "outputs shape: torch.Size([64, 1, 28, 28]), inputs shape: torch.Size([64, 1, 28, 28])\n",
            "outputs shape: torch.Size([64, 784]), inputs shape: torch.Size([64, 1, 28, 28])\n",
            "outputs shape: torch.Size([64, 1, 28, 28]), inputs shape: torch.Size([64, 1, 28, 28])\n",
            "outputs shape: torch.Size([64, 784]), inputs shape: torch.Size([64, 1, 28, 28])\n",
            "outputs shape: torch.Size([64, 1, 28, 28]), inputs shape: torch.Size([64, 1, 28, 28])\n",
            "outputs shape: torch.Size([64, 784]), inputs shape: torch.Size([64, 1, 28, 28])\n",
            "outputs shape: torch.Size([64, 1, 28, 28]), inputs shape: torch.Size([64, 1, 28, 28])\n",
            "outputs shape: torch.Size([64, 784]), inputs shape: torch.Size([64, 1, 28, 28])\n",
            "outputs shape: torch.Size([64, 1, 28, 28]), inputs shape: torch.Size([64, 1, 28, 28])\n"
          ]
        },
        {
          "output_type": "stream",
          "name": "stderr",
          "text": [
            "Epoch 2:  70%|███████   | 657/938 [00:12<00:04, 60.54it/s]"
          ]
        },
        {
          "output_type": "stream",
          "name": "stdout",
          "text": [
            "outputs shape: torch.Size([64, 784]), inputs shape: torch.Size([64, 1, 28, 28])\n",
            "outputs shape: torch.Size([64, 1, 28, 28]), inputs shape: torch.Size([64, 1, 28, 28])\n",
            "outputs shape: torch.Size([64, 784]), inputs shape: torch.Size([64, 1, 28, 28])\n",
            "outputs shape: torch.Size([64, 1, 28, 28]), inputs shape: torch.Size([64, 1, 28, 28])\n",
            "outputs shape: torch.Size([64, 784]), inputs shape: torch.Size([64, 1, 28, 28])\n",
            "outputs shape: torch.Size([64, 1, 28, 28]), inputs shape: torch.Size([64, 1, 28, 28])\n",
            "outputs shape: torch.Size([64, 784]), inputs shape: torch.Size([64, 1, 28, 28])\n",
            "outputs shape: torch.Size([64, 1, 28, 28]), inputs shape: torch.Size([64, 1, 28, 28])\n",
            "outputs shape: torch.Size([64, 784]), inputs shape: torch.Size([64, 1, 28, 28])\n",
            "outputs shape: torch.Size([64, 1, 28, 28]), inputs shape: torch.Size([64, 1, 28, 28])\n",
            "outputs shape: torch.Size([64, 784]), inputs shape: torch.Size([64, 1, 28, 28])\n",
            "outputs shape: torch.Size([64, 1, 28, 28]), inputs shape: torch.Size([64, 1, 28, 28])\n",
            "outputs shape: torch.Size([64, 784]), inputs shape: torch.Size([64, 1, 28, 28])\n",
            "outputs shape: torch.Size([64, 1, 28, 28]), inputs shape: torch.Size([64, 1, 28, 28])\n",
            "outputs shape: torch.Size([64, 784]), inputs shape: torch.Size([64, 1, 28, 28])\n",
            "outputs shape: torch.Size([64, 1, 28, 28]), inputs shape: torch.Size([64, 1, 28, 28])\n",
            "outputs shape: torch.Size([64, 784]), inputs shape: torch.Size([64, 1, 28, 28])\n",
            "outputs shape: torch.Size([64, 1, 28, 28]), inputs shape: torch.Size([64, 1, 28, 28])\n",
            "outputs shape: torch.Size([64, 784]), inputs shape: torch.Size([64, 1, 28, 28])\n",
            "outputs shape: torch.Size([64, 1, 28, 28]), inputs shape: torch.Size([64, 1, 28, 28])\n",
            "outputs shape: torch.Size([64, 784]), inputs shape: torch.Size([64, 1, 28, 28])\n",
            "outputs shape: torch.Size([64, 1, 28, 28]), inputs shape: torch.Size([64, 1, 28, 28])\n",
            "outputs shape: torch.Size([64, 784]), inputs shape: torch.Size([64, 1, 28, 28])\n",
            "outputs shape: torch.Size([64, 1, 28, 28]), inputs shape: torch.Size([64, 1, 28, 28])\n",
            "outputs shape: torch.Size([64, 784]), inputs shape: torch.Size([64, 1, 28, 28])\n",
            "outputs shape: torch.Size([64, 1, 28, 28]), inputs shape: torch.Size([64, 1, 28, 28])\n"
          ]
        },
        {
          "output_type": "stream",
          "name": "stderr",
          "text": [
            "\rEpoch 2:  71%|███████   | 664/938 [00:12<00:04, 59.44it/s]"
          ]
        },
        {
          "output_type": "stream",
          "name": "stdout",
          "text": [
            "outputs shape: torch.Size([64, 784]), inputs shape: torch.Size([64, 1, 28, 28])\n",
            "outputs shape: torch.Size([64, 1, 28, 28]), inputs shape: torch.Size([64, 1, 28, 28])\n",
            "outputs shape: torch.Size([64, 784]), inputs shape: torch.Size([64, 1, 28, 28])\n",
            "outputs shape: torch.Size([64, 1, 28, 28]), inputs shape: torch.Size([64, 1, 28, 28])\n",
            "outputs shape: torch.Size([64, 784]), inputs shape: torch.Size([64, 1, 28, 28])\n",
            "outputs shape: torch.Size([64, 1, 28, 28]), inputs shape: torch.Size([64, 1, 28, 28])\n",
            "outputs shape: torch.Size([64, 784]), inputs shape: torch.Size([64, 1, 28, 28])\n",
            "outputs shape: torch.Size([64, 1, 28, 28]), inputs shape: torch.Size([64, 1, 28, 28])\n",
            "outputs shape: torch.Size([64, 784]), inputs shape: torch.Size([64, 1, 28, 28])\n",
            "outputs shape: torch.Size([64, 1, 28, 28]), inputs shape: torch.Size([64, 1, 28, 28])\n",
            "outputs shape: torch.Size([64, 784]), inputs shape: torch.Size([64, 1, 28, 28])\n",
            "outputs shape: torch.Size([64, 1, 28, 28]), inputs shape: torch.Size([64, 1, 28, 28])\n",
            "outputs shape: torch.Size([64, 784]), inputs shape: torch.Size([64, 1, 28, 28])\n",
            "outputs shape: torch.Size([64, 1, 28, 28]), inputs shape: torch.Size([64, 1, 28, 28])\n",
            "outputs shape: torch.Size([64, 784]), inputs shape: torch.Size([64, 1, 28, 28])\n",
            "outputs shape: torch.Size([64, 1, 28, 28]), inputs shape: torch.Size([64, 1, 28, 28])\n",
            "outputs shape: torch.Size([64, 784]), inputs shape: torch.Size([64, 1, 28, 28])\n",
            "outputs shape: torch.Size([64, 1, 28, 28]), inputs shape: torch.Size([64, 1, 28, 28])\n",
            "outputs shape: torch.Size([64, 784]), inputs shape: torch.Size([64, 1, 28, 28])\n",
            "outputs shape: torch.Size([64, 1, 28, 28]), inputs shape: torch.Size([64, 1, 28, 28])\n",
            "outputs shape: torch.Size([64, 784]), inputs shape: torch.Size([64, 1, 28, 28])\n",
            "outputs shape: torch.Size([64, 1, 28, 28]), inputs shape: torch.Size([64, 1, 28, 28])\n",
            "outputs shape: torch.Size([64, 784]), inputs shape: torch.Size([64, 1, 28, 28])\n",
            "outputs shape: torch.Size([64, 1, 28, 28]), inputs shape: torch.Size([64, 1, 28, 28])\n"
          ]
        },
        {
          "output_type": "stream",
          "name": "stderr",
          "text": [
            "Epoch 2:  72%|███████▏  | 677/938 [00:12<00:04, 58.47it/s]"
          ]
        },
        {
          "output_type": "stream",
          "name": "stdout",
          "text": [
            "outputs shape: torch.Size([64, 784]), inputs shape: torch.Size([64, 1, 28, 28])\n",
            "outputs shape: torch.Size([64, 1, 28, 28]), inputs shape: torch.Size([64, 1, 28, 28])\n",
            "outputs shape: torch.Size([64, 784]), inputs shape: torch.Size([64, 1, 28, 28])\n",
            "outputs shape: torch.Size([64, 1, 28, 28]), inputs shape: torch.Size([64, 1, 28, 28])\n",
            "outputs shape: torch.Size([64, 784]), inputs shape: torch.Size([64, 1, 28, 28])\n",
            "outputs shape: torch.Size([64, 1, 28, 28]), inputs shape: torch.Size([64, 1, 28, 28])\n",
            "outputs shape: torch.Size([64, 784]), inputs shape: torch.Size([64, 1, 28, 28])\n",
            "outputs shape: torch.Size([64, 1, 28, 28]), inputs shape: torch.Size([64, 1, 28, 28])\n",
            "outputs shape: torch.Size([64, 784]), inputs shape: torch.Size([64, 1, 28, 28])\n",
            "outputs shape: torch.Size([64, 1, 28, 28]), inputs shape: torch.Size([64, 1, 28, 28])\n",
            "outputs shape: torch.Size([64, 784]), inputs shape: torch.Size([64, 1, 28, 28])\n",
            "outputs shape: torch.Size([64, 1, 28, 28]), inputs shape: torch.Size([64, 1, 28, 28])\n",
            "outputs shape: torch.Size([64, 784]), inputs shape: torch.Size([64, 1, 28, 28])\n",
            "outputs shape: torch.Size([64, 1, 28, 28]), inputs shape: torch.Size([64, 1, 28, 28])\n",
            "outputs shape: torch.Size([64, 784]), inputs shape: torch.Size([64, 1, 28, 28])\n",
            "outputs shape: torch.Size([64, 1, 28, 28]), inputs shape: torch.Size([64, 1, 28, 28])\n",
            "outputs shape: torch.Size([64, 784]), inputs shape: torch.Size([64, 1, 28, 28])\n",
            "outputs shape: torch.Size([64, 1, 28, 28]), inputs shape: torch.Size([64, 1, 28, 28])\n",
            "outputs shape: torch.Size([64, 784]), inputs shape: torch.Size([64, 1, 28, 28])\n",
            "outputs shape: torch.Size([64, 1, 28, 28]), inputs shape: torch.Size([64, 1, 28, 28])\n",
            "outputs shape: torch.Size([64, 784]), inputs shape: torch.Size([64, 1, 28, 28])\n",
            "outputs shape: torch.Size([64, 1, 28, 28]), inputs shape: torch.Size([64, 1, 28, 28])\n",
            "outputs shape: torch.Size([64, 784]), inputs shape: torch.Size([64, 1, 28, 28])\n",
            "outputs shape: torch.Size([64, 1, 28, 28]), inputs shape: torch.Size([64, 1, 28, 28])\n",
            "outputs shape: torch.Size([64, 784]), inputs shape: torch.Size([64, 1, 28, 28])\n",
            "outputs shape: torch.Size([64, 1, 28, 28]), inputs shape: torch.Size([64, 1, 28, 28])\n",
            "outputs shape: torch.Size([64, 784]), inputs shape: torch.Size([64, 1, 28, 28])\n",
            "outputs shape: torch.Size([64, 1, 28, 28]), inputs shape: torch.Size([64, 1, 28, 28])\n"
          ]
        },
        {
          "output_type": "stream",
          "name": "stderr",
          "text": [
            "Epoch 2:  74%|███████▍  | 697/938 [00:12<00:03, 60.65it/s]"
          ]
        },
        {
          "output_type": "stream",
          "name": "stdout",
          "text": [
            "outputs shape: torch.Size([64, 784]), inputs shape: torch.Size([64, 1, 28, 28])\n",
            "outputs shape: torch.Size([64, 1, 28, 28]), inputs shape: torch.Size([64, 1, 28, 28])\n",
            "outputs shape: torch.Size([64, 784]), inputs shape: torch.Size([64, 1, 28, 28])\n",
            "outputs shape: torch.Size([64, 1, 28, 28]), inputs shape: torch.Size([64, 1, 28, 28])\n",
            "outputs shape: torch.Size([64, 784]), inputs shape: torch.Size([64, 1, 28, 28])\n",
            "outputs shape: torch.Size([64, 1, 28, 28]), inputs shape: torch.Size([64, 1, 28, 28])\n",
            "outputs shape: torch.Size([64, 784]), inputs shape: torch.Size([64, 1, 28, 28])\n",
            "outputs shape: torch.Size([64, 1, 28, 28]), inputs shape: torch.Size([64, 1, 28, 28])\n",
            "outputs shape: torch.Size([64, 784]), inputs shape: torch.Size([64, 1, 28, 28])\n",
            "outputs shape: torch.Size([64, 1, 28, 28]), inputs shape: torch.Size([64, 1, 28, 28])\n",
            "outputs shape: torch.Size([64, 784]), inputs shape: torch.Size([64, 1, 28, 28])\n",
            "outputs shape: torch.Size([64, 1, 28, 28]), inputs shape: torch.Size([64, 1, 28, 28])\n",
            "outputs shape: torch.Size([64, 784]), inputs shape: torch.Size([64, 1, 28, 28])\n",
            "outputs shape: torch.Size([64, 1, 28, 28]), inputs shape: torch.Size([64, 1, 28, 28])\n",
            "outputs shape: torch.Size([64, 784]), inputs shape: torch.Size([64, 1, 28, 28])\n",
            "outputs shape: torch.Size([64, 1, 28, 28]), inputs shape: torch.Size([64, 1, 28, 28])\n",
            "outputs shape: torch.Size([64, 784]), inputs shape: torch.Size([64, 1, 28, 28])\n",
            "outputs shape: torch.Size([64, 1, 28, 28]), inputs shape: torch.Size([64, 1, 28, 28])\n",
            "outputs shape: torch.Size([64, 784]), inputs shape: torch.Size([64, 1, 28, 28])\n",
            "outputs shape: torch.Size([64, 1, 28, 28]), inputs shape: torch.Size([64, 1, 28, 28])\n",
            "outputs shape: torch.Size([64, 784]), inputs shape: torch.Size([64, 1, 28, 28])\n",
            "outputs shape: torch.Size([64, 1, 28, 28]), inputs shape: torch.Size([64, 1, 28, 28])\n",
            "outputs shape: torch.Size([64, 784]), inputs shape: torch.Size([64, 1, 28, 28])\n",
            "outputs shape: torch.Size([64, 1, 28, 28]), inputs shape: torch.Size([64, 1, 28, 28])\n",
            "outputs shape: torch.Size([64, 784]), inputs shape: torch.Size([64, 1, 28, 28])\n",
            "outputs shape: torch.Size([64, 1, 28, 28]), inputs shape: torch.Size([64, 1, 28, 28])\n"
          ]
        },
        {
          "output_type": "stream",
          "name": "stderr",
          "text": [
            "\rEpoch 2:  75%|███████▌  | 704/938 [00:13<00:03, 58.90it/s]"
          ]
        },
        {
          "output_type": "stream",
          "name": "stdout",
          "text": [
            "outputs shape: torch.Size([64, 784]), inputs shape: torch.Size([64, 1, 28, 28])\n",
            "outputs shape: torch.Size([64, 1, 28, 28]), inputs shape: torch.Size([64, 1, 28, 28])\n",
            "outputs shape: torch.Size([64, 784]), inputs shape: torch.Size([64, 1, 28, 28])\n",
            "outputs shape: torch.Size([64, 1, 28, 28]), inputs shape: torch.Size([64, 1, 28, 28])\n",
            "outputs shape: torch.Size([64, 784]), inputs shape: torch.Size([64, 1, 28, 28])\n",
            "outputs shape: torch.Size([64, 1, 28, 28]), inputs shape: torch.Size([64, 1, 28, 28])\n",
            "loss: 0.2409420758485794\n",
            "outputs shape: torch.Size([64, 784]), inputs shape: torch.Size([64, 1, 28, 28])\n",
            "outputs shape: torch.Size([64, 1, 28, 28]), inputs shape: torch.Size([64, 1, 28, 28])\n",
            "outputs shape: torch.Size([64, 784]), inputs shape: torch.Size([64, 1, 28, 28])\n",
            "outputs shape: torch.Size([64, 1, 28, 28]), inputs shape: torch.Size([64, 1, 28, 28])\n",
            "outputs shape: torch.Size([64, 784]), inputs shape: torch.Size([64, 1, 28, 28])\n",
            "outputs shape: torch.Size([64, 1, 28, 28]), inputs shape: torch.Size([64, 1, 28, 28])\n",
            "outputs shape: torch.Size([64, 784]), inputs shape: torch.Size([64, 1, 28, 28])\n",
            "outputs shape: torch.Size([64, 1, 28, 28]), inputs shape: torch.Size([64, 1, 28, 28])\n",
            "outputs shape: torch.Size([64, 784]), inputs shape: torch.Size([64, 1, 28, 28])\n",
            "outputs shape: torch.Size([64, 1, 28, 28]), inputs shape: torch.Size([64, 1, 28, 28])\n",
            "outputs shape: torch.Size([64, 784]), inputs shape: torch.Size([64, 1, 28, 28])\n",
            "outputs shape: torch.Size([64, 1, 28, 28]), inputs shape: torch.Size([64, 1, 28, 28])\n",
            "outputs shape: torch.Size([64, 784]), inputs shape: torch.Size([64, 1, 28, 28])\n",
            "outputs shape: torch.Size([64, 1, 28, 28]), inputs shape: torch.Size([64, 1, 28, 28])\n",
            "outputs shape: torch.Size([64, 784]), inputs shape: torch.Size([64, 1, 28, 28])\n",
            "outputs shape: torch.Size([64, 1, 28, 28]), inputs shape: torch.Size([64, 1, 28, 28])\n",
            "outputs shape: torch.Size([64, 784]), inputs shape: torch.Size([64, 1, 28, 28])\n",
            "outputs shape: torch.Size([64, 1, 28, 28]), inputs shape: torch.Size([64, 1, 28, 28])\n",
            "outputs shape: torch.Size([64, 784]), inputs shape: torch.Size([64, 1, 28, 28])\n",
            "outputs shape: torch.Size([64, 1, 28, 28]), inputs shape: torch.Size([64, 1, 28, 28])\n"
          ]
        },
        {
          "output_type": "stream",
          "name": "stderr",
          "text": [
            "Epoch 2:  77%|███████▋  | 718/938 [00:13<00:03, 60.73it/s]"
          ]
        },
        {
          "output_type": "stream",
          "name": "stdout",
          "text": [
            "outputs shape: torch.Size([64, 784]), inputs shape: torch.Size([64, 1, 28, 28])\n",
            "outputs shape: torch.Size([64, 1, 28, 28]), inputs shape: torch.Size([64, 1, 28, 28])\n",
            "outputs shape: torch.Size([64, 784]), inputs shape: torch.Size([64, 1, 28, 28])\n",
            "outputs shape: torch.Size([64, 1, 28, 28]), inputs shape: torch.Size([64, 1, 28, 28])\n",
            "outputs shape: torch.Size([64, 784]), inputs shape: torch.Size([64, 1, 28, 28])\n",
            "outputs shape: torch.Size([64, 1, 28, 28]), inputs shape: torch.Size([64, 1, 28, 28])\n",
            "outputs shape: torch.Size([64, 784]), inputs shape: torch.Size([64, 1, 28, 28])\n",
            "outputs shape: torch.Size([64, 1, 28, 28]), inputs shape: torch.Size([64, 1, 28, 28])\n",
            "outputs shape: torch.Size([64, 784]), inputs shape: torch.Size([64, 1, 28, 28])\n",
            "outputs shape: torch.Size([64, 1, 28, 28]), inputs shape: torch.Size([64, 1, 28, 28])\n",
            "outputs shape: torch.Size([64, 784]), inputs shape: torch.Size([64, 1, 28, 28])\n",
            "outputs shape: torch.Size([64, 1, 28, 28]), inputs shape: torch.Size([64, 1, 28, 28])\n",
            "outputs shape: torch.Size([64, 784]), inputs shape: torch.Size([64, 1, 28, 28])\n",
            "outputs shape: torch.Size([64, 1, 28, 28]), inputs shape: torch.Size([64, 1, 28, 28])\n",
            "outputs shape: torch.Size([64, 784]), inputs shape: torch.Size([64, 1, 28, 28])\n",
            "outputs shape: torch.Size([64, 1, 28, 28]), inputs shape: torch.Size([64, 1, 28, 28])\n",
            "outputs shape: torch.Size([64, 784]), inputs shape: torch.Size([64, 1, 28, 28])\n",
            "outputs shape: torch.Size([64, 1, 28, 28]), inputs shape: torch.Size([64, 1, 28, 28])\n",
            "outputs shape: torch.Size([64, 784]), inputs shape: torch.Size([64, 1, 28, 28])\n",
            "outputs shape: torch.Size([64, 1, 28, 28]), inputs shape: torch.Size([64, 1, 28, 28])\n",
            "outputs shape: torch.Size([64, 784]), inputs shape: torch.Size([64, 1, 28, 28])\n",
            "outputs shape: torch.Size([64, 1, 28, 28]), inputs shape: torch.Size([64, 1, 28, 28])\n",
            "outputs shape: torch.Size([64, 784]), inputs shape: torch.Size([64, 1, 28, 28])\n",
            "outputs shape: torch.Size([64, 1, 28, 28]), inputs shape: torch.Size([64, 1, 28, 28])\n",
            "outputs shape: torch.Size([64, 784]), inputs shape: torch.Size([64, 1, 28, 28])\n",
            "outputs shape: torch.Size([64, 1, 28, 28]), inputs shape: torch.Size([64, 1, 28, 28])\n"
          ]
        },
        {
          "output_type": "stream",
          "name": "stderr",
          "text": [
            "Epoch 2:  78%|███████▊  | 731/938 [00:13<00:03, 56.72it/s]"
          ]
        },
        {
          "output_type": "stream",
          "name": "stdout",
          "text": [
            "outputs shape: torch.Size([64, 784]), inputs shape: torch.Size([64, 1, 28, 28])\n",
            "outputs shape: torch.Size([64, 1, 28, 28]), inputs shape: torch.Size([64, 1, 28, 28])\n",
            "outputs shape: torch.Size([64, 784]), inputs shape: torch.Size([64, 1, 28, 28])\n",
            "outputs shape: torch.Size([64, 1, 28, 28]), inputs shape: torch.Size([64, 1, 28, 28])\n",
            "outputs shape: torch.Size([64, 784]), inputs shape: torch.Size([64, 1, 28, 28])\n",
            "outputs shape: torch.Size([64, 1, 28, 28]), inputs shape: torch.Size([64, 1, 28, 28])\n",
            "outputs shape: torch.Size([64, 784]), inputs shape: torch.Size([64, 1, 28, 28])\n",
            "outputs shape: torch.Size([64, 1, 28, 28]), inputs shape: torch.Size([64, 1, 28, 28])\n",
            "outputs shape: torch.Size([64, 784]), inputs shape: torch.Size([64, 1, 28, 28])\n",
            "outputs shape: torch.Size([64, 1, 28, 28]), inputs shape: torch.Size([64, 1, 28, 28])\n",
            "outputs shape: torch.Size([64, 784]), inputs shape: torch.Size([64, 1, 28, 28])\n",
            "outputs shape: torch.Size([64, 1, 28, 28]), inputs shape: torch.Size([64, 1, 28, 28])\n",
            "outputs shape: torch.Size([64, 784]), inputs shape: torch.Size([64, 1, 28, 28])\n",
            "outputs shape: torch.Size([64, 1, 28, 28]), inputs shape: torch.Size([64, 1, 28, 28])\n",
            "outputs shape: torch.Size([64, 784]), inputs shape: torch.Size([64, 1, 28, 28])\n",
            "outputs shape: torch.Size([64, 1, 28, 28]), inputs shape: torch.Size([64, 1, 28, 28])\n",
            "outputs shape: torch.Size([64, 784]), inputs shape: torch.Size([64, 1, 28, 28])\n",
            "outputs shape: torch.Size([64, 1, 28, 28]), inputs shape: torch.Size([64, 1, 28, 28])\n",
            "outputs shape: torch.Size([64, 784]), inputs shape: torch.Size([64, 1, 28, 28])\n",
            "outputs shape: torch.Size([64, 1, 28, 28]), inputs shape: torch.Size([64, 1, 28, 28])\n",
            "outputs shape: torch.Size([64, 784]), inputs shape: torch.Size([64, 1, 28, 28])\n",
            "outputs shape: torch.Size([64, 1, 28, 28]), inputs shape: torch.Size([64, 1, 28, 28])\n",
            "outputs shape: torch.Size([64, 784]), inputs shape: torch.Size([64, 1, 28, 28])\n",
            "outputs shape: torch.Size([64, 1, 28, 28]), inputs shape: torch.Size([64, 1, 28, 28])\n"
          ]
        },
        {
          "output_type": "stream",
          "name": "stderr",
          "text": [
            "Epoch 2:  79%|███████▉  | 743/938 [00:13<00:03, 57.78it/s]"
          ]
        },
        {
          "output_type": "stream",
          "name": "stdout",
          "text": [
            "outputs shape: torch.Size([64, 784]), inputs shape: torch.Size([64, 1, 28, 28])\n",
            "outputs shape: torch.Size([64, 1, 28, 28]), inputs shape: torch.Size([64, 1, 28, 28])\n",
            "outputs shape: torch.Size([64, 784]), inputs shape: torch.Size([64, 1, 28, 28])\n",
            "outputs shape: torch.Size([64, 1, 28, 28]), inputs shape: torch.Size([64, 1, 28, 28])\n",
            "outputs shape: torch.Size([64, 784]), inputs shape: torch.Size([64, 1, 28, 28])\n",
            "outputs shape: torch.Size([64, 1, 28, 28]), inputs shape: torch.Size([64, 1, 28, 28])\n",
            "outputs shape: torch.Size([64, 784]), inputs shape: torch.Size([64, 1, 28, 28])\n",
            "outputs shape: torch.Size([64, 1, 28, 28]), inputs shape: torch.Size([64, 1, 28, 28])\n",
            "outputs shape: torch.Size([64, 784]), inputs shape: torch.Size([64, 1, 28, 28])\n",
            "outputs shape: torch.Size([64, 1, 28, 28]), inputs shape: torch.Size([64, 1, 28, 28])\n",
            "outputs shape: torch.Size([64, 784]), inputs shape: torch.Size([64, 1, 28, 28])\n",
            "outputs shape: torch.Size([64, 1, 28, 28]), inputs shape: torch.Size([64, 1, 28, 28])\n",
            "outputs shape: torch.Size([64, 784]), inputs shape: torch.Size([64, 1, 28, 28])\n",
            "outputs shape: torch.Size([64, 1, 28, 28]), inputs shape: torch.Size([64, 1, 28, 28])\n",
            "outputs shape: torch.Size([64, 784]), inputs shape: torch.Size([64, 1, 28, 28])\n",
            "outputs shape: torch.Size([64, 1, 28, 28]), inputs shape: torch.Size([64, 1, 28, 28])\n",
            "outputs shape: torch.Size([64, 784]), inputs shape: torch.Size([64, 1, 28, 28])\n",
            "outputs shape: torch.Size([64, 1, 28, 28]), inputs shape: torch.Size([64, 1, 28, 28])\n",
            "outputs shape: torch.Size([64, 784]), inputs shape: torch.Size([64, 1, 28, 28])\n",
            "outputs shape: torch.Size([64, 1, 28, 28]), inputs shape: torch.Size([64, 1, 28, 28])\n",
            "outputs shape: torch.Size([64, 784]), inputs shape: torch.Size([64, 1, 28, 28])\n",
            "outputs shape: torch.Size([64, 1, 28, 28]), inputs shape: torch.Size([64, 1, 28, 28])\n",
            "outputs shape: torch.Size([64, 784]), inputs shape: torch.Size([64, 1, 28, 28])\n",
            "outputs shape: torch.Size([64, 1, 28, 28]), inputs shape: torch.Size([64, 1, 28, 28])\n",
            "outputs shape: torch.Size([64, 784]), inputs shape: torch.Size([64, 1, 28, 28])\n",
            "outputs shape: torch.Size([64, 1, 28, 28]), inputs shape: torch.Size([64, 1, 28, 28])"
          ]
        },
        {
          "output_type": "stream",
          "name": "stderr",
          "text": [
            "Epoch 2:  81%|████████  | 756/938 [00:13<00:03, 59.45it/s]"
          ]
        },
        {
          "output_type": "stream",
          "name": "stdout",
          "text": [
            "\n",
            "outputs shape: torch.Size([64, 784]), inputs shape: torch.Size([64, 1, 28, 28])\n",
            "outputs shape: torch.Size([64, 1, 28, 28]), inputs shape: torch.Size([64, 1, 28, 28])\n",
            "outputs shape: torch.Size([64, 784]), inputs shape: torch.Size([64, 1, 28, 28])\n",
            "outputs shape: torch.Size([64, 1, 28, 28]), inputs shape: torch.Size([64, 1, 28, 28])\n",
            "outputs shape: torch.Size([64, 784]), inputs shape: torch.Size([64, 1, 28, 28])\n",
            "outputs shape: torch.Size([64, 1, 28, 28]), inputs shape: torch.Size([64, 1, 28, 28])\n",
            "outputs shape: torch.Size([64, 784]), inputs shape: torch.Size([64, 1, 28, 28])\n",
            "outputs shape: torch.Size([64, 1, 28, 28]), inputs shape: torch.Size([64, 1, 28, 28])\n",
            "outputs shape: torch.Size([64, 784]), inputs shape: torch.Size([64, 1, 28, 28])\n",
            "outputs shape: torch.Size([64, 1, 28, 28]), inputs shape: torch.Size([64, 1, 28, 28])\n",
            "outputs shape: torch.Size([64, 784]), inputs shape: torch.Size([64, 1, 28, 28])\n",
            "outputs shape: torch.Size([64, 1, 28, 28]), inputs shape: torch.Size([64, 1, 28, 28])\n",
            "outputs shape: torch.Size([64, 784]), inputs shape: torch.Size([64, 1, 28, 28])\n",
            "outputs shape: torch.Size([64, 1, 28, 28]), inputs shape: torch.Size([64, 1, 28, 28])\n",
            "outputs shape: torch.Size([64, 784]), inputs shape: torch.Size([64, 1, 28, 28])\n",
            "outputs shape: torch.Size([64, 1, 28, 28]), inputs shape: torch.Size([64, 1, 28, 28])\n",
            "outputs shape: torch.Size([64, 784]), inputs shape: torch.Size([64, 1, 28, 28])\n",
            "outputs shape: torch.Size([64, 1, 28, 28]), inputs shape: torch.Size([64, 1, 28, 28])\n",
            "outputs shape: torch.Size([64, 784]), inputs shape: torch.Size([64, 1, 28, 28])\n",
            "outputs shape: torch.Size([64, 1, 28, 28]), inputs shape: torch.Size([64, 1, 28, 28])\n",
            "outputs shape: torch.Size([64, 784]), inputs shape: torch.Size([64, 1, 28, 28])\n",
            "outputs shape: torch.Size([64, 1, 28, 28]), inputs shape: torch.Size([64, 1, 28, 28])\n"
          ]
        },
        {
          "output_type": "stream",
          "name": "stderr",
          "text": [
            "Epoch 2:  82%|████████▏ | 769/938 [00:14<00:02, 59.58it/s]"
          ]
        },
        {
          "output_type": "stream",
          "name": "stdout",
          "text": [
            "outputs shape: torch.Size([64, 784]), inputs shape: torch.Size([64, 1, 28, 28])\n",
            "outputs shape: torch.Size([64, 1, 28, 28]), inputs shape: torch.Size([64, 1, 28, 28])\n",
            "outputs shape: torch.Size([64, 784]), inputs shape: torch.Size([64, 1, 28, 28])\n",
            "outputs shape: torch.Size([64, 1, 28, 28]), inputs shape: torch.Size([64, 1, 28, 28])\n",
            "outputs shape: torch.Size([64, 784]), inputs shape: torch.Size([64, 1, 28, 28])\n",
            "outputs shape: torch.Size([64, 1, 28, 28]), inputs shape: torch.Size([64, 1, 28, 28])\n",
            "outputs shape: torch.Size([64, 784]), inputs shape: torch.Size([64, 1, 28, 28])\n",
            "outputs shape: torch.Size([64, 1, 28, 28]), inputs shape: torch.Size([64, 1, 28, 28])\n",
            "outputs shape: torch.Size([64, 784]), inputs shape: torch.Size([64, 1, 28, 28])\n",
            "outputs shape: torch.Size([64, 1, 28, 28]), inputs shape: torch.Size([64, 1, 28, 28])\n",
            "outputs shape: torch.Size([64, 784]), inputs shape: torch.Size([64, 1, 28, 28])\n",
            "outputs shape: torch.Size([64, 1, 28, 28]), inputs shape: torch.Size([64, 1, 28, 28])\n",
            "outputs shape: torch.Size([64, 784]), inputs shape: torch.Size([64, 1, 28, 28])\n",
            "outputs shape: torch.Size([64, 1, 28, 28]), inputs shape: torch.Size([64, 1, 28, 28])\n",
            "outputs shape: torch.Size([64, 784]), inputs shape: torch.Size([64, 1, 28, 28])\n",
            "outputs shape: torch.Size([64, 1, 28, 28]), inputs shape: torch.Size([64, 1, 28, 28])\n",
            "outputs shape: torch.Size([64, 784]), inputs shape: torch.Size([64, 1, 28, 28])\n",
            "outputs shape: torch.Size([64, 1, 28, 28]), inputs shape: torch.Size([64, 1, 28, 28])\n",
            "outputs shape: torch.Size([64, 784]), inputs shape: torch.Size([64, 1, 28, 28])\n",
            "outputs shape: torch.Size([64, 1, 28, 28]), inputs shape: torch.Size([64, 1, 28, 28])\n",
            "outputs shape: torch.Size([64, 784]), inputs shape: torch.Size([64, 1, 28, 28])\n",
            "outputs shape: torch.Size([64, 1, 28, 28]), inputs shape: torch.Size([64, 1, 28, 28])\n",
            "outputs shape: torch.Size([64, 784]), inputs shape: torch.Size([64, 1, 28, 28])\n",
            "outputs shape: torch.Size([64, 1, 28, 28]), inputs shape: torch.Size([64, 1, 28, 28])\n",
            "outputs shape: torch.Size([64, 784]), inputs shape: torch.Size([64, 1, 28, 28])\n",
            "outputs shape: torch.Size([64, 1, 28, 28]), inputs shape: torch.Size([64, 1, 28, 28])\n"
          ]
        },
        {
          "output_type": "stream",
          "name": "stderr",
          "text": [
            "Epoch 2:  83%|████████▎ | 782/938 [00:14<00:02, 59.56it/s]"
          ]
        },
        {
          "output_type": "stream",
          "name": "stdout",
          "text": [
            "outputs shape: torch.Size([64, 784]), inputs shape: torch.Size([64, 1, 28, 28])\n",
            "outputs shape: torch.Size([64, 1, 28, 28]), inputs shape: torch.Size([64, 1, 28, 28])\n",
            "outputs shape: torch.Size([64, 784]), inputs shape: torch.Size([64, 1, 28, 28])\n",
            "outputs shape: torch.Size([64, 1, 28, 28]), inputs shape: torch.Size([64, 1, 28, 28])\n",
            "outputs shape: torch.Size([64, 784]), inputs shape: torch.Size([64, 1, 28, 28])\n",
            "outputs shape: torch.Size([64, 1, 28, 28]), inputs shape: torch.Size([64, 1, 28, 28])\n",
            "outputs shape: torch.Size([64, 784]), inputs shape: torch.Size([64, 1, 28, 28])\n",
            "outputs shape: torch.Size([64, 1, 28, 28]), inputs shape: torch.Size([64, 1, 28, 28])\n",
            "outputs shape: torch.Size([64, 784]), inputs shape: torch.Size([64, 1, 28, 28])\n",
            "outputs shape: torch.Size([64, 1, 28, 28]), inputs shape: torch.Size([64, 1, 28, 28])\n",
            "outputs shape: torch.Size([64, 784]), inputs shape: torch.Size([64, 1, 28, 28])\n",
            "outputs shape: torch.Size([64, 1, 28, 28]), inputs shape: torch.Size([64, 1, 28, 28])\n",
            "outputs shape: torch.Size([64, 784]), inputs shape: torch.Size([64, 1, 28, 28])\n",
            "outputs shape: torch.Size([64, 1, 28, 28]), inputs shape: torch.Size([64, 1, 28, 28])\n",
            "outputs shape: torch.Size([64, 784]), inputs shape: torch.Size([64, 1, 28, 28])\n",
            "outputs shape: torch.Size([64, 1, 28, 28]), inputs shape: torch.Size([64, 1, 28, 28])\n",
            "outputs shape: torch.Size([64, 784]), inputs shape: torch.Size([64, 1, 28, 28])\n",
            "outputs shape: torch.Size([64, 1, 28, 28]), inputs shape: torch.Size([64, 1, 28, 28])\n",
            "outputs shape: torch.Size([64, 784]), inputs shape: torch.Size([64, 1, 28, 28])\n",
            "outputs shape: torch.Size([64, 1, 28, 28]), inputs shape: torch.Size([64, 1, 28, 28])\n",
            "outputs shape: torch.Size([64, 784]), inputs shape: torch.Size([64, 1, 28, 28])\n",
            "outputs shape: torch.Size([64, 1, 28, 28]), inputs shape: torch.Size([64, 1, 28, 28])\n",
            "outputs shape: torch.Size([64, 784]), inputs shape: torch.Size([64, 1, 28, 28])\n",
            "outputs shape: torch.Size([64, 1, 28, 28]), inputs shape: torch.Size([64, 1, 28, 28])\n"
          ]
        },
        {
          "output_type": "stream",
          "name": "stderr",
          "text": [
            "Epoch 2:  85%|████████▍ | 795/938 [00:14<00:02, 58.71it/s]"
          ]
        },
        {
          "output_type": "stream",
          "name": "stdout",
          "text": [
            "outputs shape: torch.Size([64, 784]), inputs shape: torch.Size([64, 1, 28, 28])\n",
            "outputs shape: torch.Size([64, 1, 28, 28]), inputs shape: torch.Size([64, 1, 28, 28])\n",
            "outputs shape: torch.Size([64, 784]), inputs shape: torch.Size([64, 1, 28, 28])\n",
            "outputs shape: torch.Size([64, 1, 28, 28]), inputs shape: torch.Size([64, 1, 28, 28])\n",
            "outputs shape: torch.Size([64, 784]), inputs shape: torch.Size([64, 1, 28, 28])\n",
            "outputs shape: torch.Size([64, 1, 28, 28]), inputs shape: torch.Size([64, 1, 28, 28])\n",
            "outputs shape: torch.Size([64, 784]), inputs shape: torch.Size([64, 1, 28, 28])\n",
            "outputs shape: torch.Size([64, 1, 28, 28]), inputs shape: torch.Size([64, 1, 28, 28])\n",
            "outputs shape: torch.Size([64, 784]), inputs shape: torch.Size([64, 1, 28, 28])\n",
            "outputs shape: torch.Size([64, 1, 28, 28]), inputs shape: torch.Size([64, 1, 28, 28])\n",
            "outputs shape: torch.Size([64, 784]), inputs shape: torch.Size([64, 1, 28, 28])\n",
            "outputs shape: torch.Size([64, 1, 28, 28]), inputs shape: torch.Size([64, 1, 28, 28])\n",
            "outputs shape: torch.Size([64, 784]), inputs shape: torch.Size([64, 1, 28, 28])\n",
            "outputs shape: torch.Size([64, 1, 28, 28]), inputs shape: torch.Size([64, 1, 28, 28])\n",
            "outputs shape: torch.Size([64, 784]), inputs shape: torch.Size([64, 1, 28, 28])\n",
            "outputs shape: torch.Size([64, 1, 28, 28]), inputs shape: torch.Size([64, 1, 28, 28])\n",
            "outputs shape: torch.Size([64, 784]), inputs shape: torch.Size([64, 1, 28, 28])\n",
            "outputs shape: torch.Size([64, 1, 28, 28]), inputs shape: torch.Size([64, 1, 28, 28])\n",
            "outputs shape: torch.Size([64, 784]), inputs shape: torch.Size([64, 1, 28, 28])\n",
            "outputs shape: torch.Size([64, 1, 28, 28]), inputs shape: torch.Size([64, 1, 28, 28])\n",
            "outputs shape: torch.Size([64, 784]), inputs shape: torch.Size([64, 1, 28, 28])\n",
            "outputs shape: torch.Size([64, 1, 28, 28]), inputs shape: torch.Size([64, 1, 28, 28])\n",
            "outputs shape: torch.Size([64, 784]), inputs shape: torch.Size([64, 1, 28, 28])\n",
            "outputs shape: torch.Size([64, 1, 28, 28]), inputs shape: torch.Size([64, 1, 28, 28])\n",
            "outputs shape: torch.Size([64, 784]), inputs shape: torch.Size([64, 1, 28, 28])\n",
            "outputs shape: torch.Size([64, 1, 28, 28]), inputs shape: torch.Size([64, 1, 28, 28])\n"
          ]
        },
        {
          "output_type": "stream",
          "name": "stderr",
          "text": [
            "Epoch 2:  86%|████████▌ | 808/938 [00:14<00:02, 60.56it/s]"
          ]
        },
        {
          "output_type": "stream",
          "name": "stdout",
          "text": [
            "outputs shape: torch.Size([64, 784]), inputs shape: torch.Size([64, 1, 28, 28])\n",
            "outputs shape: torch.Size([64, 1, 28, 28]), inputs shape: torch.Size([64, 1, 28, 28])\n",
            "outputs shape: torch.Size([64, 784]), inputs shape: torch.Size([64, 1, 28, 28])\n",
            "outputs shape: torch.Size([64, 1, 28, 28]), inputs shape: torch.Size([64, 1, 28, 28])\n",
            "outputs shape: torch.Size([64, 784]), inputs shape: torch.Size([64, 1, 28, 28])\n",
            "outputs shape: torch.Size([64, 1, 28, 28]), inputs shape: torch.Size([64, 1, 28, 28])\n",
            "loss: 0.2603624165058136\n",
            "outputs shape: torch.Size([64, 784]), inputs shape: torch.Size([64, 1, 28, 28])\n",
            "outputs shape: torch.Size([64, 1, 28, 28]), inputs shape: torch.Size([64, 1, 28, 28])\n",
            "outputs shape: torch.Size([64, 784]), inputs shape: torch.Size([64, 1, 28, 28])\n",
            "outputs shape: torch.Size([64, 1, 28, 28]), inputs shape: torch.Size([64, 1, 28, 28])\n",
            "outputs shape: torch.Size([64, 784]), inputs shape: torch.Size([64, 1, 28, 28])\n",
            "outputs shape: torch.Size([64, 1, 28, 28]), inputs shape: torch.Size([64, 1, 28, 28])\n",
            "outputs shape: torch.Size([64, 784]), inputs shape: torch.Size([64, 1, 28, 28])\n",
            "outputs shape: torch.Size([64, 1, 28, 28]), inputs shape: torch.Size([64, 1, 28, 28])\n",
            "outputs shape: torch.Size([64, 784]), inputs shape: torch.Size([64, 1, 28, 28])\n",
            "outputs shape: torch.Size([64, 1, 28, 28]), inputs shape: torch.Size([64, 1, 28, 28])\n",
            "outputs shape: torch.Size([64, 784]), inputs shape: torch.Size([64, 1, 28, 28])\n",
            "outputs shape: torch.Size([64, 1, 28, 28]), inputs shape: torch.Size([64, 1, 28, 28])\n",
            "outputs shape: torch.Size([64, 784]), inputs shape: torch.Size([64, 1, 28, 28])\n",
            "outputs shape: torch.Size([64, 1, 28, 28]), inputs shape: torch.Size([64, 1, 28, 28])\n",
            "outputs shape: torch.Size([64, 784]), inputs shape: torch.Size([64, 1, 28, 28])\n",
            "outputs shape: torch.Size([64, 1, 28, 28]), inputs shape: torch.Size([64, 1, 28, 28])\n",
            "outputs shape: torch.Size([64, 784]), inputs shape: torch.Size([64, 1, 28, 28])\n",
            "outputs shape: torch.Size([64, 1, 28, 28]), inputs shape: torch.Size([64, 1, 28, 28])\n",
            "outputs shape: torch.Size([64, 784]), inputs shape: torch.Size([64, 1, 28, 28])\n",
            "outputs shape: torch.Size([64, 1, 28, 28]), inputs shape: torch.Size([64, 1, 28, 28])\n"
          ]
        },
        {
          "output_type": "stream",
          "name": "stderr",
          "text": [
            "\rEpoch 2:  87%|████████▋ | 815/938 [00:14<00:02, 61.03it/s]"
          ]
        },
        {
          "output_type": "stream",
          "name": "stdout",
          "text": [
            "outputs shape: torch.Size([64, 784]), inputs shape: torch.Size([64, 1, 28, 28])\n",
            "outputs shape: torch.Size([64, 1, 28, 28]), inputs shape: torch.Size([64, 1, 28, 28])\n",
            "outputs shape: torch.Size([64, 784]), inputs shape: torch.Size([64, 1, 28, 28])\n",
            "outputs shape: torch.Size([64, 1, 28, 28]), inputs shape: torch.Size([64, 1, 28, 28])\n",
            "outputs shape: torch.Size([64, 784]), inputs shape: torch.Size([64, 1, 28, 28])\n",
            "outputs shape: torch.Size([64, 1, 28, 28]), inputs shape: torch.Size([64, 1, 28, 28])\n",
            "outputs shape: torch.Size([64, 784]), inputs shape: torch.Size([64, 1, 28, 28])\n",
            "outputs shape: torch.Size([64, 1, 28, 28]), inputs shape: torch.Size([64, 1, 28, 28])\n",
            "outputs shape: torch.Size([64, 784]), inputs shape: torch.Size([64, 1, 28, 28])\n",
            "outputs shape: torch.Size([64, 1, 28, 28]), inputs shape: torch.Size([64, 1, 28, 28])\n",
            "outputs shape: torch.Size([64, 784]), inputs shape: torch.Size([64, 1, 28, 28])\n",
            "outputs shape: torch.Size([64, 1, 28, 28]), inputs shape: torch.Size([64, 1, 28, 28])\n",
            "outputs shape: torch.Size([64, 784]), inputs shape: torch.Size([64, 1, 28, 28])\n",
            "outputs shape: torch.Size([64, 1, 28, 28]), inputs shape: torch.Size([64, 1, 28, 28])\n",
            "outputs shape: torch.Size([64, 784]), inputs shape: torch.Size([64, 1, 28, 28])\n",
            "outputs shape: torch.Size([64, 1, 28, 28]), inputs shape: torch.Size([64, 1, 28, 28])\n",
            "outputs shape: torch.Size([64, 784]), inputs shape: torch.Size([64, 1, 28, 28])\n",
            "outputs shape: torch.Size([64, 1, 28, 28]), inputs shape: torch.Size([64, 1, 28, 28])\n",
            "outputs shape: torch.Size([64, 784]), inputs shape: torch.Size([64, 1, 28, 28])\n",
            "outputs shape: torch.Size([64, 1, 28, 28]), inputs shape: torch.Size([64, 1, 28, 28])\n"
          ]
        },
        {
          "output_type": "stream",
          "name": "stderr",
          "text": [
            "Epoch 2:  88%|████████▊ | 828/938 [00:15<00:02, 49.50it/s]"
          ]
        },
        {
          "output_type": "stream",
          "name": "stdout",
          "text": [
            "outputs shape: torch.Size([64, 784]), inputs shape: torch.Size([64, 1, 28, 28])\n",
            "outputs shape: torch.Size([64, 1, 28, 28]), inputs shape: torch.Size([64, 1, 28, 28])\n",
            "outputs shape: torch.Size([64, 784]), inputs shape: torch.Size([64, 1, 28, 28])\n",
            "outputs shape: torch.Size([64, 1, 28, 28]), inputs shape: torch.Size([64, 1, 28, 28])\n",
            "outputs shape: torch.Size([64, 784]), inputs shape: torch.Size([64, 1, 28, 28])\n",
            "outputs shape: torch.Size([64, 1, 28, 28]), inputs shape: torch.Size([64, 1, 28, 28])\n",
            "outputs shape: torch.Size([64, 784]), inputs shape: torch.Size([64, 1, 28, 28])\n",
            "outputs shape: torch.Size([64, 1, 28, 28]), inputs shape: torch.Size([64, 1, 28, 28])\n",
            "outputs shape: torch.Size([64, 784]), inputs shape: torch.Size([64, 1, 28, 28])\n",
            "outputs shape: torch.Size([64, 1, 28, 28]), inputs shape: torch.Size([64, 1, 28, 28])\n",
            "outputs shape: torch.Size([64, 784]), inputs shape: torch.Size([64, 1, 28, 28])\n",
            "outputs shape: torch.Size([64, 1, 28, 28]), inputs shape: torch.Size([64, 1, 28, 28])\n",
            "outputs shape: torch.Size([64, 784]), inputs shape: torch.Size([64, 1, 28, 28])\n",
            "outputs shape: torch.Size([64, 1, 28, 28]), inputs shape: torch.Size([64, 1, 28, 28])\n",
            "outputs shape: torch.Size([64, 784]), inputs shape: torch.Size([64, 1, 28, 28])\n",
            "outputs shape: torch.Size([64, 1, 28, 28]), inputs shape: torch.Size([64, 1, 28, 28])\n",
            "outputs shape: torch.Size([64, 784]), inputs shape: torch.Size([64, 1, 28, 28])\n",
            "outputs shape: torch.Size([64, 1, 28, 28]), inputs shape: torch.Size([64, 1, 28, 28])\n"
          ]
        },
        {
          "output_type": "stream",
          "name": "stderr",
          "text": [
            "\rEpoch 2:  89%|████████▉ | 834/938 [00:15<00:02, 46.16it/s]"
          ]
        },
        {
          "output_type": "stream",
          "name": "stdout",
          "text": [
            "outputs shape: torch.Size([64, 784]), inputs shape: torch.Size([64, 1, 28, 28])\n",
            "outputs shape: torch.Size([64, 1, 28, 28]), inputs shape: torch.Size([64, 1, 28, 28])\n",
            "outputs shape: torch.Size([64, 784]), inputs shape: torch.Size([64, 1, 28, 28])\n",
            "outputs shape: torch.Size([64, 1, 28, 28]), inputs shape: torch.Size([64, 1, 28, 28])\n",
            "outputs shape: torch.Size([64, 784]), inputs shape: torch.Size([64, 1, 28, 28])\n",
            "outputs shape: torch.Size([64, 1, 28, 28]), inputs shape: torch.Size([64, 1, 28, 28])\n",
            "outputs shape: torch.Size([64, 784]), inputs shape: torch.Size([64, 1, 28, 28])\n",
            "outputs shape: torch.Size([64, 1, 28, 28]), inputs shape: torch.Size([64, 1, 28, 28])\n",
            "outputs shape: torch.Size([64, 784]), inputs shape: torch.Size([64, 1, 28, 28])\n",
            "outputs shape: torch.Size([64, 1, 28, 28]), inputs shape: torch.Size([64, 1, 28, 28])\n",
            "outputs shape: torch.Size([64, 784]), inputs shape: torch.Size([64, 1, 28, 28])\n",
            "outputs shape: torch.Size([64, 1, 28, 28]), inputs shape: torch.Size([64, 1, 28, 28])\n",
            "outputs shape: torch.Size([64, 784]), inputs shape: torch.Size([64, 1, 28, 28])\n",
            "outputs shape: torch.Size([64, 1, 28, 28]), inputs shape: torch.Size([64, 1, 28, 28])\n",
            "outputs shape: torch.Size([64, 784]), inputs shape: torch.Size([64, 1, 28, 28])\n",
            "outputs shape: torch.Size([64, 1, 28, 28]), inputs shape: torch.Size([64, 1, 28, 28])\n"
          ]
        },
        {
          "output_type": "stream",
          "name": "stderr",
          "text": [
            "Epoch 2:  90%|████████▉ | 844/938 [00:15<00:02, 43.91it/s]"
          ]
        },
        {
          "output_type": "stream",
          "name": "stdout",
          "text": [
            "outputs shape: torch.Size([64, 784]), inputs shape: torch.Size([64, 1, 28, 28])\n",
            "outputs shape: torch.Size([64, 1, 28, 28]), inputs shape: torch.Size([64, 1, 28, 28])\n",
            "outputs shape: torch.Size([64, 784]), inputs shape: torch.Size([64, 1, 28, 28])\n",
            "outputs shape: torch.Size([64, 1, 28, 28]), inputs shape: torch.Size([64, 1, 28, 28])\n",
            "outputs shape: torch.Size([64, 784]), inputs shape: torch.Size([64, 1, 28, 28])\n",
            "outputs shape: torch.Size([64, 1, 28, 28]), inputs shape: torch.Size([64, 1, 28, 28])\n",
            "outputs shape: torch.Size([64, 784]), inputs shape: torch.Size([64, 1, 28, 28])\n",
            "outputs shape: torch.Size([64, 1, 28, 28]), inputs shape: torch.Size([64, 1, 28, 28])\n",
            "outputs shape: torch.Size([64, 784]), inputs shape: torch.Size([64, 1, 28, 28])\n",
            "outputs shape: torch.Size([64, 1, 28, 28]), inputs shape: torch.Size([64, 1, 28, 28])\n",
            "outputs shape: torch.Size([64, 784]), inputs shape: torch.Size([64, 1, 28, 28])\n",
            "outputs shape: torch.Size([64, 1, 28, 28]), inputs shape: torch.Size([64, 1, 28, 28])\n",
            "outputs shape: torch.Size([64, 784]), inputs shape: torch.Size([64, 1, 28, 28])\n",
            "outputs shape: torch.Size([64, 1, 28, 28]), inputs shape: torch.Size([64, 1, 28, 28])\n",
            "outputs shape: torch.Size([64, 784]), inputs shape: torch.Size([64, 1, 28, 28])\n",
            "outputs shape: torch.Size([64, 1, 28, 28]), inputs shape: torch.Size([64, 1, 28, 28])\n",
            "outputs shape: torch.Size([64, 784]), inputs shape: torch.Size([64, 1, 28, 28])\n",
            "outputs shape: torch.Size([64, 1, 28, 28]), inputs shape: torch.Size([64, 1, 28, 28])\n",
            "outputs shape: torch.Size([64, 784]), inputs shape: torch.Size([64, 1, 28, 28])\n"
          ]
        },
        {
          "output_type": "stream",
          "name": "stderr",
          "text": [
            "Epoch 2:  91%|█████████ | 854/938 [00:15<00:01, 43.29it/s]"
          ]
        },
        {
          "output_type": "stream",
          "name": "stdout",
          "text": [
            "outputs shape: torch.Size([64, 1, 28, 28]), inputs shape: torch.Size([64, 1, 28, 28])\n",
            "outputs shape: torch.Size([64, 784]), inputs shape: torch.Size([64, 1, 28, 28])\n",
            "outputs shape: torch.Size([64, 1, 28, 28]), inputs shape: torch.Size([64, 1, 28, 28])\n",
            "outputs shape: torch.Size([64, 784]), inputs shape: torch.Size([64, 1, 28, 28])\n",
            "outputs shape: torch.Size([64, 1, 28, 28]), inputs shape: torch.Size([64, 1, 28, 28])\n",
            "outputs shape: torch.Size([64, 784]), inputs shape: torch.Size([64, 1, 28, 28])\n",
            "outputs shape: torch.Size([64, 1, 28, 28]), inputs shape: torch.Size([64, 1, 28, 28])\n",
            "outputs shape: torch.Size([64, 784]), inputs shape: torch.Size([64, 1, 28, 28])\n",
            "outputs shape: torch.Size([64, 1, 28, 28]), inputs shape: torch.Size([64, 1, 28, 28])\n",
            "outputs shape: torch.Size([64, 784]), inputs shape: torch.Size([64, 1, 28, 28])\n",
            "outputs shape: torch.Size([64, 1, 28, 28]), inputs shape: torch.Size([64, 1, 28, 28])\n",
            "outputs shape: torch.Size([64, 784]), inputs shape: torch.Size([64, 1, 28, 28])\n",
            "outputs shape: torch.Size([64, 1, 28, 28]), inputs shape: torch.Size([64, 1, 28, 28])\n",
            "outputs shape: torch.Size([64, 784]), inputs shape: torch.Size([64, 1, 28, 28])\n",
            "outputs shape: torch.Size([64, 1, 28, 28]), inputs shape: torch.Size([64, 1, 28, 28])\n",
            "outputs shape: torch.Size([64, 784]), inputs shape: torch.Size([64, 1, 28, 28])\n",
            "outputs shape: torch.Size([64, 1, 28, 28]), inputs shape: torch.Size([64, 1, 28, 28])\n"
          ]
        },
        {
          "output_type": "stream",
          "name": "stderr",
          "text": [
            "\rEpoch 2:  92%|█████████▏| 859/938 [00:16<00:01, 43.00it/s]"
          ]
        },
        {
          "output_type": "stream",
          "name": "stdout",
          "text": [
            "outputs shape: torch.Size([64, 784]), inputs shape: torch.Size([64, 1, 28, 28])\n",
            "outputs shape: torch.Size([64, 1, 28, 28]), inputs shape: torch.Size([64, 1, 28, 28])\n",
            "outputs shape: torch.Size([64, 784]), inputs shape: torch.Size([64, 1, 28, 28])\n",
            "outputs shape: torch.Size([64, 1, 28, 28]), inputs shape: torch.Size([64, 1, 28, 28])\n",
            "outputs shape: torch.Size([64, 784]), inputs shape: torch.Size([64, 1, 28, 28])\n",
            "outputs shape: torch.Size([64, 1, 28, 28]), inputs shape: torch.Size([64, 1, 28, 28])\n",
            "outputs shape: torch.Size([64, 784]), inputs shape: torch.Size([64, 1, 28, 28])\n",
            "outputs shape: torch.Size([64, 1, 28, 28]), inputs shape: torch.Size([64, 1, 28, 28])\n",
            "outputs shape: torch.Size([64, 784]), inputs shape: torch.Size([64, 1, 28, 28])\n",
            "outputs shape: torch.Size([64, 1, 28, 28]), inputs shape: torch.Size([64, 1, 28, 28])\n",
            "outputs shape: torch.Size([64, 784]), inputs shape: torch.Size([64, 1, 28, 28])\n",
            "outputs shape: torch.Size([64, 1, 28, 28]), inputs shape: torch.Size([64, 1, 28, 28])\n",
            "outputs shape: torch.Size([64, 784]), inputs shape: torch.Size([64, 1, 28, 28])\n",
            "outputs shape: torch.Size([64, 1, 28, 28]), inputs shape: torch.Size([64, 1, 28, 28])\n",
            "outputs shape: torch.Size([64, 784]), inputs shape: torch.Size([64, 1, 28, 28])\n",
            "outputs shape: torch.Size([64, 1, 28, 28]), inputs shape: torch.Size([64, 1, 28, 28])\n",
            "outputs shape: torch.Size([64, 784]), inputs shape: torch.Size([64, 1, 28, 28])\n",
            "outputs shape: torch.Size([64, 1, 28, 28]), inputs shape: torch.Size([64, 1, 28, 28])\n"
          ]
        },
        {
          "output_type": "stream",
          "name": "stderr",
          "text": [
            "Epoch 2:  93%|█████████▎| 869/938 [00:16<00:01, 39.61it/s]"
          ]
        },
        {
          "output_type": "stream",
          "name": "stdout",
          "text": [
            "outputs shape: torch.Size([64, 784]), inputs shape: torch.Size([64, 1, 28, 28])\n",
            "outputs shape: torch.Size([64, 1, 28, 28]), inputs shape: torch.Size([64, 1, 28, 28])\n",
            "outputs shape: torch.Size([64, 784]), inputs shape: torch.Size([64, 1, 28, 28])\n",
            "outputs shape: torch.Size([64, 1, 28, 28]), inputs shape: torch.Size([64, 1, 28, 28])\n",
            "outputs shape: torch.Size([64, 784]), inputs shape: torch.Size([64, 1, 28, 28])\n",
            "outputs shape: torch.Size([64, 1, 28, 28]), inputs shape: torch.Size([64, 1, 28, 28])\n",
            "outputs shape: torch.Size([64, 784]), inputs shape: torch.Size([64, 1, 28, 28])\n",
            "outputs shape: torch.Size([64, 1, 28, 28]), inputs shape: torch.Size([64, 1, 28, 28])\n",
            "outputs shape: torch.Size([64, 784]), inputs shape: torch.Size([64, 1, 28, 28])\n",
            "outputs shape: torch.Size([64, 1, 28, 28]), inputs shape: torch.Size([64, 1, 28, 28])\n",
            "outputs shape: torch.Size([64, 784]), inputs shape: torch.Size([64, 1, 28, 28])\n",
            "outputs shape: torch.Size([64, 1, 28, 28]), inputs shape: torch.Size([64, 1, 28, 28])\n",
            "outputs shape: torch.Size([64, 784]), inputs shape: torch.Size([64, 1, 28, 28])\n",
            "outputs shape: torch.Size([64, 1, 28, 28]), inputs shape: torch.Size([64, 1, 28, 28])\n",
            "outputs shape: torch.Size([64, 784]), inputs shape: torch.Size([64, 1, 28, 28])\n",
            "outputs shape: torch.Size([64, 1, 28, 28]), inputs shape: torch.Size([64, 1, 28, 28])\n",
            "outputs shape: torch.Size([64, 784]), inputs shape: torch.Size([64, 1, 28, 28])\n",
            "outputs shape: torch.Size([64, 1, 28, 28]), inputs shape: torch.Size([64, 1, 28, 28])\n"
          ]
        },
        {
          "output_type": "stream",
          "name": "stderr",
          "text": [
            "Epoch 2:  94%|█████████▎| 879/938 [00:16<00:01, 40.58it/s]"
          ]
        },
        {
          "output_type": "stream",
          "name": "stdout",
          "text": [
            "outputs shape: torch.Size([64, 784]), inputs shape: torch.Size([64, 1, 28, 28])\n",
            "outputs shape: torch.Size([64, 1, 28, 28]), inputs shape: torch.Size([64, 1, 28, 28])\n",
            "outputs shape: torch.Size([64, 784]), inputs shape: torch.Size([64, 1, 28, 28])\n",
            "outputs shape: torch.Size([64, 1, 28, 28]), inputs shape: torch.Size([64, 1, 28, 28])\n",
            "outputs shape: torch.Size([64, 784]), inputs shape: torch.Size([64, 1, 28, 28])\n",
            "outputs shape: torch.Size([64, 1, 28, 28]), inputs shape: torch.Size([64, 1, 28, 28])\n",
            "outputs shape: torch.Size([64, 784]), inputs shape: torch.Size([64, 1, 28, 28])\n",
            "outputs shape: torch.Size([64, 1, 28, 28]), inputs shape: torch.Size([64, 1, 28, 28])\n",
            "outputs shape: torch.Size([64, 784]), inputs shape: torch.Size([64, 1, 28, 28])\n",
            "outputs shape: torch.Size([64, 1, 28, 28]), inputs shape: torch.Size([64, 1, 28, 28])\n",
            "outputs shape: torch.Size([64, 784]), inputs shape: torch.Size([64, 1, 28, 28])\n",
            "outputs shape: torch.Size([64, 1, 28, 28]), inputs shape: torch.Size([64, 1, 28, 28])\n",
            "outputs shape: torch.Size([64, 784]), inputs shape: torch.Size([64, 1, 28, 28])\n",
            "outputs shape: torch.Size([64, 1, 28, 28]), inputs shape: torch.Size([64, 1, 28, 28])\n",
            "outputs shape: torch.Size([64, 784]), inputs shape: torch.Size([64, 1, 28, 28])\n",
            "outputs shape: torch.Size([64, 1, 28, 28]), inputs shape: torch.Size([64, 1, 28, 28])\n",
            "outputs shape: torch.Size([64, 784]), inputs shape: torch.Size([64, 1, 28, 28])\n",
            "outputs shape: torch.Size([64, 1, 28, 28]), inputs shape: torch.Size([64, 1, 28, 28])\n"
          ]
        },
        {
          "output_type": "stream",
          "name": "stderr",
          "text": [
            "Epoch 2:  95%|█████████▍| 889/938 [00:16<00:01, 43.18it/s]"
          ]
        },
        {
          "output_type": "stream",
          "name": "stdout",
          "text": [
            "outputs shape: torch.Size([64, 784]), inputs shape: torch.Size([64, 1, 28, 28])\n",
            "outputs shape: torch.Size([64, 1, 28, 28]), inputs shape: torch.Size([64, 1, 28, 28])\n",
            "outputs shape: torch.Size([64, 784]), inputs shape: torch.Size([64, 1, 28, 28])\n",
            "outputs shape: torch.Size([64, 1, 28, 28]), inputs shape: torch.Size([64, 1, 28, 28])\n",
            "outputs shape: torch.Size([64, 784]), inputs shape: torch.Size([64, 1, 28, 28])\n",
            "outputs shape: torch.Size([64, 1, 28, 28]), inputs shape: torch.Size([64, 1, 28, 28])\n",
            "outputs shape: torch.Size([64, 784]), inputs shape: torch.Size([64, 1, 28, 28])\n",
            "outputs shape: torch.Size([64, 1, 28, 28]), inputs shape: torch.Size([64, 1, 28, 28])\n",
            "outputs shape: torch.Size([64, 784]), inputs shape: torch.Size([64, 1, 28, 28])\n",
            "outputs shape: torch.Size([64, 1, 28, 28]), inputs shape: torch.Size([64, 1, 28, 28])\n",
            "outputs shape: torch.Size([64, 784]), inputs shape: torch.Size([64, 1, 28, 28])\n",
            "outputs shape: torch.Size([64, 1, 28, 28]), inputs shape: torch.Size([64, 1, 28, 28])\n",
            "outputs shape: torch.Size([64, 784]), inputs shape: torch.Size([64, 1, 28, 28])\n",
            "outputs shape: torch.Size([64, 1, 28, 28]), inputs shape: torch.Size([64, 1, 28, 28])\n",
            "outputs shape: torch.Size([64, 784]), inputs shape: torch.Size([64, 1, 28, 28])\n",
            "outputs shape: torch.Size([64, 1, 28, 28]), inputs shape: torch.Size([64, 1, 28, 28])\n",
            "outputs shape: torch.Size([64, 784]), inputs shape: torch.Size([64, 1, 28, 28])\n",
            "outputs shape: torch.Size([64, 1, 28, 28]), inputs shape: torch.Size([64, 1, 28, 28])\n",
            "outputs shape: torch.Size([64, 784]), inputs shape: torch.Size([64, 1, 28, 28])\n",
            "outputs shape: torch.Size([64, 1, 28, 28]), inputs shape: torch.Size([64, 1, 28, 28])\n"
          ]
        },
        {
          "output_type": "stream",
          "name": "stderr",
          "text": [
            "Epoch 2:  96%|█████████▌| 899/938 [00:16<00:00, 45.27it/s]"
          ]
        },
        {
          "output_type": "stream",
          "name": "stdout",
          "text": [
            "outputs shape: torch.Size([64, 784]), inputs shape: torch.Size([64, 1, 28, 28])\n",
            "outputs shape: torch.Size([64, 1, 28, 28]), inputs shape: torch.Size([64, 1, 28, 28])\n",
            "outputs shape: torch.Size([64, 784]), inputs shape: torch.Size([64, 1, 28, 28])\n",
            "outputs shape: torch.Size([64, 1, 28, 28]), inputs shape: torch.Size([64, 1, 28, 28])\n",
            "outputs shape: torch.Size([64, 784]), inputs shape: torch.Size([64, 1, 28, 28])\n",
            "outputs shape: torch.Size([64, 1, 28, 28]), inputs shape: torch.Size([64, 1, 28, 28])\n",
            "outputs shape: torch.Size([64, 784]), inputs shape: torch.Size([64, 1, 28, 28])\n",
            "outputs shape: torch.Size([64, 1, 28, 28]), inputs shape: torch.Size([64, 1, 28, 28])\n",
            "outputs shape: torch.Size([64, 784]), inputs shape: torch.Size([64, 1, 28, 28])\n",
            "outputs shape: torch.Size([64, 1, 28, 28]), inputs shape: torch.Size([64, 1, 28, 28])\n",
            "outputs shape: torch.Size([64, 784]), inputs shape: torch.Size([64, 1, 28, 28])\n",
            "outputs shape: torch.Size([64, 1, 28, 28]), inputs shape: torch.Size([64, 1, 28, 28])\n",
            "outputs shape: torch.Size([64, 784]), inputs shape: torch.Size([64, 1, 28, 28])\n",
            "outputs shape: torch.Size([64, 1, 28, 28]), inputs shape: torch.Size([64, 1, 28, 28])\n",
            "outputs shape: torch.Size([64, 784]), inputs shape: torch.Size([64, 1, 28, 28])\n",
            "outputs shape: torch.Size([64, 1, 28, 28]), inputs shape: torch.Size([64, 1, 28, 28])\n",
            "loss: 0.24931512773036957\n",
            "outputs shape: torch.Size([64, 784]), inputs shape: torch.Size([64, 1, 28, 28])\n",
            "outputs shape: torch.Size([64, 1, 28, 28]), inputs shape: torch.Size([64, 1, 28, 28])\n",
            "outputs shape: torch.Size([64, 784]), inputs shape: torch.Size([64, 1, 28, 28])\n",
            "outputs shape: torch.Size([64, 1, 28, 28]), inputs shape: torch.Size([64, 1, 28, 28])\n"
          ]
        },
        {
          "output_type": "stream",
          "name": "stderr",
          "text": [
            "Epoch 2:  97%|█████████▋| 909/938 [00:17<00:00, 43.39it/s]"
          ]
        },
        {
          "output_type": "stream",
          "name": "stdout",
          "text": [
            "outputs shape: torch.Size([64, 784]), inputs shape: torch.Size([64, 1, 28, 28])\n",
            "outputs shape: torch.Size([64, 1, 28, 28]), inputs shape: torch.Size([64, 1, 28, 28])\n",
            "outputs shape: torch.Size([64, 784]), inputs shape: torch.Size([64, 1, 28, 28])\n",
            "outputs shape: torch.Size([64, 1, 28, 28]), inputs shape: torch.Size([64, 1, 28, 28])\n",
            "outputs shape: torch.Size([64, 784]), inputs shape: torch.Size([64, 1, 28, 28])\n",
            "outputs shape: torch.Size([64, 1, 28, 28]), inputs shape: torch.Size([64, 1, 28, 28])\n",
            "outputs shape: torch.Size([64, 784]), inputs shape: torch.Size([64, 1, 28, 28])\n",
            "outputs shape: torch.Size([64, 1, 28, 28]), inputs shape: torch.Size([64, 1, 28, 28])\n",
            "outputs shape: torch.Size([64, 784]), inputs shape: torch.Size([64, 1, 28, 28])\n",
            "outputs shape: torch.Size([64, 1, 28, 28]), inputs shape: torch.Size([64, 1, 28, 28])\n",
            "outputs shape: torch.Size([64, 784]), inputs shape: torch.Size([64, 1, 28, 28])\n",
            "outputs shape: torch.Size([64, 1, 28, 28]), inputs shape: torch.Size([64, 1, 28, 28])\n",
            "outputs shape: torch.Size([64, 784]), inputs shape: torch.Size([64, 1, 28, 28])\n",
            "outputs shape: torch.Size([64, 1, 28, 28]), inputs shape: torch.Size([64, 1, 28, 28])\n",
            "outputs shape: torch.Size([64, 784]), inputs shape: torch.Size([64, 1, 28, 28])\n",
            "outputs shape: torch.Size([64, 1, 28, 28]), inputs shape: torch.Size([64, 1, 28, 28])\n",
            "outputs shape: torch.Size([64, 784]), inputs shape: torch.Size([64, 1, 28, 28])\n",
            "outputs shape: torch.Size([64, 1, 28, 28]), inputs shape: torch.Size([64, 1, 28, 28])\n"
          ]
        },
        {
          "output_type": "stream",
          "name": "stderr",
          "text": [
            "Epoch 2:  98%|█████████▊| 919/938 [00:17<00:00, 42.69it/s]"
          ]
        },
        {
          "output_type": "stream",
          "name": "stdout",
          "text": [
            "outputs shape: torch.Size([64, 784]), inputs shape: torch.Size([64, 1, 28, 28])\n",
            "outputs shape: torch.Size([64, 1, 28, 28]), inputs shape: torch.Size([64, 1, 28, 28])\n",
            "outputs shape: torch.Size([64, 784]), inputs shape: torch.Size([64, 1, 28, 28])\n",
            "outputs shape: torch.Size([64, 1, 28, 28]), inputs shape: torch.Size([64, 1, 28, 28])\n",
            "outputs shape: torch.Size([64, 784]), inputs shape: torch.Size([64, 1, 28, 28])\n",
            "outputs shape: torch.Size([64, 1, 28, 28]), inputs shape: torch.Size([64, 1, 28, 28])\n",
            "outputs shape: torch.Size([64, 784]), inputs shape: torch.Size([64, 1, 28, 28])\n",
            "outputs shape: torch.Size([64, 1, 28, 28]), inputs shape: torch.Size([64, 1, 28, 28])\n",
            "outputs shape: torch.Size([64, 784]), inputs shape: torch.Size([64, 1, 28, 28])\n",
            "outputs shape: torch.Size([64, 1, 28, 28]), inputs shape: torch.Size([64, 1, 28, 28])\n",
            "outputs shape: torch.Size([64, 784]), inputs shape: torch.Size([64, 1, 28, 28])\n",
            "outputs shape: torch.Size([64, 1, 28, 28]), inputs shape: torch.Size([64, 1, 28, 28])\n",
            "outputs shape: torch.Size([64, 784]), inputs shape: torch.Size([64, 1, 28, 28])\n",
            "outputs shape: torch.Size([64, 1, 28, 28]), inputs shape: torch.Size([64, 1, 28, 28])\n",
            "outputs shape: torch.Size([64, 784]), inputs shape: torch.Size([64, 1, 28, 28])\n",
            "outputs shape: torch.Size([64, 1, 28, 28]), inputs shape: torch.Size([64, 1, 28, 28])\n",
            "outputs shape: torch.Size([64, 784]), inputs shape: torch.Size([64, 1, 28, 28])\n",
            "outputs shape: torch.Size([64, 1, 28, 28]), inputs shape: torch.Size([64, 1, 28, 28])\n"
          ]
        },
        {
          "output_type": "stream",
          "name": "stderr",
          "text": [
            "\rEpoch 2:  99%|█████████▊| 924/938 [00:17<00:00, 40.42it/s]"
          ]
        },
        {
          "output_type": "stream",
          "name": "stdout",
          "text": [
            "outputs shape: torch.Size([64, 784]), inputs shape: torch.Size([64, 1, 28, 28])\n",
            "outputs shape: torch.Size([64, 1, 28, 28]), inputs shape: torch.Size([64, 1, 28, 28])\n",
            "outputs shape: torch.Size([64, 784]), inputs shape: torch.Size([64, 1, 28, 28])\n",
            "outputs shape: torch.Size([64, 1, 28, 28]), inputs shape: torch.Size([64, 1, 28, 28])\n",
            "outputs shape: torch.Size([64, 784]), inputs shape: torch.Size([64, 1, 28, 28])\n",
            "outputs shape: torch.Size([64, 1, 28, 28]), inputs shape: torch.Size([64, 1, 28, 28])\n",
            "outputs shape: torch.Size([64, 784]), inputs shape: torch.Size([64, 1, 28, 28])\n",
            "outputs shape: torch.Size([64, 1, 28, 28]), inputs shape: torch.Size([64, 1, 28, 28])\n",
            "outputs shape: torch.Size([64, 784]), inputs shape: torch.Size([64, 1, 28, 28])\n",
            "outputs shape: torch.Size([64, 1, 28, 28]), inputs shape: torch.Size([64, 1, 28, 28])\n",
            "outputs shape: torch.Size([64, 784]), inputs shape: torch.Size([64, 1, 28, 28])\n",
            "outputs shape: torch.Size([64, 1, 28, 28]), inputs shape: torch.Size([64, 1, 28, 28])\n",
            "outputs shape: torch.Size([64, 784]), inputs shape: torch.Size([64, 1, 28, 28])\n",
            "outputs shape: torch.Size([64, 1, 28, 28]), inputs shape: torch.Size([64, 1, 28, 28])\n",
            "outputs shape: torch.Size([64, 784]), inputs shape: torch.Size([64, 1, 28, 28])\n",
            "outputs shape: torch.Size([64, 1, 28, 28]), inputs shape: torch.Size([64, 1, 28, 28])\n"
          ]
        },
        {
          "output_type": "stream",
          "name": "stderr",
          "text": [
            "Epoch 2: 100%|█████████▉| 934/938 [00:17<00:00, 41.45it/s]"
          ]
        },
        {
          "output_type": "stream",
          "name": "stdout",
          "text": [
            "outputs shape: torch.Size([64, 784]), inputs shape: torch.Size([64, 1, 28, 28])\n",
            "outputs shape: torch.Size([64, 1, 28, 28]), inputs shape: torch.Size([64, 1, 28, 28])\n",
            "outputs shape: torch.Size([64, 784]), inputs shape: torch.Size([64, 1, 28, 28])\n",
            "outputs shape: torch.Size([64, 1, 28, 28]), inputs shape: torch.Size([64, 1, 28, 28])\n",
            "outputs shape: torch.Size([64, 784]), inputs shape: torch.Size([64, 1, 28, 28])\n",
            "outputs shape: torch.Size([64, 1, 28, 28]), inputs shape: torch.Size([64, 1, 28, 28])\n",
            "outputs shape: torch.Size([64, 784]), inputs shape: torch.Size([64, 1, 28, 28])\n",
            "outputs shape: torch.Size([64, 1, 28, 28]), inputs shape: torch.Size([64, 1, 28, 28])\n",
            "outputs shape: torch.Size([64, 784]), inputs shape: torch.Size([64, 1, 28, 28])\n",
            "outputs shape: torch.Size([64, 1, 28, 28]), inputs shape: torch.Size([64, 1, 28, 28])\n",
            "outputs shape: torch.Size([64, 784]), inputs shape: torch.Size([64, 1, 28, 28])\n",
            "outputs shape: torch.Size([64, 1, 28, 28]), inputs shape: torch.Size([64, 1, 28, 28])\n",
            "outputs shape: torch.Size([64, 784]), inputs shape: torch.Size([64, 1, 28, 28])\n",
            "outputs shape: torch.Size([64, 1, 28, 28]), inputs shape: torch.Size([64, 1, 28, 28])\n",
            "outputs shape: torch.Size([64, 784]), inputs shape: torch.Size([64, 1, 28, 28])\n",
            "outputs shape: torch.Size([64, 1, 28, 28]), inputs shape: torch.Size([64, 1, 28, 28])\n",
            "outputs shape: torch.Size([64, 784]), inputs shape: torch.Size([64, 1, 28, 28])"
          ]
        },
        {
          "output_type": "stream",
          "name": "stderr",
          "text": [
            "\rEpoch 2: 100%|██████████| 938/938 [00:17<00:00, 52.22it/s]\n"
          ]
        },
        {
          "output_type": "stream",
          "name": "stdout",
          "text": [
            "\n",
            "outputs shape: torch.Size([64, 1, 28, 28]), inputs shape: torch.Size([64, 1, 28, 28])\n",
            "outputs shape: torch.Size([32, 784]), inputs shape: torch.Size([32, 1, 28, 28])\n",
            "outputs shape: torch.Size([32, 1, 28, 28]), inputs shape: torch.Size([32, 1, 28, 28])\n"
          ]
        },
        {
          "output_type": "display_data",
          "data": {
            "text/plain": [
              "<Figure size 1000x500 with 1 Axes>"
            ],
            "image/png": "[encoded data removed]"
          },
          "metadata": {}
        }
      ],
      "source": [
        "train_loader = DataLoader(train_dataset, batch_size=64, shuffle=False)\n",
        "\n",
        "# Lists to store loss values for plotting\n",
        "train_losses = []\n",
        "\n",
        "# Training Loop\n",
        "for epoch in range(2):\n",
        "    model.train()\n",
        "    for i, (inputs, _) in enumerate(tqdm(train_loader, desc=f\"Epoch {epoch + 1}\")):\n",
        "        #chanel dimension to match the output shape\n",
        "        inputs = inputs.unsqueeze(1)\n",
        "\n",
        "        outputs = model(inputs)\n",
        "        #compare the reconstructed output to input\n",
        "        #loss = criterion(outputs.reshape_as(inputs), inputs)\n",
        "\n",
        "        #check shapes\n",
        "        print(f'outputs shape: {outputs.shape}, inputs shape: {inputs.shape}')\n",
        "\n",
        "        #outputs shape: torch.Size([64, 784]), inputs shape: torch.Size([64, 28, 28]) and that makes the two not match\n",
        "        #reshape the output to match the input\n",
        "        outputs=outputs.view(-1,1,28,28)\n",
        "\n",
        "        #print the reshaped output size\n",
        "        print(f'outputs shape: {outputs.shape}, inputs shape: {inputs.shape}')\n",
        "\n",
        "\n",
        "        loss = criterion(outputs, inputs)\n",
        "        #reset the gradient of the model param to zero\n",
        "        optimizer.zero_grad()\n",
        "        loss.backward()\n",
        "        optimizer.step()\n",
        "\n",
        "        train_losses.append(loss.item()) # Store loss for plotting\n",
        "        if (i + 1) % 100 == 0:\n",
        "            print(f\"loss: {loss.item()}\")\n",
        "\n",
        "\n",
        "# Plotting the loss\n",
        "plt.figure(figsize=(10, 5))\n",
        "plt.plot(train_losses, label='Training Loss')\n",
        "plt.xlabel('Iteration')\n",
        "plt.ylabel('Loss')\n",
        "plt.title('Training Loss Curve')\n",
        "plt.legend()\n",
        "plt.grid(True)\n",
        "plt.show()"
      ]
    },
    {
      "cell_type": "code",
      "execution_count": 38,
      "metadata": {
        "id": "HFDY_Xm5-iNm"
      },
      "outputs": [],
      "source": [
        "test_loader = DataLoader(test_dataset, batch_size=64, shuffle=False)\n",
        "model.eval()\n",
        "test_inputs = []\n",
        "test_outputs = []\n",
        "for inputs, _ in test_loader:\n",
        "    outputs = model(inputs)\n",
        "    test_inputs.append(inputs.detach().cpu().numpy())\n",
        "    test_outputs.append(outputs.reshape_as(inputs).detach().cpu().numpy())"
      ]
    },
    {
      "cell_type": "code",
      "execution_count": 39,
      "metadata": {
        "id": "EOkcT4qBLHdm"
      },
      "outputs": [],
      "source": [
        "# DO NOT MODIFY\n",
        "# Convert lists of tensors to numpy arrays\n",
        "test_inputs = np.concatenate(test_inputs)\n",
        "test_outputs = np.concatenate(test_outputs)"
      ]
    },
    {
      "cell_type": "code",
      "execution_count": 40,
      "metadata": {
        "id": "bzwptrUfImXw",
        "colab": {
          "base_uri": "https://localhost:8080/",
          "height": 1000
        },
        "outputId": "186bef98-ae38-40bd-dc7b-58843247581b"
      },
      "outputs": [
        {
          "output_type": "display_data",
          "data": {
            "text/plain": [
              "<Figure size 600x300 with 2 Axes>"
            ],
            "image/png": "[encoded data removed]"
          },
          "metadata": {}
        },
        {
          "output_type": "display_data",
          "data": {
            "text/plain": [
              "<Figure size 600x300 with 2 Axes>"
            ],
            "image/png": "[encoded data removed]"
          },
          "metadata": {}
        },
        {
          "output_type": "display_data",
          "data": {
            "text/plain": [
              "<Figure size 600x300 with 2 Axes>"
            ],
            "image/png": "[encoded data removed]"
          },
          "metadata": {}
        },
        {
          "output_type": "display_data",
          "data": {
            "text/plain": [
              "<Figure size 600x300 with 2 Axes>"
            ],
            "image/png": "[encoded data removed]"
          },
          "metadata": {}
        },
        {
          "output_type": "display_data",
          "data": {
            "text/plain": [
              "<Figure size 600x300 with 2 Axes>"
            ],
            "image/png": "[encoded data removed]"
          },
          "metadata": {}
        }
      ],
      "source": [
        "# DO NOT MODIFY\n",
        "num_images = 5\n",
        "\n",
        "for i in range(num_images):\n",
        "    plt.figure(figsize=(6, 3))\n",
        "\n",
        "    # Original image\n",
        "    plt.subplot(1, 2, 1)\n",
        "    plt.imshow(test_inputs[i, :, :], cmap=\"gray\")\n",
        "    plt.title(\"Original Image\")\n",
        "\n",
        "    # Reconstructed image\n",
        "    plt.subplot(1, 2, 2)\n",
        "    plt.imshow(test_outputs[i, :, :], cmap=\"gray\")\n",
        "    plt.title(\"Reconstructed Image\")\n",
        "\n",
        "    plt.show()"
      ]
    },
    {
      "cell_type": "markdown",
      "metadata": {
        "id": "sCfXJYZ00Cqz"
      },
      "source": [
        "## Summary\n",
        "*Briefly summarize your work for section 1 here*\n",
        "\n",
        "The first bug that catches my attention was the loss function during the model building.I had to change it to BCE as it works well with sigmoid activation.\n",
        "\n",
        "Second bug was the reconstruction and the comparison, that was changed to fit output vs inputs.\n",
        "\n",
        "By changing this, I encountered errors around value missmatch which was literatlly shapes of the output and the inputs. I tried debugging by printing the shapes of the output and the input.\n",
        "\n",
        "In addition, I had to work around the input shape as well by using the unsqueeze to make sure the input shape aligns well with that of the output.\n",
        "\n",
        "Comments were added to the codes and previous codes were commented out\n"
      ]
    },
    {
      "cell_type": "markdown",
      "metadata": {
        "id": "KpvR0T2gEKQs",
        "tags": []
      },
      "source": [
        "# Section 2 - Improve the model"
      ]
    },
    {
      "cell_type": "markdown",
      "metadata": {
        "id": "Z1VvN1AlkKhZ"
      },
      "source": [
        " *This section is more open-ended and less like the previous section.*\n",
        "\n",
        " **Expected time on this section: 30 minutes**<br>\n",
        "**Maximum time on this section: 45 minutes**<br>\n",
        "\n",
        " In this section, you have to improve the model's performance by making changes to the training code to reduce the validation loss further. You are free to write your own autoencoder implementation in the AdvancedAutoencoder class, or use the same implementation from above.\n",
        "Don't constraint yourself in this section! There are many ways to improve performance and you should feel free to try creative solutions. If the validation loss and corresponding visualization looks good to you, you can move to section 3 (and come back later to optimize the loss further if you want). If you are not able to achieve sufficiently low loss, then use our provided weights for section 3, otherwise use your own model. We provided a helper function for you to check if your validation loss is lower than the loss with our provided model's weights.\n",
        "\n",
        " Note:\n",
        " - We have written code to check the forward pass of your model doesn't exceed 0.05 seconds on a single batch. Make sure this condition is always satisfied.\n",
        " - You also need to implement your own `random_split` function.\n",
        " - One obvious thing one might do is to make the latent space dimension equal to the input dimension to achieve perfect zero loss. But this is not an autoencoder as it is not compressing the information. So latent space dimension should be fixed (=32) and should be not be \"tuned\".\n",
        "\n",
        " Also, feel free to reuse the code from previous section to get started."
      ]
    },
    {
      "cell_type": "code",
      "execution_count": 67,
      "metadata": {
        "id": "5Asz67uwD-So"
      },
      "outputs": [],
      "source": [
        "class AdvancedAutoencoder(nn.Module):\n",
        "  def __init__(self, latent_dim=32):\n",
        "    \"\"\"Make sure encoder compresses the image to a 32-dimensional latent vector.\"\"\"\n",
        "    super(AdvancedAutoencoder, self).__init__()\n",
        "\n",
        "    #Encoder\n",
        "    self.encoder = nn.Sequential(\n",
        "        nn.Flatten(),\n",
        "        nn.Linear(28 * 28, 128),\n",
        "        nn.ReLU(),\n",
        "        nn.Linear(128, 64),\n",
        "        nn.ReLU(),\n",
        "        nn.Linear(64, latent_dim)\n",
        "    )\n",
        "\n",
        "    #decoder\n",
        "    self.decoder = nn.Sequential(\n",
        "        nn.Linear(latent_dim, 64),\n",
        "        nn.ReLU(),\n",
        "        nn.Linear(64, 128),\n",
        "        nn.ReLU(),\n",
        "        nn.Linear(128, 28 * 28),\n",
        "        nn.Sigmoid(),\n",
        "        nn.Unflatten(1, (28, 28))\n",
        "    )\n",
        "\n",
        "\n",
        "  def forward(self, x):\n",
        "    x = self.encoder(x)\n",
        "    x = self.decoder(x)\n",
        "    return x"
      ]
    },
    {
      "cell_type": "code",
      "execution_count": 68,
      "metadata": {
        "id": "H_cMnqInExF-",
        "colab": {
          "base_uri": "https://localhost:8080/"
        },
        "outputId": "417a2e5b-3a92-4438-a23f-6129542cdbbe"
      },
      "outputs": [
        {
          "output_type": "stream",
          "name": "stdout",
          "text": [
            "Forward pass took 0.00209260 seconds\n"
          ]
        }
      ],
      "source": [
        "# DO NOT MODIFY\n",
        "model = AdvancedAutoencoder()\n",
        "max_allowed_time = 0.05  # seconds\n",
        "\n",
        "# Measure time for the forward pass\n",
        "i, (inputs, _) = next(enumerate(train_loader))\n",
        "start_time = time.time()\n",
        "output = model(inputs)\n",
        "end_time = time.time()\n",
        "\n",
        "# Measure once again, time for the forward pass\n",
        "i, (inputs, _) = next(enumerate(train_loader))\n",
        "start_time = time.time()\n",
        "output = model(inputs)\n",
        "end_time = time.time()\n",
        "\n",
        "elapsed_time = end_time - start_time\n",
        "\n",
        "# Assert the time constraint\n",
        "assert elapsed_time <= max_allowed_time, f\"Forward pass exceeded time limit! Took {elapsed_time:.8f} seconds\"\n",
        "print(f\"Forward pass took {elapsed_time:.8f} seconds\")"
      ]
    },
    {
      "cell_type": "code",
      "execution_count": 69,
      "metadata": {
        "id": "zX9lFUN0HM3f"
      },
      "outputs": [],
      "source": [
        "def random_split(dataset, lengths):\n",
        "  '''\n",
        "  TODO: Implement this function from scratch using torch/numpy operations.\n",
        "  Splits randomly a given dataset into two datasets,\n",
        "  consisting of the specified lengths.\n",
        "  '''\n",
        "  if sum(lengths) != len(dataset):\n",
        "    raise ValueError(\"Sum of lengths must be equal to the length of the dataset\")\n",
        "\n",
        "  #randomly shuffle indices\n",
        "  indices = torch.randperm(len(dataset)).tolist()\n",
        "\n",
        "  #split into two dataset\n",
        "  split1_indices = indices[:lengths[0]]\n",
        "  split2_indices = indices[lengths[0]:]\n",
        "\n",
        "  return torch.utils.data.Subset(dataset, split1_indices), torch.utils.data.Subset(dataset, split2_indices)\n",
        "  #return torch.utils.data.random_split(dataset, lengths)"
      ]
    },
    {
      "cell_type": "code",
      "execution_count": 70,
      "metadata": {
        "id": "XqskePqoLBe7"
      },
      "outputs": [],
      "source": [
        "# Calculate split sizes\n",
        "train_size = int(0.8 * len(train_dataset))\n",
        "val_size = len(train_dataset) - train_size\n",
        "\n",
        "# Split the dataset\n",
        "train_subset, val_subset = random_split(train_dataset, [train_size, val_size])\n",
        "\n",
        "# Create DataLoaders\n",
        "train_loader = DataLoader(train_subset, batch_size=64, shuffle=True)\n",
        "val_loader = DataLoader(val_subset, batch_size=64, shuffle=False)"
      ]
    },
    {
      "cell_type": "code",
      "source": [
        "# TODO: train your model and calculate validation loss (val_loss)\n",
        "def train_autoencoder(model,train_loader,val_loader,num_epoch=10,learning_rate=0.001):\n",
        "  criterion = nn.BCELoss()\n",
        "  optimizer = optim.Adam(model.parameters(), lr=learning_rate)\n",
        "  train_losses = []\n",
        "  val_losses = []\n",
        "  for epoch in range(num_epoch):\n",
        "\n",
        "    #training\n",
        "    model.train()\n",
        "    train_loss=0\n",
        "    for batch in train_loader:\n",
        "      inputs = batch[0]\n",
        "      #inputs = inputs.unsqueeze(1)\n",
        "      outputs = model(inputs)\n",
        "      loss = criterion(outputs, inputs)\n",
        "      optimizer.zero_grad()\n",
        "      loss.backward()\n",
        "      optimizer.step()\n",
        "      train_loss += loss.item()\n",
        "      train_loss/=len(train_loader)\n",
        "    #validation\n",
        "    model.eval()\n",
        "    val_loss=0\n",
        "    with torch.no_grad():\n",
        "      for batch in val_loader:\n",
        "        inputs = batch[0]\n",
        "        #inputs = inputs.unsqueeze(1)\n",
        "        outputs = model(inputs)\n",
        "        loss = criterion(outputs, inputs)\n",
        "        val_loss += loss.item()\n",
        "        val_loss/=len(val_loader)\n",
        "    train_losses.append(train_loss)\n",
        "    val_losses.append(val_loss)\n",
        "  return val_loss"
      ],
      "metadata": {
        "id": "Y1V5N-dwwLt_"
      },
      "execution_count": 71,
      "outputs": []
    },
    {
      "cell_type": "code",
      "execution_count": 72,
      "metadata": {
        "id": "ur1udoXsEGDU"
      },
      "outputs": [],
      "source": [
        "# DO NOT MODIFY\n",
        "def check_loss_lower_than_reference_loss(your_val_loss)  -> bool:\n",
        "  reference_loss = 0.0927\n",
        "  assert your_val_loss < reference_loss, \"Your validation loss is higher than our pretrained model's loss\""
      ]
    },
    {
      "cell_type": "code",
      "execution_count": 73,
      "metadata": {
        "id": "EYfybNWUOSY3"
      },
      "outputs": [],
      "source": [
        "# TODO: verify your loss is lower than our reference loss\n",
        "#check_loss_lower_than_reference_loss(None)"
      ]
    },
    {
      "cell_type": "code",
      "source": [
        "if __name__==\"__main__\":\n",
        "\n",
        "  # Load train and test datasets with correct paths\n",
        "  train_dataset = torch.load('data/mnist_dataset_train.pt')\n",
        "  test_dataset = torch.load('data/mnist_dataset_test.pt')\n",
        "  train_dataset.transform = toTensor\n",
        "  test_dataset.transform = toTensor\n",
        "\n",
        "  # Calculate split sizes\n",
        "  train_size = int(0.8 * len(train_dataset))\n",
        "  val_size = len(train_dataset) - train_size\n",
        "\n",
        "  # Split the dataset using random_split\n",
        "  train_subset, val_subset = random_split(train_dataset, [train_size, val_size])\n",
        "\n",
        "  # Create DataLoaders using the subsets\n",
        "  train_loader = DataLoader(train_subset, batch_size=64, shuffle=True)\n",
        "  val_loader = DataLoader(val_subset, batch_size=64, shuffle=False)\n",
        "\n",
        "  model = AdvancedAutoencoder()\n",
        "  val_loss = train_autoencoder(model,train_loader,val_loader)\n",
        "  print(f\"Validation Loss: {val_loss}\")\n",
        "  check_loss_lower_than_reference_loss(val_loss)"
      ],
      "metadata": {
        "colab": {
          "base_uri": "https://localhost:8080/"
        },
        "id": "ywM-4mFvwQe5",
        "outputId": "c5ff30e7-926e-4e86-9889-2e00e304dd36"
      },
      "execution_count": 74,
      "outputs": [
        {
          "output_type": "stream",
          "name": "stderr",
          "text": [
            "<ipython-input-74-f5b19574e794>:4: FutureWarning: You are using `torch.load` with `weights_only=False` (the current default value), which uses the default pickle module implicitly. It is possible to construct malicious pickle data which will execute arbitrary code during unpickling (See https://github.com/pytorch/pytorch/blob/main/SECURITY.md#untrusted-models for more details). In a future release, the default value for `weights_only` will be flipped to `True`. This limits the functions that could be executed during unpickling. Arbitrary objects will no longer be allowed to be loaded via this mode unless they are explicitly allowlisted by the user via `torch.serialization.add_safe_globals`. We recommend you start setting `weights_only=True` for any use case where you don't have full control of the loaded file. Please open an issue on GitHub for any issues related to this experimental feature.\n",
            "  train_dataset = torch.load('data/mnist_dataset_train.pt')\n",
            "<ipython-input-74-f5b19574e794>:5: FutureWarning: You are using `torch.load` with `weights_only=False` (the current default value), which uses the default pickle module implicitly. It is possible to construct malicious pickle data which will execute arbitrary code during unpickling (See https://github.com/pytorch/pytorch/blob/main/SECURITY.md#untrusted-models for more details). In a future release, the default value for `weights_only` will be flipped to `True`. This limits the functions that could be executed during unpickling. Arbitrary objects will no longer be allowed to be loaded via this mode unless they are explicitly allowlisted by the user via `torch.serialization.add_safe_globals`. We recommend you start setting `weights_only=True` for any use case where you don't have full control of the loaded file. Please open an issue on GitHub for any issues related to this experimental feature.\n",
            "  test_dataset = torch.load('data/mnist_dataset_test.pt')\n"
          ]
        },
        {
          "output_type": "stream",
          "name": "stdout",
          "text": [
            "Validation Loss: 0.000560450456496517\n"
          ]
        }
      ]
    },
    {
      "cell_type": "code",
      "source": [
        "print(check_loss_lower_than_reference_loss(val_loss))"
      ],
      "metadata": {
        "colab": {
          "base_uri": "https://localhost:8080/"
        },
        "id": "78U3EieKxWCF",
        "outputId": "7c808cd2-bd0c-4849-ee96-058c9b147036"
      },
      "execution_count": 76,
      "outputs": [
        {
          "output_type": "stream",
          "name": "stdout",
          "text": [
            "None\n"
          ]
        }
      ]
    },
    {
      "cell_type": "code",
      "source": [
        "test_loader = DataLoader(test_dataset, batch_size=64, shuffle=False)\n",
        "model.eval()\n",
        "test_inputs = []\n",
        "test_outputs = []\n",
        "for inputs, _ in test_loader:\n",
        "    outputs = model(inputs)\n",
        "    test_inputs.append(inputs.detach().cpu().numpy())\n",
        "    test_outputs.append(outputs.reshape_as(inputs).detach().cpu().numpy())"
      ],
      "metadata": {
        "id": "v1H_lM_sx5w1"
      },
      "execution_count": 77,
      "outputs": []
    },
    {
      "cell_type": "code",
      "source": [
        "# DO NOT MODIFY\n",
        "# Convert lists of tensors to numpy arrays\n",
        "test_inputs = np.concatenate(test_inputs)\n",
        "test_outputs = np.concatenate(test_outputs)"
      ],
      "metadata": {
        "id": "ZN1Z3yEAx-8h"
      },
      "execution_count": 78,
      "outputs": []
    },
    {
      "cell_type": "code",
      "source": [
        "# DO NOT MODIFY\n",
        "num_images = 5\n",
        "\n",
        "for i in range(num_images):\n",
        "    plt.figure(figsize=(6, 3))\n",
        "\n",
        "    # Original image\n",
        "    plt.subplot(1, 2, 1)\n",
        "    plt.imshow(test_inputs[i, :, :], cmap=\"gray\")\n",
        "    plt.title(\"Original Image\")\n",
        "\n",
        "    # Reconstructed image\n",
        "    plt.subplot(1, 2, 2)\n",
        "    plt.imshow(test_outputs[i, :, :], cmap=\"gray\")\n",
        "    plt.title(\"Reconstructed Image\")\n",
        "\n",
        "    plt.show()"
      ],
      "metadata": {
        "colab": {
          "base_uri": "https://localhost:8080/",
          "height": 1000
        },
        "id": "SLD73zYkyCz8",
        "outputId": "c810b604-de6b-46e1-bc0a-3b792be7fcef"
      },
      "execution_count": 79,
      "outputs": [
        {
          "output_type": "display_data",
          "data": {
            "text/plain": [
              "<Figure size 600x300 with 2 Axes>"
            ],
            "image/png": "[encoded data removed]"
          },
          "metadata": {}
        },
        {
          "output_type": "display_data",
          "data": {
            "text/plain": [
              "<Figure size 600x300 with 2 Axes>"
            ],
            "image/png": "[encoded data removed]"
          },
          "metadata": {}
        },
        {
          "output_type": "display_data",
          "data": {
            "text/plain": [
              "<Figure size 600x300 with 2 Axes>"
            ],
            "image/png": "[encoded data removed]"
          },
          "metadata": {}
        },
        {
          "output_type": "display_data",
          "data": {
            "text/plain": [
              "<Figure size 600x300 with 2 Axes>"
            ],
            "image/png": "[encoded data removed]"
          },
          "metadata": {}
        },
        {
          "output_type": "display_data",
          "data": {
            "text/plain": [
              "<Figure size 600x300 with 2 Axes>"
            ],
            "image/png": "[encoded data removed]"
          },
          "metadata": {}
        }
      ]
    },
    {
      "cell_type": "markdown",
      "metadata": {
        "id": "942E7DnI0Cq3"
      },
      "source": [
        "## Summary\n",
        "*Briefly summarize your work for section 2 here, including things you have tried but have not worked*\n",
        "\n",
        "I have just tried out an architecture for the decoder and encoder. However, the data set provided which was earlier used needed some rework especially as I will need to use the split function created. Different parameters have been tried as at the time of trying. I can suggest using a grid searchCv to carry out hyperparameter tuning but I have limitation in time.\n",
        "\n",
        "I got validation loss of 0.00056 which is lower. I copied code from the previous exerxise to test and see and it looks better\n"
      ]
    },
    {
      "cell_type": "code",
      "source": [
        "#save the model from the second exercise\n",
        "\n",
        "torch.save(model.state_dict(), 'advanced_autoencoder_model.pth')\n",
        "print(\"model weights is saved\")\n"
      ],
      "metadata": {
        "colab": {
          "base_uri": "https://localhost:8080/"
        },
        "id": "sc-QCViyy5xF",
        "outputId": "322b1ee5-956c-477c-e0be-8b0c7a8e50bf"
      },
      "execution_count": 82,
      "outputs": [
        {
          "output_type": "stream",
          "name": "stdout",
          "text": [
            "model weights is saved\n"
          ]
        }
      ]
    },
    {
      "cell_type": "markdown",
      "metadata": {
        "id": "9SkgaQkiENKj"
      },
      "source": [
        "# Section 3 - Generate images from the autoencoder"
      ]
    },
    {
      "cell_type": "markdown",
      "metadata": {
        "id": "0pHC3L9YpaT5"
      },
      "source": [
        "In the final section, you will use your trained model from the previous section (or our pre-trained model, if you weren't able to complete the previous section) to sample images of hand-written digits given a digit in [0-9]. Specifically, you will implement the function `generate_image_from_digit(x: int, n_samples: int) -> NDArray[np.float32]` that returns an image. This function should sample images by sampling appropriate points in the $D_{latent}$-sized latent space and using the decoder to generate a new image for the digit. Every call to the function with the same digit should produce a different image.\n",
        "\n",
        "**Expected time on this section: 30 minutes**<br>\n",
        "**Maximum time on this section: 45 minutes**"
      ]
    },
    {
      "cell_type": "code",
      "execution_count": 84,
      "metadata": {
        "id": "5UiblNKjESOL"
      },
      "outputs": [],
      "source": [
        "# You should use the below pretrained model, if you weren't able to complete the previous section well.\n",
        "\n",
        "# model = load_pretrained_model()"
      ]
    },
    {
      "cell_type": "code",
      "execution_count": 85,
      "metadata": {
        "id": "6qsjSzEfsUuB"
      },
      "outputs": [],
      "source": [
        "def generate_image_from_digit(digit: int, n_samples: int) -> NDArray[np.float32]:\n",
        "  \"\"\"\n",
        "  Returns an RGB MNIST image (with values between [0, 255]) as a 3D NumPy array of dtype float32.\n",
        "  \"\"\"\n",
        "  assert digit <= 9  and digit >= 0, \"Digit must be between 0 and 9\"\n",
        "  # TODO: Write your implementation here\n",
        "  return np.zeros((28, 28, 3), dtype=np.float32)"
      ]
    },
    {
      "cell_type": "code",
      "source": [
        "def visualise_images(digit, n_samples):\n",
        "  generated_images = generate_image_from_digit(digit, n_samples)\n",
        "  for i in range(n_samples):\n",
        "      plt.subplot(1, n_samples, i + 1)\n",
        "      plt.imshow(generated_images[i], cmap='gray')\n",
        "      plt.axis('off')\n",
        "\n",
        "  plt.show()\n",
        "\n",
        "for digit in range(10):\n",
        "  visualise_images(digit, 2)"
      ],
      "metadata": {
        "id": "tVqo6a5k1SXh"
      },
      "execution_count": null,
      "outputs": []
    },
    {
      "cell_type": "code",
      "execution_count": 87,
      "metadata": {
        "id": "KD19G9l1EAC0"
      },
      "outputs": [],
      "source": [
        "def check_generator_produces_different_images(digit):\n",
        "    generated_images = [generate_image_from_digit(digit, 1) for _ in range(2)]\n",
        "    return not torch.allclose(torch.from_numpy(generated_images[0]), torch.from_numpy(generated_images[1]))"
      ]
    },
    {
      "cell_type": "code",
      "source": [
        "for digit in range(10):\n",
        "  assert check_generator_produces_different_images(digit), \"Generator must be able to produce different images for the same digit\""
      ],
      "metadata": {
        "id": "wP3rf_CL1PiE"
      },
      "execution_count": null,
      "outputs": []
    },
    {
      "cell_type": "markdown",
      "metadata": {
        "id": "o9QqIeLE0Cq5"
      },
      "source": [
        "## Summary\n",
        "*Briefly summarize your work for section 3 here*"
      ]
    },
    {
      "cell_type": "code",
      "execution_count": null,
      "metadata": {
        "id": "iVoJ3sQc0Cq5"
      },
      "outputs": [],
      "source": []
    }
  ],
  "metadata": {
    "colab": {
      "provenance": []
    },
    "kernelspec": {
      "display_name": "Python 3 (ipykernel)",
      "language": "python",
      "name": "python3"
    },
    "language_info": {
      "codemirror_mode": {
        "name": "ipython",
        "version": 3
      },
      "file_extension": ".py",
      "mimetype": "text/x-python",
      "name": "python",
      "nbconvert_exporter": "python",
      "pygments_lexer": "ipython3",
      "version": "3.10.8"
    },
    "toc-autonumbering": false
  },
  "nbformat": 4,
  "nbformat_minor": 0
}