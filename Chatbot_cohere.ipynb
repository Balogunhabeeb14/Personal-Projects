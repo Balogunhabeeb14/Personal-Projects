{
  "nbformat": 4,
  "nbformat_minor": 0,
  "metadata": {
    "colab": {
      "provenance": [],
      "authorship_tag": "ABX9TyPC+AYxl3VqRBEijcqFRnSy",
      "include_colab_link": true
    },
    "kernelspec": {
      "name": "python3",
      "display_name": "Python 3"
    },
    "language_info": {
      "name": "python"
    }
  },
  "cells": [
    {
      "cell_type": "markdown",
      "metadata": {
        "id": "view-in-github",
        "colab_type": "text"
      },
      "source": [
        "<a href=\"https://colab.research.google.com/github/Balogunhabeeb14/Personal-Projects/blob/main/Chatbot_cohere.ipynb\" target=\"_parent\"><img src=\"https://colab.research.google.com/assets/colab-badge.svg\" alt=\"Open In Colab\"/></a>"
      ]
    },
    {
      "cell_type": "markdown",
      "source": [
        "## Building a Chatbot with Cohere\n",
        "As its name implies, the Chat endpoint enables developers to build chatbots that can handle conversations. At the core of a conversation is a multi-turn dialog between the user and the chatbot. This requires the chatbot to have the state (or “memory”) of all the previous turns to maintain the state of the conversation.\n",
        "\n",
        "In this tutorial, you’ll learn about:\n",
        "\n",
        "Creating a custom preamble\n",
        "Creating a single-turn conversation\n",
        "Building the conversation memory\n",
        "Running a multi-turn conversation\n",
        "Viewing the chat history"
      ],
      "metadata": {
        "id": "qwDS1q4k3dk_"
      }
    },
    {
      "cell_type": "code",
      "execution_count": 16,
      "metadata": {
        "id": "zOEEBoFFy5vq"
      },
      "outputs": [],
      "source": [
        "# pip install cohere\n",
        "\n",
        "import cohere as co\n",
        "import json\n",
        "\n",
        "co = co.ClientV2(api_key=\"3fJGACfpLna5D6dt5YVKz90GUmMuv5HKAPmOtZ1K\",log_warning_experimental_features=False) # Get your free API key: https://dashboard.cohere.com/api-keys"
      ]
    },
    {
      "cell_type": "markdown",
      "source": [
        "Creating a custom preamble\n",
        "A conversation starts with a system message, or a preamble, to help steer a chatbot’s response toward certain characteristics.\n",
        "\n",
        "For example, if we want the chatbot to adopt a formal style, the preamble can be used to encourage the generation of more business-like and professional responses.\n",
        "\n",
        "The recommended approach is to use two H2 Markdown headers: “Task and Context” and “Style Guide” in the exact order.\n",
        "\n",
        "In the example below, the preamble provides context for the assistant’s task (task and context) and encourages the generation of rhymes as much as possible (style guide)."
      ],
      "metadata": {
        "id": "GctejC5B3vk6"
      }
    },
    {
      "cell_type": "code",
      "source": [
        "# Add the user message\n",
        "message = \"I'm joining a new startup called QR2tech. Could you help me write a short introduction message to my teammates.\"\n",
        "\n",
        "# Create a custom system message\n",
        "system_message=\"\"\"## Task and Context\n",
        "You are an assistant who assist new employees of QR2tech to settle in their first days at work.\n",
        "\n",
        "## Style Guide\n",
        "Try to speak in an informal yet professional manner.\"\"\"\n",
        "\n",
        "# Add the messages\n",
        "messages = [{\"role\": \"system\", \"content\": system_message},\n",
        "            {\"role\": \"user\", \"content\": message}]\n",
        "\n",
        "# Generate the response\n",
        "response = co.chat(model=\"command-r-plus-08-2024\",\n",
        "                   messages=messages)\n",
        "\n",
        "print(response.message.content[0].text)\n"
      ],
      "metadata": {
        "colab": {
          "base_uri": "https://localhost:8080/"
        },
        "id": "lZ_sByzm3wuE",
        "outputId": "7835d1ac-032a-4810-8687-ca8432ff6ece"
      },
      "execution_count": 17,
      "outputs": [
        {
          "output_type": "stream",
          "name": "stdout",
          "text": [
            "Sure, let's craft a quick intro message for your new teammates at QR2tech! Here's a draft:\n",
            "\n",
            "\"Hey everyone! I'm [Your Name], and I'm thrilled to be the newest addition to the QR2tech family! As I step into this exciting journey, I wanted to take a moment to introduce myself. I'm super excited to be part of a startup that's pushing the boundaries of technology. A little about me: [mention your role, previous experience, or any fun facts you'd like to share]. I look forward to connecting with all of you and contributing to the team's success. Let's create some awesome tech together! Feel free to reach out if you want to grab a coffee (or virtual tea) and chat more. Cheers to an amazing start!\"\n",
            "\n",
            "Feel free to personalize it and add any unique touches to make it more 'you'! First impressions are important, so make it memorable! Let me know if you need any further assistance or if there's anything else I can help you with as you begin this new adventure.\n"
          ]
        }
      ]
    },
    {
      "cell_type": "markdown",
      "source": [
        "Here, we are also adding a custom preamble or system message for generating a concise response, just to keep the outputs brief for this tutorial."
      ],
      "metadata": {
        "id": "Z_vi-NXH4cwZ"
      }
    },
    {
      "cell_type": "code",
      "source": [
        "# Add the user message\n",
        "message = \"I'm joining a new startup called QR2tech today. Could you help me write a short introduction message to my teammates.\"\n",
        "\n",
        "# Create a custom system message\n",
        "system_message=\"\"\"## Task and Context\n",
        "Generate concise, precise and clear responses, with maximum one-sentence.\"\"\"\n",
        "\n",
        "# Add the messages\n",
        "messages = [{\"role\": \"system\", \"content\": system_message},\n",
        "            {\"role\": \"user\", \"content\": message}]\n",
        "\n",
        "# Generate the response\n",
        "response = co.chat(model=\"command-r-plus-08-2024\",\n",
        "                   messages=messages)\n",
        "\n",
        "print(response.message.content[0].text)\n"
      ],
      "metadata": {
        "colab": {
          "base_uri": "https://localhost:8080/"
        },
        "id": "SY6nDxnnzTin",
        "outputId": "60fbbcce-ad41-4ea5-e6f1-273b9d063bc6"
      },
      "execution_count": 18,
      "outputs": [
        {
          "output_type": "stream",
          "name": "stdout",
          "text": [
            "\"Hi everyone! I'm thrilled to join QR2tech as a new team member, and I look forward to contributing my skills and learning from this talented group.\"\n"
          ]
        }
      ]
    },
    {
      "cell_type": "markdown",
      "source": [
        "Building the conversation memory\n",
        "Now, we want the model to refine the earlier response. This requires the next generation to have access to the state, or memory, of the conversation.\n",
        "\n",
        "To do this, we append the messages with the model’s previous response using the assistant role.\n",
        "\n",
        "Next, we also append a new user message (for the second turn) to the messages list.\n",
        "\n",
        "Looking at the response, we see that the model is able to get the context from the chat history. The model is able to capture that “it” in the user message refers to the introduction message it had generated earlier."
      ],
      "metadata": {
        "id": "jqr8sZuH4ueE"
      }
    },
    {
      "cell_type": "code",
      "source": [
        "# Append the previous response\n",
        "messages.append({'role' : 'assistant', 'content': response.message.content[0].text})\n",
        "\n",
        "# Add the user message\n",
        "message = \"Make it more upbeat and conversational.\"\n",
        "\n",
        "# Append the user message\n",
        "messages.append({\"role\": \"user\", \"content\": message})\n",
        "\n",
        "# Generate the response with the current chat history as the context\n",
        "response = co.chat(model=\"command-r-plus-08-2024\",\n",
        "                   messages=messages)\n",
        "\n",
        "print(response.message.content[0].text)\n"
      ],
      "metadata": {
        "colab": {
          "base_uri": "https://localhost:8080/"
        },
        "id": "7mOU7c540Aoq",
        "outputId": "e75ff40a-82e4-4036-bf0d-f8e007aece4e"
      },
      "execution_count": 19,
      "outputs": [
        {
          "output_type": "stream",
          "name": "stdout",
          "text": [
            "\"Hey, team! Super excited to be a part of the QR2tech family now; can't wait to dive in, collaborate, and create some awesome tech magic together!\"\n"
          ]
        }
      ]
    },
    {
      "cell_type": "markdown",
      "source": [
        "Running a multi-turn conversation\n",
        "You can continue doing this for any number of turns by continuing to append the chatbot’s response and the new user message to the messages list."
      ],
      "metadata": {
        "id": "s5y17ioO48N5"
      }
    },
    {
      "cell_type": "code",
      "source": [
        "# Append the previous response\n",
        "messages.append({\"role\": \"assistant\", \"content\": response.message.content[0].text})\n",
        "\n",
        "# Add the user message\n",
        "message = \"Thanks. Could you create another one for my DM to my manager.\"\n",
        "\n",
        "# Append the user message\n",
        "messages.append({\"role\": \"user\", \"content\": message})\n",
        "\n",
        "# Generate the response with the current chat history as the context\n",
        "response = co.chat(model=\"command-r-plus-08-2024\",\n",
        "                   messages=messages)\n",
        "\n",
        "print(response.message.content[0].text)"
      ],
      "metadata": {
        "colab": {
          "base_uri": "https://localhost:8080/"
        },
        "id": "4uVQ22oy0csU",
        "outputId": "a2b3ee6e-4476-41fc-b110-6aaea8896fa4"
      },
      "execution_count": 20,
      "outputs": [
        {
          "output_type": "stream",
          "name": "stdout",
          "text": [
            "\"Hey [Manager's Name], just wanted to express my excitement about starting at QR2tech today; looking forward to an amazing journey under your guidance!\"\n"
          ]
        }
      ]
    },
    {
      "cell_type": "markdown",
      "source": [
        "Viewing the chat history\n",
        "To look at the current chat history, you can print the messages list, which contains a list of user and assistant turns in the same sequence as they were created."
      ],
      "metadata": {
        "id": "t92RLSwC5FkZ"
      }
    },
    {
      "cell_type": "code",
      "source": [
        "# Append the previous response\n",
        "messages.append({\"role\": \"assistant\", \"content\": response.message.content[0].text})\n",
        "\n",
        "# View the chat history\n",
        "for message in messages:\n",
        "    print(message,\"\\n\")\n"
      ],
      "metadata": {
        "colab": {
          "base_uri": "https://localhost:8080/"
        },
        "id": "R_lDxRlA0_dr",
        "outputId": "a565feed-6b71-428f-8770-6b83d2145cf4"
      },
      "execution_count": 21,
      "outputs": [
        {
          "output_type": "stream",
          "name": "stdout",
          "text": [
            "{'role': 'system', 'content': '## Task and Context\\nGenerate concise, precise and clear responses, with maximum one-sentence.'} \n",
            "\n",
            "{'role': 'user', 'content': \"I'm joining a new startup called QR2tech today. Could you help me write a short introduction message to my teammates.\"} \n",
            "\n",
            "{'role': 'assistant', 'content': '\"Hi everyone! I\\'m thrilled to join QR2tech as a new team member, and I look forward to contributing my skills and learning from this talented group.\"'} \n",
            "\n",
            "{'role': 'user', 'content': 'Make it more upbeat and conversational.'} \n",
            "\n",
            "{'role': 'assistant', 'content': '\"Hey, team! Super excited to be a part of the QR2tech family now; can\\'t wait to dive in, collaborate, and create some awesome tech magic together!\"'} \n",
            "\n",
            "{'role': 'user', 'content': 'Thanks. Could you create another one for my DM to my manager.'} \n",
            "\n",
            "{'role': 'assistant', 'content': '\"Hey [Manager\\'s Name], just wanted to express my excitement about starting at QR2tech today; looking forward to an amazing journey under your guidance!\"'} \n",
            "\n"
          ]
        }
      ]
    }
  ]
}