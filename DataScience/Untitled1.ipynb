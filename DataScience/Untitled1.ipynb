{
 "cells": [
  {
   "cell_type": "code",
   "execution_count": 217,
   "id": "7f5a8895",
   "metadata": {},
   "outputs": [
    {
     "data": {
      "text/plain": [
       "['2021',\n",
       " '2020',\n",
       " '2019',\n",
       " '2018',\n",
       " '2017',\n",
       " '2016',\n",
       " '2015',\n",
       " '2014',\n",
       " '2013',\n",
       " '2012',\n",
       " '2011',\n",
       " '2010']"
      ]
     },
     "execution_count": 217,
     "metadata": {},
     "output_type": "execute_result"
    }
   ],
   "source": [
    "#import relevant libraries\n",
    "\n",
    "import pandas as pd # pandas is used for data manipulation \n",
    "import matplotlib as mlp #matplotlib is used for visualization\n",
    "import seaborn as sns # seaborn is used for data visualization\n",
    "\n",
    "GHGRP = pd.ExcelFile(\"/Users/habeeb/Downloads/GHGRP flight_CA.xlsx\",engine='openpyxl')\n",
    "LMOP = pd.ExcelFile(\"/Users/habeeb/Downloads/lmopdata_CA.xlsx\",engine='openpyxl')\n",
    "\n",
    "#print the names of each sheets in the excel file\n",
    "GHGRP.sheet_names"
   ]
  },
  {
   "cell_type": "code",
   "execution_count": 218,
   "id": "86a65c2d",
   "metadata": {},
   "outputs": [],
   "source": [
    "# to read just one sheet to dataframe i.e., GHHRP\n",
    "GHGRP_2021 = pd.read_excel(GHGRP, sheet_name='2021', skiprows=range(0, 6))"
   ]
  },
  {
   "cell_type": "code",
   "execution_count": 219,
   "id": "292d01f3",
   "metadata": {},
   "outputs": [
    {
     "data": {
      "text/html": [
       "<div>\n",
       "<style scoped>\n",
       "    .dataframe tbody tr th:only-of-type {\n",
       "        vertical-align: middle;\n",
       "    }\n",
       "\n",
       "    .dataframe tbody tr th {\n",
       "        vertical-align: top;\n",
       "    }\n",
       "\n",
       "    .dataframe thead th {\n",
       "        text-align: right;\n",
       "    }\n",
       "</style>\n",
       "<table border=\"1\" class=\"dataframe\">\n",
       "  <thead>\n",
       "    <tr style=\"text-align: right;\">\n",
       "      <th></th>\n",
       "      <th>REPORTING YEAR</th>\n",
       "      <th>FACILITY NAME</th>\n",
       "      <th>GHGRP ID</th>\n",
       "      <th>REPORTED ADDRESS</th>\n",
       "      <th>LATITUDE</th>\n",
       "      <th>LONGITUDE</th>\n",
       "      <th>CITY NAME</th>\n",
       "      <th>COUNTY NAME</th>\n",
       "      <th>STATE</th>\n",
       "      <th>ZIP CODE</th>\n",
       "      <th>PARENT COMPANIES</th>\n",
       "      <th>GHG QUANTITY (METRIC TONS CO2e)</th>\n",
       "      <th>SUBPARTS</th>\n",
       "    </tr>\n",
       "  </thead>\n",
       "  <tbody>\n",
       "    <tr>\n",
       "      <th>0</th>\n",
       "      <td>2021</td>\n",
       "      <td>ALL PURPOSE LANDFILL</td>\n",
       "      <td>1004335</td>\n",
       "      <td>5401 Lafayette Street</td>\n",
       "      <td>37.413500</td>\n",
       "      <td>-121.972400</td>\n",
       "      <td>SANTA CLARA</td>\n",
       "      <td>SANTA CLARA COUNTY</td>\n",
       "      <td>CA</td>\n",
       "      <td>95050</td>\n",
       "      <td>CITY OF SANTA CLARA CA (100%)</td>\n",
       "      <td>47082</td>\n",
       "      <td>HH</td>\n",
       "    </tr>\n",
       "    <tr>\n",
       "      <th>1</th>\n",
       "      <td>2021</td>\n",
       "      <td>ALLIED IMPERIAL LANDFILL</td>\n",
       "      <td>1006197</td>\n",
       "      <td>104 EAST ROBINSON ROAD</td>\n",
       "      <td>32.854673</td>\n",
       "      <td>-115.483038</td>\n",
       "      <td>IMPERIAL</td>\n",
       "      <td>IMPERIAL COUNTY</td>\n",
       "      <td>CA</td>\n",
       "      <td>92251</td>\n",
       "      <td>REPUBLIC SERVICES INC (100%)</td>\n",
       "      <td>26326</td>\n",
       "      <td>HH</td>\n",
       "    </tr>\n",
       "    <tr>\n",
       "      <th>2</th>\n",
       "      <td>2021</td>\n",
       "      <td>AMERICAN AVENUE LANDFILL</td>\n",
       "      <td>1004417</td>\n",
       "      <td>18950 W AMERICAN AVENUE</td>\n",
       "      <td>36.665900</td>\n",
       "      <td>-120.138200</td>\n",
       "      <td>KERMAN</td>\n",
       "      <td>FRESNO COUNTY</td>\n",
       "      <td>CA</td>\n",
       "      <td>93630</td>\n",
       "      <td>COUNTY OF FRESNO (100%)</td>\n",
       "      <td>110384</td>\n",
       "      <td>C,HH</td>\n",
       "    </tr>\n",
       "    <tr>\n",
       "      <th>3</th>\n",
       "      <td>2021</td>\n",
       "      <td>ANDERSON LANDFILL</td>\n",
       "      <td>1007839</td>\n",
       "      <td>18703 CAMBRIDGE ROAD</td>\n",
       "      <td>40.417540</td>\n",
       "      <td>-122.357870</td>\n",
       "      <td>ANDERSON</td>\n",
       "      <td>SHASTA COUNTY</td>\n",
       "      <td>CA</td>\n",
       "      <td>96007</td>\n",
       "      <td>WASTE MANAGEMENT INC (100%)</td>\n",
       "      <td>37710</td>\n",
       "      <td>HH</td>\n",
       "    </tr>\n",
       "    <tr>\n",
       "      <th>4</th>\n",
       "      <td>2021</td>\n",
       "      <td>ANTELOPE VALLEY RECYCLING AND DISPOSAL FACILITY</td>\n",
       "      <td>1007710</td>\n",
       "      <td>1200 WEST CITY RANCH ROAD</td>\n",
       "      <td>34.569700</td>\n",
       "      <td>-118.153400</td>\n",
       "      <td>PALMDALE</td>\n",
       "      <td>LOS ANGELES COUNTY</td>\n",
       "      <td>CA</td>\n",
       "      <td>93551</td>\n",
       "      <td>WASTE MANAGEMENT INC (100%)</td>\n",
       "      <td>51915</td>\n",
       "      <td>C,HH</td>\n",
       "    </tr>\n",
       "  </tbody>\n",
       "</table>\n",
       "</div>"
      ],
      "text/plain": [
       "   REPORTING YEAR                                    FACILITY NAME  GHGRP ID  \\\n",
       "0            2021                             ALL PURPOSE LANDFILL   1004335   \n",
       "1            2021                         ALLIED IMPERIAL LANDFILL   1006197   \n",
       "2            2021                         AMERICAN AVENUE LANDFILL   1004417   \n",
       "3            2021                                ANDERSON LANDFILL   1007839   \n",
       "4            2021  ANTELOPE VALLEY RECYCLING AND DISPOSAL FACILITY   1007710   \n",
       "\n",
       "            REPORTED ADDRESS   LATITUDE   LONGITUDE    CITY NAME  \\\n",
       "0      5401 Lafayette Street  37.413500 -121.972400  SANTA CLARA   \n",
       "1     104 EAST ROBINSON ROAD  32.854673 -115.483038     IMPERIAL   \n",
       "2    18950 W AMERICAN AVENUE  36.665900 -120.138200       KERMAN   \n",
       "3       18703 CAMBRIDGE ROAD  40.417540 -122.357870     ANDERSON   \n",
       "4  1200 WEST CITY RANCH ROAD  34.569700 -118.153400     PALMDALE   \n",
       "\n",
       "          COUNTY NAME STATE  ZIP CODE               PARENT COMPANIES  \\\n",
       "0  SANTA CLARA COUNTY    CA     95050  CITY OF SANTA CLARA CA (100%)   \n",
       "1     IMPERIAL COUNTY    CA     92251   REPUBLIC SERVICES INC (100%)   \n",
       "2       FRESNO COUNTY    CA     93630        COUNTY OF FRESNO (100%)   \n",
       "3       SHASTA COUNTY    CA     96007    WASTE MANAGEMENT INC (100%)   \n",
       "4  LOS ANGELES COUNTY    CA     93551    WASTE MANAGEMENT INC (100%)   \n",
       "\n",
       "   GHG QUANTITY (METRIC TONS CO2e) SUBPARTS  \n",
       "0                            47082       HH  \n",
       "1                            26326       HH  \n",
       "2                           110384     C,HH  \n",
       "3                            37710       HH  \n",
       "4                            51915     C,HH  "
      ]
     },
     "execution_count": 219,
     "metadata": {},
     "output_type": "execute_result"
    }
   ],
   "source": [
    "GHGRP_2021.head()"
   ]
  },
  {
   "cell_type": "code",
   "execution_count": 220,
   "id": "9efbdaa4",
   "metadata": {},
   "outputs": [
    {
     "data": {
      "text/plain": [
       "['Summary', 'LMOP_Database', 'Field Descriptions']"
      ]
     },
     "execution_count": 220,
     "metadata": {},
     "output_type": "execute_result"
    }
   ],
   "source": [
    "#print the names of each sheets in the LMOP excel file\n",
    "LMOP.sheet_names"
   ]
  },
  {
   "cell_type": "code",
   "execution_count": 221,
   "id": "9a741a39",
   "metadata": {},
   "outputs": [],
   "source": [
    "# to read just one sheet to dataframe i.e., LMOP\n",
    "LMOP_ = pd.read_excel(LMOP, sheet_name=\"LMOP_Database\")"
   ]
  },
  {
   "cell_type": "code",
   "execution_count": 222,
   "id": "3f4369ea",
   "metadata": {},
   "outputs": [
    {
     "data": {
      "text/html": [
       "<div>\n",
       "<style scoped>\n",
       "    .dataframe tbody tr th:only-of-type {\n",
       "        vertical-align: middle;\n",
       "    }\n",
       "\n",
       "    .dataframe tbody tr th {\n",
       "        vertical-align: top;\n",
       "    }\n",
       "\n",
       "    .dataframe thead th {\n",
       "        text-align: right;\n",
       "    }\n",
       "</style>\n",
       "<table border=\"1\" class=\"dataframe\">\n",
       "  <thead>\n",
       "    <tr style=\"text-align: right;\">\n",
       "      <th></th>\n",
       "      <th>GHGRP ID</th>\n",
       "      <th>Landfill ID</th>\n",
       "      <th>Landfill Name</th>\n",
       "      <th>State</th>\n",
       "      <th>Physical Address</th>\n",
       "      <th>City</th>\n",
       "      <th>County</th>\n",
       "      <th>Zip Code</th>\n",
       "      <th>Latitude</th>\n",
       "      <th>Longitude</th>\n",
       "      <th>...</th>\n",
       "      <th>Project Start Date</th>\n",
       "      <th>Project Shutdown Date</th>\n",
       "      <th>Project Type Category</th>\n",
       "      <th>LFG Energy Project Type</th>\n",
       "      <th>RNG Delivery Method</th>\n",
       "      <th>Actual MW Generation</th>\n",
       "      <th>Rated MW Capacity</th>\n",
       "      <th>LFG Flow to Project (mmscfd)</th>\n",
       "      <th>Current Year Emission Reductions (MMTCO2e/yr) - Direct</th>\n",
       "      <th>Current Year Emission Reductions (MMTCO2e/yr) - Avoided</th>\n",
       "    </tr>\n",
       "  </thead>\n",
       "  <tbody>\n",
       "    <tr>\n",
       "      <th>0</th>\n",
       "      <td>NaN</td>\n",
       "      <td>36</td>\n",
       "      <td>Acme LF</td>\n",
       "      <td>CA</td>\n",
       "      <td>950 Waterbird Way</td>\n",
       "      <td>Martinez</td>\n",
       "      <td>Contra Costa</td>\n",
       "      <td>94553</td>\n",
       "      <td>38.03400</td>\n",
       "      <td>-122.09056</td>\n",
       "      <td>...</td>\n",
       "      <td>1999-01-01</td>\n",
       "      <td>NaT</td>\n",
       "      <td>Electricity</td>\n",
       "      <td>Cogeneration</td>\n",
       "      <td>NaN</td>\n",
       "      <td>1.90</td>\n",
       "      <td>NaN</td>\n",
       "      <td>NaN</td>\n",
       "      <td>0.08584</td>\n",
       "      <td>0.00984</td>\n",
       "    </tr>\n",
       "    <tr>\n",
       "      <th>1</th>\n",
       "      <td>NaN</td>\n",
       "      <td>36</td>\n",
       "      <td>Acme LF</td>\n",
       "      <td>CA</td>\n",
       "      <td>950 Waterbird Way</td>\n",
       "      <td>Martinez</td>\n",
       "      <td>Contra Costa</td>\n",
       "      <td>94553</td>\n",
       "      <td>38.03400</td>\n",
       "      <td>-122.09056</td>\n",
       "      <td>...</td>\n",
       "      <td>2003-08-01</td>\n",
       "      <td>NaT</td>\n",
       "      <td>Electricity</td>\n",
       "      <td>Microturbine</td>\n",
       "      <td>NaN</td>\n",
       "      <td>0.28</td>\n",
       "      <td>0.28</td>\n",
       "      <td>0.216</td>\n",
       "      <td>0.01265</td>\n",
       "      <td>0.00145</td>\n",
       "    </tr>\n",
       "    <tr>\n",
       "      <th>2</th>\n",
       "      <td>NaN</td>\n",
       "      <td>36</td>\n",
       "      <td>Acme LF</td>\n",
       "      <td>CA</td>\n",
       "      <td>950 Waterbird Way</td>\n",
       "      <td>Martinez</td>\n",
       "      <td>Contra Costa</td>\n",
       "      <td>94553</td>\n",
       "      <td>38.03400</td>\n",
       "      <td>-122.09056</td>\n",
       "      <td>...</td>\n",
       "      <td>1982-01-01</td>\n",
       "      <td>NaT</td>\n",
       "      <td>Direct</td>\n",
       "      <td>Boiler</td>\n",
       "      <td>NaN</td>\n",
       "      <td>NaN</td>\n",
       "      <td>NaN</td>\n",
       "      <td>1.500</td>\n",
       "      <td>0.13131</td>\n",
       "      <td>0.01297</td>\n",
       "    </tr>\n",
       "    <tr>\n",
       "      <th>3</th>\n",
       "      <td>NaN</td>\n",
       "      <td>37</td>\n",
       "      <td>Aerojet Liquid Rocket Company LF</td>\n",
       "      <td>CA</td>\n",
       "      <td>NaN</td>\n",
       "      <td>Rancho Cordova</td>\n",
       "      <td>Sacramento</td>\n",
       "      <td>95670</td>\n",
       "      <td>38.58333</td>\n",
       "      <td>-121.30000</td>\n",
       "      <td>...</td>\n",
       "      <td>NaT</td>\n",
       "      <td>NaT</td>\n",
       "      <td>Unknown</td>\n",
       "      <td>Unknown</td>\n",
       "      <td>NaN</td>\n",
       "      <td>NaN</td>\n",
       "      <td>NaN</td>\n",
       "      <td>NaN</td>\n",
       "      <td>NaN</td>\n",
       "      <td>NaN</td>\n",
       "    </tr>\n",
       "    <tr>\n",
       "      <th>4</th>\n",
       "      <td>1004335.0</td>\n",
       "      <td>349</td>\n",
       "      <td>All Purpose Landfill</td>\n",
       "      <td>CA</td>\n",
       "      <td>5401 Lafayette Street</td>\n",
       "      <td>Santa Clara</td>\n",
       "      <td>Santa Clara</td>\n",
       "      <td>95054</td>\n",
       "      <td>37.41639</td>\n",
       "      <td>-121.97056</td>\n",
       "      <td>...</td>\n",
       "      <td>2009-12-18</td>\n",
       "      <td>2013-12-31</td>\n",
       "      <td>Electricity</td>\n",
       "      <td>Microturbine</td>\n",
       "      <td>NaN</td>\n",
       "      <td>0.75</td>\n",
       "      <td>0.75</td>\n",
       "      <td>0.340</td>\n",
       "      <td>0.00000</td>\n",
       "      <td>0.00000</td>\n",
       "    </tr>\n",
       "  </tbody>\n",
       "</table>\n",
       "<p>5 rows × 33 columns</p>\n",
       "</div>"
      ],
      "text/plain": [
       "    GHGRP ID  Landfill ID                     Landfill Name State  \\\n",
       "0        NaN           36                           Acme LF    CA   \n",
       "1        NaN           36                           Acme LF    CA   \n",
       "2        NaN           36                           Acme LF    CA   \n",
       "3        NaN           37  Aerojet Liquid Rocket Company LF    CA   \n",
       "4  1004335.0          349              All Purpose Landfill    CA   \n",
       "\n",
       "        Physical Address            City        County Zip Code  Latitude  \\\n",
       "0      950 Waterbird Way        Martinez  Contra Costa    94553  38.03400   \n",
       "1      950 Waterbird Way        Martinez  Contra Costa    94553  38.03400   \n",
       "2      950 Waterbird Way        Martinez  Contra Costa    94553  38.03400   \n",
       "3                    NaN  Rancho Cordova    Sacramento    95670  38.58333   \n",
       "4  5401 Lafayette Street     Santa Clara   Santa Clara    95054  37.41639   \n",
       "\n",
       "   Longitude  ... Project Start Date Project Shutdown Date  \\\n",
       "0 -122.09056  ...         1999-01-01                   NaT   \n",
       "1 -122.09056  ...         2003-08-01                   NaT   \n",
       "2 -122.09056  ...         1982-01-01                   NaT   \n",
       "3 -121.30000  ...                NaT                   NaT   \n",
       "4 -121.97056  ...         2009-12-18            2013-12-31   \n",
       "\n",
       "   Project Type Category  LFG Energy Project Type RNG Delivery Method  \\\n",
       "0            Electricity             Cogeneration                 NaN   \n",
       "1            Electricity             Microturbine                 NaN   \n",
       "2                 Direct                   Boiler                 NaN   \n",
       "3                Unknown                  Unknown                 NaN   \n",
       "4            Electricity             Microturbine                 NaN   \n",
       "\n",
       "   Actual MW Generation  Rated MW Capacity LFG Flow to Project (mmscfd)  \\\n",
       "0                  1.90                NaN                          NaN   \n",
       "1                  0.28               0.28                        0.216   \n",
       "2                   NaN                NaN                        1.500   \n",
       "3                   NaN                NaN                          NaN   \n",
       "4                  0.75               0.75                        0.340   \n",
       "\n",
       "   Current Year Emission Reductions (MMTCO2e/yr) - Direct  \\\n",
       "0                                            0.08584        \n",
       "1                                            0.01265        \n",
       "2                                            0.13131        \n",
       "3                                                NaN        \n",
       "4                                            0.00000        \n",
       "\n",
       "   Current Year Emission Reductions (MMTCO2e/yr) - Avoided  \n",
       "0                                            0.00984        \n",
       "1                                            0.00145        \n",
       "2                                            0.01297        \n",
       "3                                                NaN        \n",
       "4                                            0.00000        \n",
       "\n",
       "[5 rows x 33 columns]"
      ]
     },
     "execution_count": 222,
     "metadata": {},
     "output_type": "execute_result"
    }
   ],
   "source": [
    "LMOP_.head()"
   ]
  },
  {
   "cell_type": "code",
   "execution_count": 223,
   "id": "5660892d",
   "metadata": {},
   "outputs": [],
   "source": [
    "# Explore the data \n",
    "\n",
    "# This is a simple function which provides the missing value information, the rows and columns, unique values\n",
    "# in the data frame, and the data type. \n",
    "\n",
    "# Self defined Exploration function\n",
    "def Eda(df):\n",
    "    if isinstance(df, pd.DataFrame):\n",
    "        total_na = df.isna().sum().sum()\n",
    "        print(\"Dimensions : %d rows, %d columns\" % (df.shape[0], df.shape[1]))\n",
    "        print(\"Total NA Values : %d \" % (total_na))\n",
    "        print(\"%38s %10s     %10s %10s\" % (\"Column Name\", \"Data Type\", \"#Distinct\", \"NA Values\"))\n",
    "        col_name = df.columns\n",
    "        dtyp = df.dtypes\n",
    "        uniq = df.nunique()\n",
    "        na_val = df.isna().sum()\n",
    "        for i in range(len(df.columns)):\n",
    "            print(\"%38s %10s   %10s %10s\" % (col_name[i], dtyp[i], uniq[i], na_val[i]))\n",
    "        \n",
    "    else:\n",
    "        print(\"Expect a DataFrame but got a %15s\" % (type(df)))"
   ]
  },
  {
   "cell_type": "code",
   "execution_count": 224,
   "id": "adff3bf3",
   "metadata": {},
   "outputs": [
    {
     "name": "stdout",
     "output_type": "stream",
     "text": [
      "Dimensions : 410 rows, 33 columns\n",
      "Total NA Values : 3617 \n",
      "                           Column Name  Data Type      #Distinct  NA Values\n",
      "                              GHGRP ID    float64          122        189\n",
      "                           Landfill ID      int64          300          0\n",
      "                         Landfill Name     object          300          0\n",
      "                                 State     object            1          0\n",
      "                      Physical Address     object          241         58\n",
      "                                  City     object          259          0\n",
      "                                County     object           55          0\n",
      "                              Zip Code     object          246         21\n",
      "                              Latitude    float64          281         18\n",
      "                             Longitude    float64          282         18\n",
      "                        Ownership Type     object            2          0\n",
      "        Landfill Owner Organization(s)     object          145          7\n",
      "                  Year Landfill Opened    float64           52        109\n",
      "                 Landfill Closure Year    float64          109         15\n",
      "               Current Landfill Status     object            3          0\n",
      "                 Waste in Place (tons)    float64          234         12\n",
      "                   Waste in Place Year    float64           29        158\n",
      "       LFG Collection System In Place?     object            4          0\n",
      "                LFG Collected (mmscfd)    float64          141        156\n",
      "                   LFG Flared (mmscfd)    float64          108        234\n",
      "                            Project ID     object          404          0\n",
      "                Current Project Status     object            8          0\n",
      "                          Project Name     object           39        213\n",
      "                    Project Start Date datetime64[ns]          135        220\n",
      "                 Project Shutdown Date datetime64[ns]           67        311\n",
      "                 Project Type Category     object            4          0\n",
      "               LFG Energy Project Type     object           14          0\n",
      "                   RNG Delivery Method     object            3        393\n",
      "                  Actual MW Generation    float64           99        256\n",
      "                     Rated MW Capacity    float64           68        300\n",
      "          LFG Flow to Project (mmscfd)    float64           95        293\n",
      "Current Year Emission Reductions (MMTCO2e/yr) - Direct    float64           63        318\n",
      "Current Year Emission Reductions (MMTCO2e/yr) - Avoided    float64           62        318\n"
     ]
    }
   ],
   "source": [
    "Eda(LMOP_) # Explore the LMOP data"
   ]
  },
  {
   "cell_type": "code",
   "execution_count": 225,
   "id": "ed352f1d",
   "metadata": {},
   "outputs": [
    {
     "data": {
      "text/html": [
       "<div>\n",
       "<style scoped>\n",
       "    .dataframe tbody tr th:only-of-type {\n",
       "        vertical-align: middle;\n",
       "    }\n",
       "\n",
       "    .dataframe tbody tr th {\n",
       "        vertical-align: top;\n",
       "    }\n",
       "\n",
       "    .dataframe thead th {\n",
       "        text-align: right;\n",
       "    }\n",
       "</style>\n",
       "<table border=\"1\" class=\"dataframe\">\n",
       "  <thead>\n",
       "    <tr style=\"text-align: right;\">\n",
       "      <th></th>\n",
       "      <th>Landfill Name</th>\n",
       "      <th>State</th>\n",
       "      <th>Physical Address</th>\n",
       "      <th>City</th>\n",
       "      <th>County</th>\n",
       "      <th>Zip Code</th>\n",
       "      <th>Ownership Type</th>\n",
       "      <th>Landfill Owner Organization(s)</th>\n",
       "      <th>Current Landfill Status</th>\n",
       "      <th>LFG Collection System In Place?</th>\n",
       "      <th>Project ID</th>\n",
       "      <th>Current Project Status</th>\n",
       "      <th>Project Name</th>\n",
       "      <th>Project Type Category</th>\n",
       "      <th>LFG Energy Project Type</th>\n",
       "      <th>RNG Delivery Method</th>\n",
       "    </tr>\n",
       "  </thead>\n",
       "  <tbody>\n",
       "    <tr>\n",
       "      <th>count</th>\n",
       "      <td>410</td>\n",
       "      <td>410</td>\n",
       "      <td>352</td>\n",
       "      <td>410</td>\n",
       "      <td>410</td>\n",
       "      <td>389</td>\n",
       "      <td>410</td>\n",
       "      <td>403</td>\n",
       "      <td>410</td>\n",
       "      <td>410</td>\n",
       "      <td>410</td>\n",
       "      <td>410</td>\n",
       "      <td>197</td>\n",
       "      <td>410</td>\n",
       "      <td>410</td>\n",
       "      <td>17</td>\n",
       "    </tr>\n",
       "    <tr>\n",
       "      <th>unique</th>\n",
       "      <td>300</td>\n",
       "      <td>1</td>\n",
       "      <td>241</td>\n",
       "      <td>259</td>\n",
       "      <td>55</td>\n",
       "      <td>246</td>\n",
       "      <td>2</td>\n",
       "      <td>145</td>\n",
       "      <td>3</td>\n",
       "      <td>4</td>\n",
       "      <td>404</td>\n",
       "      <td>8</td>\n",
       "      <td>39</td>\n",
       "      <td>4</td>\n",
       "      <td>14</td>\n",
       "      <td>3</td>\n",
       "    </tr>\n",
       "    <tr>\n",
       "      <th>top</th>\n",
       "      <td>Monterey Peninsula SLF</td>\n",
       "      <td>CA</td>\n",
       "      <td>5180 Convoy Street</td>\n",
       "      <td>San Diego</td>\n",
       "      <td>Los Angeles</td>\n",
       "      <td>91352</td>\n",
       "      <td>Public</td>\n",
       "      <td>Republic Services, Inc.</td>\n",
       "      <td>Closed</td>\n",
       "      <td>Yes</td>\n",
       "      <td>200847-0</td>\n",
       "      <td>Low Potential</td>\n",
       "      <td>Project #1</td>\n",
       "      <td>Unknown</td>\n",
       "      <td>Unknown</td>\n",
       "      <td>Local Use</td>\n",
       "    </tr>\n",
       "    <tr>\n",
       "      <th>freq</th>\n",
       "      <td>8</td>\n",
       "      <td>410</td>\n",
       "      <td>8</td>\n",
       "      <td>12</td>\n",
       "      <td>62</td>\n",
       "      <td>9</td>\n",
       "      <td>299</td>\n",
       "      <td>29</td>\n",
       "      <td>232</td>\n",
       "      <td>269</td>\n",
       "      <td>3</td>\n",
       "      <td>147</td>\n",
       "      <td>83</td>\n",
       "      <td>219</td>\n",
       "      <td>219</td>\n",
       "      <td>8</td>\n",
       "    </tr>\n",
       "  </tbody>\n",
       "</table>\n",
       "</div>"
      ],
      "text/plain": [
       "                 Landfill Name State    Physical Address       City  \\\n",
       "count                      410   410                 352        410   \n",
       "unique                     300     1                 241        259   \n",
       "top     Monterey Peninsula SLF    CA  5180 Convoy Street  San Diego   \n",
       "freq                         8   410                   8         12   \n",
       "\n",
       "             County Zip Code Ownership Type Landfill Owner Organization(s)  \\\n",
       "count           410      389            410                            403   \n",
       "unique           55      246              2                            145   \n",
       "top     Los Angeles    91352         Public        Republic Services, Inc.   \n",
       "freq             62        9            299                             29   \n",
       "\n",
       "       Current Landfill Status LFG Collection System In Place? Project ID  \\\n",
       "count                      410                             410        410   \n",
       "unique                       3                               4        404   \n",
       "top                     Closed                             Yes   200847-0   \n",
       "freq                       232                             269          3   \n",
       "\n",
       "       Current Project Status Project Name Project Type Category  \\\n",
       "count                     410          197                   410   \n",
       "unique                      8           39                     4   \n",
       "top             Low Potential   Project #1               Unknown   \n",
       "freq                      147           83                   219   \n",
       "\n",
       "       LFG Energy Project Type RNG Delivery Method  \n",
       "count                      410                  17  \n",
       "unique                      14                   3  \n",
       "top                    Unknown           Local Use  \n",
       "freq                       219                   8  "
      ]
     },
     "execution_count": 225,
     "metadata": {},
     "output_type": "execute_result"
    }
   ],
   "source": [
    "LMOP_.describe(include='object')"
   ]
  },
  {
   "cell_type": "code",
   "execution_count": 226,
   "id": "bc317f68",
   "metadata": {},
   "outputs": [
    {
     "name": "stdout",
     "output_type": "stream",
     "text": [
      "Dimensions : 127 rows, 13 columns\n",
      "Total NA Values : 36 \n",
      "                           Column Name  Data Type      #Distinct  NA Values\n",
      "                        REPORTING YEAR      int64            1          0\n",
      "                         FACILITY NAME     object          127          0\n",
      "                              GHGRP ID      int64          127          0\n",
      "                      REPORTED ADDRESS     object          123          3\n",
      "                              LATITUDE    float64          126          0\n",
      "                             LONGITUDE    float64          126          0\n",
      "                             CITY NAME     object          121          0\n",
      "                           COUNTY NAME     object           48          1\n",
      "                                 STATE     object            1          0\n",
      "                              ZIP CODE      int64          118          0\n",
      "                      PARENT COMPANIES     object           70          2\n",
      "       GHG QUANTITY (METRIC TONS CO2e)      int64           98          0\n",
      "                              SUBPARTS     object            4         30\n"
     ]
    }
   ],
   "source": [
    "Eda(GHGRP_2021) #explore the greenhouse gas data briefly"
   ]
  },
  {
   "cell_type": "code",
   "execution_count": 227,
   "id": "20f1c23d",
   "metadata": {},
   "outputs": [
    {
     "data": {
      "text/html": [
       "<div>\n",
       "<style scoped>\n",
       "    .dataframe tbody tr th:only-of-type {\n",
       "        vertical-align: middle;\n",
       "    }\n",
       "\n",
       "    .dataframe tbody tr th {\n",
       "        vertical-align: top;\n",
       "    }\n",
       "\n",
       "    .dataframe thead th {\n",
       "        text-align: right;\n",
       "    }\n",
       "</style>\n",
       "<table border=\"1\" class=\"dataframe\">\n",
       "  <thead>\n",
       "    <tr style=\"text-align: right;\">\n",
       "      <th></th>\n",
       "      <th>FACILITY NAME</th>\n",
       "      <th>REPORTED ADDRESS</th>\n",
       "      <th>CITY NAME</th>\n",
       "      <th>COUNTY NAME</th>\n",
       "      <th>STATE</th>\n",
       "      <th>PARENT COMPANIES</th>\n",
       "      <th>SUBPARTS</th>\n",
       "    </tr>\n",
       "  </thead>\n",
       "  <tbody>\n",
       "    <tr>\n",
       "      <th>count</th>\n",
       "      <td>127</td>\n",
       "      <td>124</td>\n",
       "      <td>127</td>\n",
       "      <td>126</td>\n",
       "      <td>127</td>\n",
       "      <td>125</td>\n",
       "      <td>97</td>\n",
       "    </tr>\n",
       "    <tr>\n",
       "      <th>unique</th>\n",
       "      <td>127</td>\n",
       "      <td>123</td>\n",
       "      <td>121</td>\n",
       "      <td>48</td>\n",
       "      <td>1</td>\n",
       "      <td>70</td>\n",
       "      <td>4</td>\n",
       "    </tr>\n",
       "    <tr>\n",
       "      <th>top</th>\n",
       "      <td>CITY OF LOMPOC SANITARY LANDFILL</td>\n",
       "      <td>5180 CONVOY STREET</td>\n",
       "      <td>SAN DIEGO</td>\n",
       "      <td>LOS ANGELES COUNTY</td>\n",
       "      <td>CA</td>\n",
       "      <td>WASTE MANAGEMENT INC (100%)</td>\n",
       "      <td>HH</td>\n",
       "    </tr>\n",
       "    <tr>\n",
       "      <th>freq</th>\n",
       "      <td>1</td>\n",
       "      <td>2</td>\n",
       "      <td>3</td>\n",
       "      <td>17</td>\n",
       "      <td>127</td>\n",
       "      <td>14</td>\n",
       "      <td>72</td>\n",
       "    </tr>\n",
       "  </tbody>\n",
       "</table>\n",
       "</div>"
      ],
      "text/plain": [
       "                           FACILITY NAME    REPORTED ADDRESS  CITY NAME  \\\n",
       "count                                127                 124        127   \n",
       "unique                               127                 123        121   \n",
       "top     CITY OF LOMPOC SANITARY LANDFILL  5180 CONVOY STREET  SAN DIEGO   \n",
       "freq                                   1                   2          3   \n",
       "\n",
       "               COUNTY NAME STATE             PARENT COMPANIES SUBPARTS  \n",
       "count                  126   127                          125       97  \n",
       "unique                  48     1                           70        4  \n",
       "top     LOS ANGELES COUNTY    CA  WASTE MANAGEMENT INC (100%)       HH  \n",
       "freq                    17   127                           14       72  "
      ]
     },
     "execution_count": 227,
     "metadata": {},
     "output_type": "execute_result"
    }
   ],
   "source": [
    "GHGRP_2021.describe(include='object')"
   ]
  },
  {
   "cell_type": "code",
   "execution_count": 228,
   "id": "99775387",
   "metadata": {},
   "outputs": [],
   "source": [
    "# Merge the two files \n",
    "from functools import reduce\n",
    "\n",
    "data_frames = [GHGRP_2021,LMOP_]\n",
    "\n",
    "Merged = reduce(lambda  left,right: pd.merge(left,right,on=('GHGRP ID'),how='inner'), data_frames)"
   ]
  },
  {
   "cell_type": "code",
   "execution_count": 229,
   "id": "48d223e6",
   "metadata": {},
   "outputs": [
    {
     "data": {
      "text/html": [
       "<div>\n",
       "<style scoped>\n",
       "    .dataframe tbody tr th:only-of-type {\n",
       "        vertical-align: middle;\n",
       "    }\n",
       "\n",
       "    .dataframe tbody tr th {\n",
       "        vertical-align: top;\n",
       "    }\n",
       "\n",
       "    .dataframe thead th {\n",
       "        text-align: right;\n",
       "    }\n",
       "</style>\n",
       "<table border=\"1\" class=\"dataframe\">\n",
       "  <thead>\n",
       "    <tr style=\"text-align: right;\">\n",
       "      <th></th>\n",
       "      <th>REPORTING YEAR</th>\n",
       "      <th>FACILITY NAME</th>\n",
       "      <th>GHGRP ID</th>\n",
       "      <th>REPORTED ADDRESS</th>\n",
       "      <th>LATITUDE</th>\n",
       "      <th>LONGITUDE</th>\n",
       "      <th>CITY NAME</th>\n",
       "      <th>COUNTY NAME</th>\n",
       "      <th>STATE</th>\n",
       "      <th>ZIP CODE</th>\n",
       "      <th>...</th>\n",
       "      <th>Project Start Date</th>\n",
       "      <th>Project Shutdown Date</th>\n",
       "      <th>Project Type Category</th>\n",
       "      <th>LFG Energy Project Type</th>\n",
       "      <th>RNG Delivery Method</th>\n",
       "      <th>Actual MW Generation</th>\n",
       "      <th>Rated MW Capacity</th>\n",
       "      <th>LFG Flow to Project (mmscfd)</th>\n",
       "      <th>Current Year Emission Reductions (MMTCO2e/yr) - Direct</th>\n",
       "      <th>Current Year Emission Reductions (MMTCO2e/yr) - Avoided</th>\n",
       "    </tr>\n",
       "  </thead>\n",
       "  <tbody>\n",
       "    <tr>\n",
       "      <th>0</th>\n",
       "      <td>2021</td>\n",
       "      <td>ALL PURPOSE LANDFILL</td>\n",
       "      <td>1004335</td>\n",
       "      <td>5401 Lafayette Street</td>\n",
       "      <td>37.413500</td>\n",
       "      <td>-121.972400</td>\n",
       "      <td>SANTA CLARA</td>\n",
       "      <td>SANTA CLARA COUNTY</td>\n",
       "      <td>CA</td>\n",
       "      <td>95050</td>\n",
       "      <td>...</td>\n",
       "      <td>2009-12-18</td>\n",
       "      <td>2013-12-31</td>\n",
       "      <td>Electricity</td>\n",
       "      <td>Microturbine</td>\n",
       "      <td>NaN</td>\n",
       "      <td>0.75</td>\n",
       "      <td>0.75</td>\n",
       "      <td>0.34</td>\n",
       "      <td>0.00000</td>\n",
       "      <td>0.00000</td>\n",
       "    </tr>\n",
       "    <tr>\n",
       "      <th>1</th>\n",
       "      <td>2021</td>\n",
       "      <td>ALL PURPOSE LANDFILL</td>\n",
       "      <td>1004335</td>\n",
       "      <td>5401 Lafayette Street</td>\n",
       "      <td>37.413500</td>\n",
       "      <td>-121.972400</td>\n",
       "      <td>SANTA CLARA</td>\n",
       "      <td>SANTA CLARA COUNTY</td>\n",
       "      <td>CA</td>\n",
       "      <td>95050</td>\n",
       "      <td>...</td>\n",
       "      <td>2014-01-01</td>\n",
       "      <td>NaT</td>\n",
       "      <td>Electricity</td>\n",
       "      <td>Microturbine</td>\n",
       "      <td>NaN</td>\n",
       "      <td>0.40</td>\n",
       "      <td>NaN</td>\n",
       "      <td>0.24</td>\n",
       "      <td>0.01807</td>\n",
       "      <td>0.00207</td>\n",
       "    </tr>\n",
       "    <tr>\n",
       "      <th>2</th>\n",
       "      <td>2021</td>\n",
       "      <td>ALL PURPOSE LANDFILL</td>\n",
       "      <td>1004335</td>\n",
       "      <td>5401 Lafayette Street</td>\n",
       "      <td>37.413500</td>\n",
       "      <td>-121.972400</td>\n",
       "      <td>SANTA CLARA</td>\n",
       "      <td>SANTA CLARA COUNTY</td>\n",
       "      <td>CA</td>\n",
       "      <td>95050</td>\n",
       "      <td>...</td>\n",
       "      <td>1985-01-01</td>\n",
       "      <td>2005-11-01</td>\n",
       "      <td>Electricity</td>\n",
       "      <td>Reciprocating Engine</td>\n",
       "      <td>NaN</td>\n",
       "      <td>0.90</td>\n",
       "      <td>2.50</td>\n",
       "      <td>NaN</td>\n",
       "      <td>NaN</td>\n",
       "      <td>NaN</td>\n",
       "    </tr>\n",
       "    <tr>\n",
       "      <th>3</th>\n",
       "      <td>2021</td>\n",
       "      <td>ALLIED IMPERIAL LANDFILL</td>\n",
       "      <td>1006197</td>\n",
       "      <td>104 EAST ROBINSON ROAD</td>\n",
       "      <td>32.854673</td>\n",
       "      <td>-115.483038</td>\n",
       "      <td>IMPERIAL</td>\n",
       "      <td>IMPERIAL COUNTY</td>\n",
       "      <td>CA</td>\n",
       "      <td>92251</td>\n",
       "      <td>...</td>\n",
       "      <td>NaT</td>\n",
       "      <td>NaT</td>\n",
       "      <td>Unknown</td>\n",
       "      <td>Unknown</td>\n",
       "      <td>NaN</td>\n",
       "      <td>NaN</td>\n",
       "      <td>NaN</td>\n",
       "      <td>NaN</td>\n",
       "      <td>NaN</td>\n",
       "      <td>NaN</td>\n",
       "    </tr>\n",
       "    <tr>\n",
       "      <th>4</th>\n",
       "      <td>2021</td>\n",
       "      <td>AMERICAN AVENUE LANDFILL</td>\n",
       "      <td>1004417</td>\n",
       "      <td>18950 W AMERICAN AVENUE</td>\n",
       "      <td>36.665900</td>\n",
       "      <td>-120.138200</td>\n",
       "      <td>KERMAN</td>\n",
       "      <td>FRESNO COUNTY</td>\n",
       "      <td>CA</td>\n",
       "      <td>93630</td>\n",
       "      <td>...</td>\n",
       "      <td>2023-12-31</td>\n",
       "      <td>NaT</td>\n",
       "      <td>Renewable Natural Gas</td>\n",
       "      <td>Other</td>\n",
       "      <td>Unknown</td>\n",
       "      <td>NaN</td>\n",
       "      <td>NaN</td>\n",
       "      <td>NaN</td>\n",
       "      <td>NaN</td>\n",
       "      <td>NaN</td>\n",
       "    </tr>\n",
       "  </tbody>\n",
       "</table>\n",
       "<p>5 rows × 45 columns</p>\n",
       "</div>"
      ],
      "text/plain": [
       "   REPORTING YEAR             FACILITY NAME  GHGRP ID  \\\n",
       "0            2021      ALL PURPOSE LANDFILL   1004335   \n",
       "1            2021      ALL PURPOSE LANDFILL   1004335   \n",
       "2            2021      ALL PURPOSE LANDFILL   1004335   \n",
       "3            2021  ALLIED IMPERIAL LANDFILL   1006197   \n",
       "4            2021  AMERICAN AVENUE LANDFILL   1004417   \n",
       "\n",
       "          REPORTED ADDRESS   LATITUDE   LONGITUDE    CITY NAME  \\\n",
       "0    5401 Lafayette Street  37.413500 -121.972400  SANTA CLARA   \n",
       "1    5401 Lafayette Street  37.413500 -121.972400  SANTA CLARA   \n",
       "2    5401 Lafayette Street  37.413500 -121.972400  SANTA CLARA   \n",
       "3   104 EAST ROBINSON ROAD  32.854673 -115.483038     IMPERIAL   \n",
       "4  18950 W AMERICAN AVENUE  36.665900 -120.138200       KERMAN   \n",
       "\n",
       "          COUNTY NAME STATE  ZIP CODE  ... Project Start Date  \\\n",
       "0  SANTA CLARA COUNTY    CA     95050  ...         2009-12-18   \n",
       "1  SANTA CLARA COUNTY    CA     95050  ...         2014-01-01   \n",
       "2  SANTA CLARA COUNTY    CA     95050  ...         1985-01-01   \n",
       "3     IMPERIAL COUNTY    CA     92251  ...                NaT   \n",
       "4       FRESNO COUNTY    CA     93630  ...         2023-12-31   \n",
       "\n",
       "   Project Shutdown Date  Project Type Category  LFG Energy Project Type  \\\n",
       "0             2013-12-31            Electricity             Microturbine   \n",
       "1                    NaT            Electricity             Microturbine   \n",
       "2             2005-11-01            Electricity     Reciprocating Engine   \n",
       "3                    NaT                Unknown                  Unknown   \n",
       "4                    NaT  Renewable Natural Gas                    Other   \n",
       "\n",
       "  RNG Delivery Method Actual MW Generation Rated MW Capacity  \\\n",
       "0                 NaN                 0.75              0.75   \n",
       "1                 NaN                 0.40               NaN   \n",
       "2                 NaN                 0.90              2.50   \n",
       "3                 NaN                  NaN               NaN   \n",
       "4             Unknown                  NaN               NaN   \n",
       "\n",
       "  LFG Flow to Project (mmscfd)  \\\n",
       "0                         0.34   \n",
       "1                         0.24   \n",
       "2                          NaN   \n",
       "3                          NaN   \n",
       "4                          NaN   \n",
       "\n",
       "  Current Year Emission Reductions (MMTCO2e/yr) - Direct  \\\n",
       "0                                            0.00000       \n",
       "1                                            0.01807       \n",
       "2                                                NaN       \n",
       "3                                                NaN       \n",
       "4                                                NaN       \n",
       "\n",
       "  Current Year Emission Reductions (MMTCO2e/yr) - Avoided  \n",
       "0                                            0.00000       \n",
       "1                                            0.00207       \n",
       "2                                                NaN       \n",
       "3                                                NaN       \n",
       "4                                                NaN       \n",
       "\n",
       "[5 rows x 45 columns]"
      ]
     },
     "execution_count": 229,
     "metadata": {},
     "output_type": "execute_result"
    }
   ],
   "source": [
    "Merged.head()"
   ]
  },
  {
   "cell_type": "code",
   "execution_count": 230,
   "id": "3307c8ee",
   "metadata": {},
   "outputs": [
    {
     "name": "stdout",
     "output_type": "stream",
     "text": [
      "Dimensions : 221 rows, 45 columns\n",
      "Total NA Values : 1178 \n",
      "                           Column Name  Data Type      #Distinct  NA Values\n",
      "                        REPORTING YEAR      int64            1          0\n",
      "                         FACILITY NAME     object          122          0\n",
      "                              GHGRP ID      int64          122          0\n",
      "                      REPORTED ADDRESS     object          118          5\n",
      "                              LATITUDE    float64          121          0\n",
      "                             LONGITUDE    float64          121          0\n",
      "                             CITY NAME     object          117          0\n",
      "                           COUNTY NAME     object           48          1\n",
      "                                 STATE     object            1          0\n",
      "                              ZIP CODE      int64          115          0\n",
      "                      PARENT COMPANIES     object           65          2\n",
      "       GHG QUANTITY (METRIC TONS CO2e)      int64           95          0\n",
      "                              SUBPARTS     object            2         38\n",
      "                           Landfill ID      int64          122          0\n",
      "                         Landfill Name     object          122          0\n",
      "                                 State     object            1          0\n",
      "                      Physical Address     object          121          0\n",
      "                                  City     object          112          0\n",
      "                                County     object           39          0\n",
      "                              Zip Code     object          116          0\n",
      "                              Latitude    float64          121          0\n",
      "                             Longitude    float64          121          0\n",
      "                        Ownership Type     object            2          0\n",
      "        Landfill Owner Organization(s)     object           63          0\n",
      "                  Year Landfill Opened    float64           49          0\n",
      "                 Landfill Closure Year    float64           77          0\n",
      "               Current Landfill Status     object            2          0\n",
      "                 Waste in Place (tons)    float64          120          1\n",
      "                   Waste in Place Year    float64           26         16\n",
      "       LFG Collection System In Place?     object            3          0\n",
      "                LFG Collected (mmscfd)    float64          115          4\n",
      "                   LFG Flared (mmscfd)    float64           90         67\n",
      "                            Project ID     object          217          0\n",
      "                Current Project Status     object            7          0\n",
      "                          Project Name     object           37         51\n",
      "                    Project Start Date datetime64[ns]          123         56\n",
      "                 Project Shutdown Date datetime64[ns]           61        136\n",
      "                 Project Type Category     object            4          0\n",
      "               LFG Energy Project Type     object           14          0\n",
      "                   RNG Delivery Method     object            3        205\n",
      "                  Actual MW Generation    float64           87         87\n",
      "                     Rated MW Capacity    float64           61        121\n",
      "          LFG Flow to Project (mmscfd)    float64           92        114\n",
      "Current Year Emission Reductions (MMTCO2e/yr) - Direct    float64           55        137\n",
      "Current Year Emission Reductions (MMTCO2e/yr) - Avoided    float64           54        137\n"
     ]
    }
   ],
   "source": [
    "Eda(Merged)"
   ]
  },
  {
   "cell_type": "code",
   "execution_count": 231,
   "id": "ebc15b94",
   "metadata": {},
   "outputs": [
    {
     "data": {
      "text/html": [
       "<div>\n",
       "<style scoped>\n",
       "    .dataframe tbody tr th:only-of-type {\n",
       "        vertical-align: middle;\n",
       "    }\n",
       "\n",
       "    .dataframe tbody tr th {\n",
       "        vertical-align: top;\n",
       "    }\n",
       "\n",
       "    .dataframe thead th {\n",
       "        text-align: right;\n",
       "    }\n",
       "</style>\n",
       "<table border=\"1\" class=\"dataframe\">\n",
       "  <thead>\n",
       "    <tr style=\"text-align: right;\">\n",
       "      <th></th>\n",
       "      <th>LATITUDE</th>\n",
       "      <th>LONGITUDE</th>\n",
       "      <th>Latitude</th>\n",
       "      <th>Longitude</th>\n",
       "    </tr>\n",
       "  </thead>\n",
       "  <tbody>\n",
       "    <tr>\n",
       "      <th>0</th>\n",
       "      <td>37.413500</td>\n",
       "      <td>-121.972400</td>\n",
       "      <td>37.41639</td>\n",
       "      <td>-121.97056</td>\n",
       "    </tr>\n",
       "    <tr>\n",
       "      <th>1</th>\n",
       "      <td>37.413500</td>\n",
       "      <td>-121.972400</td>\n",
       "      <td>37.41639</td>\n",
       "      <td>-121.97056</td>\n",
       "    </tr>\n",
       "    <tr>\n",
       "      <th>2</th>\n",
       "      <td>37.413500</td>\n",
       "      <td>-121.972400</td>\n",
       "      <td>37.41639</td>\n",
       "      <td>-121.97056</td>\n",
       "    </tr>\n",
       "    <tr>\n",
       "      <th>3</th>\n",
       "      <td>32.854673</td>\n",
       "      <td>-115.483038</td>\n",
       "      <td>32.85800</td>\n",
       "      <td>-115.52600</td>\n",
       "    </tr>\n",
       "    <tr>\n",
       "      <th>4</th>\n",
       "      <td>36.665900</td>\n",
       "      <td>-120.138200</td>\n",
       "      <td>36.66171</td>\n",
       "      <td>-120.14570</td>\n",
       "    </tr>\n",
       "    <tr>\n",
       "      <th>...</th>\n",
       "      <td>...</td>\n",
       "      <td>...</td>\n",
       "      <td>...</td>\n",
       "      <td>...</td>\n",
       "    </tr>\n",
       "    <tr>\n",
       "      <th>216</th>\n",
       "      <td>37.966372</td>\n",
       "      <td>-122.392883</td>\n",
       "      <td>37.96778</td>\n",
       "      <td>-122.37639</td>\n",
       "    </tr>\n",
       "    <tr>\n",
       "      <th>217</th>\n",
       "      <td>37.966372</td>\n",
       "      <td>-122.392883</td>\n",
       "      <td>37.96778</td>\n",
       "      <td>-122.37639</td>\n",
       "    </tr>\n",
       "    <tr>\n",
       "      <th>218</th>\n",
       "      <td>37.966372</td>\n",
       "      <td>-122.392883</td>\n",
       "      <td>37.96778</td>\n",
       "      <td>-122.37639</td>\n",
       "    </tr>\n",
       "    <tr>\n",
       "      <th>219</th>\n",
       "      <td>36.149100</td>\n",
       "      <td>-119.228900</td>\n",
       "      <td>36.15056</td>\n",
       "      <td>-119.23139</td>\n",
       "    </tr>\n",
       "    <tr>\n",
       "      <th>220</th>\n",
       "      <td>38.590670</td>\n",
       "      <td>-121.684810</td>\n",
       "      <td>38.59028</td>\n",
       "      <td>-121.69222</td>\n",
       "    </tr>\n",
       "  </tbody>\n",
       "</table>\n",
       "<p>221 rows × 4 columns</p>\n",
       "</div>"
      ],
      "text/plain": [
       "      LATITUDE   LONGITUDE  Latitude  Longitude\n",
       "0    37.413500 -121.972400  37.41639 -121.97056\n",
       "1    37.413500 -121.972400  37.41639 -121.97056\n",
       "2    37.413500 -121.972400  37.41639 -121.97056\n",
       "3    32.854673 -115.483038  32.85800 -115.52600\n",
       "4    36.665900 -120.138200  36.66171 -120.14570\n",
       "..         ...         ...       ...        ...\n",
       "216  37.966372 -122.392883  37.96778 -122.37639\n",
       "217  37.966372 -122.392883  37.96778 -122.37639\n",
       "218  37.966372 -122.392883  37.96778 -122.37639\n",
       "219  36.149100 -119.228900  36.15056 -119.23139\n",
       "220  38.590670 -121.684810  38.59028 -121.69222\n",
       "\n",
       "[221 rows x 4 columns]"
      ]
     },
     "execution_count": 231,
     "metadata": {},
     "output_type": "execute_result"
    }
   ],
   "source": [
    "Merged[['LATITUDE', 'LONGITUDE','Latitude', 'Longitude']]"
   ]
  },
  {
   "cell_type": "code",
   "execution_count": 232,
   "id": "ed5477b5",
   "metadata": {},
   "outputs": [
    {
     "name": "stdout",
     "output_type": "stream",
     "text": [
      "Duplicate Rows :\n"
     ]
    },
    {
     "data": {
      "text/html": [
       "<div>\n",
       "<style scoped>\n",
       "    .dataframe tbody tr th:only-of-type {\n",
       "        vertical-align: middle;\n",
       "    }\n",
       "\n",
       "    .dataframe tbody tr th {\n",
       "        vertical-align: top;\n",
       "    }\n",
       "\n",
       "    .dataframe thead th {\n",
       "        text-align: right;\n",
       "    }\n",
       "</style>\n",
       "<table border=\"1\" class=\"dataframe\">\n",
       "  <thead>\n",
       "    <tr style=\"text-align: right;\">\n",
       "      <th></th>\n",
       "      <th>REPORTING YEAR</th>\n",
       "      <th>FACILITY NAME</th>\n",
       "      <th>GHGRP ID</th>\n",
       "      <th>REPORTED ADDRESS</th>\n",
       "      <th>LATITUDE</th>\n",
       "      <th>LONGITUDE</th>\n",
       "      <th>CITY NAME</th>\n",
       "      <th>COUNTY NAME</th>\n",
       "      <th>STATE</th>\n",
       "      <th>ZIP CODE</th>\n",
       "      <th>...</th>\n",
       "      <th>Project Start Date</th>\n",
       "      <th>Project Shutdown Date</th>\n",
       "      <th>Project Type Category</th>\n",
       "      <th>LFG Energy Project Type</th>\n",
       "      <th>RNG Delivery Method</th>\n",
       "      <th>Actual MW Generation</th>\n",
       "      <th>Rated MW Capacity</th>\n",
       "      <th>LFG Flow to Project (mmscfd)</th>\n",
       "      <th>Current Year Emission Reductions (MMTCO2e/yr) - Direct</th>\n",
       "      <th>Current Year Emission Reductions (MMTCO2e/yr) - Avoided</th>\n",
       "    </tr>\n",
       "  </thead>\n",
       "  <tbody>\n",
       "  </tbody>\n",
       "</table>\n",
       "<p>0 rows × 45 columns</p>\n",
       "</div>"
      ],
      "text/plain": [
       "Empty DataFrame\n",
       "Columns: [REPORTING YEAR, FACILITY NAME, GHGRP ID, REPORTED ADDRESS, LATITUDE, LONGITUDE, CITY NAME, COUNTY NAME, STATE, ZIP CODE, PARENT COMPANIES, GHG QUANTITY (METRIC TONS CO2e), SUBPARTS, Landfill ID, Landfill Name, State, Physical Address, City, County, Zip Code, Latitude, Longitude, Ownership Type, Landfill Owner Organization(s), Year Landfill Opened, Landfill Closure Year, Current Landfill Status, Waste in Place (tons), Waste in Place Year, LFG Collection System In Place?, LFG Collected (mmscfd), LFG Flared (mmscfd), Project ID, Current Project Status, Project Name, Project Start Date, Project Shutdown Date, Project Type Category, LFG Energy Project Type, RNG Delivery Method, Actual MW Generation, Rated MW Capacity, LFG Flow to Project (mmscfd), Current Year Emission Reductions (MMTCO2e/yr) - Direct, Current Year Emission Reductions (MMTCO2e/yr) - Avoided]\n",
       "Index: []\n",
       "\n",
       "[0 rows x 45 columns]"
      ]
     },
     "execution_count": 232,
     "metadata": {},
     "output_type": "execute_result"
    }
   ],
   "source": [
    "#check duplicates in the dataset\n",
    "# occurrence based on all columns\n",
    "duplicate = Merged[Merged.duplicated()]\n",
    " \n",
    "print(\"Duplicate Rows :\")\n",
    " \n",
    "# Print the resultant Dataframe\n",
    "duplicate"
   ]
  },
  {
   "cell_type": "code",
   "execution_count": 233,
   "id": "a789da41",
   "metadata": {},
   "outputs": [],
   "source": [
    "#remove duplicates in the data frame\n",
    "Merged=Merged.drop_duplicates()"
   ]
  },
  {
   "cell_type": "code",
   "execution_count": 234,
   "id": "3e882554",
   "metadata": {},
   "outputs": [
    {
     "name": "stdout",
     "output_type": "stream",
     "text": [
      "Dimensions : 221 rows, 45 columns\n",
      "Total NA Values : 1178 \n",
      "                           Column Name  Data Type      #Distinct  NA Values\n",
      "                        REPORTING YEAR      int64            1          0\n",
      "                         FACILITY NAME     object          122          0\n",
      "                              GHGRP ID      int64          122          0\n",
      "                      REPORTED ADDRESS     object          118          5\n",
      "                              LATITUDE    float64          121          0\n",
      "                             LONGITUDE    float64          121          0\n",
      "                             CITY NAME     object          117          0\n",
      "                           COUNTY NAME     object           48          1\n",
      "                                 STATE     object            1          0\n",
      "                              ZIP CODE      int64          115          0\n",
      "                      PARENT COMPANIES     object           65          2\n",
      "       GHG QUANTITY (METRIC TONS CO2e)      int64           95          0\n",
      "                              SUBPARTS     object            2         38\n",
      "                           Landfill ID      int64          122          0\n",
      "                         Landfill Name     object          122          0\n",
      "                                 State     object            1          0\n",
      "                      Physical Address     object          121          0\n",
      "                                  City     object          112          0\n",
      "                                County     object           39          0\n",
      "                              Zip Code     object          116          0\n",
      "                              Latitude    float64          121          0\n",
      "                             Longitude    float64          121          0\n",
      "                        Ownership Type     object            2          0\n",
      "        Landfill Owner Organization(s)     object           63          0\n",
      "                  Year Landfill Opened    float64           49          0\n",
      "                 Landfill Closure Year    float64           77          0\n",
      "               Current Landfill Status     object            2          0\n",
      "                 Waste in Place (tons)    float64          120          1\n",
      "                   Waste in Place Year    float64           26         16\n",
      "       LFG Collection System In Place?     object            3          0\n",
      "                LFG Collected (mmscfd)    float64          115          4\n",
      "                   LFG Flared (mmscfd)    float64           90         67\n",
      "                            Project ID     object          217          0\n",
      "                Current Project Status     object            7          0\n",
      "                          Project Name     object           37         51\n",
      "                    Project Start Date datetime64[ns]          123         56\n",
      "                 Project Shutdown Date datetime64[ns]           61        136\n",
      "                 Project Type Category     object            4          0\n",
      "               LFG Energy Project Type     object           14          0\n",
      "                   RNG Delivery Method     object            3        205\n",
      "                  Actual MW Generation    float64           87         87\n",
      "                     Rated MW Capacity    float64           61        121\n",
      "          LFG Flow to Project (mmscfd)    float64           92        114\n",
      "Current Year Emission Reductions (MMTCO2e/yr) - Direct    float64           55        137\n",
      "Current Year Emission Reductions (MMTCO2e/yr) - Avoided    float64           54        137\n"
     ]
    }
   ],
   "source": [
    "Eda(Merged)"
   ]
  },
  {
   "cell_type": "code",
   "execution_count": 235,
   "id": "baead6a2",
   "metadata": {},
   "outputs": [],
   "source": [
    "# Add New Column from Existing Column, that is 50% of the GHG = Methane \n",
    "\n",
    "Merged = Merged.assign(Methane_emission=lambda x: x['GHG QUANTITY (METRIC TONS CO2e)'] / 2)"
   ]
  },
  {
   "cell_type": "code",
   "execution_count": 236,
   "id": "10e03dbf",
   "metadata": {},
   "outputs": [
    {
     "data": {
      "text/html": [
       "<div>\n",
       "<style scoped>\n",
       "    .dataframe tbody tr th:only-of-type {\n",
       "        vertical-align: middle;\n",
       "    }\n",
       "\n",
       "    .dataframe tbody tr th {\n",
       "        vertical-align: top;\n",
       "    }\n",
       "\n",
       "    .dataframe thead th {\n",
       "        text-align: right;\n",
       "    }\n",
       "</style>\n",
       "<table border=\"1\" class=\"dataframe\">\n",
       "  <thead>\n",
       "    <tr style=\"text-align: right;\">\n",
       "      <th></th>\n",
       "      <th>GHG QUANTITY (METRIC TONS CO2e)</th>\n",
       "      <th>Methane_emission</th>\n",
       "    </tr>\n",
       "  </thead>\n",
       "  <tbody>\n",
       "    <tr>\n",
       "      <th>0</th>\n",
       "      <td>47082</td>\n",
       "      <td>23541.0</td>\n",
       "    </tr>\n",
       "    <tr>\n",
       "      <th>1</th>\n",
       "      <td>47082</td>\n",
       "      <td>23541.0</td>\n",
       "    </tr>\n",
       "    <tr>\n",
       "      <th>2</th>\n",
       "      <td>47082</td>\n",
       "      <td>23541.0</td>\n",
       "    </tr>\n",
       "    <tr>\n",
       "      <th>3</th>\n",
       "      <td>26326</td>\n",
       "      <td>13163.0</td>\n",
       "    </tr>\n",
       "    <tr>\n",
       "      <th>4</th>\n",
       "      <td>110384</td>\n",
       "      <td>55192.0</td>\n",
       "    </tr>\n",
       "  </tbody>\n",
       "</table>\n",
       "</div>"
      ],
      "text/plain": [
       "   GHG QUANTITY (METRIC TONS CO2e)  Methane_emission\n",
       "0                            47082           23541.0\n",
       "1                            47082           23541.0\n",
       "2                            47082           23541.0\n",
       "3                            26326           13163.0\n",
       "4                           110384           55192.0"
      ]
     },
     "execution_count": 236,
     "metadata": {},
     "output_type": "execute_result"
    }
   ],
   "source": [
    "x=Merged[['GHG QUANTITY (METRIC TONS CO2e)','Methane_emission']]\n",
    "x.head()"
   ]
  },
  {
   "cell_type": "code",
   "execution_count": 237,
   "id": "b98f416b",
   "metadata": {},
   "outputs": [
    {
     "data": {
      "text/plain": [
       "Index(['REPORTING YEAR', 'FACILITY NAME', 'GHGRP ID', 'REPORTED ADDRESS',\n",
       "       'LATITUDE', 'LONGITUDE', 'CITY NAME', 'COUNTY NAME', 'STATE',\n",
       "       'ZIP CODE', 'PARENT COMPANIES', 'GHG QUANTITY (METRIC TONS CO2e)',\n",
       "       'SUBPARTS', 'Landfill ID', 'Landfill Name', 'State', 'Physical Address',\n",
       "       'City', 'County', 'Zip Code', 'Latitude', 'Longitude', 'Ownership Type',\n",
       "       'Landfill Owner Organization(s)', 'Year Landfill Opened',\n",
       "       'Landfill Closure Year', 'Current Landfill Status',\n",
       "       'Waste in Place (tons)', 'Waste in Place Year',\n",
       "       'LFG Collection System In Place?', 'LFG Collected (mmscfd)',\n",
       "       'LFG Flared (mmscfd)', 'Project ID', 'Current Project Status',\n",
       "       'Project Name', 'Project Start Date', 'Project Shutdown Date',\n",
       "       'Project Type Category', 'LFG Energy Project Type',\n",
       "       'RNG Delivery Method', 'Actual MW Generation', 'Rated MW Capacity',\n",
       "       'LFG Flow to Project (mmscfd)',\n",
       "       'Current Year Emission Reductions (MMTCO2e/yr) - Direct',\n",
       "       'Current Year Emission Reductions (MMTCO2e/yr) - Avoided',\n",
       "       'Methane_emission'],\n",
       "      dtype='object')"
      ]
     },
     "execution_count": 237,
     "metadata": {},
     "output_type": "execute_result"
    }
   ],
   "source": [
    "Merged.columns"
   ]
  },
  {
   "cell_type": "code",
   "execution_count": 240,
   "id": "8d62505d",
   "metadata": {},
   "outputs": [],
   "source": [
    "# çreate a column named Methane intensity using methane_emission/waste in place\n",
    "\n",
    "\n",
    "Merged = Merged.assign(Methane_Intensity=lambda x: x['Methane_emission'] / x['Waste in Place (tons)'])"
   ]
  },
  {
   "cell_type": "code",
   "execution_count": 241,
   "id": "ae28c495",
   "metadata": {},
   "outputs": [
    {
     "data": {
      "text/plain": [
       "Index(['REPORTING YEAR', 'FACILITY NAME', 'GHGRP ID', 'REPORTED ADDRESS',\n",
       "       'LATITUDE', 'LONGITUDE', 'CITY NAME', 'COUNTY NAME', 'STATE',\n",
       "       'ZIP CODE', 'PARENT COMPANIES', 'GHG QUANTITY (METRIC TONS CO2e)',\n",
       "       'SUBPARTS', 'Landfill ID', 'Landfill Name', 'State', 'Physical Address',\n",
       "       'City', 'County', 'Zip Code', 'Latitude', 'Longitude', 'Ownership Type',\n",
       "       'Landfill Owner Organization(s)', 'Year Landfill Opened',\n",
       "       'Landfill Closure Year', 'Current Landfill Status',\n",
       "       'Waste in Place (tons)', 'Waste in Place Year',\n",
       "       'LFG Collection System In Place?', 'LFG Collected (mmscfd)',\n",
       "       'LFG Flared (mmscfd)', 'Project ID', 'Current Project Status',\n",
       "       'Project Name', 'Project Start Date', 'Project Shutdown Date',\n",
       "       'Project Type Category', 'LFG Energy Project Type',\n",
       "       'RNG Delivery Method', 'Actual MW Generation', 'Rated MW Capacity',\n",
       "       'LFG Flow to Project (mmscfd)',\n",
       "       'Current Year Emission Reductions (MMTCO2e/yr) - Direct',\n",
       "       'Current Year Emission Reductions (MMTCO2e/yr) - Avoided',\n",
       "       'Methane_emission', 'Methane_Intensity'],\n",
       "      dtype='object')"
      ]
     },
     "execution_count": 241,
     "metadata": {},
     "output_type": "execute_result"
    }
   ],
   "source": [
    "Merged.columns"
   ]
  },
  {
   "cell_type": "code",
   "execution_count": 242,
   "id": "cc4a3f17",
   "metadata": {},
   "outputs": [
    {
     "data": {
      "text/plain": [
       "0    0.004279\n",
       "1    0.004279\n",
       "2    0.004279\n",
       "3    0.002608\n",
       "4    0.003533\n",
       "Name: Methane_Intensity, dtype: float64"
      ]
     },
     "execution_count": 242,
     "metadata": {},
     "output_type": "execute_result"
    }
   ],
   "source": [
    "Merged['Methane_Intensity'].head()"
   ]
  },
  {
   "cell_type": "code",
   "execution_count": 244,
   "id": "efa7bc31",
   "metadata": {},
   "outputs": [],
   "source": [
    "Top10=Merged.sort_values(by=['Methane_Intensity'],ascending=False).head(10)"
   ]
  },
  {
   "cell_type": "code",
   "execution_count": 245,
   "id": "03ff7c6d",
   "metadata": {},
   "outputs": [
    {
     "data": {
      "text/html": [
       "<div>\n",
       "<style scoped>\n",
       "    .dataframe tbody tr th:only-of-type {\n",
       "        vertical-align: middle;\n",
       "    }\n",
       "\n",
       "    .dataframe tbody tr th {\n",
       "        vertical-align: top;\n",
       "    }\n",
       "\n",
       "    .dataframe thead th {\n",
       "        text-align: right;\n",
       "    }\n",
       "</style>\n",
       "<table border=\"1\" class=\"dataframe\">\n",
       "  <thead>\n",
       "    <tr style=\"text-align: right;\">\n",
       "      <th></th>\n",
       "      <th>REPORTING YEAR</th>\n",
       "      <th>FACILITY NAME</th>\n",
       "      <th>GHGRP ID</th>\n",
       "      <th>REPORTED ADDRESS</th>\n",
       "      <th>LATITUDE</th>\n",
       "      <th>LONGITUDE</th>\n",
       "      <th>CITY NAME</th>\n",
       "      <th>COUNTY NAME</th>\n",
       "      <th>STATE</th>\n",
       "      <th>ZIP CODE</th>\n",
       "      <th>...</th>\n",
       "      <th>Project Type Category</th>\n",
       "      <th>LFG Energy Project Type</th>\n",
       "      <th>RNG Delivery Method</th>\n",
       "      <th>Actual MW Generation</th>\n",
       "      <th>Rated MW Capacity</th>\n",
       "      <th>LFG Flow to Project (mmscfd)</th>\n",
       "      <th>Current Year Emission Reductions (MMTCO2e/yr) - Direct</th>\n",
       "      <th>Current Year Emission Reductions (MMTCO2e/yr) - Avoided</th>\n",
       "      <th>Methane_emission</th>\n",
       "      <th>Methane_Intensity</th>\n",
       "    </tr>\n",
       "  </thead>\n",
       "  <tbody>\n",
       "    <tr>\n",
       "      <th>69</th>\n",
       "      <td>2021</td>\n",
       "      <td>Clover Flat Landfill</td>\n",
       "      <td>1013696</td>\n",
       "      <td>4380 Silverado Trail</td>\n",
       "      <td>38.576730</td>\n",
       "      <td>-122.53431</td>\n",
       "      <td>Calistoga</td>\n",
       "      <td>NAPA COUNTY</td>\n",
       "      <td>CA</td>\n",
       "      <td>94515</td>\n",
       "      <td>...</td>\n",
       "      <td>Electricity</td>\n",
       "      <td>Reciprocating Engine</td>\n",
       "      <td>NaN</td>\n",
       "      <td>0.750</td>\n",
       "      <td>NaN</td>\n",
       "      <td>0.35</td>\n",
       "      <td>0.03388</td>\n",
       "      <td>0.00389</td>\n",
       "      <td>28200.5</td>\n",
       "      <td>0.017429</td>\n",
       "    </tr>\n",
       "    <tr>\n",
       "      <th>91</th>\n",
       "      <td>2021</td>\n",
       "      <td>JOHNSON CANYON SANITARY LANDFILL</td>\n",
       "      <td>1007128</td>\n",
       "      <td>31400 JOHNSON CANYON ROAD</td>\n",
       "      <td>36.515520</td>\n",
       "      <td>-121.43420</td>\n",
       "      <td>GONZALES</td>\n",
       "      <td>MONTEREY COUNTY</td>\n",
       "      <td>CA</td>\n",
       "      <td>93926</td>\n",
       "      <td>...</td>\n",
       "      <td>Electricity</td>\n",
       "      <td>Reciprocating Engine</td>\n",
       "      <td>NaN</td>\n",
       "      <td>1.400</td>\n",
       "      <td>1.4</td>\n",
       "      <td>0.53</td>\n",
       "      <td>0.06325</td>\n",
       "      <td>0.00725</td>\n",
       "      <td>41146.5</td>\n",
       "      <td>0.011566</td>\n",
       "    </tr>\n",
       "    <tr>\n",
       "      <th>111</th>\n",
       "      <td>2021</td>\n",
       "      <td>Monterey Regional Waste Management District</td>\n",
       "      <td>1004550</td>\n",
       "      <td>14201 Del Monte Blvd</td>\n",
       "      <td>36.697498</td>\n",
       "      <td>-121.79350</td>\n",
       "      <td>Marina</td>\n",
       "      <td>MONTEREY COUNTY</td>\n",
       "      <td>CA</td>\n",
       "      <td>93933</td>\n",
       "      <td>...</td>\n",
       "      <td>Renewable Natural Gas</td>\n",
       "      <td>Vehicle Fuel</td>\n",
       "      <td>Local Use</td>\n",
       "      <td>NaN</td>\n",
       "      <td>NaN</td>\n",
       "      <td>NaN</td>\n",
       "      <td>0.00000</td>\n",
       "      <td>0.00000</td>\n",
       "      <td>132888.0</td>\n",
       "      <td>0.010182</td>\n",
       "    </tr>\n",
       "    <tr>\n",
       "      <th>112</th>\n",
       "      <td>2021</td>\n",
       "      <td>Monterey Regional Waste Management District</td>\n",
       "      <td>1004550</td>\n",
       "      <td>14201 Del Monte Blvd</td>\n",
       "      <td>36.697498</td>\n",
       "      <td>-121.79350</td>\n",
       "      <td>Marina</td>\n",
       "      <td>MONTEREY COUNTY</td>\n",
       "      <td>CA</td>\n",
       "      <td>93933</td>\n",
       "      <td>...</td>\n",
       "      <td>Electricity</td>\n",
       "      <td>Reciprocating Engine</td>\n",
       "      <td>NaN</td>\n",
       "      <td>1.200</td>\n",
       "      <td>NaN</td>\n",
       "      <td>NaN</td>\n",
       "      <td>0.00000</td>\n",
       "      <td>0.00000</td>\n",
       "      <td>132888.0</td>\n",
       "      <td>0.010182</td>\n",
       "    </tr>\n",
       "    <tr>\n",
       "      <th>113</th>\n",
       "      <td>2021</td>\n",
       "      <td>Monterey Regional Waste Management District</td>\n",
       "      <td>1004550</td>\n",
       "      <td>14201 Del Monte Blvd</td>\n",
       "      <td>36.697498</td>\n",
       "      <td>-121.79350</td>\n",
       "      <td>Marina</td>\n",
       "      <td>MONTEREY COUNTY</td>\n",
       "      <td>CA</td>\n",
       "      <td>93933</td>\n",
       "      <td>...</td>\n",
       "      <td>Electricity</td>\n",
       "      <td>Reciprocating Engine</td>\n",
       "      <td>NaN</td>\n",
       "      <td>0.800</td>\n",
       "      <td>0.8</td>\n",
       "      <td>NaN</td>\n",
       "      <td>0.00000</td>\n",
       "      <td>0.00000</td>\n",
       "      <td>132888.0</td>\n",
       "      <td>0.010182</td>\n",
       "    </tr>\n",
       "    <tr>\n",
       "      <th>114</th>\n",
       "      <td>2021</td>\n",
       "      <td>Monterey Regional Waste Management District</td>\n",
       "      <td>1004550</td>\n",
       "      <td>14201 Del Monte Blvd</td>\n",
       "      <td>36.697498</td>\n",
       "      <td>-121.79350</td>\n",
       "      <td>Marina</td>\n",
       "      <td>MONTEREY COUNTY</td>\n",
       "      <td>CA</td>\n",
       "      <td>93933</td>\n",
       "      <td>...</td>\n",
       "      <td>Electricity</td>\n",
       "      <td>Reciprocating Engine</td>\n",
       "      <td>NaN</td>\n",
       "      <td>0.987</td>\n",
       "      <td>NaN</td>\n",
       "      <td>NaN</td>\n",
       "      <td>0.00000</td>\n",
       "      <td>0.00000</td>\n",
       "      <td>132888.0</td>\n",
       "      <td>0.010182</td>\n",
       "    </tr>\n",
       "    <tr>\n",
       "      <th>115</th>\n",
       "      <td>2021</td>\n",
       "      <td>Monterey Regional Waste Management District</td>\n",
       "      <td>1004550</td>\n",
       "      <td>14201 Del Monte Blvd</td>\n",
       "      <td>36.697498</td>\n",
       "      <td>-121.79350</td>\n",
       "      <td>Marina</td>\n",
       "      <td>MONTEREY COUNTY</td>\n",
       "      <td>CA</td>\n",
       "      <td>93933</td>\n",
       "      <td>...</td>\n",
       "      <td>Electricity</td>\n",
       "      <td>Reciprocating Engine</td>\n",
       "      <td>NaN</td>\n",
       "      <td>0.987</td>\n",
       "      <td>NaN</td>\n",
       "      <td>NaN</td>\n",
       "      <td>0.04459</td>\n",
       "      <td>0.00511</td>\n",
       "      <td>132888.0</td>\n",
       "      <td>0.010182</td>\n",
       "    </tr>\n",
       "    <tr>\n",
       "      <th>116</th>\n",
       "      <td>2021</td>\n",
       "      <td>Monterey Regional Waste Management District</td>\n",
       "      <td>1004550</td>\n",
       "      <td>14201 Del Monte Blvd</td>\n",
       "      <td>36.697498</td>\n",
       "      <td>-121.79350</td>\n",
       "      <td>Marina</td>\n",
       "      <td>MONTEREY COUNTY</td>\n",
       "      <td>CA</td>\n",
       "      <td>93933</td>\n",
       "      <td>...</td>\n",
       "      <td>Electricity</td>\n",
       "      <td>Reciprocating Engine</td>\n",
       "      <td>NaN</td>\n",
       "      <td>1.057</td>\n",
       "      <td>NaN</td>\n",
       "      <td>NaN</td>\n",
       "      <td>0.04776</td>\n",
       "      <td>0.00548</td>\n",
       "      <td>132888.0</td>\n",
       "      <td>0.010182</td>\n",
       "    </tr>\n",
       "    <tr>\n",
       "      <th>117</th>\n",
       "      <td>2021</td>\n",
       "      <td>Monterey Regional Waste Management District</td>\n",
       "      <td>1004550</td>\n",
       "      <td>14201 Del Monte Blvd</td>\n",
       "      <td>36.697498</td>\n",
       "      <td>-121.79350</td>\n",
       "      <td>Marina</td>\n",
       "      <td>MONTEREY COUNTY</td>\n",
       "      <td>CA</td>\n",
       "      <td>93933</td>\n",
       "      <td>...</td>\n",
       "      <td>Electricity</td>\n",
       "      <td>Cogeneration</td>\n",
       "      <td>NaN</td>\n",
       "      <td>1.600</td>\n",
       "      <td>1.6</td>\n",
       "      <td>NaN</td>\n",
       "      <td>0.07229</td>\n",
       "      <td>0.00829</td>\n",
       "      <td>132888.0</td>\n",
       "      <td>0.010182</td>\n",
       "    </tr>\n",
       "    <tr>\n",
       "      <th>118</th>\n",
       "      <td>2021</td>\n",
       "      <td>Monterey Regional Waste Management District</td>\n",
       "      <td>1004550</td>\n",
       "      <td>14201 Del Monte Blvd</td>\n",
       "      <td>36.697498</td>\n",
       "      <td>-121.79350</td>\n",
       "      <td>Marina</td>\n",
       "      <td>MONTEREY COUNTY</td>\n",
       "      <td>CA</td>\n",
       "      <td>93933</td>\n",
       "      <td>...</td>\n",
       "      <td>Electricity</td>\n",
       "      <td>Reciprocating Engine</td>\n",
       "      <td>NaN</td>\n",
       "      <td>1.400</td>\n",
       "      <td>NaN</td>\n",
       "      <td>NaN</td>\n",
       "      <td>0.06325</td>\n",
       "      <td>0.00725</td>\n",
       "      <td>132888.0</td>\n",
       "      <td>0.010182</td>\n",
       "    </tr>\n",
       "  </tbody>\n",
       "</table>\n",
       "<p>10 rows × 47 columns</p>\n",
       "</div>"
      ],
      "text/plain": [
       "     REPORTING YEAR                                FACILITY NAME  GHGRP ID  \\\n",
       "69             2021                         Clover Flat Landfill   1013696   \n",
       "91             2021             JOHNSON CANYON SANITARY LANDFILL   1007128   \n",
       "111            2021  Monterey Regional Waste Management District   1004550   \n",
       "112            2021  Monterey Regional Waste Management District   1004550   \n",
       "113            2021  Monterey Regional Waste Management District   1004550   \n",
       "114            2021  Monterey Regional Waste Management District   1004550   \n",
       "115            2021  Monterey Regional Waste Management District   1004550   \n",
       "116            2021  Monterey Regional Waste Management District   1004550   \n",
       "117            2021  Monterey Regional Waste Management District   1004550   \n",
       "118            2021  Monterey Regional Waste Management District   1004550   \n",
       "\n",
       "              REPORTED ADDRESS   LATITUDE  LONGITUDE  CITY NAME  \\\n",
       "69        4380 Silverado Trail  38.576730 -122.53431  Calistoga   \n",
       "91   31400 JOHNSON CANYON ROAD  36.515520 -121.43420   GONZALES   \n",
       "111       14201 Del Monte Blvd  36.697498 -121.79350     Marina   \n",
       "112       14201 Del Monte Blvd  36.697498 -121.79350     Marina   \n",
       "113       14201 Del Monte Blvd  36.697498 -121.79350     Marina   \n",
       "114       14201 Del Monte Blvd  36.697498 -121.79350     Marina   \n",
       "115       14201 Del Monte Blvd  36.697498 -121.79350     Marina   \n",
       "116       14201 Del Monte Blvd  36.697498 -121.79350     Marina   \n",
       "117       14201 Del Monte Blvd  36.697498 -121.79350     Marina   \n",
       "118       14201 Del Monte Blvd  36.697498 -121.79350     Marina   \n",
       "\n",
       "         COUNTY NAME STATE  ZIP CODE  ...  Project Type Category  \\\n",
       "69       NAPA COUNTY    CA     94515  ...            Electricity   \n",
       "91   MONTEREY COUNTY    CA     93926  ...            Electricity   \n",
       "111  MONTEREY COUNTY    CA     93933  ...  Renewable Natural Gas   \n",
       "112  MONTEREY COUNTY    CA     93933  ...            Electricity   \n",
       "113  MONTEREY COUNTY    CA     93933  ...            Electricity   \n",
       "114  MONTEREY COUNTY    CA     93933  ...            Electricity   \n",
       "115  MONTEREY COUNTY    CA     93933  ...            Electricity   \n",
       "116  MONTEREY COUNTY    CA     93933  ...            Electricity   \n",
       "117  MONTEREY COUNTY    CA     93933  ...            Electricity   \n",
       "118  MONTEREY COUNTY    CA     93933  ...            Electricity   \n",
       "\n",
       "     LFG Energy Project Type RNG Delivery Method  Actual MW Generation  \\\n",
       "69      Reciprocating Engine                 NaN                 0.750   \n",
       "91      Reciprocating Engine                 NaN                 1.400   \n",
       "111             Vehicle Fuel           Local Use                   NaN   \n",
       "112     Reciprocating Engine                 NaN                 1.200   \n",
       "113     Reciprocating Engine                 NaN                 0.800   \n",
       "114     Reciprocating Engine                 NaN                 0.987   \n",
       "115     Reciprocating Engine                 NaN                 0.987   \n",
       "116     Reciprocating Engine                 NaN                 1.057   \n",
       "117             Cogeneration                 NaN                 1.600   \n",
       "118     Reciprocating Engine                 NaN                 1.400   \n",
       "\n",
       "    Rated MW Capacity LFG Flow to Project (mmscfd)  \\\n",
       "69                NaN                         0.35   \n",
       "91                1.4                         0.53   \n",
       "111               NaN                          NaN   \n",
       "112               NaN                          NaN   \n",
       "113               0.8                          NaN   \n",
       "114               NaN                          NaN   \n",
       "115               NaN                          NaN   \n",
       "116               NaN                          NaN   \n",
       "117               1.6                          NaN   \n",
       "118               NaN                          NaN   \n",
       "\n",
       "    Current Year Emission Reductions (MMTCO2e/yr) - Direct  \\\n",
       "69                                             0.03388       \n",
       "91                                             0.06325       \n",
       "111                                            0.00000       \n",
       "112                                            0.00000       \n",
       "113                                            0.00000       \n",
       "114                                            0.00000       \n",
       "115                                            0.04459       \n",
       "116                                            0.04776       \n",
       "117                                            0.07229       \n",
       "118                                            0.06325       \n",
       "\n",
       "    Current Year Emission Reductions (MMTCO2e/yr) - Avoided Methane_emission  \\\n",
       "69                                             0.00389               28200.5   \n",
       "91                                             0.00725               41146.5   \n",
       "111                                            0.00000              132888.0   \n",
       "112                                            0.00000              132888.0   \n",
       "113                                            0.00000              132888.0   \n",
       "114                                            0.00000              132888.0   \n",
       "115                                            0.00511              132888.0   \n",
       "116                                            0.00548              132888.0   \n",
       "117                                            0.00829              132888.0   \n",
       "118                                            0.00725              132888.0   \n",
       "\n",
       "    Methane_Intensity  \n",
       "69           0.017429  \n",
       "91           0.011566  \n",
       "111          0.010182  \n",
       "112          0.010182  \n",
       "113          0.010182  \n",
       "114          0.010182  \n",
       "115          0.010182  \n",
       "116          0.010182  \n",
       "117          0.010182  \n",
       "118          0.010182  \n",
       "\n",
       "[10 rows x 47 columns]"
      ]
     },
     "execution_count": 245,
     "metadata": {},
     "output_type": "execute_result"
    }
   ],
   "source": [
    "Merged.nlargest(n=10, columns=['Methane_Intensity'])"
   ]
  },
  {
   "cell_type": "code",
   "execution_count": 263,
   "id": "9d8a9a89",
   "metadata": {},
   "outputs": [
    {
     "data": {
      "application/vnd.plotly.v1+json": {
       "config": {
        "plotlyServerURL": "https://plot.ly"
       },
       "data": [
        {
         "alignmentgroup": "True",
         "hovertemplate": "Project Type Category=Electricity<br>LFG Collection System In Place?=%{x}<br>Waste in Place (tons)=%{y}<extra></extra>",
         "legendgroup": "Electricity",
         "marker": {
          "color": "#636efa"
         },
         "name": "Electricity",
         "notched": false,
         "offsetgroup": "Electricity",
         "orientation": "v",
         "showlegend": true,
         "type": "box",
         "x": [
          "Yes",
          "Yes",
          "Yes",
          "Yes",
          "Yes",
          "Yes",
          "Yes",
          "Yes",
          "Yes"
         ],
         "x0": " ",
         "xaxis": "x",
         "y": [
          1618048,
          3557549,
          13051156,
          13051156,
          13051156,
          13051156,
          13051156,
          13051156,
          13051156
         ],
         "y0": " ",
         "yaxis": "y"
        },
        {
         "alignmentgroup": "True",
         "hovertemplate": "Project Type Category=Renewable Natural Gas<br>LFG Collection System In Place?=%{x}<br>Waste in Place (tons)=%{y}<extra></extra>",
         "legendgroup": "Renewable Natural Gas",
         "marker": {
          "color": "#EF553B"
         },
         "name": "Renewable Natural Gas",
         "notched": false,
         "offsetgroup": "Renewable Natural Gas",
         "orientation": "v",
         "showlegend": true,
         "type": "box",
         "x": [
          "Yes"
         ],
         "x0": " ",
         "xaxis": "x",
         "y": [
          13051156
         ],
         "y0": " ",
         "yaxis": "y"
        }
       ],
       "layout": {
        "boxmode": "group",
        "legend": {
         "title": {
          "text": "Project Type Category"
         },
         "tracegroupgap": 0
        },
        "margin": {
         "t": 60
        },
        "template": {
         "data": {
          "bar": [
           {
            "error_x": {
             "color": "#2a3f5f"
            },
            "error_y": {
             "color": "#2a3f5f"
            },
            "marker": {
             "line": {
              "color": "#E5ECF6",
              "width": 0.5
             },
             "pattern": {
              "fillmode": "overlay",
              "size": 10,
              "solidity": 0.2
             }
            },
            "type": "bar"
           }
          ],
          "barpolar": [
           {
            "marker": {
             "line": {
              "color": "#E5ECF6",
              "width": 0.5
             },
             "pattern": {
              "fillmode": "overlay",
              "size": 10,
              "solidity": 0.2
             }
            },
            "type": "barpolar"
           }
          ],
          "carpet": [
           {
            "aaxis": {
             "endlinecolor": "#2a3f5f",
             "gridcolor": "white",
             "linecolor": "white",
             "minorgridcolor": "white",
             "startlinecolor": "#2a3f5f"
            },
            "baxis": {
             "endlinecolor": "#2a3f5f",
             "gridcolor": "white",
             "linecolor": "white",
             "minorgridcolor": "white",
             "startlinecolor": "#2a3f5f"
            },
            "type": "carpet"
           }
          ],
          "choropleth": [
           {
            "colorbar": {
             "outlinewidth": 0,
             "ticks": ""
            },
            "type": "choropleth"
           }
          ],
          "contour": [
           {
            "colorbar": {
             "outlinewidth": 0,
             "ticks": ""
            },
            "colorscale": [
             [
              0,
              "#0d0887"
             ],
             [
              0.1111111111111111,
              "#46039f"
             ],
             [
              0.2222222222222222,
              "#7201a8"
             ],
             [
              0.3333333333333333,
              "#9c179e"
             ],
             [
              0.4444444444444444,
              "#bd3786"
             ],
             [
              0.5555555555555556,
              "#d8576b"
             ],
             [
              0.6666666666666666,
              "#ed7953"
             ],
             [
              0.7777777777777778,
              "#fb9f3a"
             ],
             [
              0.8888888888888888,
              "#fdca26"
             ],
             [
              1,
              "#f0f921"
             ]
            ],
            "type": "contour"
           }
          ],
          "contourcarpet": [
           {
            "colorbar": {
             "outlinewidth": 0,
             "ticks": ""
            },
            "type": "contourcarpet"
           }
          ],
          "heatmap": [
           {
            "colorbar": {
             "outlinewidth": 0,
             "ticks": ""
            },
            "colorscale": [
             [
              0,
              "#0d0887"
             ],
             [
              0.1111111111111111,
              "#46039f"
             ],
             [
              0.2222222222222222,
              "#7201a8"
             ],
             [
              0.3333333333333333,
              "#9c179e"
             ],
             [
              0.4444444444444444,
              "#bd3786"
             ],
             [
              0.5555555555555556,
              "#d8576b"
             ],
             [
              0.6666666666666666,
              "#ed7953"
             ],
             [
              0.7777777777777778,
              "#fb9f3a"
             ],
             [
              0.8888888888888888,
              "#fdca26"
             ],
             [
              1,
              "#f0f921"
             ]
            ],
            "type": "heatmap"
           }
          ],
          "heatmapgl": [
           {
            "colorbar": {
             "outlinewidth": 0,
             "ticks": ""
            },
            "colorscale": [
             [
              0,
              "#0d0887"
             ],
             [
              0.1111111111111111,
              "#46039f"
             ],
             [
              0.2222222222222222,
              "#7201a8"
             ],
             [
              0.3333333333333333,
              "#9c179e"
             ],
             [
              0.4444444444444444,
              "#bd3786"
             ],
             [
              0.5555555555555556,
              "#d8576b"
             ],
             [
              0.6666666666666666,
              "#ed7953"
             ],
             [
              0.7777777777777778,
              "#fb9f3a"
             ],
             [
              0.8888888888888888,
              "#fdca26"
             ],
             [
              1,
              "#f0f921"
             ]
            ],
            "type": "heatmapgl"
           }
          ],
          "histogram": [
           {
            "marker": {
             "pattern": {
              "fillmode": "overlay",
              "size": 10,
              "solidity": 0.2
             }
            },
            "type": "histogram"
           }
          ],
          "histogram2d": [
           {
            "colorbar": {
             "outlinewidth": 0,
             "ticks": ""
            },
            "colorscale": [
             [
              0,
              "#0d0887"
             ],
             [
              0.1111111111111111,
              "#46039f"
             ],
             [
              0.2222222222222222,
              "#7201a8"
             ],
             [
              0.3333333333333333,
              "#9c179e"
             ],
             [
              0.4444444444444444,
              "#bd3786"
             ],
             [
              0.5555555555555556,
              "#d8576b"
             ],
             [
              0.6666666666666666,
              "#ed7953"
             ],
             [
              0.7777777777777778,
              "#fb9f3a"
             ],
             [
              0.8888888888888888,
              "#fdca26"
             ],
             [
              1,
              "#f0f921"
             ]
            ],
            "type": "histogram2d"
           }
          ],
          "histogram2dcontour": [
           {
            "colorbar": {
             "outlinewidth": 0,
             "ticks": ""
            },
            "colorscale": [
             [
              0,
              "#0d0887"
             ],
             [
              0.1111111111111111,
              "#46039f"
             ],
             [
              0.2222222222222222,
              "#7201a8"
             ],
             [
              0.3333333333333333,
              "#9c179e"
             ],
             [
              0.4444444444444444,
              "#bd3786"
             ],
             [
              0.5555555555555556,
              "#d8576b"
             ],
             [
              0.6666666666666666,
              "#ed7953"
             ],
             [
              0.7777777777777778,
              "#fb9f3a"
             ],
             [
              0.8888888888888888,
              "#fdca26"
             ],
             [
              1,
              "#f0f921"
             ]
            ],
            "type": "histogram2dcontour"
           }
          ],
          "mesh3d": [
           {
            "colorbar": {
             "outlinewidth": 0,
             "ticks": ""
            },
            "type": "mesh3d"
           }
          ],
          "parcoords": [
           {
            "line": {
             "colorbar": {
              "outlinewidth": 0,
              "ticks": ""
             }
            },
            "type": "parcoords"
           }
          ],
          "pie": [
           {
            "automargin": true,
            "type": "pie"
           }
          ],
          "scatter": [
           {
            "fillpattern": {
             "fillmode": "overlay",
             "size": 10,
             "solidity": 0.2
            },
            "type": "scatter"
           }
          ],
          "scatter3d": [
           {
            "line": {
             "colorbar": {
              "outlinewidth": 0,
              "ticks": ""
             }
            },
            "marker": {
             "colorbar": {
              "outlinewidth": 0,
              "ticks": ""
             }
            },
            "type": "scatter3d"
           }
          ],
          "scattercarpet": [
           {
            "marker": {
             "colorbar": {
              "outlinewidth": 0,
              "ticks": ""
             }
            },
            "type": "scattercarpet"
           }
          ],
          "scattergeo": [
           {
            "marker": {
             "colorbar": {
              "outlinewidth": 0,
              "ticks": ""
             }
            },
            "type": "scattergeo"
           }
          ],
          "scattergl": [
           {
            "marker": {
             "colorbar": {
              "outlinewidth": 0,
              "ticks": ""
             }
            },
            "type": "scattergl"
           }
          ],
          "scattermapbox": [
           {
            "marker": {
             "colorbar": {
              "outlinewidth": 0,
              "ticks": ""
             }
            },
            "type": "scattermapbox"
           }
          ],
          "scatterpolar": [
           {
            "marker": {
             "colorbar": {
              "outlinewidth": 0,
              "ticks": ""
             }
            },
            "type": "scatterpolar"
           }
          ],
          "scatterpolargl": [
           {
            "marker": {
             "colorbar": {
              "outlinewidth": 0,
              "ticks": ""
             }
            },
            "type": "scatterpolargl"
           }
          ],
          "scatterternary": [
           {
            "marker": {
             "colorbar": {
              "outlinewidth": 0,
              "ticks": ""
             }
            },
            "type": "scatterternary"
           }
          ],
          "surface": [
           {
            "colorbar": {
             "outlinewidth": 0,
             "ticks": ""
            },
            "colorscale": [
             [
              0,
              "#0d0887"
             ],
             [
              0.1111111111111111,
              "#46039f"
             ],
             [
              0.2222222222222222,
              "#7201a8"
             ],
             [
              0.3333333333333333,
              "#9c179e"
             ],
             [
              0.4444444444444444,
              "#bd3786"
             ],
             [
              0.5555555555555556,
              "#d8576b"
             ],
             [
              0.6666666666666666,
              "#ed7953"
             ],
             [
              0.7777777777777778,
              "#fb9f3a"
             ],
             [
              0.8888888888888888,
              "#fdca26"
             ],
             [
              1,
              "#f0f921"
             ]
            ],
            "type": "surface"
           }
          ],
          "table": [
           {
            "cells": {
             "fill": {
              "color": "#EBF0F8"
             },
             "line": {
              "color": "white"
             }
            },
            "header": {
             "fill": {
              "color": "#C8D4E3"
             },
             "line": {
              "color": "white"
             }
            },
            "type": "table"
           }
          ]
         },
         "layout": {
          "annotationdefaults": {
           "arrowcolor": "#2a3f5f",
           "arrowhead": 0,
           "arrowwidth": 1
          },
          "autotypenumbers": "strict",
          "coloraxis": {
           "colorbar": {
            "outlinewidth": 0,
            "ticks": ""
           }
          },
          "colorscale": {
           "diverging": [
            [
             0,
             "#8e0152"
            ],
            [
             0.1,
             "#c51b7d"
            ],
            [
             0.2,
             "#de77ae"
            ],
            [
             0.3,
             "#f1b6da"
            ],
            [
             0.4,
             "#fde0ef"
            ],
            [
             0.5,
             "#f7f7f7"
            ],
            [
             0.6,
             "#e6f5d0"
            ],
            [
             0.7,
             "#b8e186"
            ],
            [
             0.8,
             "#7fbc41"
            ],
            [
             0.9,
             "#4d9221"
            ],
            [
             1,
             "#276419"
            ]
           ],
           "sequential": [
            [
             0,
             "#0d0887"
            ],
            [
             0.1111111111111111,
             "#46039f"
            ],
            [
             0.2222222222222222,
             "#7201a8"
            ],
            [
             0.3333333333333333,
             "#9c179e"
            ],
            [
             0.4444444444444444,
             "#bd3786"
            ],
            [
             0.5555555555555556,
             "#d8576b"
            ],
            [
             0.6666666666666666,
             "#ed7953"
            ],
            [
             0.7777777777777778,
             "#fb9f3a"
            ],
            [
             0.8888888888888888,
             "#fdca26"
            ],
            [
             1,
             "#f0f921"
            ]
           ],
           "sequentialminus": [
            [
             0,
             "#0d0887"
            ],
            [
             0.1111111111111111,
             "#46039f"
            ],
            [
             0.2222222222222222,
             "#7201a8"
            ],
            [
             0.3333333333333333,
             "#9c179e"
            ],
            [
             0.4444444444444444,
             "#bd3786"
            ],
            [
             0.5555555555555556,
             "#d8576b"
            ],
            [
             0.6666666666666666,
             "#ed7953"
            ],
            [
             0.7777777777777778,
             "#fb9f3a"
            ],
            [
             0.8888888888888888,
             "#fdca26"
            ],
            [
             1,
             "#f0f921"
            ]
           ]
          },
          "colorway": [
           "#636efa",
           "#EF553B",
           "#00cc96",
           "#ab63fa",
           "#FFA15A",
           "#19d3f3",
           "#FF6692",
           "#B6E880",
           "#FF97FF",
           "#FECB52"
          ],
          "font": {
           "color": "#2a3f5f"
          },
          "geo": {
           "bgcolor": "white",
           "lakecolor": "white",
           "landcolor": "#E5ECF6",
           "showlakes": true,
           "showland": true,
           "subunitcolor": "white"
          },
          "hoverlabel": {
           "align": "left"
          },
          "hovermode": "closest",
          "mapbox": {
           "style": "light"
          },
          "paper_bgcolor": "white",
          "plot_bgcolor": "#E5ECF6",
          "polar": {
           "angularaxis": {
            "gridcolor": "white",
            "linecolor": "white",
            "ticks": ""
           },
           "bgcolor": "#E5ECF6",
           "radialaxis": {
            "gridcolor": "white",
            "linecolor": "white",
            "ticks": ""
           }
          },
          "scene": {
           "xaxis": {
            "backgroundcolor": "#E5ECF6",
            "gridcolor": "white",
            "gridwidth": 2,
            "linecolor": "white",
            "showbackground": true,
            "ticks": "",
            "zerolinecolor": "white"
           },
           "yaxis": {
            "backgroundcolor": "#E5ECF6",
            "gridcolor": "white",
            "gridwidth": 2,
            "linecolor": "white",
            "showbackground": true,
            "ticks": "",
            "zerolinecolor": "white"
           },
           "zaxis": {
            "backgroundcolor": "#E5ECF6",
            "gridcolor": "white",
            "gridwidth": 2,
            "linecolor": "white",
            "showbackground": true,
            "ticks": "",
            "zerolinecolor": "white"
           }
          },
          "shapedefaults": {
           "line": {
            "color": "#2a3f5f"
           }
          },
          "ternary": {
           "aaxis": {
            "gridcolor": "white",
            "linecolor": "white",
            "ticks": ""
           },
           "baxis": {
            "gridcolor": "white",
            "linecolor": "white",
            "ticks": ""
           },
           "bgcolor": "#E5ECF6",
           "caxis": {
            "gridcolor": "white",
            "linecolor": "white",
            "ticks": ""
           }
          },
          "title": {
           "x": 0.05
          },
          "xaxis": {
           "automargin": true,
           "gridcolor": "white",
           "linecolor": "white",
           "ticks": "",
           "title": {
            "standoff": 15
           },
           "zerolinecolor": "white",
           "zerolinewidth": 2
          },
          "yaxis": {
           "automargin": true,
           "gridcolor": "white",
           "linecolor": "white",
           "ticks": "",
           "title": {
            "standoff": 15
           },
           "zerolinecolor": "white",
           "zerolinewidth": 2
          }
         }
        },
        "xaxis": {
         "anchor": "y",
         "domain": [
          0,
          1
         ],
         "title": {
          "text": "LFG Collection System In Place?"
         }
        },
        "yaxis": {
         "anchor": "x",
         "domain": [
          0,
          1
         ],
         "title": {
          "text": "Waste in Place (tons)"
         }
        }
       }
      },
      "text/html": [
       "<div>                            <div id=\"bda645e6-dc7b-47ed-8917-ab5d14e6852a\" class=\"plotly-graph-div\" style=\"height:525px; width:100%;\"></div>            <script type=\"text/javascript\">                require([\"plotly\"], function(Plotly) {                    window.PLOTLYENV=window.PLOTLYENV || {};                                    if (document.getElementById(\"bda645e6-dc7b-47ed-8917-ab5d14e6852a\")) {                    Plotly.newPlot(                        \"bda645e6-dc7b-47ed-8917-ab5d14e6852a\",                        [{\"alignmentgroup\":\"True\",\"hovertemplate\":\"Project Type Category=Electricity<br>LFG Collection System In Place?=%{x}<br>Waste in Place (tons)=%{y}<extra></extra>\",\"legendgroup\":\"Electricity\",\"marker\":{\"color\":\"#636efa\"},\"name\":\"Electricity\",\"notched\":false,\"offsetgroup\":\"Electricity\",\"orientation\":\"v\",\"showlegend\":true,\"x\":[\"Yes\",\"Yes\",\"Yes\",\"Yes\",\"Yes\",\"Yes\",\"Yes\",\"Yes\",\"Yes\"],\"x0\":\" \",\"xaxis\":\"x\",\"y\":[1618048.0,3557549.0,13051156.0,13051156.0,13051156.0,13051156.0,13051156.0,13051156.0,13051156.0],\"y0\":\" \",\"yaxis\":\"y\",\"type\":\"box\"},{\"alignmentgroup\":\"True\",\"hovertemplate\":\"Project Type Category=Renewable Natural Gas<br>LFG Collection System In Place?=%{x}<br>Waste in Place (tons)=%{y}<extra></extra>\",\"legendgroup\":\"Renewable Natural Gas\",\"marker\":{\"color\":\"#EF553B\"},\"name\":\"Renewable Natural Gas\",\"notched\":false,\"offsetgroup\":\"Renewable Natural Gas\",\"orientation\":\"v\",\"showlegend\":true,\"x\":[\"Yes\"],\"x0\":\" \",\"xaxis\":\"x\",\"y\":[13051156.0],\"y0\":\" \",\"yaxis\":\"y\",\"type\":\"box\"}],                        {\"template\":{\"data\":{\"histogram2dcontour\":[{\"type\":\"histogram2dcontour\",\"colorbar\":{\"outlinewidth\":0,\"ticks\":\"\"},\"colorscale\":[[0.0,\"#0d0887\"],[0.1111111111111111,\"#46039f\"],[0.2222222222222222,\"#7201a8\"],[0.3333333333333333,\"#9c179e\"],[0.4444444444444444,\"#bd3786\"],[0.5555555555555556,\"#d8576b\"],[0.6666666666666666,\"#ed7953\"],[0.7777777777777778,\"#fb9f3a\"],[0.8888888888888888,\"#fdca26\"],[1.0,\"#f0f921\"]]}],\"choropleth\":[{\"type\":\"choropleth\",\"colorbar\":{\"outlinewidth\":0,\"ticks\":\"\"}}],\"histogram2d\":[{\"type\":\"histogram2d\",\"colorbar\":{\"outlinewidth\":0,\"ticks\":\"\"},\"colorscale\":[[0.0,\"#0d0887\"],[0.1111111111111111,\"#46039f\"],[0.2222222222222222,\"#7201a8\"],[0.3333333333333333,\"#9c179e\"],[0.4444444444444444,\"#bd3786\"],[0.5555555555555556,\"#d8576b\"],[0.6666666666666666,\"#ed7953\"],[0.7777777777777778,\"#fb9f3a\"],[0.8888888888888888,\"#fdca26\"],[1.0,\"#f0f921\"]]}],\"heatmap\":[{\"type\":\"heatmap\",\"colorbar\":{\"outlinewidth\":0,\"ticks\":\"\"},\"colorscale\":[[0.0,\"#0d0887\"],[0.1111111111111111,\"#46039f\"],[0.2222222222222222,\"#7201a8\"],[0.3333333333333333,\"#9c179e\"],[0.4444444444444444,\"#bd3786\"],[0.5555555555555556,\"#d8576b\"],[0.6666666666666666,\"#ed7953\"],[0.7777777777777778,\"#fb9f3a\"],[0.8888888888888888,\"#fdca26\"],[1.0,\"#f0f921\"]]}],\"heatmapgl\":[{\"type\":\"heatmapgl\",\"colorbar\":{\"outlinewidth\":0,\"ticks\":\"\"},\"colorscale\":[[0.0,\"#0d0887\"],[0.1111111111111111,\"#46039f\"],[0.2222222222222222,\"#7201a8\"],[0.3333333333333333,\"#9c179e\"],[0.4444444444444444,\"#bd3786\"],[0.5555555555555556,\"#d8576b\"],[0.6666666666666666,\"#ed7953\"],[0.7777777777777778,\"#fb9f3a\"],[0.8888888888888888,\"#fdca26\"],[1.0,\"#f0f921\"]]}],\"contourcarpet\":[{\"type\":\"contourcarpet\",\"colorbar\":{\"outlinewidth\":0,\"ticks\":\"\"}}],\"contour\":[{\"type\":\"contour\",\"colorbar\":{\"outlinewidth\":0,\"ticks\":\"\"},\"colorscale\":[[0.0,\"#0d0887\"],[0.1111111111111111,\"#46039f\"],[0.2222222222222222,\"#7201a8\"],[0.3333333333333333,\"#9c179e\"],[0.4444444444444444,\"#bd3786\"],[0.5555555555555556,\"#d8576b\"],[0.6666666666666666,\"#ed7953\"],[0.7777777777777778,\"#fb9f3a\"],[0.8888888888888888,\"#fdca26\"],[1.0,\"#f0f921\"]]}],\"surface\":[{\"type\":\"surface\",\"colorbar\":{\"outlinewidth\":0,\"ticks\":\"\"},\"colorscale\":[[0.0,\"#0d0887\"],[0.1111111111111111,\"#46039f\"],[0.2222222222222222,\"#7201a8\"],[0.3333333333333333,\"#9c179e\"],[0.4444444444444444,\"#bd3786\"],[0.5555555555555556,\"#d8576b\"],[0.6666666666666666,\"#ed7953\"],[0.7777777777777778,\"#fb9f3a\"],[0.8888888888888888,\"#fdca26\"],[1.0,\"#f0f921\"]]}],\"mesh3d\":[{\"type\":\"mesh3d\",\"colorbar\":{\"outlinewidth\":0,\"ticks\":\"\"}}],\"scatter\":[{\"fillpattern\":{\"fillmode\":\"overlay\",\"size\":10,\"solidity\":0.2},\"type\":\"scatter\"}],\"parcoords\":[{\"type\":\"parcoords\",\"line\":{\"colorbar\":{\"outlinewidth\":0,\"ticks\":\"\"}}}],\"scatterpolargl\":[{\"type\":\"scatterpolargl\",\"marker\":{\"colorbar\":{\"outlinewidth\":0,\"ticks\":\"\"}}}],\"bar\":[{\"error_x\":{\"color\":\"#2a3f5f\"},\"error_y\":{\"color\":\"#2a3f5f\"},\"marker\":{\"line\":{\"color\":\"#E5ECF6\",\"width\":0.5},\"pattern\":{\"fillmode\":\"overlay\",\"size\":10,\"solidity\":0.2}},\"type\":\"bar\"}],\"scattergeo\":[{\"type\":\"scattergeo\",\"marker\":{\"colorbar\":{\"outlinewidth\":0,\"ticks\":\"\"}}}],\"scatterpolar\":[{\"type\":\"scatterpolar\",\"marker\":{\"colorbar\":{\"outlinewidth\":0,\"ticks\":\"\"}}}],\"histogram\":[{\"marker\":{\"pattern\":{\"fillmode\":\"overlay\",\"size\":10,\"solidity\":0.2}},\"type\":\"histogram\"}],\"scattergl\":[{\"type\":\"scattergl\",\"marker\":{\"colorbar\":{\"outlinewidth\":0,\"ticks\":\"\"}}}],\"scatter3d\":[{\"type\":\"scatter3d\",\"line\":{\"colorbar\":{\"outlinewidth\":0,\"ticks\":\"\"}},\"marker\":{\"colorbar\":{\"outlinewidth\":0,\"ticks\":\"\"}}}],\"scattermapbox\":[{\"type\":\"scattermapbox\",\"marker\":{\"colorbar\":{\"outlinewidth\":0,\"ticks\":\"\"}}}],\"scatterternary\":[{\"type\":\"scatterternary\",\"marker\":{\"colorbar\":{\"outlinewidth\":0,\"ticks\":\"\"}}}],\"scattercarpet\":[{\"type\":\"scattercarpet\",\"marker\":{\"colorbar\":{\"outlinewidth\":0,\"ticks\":\"\"}}}],\"carpet\":[{\"aaxis\":{\"endlinecolor\":\"#2a3f5f\",\"gridcolor\":\"white\",\"linecolor\":\"white\",\"minorgridcolor\":\"white\",\"startlinecolor\":\"#2a3f5f\"},\"baxis\":{\"endlinecolor\":\"#2a3f5f\",\"gridcolor\":\"white\",\"linecolor\":\"white\",\"minorgridcolor\":\"white\",\"startlinecolor\":\"#2a3f5f\"},\"type\":\"carpet\"}],\"table\":[{\"cells\":{\"fill\":{\"color\":\"#EBF0F8\"},\"line\":{\"color\":\"white\"}},\"header\":{\"fill\":{\"color\":\"#C8D4E3\"},\"line\":{\"color\":\"white\"}},\"type\":\"table\"}],\"barpolar\":[{\"marker\":{\"line\":{\"color\":\"#E5ECF6\",\"width\":0.5},\"pattern\":{\"fillmode\":\"overlay\",\"size\":10,\"solidity\":0.2}},\"type\":\"barpolar\"}],\"pie\":[{\"automargin\":true,\"type\":\"pie\"}]},\"layout\":{\"autotypenumbers\":\"strict\",\"colorway\":[\"#636efa\",\"#EF553B\",\"#00cc96\",\"#ab63fa\",\"#FFA15A\",\"#19d3f3\",\"#FF6692\",\"#B6E880\",\"#FF97FF\",\"#FECB52\"],\"font\":{\"color\":\"#2a3f5f\"},\"hovermode\":\"closest\",\"hoverlabel\":{\"align\":\"left\"},\"paper_bgcolor\":\"white\",\"plot_bgcolor\":\"#E5ECF6\",\"polar\":{\"bgcolor\":\"#E5ECF6\",\"angularaxis\":{\"gridcolor\":\"white\",\"linecolor\":\"white\",\"ticks\":\"\"},\"radialaxis\":{\"gridcolor\":\"white\",\"linecolor\":\"white\",\"ticks\":\"\"}},\"ternary\":{\"bgcolor\":\"#E5ECF6\",\"aaxis\":{\"gridcolor\":\"white\",\"linecolor\":\"white\",\"ticks\":\"\"},\"baxis\":{\"gridcolor\":\"white\",\"linecolor\":\"white\",\"ticks\":\"\"},\"caxis\":{\"gridcolor\":\"white\",\"linecolor\":\"white\",\"ticks\":\"\"}},\"coloraxis\":{\"colorbar\":{\"outlinewidth\":0,\"ticks\":\"\"}},\"colorscale\":{\"sequential\":[[0.0,\"#0d0887\"],[0.1111111111111111,\"#46039f\"],[0.2222222222222222,\"#7201a8\"],[0.3333333333333333,\"#9c179e\"],[0.4444444444444444,\"#bd3786\"],[0.5555555555555556,\"#d8576b\"],[0.6666666666666666,\"#ed7953\"],[0.7777777777777778,\"#fb9f3a\"],[0.8888888888888888,\"#fdca26\"],[1.0,\"#f0f921\"]],\"sequentialminus\":[[0.0,\"#0d0887\"],[0.1111111111111111,\"#46039f\"],[0.2222222222222222,\"#7201a8\"],[0.3333333333333333,\"#9c179e\"],[0.4444444444444444,\"#bd3786\"],[0.5555555555555556,\"#d8576b\"],[0.6666666666666666,\"#ed7953\"],[0.7777777777777778,\"#fb9f3a\"],[0.8888888888888888,\"#fdca26\"],[1.0,\"#f0f921\"]],\"diverging\":[[0,\"#8e0152\"],[0.1,\"#c51b7d\"],[0.2,\"#de77ae\"],[0.3,\"#f1b6da\"],[0.4,\"#fde0ef\"],[0.5,\"#f7f7f7\"],[0.6,\"#e6f5d0\"],[0.7,\"#b8e186\"],[0.8,\"#7fbc41\"],[0.9,\"#4d9221\"],[1,\"#276419\"]]},\"xaxis\":{\"gridcolor\":\"white\",\"linecolor\":\"white\",\"ticks\":\"\",\"title\":{\"standoff\":15},\"zerolinecolor\":\"white\",\"automargin\":true,\"zerolinewidth\":2},\"yaxis\":{\"gridcolor\":\"white\",\"linecolor\":\"white\",\"ticks\":\"\",\"title\":{\"standoff\":15},\"zerolinecolor\":\"white\",\"automargin\":true,\"zerolinewidth\":2},\"scene\":{\"xaxis\":{\"backgroundcolor\":\"#E5ECF6\",\"gridcolor\":\"white\",\"linecolor\":\"white\",\"showbackground\":true,\"ticks\":\"\",\"zerolinecolor\":\"white\",\"gridwidth\":2},\"yaxis\":{\"backgroundcolor\":\"#E5ECF6\",\"gridcolor\":\"white\",\"linecolor\":\"white\",\"showbackground\":true,\"ticks\":\"\",\"zerolinecolor\":\"white\",\"gridwidth\":2},\"zaxis\":{\"backgroundcolor\":\"#E5ECF6\",\"gridcolor\":\"white\",\"linecolor\":\"white\",\"showbackground\":true,\"ticks\":\"\",\"zerolinecolor\":\"white\",\"gridwidth\":2}},\"shapedefaults\":{\"line\":{\"color\":\"#2a3f5f\"}},\"annotationdefaults\":{\"arrowcolor\":\"#2a3f5f\",\"arrowhead\":0,\"arrowwidth\":1},\"geo\":{\"bgcolor\":\"white\",\"landcolor\":\"#E5ECF6\",\"subunitcolor\":\"white\",\"showland\":true,\"showlakes\":true,\"lakecolor\":\"white\"},\"title\":{\"x\":0.05},\"mapbox\":{\"style\":\"light\"}}},\"xaxis\":{\"anchor\":\"y\",\"domain\":[0.0,1.0],\"title\":{\"text\":\"LFG Collection System In Place?\"}},\"yaxis\":{\"anchor\":\"x\",\"domain\":[0.0,1.0],\"title\":{\"text\":\"Waste in Place (tons)\"}},\"legend\":{\"title\":{\"text\":\"Project Type Category\"},\"tracegroupgap\":0},\"margin\":{\"t\":60},\"boxmode\":\"group\"},                        {\"responsive\": true}                    ).then(function(){\n",
       "                            \n",
       "var gd = document.getElementById('bda645e6-dc7b-47ed-8917-ab5d14e6852a');\n",
       "var x = new MutationObserver(function (mutations, observer) {{\n",
       "        var display = window.getComputedStyle(gd).display;\n",
       "        if (!display || display === 'none') {{\n",
       "            console.log([gd, 'removed!']);\n",
       "            Plotly.purge(gd);\n",
       "            observer.disconnect();\n",
       "        }}\n",
       "}});\n",
       "\n",
       "// Listen for the removal of the full notebook cells\n",
       "var notebookContainer = gd.closest('#notebook-container');\n",
       "if (notebookContainer) {{\n",
       "    x.observe(notebookContainer, {childList: true});\n",
       "}}\n",
       "\n",
       "// Listen for the clearing of the current output cell\n",
       "var outputEl = gd.closest('.output');\n",
       "if (outputEl) {{\n",
       "    x.observe(outputEl, {childList: true});\n",
       "}}\n",
       "\n",
       "                        })                };                });            </script>        </div>"
      ]
     },
     "metadata": {},
     "output_type": "display_data"
    }
   ],
   "source": [
    "import plotly.express as px\n",
    "fig = px.box(Top10,x='LFG Collection System In Place?',y='Waste in Place (tons)', color='Project Type Category')\n",
    "fig.show()"
   ]
  },
  {
   "cell_type": "code",
   "execution_count": 254,
   "id": "b1f66b49",
   "metadata": {},
   "outputs": [
    {
     "data": {
      "application/vnd.plotly.v1+json": {
       "config": {
        "plotlyServerURL": "https://plot.ly"
       },
       "data": [
        {
         "alignmentgroup": "True",
         "hovertemplate": "Methane_Intensity=%{x}<br>CITY NAME=%{y}<extra></extra>",
         "legendgroup": "",
         "marker": {
          "color": "#636efa",
          "pattern": {
           "shape": ""
          }
         },
         "name": "",
         "offsetgroup": "",
         "orientation": "h",
         "showlegend": false,
         "textposition": "auto",
         "type": "bar",
         "x": [
          0.017428716577011314,
          0.011565968592421354,
          0.010182086552332988,
          0.010182086552332988,
          0.010182086552332988,
          0.010182086552332988,
          0.010182086552332988,
          0.010182086552332988,
          0.010182086552332988,
          0.010182086552332988
         ],
         "xaxis": "x",
         "y": [
          "Calistoga",
          "GONZALES",
          "Marina",
          "Marina",
          "Marina",
          "Marina",
          "Marina",
          "Marina",
          "Marina",
          "Marina"
         ],
         "yaxis": "y"
        }
       ],
       "layout": {
        "barmode": "relative",
        "legend": {
         "tracegroupgap": 0
        },
        "margin": {
         "t": 60
        },
        "template": {
         "data": {
          "bar": [
           {
            "error_x": {
             "color": "#2a3f5f"
            },
            "error_y": {
             "color": "#2a3f5f"
            },
            "marker": {
             "line": {
              "color": "#E5ECF6",
              "width": 0.5
             },
             "pattern": {
              "fillmode": "overlay",
              "size": 10,
              "solidity": 0.2
             }
            },
            "type": "bar"
           }
          ],
          "barpolar": [
           {
            "marker": {
             "line": {
              "color": "#E5ECF6",
              "width": 0.5
             },
             "pattern": {
              "fillmode": "overlay",
              "size": 10,
              "solidity": 0.2
             }
            },
            "type": "barpolar"
           }
          ],
          "carpet": [
           {
            "aaxis": {
             "endlinecolor": "#2a3f5f",
             "gridcolor": "white",
             "linecolor": "white",
             "minorgridcolor": "white",
             "startlinecolor": "#2a3f5f"
            },
            "baxis": {
             "endlinecolor": "#2a3f5f",
             "gridcolor": "white",
             "linecolor": "white",
             "minorgridcolor": "white",
             "startlinecolor": "#2a3f5f"
            },
            "type": "carpet"
           }
          ],
          "choropleth": [
           {
            "colorbar": {
             "outlinewidth": 0,
             "ticks": ""
            },
            "type": "choropleth"
           }
          ],
          "contour": [
           {
            "colorbar": {
             "outlinewidth": 0,
             "ticks": ""
            },
            "colorscale": [
             [
              0,
              "#0d0887"
             ],
             [
              0.1111111111111111,
              "#46039f"
             ],
             [
              0.2222222222222222,
              "#7201a8"
             ],
             [
              0.3333333333333333,
              "#9c179e"
             ],
             [
              0.4444444444444444,
              "#bd3786"
             ],
             [
              0.5555555555555556,
              "#d8576b"
             ],
             [
              0.6666666666666666,
              "#ed7953"
             ],
             [
              0.7777777777777778,
              "#fb9f3a"
             ],
             [
              0.8888888888888888,
              "#fdca26"
             ],
             [
              1,
              "#f0f921"
             ]
            ],
            "type": "contour"
           }
          ],
          "contourcarpet": [
           {
            "colorbar": {
             "outlinewidth": 0,
             "ticks": ""
            },
            "type": "contourcarpet"
           }
          ],
          "heatmap": [
           {
            "colorbar": {
             "outlinewidth": 0,
             "ticks": ""
            },
            "colorscale": [
             [
              0,
              "#0d0887"
             ],
             [
              0.1111111111111111,
              "#46039f"
             ],
             [
              0.2222222222222222,
              "#7201a8"
             ],
             [
              0.3333333333333333,
              "#9c179e"
             ],
             [
              0.4444444444444444,
              "#bd3786"
             ],
             [
              0.5555555555555556,
              "#d8576b"
             ],
             [
              0.6666666666666666,
              "#ed7953"
             ],
             [
              0.7777777777777778,
              "#fb9f3a"
             ],
             [
              0.8888888888888888,
              "#fdca26"
             ],
             [
              1,
              "#f0f921"
             ]
            ],
            "type": "heatmap"
           }
          ],
          "heatmapgl": [
           {
            "colorbar": {
             "outlinewidth": 0,
             "ticks": ""
            },
            "colorscale": [
             [
              0,
              "#0d0887"
             ],
             [
              0.1111111111111111,
              "#46039f"
             ],
             [
              0.2222222222222222,
              "#7201a8"
             ],
             [
              0.3333333333333333,
              "#9c179e"
             ],
             [
              0.4444444444444444,
              "#bd3786"
             ],
             [
              0.5555555555555556,
              "#d8576b"
             ],
             [
              0.6666666666666666,
              "#ed7953"
             ],
             [
              0.7777777777777778,
              "#fb9f3a"
             ],
             [
              0.8888888888888888,
              "#fdca26"
             ],
             [
              1,
              "#f0f921"
             ]
            ],
            "type": "heatmapgl"
           }
          ],
          "histogram": [
           {
            "marker": {
             "pattern": {
              "fillmode": "overlay",
              "size": 10,
              "solidity": 0.2
             }
            },
            "type": "histogram"
           }
          ],
          "histogram2d": [
           {
            "colorbar": {
             "outlinewidth": 0,
             "ticks": ""
            },
            "colorscale": [
             [
              0,
              "#0d0887"
             ],
             [
              0.1111111111111111,
              "#46039f"
             ],
             [
              0.2222222222222222,
              "#7201a8"
             ],
             [
              0.3333333333333333,
              "#9c179e"
             ],
             [
              0.4444444444444444,
              "#bd3786"
             ],
             [
              0.5555555555555556,
              "#d8576b"
             ],
             [
              0.6666666666666666,
              "#ed7953"
             ],
             [
              0.7777777777777778,
              "#fb9f3a"
             ],
             [
              0.8888888888888888,
              "#fdca26"
             ],
             [
              1,
              "#f0f921"
             ]
            ],
            "type": "histogram2d"
           }
          ],
          "histogram2dcontour": [
           {
            "colorbar": {
             "outlinewidth": 0,
             "ticks": ""
            },
            "colorscale": [
             [
              0,
              "#0d0887"
             ],
             [
              0.1111111111111111,
              "#46039f"
             ],
             [
              0.2222222222222222,
              "#7201a8"
             ],
             [
              0.3333333333333333,
              "#9c179e"
             ],
             [
              0.4444444444444444,
              "#bd3786"
             ],
             [
              0.5555555555555556,
              "#d8576b"
             ],
             [
              0.6666666666666666,
              "#ed7953"
             ],
             [
              0.7777777777777778,
              "#fb9f3a"
             ],
             [
              0.8888888888888888,
              "#fdca26"
             ],
             [
              1,
              "#f0f921"
             ]
            ],
            "type": "histogram2dcontour"
           }
          ],
          "mesh3d": [
           {
            "colorbar": {
             "outlinewidth": 0,
             "ticks": ""
            },
            "type": "mesh3d"
           }
          ],
          "parcoords": [
           {
            "line": {
             "colorbar": {
              "outlinewidth": 0,
              "ticks": ""
             }
            },
            "type": "parcoords"
           }
          ],
          "pie": [
           {
            "automargin": true,
            "type": "pie"
           }
          ],
          "scatter": [
           {
            "fillpattern": {
             "fillmode": "overlay",
             "size": 10,
             "solidity": 0.2
            },
            "type": "scatter"
           }
          ],
          "scatter3d": [
           {
            "line": {
             "colorbar": {
              "outlinewidth": 0,
              "ticks": ""
             }
            },
            "marker": {
             "colorbar": {
              "outlinewidth": 0,
              "ticks": ""
             }
            },
            "type": "scatter3d"
           }
          ],
          "scattercarpet": [
           {
            "marker": {
             "colorbar": {
              "outlinewidth": 0,
              "ticks": ""
             }
            },
            "type": "scattercarpet"
           }
          ],
          "scattergeo": [
           {
            "marker": {
             "colorbar": {
              "outlinewidth": 0,
              "ticks": ""
             }
            },
            "type": "scattergeo"
           }
          ],
          "scattergl": [
           {
            "marker": {
             "colorbar": {
              "outlinewidth": 0,
              "ticks": ""
             }
            },
            "type": "scattergl"
           }
          ],
          "scattermapbox": [
           {
            "marker": {
             "colorbar": {
              "outlinewidth": 0,
              "ticks": ""
             }
            },
            "type": "scattermapbox"
           }
          ],
          "scatterpolar": [
           {
            "marker": {
             "colorbar": {
              "outlinewidth": 0,
              "ticks": ""
             }
            },
            "type": "scatterpolar"
           }
          ],
          "scatterpolargl": [
           {
            "marker": {
             "colorbar": {
              "outlinewidth": 0,
              "ticks": ""
             }
            },
            "type": "scatterpolargl"
           }
          ],
          "scatterternary": [
           {
            "marker": {
             "colorbar": {
              "outlinewidth": 0,
              "ticks": ""
             }
            },
            "type": "scatterternary"
           }
          ],
          "surface": [
           {
            "colorbar": {
             "outlinewidth": 0,
             "ticks": ""
            },
            "colorscale": [
             [
              0,
              "#0d0887"
             ],
             [
              0.1111111111111111,
              "#46039f"
             ],
             [
              0.2222222222222222,
              "#7201a8"
             ],
             [
              0.3333333333333333,
              "#9c179e"
             ],
             [
              0.4444444444444444,
              "#bd3786"
             ],
             [
              0.5555555555555556,
              "#d8576b"
             ],
             [
              0.6666666666666666,
              "#ed7953"
             ],
             [
              0.7777777777777778,
              "#fb9f3a"
             ],
             [
              0.8888888888888888,
              "#fdca26"
             ],
             [
              1,
              "#f0f921"
             ]
            ],
            "type": "surface"
           }
          ],
          "table": [
           {
            "cells": {
             "fill": {
              "color": "#EBF0F8"
             },
             "line": {
              "color": "white"
             }
            },
            "header": {
             "fill": {
              "color": "#C8D4E3"
             },
             "line": {
              "color": "white"
             }
            },
            "type": "table"
           }
          ]
         },
         "layout": {
          "annotationdefaults": {
           "arrowcolor": "#2a3f5f",
           "arrowhead": 0,
           "arrowwidth": 1
          },
          "autotypenumbers": "strict",
          "coloraxis": {
           "colorbar": {
            "outlinewidth": 0,
            "ticks": ""
           }
          },
          "colorscale": {
           "diverging": [
            [
             0,
             "#8e0152"
            ],
            [
             0.1,
             "#c51b7d"
            ],
            [
             0.2,
             "#de77ae"
            ],
            [
             0.3,
             "#f1b6da"
            ],
            [
             0.4,
             "#fde0ef"
            ],
            [
             0.5,
             "#f7f7f7"
            ],
            [
             0.6,
             "#e6f5d0"
            ],
            [
             0.7,
             "#b8e186"
            ],
            [
             0.8,
             "#7fbc41"
            ],
            [
             0.9,
             "#4d9221"
            ],
            [
             1,
             "#276419"
            ]
           ],
           "sequential": [
            [
             0,
             "#0d0887"
            ],
            [
             0.1111111111111111,
             "#46039f"
            ],
            [
             0.2222222222222222,
             "#7201a8"
            ],
            [
             0.3333333333333333,
             "#9c179e"
            ],
            [
             0.4444444444444444,
             "#bd3786"
            ],
            [
             0.5555555555555556,
             "#d8576b"
            ],
            [
             0.6666666666666666,
             "#ed7953"
            ],
            [
             0.7777777777777778,
             "#fb9f3a"
            ],
            [
             0.8888888888888888,
             "#fdca26"
            ],
            [
             1,
             "#f0f921"
            ]
           ],
           "sequentialminus": [
            [
             0,
             "#0d0887"
            ],
            [
             0.1111111111111111,
             "#46039f"
            ],
            [
             0.2222222222222222,
             "#7201a8"
            ],
            [
             0.3333333333333333,
             "#9c179e"
            ],
            [
             0.4444444444444444,
             "#bd3786"
            ],
            [
             0.5555555555555556,
             "#d8576b"
            ],
            [
             0.6666666666666666,
             "#ed7953"
            ],
            [
             0.7777777777777778,
             "#fb9f3a"
            ],
            [
             0.8888888888888888,
             "#fdca26"
            ],
            [
             1,
             "#f0f921"
            ]
           ]
          },
          "colorway": [
           "#636efa",
           "#EF553B",
           "#00cc96",
           "#ab63fa",
           "#FFA15A",
           "#19d3f3",
           "#FF6692",
           "#B6E880",
           "#FF97FF",
           "#FECB52"
          ],
          "font": {
           "color": "#2a3f5f"
          },
          "geo": {
           "bgcolor": "white",
           "lakecolor": "white",
           "landcolor": "#E5ECF6",
           "showlakes": true,
           "showland": true,
           "subunitcolor": "white"
          },
          "hoverlabel": {
           "align": "left"
          },
          "hovermode": "closest",
          "mapbox": {
           "style": "light"
          },
          "paper_bgcolor": "white",
          "plot_bgcolor": "#E5ECF6",
          "polar": {
           "angularaxis": {
            "gridcolor": "white",
            "linecolor": "white",
            "ticks": ""
           },
           "bgcolor": "#E5ECF6",
           "radialaxis": {
            "gridcolor": "white",
            "linecolor": "white",
            "ticks": ""
           }
          },
          "scene": {
           "xaxis": {
            "backgroundcolor": "#E5ECF6",
            "gridcolor": "white",
            "gridwidth": 2,
            "linecolor": "white",
            "showbackground": true,
            "ticks": "",
            "zerolinecolor": "white"
           },
           "yaxis": {
            "backgroundcolor": "#E5ECF6",
            "gridcolor": "white",
            "gridwidth": 2,
            "linecolor": "white",
            "showbackground": true,
            "ticks": "",
            "zerolinecolor": "white"
           },
           "zaxis": {
            "backgroundcolor": "#E5ECF6",
            "gridcolor": "white",
            "gridwidth": 2,
            "linecolor": "white",
            "showbackground": true,
            "ticks": "",
            "zerolinecolor": "white"
           }
          },
          "shapedefaults": {
           "line": {
            "color": "#2a3f5f"
           }
          },
          "ternary": {
           "aaxis": {
            "gridcolor": "white",
            "linecolor": "white",
            "ticks": ""
           },
           "baxis": {
            "gridcolor": "white",
            "linecolor": "white",
            "ticks": ""
           },
           "bgcolor": "#E5ECF6",
           "caxis": {
            "gridcolor": "white",
            "linecolor": "white",
            "ticks": ""
           }
          },
          "title": {
           "x": 0.05
          },
          "xaxis": {
           "automargin": true,
           "gridcolor": "white",
           "linecolor": "white",
           "ticks": "",
           "title": {
            "standoff": 15
           },
           "zerolinecolor": "white",
           "zerolinewidth": 2
          },
          "yaxis": {
           "automargin": true,
           "gridcolor": "white",
           "linecolor": "white",
           "ticks": "",
           "title": {
            "standoff": 15
           },
           "zerolinecolor": "white",
           "zerolinewidth": 2
          }
         }
        },
        "xaxis": {
         "anchor": "y",
         "domain": [
          0,
          1
         ],
         "title": {
          "text": "Methane_Intensity"
         }
        },
        "yaxis": {
         "anchor": "x",
         "domain": [
          0,
          1
         ],
         "title": {
          "text": "CITY NAME"
         }
        }
       }
      },
      "text/html": [
       "<div>                            <div id=\"9f4df67c-90a0-4163-adcd-a51d2e5f70b0\" class=\"plotly-graph-div\" style=\"height:525px; width:100%;\"></div>            <script type=\"text/javascript\">                require([\"plotly\"], function(Plotly) {                    window.PLOTLYENV=window.PLOTLYENV || {};                                    if (document.getElementById(\"9f4df67c-90a0-4163-adcd-a51d2e5f70b0\")) {                    Plotly.newPlot(                        \"9f4df67c-90a0-4163-adcd-a51d2e5f70b0\",                        [{\"alignmentgroup\":\"True\",\"hovertemplate\":\"Methane_Intensity=%{x}<br>CITY NAME=%{y}<extra></extra>\",\"legendgroup\":\"\",\"marker\":{\"color\":\"#636efa\",\"pattern\":{\"shape\":\"\"}},\"name\":\"\",\"offsetgroup\":\"\",\"orientation\":\"h\",\"showlegend\":false,\"textposition\":\"auto\",\"x\":[0.017428716577011314,0.011565968592421354,0.010182086552332988,0.010182086552332988,0.010182086552332988,0.010182086552332988,0.010182086552332988,0.010182086552332988,0.010182086552332988,0.010182086552332988],\"xaxis\":\"x\",\"y\":[\"Calistoga\",\"GONZALES\",\"Marina\",\"Marina\",\"Marina\",\"Marina\",\"Marina\",\"Marina\",\"Marina\",\"Marina\"],\"yaxis\":\"y\",\"type\":\"bar\"}],                        {\"template\":{\"data\":{\"histogram2dcontour\":[{\"type\":\"histogram2dcontour\",\"colorbar\":{\"outlinewidth\":0,\"ticks\":\"\"},\"colorscale\":[[0.0,\"#0d0887\"],[0.1111111111111111,\"#46039f\"],[0.2222222222222222,\"#7201a8\"],[0.3333333333333333,\"#9c179e\"],[0.4444444444444444,\"#bd3786\"],[0.5555555555555556,\"#d8576b\"],[0.6666666666666666,\"#ed7953\"],[0.7777777777777778,\"#fb9f3a\"],[0.8888888888888888,\"#fdca26\"],[1.0,\"#f0f921\"]]}],\"choropleth\":[{\"type\":\"choropleth\",\"colorbar\":{\"outlinewidth\":0,\"ticks\":\"\"}}],\"histogram2d\":[{\"type\":\"histogram2d\",\"colorbar\":{\"outlinewidth\":0,\"ticks\":\"\"},\"colorscale\":[[0.0,\"#0d0887\"],[0.1111111111111111,\"#46039f\"],[0.2222222222222222,\"#7201a8\"],[0.3333333333333333,\"#9c179e\"],[0.4444444444444444,\"#bd3786\"],[0.5555555555555556,\"#d8576b\"],[0.6666666666666666,\"#ed7953\"],[0.7777777777777778,\"#fb9f3a\"],[0.8888888888888888,\"#fdca26\"],[1.0,\"#f0f921\"]]}],\"heatmap\":[{\"type\":\"heatmap\",\"colorbar\":{\"outlinewidth\":0,\"ticks\":\"\"},\"colorscale\":[[0.0,\"#0d0887\"],[0.1111111111111111,\"#46039f\"],[0.2222222222222222,\"#7201a8\"],[0.3333333333333333,\"#9c179e\"],[0.4444444444444444,\"#bd3786\"],[0.5555555555555556,\"#d8576b\"],[0.6666666666666666,\"#ed7953\"],[0.7777777777777778,\"#fb9f3a\"],[0.8888888888888888,\"#fdca26\"],[1.0,\"#f0f921\"]]}],\"heatmapgl\":[{\"type\":\"heatmapgl\",\"colorbar\":{\"outlinewidth\":0,\"ticks\":\"\"},\"colorscale\":[[0.0,\"#0d0887\"],[0.1111111111111111,\"#46039f\"],[0.2222222222222222,\"#7201a8\"],[0.3333333333333333,\"#9c179e\"],[0.4444444444444444,\"#bd3786\"],[0.5555555555555556,\"#d8576b\"],[0.6666666666666666,\"#ed7953\"],[0.7777777777777778,\"#fb9f3a\"],[0.8888888888888888,\"#fdca26\"],[1.0,\"#f0f921\"]]}],\"contourcarpet\":[{\"type\":\"contourcarpet\",\"colorbar\":{\"outlinewidth\":0,\"ticks\":\"\"}}],\"contour\":[{\"type\":\"contour\",\"colorbar\":{\"outlinewidth\":0,\"ticks\":\"\"},\"colorscale\":[[0.0,\"#0d0887\"],[0.1111111111111111,\"#46039f\"],[0.2222222222222222,\"#7201a8\"],[0.3333333333333333,\"#9c179e\"],[0.4444444444444444,\"#bd3786\"],[0.5555555555555556,\"#d8576b\"],[0.6666666666666666,\"#ed7953\"],[0.7777777777777778,\"#fb9f3a\"],[0.8888888888888888,\"#fdca26\"],[1.0,\"#f0f921\"]]}],\"surface\":[{\"type\":\"surface\",\"colorbar\":{\"outlinewidth\":0,\"ticks\":\"\"},\"colorscale\":[[0.0,\"#0d0887\"],[0.1111111111111111,\"#46039f\"],[0.2222222222222222,\"#7201a8\"],[0.3333333333333333,\"#9c179e\"],[0.4444444444444444,\"#bd3786\"],[0.5555555555555556,\"#d8576b\"],[0.6666666666666666,\"#ed7953\"],[0.7777777777777778,\"#fb9f3a\"],[0.8888888888888888,\"#fdca26\"],[1.0,\"#f0f921\"]]}],\"mesh3d\":[{\"type\":\"mesh3d\",\"colorbar\":{\"outlinewidth\":0,\"ticks\":\"\"}}],\"scatter\":[{\"fillpattern\":{\"fillmode\":\"overlay\",\"size\":10,\"solidity\":0.2},\"type\":\"scatter\"}],\"parcoords\":[{\"type\":\"parcoords\",\"line\":{\"colorbar\":{\"outlinewidth\":0,\"ticks\":\"\"}}}],\"scatterpolargl\":[{\"type\":\"scatterpolargl\",\"marker\":{\"colorbar\":{\"outlinewidth\":0,\"ticks\":\"\"}}}],\"bar\":[{\"error_x\":{\"color\":\"#2a3f5f\"},\"error_y\":{\"color\":\"#2a3f5f\"},\"marker\":{\"line\":{\"color\":\"#E5ECF6\",\"width\":0.5},\"pattern\":{\"fillmode\":\"overlay\",\"size\":10,\"solidity\":0.2}},\"type\":\"bar\"}],\"scattergeo\":[{\"type\":\"scattergeo\",\"marker\":{\"colorbar\":{\"outlinewidth\":0,\"ticks\":\"\"}}}],\"scatterpolar\":[{\"type\":\"scatterpolar\",\"marker\":{\"colorbar\":{\"outlinewidth\":0,\"ticks\":\"\"}}}],\"histogram\":[{\"marker\":{\"pattern\":{\"fillmode\":\"overlay\",\"size\":10,\"solidity\":0.2}},\"type\":\"histogram\"}],\"scattergl\":[{\"type\":\"scattergl\",\"marker\":{\"colorbar\":{\"outlinewidth\":0,\"ticks\":\"\"}}}],\"scatter3d\":[{\"type\":\"scatter3d\",\"line\":{\"colorbar\":{\"outlinewidth\":0,\"ticks\":\"\"}},\"marker\":{\"colorbar\":{\"outlinewidth\":0,\"ticks\":\"\"}}}],\"scattermapbox\":[{\"type\":\"scattermapbox\",\"marker\":{\"colorbar\":{\"outlinewidth\":0,\"ticks\":\"\"}}}],\"scatterternary\":[{\"type\":\"scatterternary\",\"marker\":{\"colorbar\":{\"outlinewidth\":0,\"ticks\":\"\"}}}],\"scattercarpet\":[{\"type\":\"scattercarpet\",\"marker\":{\"colorbar\":{\"outlinewidth\":0,\"ticks\":\"\"}}}],\"carpet\":[{\"aaxis\":{\"endlinecolor\":\"#2a3f5f\",\"gridcolor\":\"white\",\"linecolor\":\"white\",\"minorgridcolor\":\"white\",\"startlinecolor\":\"#2a3f5f\"},\"baxis\":{\"endlinecolor\":\"#2a3f5f\",\"gridcolor\":\"white\",\"linecolor\":\"white\",\"minorgridcolor\":\"white\",\"startlinecolor\":\"#2a3f5f\"},\"type\":\"carpet\"}],\"table\":[{\"cells\":{\"fill\":{\"color\":\"#EBF0F8\"},\"line\":{\"color\":\"white\"}},\"header\":{\"fill\":{\"color\":\"#C8D4E3\"},\"line\":{\"color\":\"white\"}},\"type\":\"table\"}],\"barpolar\":[{\"marker\":{\"line\":{\"color\":\"#E5ECF6\",\"width\":0.5},\"pattern\":{\"fillmode\":\"overlay\",\"size\":10,\"solidity\":0.2}},\"type\":\"barpolar\"}],\"pie\":[{\"automargin\":true,\"type\":\"pie\"}]},\"layout\":{\"autotypenumbers\":\"strict\",\"colorway\":[\"#636efa\",\"#EF553B\",\"#00cc96\",\"#ab63fa\",\"#FFA15A\",\"#19d3f3\",\"#FF6692\",\"#B6E880\",\"#FF97FF\",\"#FECB52\"],\"font\":{\"color\":\"#2a3f5f\"},\"hovermode\":\"closest\",\"hoverlabel\":{\"align\":\"left\"},\"paper_bgcolor\":\"white\",\"plot_bgcolor\":\"#E5ECF6\",\"polar\":{\"bgcolor\":\"#E5ECF6\",\"angularaxis\":{\"gridcolor\":\"white\",\"linecolor\":\"white\",\"ticks\":\"\"},\"radialaxis\":{\"gridcolor\":\"white\",\"linecolor\":\"white\",\"ticks\":\"\"}},\"ternary\":{\"bgcolor\":\"#E5ECF6\",\"aaxis\":{\"gridcolor\":\"white\",\"linecolor\":\"white\",\"ticks\":\"\"},\"baxis\":{\"gridcolor\":\"white\",\"linecolor\":\"white\",\"ticks\":\"\"},\"caxis\":{\"gridcolor\":\"white\",\"linecolor\":\"white\",\"ticks\":\"\"}},\"coloraxis\":{\"colorbar\":{\"outlinewidth\":0,\"ticks\":\"\"}},\"colorscale\":{\"sequential\":[[0.0,\"#0d0887\"],[0.1111111111111111,\"#46039f\"],[0.2222222222222222,\"#7201a8\"],[0.3333333333333333,\"#9c179e\"],[0.4444444444444444,\"#bd3786\"],[0.5555555555555556,\"#d8576b\"],[0.6666666666666666,\"#ed7953\"],[0.7777777777777778,\"#fb9f3a\"],[0.8888888888888888,\"#fdca26\"],[1.0,\"#f0f921\"]],\"sequentialminus\":[[0.0,\"#0d0887\"],[0.1111111111111111,\"#46039f\"],[0.2222222222222222,\"#7201a8\"],[0.3333333333333333,\"#9c179e\"],[0.4444444444444444,\"#bd3786\"],[0.5555555555555556,\"#d8576b\"],[0.6666666666666666,\"#ed7953\"],[0.7777777777777778,\"#fb9f3a\"],[0.8888888888888888,\"#fdca26\"],[1.0,\"#f0f921\"]],\"diverging\":[[0,\"#8e0152\"],[0.1,\"#c51b7d\"],[0.2,\"#de77ae\"],[0.3,\"#f1b6da\"],[0.4,\"#fde0ef\"],[0.5,\"#f7f7f7\"],[0.6,\"#e6f5d0\"],[0.7,\"#b8e186\"],[0.8,\"#7fbc41\"],[0.9,\"#4d9221\"],[1,\"#276419\"]]},\"xaxis\":{\"gridcolor\":\"white\",\"linecolor\":\"white\",\"ticks\":\"\",\"title\":{\"standoff\":15},\"zerolinecolor\":\"white\",\"automargin\":true,\"zerolinewidth\":2},\"yaxis\":{\"gridcolor\":\"white\",\"linecolor\":\"white\",\"ticks\":\"\",\"title\":{\"standoff\":15},\"zerolinecolor\":\"white\",\"automargin\":true,\"zerolinewidth\":2},\"scene\":{\"xaxis\":{\"backgroundcolor\":\"#E5ECF6\",\"gridcolor\":\"white\",\"linecolor\":\"white\",\"showbackground\":true,\"ticks\":\"\",\"zerolinecolor\":\"white\",\"gridwidth\":2},\"yaxis\":{\"backgroundcolor\":\"#E5ECF6\",\"gridcolor\":\"white\",\"linecolor\":\"white\",\"showbackground\":true,\"ticks\":\"\",\"zerolinecolor\":\"white\",\"gridwidth\":2},\"zaxis\":{\"backgroundcolor\":\"#E5ECF6\",\"gridcolor\":\"white\",\"linecolor\":\"white\",\"showbackground\":true,\"ticks\":\"\",\"zerolinecolor\":\"white\",\"gridwidth\":2}},\"shapedefaults\":{\"line\":{\"color\":\"#2a3f5f\"}},\"annotationdefaults\":{\"arrowcolor\":\"#2a3f5f\",\"arrowhead\":0,\"arrowwidth\":1},\"geo\":{\"bgcolor\":\"white\",\"landcolor\":\"#E5ECF6\",\"subunitcolor\":\"white\",\"showland\":true,\"showlakes\":true,\"lakecolor\":\"white\"},\"title\":{\"x\":0.05},\"mapbox\":{\"style\":\"light\"}}},\"xaxis\":{\"anchor\":\"y\",\"domain\":[0.0,1.0],\"title\":{\"text\":\"Methane_Intensity\"}},\"yaxis\":{\"anchor\":\"x\",\"domain\":[0.0,1.0],\"title\":{\"text\":\"CITY NAME\"}},\"legend\":{\"tracegroupgap\":0},\"margin\":{\"t\":60},\"barmode\":\"relative\"},                        {\"responsive\": true}                    ).then(function(){\n",
       "                            \n",
       "var gd = document.getElementById('9f4df67c-90a0-4163-adcd-a51d2e5f70b0');\n",
       "var x = new MutationObserver(function (mutations, observer) {{\n",
       "        var display = window.getComputedStyle(gd).display;\n",
       "        if (!display || display === 'none') {{\n",
       "            console.log([gd, 'removed!']);\n",
       "            Plotly.purge(gd);\n",
       "            observer.disconnect();\n",
       "        }}\n",
       "}});\n",
       "\n",
       "// Listen for the removal of the full notebook cells\n",
       "var notebookContainer = gd.closest('#notebook-container');\n",
       "if (notebookContainer) {{\n",
       "    x.observe(notebookContainer, {childList: true});\n",
       "}}\n",
       "\n",
       "// Listen for the clearing of the current output cell\n",
       "var outputEl = gd.closest('.output');\n",
       "if (outputEl) {{\n",
       "    x.observe(outputEl, {childList: true});\n",
       "}}\n",
       "\n",
       "                        })                };                });            </script>        </div>"
      ]
     },
     "metadata": {},
     "output_type": "display_data"
    }
   ],
   "source": [
    "import plotly.express as px\n",
    "fig = px.bar(Top10, x='Methane_Intensity', y='CITY NAME')\n",
    "fig.show()"
   ]
  },
  {
   "cell_type": "code",
   "execution_count": 264,
   "id": "33e4d060",
   "metadata": {},
   "outputs": [
    {
     "data": {
      "application/vnd.plotly.v1+json": {
       "config": {
        "plotlyServerURL": "https://plot.ly"
       },
       "data": [
        {
         "alignmentgroup": "True",
         "hovertemplate": "RNG Delivery Method=Local Use<br>Project Type Category=%{x}<br>Waste in Place (tons)=%{y}<extra></extra>",
         "legendgroup": "Local Use",
         "marker": {
          "color": "#EF553B"
         },
         "name": "Local Use",
         "notched": false,
         "offsetgroup": "Local Use",
         "orientation": "v",
         "showlegend": true,
         "type": "box",
         "x": [
          "Renewable Natural Gas"
         ],
         "x0": " ",
         "xaxis": "x",
         "y": [
          13051156
         ],
         "y0": " ",
         "yaxis": "y"
        }
       ],
       "layout": {
        "boxmode": "group",
        "legend": {
         "title": {
          "text": "RNG Delivery Method"
         },
         "tracegroupgap": 0
        },
        "margin": {
         "t": 60
        },
        "template": {
         "data": {
          "bar": [
           {
            "error_x": {
             "color": "#2a3f5f"
            },
            "error_y": {
             "color": "#2a3f5f"
            },
            "marker": {
             "line": {
              "color": "#E5ECF6",
              "width": 0.5
             },
             "pattern": {
              "fillmode": "overlay",
              "size": 10,
              "solidity": 0.2
             }
            },
            "type": "bar"
           }
          ],
          "barpolar": [
           {
            "marker": {
             "line": {
              "color": "#E5ECF6",
              "width": 0.5
             },
             "pattern": {
              "fillmode": "overlay",
              "size": 10,
              "solidity": 0.2
             }
            },
            "type": "barpolar"
           }
          ],
          "carpet": [
           {
            "aaxis": {
             "endlinecolor": "#2a3f5f",
             "gridcolor": "white",
             "linecolor": "white",
             "minorgridcolor": "white",
             "startlinecolor": "#2a3f5f"
            },
            "baxis": {
             "endlinecolor": "#2a3f5f",
             "gridcolor": "white",
             "linecolor": "white",
             "minorgridcolor": "white",
             "startlinecolor": "#2a3f5f"
            },
            "type": "carpet"
           }
          ],
          "choropleth": [
           {
            "colorbar": {
             "outlinewidth": 0,
             "ticks": ""
            },
            "type": "choropleth"
           }
          ],
          "contour": [
           {
            "colorbar": {
             "outlinewidth": 0,
             "ticks": ""
            },
            "colorscale": [
             [
              0,
              "#0d0887"
             ],
             [
              0.1111111111111111,
              "#46039f"
             ],
             [
              0.2222222222222222,
              "#7201a8"
             ],
             [
              0.3333333333333333,
              "#9c179e"
             ],
             [
              0.4444444444444444,
              "#bd3786"
             ],
             [
              0.5555555555555556,
              "#d8576b"
             ],
             [
              0.6666666666666666,
              "#ed7953"
             ],
             [
              0.7777777777777778,
              "#fb9f3a"
             ],
             [
              0.8888888888888888,
              "#fdca26"
             ],
             [
              1,
              "#f0f921"
             ]
            ],
            "type": "contour"
           }
          ],
          "contourcarpet": [
           {
            "colorbar": {
             "outlinewidth": 0,
             "ticks": ""
            },
            "type": "contourcarpet"
           }
          ],
          "heatmap": [
           {
            "colorbar": {
             "outlinewidth": 0,
             "ticks": ""
            },
            "colorscale": [
             [
              0,
              "#0d0887"
             ],
             [
              0.1111111111111111,
              "#46039f"
             ],
             [
              0.2222222222222222,
              "#7201a8"
             ],
             [
              0.3333333333333333,
              "#9c179e"
             ],
             [
              0.4444444444444444,
              "#bd3786"
             ],
             [
              0.5555555555555556,
              "#d8576b"
             ],
             [
              0.6666666666666666,
              "#ed7953"
             ],
             [
              0.7777777777777778,
              "#fb9f3a"
             ],
             [
              0.8888888888888888,
              "#fdca26"
             ],
             [
              1,
              "#f0f921"
             ]
            ],
            "type": "heatmap"
           }
          ],
          "heatmapgl": [
           {
            "colorbar": {
             "outlinewidth": 0,
             "ticks": ""
            },
            "colorscale": [
             [
              0,
              "#0d0887"
             ],
             [
              0.1111111111111111,
              "#46039f"
             ],
             [
              0.2222222222222222,
              "#7201a8"
             ],
             [
              0.3333333333333333,
              "#9c179e"
             ],
             [
              0.4444444444444444,
              "#bd3786"
             ],
             [
              0.5555555555555556,
              "#d8576b"
             ],
             [
              0.6666666666666666,
              "#ed7953"
             ],
             [
              0.7777777777777778,
              "#fb9f3a"
             ],
             [
              0.8888888888888888,
              "#fdca26"
             ],
             [
              1,
              "#f0f921"
             ]
            ],
            "type": "heatmapgl"
           }
          ],
          "histogram": [
           {
            "marker": {
             "pattern": {
              "fillmode": "overlay",
              "size": 10,
              "solidity": 0.2
             }
            },
            "type": "histogram"
           }
          ],
          "histogram2d": [
           {
            "colorbar": {
             "outlinewidth": 0,
             "ticks": ""
            },
            "colorscale": [
             [
              0,
              "#0d0887"
             ],
             [
              0.1111111111111111,
              "#46039f"
             ],
             [
              0.2222222222222222,
              "#7201a8"
             ],
             [
              0.3333333333333333,
              "#9c179e"
             ],
             [
              0.4444444444444444,
              "#bd3786"
             ],
             [
              0.5555555555555556,
              "#d8576b"
             ],
             [
              0.6666666666666666,
              "#ed7953"
             ],
             [
              0.7777777777777778,
              "#fb9f3a"
             ],
             [
              0.8888888888888888,
              "#fdca26"
             ],
             [
              1,
              "#f0f921"
             ]
            ],
            "type": "histogram2d"
           }
          ],
          "histogram2dcontour": [
           {
            "colorbar": {
             "outlinewidth": 0,
             "ticks": ""
            },
            "colorscale": [
             [
              0,
              "#0d0887"
             ],
             [
              0.1111111111111111,
              "#46039f"
             ],
             [
              0.2222222222222222,
              "#7201a8"
             ],
             [
              0.3333333333333333,
              "#9c179e"
             ],
             [
              0.4444444444444444,
              "#bd3786"
             ],
             [
              0.5555555555555556,
              "#d8576b"
             ],
             [
              0.6666666666666666,
              "#ed7953"
             ],
             [
              0.7777777777777778,
              "#fb9f3a"
             ],
             [
              0.8888888888888888,
              "#fdca26"
             ],
             [
              1,
              "#f0f921"
             ]
            ],
            "type": "histogram2dcontour"
           }
          ],
          "mesh3d": [
           {
            "colorbar": {
             "outlinewidth": 0,
             "ticks": ""
            },
            "type": "mesh3d"
           }
          ],
          "parcoords": [
           {
            "line": {
             "colorbar": {
              "outlinewidth": 0,
              "ticks": ""
             }
            },
            "type": "parcoords"
           }
          ],
          "pie": [
           {
            "automargin": true,
            "type": "pie"
           }
          ],
          "scatter": [
           {
            "fillpattern": {
             "fillmode": "overlay",
             "size": 10,
             "solidity": 0.2
            },
            "type": "scatter"
           }
          ],
          "scatter3d": [
           {
            "line": {
             "colorbar": {
              "outlinewidth": 0,
              "ticks": ""
             }
            },
            "marker": {
             "colorbar": {
              "outlinewidth": 0,
              "ticks": ""
             }
            },
            "type": "scatter3d"
           }
          ],
          "scattercarpet": [
           {
            "marker": {
             "colorbar": {
              "outlinewidth": 0,
              "ticks": ""
             }
            },
            "type": "scattercarpet"
           }
          ],
          "scattergeo": [
           {
            "marker": {
             "colorbar": {
              "outlinewidth": 0,
              "ticks": ""
             }
            },
            "type": "scattergeo"
           }
          ],
          "scattergl": [
           {
            "marker": {
             "colorbar": {
              "outlinewidth": 0,
              "ticks": ""
             }
            },
            "type": "scattergl"
           }
          ],
          "scattermapbox": [
           {
            "marker": {
             "colorbar": {
              "outlinewidth": 0,
              "ticks": ""
             }
            },
            "type": "scattermapbox"
           }
          ],
          "scatterpolar": [
           {
            "marker": {
             "colorbar": {
              "outlinewidth": 0,
              "ticks": ""
             }
            },
            "type": "scatterpolar"
           }
          ],
          "scatterpolargl": [
           {
            "marker": {
             "colorbar": {
              "outlinewidth": 0,
              "ticks": ""
             }
            },
            "type": "scatterpolargl"
           }
          ],
          "scatterternary": [
           {
            "marker": {
             "colorbar": {
              "outlinewidth": 0,
              "ticks": ""
             }
            },
            "type": "scatterternary"
           }
          ],
          "surface": [
           {
            "colorbar": {
             "outlinewidth": 0,
             "ticks": ""
            },
            "colorscale": [
             [
              0,
              "#0d0887"
             ],
             [
              0.1111111111111111,
              "#46039f"
             ],
             [
              0.2222222222222222,
              "#7201a8"
             ],
             [
              0.3333333333333333,
              "#9c179e"
             ],
             [
              0.4444444444444444,
              "#bd3786"
             ],
             [
              0.5555555555555556,
              "#d8576b"
             ],
             [
              0.6666666666666666,
              "#ed7953"
             ],
             [
              0.7777777777777778,
              "#fb9f3a"
             ],
             [
              0.8888888888888888,
              "#fdca26"
             ],
             [
              1,
              "#f0f921"
             ]
            ],
            "type": "surface"
           }
          ],
          "table": [
           {
            "cells": {
             "fill": {
              "color": "#EBF0F8"
             },
             "line": {
              "color": "white"
             }
            },
            "header": {
             "fill": {
              "color": "#C8D4E3"
             },
             "line": {
              "color": "white"
             }
            },
            "type": "table"
           }
          ]
         },
         "layout": {
          "annotationdefaults": {
           "arrowcolor": "#2a3f5f",
           "arrowhead": 0,
           "arrowwidth": 1
          },
          "autotypenumbers": "strict",
          "coloraxis": {
           "colorbar": {
            "outlinewidth": 0,
            "ticks": ""
           }
          },
          "colorscale": {
           "diverging": [
            [
             0,
             "#8e0152"
            ],
            [
             0.1,
             "#c51b7d"
            ],
            [
             0.2,
             "#de77ae"
            ],
            [
             0.3,
             "#f1b6da"
            ],
            [
             0.4,
             "#fde0ef"
            ],
            [
             0.5,
             "#f7f7f7"
            ],
            [
             0.6,
             "#e6f5d0"
            ],
            [
             0.7,
             "#b8e186"
            ],
            [
             0.8,
             "#7fbc41"
            ],
            [
             0.9,
             "#4d9221"
            ],
            [
             1,
             "#276419"
            ]
           ],
           "sequential": [
            [
             0,
             "#0d0887"
            ],
            [
             0.1111111111111111,
             "#46039f"
            ],
            [
             0.2222222222222222,
             "#7201a8"
            ],
            [
             0.3333333333333333,
             "#9c179e"
            ],
            [
             0.4444444444444444,
             "#bd3786"
            ],
            [
             0.5555555555555556,
             "#d8576b"
            ],
            [
             0.6666666666666666,
             "#ed7953"
            ],
            [
             0.7777777777777778,
             "#fb9f3a"
            ],
            [
             0.8888888888888888,
             "#fdca26"
            ],
            [
             1,
             "#f0f921"
            ]
           ],
           "sequentialminus": [
            [
             0,
             "#0d0887"
            ],
            [
             0.1111111111111111,
             "#46039f"
            ],
            [
             0.2222222222222222,
             "#7201a8"
            ],
            [
             0.3333333333333333,
             "#9c179e"
            ],
            [
             0.4444444444444444,
             "#bd3786"
            ],
            [
             0.5555555555555556,
             "#d8576b"
            ],
            [
             0.6666666666666666,
             "#ed7953"
            ],
            [
             0.7777777777777778,
             "#fb9f3a"
            ],
            [
             0.8888888888888888,
             "#fdca26"
            ],
            [
             1,
             "#f0f921"
            ]
           ]
          },
          "colorway": [
           "#636efa",
           "#EF553B",
           "#00cc96",
           "#ab63fa",
           "#FFA15A",
           "#19d3f3",
           "#FF6692",
           "#B6E880",
           "#FF97FF",
           "#FECB52"
          ],
          "font": {
           "color": "#2a3f5f"
          },
          "geo": {
           "bgcolor": "white",
           "lakecolor": "white",
           "landcolor": "#E5ECF6",
           "showlakes": true,
           "showland": true,
           "subunitcolor": "white"
          },
          "hoverlabel": {
           "align": "left"
          },
          "hovermode": "closest",
          "mapbox": {
           "style": "light"
          },
          "paper_bgcolor": "white",
          "plot_bgcolor": "#E5ECF6",
          "polar": {
           "angularaxis": {
            "gridcolor": "white",
            "linecolor": "white",
            "ticks": ""
           },
           "bgcolor": "#E5ECF6",
           "radialaxis": {
            "gridcolor": "white",
            "linecolor": "white",
            "ticks": ""
           }
          },
          "scene": {
           "xaxis": {
            "backgroundcolor": "#E5ECF6",
            "gridcolor": "white",
            "gridwidth": 2,
            "linecolor": "white",
            "showbackground": true,
            "ticks": "",
            "zerolinecolor": "white"
           },
           "yaxis": {
            "backgroundcolor": "#E5ECF6",
            "gridcolor": "white",
            "gridwidth": 2,
            "linecolor": "white",
            "showbackground": true,
            "ticks": "",
            "zerolinecolor": "white"
           },
           "zaxis": {
            "backgroundcolor": "#E5ECF6",
            "gridcolor": "white",
            "gridwidth": 2,
            "linecolor": "white",
            "showbackground": true,
            "ticks": "",
            "zerolinecolor": "white"
           }
          },
          "shapedefaults": {
           "line": {
            "color": "#2a3f5f"
           }
          },
          "ternary": {
           "aaxis": {
            "gridcolor": "white",
            "linecolor": "white",
            "ticks": ""
           },
           "baxis": {
            "gridcolor": "white",
            "linecolor": "white",
            "ticks": ""
           },
           "bgcolor": "#E5ECF6",
           "caxis": {
            "gridcolor": "white",
            "linecolor": "white",
            "ticks": ""
           }
          },
          "title": {
           "x": 0.05
          },
          "xaxis": {
           "automargin": true,
           "gridcolor": "white",
           "linecolor": "white",
           "ticks": "",
           "title": {
            "standoff": 15
           },
           "zerolinecolor": "white",
           "zerolinewidth": 2
          },
          "yaxis": {
           "automargin": true,
           "gridcolor": "white",
           "linecolor": "white",
           "ticks": "",
           "title": {
            "standoff": 15
           },
           "zerolinecolor": "white",
           "zerolinewidth": 2
          }
         }
        },
        "xaxis": {
         "anchor": "y",
         "domain": [
          0,
          1
         ],
         "title": {
          "text": "Project Type Category"
         }
        },
        "yaxis": {
         "anchor": "x",
         "domain": [
          0,
          1
         ],
         "title": {
          "text": "Waste in Place (tons)"
         }
        }
       }
      },
      "text/html": [
       "<div>                            <div id=\"5d0d948f-dbc4-4856-bfeb-596fcd26af4e\" class=\"plotly-graph-div\" style=\"height:525px; width:100%;\"></div>            <script type=\"text/javascript\">                require([\"plotly\"], function(Plotly) {                    window.PLOTLYENV=window.PLOTLYENV || {};                                    if (document.getElementById(\"5d0d948f-dbc4-4856-bfeb-596fcd26af4e\")) {                    Plotly.newPlot(                        \"5d0d948f-dbc4-4856-bfeb-596fcd26af4e\",                        [{\"alignmentgroup\":\"True\",\"hovertemplate\":\"RNG Delivery Method=Local Use<br>Project Type Category=%{x}<br>Waste in Place (tons)=%{y}<extra></extra>\",\"legendgroup\":\"Local Use\",\"marker\":{\"color\":\"#EF553B\"},\"name\":\"Local Use\",\"notched\":false,\"offsetgroup\":\"Local Use\",\"orientation\":\"v\",\"showlegend\":true,\"x\":[\"Renewable Natural Gas\"],\"x0\":\" \",\"xaxis\":\"x\",\"y\":[13051156.0],\"y0\":\" \",\"yaxis\":\"y\",\"type\":\"box\"}],                        {\"template\":{\"data\":{\"histogram2dcontour\":[{\"type\":\"histogram2dcontour\",\"colorbar\":{\"outlinewidth\":0,\"ticks\":\"\"},\"colorscale\":[[0.0,\"#0d0887\"],[0.1111111111111111,\"#46039f\"],[0.2222222222222222,\"#7201a8\"],[0.3333333333333333,\"#9c179e\"],[0.4444444444444444,\"#bd3786\"],[0.5555555555555556,\"#d8576b\"],[0.6666666666666666,\"#ed7953\"],[0.7777777777777778,\"#fb9f3a\"],[0.8888888888888888,\"#fdca26\"],[1.0,\"#f0f921\"]]}],\"choropleth\":[{\"type\":\"choropleth\",\"colorbar\":{\"outlinewidth\":0,\"ticks\":\"\"}}],\"histogram2d\":[{\"type\":\"histogram2d\",\"colorbar\":{\"outlinewidth\":0,\"ticks\":\"\"},\"colorscale\":[[0.0,\"#0d0887\"],[0.1111111111111111,\"#46039f\"],[0.2222222222222222,\"#7201a8\"],[0.3333333333333333,\"#9c179e\"],[0.4444444444444444,\"#bd3786\"],[0.5555555555555556,\"#d8576b\"],[0.6666666666666666,\"#ed7953\"],[0.7777777777777778,\"#fb9f3a\"],[0.8888888888888888,\"#fdca26\"],[1.0,\"#f0f921\"]]}],\"heatmap\":[{\"type\":\"heatmap\",\"colorbar\":{\"outlinewidth\":0,\"ticks\":\"\"},\"colorscale\":[[0.0,\"#0d0887\"],[0.1111111111111111,\"#46039f\"],[0.2222222222222222,\"#7201a8\"],[0.3333333333333333,\"#9c179e\"],[0.4444444444444444,\"#bd3786\"],[0.5555555555555556,\"#d8576b\"],[0.6666666666666666,\"#ed7953\"],[0.7777777777777778,\"#fb9f3a\"],[0.8888888888888888,\"#fdca26\"],[1.0,\"#f0f921\"]]}],\"heatmapgl\":[{\"type\":\"heatmapgl\",\"colorbar\":{\"outlinewidth\":0,\"ticks\":\"\"},\"colorscale\":[[0.0,\"#0d0887\"],[0.1111111111111111,\"#46039f\"],[0.2222222222222222,\"#7201a8\"],[0.3333333333333333,\"#9c179e\"],[0.4444444444444444,\"#bd3786\"],[0.5555555555555556,\"#d8576b\"],[0.6666666666666666,\"#ed7953\"],[0.7777777777777778,\"#fb9f3a\"],[0.8888888888888888,\"#fdca26\"],[1.0,\"#f0f921\"]]}],\"contourcarpet\":[{\"type\":\"contourcarpet\",\"colorbar\":{\"outlinewidth\":0,\"ticks\":\"\"}}],\"contour\":[{\"type\":\"contour\",\"colorbar\":{\"outlinewidth\":0,\"ticks\":\"\"},\"colorscale\":[[0.0,\"#0d0887\"],[0.1111111111111111,\"#46039f\"],[0.2222222222222222,\"#7201a8\"],[0.3333333333333333,\"#9c179e\"],[0.4444444444444444,\"#bd3786\"],[0.5555555555555556,\"#d8576b\"],[0.6666666666666666,\"#ed7953\"],[0.7777777777777778,\"#fb9f3a\"],[0.8888888888888888,\"#fdca26\"],[1.0,\"#f0f921\"]]}],\"surface\":[{\"type\":\"surface\",\"colorbar\":{\"outlinewidth\":0,\"ticks\":\"\"},\"colorscale\":[[0.0,\"#0d0887\"],[0.1111111111111111,\"#46039f\"],[0.2222222222222222,\"#7201a8\"],[0.3333333333333333,\"#9c179e\"],[0.4444444444444444,\"#bd3786\"],[0.5555555555555556,\"#d8576b\"],[0.6666666666666666,\"#ed7953\"],[0.7777777777777778,\"#fb9f3a\"],[0.8888888888888888,\"#fdca26\"],[1.0,\"#f0f921\"]]}],\"mesh3d\":[{\"type\":\"mesh3d\",\"colorbar\":{\"outlinewidth\":0,\"ticks\":\"\"}}],\"scatter\":[{\"fillpattern\":{\"fillmode\":\"overlay\",\"size\":10,\"solidity\":0.2},\"type\":\"scatter\"}],\"parcoords\":[{\"type\":\"parcoords\",\"line\":{\"colorbar\":{\"outlinewidth\":0,\"ticks\":\"\"}}}],\"scatterpolargl\":[{\"type\":\"scatterpolargl\",\"marker\":{\"colorbar\":{\"outlinewidth\":0,\"ticks\":\"\"}}}],\"bar\":[{\"error_x\":{\"color\":\"#2a3f5f\"},\"error_y\":{\"color\":\"#2a3f5f\"},\"marker\":{\"line\":{\"color\":\"#E5ECF6\",\"width\":0.5},\"pattern\":{\"fillmode\":\"overlay\",\"size\":10,\"solidity\":0.2}},\"type\":\"bar\"}],\"scattergeo\":[{\"type\":\"scattergeo\",\"marker\":{\"colorbar\":{\"outlinewidth\":0,\"ticks\":\"\"}}}],\"scatterpolar\":[{\"type\":\"scatterpolar\",\"marker\":{\"colorbar\":{\"outlinewidth\":0,\"ticks\":\"\"}}}],\"histogram\":[{\"marker\":{\"pattern\":{\"fillmode\":\"overlay\",\"size\":10,\"solidity\":0.2}},\"type\":\"histogram\"}],\"scattergl\":[{\"type\":\"scattergl\",\"marker\":{\"colorbar\":{\"outlinewidth\":0,\"ticks\":\"\"}}}],\"scatter3d\":[{\"type\":\"scatter3d\",\"line\":{\"colorbar\":{\"outlinewidth\":0,\"ticks\":\"\"}},\"marker\":{\"colorbar\":{\"outlinewidth\":0,\"ticks\":\"\"}}}],\"scattermapbox\":[{\"type\":\"scattermapbox\",\"marker\":{\"colorbar\":{\"outlinewidth\":0,\"ticks\":\"\"}}}],\"scatterternary\":[{\"type\":\"scatterternary\",\"marker\":{\"colorbar\":{\"outlinewidth\":0,\"ticks\":\"\"}}}],\"scattercarpet\":[{\"type\":\"scattercarpet\",\"marker\":{\"colorbar\":{\"outlinewidth\":0,\"ticks\":\"\"}}}],\"carpet\":[{\"aaxis\":{\"endlinecolor\":\"#2a3f5f\",\"gridcolor\":\"white\",\"linecolor\":\"white\",\"minorgridcolor\":\"white\",\"startlinecolor\":\"#2a3f5f\"},\"baxis\":{\"endlinecolor\":\"#2a3f5f\",\"gridcolor\":\"white\",\"linecolor\":\"white\",\"minorgridcolor\":\"white\",\"startlinecolor\":\"#2a3f5f\"},\"type\":\"carpet\"}],\"table\":[{\"cells\":{\"fill\":{\"color\":\"#EBF0F8\"},\"line\":{\"color\":\"white\"}},\"header\":{\"fill\":{\"color\":\"#C8D4E3\"},\"line\":{\"color\":\"white\"}},\"type\":\"table\"}],\"barpolar\":[{\"marker\":{\"line\":{\"color\":\"#E5ECF6\",\"width\":0.5},\"pattern\":{\"fillmode\":\"overlay\",\"size\":10,\"solidity\":0.2}},\"type\":\"barpolar\"}],\"pie\":[{\"automargin\":true,\"type\":\"pie\"}]},\"layout\":{\"autotypenumbers\":\"strict\",\"colorway\":[\"#636efa\",\"#EF553B\",\"#00cc96\",\"#ab63fa\",\"#FFA15A\",\"#19d3f3\",\"#FF6692\",\"#B6E880\",\"#FF97FF\",\"#FECB52\"],\"font\":{\"color\":\"#2a3f5f\"},\"hovermode\":\"closest\",\"hoverlabel\":{\"align\":\"left\"},\"paper_bgcolor\":\"white\",\"plot_bgcolor\":\"#E5ECF6\",\"polar\":{\"bgcolor\":\"#E5ECF6\",\"angularaxis\":{\"gridcolor\":\"white\",\"linecolor\":\"white\",\"ticks\":\"\"},\"radialaxis\":{\"gridcolor\":\"white\",\"linecolor\":\"white\",\"ticks\":\"\"}},\"ternary\":{\"bgcolor\":\"#E5ECF6\",\"aaxis\":{\"gridcolor\":\"white\",\"linecolor\":\"white\",\"ticks\":\"\"},\"baxis\":{\"gridcolor\":\"white\",\"linecolor\":\"white\",\"ticks\":\"\"},\"caxis\":{\"gridcolor\":\"white\",\"linecolor\":\"white\",\"ticks\":\"\"}},\"coloraxis\":{\"colorbar\":{\"outlinewidth\":0,\"ticks\":\"\"}},\"colorscale\":{\"sequential\":[[0.0,\"#0d0887\"],[0.1111111111111111,\"#46039f\"],[0.2222222222222222,\"#7201a8\"],[0.3333333333333333,\"#9c179e\"],[0.4444444444444444,\"#bd3786\"],[0.5555555555555556,\"#d8576b\"],[0.6666666666666666,\"#ed7953\"],[0.7777777777777778,\"#fb9f3a\"],[0.8888888888888888,\"#fdca26\"],[1.0,\"#f0f921\"]],\"sequentialminus\":[[0.0,\"#0d0887\"],[0.1111111111111111,\"#46039f\"],[0.2222222222222222,\"#7201a8\"],[0.3333333333333333,\"#9c179e\"],[0.4444444444444444,\"#bd3786\"],[0.5555555555555556,\"#d8576b\"],[0.6666666666666666,\"#ed7953\"],[0.7777777777777778,\"#fb9f3a\"],[0.8888888888888888,\"#fdca26\"],[1.0,\"#f0f921\"]],\"diverging\":[[0,\"#8e0152\"],[0.1,\"#c51b7d\"],[0.2,\"#de77ae\"],[0.3,\"#f1b6da\"],[0.4,\"#fde0ef\"],[0.5,\"#f7f7f7\"],[0.6,\"#e6f5d0\"],[0.7,\"#b8e186\"],[0.8,\"#7fbc41\"],[0.9,\"#4d9221\"],[1,\"#276419\"]]},\"xaxis\":{\"gridcolor\":\"white\",\"linecolor\":\"white\",\"ticks\":\"\",\"title\":{\"standoff\":15},\"zerolinecolor\":\"white\",\"automargin\":true,\"zerolinewidth\":2},\"yaxis\":{\"gridcolor\":\"white\",\"linecolor\":\"white\",\"ticks\":\"\",\"title\":{\"standoff\":15},\"zerolinecolor\":\"white\",\"automargin\":true,\"zerolinewidth\":2},\"scene\":{\"xaxis\":{\"backgroundcolor\":\"#E5ECF6\",\"gridcolor\":\"white\",\"linecolor\":\"white\",\"showbackground\":true,\"ticks\":\"\",\"zerolinecolor\":\"white\",\"gridwidth\":2},\"yaxis\":{\"backgroundcolor\":\"#E5ECF6\",\"gridcolor\":\"white\",\"linecolor\":\"white\",\"showbackground\":true,\"ticks\":\"\",\"zerolinecolor\":\"white\",\"gridwidth\":2},\"zaxis\":{\"backgroundcolor\":\"#E5ECF6\",\"gridcolor\":\"white\",\"linecolor\":\"white\",\"showbackground\":true,\"ticks\":\"\",\"zerolinecolor\":\"white\",\"gridwidth\":2}},\"shapedefaults\":{\"line\":{\"color\":\"#2a3f5f\"}},\"annotationdefaults\":{\"arrowcolor\":\"#2a3f5f\",\"arrowhead\":0,\"arrowwidth\":1},\"geo\":{\"bgcolor\":\"white\",\"landcolor\":\"#E5ECF6\",\"subunitcolor\":\"white\",\"showland\":true,\"showlakes\":true,\"lakecolor\":\"white\"},\"title\":{\"x\":0.05},\"mapbox\":{\"style\":\"light\"}}},\"xaxis\":{\"anchor\":\"y\",\"domain\":[0.0,1.0],\"title\":{\"text\":\"Project Type Category\"}},\"yaxis\":{\"anchor\":\"x\",\"domain\":[0.0,1.0],\"title\":{\"text\":\"Waste in Place (tons)\"}},\"legend\":{\"title\":{\"text\":\"RNG Delivery Method\"},\"tracegroupgap\":0},\"margin\":{\"t\":60},\"boxmode\":\"group\"},                        {\"responsive\": true}                    ).then(function(){\n",
       "                            \n",
       "var gd = document.getElementById('5d0d948f-dbc4-4856-bfeb-596fcd26af4e');\n",
       "var x = new MutationObserver(function (mutations, observer) {{\n",
       "        var display = window.getComputedStyle(gd).display;\n",
       "        if (!display || display === 'none') {{\n",
       "            console.log([gd, 'removed!']);\n",
       "            Plotly.purge(gd);\n",
       "            observer.disconnect();\n",
       "        }}\n",
       "}});\n",
       "\n",
       "// Listen for the removal of the full notebook cells\n",
       "var notebookContainer = gd.closest('#notebook-container');\n",
       "if (notebookContainer) {{\n",
       "    x.observe(notebookContainer, {childList: true});\n",
       "}}\n",
       "\n",
       "// Listen for the clearing of the current output cell\n",
       "var outputEl = gd.closest('.output');\n",
       "if (outputEl) {{\n",
       "    x.observe(outputEl, {childList: true});\n",
       "}}\n",
       "\n",
       "                        })                };                });            </script>        </div>"
      ]
     },
     "metadata": {},
     "output_type": "display_data"
    }
   ],
   "source": [
    "import plotly.express as px\n",
    "fig = px.box(Top10,x='Project Type Category',y='Waste in Place (tons)', color='RNG Delivery Method')\n",
    "fig.show()"
   ]
  },
  {
   "cell_type": "code",
   "execution_count": 256,
   "id": "0bd819af",
   "metadata": {},
   "outputs": [
    {
     "data": {
      "application/vnd.plotly.v1+json": {
       "config": {
        "plotlyServerURL": "https://plot.ly"
       },
       "data": [
        {
         "alignmentgroup": "True",
         "hovertemplate": "Project Type Category=Electricity<br>SUBPARTS=%{x}<br>GHG QUANTITY (METRIC TONS CO2e)=%{y}<extra></extra>",
         "legendgroup": "Electricity",
         "marker": {
          "color": "#636efa"
         },
         "name": "Electricity",
         "notched": false,
         "offsetgroup": "Electricity",
         "orientation": "v",
         "showlegend": true,
         "type": "box",
         "x": [
          "HH",
          "HH",
          "HH",
          "C,HH",
          "C,HH",
          "HH",
          "HH",
          "HH",
          "HH",
          null,
          "HH",
          "HH",
          "HH",
          "C,HH",
          "C,HH",
          "C,HH",
          "HH",
          "HH",
          null,
          null,
          null,
          "C,HH",
          "C,HH",
          "C,HH",
          "HH",
          "HH",
          null,
          null,
          null,
          null,
          null,
          null,
          null,
          "HH",
          "HH",
          null,
          "HH",
          "HH",
          null,
          "HH",
          "C,HH",
          "C,HH",
          "C,HH",
          null,
          "HH",
          "HH",
          "HH",
          "C,HH",
          "HH",
          "HH",
          "HH",
          "C,HH",
          "C,HH",
          "HH",
          "HH",
          "HH",
          "HH",
          "HH",
          "HH",
          "C,HH",
          "C,HH",
          "C,HH",
          "C,HH",
          "C,HH",
          "C,HH",
          "C,HH",
          "HH",
          "HH",
          "HH",
          "HH",
          "HH",
          "HH",
          "HH",
          "HH",
          "HH",
          "HH",
          "HH",
          "HH",
          "HH",
          "HH",
          "HH",
          "HH",
          "HH",
          "HH",
          "HH",
          "HH",
          "HH",
          "HH",
          "HH",
          "HH",
          "HH",
          "C,HH",
          "C,HH",
          "C,HH",
          "C,HH",
          "C,HH",
          "HH",
          "HH",
          "C,HH",
          "HH",
          "HH",
          "C,HH",
          "C,HH",
          "HH",
          "C,HH",
          "C,HH",
          "C,HH",
          "C,HH",
          "C,HH",
          "C,HH",
          "HH",
          "HH",
          "HH",
          "HH",
          "HH",
          "HH",
          "HH",
          "HH",
          "HH",
          "HH",
          "HH",
          "HH",
          "HH",
          "HH",
          "HH",
          "HH",
          "HH",
          "HH",
          "HH",
          "HH",
          "HH",
          "HH",
          "HH",
          null,
          null,
          null,
          "HH",
          "HH"
         ],
         "x0": " ",
         "xaxis": "x",
         "y": [
          47082,
          47082,
          47082,
          153519,
          153519,
          41860,
          41860,
          41860,
          88809,
          0,
          293642,
          293642,
          293642,
          16120,
          16120,
          16120,
          24957,
          24957,
          0,
          0,
          0,
          56730,
          56730,
          56730,
          163207,
          18680,
          0,
          0,
          0,
          0,
          0,
          0,
          0,
          32829,
          21144,
          0,
          40041,
          40041,
          0,
          7000,
          56401,
          119081,
          119081,
          0,
          92908,
          336678,
          336678,
          63721,
          20566,
          82293,
          125026,
          154437,
          154437,
          126010,
          120760,
          120760,
          120760,
          23296,
          106841,
          265776,
          265776,
          265776,
          265776,
          265776,
          265776,
          265776,
          19087,
          19087,
          153207,
          153207,
          153207,
          153207,
          3420,
          3420,
          440492,
          440492,
          440492,
          440492,
          121002,
          121002,
          121002,
          121002,
          148919,
          3965,
          1091,
          19513,
          19513,
          19513,
          19513,
          82892,
          121885,
          67765,
          67765,
          67765,
          67765,
          67765,
          88636,
          88636,
          86374,
          54862,
          3509,
          6943,
          6943,
          11104,
          207722,
          53546,
          53546,
          53546,
          53546,
          53546,
          8233,
          381572,
          381572,
          107175,
          107175,
          107175,
          100032,
          100032,
          30743,
          53927,
          53927,
          69847,
          69847,
          69847,
          69847,
          30596,
          16210,
          152566,
          152566,
          152566,
          152566,
          38200,
          38200,
          0,
          0,
          0,
          11912,
          19334
         ],
         "y0": " ",
         "yaxis": "y"
        },
        {
         "alignmentgroup": "True",
         "hovertemplate": "Project Type Category=Unknown<br>SUBPARTS=%{x}<br>GHG QUANTITY (METRIC TONS CO2e)=%{y}<extra></extra>",
         "legendgroup": "Unknown",
         "marker": {
          "color": "#EF553B"
         },
         "name": "Unknown",
         "notched": false,
         "offsetgroup": "Unknown",
         "orientation": "v",
         "showlegend": true,
         "type": "box",
         "x": [
          "HH",
          "HH",
          "C,HH",
          null,
          "HH",
          "C,HH",
          "C,HH",
          "HH",
          "HH",
          null,
          null,
          "HH",
          null,
          "HH",
          null,
          null,
          "C,HH",
          "HH",
          "C,HH",
          "HH",
          "HH",
          null,
          "C,HH",
          "HH",
          "HH",
          "HH",
          "HH",
          "C,HH",
          null,
          null,
          "C,HH",
          "HH",
          "HH",
          "HH",
          "C,HH",
          "HH",
          "C,HH",
          null,
          null,
          null,
          null,
          null,
          null,
          null,
          "HH",
          null,
          null,
          null,
          "HH",
          "HH",
          "HH",
          "HH",
          "HH",
          "HH",
          "HH",
          "HH",
          "HH"
         ],
         "x0": " ",
         "xaxis": "x",
         "y": [
          26326,
          37710,
          51915,
          0,
          20200,
          116149,
          43847,
          293642,
          40427,
          0,
          0,
          18680,
          0,
          816,
          0,
          0,
          30230,
          1950,
          16837,
          17273,
          12493,
          0,
          119081,
          10853,
          34101,
          70854,
          12159,
          63721,
          0,
          0,
          154437,
          3036,
          89819,
          126010,
          21723,
          24227,
          45198,
          0,
          0,
          0,
          0,
          0,
          0,
          0,
          20272,
          0,
          0,
          0,
          36094,
          174,
          4746,
          28806,
          69847,
          5799,
          45529,
          65257,
          152566
         ],
         "y0": " ",
         "yaxis": "y"
        },
        {
         "alignmentgroup": "True",
         "hovertemplate": "Project Type Category=Renewable Natural Gas<br>SUBPARTS=%{x}<br>GHG QUANTITY (METRIC TONS CO2e)=%{y}<extra></extra>",
         "legendgroup": "Renewable Natural Gas",
         "marker": {
          "color": "#00cc96"
         },
         "name": "Renewable Natural Gas",
         "notched": false,
         "offsetgroup": "Renewable Natural Gas",
         "orientation": "v",
         "showlegend": true,
         "type": "box",
         "x": [
          "C,HH",
          "C,HH",
          "C,HH",
          "HH",
          "HH",
          "HH",
          "HH",
          "HH",
          "HH",
          "HH",
          "HH",
          "C,HH",
          "HH",
          "HH",
          "HH",
          "C,HH",
          "C,HH",
          "C,HH"
         ],
         "x0": " ",
         "xaxis": "x",
         "y": [
          110384,
          153519,
          153519,
          48484,
          21144,
          40041,
          92908,
          336678,
          336678,
          125026,
          106841,
          265776,
          153207,
          19513,
          121885,
          67765,
          207722,
          53546
         ],
         "y0": " ",
         "yaxis": "y"
        },
        {
         "alignmentgroup": "True",
         "hovertemplate": "Project Type Category=Direct<br>SUBPARTS=%{x}<br>GHG QUANTITY (METRIC TONS CO2e)=%{y}<extra></extra>",
         "legendgroup": "Direct",
         "marker": {
          "color": "#ab63fa"
         },
         "name": "Direct",
         "notched": false,
         "offsetgroup": "Direct",
         "orientation": "v",
         "showlegend": true,
         "type": "box",
         "x": [
          "HH",
          null,
          null,
          "HH",
          "HH",
          "C,HH",
          "C,HH",
          "C,HH"
         ],
         "x0": " ",
         "xaxis": "x",
         "y": [
          32829,
          0,
          0,
          1091,
          1091,
          67765,
          86374,
          2403
         ],
         "y0": " ",
         "yaxis": "y"
        }
       ],
       "layout": {
        "boxmode": "group",
        "legend": {
         "title": {
          "text": "Project Type Category"
         },
         "tracegroupgap": 0
        },
        "margin": {
         "t": 60
        },
        "template": {
         "data": {
          "bar": [
           {
            "error_x": {
             "color": "#2a3f5f"
            },
            "error_y": {
             "color": "#2a3f5f"
            },
            "marker": {
             "line": {
              "color": "#E5ECF6",
              "width": 0.5
             },
             "pattern": {
              "fillmode": "overlay",
              "size": 10,
              "solidity": 0.2
             }
            },
            "type": "bar"
           }
          ],
          "barpolar": [
           {
            "marker": {
             "line": {
              "color": "#E5ECF6",
              "width": 0.5
             },
             "pattern": {
              "fillmode": "overlay",
              "size": 10,
              "solidity": 0.2
             }
            },
            "type": "barpolar"
           }
          ],
          "carpet": [
           {
            "aaxis": {
             "endlinecolor": "#2a3f5f",
             "gridcolor": "white",
             "linecolor": "white",
             "minorgridcolor": "white",
             "startlinecolor": "#2a3f5f"
            },
            "baxis": {
             "endlinecolor": "#2a3f5f",
             "gridcolor": "white",
             "linecolor": "white",
             "minorgridcolor": "white",
             "startlinecolor": "#2a3f5f"
            },
            "type": "carpet"
           }
          ],
          "choropleth": [
           {
            "colorbar": {
             "outlinewidth": 0,
             "ticks": ""
            },
            "type": "choropleth"
           }
          ],
          "contour": [
           {
            "colorbar": {
             "outlinewidth": 0,
             "ticks": ""
            },
            "colorscale": [
             [
              0,
              "#0d0887"
             ],
             [
              0.1111111111111111,
              "#46039f"
             ],
             [
              0.2222222222222222,
              "#7201a8"
             ],
             [
              0.3333333333333333,
              "#9c179e"
             ],
             [
              0.4444444444444444,
              "#bd3786"
             ],
             [
              0.5555555555555556,
              "#d8576b"
             ],
             [
              0.6666666666666666,
              "#ed7953"
             ],
             [
              0.7777777777777778,
              "#fb9f3a"
             ],
             [
              0.8888888888888888,
              "#fdca26"
             ],
             [
              1,
              "#f0f921"
             ]
            ],
            "type": "contour"
           }
          ],
          "contourcarpet": [
           {
            "colorbar": {
             "outlinewidth": 0,
             "ticks": ""
            },
            "type": "contourcarpet"
           }
          ],
          "heatmap": [
           {
            "colorbar": {
             "outlinewidth": 0,
             "ticks": ""
            },
            "colorscale": [
             [
              0,
              "#0d0887"
             ],
             [
              0.1111111111111111,
              "#46039f"
             ],
             [
              0.2222222222222222,
              "#7201a8"
             ],
             [
              0.3333333333333333,
              "#9c179e"
             ],
             [
              0.4444444444444444,
              "#bd3786"
             ],
             [
              0.5555555555555556,
              "#d8576b"
             ],
             [
              0.6666666666666666,
              "#ed7953"
             ],
             [
              0.7777777777777778,
              "#fb9f3a"
             ],
             [
              0.8888888888888888,
              "#fdca26"
             ],
             [
              1,
              "#f0f921"
             ]
            ],
            "type": "heatmap"
           }
          ],
          "heatmapgl": [
           {
            "colorbar": {
             "outlinewidth": 0,
             "ticks": ""
            },
            "colorscale": [
             [
              0,
              "#0d0887"
             ],
             [
              0.1111111111111111,
              "#46039f"
             ],
             [
              0.2222222222222222,
              "#7201a8"
             ],
             [
              0.3333333333333333,
              "#9c179e"
             ],
             [
              0.4444444444444444,
              "#bd3786"
             ],
             [
              0.5555555555555556,
              "#d8576b"
             ],
             [
              0.6666666666666666,
              "#ed7953"
             ],
             [
              0.7777777777777778,
              "#fb9f3a"
             ],
             [
              0.8888888888888888,
              "#fdca26"
             ],
             [
              1,
              "#f0f921"
             ]
            ],
            "type": "heatmapgl"
           }
          ],
          "histogram": [
           {
            "marker": {
             "pattern": {
              "fillmode": "overlay",
              "size": 10,
              "solidity": 0.2
             }
            },
            "type": "histogram"
           }
          ],
          "histogram2d": [
           {
            "colorbar": {
             "outlinewidth": 0,
             "ticks": ""
            },
            "colorscale": [
             [
              0,
              "#0d0887"
             ],
             [
              0.1111111111111111,
              "#46039f"
             ],
             [
              0.2222222222222222,
              "#7201a8"
             ],
             [
              0.3333333333333333,
              "#9c179e"
             ],
             [
              0.4444444444444444,
              "#bd3786"
             ],
             [
              0.5555555555555556,
              "#d8576b"
             ],
             [
              0.6666666666666666,
              "#ed7953"
             ],
             [
              0.7777777777777778,
              "#fb9f3a"
             ],
             [
              0.8888888888888888,
              "#fdca26"
             ],
             [
              1,
              "#f0f921"
             ]
            ],
            "type": "histogram2d"
           }
          ],
          "histogram2dcontour": [
           {
            "colorbar": {
             "outlinewidth": 0,
             "ticks": ""
            },
            "colorscale": [
             [
              0,
              "#0d0887"
             ],
             [
              0.1111111111111111,
              "#46039f"
             ],
             [
              0.2222222222222222,
              "#7201a8"
             ],
             [
              0.3333333333333333,
              "#9c179e"
             ],
             [
              0.4444444444444444,
              "#bd3786"
             ],
             [
              0.5555555555555556,
              "#d8576b"
             ],
             [
              0.6666666666666666,
              "#ed7953"
             ],
             [
              0.7777777777777778,
              "#fb9f3a"
             ],
             [
              0.8888888888888888,
              "#fdca26"
             ],
             [
              1,
              "#f0f921"
             ]
            ],
            "type": "histogram2dcontour"
           }
          ],
          "mesh3d": [
           {
            "colorbar": {
             "outlinewidth": 0,
             "ticks": ""
            },
            "type": "mesh3d"
           }
          ],
          "parcoords": [
           {
            "line": {
             "colorbar": {
              "outlinewidth": 0,
              "ticks": ""
             }
            },
            "type": "parcoords"
           }
          ],
          "pie": [
           {
            "automargin": true,
            "type": "pie"
           }
          ],
          "scatter": [
           {
            "fillpattern": {
             "fillmode": "overlay",
             "size": 10,
             "solidity": 0.2
            },
            "type": "scatter"
           }
          ],
          "scatter3d": [
           {
            "line": {
             "colorbar": {
              "outlinewidth": 0,
              "ticks": ""
             }
            },
            "marker": {
             "colorbar": {
              "outlinewidth": 0,
              "ticks": ""
             }
            },
            "type": "scatter3d"
           }
          ],
          "scattercarpet": [
           {
            "marker": {
             "colorbar": {
              "outlinewidth": 0,
              "ticks": ""
             }
            },
            "type": "scattercarpet"
           }
          ],
          "scattergeo": [
           {
            "marker": {
             "colorbar": {
              "outlinewidth": 0,
              "ticks": ""
             }
            },
            "type": "scattergeo"
           }
          ],
          "scattergl": [
           {
            "marker": {
             "colorbar": {
              "outlinewidth": 0,
              "ticks": ""
             }
            },
            "type": "scattergl"
           }
          ],
          "scattermapbox": [
           {
            "marker": {
             "colorbar": {
              "outlinewidth": 0,
              "ticks": ""
             }
            },
            "type": "scattermapbox"
           }
          ],
          "scatterpolar": [
           {
            "marker": {
             "colorbar": {
              "outlinewidth": 0,
              "ticks": ""
             }
            },
            "type": "scatterpolar"
           }
          ],
          "scatterpolargl": [
           {
            "marker": {
             "colorbar": {
              "outlinewidth": 0,
              "ticks": ""
             }
            },
            "type": "scatterpolargl"
           }
          ],
          "scatterternary": [
           {
            "marker": {
             "colorbar": {
              "outlinewidth": 0,
              "ticks": ""
             }
            },
            "type": "scatterternary"
           }
          ],
          "surface": [
           {
            "colorbar": {
             "outlinewidth": 0,
             "ticks": ""
            },
            "colorscale": [
             [
              0,
              "#0d0887"
             ],
             [
              0.1111111111111111,
              "#46039f"
             ],
             [
              0.2222222222222222,
              "#7201a8"
             ],
             [
              0.3333333333333333,
              "#9c179e"
             ],
             [
              0.4444444444444444,
              "#bd3786"
             ],
             [
              0.5555555555555556,
              "#d8576b"
             ],
             [
              0.6666666666666666,
              "#ed7953"
             ],
             [
              0.7777777777777778,
              "#fb9f3a"
             ],
             [
              0.8888888888888888,
              "#fdca26"
             ],
             [
              1,
              "#f0f921"
             ]
            ],
            "type": "surface"
           }
          ],
          "table": [
           {
            "cells": {
             "fill": {
              "color": "#EBF0F8"
             },
             "line": {
              "color": "white"
             }
            },
            "header": {
             "fill": {
              "color": "#C8D4E3"
             },
             "line": {
              "color": "white"
             }
            },
            "type": "table"
           }
          ]
         },
         "layout": {
          "annotationdefaults": {
           "arrowcolor": "#2a3f5f",
           "arrowhead": 0,
           "arrowwidth": 1
          },
          "autotypenumbers": "strict",
          "coloraxis": {
           "colorbar": {
            "outlinewidth": 0,
            "ticks": ""
           }
          },
          "colorscale": {
           "diverging": [
            [
             0,
             "#8e0152"
            ],
            [
             0.1,
             "#c51b7d"
            ],
            [
             0.2,
             "#de77ae"
            ],
            [
             0.3,
             "#f1b6da"
            ],
            [
             0.4,
             "#fde0ef"
            ],
            [
             0.5,
             "#f7f7f7"
            ],
            [
             0.6,
             "#e6f5d0"
            ],
            [
             0.7,
             "#b8e186"
            ],
            [
             0.8,
             "#7fbc41"
            ],
            [
             0.9,
             "#4d9221"
            ],
            [
             1,
             "#276419"
            ]
           ],
           "sequential": [
            [
             0,
             "#0d0887"
            ],
            [
             0.1111111111111111,
             "#46039f"
            ],
            [
             0.2222222222222222,
             "#7201a8"
            ],
            [
             0.3333333333333333,
             "#9c179e"
            ],
            [
             0.4444444444444444,
             "#bd3786"
            ],
            [
             0.5555555555555556,
             "#d8576b"
            ],
            [
             0.6666666666666666,
             "#ed7953"
            ],
            [
             0.7777777777777778,
             "#fb9f3a"
            ],
            [
             0.8888888888888888,
             "#fdca26"
            ],
            [
             1,
             "#f0f921"
            ]
           ],
           "sequentialminus": [
            [
             0,
             "#0d0887"
            ],
            [
             0.1111111111111111,
             "#46039f"
            ],
            [
             0.2222222222222222,
             "#7201a8"
            ],
            [
             0.3333333333333333,
             "#9c179e"
            ],
            [
             0.4444444444444444,
             "#bd3786"
            ],
            [
             0.5555555555555556,
             "#d8576b"
            ],
            [
             0.6666666666666666,
             "#ed7953"
            ],
            [
             0.7777777777777778,
             "#fb9f3a"
            ],
            [
             0.8888888888888888,
             "#fdca26"
            ],
            [
             1,
             "#f0f921"
            ]
           ]
          },
          "colorway": [
           "#636efa",
           "#EF553B",
           "#00cc96",
           "#ab63fa",
           "#FFA15A",
           "#19d3f3",
           "#FF6692",
           "#B6E880",
           "#FF97FF",
           "#FECB52"
          ],
          "font": {
           "color": "#2a3f5f"
          },
          "geo": {
           "bgcolor": "white",
           "lakecolor": "white",
           "landcolor": "#E5ECF6",
           "showlakes": true,
           "showland": true,
           "subunitcolor": "white"
          },
          "hoverlabel": {
           "align": "left"
          },
          "hovermode": "closest",
          "mapbox": {
           "style": "light"
          },
          "paper_bgcolor": "white",
          "plot_bgcolor": "#E5ECF6",
          "polar": {
           "angularaxis": {
            "gridcolor": "white",
            "linecolor": "white",
            "ticks": ""
           },
           "bgcolor": "#E5ECF6",
           "radialaxis": {
            "gridcolor": "white",
            "linecolor": "white",
            "ticks": ""
           }
          },
          "scene": {
           "xaxis": {
            "backgroundcolor": "#E5ECF6",
            "gridcolor": "white",
            "gridwidth": 2,
            "linecolor": "white",
            "showbackground": true,
            "ticks": "",
            "zerolinecolor": "white"
           },
           "yaxis": {
            "backgroundcolor": "#E5ECF6",
            "gridcolor": "white",
            "gridwidth": 2,
            "linecolor": "white",
            "showbackground": true,
            "ticks": "",
            "zerolinecolor": "white"
           },
           "zaxis": {
            "backgroundcolor": "#E5ECF6",
            "gridcolor": "white",
            "gridwidth": 2,
            "linecolor": "white",
            "showbackground": true,
            "ticks": "",
            "zerolinecolor": "white"
           }
          },
          "shapedefaults": {
           "line": {
            "color": "#2a3f5f"
           }
          },
          "ternary": {
           "aaxis": {
            "gridcolor": "white",
            "linecolor": "white",
            "ticks": ""
           },
           "baxis": {
            "gridcolor": "white",
            "linecolor": "white",
            "ticks": ""
           },
           "bgcolor": "#E5ECF6",
           "caxis": {
            "gridcolor": "white",
            "linecolor": "white",
            "ticks": ""
           }
          },
          "title": {
           "x": 0.05
          },
          "xaxis": {
           "automargin": true,
           "gridcolor": "white",
           "linecolor": "white",
           "ticks": "",
           "title": {
            "standoff": 15
           },
           "zerolinecolor": "white",
           "zerolinewidth": 2
          },
          "yaxis": {
           "automargin": true,
           "gridcolor": "white",
           "linecolor": "white",
           "ticks": "",
           "title": {
            "standoff": 15
           },
           "zerolinecolor": "white",
           "zerolinewidth": 2
          }
         }
        },
        "xaxis": {
         "anchor": "y",
         "domain": [
          0,
          1
         ],
         "title": {
          "text": "SUBPARTS"
         }
        },
        "yaxis": {
         "anchor": "x",
         "domain": [
          0,
          1
         ],
         "title": {
          "text": "GHG QUANTITY (METRIC TONS CO2e)"
         }
        }
       }
      },
      "text/html": [
       "<div>                            <div id=\"eb415903-2924-466d-a120-4bfbab6d3fd2\" class=\"plotly-graph-div\" style=\"height:525px; width:100%;\"></div>            <script type=\"text/javascript\">                require([\"plotly\"], function(Plotly) {                    window.PLOTLYENV=window.PLOTLYENV || {};                                    if (document.getElementById(\"eb415903-2924-466d-a120-4bfbab6d3fd2\")) {                    Plotly.newPlot(                        \"eb415903-2924-466d-a120-4bfbab6d3fd2\",                        [{\"alignmentgroup\":\"True\",\"hovertemplate\":\"Project Type Category=Electricity<br>SUBPARTS=%{x}<br>GHG QUANTITY (METRIC TONS CO2e)=%{y}<extra></extra>\",\"legendgroup\":\"Electricity\",\"marker\":{\"color\":\"#636efa\"},\"name\":\"Electricity\",\"notched\":false,\"offsetgroup\":\"Electricity\",\"orientation\":\"v\",\"showlegend\":true,\"x\":[\"HH\",\"HH\",\"HH\",\"C,HH\",\"C,HH\",\"HH\",\"HH\",\"HH\",\"HH\",null,\"HH\",\"HH\",\"HH\",\"C,HH\",\"C,HH\",\"C,HH\",\"HH\",\"HH\",null,null,null,\"C,HH\",\"C,HH\",\"C,HH\",\"HH\",\"HH\",null,null,null,null,null,null,null,\"HH\",\"HH\",null,\"HH\",\"HH\",null,\"HH\",\"C,HH\",\"C,HH\",\"C,HH\",null,\"HH\",\"HH\",\"HH\",\"C,HH\",\"HH\",\"HH\",\"HH\",\"C,HH\",\"C,HH\",\"HH\",\"HH\",\"HH\",\"HH\",\"HH\",\"HH\",\"C,HH\",\"C,HH\",\"C,HH\",\"C,HH\",\"C,HH\",\"C,HH\",\"C,HH\",\"HH\",\"HH\",\"HH\",\"HH\",\"HH\",\"HH\",\"HH\",\"HH\",\"HH\",\"HH\",\"HH\",\"HH\",\"HH\",\"HH\",\"HH\",\"HH\",\"HH\",\"HH\",\"HH\",\"HH\",\"HH\",\"HH\",\"HH\",\"HH\",\"HH\",\"C,HH\",\"C,HH\",\"C,HH\",\"C,HH\",\"C,HH\",\"HH\",\"HH\",\"C,HH\",\"HH\",\"HH\",\"C,HH\",\"C,HH\",\"HH\",\"C,HH\",\"C,HH\",\"C,HH\",\"C,HH\",\"C,HH\",\"C,HH\",\"HH\",\"HH\",\"HH\",\"HH\",\"HH\",\"HH\",\"HH\",\"HH\",\"HH\",\"HH\",\"HH\",\"HH\",\"HH\",\"HH\",\"HH\",\"HH\",\"HH\",\"HH\",\"HH\",\"HH\",\"HH\",\"HH\",\"HH\",null,null,null,\"HH\",\"HH\"],\"x0\":\" \",\"xaxis\":\"x\",\"y\":[47082,47082,47082,153519,153519,41860,41860,41860,88809,0,293642,293642,293642,16120,16120,16120,24957,24957,0,0,0,56730,56730,56730,163207,18680,0,0,0,0,0,0,0,32829,21144,0,40041,40041,0,7000,56401,119081,119081,0,92908,336678,336678,63721,20566,82293,125026,154437,154437,126010,120760,120760,120760,23296,106841,265776,265776,265776,265776,265776,265776,265776,19087,19087,153207,153207,153207,153207,3420,3420,440492,440492,440492,440492,121002,121002,121002,121002,148919,3965,1091,19513,19513,19513,19513,82892,121885,67765,67765,67765,67765,67765,88636,88636,86374,54862,3509,6943,6943,11104,207722,53546,53546,53546,53546,53546,8233,381572,381572,107175,107175,107175,100032,100032,30743,53927,53927,69847,69847,69847,69847,30596,16210,152566,152566,152566,152566,38200,38200,0,0,0,11912,19334],\"y0\":\" \",\"yaxis\":\"y\",\"type\":\"box\"},{\"alignmentgroup\":\"True\",\"hovertemplate\":\"Project Type Category=Unknown<br>SUBPARTS=%{x}<br>GHG QUANTITY (METRIC TONS CO2e)=%{y}<extra></extra>\",\"legendgroup\":\"Unknown\",\"marker\":{\"color\":\"#EF553B\"},\"name\":\"Unknown\",\"notched\":false,\"offsetgroup\":\"Unknown\",\"orientation\":\"v\",\"showlegend\":true,\"x\":[\"HH\",\"HH\",\"C,HH\",null,\"HH\",\"C,HH\",\"C,HH\",\"HH\",\"HH\",null,null,\"HH\",null,\"HH\",null,null,\"C,HH\",\"HH\",\"C,HH\",\"HH\",\"HH\",null,\"C,HH\",\"HH\",\"HH\",\"HH\",\"HH\",\"C,HH\",null,null,\"C,HH\",\"HH\",\"HH\",\"HH\",\"C,HH\",\"HH\",\"C,HH\",null,null,null,null,null,null,null,\"HH\",null,null,null,\"HH\",\"HH\",\"HH\",\"HH\",\"HH\",\"HH\",\"HH\",\"HH\",\"HH\"],\"x0\":\" \",\"xaxis\":\"x\",\"y\":[26326,37710,51915,0,20200,116149,43847,293642,40427,0,0,18680,0,816,0,0,30230,1950,16837,17273,12493,0,119081,10853,34101,70854,12159,63721,0,0,154437,3036,89819,126010,21723,24227,45198,0,0,0,0,0,0,0,20272,0,0,0,36094,174,4746,28806,69847,5799,45529,65257,152566],\"y0\":\" \",\"yaxis\":\"y\",\"type\":\"box\"},{\"alignmentgroup\":\"True\",\"hovertemplate\":\"Project Type Category=Renewable Natural Gas<br>SUBPARTS=%{x}<br>GHG QUANTITY (METRIC TONS CO2e)=%{y}<extra></extra>\",\"legendgroup\":\"Renewable Natural Gas\",\"marker\":{\"color\":\"#00cc96\"},\"name\":\"Renewable Natural Gas\",\"notched\":false,\"offsetgroup\":\"Renewable Natural Gas\",\"orientation\":\"v\",\"showlegend\":true,\"x\":[\"C,HH\",\"C,HH\",\"C,HH\",\"HH\",\"HH\",\"HH\",\"HH\",\"HH\",\"HH\",\"HH\",\"HH\",\"C,HH\",\"HH\",\"HH\",\"HH\",\"C,HH\",\"C,HH\",\"C,HH\"],\"x0\":\" \",\"xaxis\":\"x\",\"y\":[110384,153519,153519,48484,21144,40041,92908,336678,336678,125026,106841,265776,153207,19513,121885,67765,207722,53546],\"y0\":\" \",\"yaxis\":\"y\",\"type\":\"box\"},{\"alignmentgroup\":\"True\",\"hovertemplate\":\"Project Type Category=Direct<br>SUBPARTS=%{x}<br>GHG QUANTITY (METRIC TONS CO2e)=%{y}<extra></extra>\",\"legendgroup\":\"Direct\",\"marker\":{\"color\":\"#ab63fa\"},\"name\":\"Direct\",\"notched\":false,\"offsetgroup\":\"Direct\",\"orientation\":\"v\",\"showlegend\":true,\"x\":[\"HH\",null,null,\"HH\",\"HH\",\"C,HH\",\"C,HH\",\"C,HH\"],\"x0\":\" \",\"xaxis\":\"x\",\"y\":[32829,0,0,1091,1091,67765,86374,2403],\"y0\":\" \",\"yaxis\":\"y\",\"type\":\"box\"}],                        {\"template\":{\"data\":{\"histogram2dcontour\":[{\"type\":\"histogram2dcontour\",\"colorbar\":{\"outlinewidth\":0,\"ticks\":\"\"},\"colorscale\":[[0.0,\"#0d0887\"],[0.1111111111111111,\"#46039f\"],[0.2222222222222222,\"#7201a8\"],[0.3333333333333333,\"#9c179e\"],[0.4444444444444444,\"#bd3786\"],[0.5555555555555556,\"#d8576b\"],[0.6666666666666666,\"#ed7953\"],[0.7777777777777778,\"#fb9f3a\"],[0.8888888888888888,\"#fdca26\"],[1.0,\"#f0f921\"]]}],\"choropleth\":[{\"type\":\"choropleth\",\"colorbar\":{\"outlinewidth\":0,\"ticks\":\"\"}}],\"histogram2d\":[{\"type\":\"histogram2d\",\"colorbar\":{\"outlinewidth\":0,\"ticks\":\"\"},\"colorscale\":[[0.0,\"#0d0887\"],[0.1111111111111111,\"#46039f\"],[0.2222222222222222,\"#7201a8\"],[0.3333333333333333,\"#9c179e\"],[0.4444444444444444,\"#bd3786\"],[0.5555555555555556,\"#d8576b\"],[0.6666666666666666,\"#ed7953\"],[0.7777777777777778,\"#fb9f3a\"],[0.8888888888888888,\"#fdca26\"],[1.0,\"#f0f921\"]]}],\"heatmap\":[{\"type\":\"heatmap\",\"colorbar\":{\"outlinewidth\":0,\"ticks\":\"\"},\"colorscale\":[[0.0,\"#0d0887\"],[0.1111111111111111,\"#46039f\"],[0.2222222222222222,\"#7201a8\"],[0.3333333333333333,\"#9c179e\"],[0.4444444444444444,\"#bd3786\"],[0.5555555555555556,\"#d8576b\"],[0.6666666666666666,\"#ed7953\"],[0.7777777777777778,\"#fb9f3a\"],[0.8888888888888888,\"#fdca26\"],[1.0,\"#f0f921\"]]}],\"heatmapgl\":[{\"type\":\"heatmapgl\",\"colorbar\":{\"outlinewidth\":0,\"ticks\":\"\"},\"colorscale\":[[0.0,\"#0d0887\"],[0.1111111111111111,\"#46039f\"],[0.2222222222222222,\"#7201a8\"],[0.3333333333333333,\"#9c179e\"],[0.4444444444444444,\"#bd3786\"],[0.5555555555555556,\"#d8576b\"],[0.6666666666666666,\"#ed7953\"],[0.7777777777777778,\"#fb9f3a\"],[0.8888888888888888,\"#fdca26\"],[1.0,\"#f0f921\"]]}],\"contourcarpet\":[{\"type\":\"contourcarpet\",\"colorbar\":{\"outlinewidth\":0,\"ticks\":\"\"}}],\"contour\":[{\"type\":\"contour\",\"colorbar\":{\"outlinewidth\":0,\"ticks\":\"\"},\"colorscale\":[[0.0,\"#0d0887\"],[0.1111111111111111,\"#46039f\"],[0.2222222222222222,\"#7201a8\"],[0.3333333333333333,\"#9c179e\"],[0.4444444444444444,\"#bd3786\"],[0.5555555555555556,\"#d8576b\"],[0.6666666666666666,\"#ed7953\"],[0.7777777777777778,\"#fb9f3a\"],[0.8888888888888888,\"#fdca26\"],[1.0,\"#f0f921\"]]}],\"surface\":[{\"type\":\"surface\",\"colorbar\":{\"outlinewidth\":0,\"ticks\":\"\"},\"colorscale\":[[0.0,\"#0d0887\"],[0.1111111111111111,\"#46039f\"],[0.2222222222222222,\"#7201a8\"],[0.3333333333333333,\"#9c179e\"],[0.4444444444444444,\"#bd3786\"],[0.5555555555555556,\"#d8576b\"],[0.6666666666666666,\"#ed7953\"],[0.7777777777777778,\"#fb9f3a\"],[0.8888888888888888,\"#fdca26\"],[1.0,\"#f0f921\"]]}],\"mesh3d\":[{\"type\":\"mesh3d\",\"colorbar\":{\"outlinewidth\":0,\"ticks\":\"\"}}],\"scatter\":[{\"fillpattern\":{\"fillmode\":\"overlay\",\"size\":10,\"solidity\":0.2},\"type\":\"scatter\"}],\"parcoords\":[{\"type\":\"parcoords\",\"line\":{\"colorbar\":{\"outlinewidth\":0,\"ticks\":\"\"}}}],\"scatterpolargl\":[{\"type\":\"scatterpolargl\",\"marker\":{\"colorbar\":{\"outlinewidth\":0,\"ticks\":\"\"}}}],\"bar\":[{\"error_x\":{\"color\":\"#2a3f5f\"},\"error_y\":{\"color\":\"#2a3f5f\"},\"marker\":{\"line\":{\"color\":\"#E5ECF6\",\"width\":0.5},\"pattern\":{\"fillmode\":\"overlay\",\"size\":10,\"solidity\":0.2}},\"type\":\"bar\"}],\"scattergeo\":[{\"type\":\"scattergeo\",\"marker\":{\"colorbar\":{\"outlinewidth\":0,\"ticks\":\"\"}}}],\"scatterpolar\":[{\"type\":\"scatterpolar\",\"marker\":{\"colorbar\":{\"outlinewidth\":0,\"ticks\":\"\"}}}],\"histogram\":[{\"marker\":{\"pattern\":{\"fillmode\":\"overlay\",\"size\":10,\"solidity\":0.2}},\"type\":\"histogram\"}],\"scattergl\":[{\"type\":\"scattergl\",\"marker\":{\"colorbar\":{\"outlinewidth\":0,\"ticks\":\"\"}}}],\"scatter3d\":[{\"type\":\"scatter3d\",\"line\":{\"colorbar\":{\"outlinewidth\":0,\"ticks\":\"\"}},\"marker\":{\"colorbar\":{\"outlinewidth\":0,\"ticks\":\"\"}}}],\"scattermapbox\":[{\"type\":\"scattermapbox\",\"marker\":{\"colorbar\":{\"outlinewidth\":0,\"ticks\":\"\"}}}],\"scatterternary\":[{\"type\":\"scatterternary\",\"marker\":{\"colorbar\":{\"outlinewidth\":0,\"ticks\":\"\"}}}],\"scattercarpet\":[{\"type\":\"scattercarpet\",\"marker\":{\"colorbar\":{\"outlinewidth\":0,\"ticks\":\"\"}}}],\"carpet\":[{\"aaxis\":{\"endlinecolor\":\"#2a3f5f\",\"gridcolor\":\"white\",\"linecolor\":\"white\",\"minorgridcolor\":\"white\",\"startlinecolor\":\"#2a3f5f\"},\"baxis\":{\"endlinecolor\":\"#2a3f5f\",\"gridcolor\":\"white\",\"linecolor\":\"white\",\"minorgridcolor\":\"white\",\"startlinecolor\":\"#2a3f5f\"},\"type\":\"carpet\"}],\"table\":[{\"cells\":{\"fill\":{\"color\":\"#EBF0F8\"},\"line\":{\"color\":\"white\"}},\"header\":{\"fill\":{\"color\":\"#C8D4E3\"},\"line\":{\"color\":\"white\"}},\"type\":\"table\"}],\"barpolar\":[{\"marker\":{\"line\":{\"color\":\"#E5ECF6\",\"width\":0.5},\"pattern\":{\"fillmode\":\"overlay\",\"size\":10,\"solidity\":0.2}},\"type\":\"barpolar\"}],\"pie\":[{\"automargin\":true,\"type\":\"pie\"}]},\"layout\":{\"autotypenumbers\":\"strict\",\"colorway\":[\"#636efa\",\"#EF553B\",\"#00cc96\",\"#ab63fa\",\"#FFA15A\",\"#19d3f3\",\"#FF6692\",\"#B6E880\",\"#FF97FF\",\"#FECB52\"],\"font\":{\"color\":\"#2a3f5f\"},\"hovermode\":\"closest\",\"hoverlabel\":{\"align\":\"left\"},\"paper_bgcolor\":\"white\",\"plot_bgcolor\":\"#E5ECF6\",\"polar\":{\"bgcolor\":\"#E5ECF6\",\"angularaxis\":{\"gridcolor\":\"white\",\"linecolor\":\"white\",\"ticks\":\"\"},\"radialaxis\":{\"gridcolor\":\"white\",\"linecolor\":\"white\",\"ticks\":\"\"}},\"ternary\":{\"bgcolor\":\"#E5ECF6\",\"aaxis\":{\"gridcolor\":\"white\",\"linecolor\":\"white\",\"ticks\":\"\"},\"baxis\":{\"gridcolor\":\"white\",\"linecolor\":\"white\",\"ticks\":\"\"},\"caxis\":{\"gridcolor\":\"white\",\"linecolor\":\"white\",\"ticks\":\"\"}},\"coloraxis\":{\"colorbar\":{\"outlinewidth\":0,\"ticks\":\"\"}},\"colorscale\":{\"sequential\":[[0.0,\"#0d0887\"],[0.1111111111111111,\"#46039f\"],[0.2222222222222222,\"#7201a8\"],[0.3333333333333333,\"#9c179e\"],[0.4444444444444444,\"#bd3786\"],[0.5555555555555556,\"#d8576b\"],[0.6666666666666666,\"#ed7953\"],[0.7777777777777778,\"#fb9f3a\"],[0.8888888888888888,\"#fdca26\"],[1.0,\"#f0f921\"]],\"sequentialminus\":[[0.0,\"#0d0887\"],[0.1111111111111111,\"#46039f\"],[0.2222222222222222,\"#7201a8\"],[0.3333333333333333,\"#9c179e\"],[0.4444444444444444,\"#bd3786\"],[0.5555555555555556,\"#d8576b\"],[0.6666666666666666,\"#ed7953\"],[0.7777777777777778,\"#fb9f3a\"],[0.8888888888888888,\"#fdca26\"],[1.0,\"#f0f921\"]],\"diverging\":[[0,\"#8e0152\"],[0.1,\"#c51b7d\"],[0.2,\"#de77ae\"],[0.3,\"#f1b6da\"],[0.4,\"#fde0ef\"],[0.5,\"#f7f7f7\"],[0.6,\"#e6f5d0\"],[0.7,\"#b8e186\"],[0.8,\"#7fbc41\"],[0.9,\"#4d9221\"],[1,\"#276419\"]]},\"xaxis\":{\"gridcolor\":\"white\",\"linecolor\":\"white\",\"ticks\":\"\",\"title\":{\"standoff\":15},\"zerolinecolor\":\"white\",\"automargin\":true,\"zerolinewidth\":2},\"yaxis\":{\"gridcolor\":\"white\",\"linecolor\":\"white\",\"ticks\":\"\",\"title\":{\"standoff\":15},\"zerolinecolor\":\"white\",\"automargin\":true,\"zerolinewidth\":2},\"scene\":{\"xaxis\":{\"backgroundcolor\":\"#E5ECF6\",\"gridcolor\":\"white\",\"linecolor\":\"white\",\"showbackground\":true,\"ticks\":\"\",\"zerolinecolor\":\"white\",\"gridwidth\":2},\"yaxis\":{\"backgroundcolor\":\"#E5ECF6\",\"gridcolor\":\"white\",\"linecolor\":\"white\",\"showbackground\":true,\"ticks\":\"\",\"zerolinecolor\":\"white\",\"gridwidth\":2},\"zaxis\":{\"backgroundcolor\":\"#E5ECF6\",\"gridcolor\":\"white\",\"linecolor\":\"white\",\"showbackground\":true,\"ticks\":\"\",\"zerolinecolor\":\"white\",\"gridwidth\":2}},\"shapedefaults\":{\"line\":{\"color\":\"#2a3f5f\"}},\"annotationdefaults\":{\"arrowcolor\":\"#2a3f5f\",\"arrowhead\":0,\"arrowwidth\":1},\"geo\":{\"bgcolor\":\"white\",\"landcolor\":\"#E5ECF6\",\"subunitcolor\":\"white\",\"showland\":true,\"showlakes\":true,\"lakecolor\":\"white\"},\"title\":{\"x\":0.05},\"mapbox\":{\"style\":\"light\"}}},\"xaxis\":{\"anchor\":\"y\",\"domain\":[0.0,1.0],\"title\":{\"text\":\"SUBPARTS\"}},\"yaxis\":{\"anchor\":\"x\",\"domain\":[0.0,1.0],\"title\":{\"text\":\"GHG QUANTITY (METRIC TONS CO2e)\"}},\"legend\":{\"title\":{\"text\":\"Project Type Category\"},\"tracegroupgap\":0},\"margin\":{\"t\":60},\"boxmode\":\"group\"},                        {\"responsive\": true}                    ).then(function(){\n",
       "                            \n",
       "var gd = document.getElementById('eb415903-2924-466d-a120-4bfbab6d3fd2');\n",
       "var x = new MutationObserver(function (mutations, observer) {{\n",
       "        var display = window.getComputedStyle(gd).display;\n",
       "        if (!display || display === 'none') {{\n",
       "            console.log([gd, 'removed!']);\n",
       "            Plotly.purge(gd);\n",
       "            observer.disconnect();\n",
       "        }}\n",
       "}});\n",
       "\n",
       "// Listen for the removal of the full notebook cells\n",
       "var notebookContainer = gd.closest('#notebook-container');\n",
       "if (notebookContainer) {{\n",
       "    x.observe(notebookContainer, {childList: true});\n",
       "}}\n",
       "\n",
       "// Listen for the clearing of the current output cell\n",
       "var outputEl = gd.closest('.output');\n",
       "if (outputEl) {{\n",
       "    x.observe(outputEl, {childList: true});\n",
       "}}\n",
       "\n",
       "                        })                };                });            </script>        </div>"
      ]
     },
     "metadata": {},
     "output_type": "display_data"
    }
   ],
   "source": [
    "import plotly.express as px\n",
    "fig = px.box(Top10,x='SUBPARTS',y='GHG QUANTITY (METRIC TONS CO2e)', color='Project Type Category')\n",
    "fig.show()"
   ]
  },
  {
   "cell_type": "code",
   "execution_count": 257,
   "id": "8cef5627",
   "metadata": {},
   "outputs": [
    {
     "data": {
      "text/plain": [
       "<seaborn.axisgrid.FacetGrid at 0x7fc1154eb0a0>"
      ]
     },
     "execution_count": 257,
     "metadata": {},
     "output_type": "execute_result"
    },
    {
     "data": {
      "image/png": "[encoded data removed]",
      "text/plain": [
       "<Figure size 666.986x500 with 1 Axes>"
      ]
     },
     "metadata": {},
     "output_type": "display_data"
    }
   ],
   "source": [
    "sns.relplot(x = 'GHG QUANTITY (METRIC TONS CO2e)', y = 'Waste in Place (tons)', hue='Current Landfill Status',data = Top10)"
   ]
  },
  {
   "cell_type": "code",
   "execution_count": 258,
   "id": "cf2d60e4",
   "metadata": {},
   "outputs": [
    {
     "name": "stdout",
     "output_type": "stream",
     "text": [
      "<class 'pandas.core.frame.DataFrame'>\n",
      "Int64Index: 10 entries, 69 to 118\n",
      "Data columns (total 5 columns):\n",
      " #   Column             Non-Null Count  Dtype  \n",
      "---  ------             --------------  -----  \n",
      " 0   Methane_Intensity  10 non-null     float64\n",
      " 1   Landfill Name      10 non-null     object \n",
      " 2   City               10 non-null     object \n",
      " 3   Latitude           10 non-null     float64\n",
      " 4   Longitude          10 non-null     float64\n",
      "dtypes: float64(3), object(2)\n",
      "memory usage: 480.0+ bytes\n"
     ]
    }
   ],
   "source": [
    "# Keep only relevant columns\n",
    "df = Top10.loc[:, (\"Methane_Intensity\", \"Landfill Name\", \"City\", \"Latitude\", \"Longitude\")]\n",
    "df.info()"
   ]
  },
  {
   "cell_type": "code",
   "execution_count": 259,
   "id": "a721f675",
   "metadata": {},
   "outputs": [
    {
     "data": {
      "text/html": [
       "<div>\n",
       "<style scoped>\n",
       "    .dataframe tbody tr th:only-of-type {\n",
       "        vertical-align: middle;\n",
       "    }\n",
       "\n",
       "    .dataframe tbody tr th {\n",
       "        vertical-align: top;\n",
       "    }\n",
       "\n",
       "    .dataframe thead th {\n",
       "        text-align: right;\n",
       "    }\n",
       "</style>\n",
       "<table border=\"1\" class=\"dataframe\">\n",
       "  <thead>\n",
       "    <tr style=\"text-align: right;\">\n",
       "      <th></th>\n",
       "      <th>Methane_Intensity</th>\n",
       "      <th>Landfill Name</th>\n",
       "      <th>City</th>\n",
       "      <th>Latitude</th>\n",
       "      <th>Longitude</th>\n",
       "      <th>geometry</th>\n",
       "    </tr>\n",
       "  </thead>\n",
       "  <tbody>\n",
       "    <tr>\n",
       "      <th>69</th>\n",
       "      <td>0.017429</td>\n",
       "      <td>Clover Flat Landfill</td>\n",
       "      <td>Calistoga</td>\n",
       "      <td>38.58480</td>\n",
       "      <td>-122.53400</td>\n",
       "      <td>POINT (-122.53400 38.58480)</td>\n",
       "    </tr>\n",
       "    <tr>\n",
       "      <th>91</th>\n",
       "      <td>0.011566</td>\n",
       "      <td>Johnson Canyon SLF</td>\n",
       "      <td>Gonzales</td>\n",
       "      <td>36.53167</td>\n",
       "      <td>-121.40667</td>\n",
       "      <td>POINT (-121.40667 36.53167)</td>\n",
       "    </tr>\n",
       "    <tr>\n",
       "      <th>111</th>\n",
       "      <td>0.010182</td>\n",
       "      <td>Monterey Peninsula SLF</td>\n",
       "      <td>Marina</td>\n",
       "      <td>36.71333</td>\n",
       "      <td>-121.76667</td>\n",
       "      <td>POINT (-121.76667 36.71333)</td>\n",
       "    </tr>\n",
       "    <tr>\n",
       "      <th>116</th>\n",
       "      <td>0.010182</td>\n",
       "      <td>Monterey Peninsula SLF</td>\n",
       "      <td>Marina</td>\n",
       "      <td>36.71333</td>\n",
       "      <td>-121.76667</td>\n",
       "      <td>POINT (-121.76667 36.71333)</td>\n",
       "    </tr>\n",
       "    <tr>\n",
       "      <th>113</th>\n",
       "      <td>0.010182</td>\n",
       "      <td>Monterey Peninsula SLF</td>\n",
       "      <td>Marina</td>\n",
       "      <td>36.71333</td>\n",
       "      <td>-121.76667</td>\n",
       "      <td>POINT (-121.76667 36.71333)</td>\n",
       "    </tr>\n",
       "  </tbody>\n",
       "</table>\n",
       "</div>"
      ],
      "text/plain": [
       "     Methane_Intensity           Landfill Name       City  Latitude  \\\n",
       "69            0.017429    Clover Flat Landfill  Calistoga  38.58480   \n",
       "91            0.011566      Johnson Canyon SLF   Gonzales  36.53167   \n",
       "111           0.010182  Monterey Peninsula SLF     Marina  36.71333   \n",
       "116           0.010182  Monterey Peninsula SLF     Marina  36.71333   \n",
       "113           0.010182  Monterey Peninsula SLF     Marina  36.71333   \n",
       "\n",
       "     Longitude                     geometry  \n",
       "69  -122.53400  POINT (-122.53400 38.58480)  \n",
       "91  -121.40667  POINT (-121.40667 36.53167)  \n",
       "111 -121.76667  POINT (-121.76667 36.71333)  \n",
       "116 -121.76667  POINT (-121.76667 36.71333)  \n",
       "113 -121.76667  POINT (-121.76667 36.71333)  "
      ]
     },
     "execution_count": 259,
     "metadata": {},
     "output_type": "execute_result"
    }
   ],
   "source": [
    "# Create point geometries\n",
    "import geopandas\n",
    "import folium\n",
    "\n",
    "geometry = geopandas.points_from_xy(df.Longitude, df.Latitude)\n",
    "geo_df = geopandas.GeoDataFrame(\n",
    "    df[[\"Methane_Intensity\", \"Landfill Name\", \"City\", \"Latitude\", \"Longitude\"]], geometry=geometry\n",
    ")\n",
    "\n",
    "geo_df.head()"
   ]
  },
  {
   "cell_type": "code",
   "execution_count": 260,
   "id": "3aee27cb",
   "metadata": {},
   "outputs": [
    {
     "data": {
      "text/plain": [
       "[[38.5848, -122.534, 0.017428716577011314],\n",
       " [36.53167, -121.40667, 0.011565968592421354],\n",
       " [36.71333, -121.76667, 0.010182086552332988],\n",
       " [36.71333, -121.76667, 0.010182086552332988],\n",
       " [36.71333, -121.76667, 0.010182086552332988]]"
      ]
     },
     "execution_count": 260,
     "metadata": {},
     "output_type": "execute_result"
    }
   ],
   "source": [
    "lats_longs_weight = list(map(list, zip(geo_df[\"Latitude\"],\n",
    "                          geo_df[\"Longitude\"],\n",
    "                          geo_df[\"Methane_Intensity\"]\n",
    "                         )\n",
    "               )\n",
    "           )\n",
    "lats_longs_weight[:5]"
   ]
  },
  {
   "cell_type": "code",
   "execution_count": 261,
   "id": "fa3d3f84",
   "metadata": {},
   "outputs": [
    {
     "data": {
      "text/html": [
       "<div style=\"width:100%;\"><div style=\"position:relative;width:100%;height:0;padding-bottom:60%;\"><span style=\"color:#565656\">Make this Notebook Trusted to load map: File -> Trust Notebook</span><iframe srcdoc=\"&lt;!DOCTYPE html&gt;\n",
       "&lt;html&gt;\n",
       "&lt;head&gt;\n",
       "    \n",
       "    &lt;meta http-equiv=&quot;content-type&quot; content=&quot;text/html; charset=UTF-8&quot; /&gt;\n",
       "    \n",
       "        &lt;script&gt;\n",
       "            L_NO_TOUCH = false;\n",
       "            L_DISABLE_3D = false;\n",
       "        &lt;/script&gt;\n",
       "    \n",
       "    &lt;style&gt;html, body {width: 100%;height: 100%;margin: 0;padding: 0;}&lt;/style&gt;\n",
       "    &lt;style&gt;#map {position:absolute;top:0;bottom:0;right:0;left:0;}&lt;/style&gt;\n",
       "    &lt;script src=&quot;https://cdn.jsdelivr.net/npm/leaflet@1.9.3/dist/leaflet.js&quot;&gt;&lt;/script&gt;\n",
       "    &lt;script src=&quot;https://code.jquery.com/jquery-1.12.4.min.js&quot;&gt;&lt;/script&gt;\n",
       "    &lt;script src=&quot;https://cdn.jsdelivr.net/npm/bootstrap@5.2.2/dist/js/bootstrap.bundle.min.js&quot;&gt;&lt;/script&gt;\n",
       "    &lt;script src=&quot;https://cdnjs.cloudflare.com/ajax/libs/Leaflet.awesome-markers/2.0.2/leaflet.awesome-markers.js&quot;&gt;&lt;/script&gt;\n",
       "    &lt;link rel=&quot;stylesheet&quot; href=&quot;https://cdn.jsdelivr.net/npm/leaflet@1.9.3/dist/leaflet.css&quot;/&gt;\n",
       "    &lt;link rel=&quot;stylesheet&quot; href=&quot;https://cdn.jsdelivr.net/npm/bootstrap@5.2.2/dist/css/bootstrap.min.css&quot;/&gt;\n",
       "    &lt;link rel=&quot;stylesheet&quot; href=&quot;https://netdna.bootstrapcdn.com/bootstrap/3.0.0/css/bootstrap.min.css&quot;/&gt;\n",
       "    &lt;link rel=&quot;stylesheet&quot; href=&quot;https://cdn.jsdelivr.net/npm/@fortawesome/fontawesome-free@6.2.0/css/all.min.css&quot;/&gt;\n",
       "    &lt;link rel=&quot;stylesheet&quot; href=&quot;https://cdnjs.cloudflare.com/ajax/libs/Leaflet.awesome-markers/2.0.2/leaflet.awesome-markers.css&quot;/&gt;\n",
       "    &lt;link rel=&quot;stylesheet&quot; href=&quot;https://cdn.jsdelivr.net/gh/python-visualization/folium/folium/templates/leaflet.awesome.rotate.min.css&quot;/&gt;\n",
       "    \n",
       "            &lt;meta name=&quot;viewport&quot; content=&quot;width=device-width,\n",
       "                initial-scale=1.0, maximum-scale=1.0, user-scalable=no&quot; /&gt;\n",
       "            &lt;style&gt;\n",
       "                #map_52c4161875b3e664def09c4a608be575 {\n",
       "                    position: relative;\n",
       "                    width: 100.0%;\n",
       "                    height: 100.0%;\n",
       "                    left: 0.0%;\n",
       "                    top: 0.0%;\n",
       "                }\n",
       "                .leaflet-container { font-size: 1rem; }\n",
       "            &lt;/style&gt;\n",
       "        \n",
       "    &lt;script src=&quot;https://cdn.jsdelivr.net/gh/python-visualization/folium@main/folium/templates/leaflet_heat.min.js&quot;&gt;&lt;/script&gt;\n",
       "&lt;/head&gt;\n",
       "&lt;body&gt;\n",
       "    \n",
       "    \n",
       "            &lt;div class=&quot;folium-map&quot; id=&quot;map_52c4161875b3e664def09c4a608be575&quot; &gt;&lt;/div&gt;\n",
       "        \n",
       "&lt;/body&gt;\n",
       "&lt;script&gt;\n",
       "    \n",
       "    \n",
       "            var map_52c4161875b3e664def09c4a608be575 = L.map(\n",
       "                &quot;map_52c4161875b3e664def09c4a608be575&quot;,\n",
       "                {\n",
       "                    center: [38.27312, -98.5821872],\n",
       "                    crs: L.CRS.EPSG3857,\n",
       "                    zoom: 4,\n",
       "                    zoomControl: true,\n",
       "                    preferCanvas: false,\n",
       "                }\n",
       "            );\n",
       "\n",
       "            \n",
       "\n",
       "        \n",
       "    \n",
       "            var tile_layer_6f554d60f8079b905da3e615c9f6d794 = L.tileLayer(\n",
       "                &quot;https://{s}.tile.openstreetmap.org/{z}/{x}/{y}.png&quot;,\n",
       "                {&quot;attribution&quot;: &quot;Data by \\u0026copy; \\u003ca target=\\&quot;_blank\\&quot; href=\\&quot;http://openstreetmap.org\\&quot;\\u003eOpenStreetMap\\u003c/a\\u003e, under \\u003ca target=\\&quot;_blank\\&quot; href=\\&quot;http://www.openstreetmap.org/copyright\\&quot;\\u003eODbL\\u003c/a\\u003e.&quot;, &quot;detectRetina&quot;: false, &quot;maxNativeZoom&quot;: 18, &quot;maxZoom&quot;: 18, &quot;minZoom&quot;: 0, &quot;noWrap&quot;: false, &quot;opacity&quot;: 1, &quot;subdomains&quot;: &quot;abc&quot;, &quot;tms&quot;: false}\n",
       "            ).addTo(map_52c4161875b3e664def09c4a608be575);\n",
       "        \n",
       "    \n",
       "            var heat_map_c25f82b6368ac93327adaf12a1ed781f = L.heatLayer(\n",
       "                [[38.5848, -122.534, 0.017428716577011314], [36.53167, -121.40667, 0.011565968592421354], [36.71333, -121.76667, 0.010182086552332988], [36.71333, -121.76667, 0.010182086552332988], [36.71333, -121.76667, 0.010182086552332988], [36.71333, -121.76667, 0.010182086552332988], [36.71333, -121.76667, 0.010182086552332988], [36.71333, -121.76667, 0.010182086552332988], [36.71333, -121.76667, 0.010182086552332988], [36.71333, -121.76667, 0.010182086552332988]],\n",
       "                {&quot;blur&quot;: 15, &quot;maxZoom&quot;: 18, &quot;minOpacity&quot;: 0.5, &quot;radius&quot;: 25}\n",
       "            ).addTo(map_52c4161875b3e664def09c4a608be575);\n",
       "        \n",
       "&lt;/script&gt;\n",
       "&lt;/html&gt;\" style=\"position:absolute;width:100%;height:100%;left:0;top:0;border:none !important;\" allowfullscreen webkitallowfullscreen mozallowfullscreen></iframe></div></div>"
      ],
      "text/plain": [
       "<folium.folium.Map at 0x7fc115875f70>"
      ]
     },
     "execution_count": 261,
     "metadata": {},
     "output_type": "execute_result"
    }
   ],
   "source": [
    "import folium\n",
    "\n",
    "from folium.plugins import HeatMap\n",
    "\n",
    "\n",
    "map_obj = folium.Map(location = [38.27312, -98.5821872], zoom_start = 4)\n",
    "\n",
    "HeatMap(lats_longs_weight).add_to(map_obj)\n",
    "\n",
    "map_obj"
   ]
  },
  {
   "cell_type": "code",
   "execution_count": 215,
   "id": "01c6985c",
   "metadata": {},
   "outputs": [
    {
     "data": {
      "text/html": [
       "<div style=\"width:100%;\"><div style=\"position:relative;width:100%;height:0;padding-bottom:60%;\"><span style=\"color:#565656\">Make this Notebook Trusted to load map: File -> Trust Notebook</span><iframe srcdoc=\"&lt;!DOCTYPE html&gt;\n",
       "&lt;html&gt;\n",
       "&lt;head&gt;\n",
       "    \n",
       "    &lt;meta http-equiv=&quot;content-type&quot; content=&quot;text/html; charset=UTF-8&quot; /&gt;\n",
       "    \n",
       "        &lt;script&gt;\n",
       "            L_NO_TOUCH = false;\n",
       "            L_DISABLE_3D = false;\n",
       "        &lt;/script&gt;\n",
       "    \n",
       "    &lt;style&gt;html, body {width: 100%;height: 100%;margin: 0;padding: 0;}&lt;/style&gt;\n",
       "    &lt;style&gt;#map {position:absolute;top:0;bottom:0;right:0;left:0;}&lt;/style&gt;\n",
       "    &lt;script src=&quot;https://cdn.jsdelivr.net/npm/leaflet@1.9.3/dist/leaflet.js&quot;&gt;&lt;/script&gt;\n",
       "    &lt;script src=&quot;https://code.jquery.com/jquery-1.12.4.min.js&quot;&gt;&lt;/script&gt;\n",
       "    &lt;script src=&quot;https://cdn.jsdelivr.net/npm/bootstrap@5.2.2/dist/js/bootstrap.bundle.min.js&quot;&gt;&lt;/script&gt;\n",
       "    &lt;script src=&quot;https://cdnjs.cloudflare.com/ajax/libs/Leaflet.awesome-markers/2.0.2/leaflet.awesome-markers.js&quot;&gt;&lt;/script&gt;\n",
       "    &lt;link rel=&quot;stylesheet&quot; href=&quot;https://cdn.jsdelivr.net/npm/leaflet@1.9.3/dist/leaflet.css&quot;/&gt;\n",
       "    &lt;link rel=&quot;stylesheet&quot; href=&quot;https://cdn.jsdelivr.net/npm/bootstrap@5.2.2/dist/css/bootstrap.min.css&quot;/&gt;\n",
       "    &lt;link rel=&quot;stylesheet&quot; href=&quot;https://netdna.bootstrapcdn.com/bootstrap/3.0.0/css/bootstrap.min.css&quot;/&gt;\n",
       "    &lt;link rel=&quot;stylesheet&quot; href=&quot;https://cdn.jsdelivr.net/npm/@fortawesome/fontawesome-free@6.2.0/css/all.min.css&quot;/&gt;\n",
       "    &lt;link rel=&quot;stylesheet&quot; href=&quot;https://cdnjs.cloudflare.com/ajax/libs/Leaflet.awesome-markers/2.0.2/leaflet.awesome-markers.css&quot;/&gt;\n",
       "    &lt;link rel=&quot;stylesheet&quot; href=&quot;https://cdn.jsdelivr.net/gh/python-visualization/folium/folium/templates/leaflet.awesome.rotate.min.css&quot;/&gt;\n",
       "    \n",
       "            &lt;meta name=&quot;viewport&quot; content=&quot;width=device-width,\n",
       "                initial-scale=1.0, maximum-scale=1.0, user-scalable=no&quot; /&gt;\n",
       "            &lt;style&gt;\n",
       "                #map_fbe124cd1aa8ec43a3975e321214dbae {\n",
       "                    position: relative;\n",
       "                    width: 100.0%;\n",
       "                    height: 100.0%;\n",
       "                    left: 0.0%;\n",
       "                    top: 0.0%;\n",
       "                }\n",
       "                .leaflet-container { font-size: 1rem; }\n",
       "            &lt;/style&gt;\n",
       "        \n",
       "    &lt;script src=&quot;https://cdnjs.cloudflare.com/ajax/libs/leaflet.markercluster/1.1.0/leaflet.markercluster.js&quot;&gt;&lt;/script&gt;\n",
       "    &lt;link rel=&quot;stylesheet&quot; href=&quot;https://cdnjs.cloudflare.com/ajax/libs/leaflet.markercluster/1.1.0/MarkerCluster.css&quot;/&gt;\n",
       "    &lt;link rel=&quot;stylesheet&quot; href=&quot;https://cdnjs.cloudflare.com/ajax/libs/leaflet.markercluster/1.1.0/MarkerCluster.Default.css&quot;/&gt;\n",
       "&lt;/head&gt;\n",
       "&lt;body&gt;\n",
       "    \n",
       "    \n",
       "            &lt;div class=&quot;folium-map&quot; id=&quot;map_fbe124cd1aa8ec43a3975e321214dbae&quot; &gt;&lt;/div&gt;\n",
       "        \n",
       "&lt;/body&gt;\n",
       "&lt;script&gt;\n",
       "    \n",
       "    \n",
       "            var map_fbe124cd1aa8ec43a3975e321214dbae = L.map(\n",
       "                &quot;map_fbe124cd1aa8ec43a3975e321214dbae&quot;,\n",
       "                {\n",
       "                    center: [42.0, 29.0],\n",
       "                    crs: L.CRS.EPSG3857,\n",
       "                    zoom: 5,\n",
       "                    zoomControl: true,\n",
       "                    preferCanvas: false,\n",
       "                }\n",
       "            );\n",
       "\n",
       "            \n",
       "\n",
       "        \n",
       "    \n",
       "            var tile_layer_ecdde2dce3f39ff66d37bcf17db1b723 = L.tileLayer(\n",
       "                &quot;https://{s}.tile.openstreetmap.org/{z}/{x}/{y}.png&quot;,\n",
       "                {&quot;attribution&quot;: &quot;Data by \\u0026copy; \\u003ca target=\\&quot;_blank\\&quot; href=\\&quot;http://openstreetmap.org\\&quot;\\u003eOpenStreetMap\\u003c/a\\u003e, under \\u003ca target=\\&quot;_blank\\&quot; href=\\&quot;http://www.openstreetmap.org/copyright\\&quot;\\u003eODbL\\u003c/a\\u003e.&quot;, &quot;detectRetina&quot;: false, &quot;maxNativeZoom&quot;: 18, &quot;maxZoom&quot;: 18, &quot;minZoom&quot;: 0, &quot;noWrap&quot;: false, &quot;opacity&quot;: 1, &quot;subdomains&quot;: &quot;abc&quot;, &quot;tms&quot;: false}\n",
       "            ).addTo(map_fbe124cd1aa8ec43a3975e321214dbae);\n",
       "        \n",
       "    \n",
       "            var marker_cluster_3b187258531ffde01764b0aac4661c30 = L.markerClusterGroup(\n",
       "                {}\n",
       "            );\n",
       "            map_fbe124cd1aa8ec43a3975e321214dbae.addLayer(marker_cluster_3b187258531ffde01764b0aac4661c30);\n",
       "        \n",
       "    \n",
       "            var marker_6c6dde2d46383761247f9686394bd9e8 = L.marker(\n",
       "                [38.5848, -122.534],\n",
       "                {}\n",
       "            ).addTo(marker_cluster_3b187258531ffde01764b0aac4661c30);\n",
       "        \n",
       "    \n",
       "        var popup_a1583ba2818480c154a41e8e097a7a93 = L.popup({&quot;maxWidth&quot;: &quot;100%&quot;});\n",
       "\n",
       "        \n",
       "            \n",
       "                var html_6edf183212b947ef720d9dd0ca4e8dbc = $(`&lt;div id=&quot;html_6edf183212b947ef720d9dd0ca4e8dbc&quot; style=&quot;width: 100.0%; height: 100.0%;&quot;&gt;0.017428716577011314&lt;/div&gt;`)[0];\n",
       "                popup_a1583ba2818480c154a41e8e097a7a93.setContent(html_6edf183212b947ef720d9dd0ca4e8dbc);\n",
       "            \n",
       "        \n",
       "\n",
       "        marker_6c6dde2d46383761247f9686394bd9e8.bindPopup(popup_a1583ba2818480c154a41e8e097a7a93)\n",
       "        ;\n",
       "\n",
       "        \n",
       "    \n",
       "    \n",
       "            var marker_4914566922af000a48a58cff3e215b80 = L.marker(\n",
       "                [36.53167, -121.40667],\n",
       "                {}\n",
       "            ).addTo(marker_cluster_3b187258531ffde01764b0aac4661c30);\n",
       "        \n",
       "    \n",
       "        var popup_4f9d756807e03a6a297c06435537c024 = L.popup({&quot;maxWidth&quot;: &quot;100%&quot;});\n",
       "\n",
       "        \n",
       "            \n",
       "                var html_6d76a7870a4d055aa3eeb60fcca1b715 = $(`&lt;div id=&quot;html_6d76a7870a4d055aa3eeb60fcca1b715&quot; style=&quot;width: 100.0%; height: 100.0%;&quot;&gt;0.011565968592421354&lt;/div&gt;`)[0];\n",
       "                popup_4f9d756807e03a6a297c06435537c024.setContent(html_6d76a7870a4d055aa3eeb60fcca1b715);\n",
       "            \n",
       "        \n",
       "\n",
       "        marker_4914566922af000a48a58cff3e215b80.bindPopup(popup_4f9d756807e03a6a297c06435537c024)\n",
       "        ;\n",
       "\n",
       "        \n",
       "    \n",
       "    \n",
       "            var marker_261d66d39d7aaa9d2ffa2ea2452dee9f = L.marker(\n",
       "                [36.71333, -121.76667],\n",
       "                {}\n",
       "            ).addTo(marker_cluster_3b187258531ffde01764b0aac4661c30);\n",
       "        \n",
       "    \n",
       "        var popup_e77bc1c3c179f264f8347fa3b6af4f69 = L.popup({&quot;maxWidth&quot;: &quot;100%&quot;});\n",
       "\n",
       "        \n",
       "            \n",
       "                var html_28d47d2c89a22cfd25fd316110548508 = $(`&lt;div id=&quot;html_28d47d2c89a22cfd25fd316110548508&quot; style=&quot;width: 100.0%; height: 100.0%;&quot;&gt;0.010182086552332988&lt;/div&gt;`)[0];\n",
       "                popup_e77bc1c3c179f264f8347fa3b6af4f69.setContent(html_28d47d2c89a22cfd25fd316110548508);\n",
       "            \n",
       "        \n",
       "\n",
       "        marker_261d66d39d7aaa9d2ffa2ea2452dee9f.bindPopup(popup_e77bc1c3c179f264f8347fa3b6af4f69)\n",
       "        ;\n",
       "\n",
       "        \n",
       "    \n",
       "    \n",
       "            var marker_00e2b36435bd2f1b019e245deaebddc6 = L.marker(\n",
       "                [36.71333, -121.76667],\n",
       "                {}\n",
       "            ).addTo(marker_cluster_3b187258531ffde01764b0aac4661c30);\n",
       "        \n",
       "    \n",
       "        var popup_588bc4841cf3f8363d526ea559cbbe83 = L.popup({&quot;maxWidth&quot;: &quot;100%&quot;});\n",
       "\n",
       "        \n",
       "            \n",
       "                var html_fccc29adcedabaa1eacfa04004e4e677 = $(`&lt;div id=&quot;html_fccc29adcedabaa1eacfa04004e4e677&quot; style=&quot;width: 100.0%; height: 100.0%;&quot;&gt;0.010182086552332988&lt;/div&gt;`)[0];\n",
       "                popup_588bc4841cf3f8363d526ea559cbbe83.setContent(html_fccc29adcedabaa1eacfa04004e4e677);\n",
       "            \n",
       "        \n",
       "\n",
       "        marker_00e2b36435bd2f1b019e245deaebddc6.bindPopup(popup_588bc4841cf3f8363d526ea559cbbe83)\n",
       "        ;\n",
       "\n",
       "        \n",
       "    \n",
       "    \n",
       "            var marker_cf7743a35a28a6480dc82a68abfd54fe = L.marker(\n",
       "                [36.71333, -121.76667],\n",
       "                {}\n",
       "            ).addTo(marker_cluster_3b187258531ffde01764b0aac4661c30);\n",
       "        \n",
       "    \n",
       "        var popup_d6ea7bdc33622076604fb10e9c338d15 = L.popup({&quot;maxWidth&quot;: &quot;100%&quot;});\n",
       "\n",
       "        \n",
       "            \n",
       "                var html_491d54906a232817af4530079033133c = $(`&lt;div id=&quot;html_491d54906a232817af4530079033133c&quot; style=&quot;width: 100.0%; height: 100.0%;&quot;&gt;0.010182086552332988&lt;/div&gt;`)[0];\n",
       "                popup_d6ea7bdc33622076604fb10e9c338d15.setContent(html_491d54906a232817af4530079033133c);\n",
       "            \n",
       "        \n",
       "\n",
       "        marker_cf7743a35a28a6480dc82a68abfd54fe.bindPopup(popup_d6ea7bdc33622076604fb10e9c338d15)\n",
       "        ;\n",
       "\n",
       "        \n",
       "    \n",
       "    \n",
       "            var marker_259ae34998a3419ca17b8b02faf4a613 = L.marker(\n",
       "                [36.71333, -121.76667],\n",
       "                {}\n",
       "            ).addTo(marker_cluster_3b187258531ffde01764b0aac4661c30);\n",
       "        \n",
       "    \n",
       "        var popup_226bed01dd2533ab5ee211f0aa62b2bb = L.popup({&quot;maxWidth&quot;: &quot;100%&quot;});\n",
       "\n",
       "        \n",
       "            \n",
       "                var html_6aa8ca258780974dba5bdbfe3eef6241 = $(`&lt;div id=&quot;html_6aa8ca258780974dba5bdbfe3eef6241&quot; style=&quot;width: 100.0%; height: 100.0%;&quot;&gt;0.010182086552332988&lt;/div&gt;`)[0];\n",
       "                popup_226bed01dd2533ab5ee211f0aa62b2bb.setContent(html_6aa8ca258780974dba5bdbfe3eef6241);\n",
       "            \n",
       "        \n",
       "\n",
       "        marker_259ae34998a3419ca17b8b02faf4a613.bindPopup(popup_226bed01dd2533ab5ee211f0aa62b2bb)\n",
       "        ;\n",
       "\n",
       "        \n",
       "    \n",
       "    \n",
       "            var marker_c25fd5818f3c86209ba2905e16eea677 = L.marker(\n",
       "                [36.71333, -121.76667],\n",
       "                {}\n",
       "            ).addTo(marker_cluster_3b187258531ffde01764b0aac4661c30);\n",
       "        \n",
       "    \n",
       "        var popup_98597e3d0dcd7985754a67ae835bff05 = L.popup({&quot;maxWidth&quot;: &quot;100%&quot;});\n",
       "\n",
       "        \n",
       "            \n",
       "                var html_7d89daf1dd95fc5fd87e6a7f4c62ceb8 = $(`&lt;div id=&quot;html_7d89daf1dd95fc5fd87e6a7f4c62ceb8&quot; style=&quot;width: 100.0%; height: 100.0%;&quot;&gt;0.010182086552332988&lt;/div&gt;`)[0];\n",
       "                popup_98597e3d0dcd7985754a67ae835bff05.setContent(html_7d89daf1dd95fc5fd87e6a7f4c62ceb8);\n",
       "            \n",
       "        \n",
       "\n",
       "        marker_c25fd5818f3c86209ba2905e16eea677.bindPopup(popup_98597e3d0dcd7985754a67ae835bff05)\n",
       "        ;\n",
       "\n",
       "        \n",
       "    \n",
       "    \n",
       "            var marker_82ef62001a32de7a38b9dae29ccf9ec4 = L.marker(\n",
       "                [36.71333, -121.76667],\n",
       "                {}\n",
       "            ).addTo(marker_cluster_3b187258531ffde01764b0aac4661c30);\n",
       "        \n",
       "    \n",
       "        var popup_562252c3f2e63459bcb63dca1dbc9013 = L.popup({&quot;maxWidth&quot;: &quot;100%&quot;});\n",
       "\n",
       "        \n",
       "            \n",
       "                var html_db6b22b764c3a42a28caffe4652f8af0 = $(`&lt;div id=&quot;html_db6b22b764c3a42a28caffe4652f8af0&quot; style=&quot;width: 100.0%; height: 100.0%;&quot;&gt;0.010182086552332988&lt;/div&gt;`)[0];\n",
       "                popup_562252c3f2e63459bcb63dca1dbc9013.setContent(html_db6b22b764c3a42a28caffe4652f8af0);\n",
       "            \n",
       "        \n",
       "\n",
       "        marker_82ef62001a32de7a38b9dae29ccf9ec4.bindPopup(popup_562252c3f2e63459bcb63dca1dbc9013)\n",
       "        ;\n",
       "\n",
       "        \n",
       "    \n",
       "    \n",
       "            var marker_4aa442f4e43cce6346ca346e263eb69e = L.marker(\n",
       "                [36.71333, -121.76667],\n",
       "                {}\n",
       "            ).addTo(marker_cluster_3b187258531ffde01764b0aac4661c30);\n",
       "        \n",
       "    \n",
       "        var popup_44c23f8e619c6557908dff4b4528d58c = L.popup({&quot;maxWidth&quot;: &quot;100%&quot;});\n",
       "\n",
       "        \n",
       "            \n",
       "                var html_0dac99871b7c076f42e40789e5692299 = $(`&lt;div id=&quot;html_0dac99871b7c076f42e40789e5692299&quot; style=&quot;width: 100.0%; height: 100.0%;&quot;&gt;0.010182086552332988&lt;/div&gt;`)[0];\n",
       "                popup_44c23f8e619c6557908dff4b4528d58c.setContent(html_0dac99871b7c076f42e40789e5692299);\n",
       "            \n",
       "        \n",
       "\n",
       "        marker_4aa442f4e43cce6346ca346e263eb69e.bindPopup(popup_44c23f8e619c6557908dff4b4528d58c)\n",
       "        ;\n",
       "\n",
       "        \n",
       "    \n",
       "    \n",
       "            var marker_d95f7c2412df7a10f49765423958d5c2 = L.marker(\n",
       "                [36.71333, -121.76667],\n",
       "                {}\n",
       "            ).addTo(marker_cluster_3b187258531ffde01764b0aac4661c30);\n",
       "        \n",
       "    \n",
       "        var popup_8e8bd2ae67533dfc5eff3ee466293a82 = L.popup({&quot;maxWidth&quot;: &quot;100%&quot;});\n",
       "\n",
       "        \n",
       "            \n",
       "                var html_6f3ac7a0366c34c3bc5d332eb617137f = $(`&lt;div id=&quot;html_6f3ac7a0366c34c3bc5d332eb617137f&quot; style=&quot;width: 100.0%; height: 100.0%;&quot;&gt;0.010182086552332988&lt;/div&gt;`)[0];\n",
       "                popup_8e8bd2ae67533dfc5eff3ee466293a82.setContent(html_6f3ac7a0366c34c3bc5d332eb617137f);\n",
       "            \n",
       "        \n",
       "\n",
       "        marker_d95f7c2412df7a10f49765423958d5c2.bindPopup(popup_8e8bd2ae67533dfc5eff3ee466293a82)\n",
       "        ;\n",
       "\n",
       "        \n",
       "    \n",
       "&lt;/script&gt;\n",
       "&lt;/html&gt;\" style=\"position:absolute;width:100%;height:100%;left:0;top:0;border:none !important;\" allowfullscreen webkitallowfullscreen mozallowfullscreen></iframe></div></div>"
      ],
      "text/plain": [
       "<folium.folium.Map at 0x7fc11469b850>"
      ]
     },
     "execution_count": 215,
     "metadata": {},
     "output_type": "execute_result"
    }
   ],
   "source": [
    "from folium import plugins\n",
    "m = folium.Map([42 ,29], zoom_start=5,width=\"%100\",height=\"%100\")\n",
    "locations = list(zip(geo_df[\"Latitude\"], geo_df.Longitude))\n",
    "cluster = plugins.MarkerCluster(locations=locations,                     \n",
    "               popups=geo_df[\"Methane_Intensity\"].tolist())  \n",
    "m.add_child(cluster)\n",
    "m"
   ]
  },
  {
   "cell_type": "code",
   "execution_count": null,
   "id": "8c8e41be",
   "metadata": {},
   "outputs": [],
   "source": [
    "# Create a geometry list from the GeoDataFrame\n",
    "geo_df_list = [[point.xy[1][0], point.xy[0][0]] for point in geo_df.geometry]\n",
    "\n",
    "# Iterate through list and add a marker for each volcano, color-coded by its type.\n",
    "i = 0\n",
    "for coordinates in geo_df_list:\n",
    "    # assign a color marker for the type of volcano, Strato being the most common\n",
    "    if geo_df.['Current Landfill Status'][i] == \"Stratovolcano\":\n",
    "        type_color = \"green\"\n",
    "    elif geo_df.['Current Landfill Status'][i] == \"Complex volcano\":\n",
    "        type_color = \"blue\"\n",
    "    elif geo_df.Type[i] == \"Shield volcano\":\n",
    "        type_color = \"orange\"\n",
    "    elif geo_df.Type[i] == \"Lava dome\":\n",
    "        type_color = \"pink\"\n",
    "    else:\n",
    "        type_color = \"purple\"\n",
    "\n",
    "    # Place the markers with the popup labels and data\n",
    "    map.add_child(\n",
    "        folium.Marker(\n",
    "            location=coordinates,\n",
    "            popup=\n",
    "                \"Year: \" + str(geo_df.Year[i]) + \"<br>\"\n",
    "                + \"Name: \" + str(geo_df.Name[i]) + \"<br>\"\n",
    "                + \"Country: \" + str(geo_df.Country[i]) + \"<br>\"\n",
    "                + \"Type: \" + str(geo_df.Type[i]) + \"<br>\"\n",
    "                + \"Coordinates: \" + str(geo_df_list[i]),\n",
    "            icon=folium.Icon(color=\"%s\" % type_color),\n",
    "        )\n",
    "    )\n",
    "    i = i + 1"
   ]
  },
  {
   "cell_type": "code",
   "execution_count": null,
   "id": "38c77c45",
   "metadata": {},
   "outputs": [],
   "source": [
    "import folium\n",
    "\n",
    "m = world.explore(\n",
    "     column=\"pop_est\",  # make choropleth based on \"BoroName\" column\n",
    "     scheme=\"naturalbreaks\",  # use mapclassify's natural breaks scheme\n",
    "     legend=True, # show legend\n",
    "     k=10, # use 10 bins\n",
    "     legend_kwds=dict(colorbar=False), # do not use colorbar\n",
    "     name=\"countries\" # name of the layer in the map\n",
    ")\n",
    "\n",
    "cities.explore(\n",
    "     m=m, # pass the map object\n",
    "     color=\"red\", # use red color on all points\n",
    "     marker_kwds=dict(radius=10, fill=True), # make marker radius 10px with fill\n",
    "     tooltip=\"name\", # show \"name\" column in the tooltip\n",
    "     tooltip_kwds=dict(labels=False), # do not show column label in the tooltip\n",
    "     name=\"cities\" # name of the layer in the map\n",
    ")\n",
    "\n",
    "folium.TileLayer('Stamen Toner', control=True).add_to(m)  # use folium to add alternative tiles\n",
    "folium.LayerControl().add_to(m)  # use folium to add layer control\n",
    "\n",
    "m  # show map"
   ]
  },
  {
   "cell_type": "code",
   "execution_count": null,
   "id": "9e44f2b0",
   "metadata": {},
   "outputs": [],
   "source": [
    "nybb.explore(\n",
    "     column=\"BoroName\", # make choropleth based on \"BoroName\" column\n",
    "     tooltip=\"BoroName\", # show \"BoroName\" value in tooltip (on hover)\n",
    "     popup=True, # show all values in popup (on click)\n",
    "     tiles=\"CartoDB positron\", # use \"CartoDB positron\" tiles\n",
    "     cmap=\"Set1\", # use \"Set1\" matplotlib colormap\n",
    "     style_kwds=dict(color=\"black\") # use black outline\n",
    "    )"
   ]
  },
  {
   "cell_type": "code",
   "execution_count": null,
   "id": "fddb3c37",
   "metadata": {},
   "outputs": [],
   "source": []
  }
 ],
 "metadata": {
  "kernelspec": {
   "display_name": "Python 3",
   "language": "python",
   "name": "python3"
  },
  "language_info": {
   "codemirror_mode": {
    "name": "ipython",
    "version": 3
   },
   "file_extension": ".py",
   "mimetype": "text/x-python",
   "name": "python",
   "nbconvert_exporter": "python",
   "pygments_lexer": "ipython3",
   "version": "3.9.4"
  }
 },
 "nbformat": 4,
 "nbformat_minor": 5
}
