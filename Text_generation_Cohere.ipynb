{
  "nbformat": 4,
  "nbformat_minor": 0,
  "metadata": {
    "colab": {
      "provenance": [],
      "authorship_tag": "ABX9TyO4eOwXZQOUGjL/TwZ9OYuH",
      "include_colab_link": true
    },
    "kernelspec": {
      "name": "python3",
      "display_name": "Python 3"
    },
    "language_info": {
      "name": "python"
    }
  },
  "cells": [
    {
      "cell_type": "markdown",
      "metadata": {
        "id": "view-in-github",
        "colab_type": "text"
      },
      "source": [
        "<a href=\"https://colab.research.google.com/github/Balogunhabeeb14/Personal-Projects/blob/main/Text_generation_Cohere.ipynb\" target=\"_parent\"><img src=\"https://colab.research.google.com/assets/colab-badge.svg\" alt=\"Open In Colab\"/></a>"
      ]
    },
    {
      "cell_type": "code",
      "execution_count": null,
      "metadata": {
        "id": "zOEEBoFFy5vq"
      },
      "outputs": [],
      "source": [
        "# pip install cohere\n",
        "\n",
        "import cohere as co\n",
        "import json\n",
        "\n",
        "co = co.ClientV2(api_key=\"Enter your API Key\",log_warning_experimental_features=False) # Get your free API key: https://dashboard.cohere.com/api-keys"
      ]
    },
    {
      "cell_type": "code",
      "source": [
        "# Add the user message\n",
        "message = \"I'm joining a new startup called QR2Tech Limited today. Could you help me write a short introduction message to my teammates.\"\n",
        "\n",
        "# Generate the response\n",
        "response = co.chat(model=\"command-r-plus-08-2024\",\n",
        "                   messages=[{\"role\": \"user\", \"content\": message}])\n",
        "                    #messages=[cohere.UserMessage(content=message)])\n",
        "\n",
        "print(response.message.content[0].text)"
      ],
      "metadata": {
        "colab": {
          "base_uri": "https://localhost:8080/"
        },
        "id": "SY6nDxnnzTin",
        "outputId": "41794aaf-05d5-48f1-8d4a-791078bb8858"
      },
      "execution_count": null,
      "outputs": [
        {
          "output_type": "stream",
          "name": "stdout",
          "text": [
            "Here's a draft of an introduction message for your new colleagues at QR2Tech Limited:\n",
            "\n",
            "\"Hi everyone! I'm thrilled to introduce myself as the newest member of the QR2Tech Limited family! My name is [Your Name], and I am excited to be a part of this innovative startup. As I embark on this new journey, I wanted to take a moment to connect with all of you.\n",
            "\n",
            "A little about myself: I bring [your relevant experience or skills] to the table, and I am passionate about [mention a relevant technology or industry trend]. I am eager to contribute my knowledge and learn from this talented team. My goal is to help drive [mention a potential project or company goal] and be an integral part of QR2Tech's success.\n",
            "\n",
            "I look forward to collaborating with each of you and getting to know your areas of expertise. Let's work together, share ideas, and create something extraordinary. Feel free to reach out if you'd like to chat further or grab a virtual coffee!\n",
            "\n",
            "Cheers to the power of teamwork and the exciting road ahead!\"\n",
            "\n",
            "Feel free to personalize and adjust the message to align with your style and the company's culture. A warm introduction can set the tone for building great relationships with your new teammates!\n"
          ]
        }
      ]
    },
    {
      "cell_type": "code",
      "source": [
        "# Add the user message\n",
        "message = \"I'm joining a new startup called QR2tech today. Could you help me write a one-sentence introduction message to my teammates.\"\n",
        "\n",
        "# Generate the response\n",
        "response = co.chat(model=\"command-r-plus-08-2024\",\n",
        "                   messages=[{\"role\": \"user\", \"content\": message}])\n",
        "                #    messages=[cohere.UserMessage(content=message)])\n",
        "\n",
        "print(response.message.content[0].text)\n"
      ],
      "metadata": {
        "colab": {
          "base_uri": "https://localhost:8080/"
        },
        "id": "7mOU7c540Aoq",
        "outputId": "241274e0-302a-4558-a22d-224f878e0e79"
      },
      "execution_count": null,
      "outputs": [
        {
          "output_type": "stream",
          "name": "stdout",
          "text": [
            "\"Excited to join the team at QR2tech, I'm [Your Name], a [Your Role/Position], passionate about [Your Area of Expertise] and looking forward to contributing my skills to the company's success.\"\n"
          ]
        }
      ]
    },
    {
      "cell_type": "code",
      "source": [
        "# Add the user message\n",
        "user_input = \"Why can't I access the server? Is it a permissions issue?\"\n",
        "\n",
        "# Create a prompt containing example outputs\n",
        "message=f\"\"\"Write a ticket title for the following user request:\n",
        "\n",
        "User request: Where are the usual storage places for project files?\n",
        "Ticket title: Project File Storage Location\n",
        "\n",
        "User request: Emails won't send. What could be the issue?\n",
        "Ticket title: Email Sending Issues\n",
        "\n",
        "User request: How can I set up a connection to the office printer?\n",
        "Ticket title: Printer Connection Setup\n",
        "\n",
        "User request: {user_input}\n",
        "Ticket title:\"\"\"\n",
        "\n",
        "# Generate the response\n",
        "response = co.chat(model=\"command-r-plus-08-2024\",\n",
        "                   messages=[{\"role\": \"user\", \"content\": message}])\n",
        "\n",
        "print(response.message.content[0].text)\n"
      ],
      "metadata": {
        "colab": {
          "base_uri": "https://localhost:8080/"
        },
        "id": "4uVQ22oy0csU",
        "outputId": "65b6ca9c-295e-448a-8ab9-bf84bec96499"
      },
      "execution_count": null,
      "outputs": [
        {
          "output_type": "stream",
          "name": "stdout",
          "text": [
            "Server Access Denied: Potential Permissions Issue\n"
          ]
        }
      ]
    },
    {
      "cell_type": "code",
      "source": [
        "# Add the user message\n",
        "message = \"I'm joining a new startup called Co1t today. Could you help me write a one-sentence introduction message to my teammates.\"\n",
        "\n",
        "# Generate the response\n",
        "response = co.chat(model=\"command-r-plus-08-2024\",\n",
        "                   messages=[{\"role\": \"user\", \"content\": message}])\n",
        "\n",
        "print(response.message.content[0].text)\n"
      ],
      "metadata": {
        "colab": {
          "base_uri": "https://localhost:8080/"
        },
        "id": "R_lDxRlA0_dr",
        "outputId": "3fdfc03b-dc7c-4498-8362-d63bc658965e"
      },
      "execution_count": null,
      "outputs": [
        {
          "output_type": "stream",
          "name": "stdout",
          "text": [
            "\"Excited to join the team at Co1t, I'm [Your Name], a [Your Role/Position], looking forward to contributing my skills and collaborating with this talented group to drive innovation and success.\"\n"
          ]
        }
      ]
    },
    {
      "cell_type": "code",
      "source": [
        "# Add the user message\n",
        "message = \"I like learning about the industrial revolution and how it shapes the modern world. How I can introduce myself in five words or less.\"\n",
        "\n",
        "# Generate the response multiple times by specifying a low temperature value\n",
        "for idx in range(3):\n",
        "    response = co.chat(model=\"command-r-plus-08-2024\",\n",
        "                    messages=[{\"role\": \"user\", \"content\": message}],\n",
        "                    temperature=0)\n",
        "\n",
        "    print(f\"{idx+1}: {response.message.content[0].text}\\n\")\n"
      ],
      "metadata": {
        "colab": {
          "base_uri": "https://localhost:8080/"
        },
        "id": "ucfe4z-R1LZ7",
        "outputId": "05885e35-9707-4cd3-d65d-837d1ff4bd8c"
      },
      "execution_count": null,
      "outputs": [
        {
          "output_type": "stream",
          "name": "stdout",
          "text": [
            "1: History buff, Industrial Revolution enthusiast.\n",
            "\n",
            "2: History buff, Industrial Revolution enthusiast.\n",
            "\n",
            "3: History buff, curious about industrialization.\n",
            "\n"
          ]
        }
      ]
    },
    {
      "cell_type": "code",
      "source": [
        "# Add the user message\n",
        "message = \"I like learning about the industrial revolution and how it shapes the modern world. How I can introduce myself in five words or less.\"\n",
        "\n",
        "# Generate the response multiple times by specifying a low temperature value\n",
        "for idx in range(3):\n",
        "    response = co.chat(model=\"command-r-plus-08-2024\",\n",
        "                    messages=[{\"role\": \"user\", \"content\": message}],\n",
        "                    temperature=1)\n",
        "\n",
        "    print(f\"{idx+1}: {response.message.content[0].text}\\n\")\n"
      ],
      "metadata": {
        "colab": {
          "base_uri": "https://localhost:8080/"
        },
        "id": "VDH8WMMB1YNZ",
        "outputId": "804446ba-bf43-472c-ee49-ab0526e7df0c"
      },
      "execution_count": null,
      "outputs": [
        {
          "output_type": "stream",
          "name": "stdout",
          "text": [
            "1: \"History buff, Industrial Revolution enthusiast.\"\n",
            "\n",
            "2: Revolutionary enthusiast, exploring history's impact.\n",
            "\n",
            "3: \"Revolutionary enthusiast, shaping modern history.\"\n",
            "\n"
          ]
        }
      ]
    },
    {
      "cell_type": "code",
      "source": [
        "# Add the user message\n",
        "user_input = \"Why can't I access the server? Is it a permissions issue?\"\n",
        "message = f\"\"\"Create an IT ticket for the following user request. Generate a JSON object.\n",
        "{user_input}\"\"\"\n",
        "\n",
        "# Generate the response multiple times by adding the JSON schema\n",
        "response = co.chat(\n",
        "  model=\"command-r-plus-08-2024\",\n",
        "  messages=[{\"role\": \"user\", \"content\": message}],\n",
        "  response_format={\n",
        "    \"type\": \"json_object\",\n",
        "    \"schema\": {\n",
        "      \"type\": \"object\",\n",
        "      \"required\": [\"title\", \"category\", \"status\"],\n",
        "      \"properties\": {\n",
        "        \"title\": { \"type\": \"string\"},\n",
        "        \"category\": { \"type\" : \"string\", \"enum\" : [\"access\", \"software\"]},\n",
        "        \"status\": { \"type\" : \"string\" , \"enum\" : [\"open\", \"closed\"]}\n",
        "      }\n",
        "    }\n",
        "  },\n",
        ")\n",
        "\n",
        "json_object = json.loads(response.message.content[0].text)\n",
        "\n",
        "print(json_object)\n"
      ],
      "metadata": {
        "colab": {
          "base_uri": "https://localhost:8080/"
        },
        "id": "CWbR2lJ71yhV",
        "outputId": "74b373ac-1e75-4549-b100-448f3e57563a"
      },
      "execution_count": null,
      "outputs": [
        {
          "output_type": "stream",
          "name": "stdout",
          "text": [
            "{'title': 'Server Access Issue', 'category': 'access', 'status': 'open'}\n"
          ]
        }
      ]
    },
    {
      "cell_type": "code",
      "source": [
        "# Add the user message\n",
        "message = \"I'm joining a new startup called Co1t today. Could you help me write a one-sentence introduction message to my teammates.\"\n",
        "\n",
        "# Generate the response by streaming it\n",
        "response = co.chat_stream(model=\"command-r-plus-08-2024\",\n",
        "                          messages=[{\"role\": \"user\", \"content\": message}])\n",
        "\n",
        "for event in response:\n",
        "    if event:\n",
        "        if event.type == \"content-delta\":\n",
        "            print(event.delta.message.content.text, end=\"\")\n"
      ],
      "metadata": {
        "colab": {
          "base_uri": "https://localhost:8080/"
        },
        "id": "Dd-XkoyY2twn",
        "outputId": "070f52c1-109a-4aed-e658-ec2fa11c4461"
      },
      "execution_count": null,
      "outputs": [
        {
          "output_type": "stream",
          "name": "stdout",
          "text": [
            "\"Excited to join the team at Co1t, I'm [Your Name], a [Your Role], passionate about [Your Interest/Expertise] and looking forward to contributing to the company's success.\""
          ]
        }
      ]
    }
  ]
}